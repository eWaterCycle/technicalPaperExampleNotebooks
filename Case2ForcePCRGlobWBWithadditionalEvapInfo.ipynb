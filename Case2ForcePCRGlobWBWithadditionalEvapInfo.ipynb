{
 "cells": [
  {
   "cell_type": "markdown",
   "metadata": {},
   "source": [
    "![image](https://www.ewatercycle.org/assets/logo.png)"
   ]
  },
  {
   "cell_type": "markdown",
   "metadata": {},
   "source": [
    "## Case study 2: Replace internal evaporation module of PCRGlobWB2.0 with external data source\n",
    "This notebooks demonstrates how to use eWaterCycle to 'interfere' in a model. Every timestep, the evaporation of PCRGlobWB is 'corrected' to reflect the evaporation as measured by FLuxnet data. In this way, the model is forced by both precipitation and evaporation. Since we are only using one (point) measurement as 'the evaporation' of the entire basin, this (of course) leads to a rather different prediction for discharge. Which one is 'better' is, as always, in the eye of the beholder."
   ]
  },
  {
   "cell_type": "markdown",
   "metadata": {},
   "source": [
    "## Import statements\n",
    "We'll be using the following modules"
   ]
  },
  {
   "cell_type": "code",
   "execution_count": 1,
   "metadata": {},
   "outputs": [
    {
     "name": "stderr",
     "output_type": "stream",
     "text": [
      "/mnt/apps/conda/envs/ewatercycle/lib/python3.7/site-packages/esmvalcore/experimental/_warnings.py:19: UserWarning: \n",
      "  Thank you for trying out the new ESMValCore API.\n",
      "  Note that this API is experimental and may be subject to change.\n",
      "  More info: https://github.com/ESMValGroup/ESMValCore/issues/498\n",
      "/mnt/apps/conda/envs/ewatercycle/lib/python3.7/site-packages/esmvalcore/experimental/config/_config_validators.py:254: ESMValToolDeprecationWarning: `write_plots` will be removed in 2.4.0.\n",
      "/mnt/apps/conda/envs/ewatercycle/lib/python3.7/site-packages/esmvalcore/experimental/config/_config_validators.py:255: ESMValToolDeprecationWarning: `write_netcdf` will be removed in 2.4.0.\n",
      "/mnt/apps/conda/envs/ewatercycle/lib/python3.7/site-packages/esmvalcore/experimental/config/_validated_config.py:81: MissingConfigParameter: `drs` is not defined (https://docs.esmvaltool.org/projects/ESMValCore/en/latest/quickstart/configure.html)\n",
      "/mnt/apps/conda/envs/ewatercycle/lib/python3.7/site-packages/esmvalcore/experimental/config/_validated_config.py:81: MissingConfigParameter: `rootpath` is not defined (https://docs.esmvaltool.org/projects/ESMValCore/en/latest/quickstart/configure.html)\n"
     ]
    }
   ],
   "source": [
    "# Calculations and plotting\n",
    "import matplotlib.pyplot as plt\n",
    "import numpy as np\n",
    "import pandas as pd\n",
    "import xarray as xr\n",
    "\n",
    "# Cartography (drawing maps)\n",
    "from cartopy import crs, feature as cfeature\n",
    "\n",
    "# eWaterCycle specific\n",
    "from ewatercycle import CFG\n",
    "from ewatercycle.models import PCRGlobWB\n",
    "from ewatercycle.observation.grdc import get_grdc_data\n",
    "from ewatercycle.analysis import hydrograph\n",
    "\n",
    "CFG.load_from_file(\"~/ewatercycle-config.yaml\")"
   ]
  },
  {
   "cell_type": "markdown",
   "metadata": {},
   "source": [
    "## List of files created for this experiment\n",
    "\n",
    "### for PCRGlobWB2.0\n",
    "\n",
    "- `merrimack_05min_era5.ini` This file is identical to the file with the same name used in the big comparison study. The only difference is that the time period (variables startTime and endTime) have been set to 2002-01-01 and 2002-12-31 respectivly. \n",
    "\n"
   ]
  },
  {
   "cell_type": "markdown",
   "metadata": {},
   "source": [
    "## Settings and parameters to run this experiment\n",
    "The settings below are seperated in settings that 'belong' to the experiment"
   ]
  },
  {
   "cell_type": "code",
   "execution_count": 2,
   "metadata": {},
   "outputs": [],
   "source": [
    "input_data = \"/mnt/data/examples/technical_paper/pcr-globwb/input\"\n",
    "settings_file = \"settingFiles/merrimack_05min_era5.ini\"\n",
    "\n",
    "grdc_station_id = '4147380'\n",
    "grdc_latitude = 42.6459\n",
    "grdc_longitude = -71.2984\n",
    "\n",
    "# Determined earlier in an exploratory experiment\n",
    "model_latitude = 42.63\n",
    "model_longitude = -71.29"
   ]
  },
  {
   "cell_type": "markdown",
   "metadata": {},
   "source": [
    "## Import GRDC observations\n",
    "\n",
    "We will use GRDC station data to verify the model output. \n",
    "Read the GRDC data for the period of the experiment, for the station given above. If you are not on jupyter.ewatercycle.org or cartesius, download the GRDC https://www.bafg.de/GRDC/EN/02_srvcs/21_tmsrs/riverdischarge_node.html and set the directory below in GRDC_DATA_HOME env var."
   ]
  },
  {
   "cell_type": "code",
   "execution_count": 3,
   "metadata": {},
   "outputs": [
    {
     "data": {
      "text/html": [
       "<div>\n",
       "<style scoped>\n",
       "    .dataframe tbody tr th:only-of-type {\n",
       "        vertical-align: middle;\n",
       "    }\n",
       "\n",
       "    .dataframe tbody tr th {\n",
       "        vertical-align: top;\n",
       "    }\n",
       "\n",
       "    .dataframe thead th {\n",
       "        text-align: right;\n",
       "    }\n",
       "</style>\n",
       "<table border=\"1\" class=\"dataframe\">\n",
       "  <thead>\n",
       "    <tr style=\"text-align: right;\">\n",
       "      <th></th>\n",
       "      <th>GRDC</th>\n",
       "    </tr>\n",
       "    <tr>\n",
       "      <th>time</th>\n",
       "      <th></th>\n",
       "    </tr>\n",
       "  </thead>\n",
       "  <tbody>\n",
       "    <tr>\n",
       "      <th>2002-01-01</th>\n",
       "      <td>56.067</td>\n",
       "    </tr>\n",
       "    <tr>\n",
       "      <th>2002-01-02</th>\n",
       "      <td>54.085</td>\n",
       "    </tr>\n",
       "    <tr>\n",
       "      <th>2002-01-03</th>\n",
       "      <td>48.988</td>\n",
       "    </tr>\n",
       "    <tr>\n",
       "      <th>2002-01-04</th>\n",
       "      <td>50.121</td>\n",
       "    </tr>\n",
       "    <tr>\n",
       "      <th>2002-01-05</th>\n",
       "      <td>47.572</td>\n",
       "    </tr>\n",
       "  </tbody>\n",
       "</table>\n",
       "</div>"
      ],
      "text/plain": [
       "              GRDC\n",
       "time              \n",
       "2002-01-01  56.067\n",
       "2002-01-02  54.085\n",
       "2002-01-03  48.988\n",
       "2002-01-04  50.121\n",
       "2002-01-05  47.572"
      ]
     },
     "execution_count": 3,
     "metadata": {},
     "output_type": "execute_result"
    }
   ],
   "source": [
    "# on Cartesius, data_home = '/projects/0/wtrcycle/GRDC/GRDC_GCOSGTN-H_27_03_2019'\n",
    "observations = get_grdc_data(grdc_station_id, start_date='2002-01-01', end_date='2002-12-31', data_home='/mnt/data/grdc/dailies')\n",
    "discharge_data = observations.to_dataframe().rename(columns = {'streamflow': 'GRDC'})\n",
    "discharge_data.head()"
   ]
  },
  {
   "cell_type": "code",
   "execution_count": 4,
   "metadata": {},
   "outputs": [
    {
     "data": {
      "text/html": [
       "<div>\n",
       "<style scoped>\n",
       "    .dataframe tbody tr th:only-of-type {\n",
       "        vertical-align: middle;\n",
       "    }\n",
       "\n",
       "    .dataframe tbody tr th {\n",
       "        vertical-align: top;\n",
       "    }\n",
       "\n",
       "    .dataframe thead th {\n",
       "        text-align: right;\n",
       "    }\n",
       "</style>\n",
       "<table border=\"1\" class=\"dataframe\">\n",
       "  <thead>\n",
       "    <tr style=\"text-align: right;\">\n",
       "      <th></th>\n",
       "      <th>GRDC</th>\n",
       "      <th>reference</th>\n",
       "      <th>experiment</th>\n",
       "    </tr>\n",
       "    <tr>\n",
       "      <th>time</th>\n",
       "      <th></th>\n",
       "      <th></th>\n",
       "      <th></th>\n",
       "    </tr>\n",
       "  </thead>\n",
       "  <tbody>\n",
       "    <tr>\n",
       "      <th>2002-01-01</th>\n",
       "      <td>56.067</td>\n",
       "      <td>NaN</td>\n",
       "      <td>NaN</td>\n",
       "    </tr>\n",
       "    <tr>\n",
       "      <th>2002-01-02</th>\n",
       "      <td>54.085</td>\n",
       "      <td>NaN</td>\n",
       "      <td>NaN</td>\n",
       "    </tr>\n",
       "    <tr>\n",
       "      <th>2002-01-03</th>\n",
       "      <td>48.988</td>\n",
       "      <td>NaN</td>\n",
       "      <td>NaN</td>\n",
       "    </tr>\n",
       "    <tr>\n",
       "      <th>2002-01-04</th>\n",
       "      <td>50.121</td>\n",
       "      <td>NaN</td>\n",
       "      <td>NaN</td>\n",
       "    </tr>\n",
       "    <tr>\n",
       "      <th>2002-01-05</th>\n",
       "      <td>47.572</td>\n",
       "      <td>NaN</td>\n",
       "      <td>NaN</td>\n",
       "    </tr>\n",
       "  </tbody>\n",
       "</table>\n",
       "</div>"
      ],
      "text/plain": [
       "              GRDC  reference  experiment\n",
       "time                                     \n",
       "2002-01-01  56.067        NaN         NaN\n",
       "2002-01-02  54.085        NaN         NaN\n",
       "2002-01-03  48.988        NaN         NaN\n",
       "2002-01-04  50.121        NaN         NaN\n",
       "2002-01-05  47.572        NaN         NaN"
      ]
     },
     "execution_count": 4,
     "metadata": {},
     "output_type": "execute_result"
    }
   ],
   "source": [
    "# Add columns for the data and fill them with NaN.\n",
    "# We will add data to these columns as we run the model experiments\n",
    "\n",
    "discharge_data['reference'] = np.nan\n",
    "discharge_data['experiment'] = np.nan\n",
    "discharge_data.head()"
   ]
  },
  {
   "cell_type": "markdown",
   "metadata": {},
   "source": [
    "## Setting up the model objects"
   ]
  },
  {
   "cell_type": "code",
   "execution_count": 5,
   "metadata": {},
   "outputs": [
    {
     "name": "stdout",
     "output_type": "stream",
     "text": [
      "Created working directory: /mnt/home/user37/technicalPaperExampleNotebooks/pcrglobwb_20210422_132152\n",
      "Created config file /mnt/home/user37/technicalPaperExampleNotebooks/pcrglobwb_20210422_132152/pcrglobwb_ewatercycle.ini with inputDir /mnt/data/examples/technical_paper/pcr-globwb/input and outputDir /mnt/home/user37/technicalPaperExampleNotebooks/pcrglobwb_20210422_132152.\n",
      "Started model container with working directory /mnt/home/user37/technicalPaperExampleNotebooks/pcrglobwb_20210422_132152 and access to the following input directories:\n",
      "/mnt/data/examples/technical_paper/pcr-globwb/input.\n"
     ]
    }
   ],
   "source": [
    "# Start up a container for PCRGlob for the reference run and initialize using the setting file\n",
    "reference = PCRGlobWB()\n",
    "reference_config, reference_dir = reference.setup(input_dir=input_data, cfg_file=settings_file)\n",
    "reference.initialize(str(reference_config))"
   ]
  },
  {
   "cell_type": "code",
   "execution_count": 6,
   "metadata": {},
   "outputs": [
    {
     "name": "stdout",
     "output_type": "stream",
     "text": [
      "Created working directory: /mnt/home/user37/technicalPaperExampleNotebooks/pcrglobwb_20210422_132514\n",
      "Created config file /mnt/home/user37/technicalPaperExampleNotebooks/pcrglobwb_20210422_132514/pcrglobwb_ewatercycle.ini with inputDir /mnt/data/examples/technical_paper/pcr-globwb/input and outputDir /mnt/home/user37/technicalPaperExampleNotebooks/pcrglobwb_20210422_132514.\n",
      "Started model container with working directory /mnt/home/user37/technicalPaperExampleNotebooks/pcrglobwb_20210422_132514 and access to the following input directories:\n",
      "/mnt/data/examples/technical_paper/pcr-globwb/input.\n"
     ]
    }
   ],
   "source": [
    "# Start up a container for PCRGlob for the experiment run and initialize using the setting file\n",
    "experiment = PCRGlobWB()\n",
    "experiment_config, experiment_dir = experiment.setup(input_dir=input_data, cfg_file=settings_file)\n",
    "experiment.initialize(str(experiment_config))"
   ]
  },
  {
   "cell_type": "markdown",
   "metadata": {},
   "source": [
    "# Importing evaporation data from Fluxnet"
   ]
  },
  {
   "cell_type": "code",
   "execution_count": 7,
   "metadata": {},
   "outputs": [],
   "source": [
    "# Read the csv file downloaded from [TODO]\n",
    "fluxnetData = pd.read_csv('FLX_US-Ha1_FLUXNET2015_SUBSET_DD_1991-2012_1-4.csv')\n",
    "fluxnetData['Datetime'] = pd.to_datetime(fluxnetData['TIMESTAMP'], format='%Y%m%d')\n",
    "fluxnetData = fluxnetData.set_index('Datetime')\n",
    "\n",
    "# Select evaporation measured as latent heat flux from fluxnetdata\n",
    "# and rewrite evaporation from latent heat flux to m/day\n",
    "fluxnet_evaporation = fluxnetData['LE_F_MDS'] / (2.43 * 1000000) * 6772 ** 2 / (3600 * 24) "
   ]
  },
  {
   "cell_type": "markdown",
   "metadata": {},
   "source": [
    "We will apply a correction to the model state based on this fluxnet data. This is done by calling the function below."
   ]
  },
  {
   "cell_type": "code",
   "execution_count": 8,
   "metadata": {},
   "outputs": [],
   "source": [
    "def apply_fluxnet_correction(model, fluxnet_evap):\n",
    "    \"\"\"Adjust soil moisture and channel storage based on measured evaporation.\"\"\"\n",
    "    \n",
    "    # Read out model data\n",
    "    land_surface_evaporation = model.get_value_as_xarray('land_surface_evaporation')\n",
    "    bare_soil_evaporation = model.get_value_as_xarray('bare_soil_evaporation')\n",
    "    upper_soil_storage = model.get_value_as_xarray('upper_soil_storage')\n",
    "    upper_soil_saturation_degree = model.get_value_as_xarray('upper_soil_saturation_degree')\n",
    "    channel_storage = model.get_value_as_xarray('channel_storage')\n",
    "\n",
    "    # Determine a correction factor by comparing mean land surface evaporation to fluxnet evaporation\n",
    "    time = land_surface_evaporation.time.dt.strftime('%Y-%m-%d').item()\n",
    "    correction_factor = (fluxnet_evap[time] / land_surface_evaporation.mean()).item()\n",
    "\n",
    "    # Apply the correction factor to bare soil evaporation in the model\n",
    "    corrected_bare_soil_evaporation = bare_soil_evaporation * correction_factor\n",
    "    evaporation_adjustment = corrected_bare_soil_evaporation - bare_soil_evaporation\n",
    "\n",
    "    # Apply the same absolute correction to upper soil storage \n",
    "    corrected_upper_soil_storage = upper_soil_storage - evaporation_adjustment # PK: this was +, but I think it should be -\n",
    "\n",
    "    # Determine whether there is an excess or deficit\n",
    "    maximum_upper_soil_storage =  (1 / upper_soil_saturation_degree) * upper_soil_storage\n",
    "    excess = corrected_upper_soil_storage > maximum_upper_soil_storage\n",
    "    deficit = corrected_upper_soil_storage < 0\n",
    "\n",
    "    # Where there is an excess, water will be added to the channel\n",
    "    updated_channel_storage = channel_storage + (corrected_upper_soil_storage - maximum_upper_soil_storage)\n",
    "    channel_storage = updated_channel_storage.where(excess, other=channel_storage)\n",
    "    corrected_upper_soil_storage = maximum_upper_soil_storage.where(excess, other=corrected_upper_soil_storage)\n",
    "\n",
    "    # Where there is a deficit, water will be taken from the channel\n",
    "    updated_channel_storage = channel_storage + corrected_upper_soil_storage  # (note that the last term is always negative here)\n",
    "    channel_storage = updated_channel_storage.where(deficit, other=channel_storage)\n",
    "    corrected_upper_soil_storage = corrected_upper_soil_storage.where(~deficit, other=0)\n",
    "    \n",
    "    # Convert storage to saturation\n",
    "    corrected_upper_soil_saturation_degree = corrected_upper_soil_storage / maximum_upper_soil_storage\n",
    "    corrected_upper_soil_saturation_degree = corrected_upper_soil_saturation_degree.fillna(upper_soil_saturation_degree)\n",
    "    \n",
    "    # Update the running model\n",
    "    model.set_value('channel_storage', channel_storage.values.flatten())\n",
    "    model.set_value('upper_soil_saturation_degree', corrected_upper_soil_saturation_degree.values.flatten())"
   ]
  },
  {
   "cell_type": "markdown",
   "metadata": {},
   "source": [
    "## Running the experiment\n",
    "With all pieces in place, we can now start to run the actual experiment. Since both models (reference and epxeriment) do not interact, they can be run in seperate loops and (ideally) this should be done in parallel."
   ]
  },
  {
   "cell_type": "code",
   "execution_count": 9,
   "metadata": {},
   "outputs": [
    {
     "name": "stdout",
     "output_type": "stream",
     "text": [
      "Running Reference Model Run\n",
      "Doneent time: 2002-12-31\n"
     ]
    }
   ],
   "source": [
    "# TODO (wish): this cell and the experiment cell below have long runtimes, but are independent. Would be awesome of we could run in parallel. \n",
    "# https://github.com/eWaterCycle/ewatercycle/issues/78\n",
    "\n",
    "print(f'Running Reference Model Run', flush=True)\n",
    "while reference.time < reference.end_time:\n",
    "    \n",
    "    # Update the model (takes a few seconds per timestep)\n",
    "    reference.update() \n",
    "    \n",
    "    # Track discharge at station location\n",
    "    discharge = reference.get_value_as_xarray('discharge')\n",
    "    discharge_at_station = discharge.sel(latitude=model_latitude, longitude=model_longitude, method='nearest')\n",
    "    \n",
    "    # Add the discharge to the dataframe\n",
    "    time = discharge.time.dt.strftime('%Y-%m-%d').item()  # needs to match the time format of the dataframe\n",
    "    discharge_data['reference'][time] = discharge_at_station.values\n",
    "    \n",
    "    # Show progress\n",
    "    print(f'Current time: {time}', end=\"\\r\")  # \"\\r\" clears the output before printing the next timestamp\n",
    "          \n",
    "print('Done')"
   ]
  },
  {
   "cell_type": "code",
   "execution_count": 10,
   "metadata": {},
   "outputs": [
    {
     "name": "stdout",
     "output_type": "stream",
     "text": [
      "Running Experiment Model Run\n",
      "Doneent time: 2002-12-31\n"
     ]
    }
   ],
   "source": [
    "print(f'Running Experiment Model Run', flush=True)\n",
    "while experiment.time < experiment.end_time:\n",
    "    \n",
    "    # Update the model (takes a few seconds per timestep)\n",
    "    experiment.update()\n",
    "    \n",
    "    # Apply a correction based on fluxnet data\n",
    "    apply_fluxnet_correction(experiment, fluxnet_evaporation)\n",
    "    \n",
    "    # Track discharge at station location\n",
    "    discharge = experiment.get_value_as_xarray('discharge')\n",
    "    discharge_at_station = discharge.sel(latitude=model_latitude, longitude=model_longitude, method='nearest')\n",
    "\n",
    "    # Add the discharge to the dataframe\n",
    "    time = discharge.time.dt.strftime('%Y-%m-%d').item()  # needs to match the time format of the dataframe\n",
    "    discharge_data['experiment'][time] = discharge_at_station.values\n",
    "    \n",
    "    # Show progress\n",
    "    print(f'Current time: {time}', end=\"\\r\")  # \"\\r\" clears the output before printing the next timestamp\n",
    "          \n",
    "print('Done')"
   ]
  },
  {
   "cell_type": "markdown",
   "metadata": {},
   "source": [
    "## Plot the results"
   ]
  },
  {
   "cell_type": "markdown",
   "metadata": {},
   "source": [
    "Show a map of the final time step:"
   ]
  },
  {
   "cell_type": "code",
   "execution_count": 17,
   "metadata": {},
   "outputs": [
    {
     "ename": "NameError",
     "evalue": "name 'reference' is not defined",
     "output_type": "error",
     "traceback": [
      "\u001b[0;31m---------------------------------------------------------------------------\u001b[0m",
      "\u001b[0;31mNameError\u001b[0m                                 Traceback (most recent call last)",
      "\u001b[0;32m<ipython-input-17-1d9359f03281>\u001b[0m in \u001b[0;36m<module>\u001b[0;34m\u001b[0m\n\u001b[1;32m      4\u001b[0m \u001b[0;34m\u001b[0m\u001b[0m\n\u001b[1;32m      5\u001b[0m \u001b[0;31m# Plotting the model field is a one-liner\u001b[0m\u001b[0;34m\u001b[0m\u001b[0;34m\u001b[0m\u001b[0;34m\u001b[0m\u001b[0m\n\u001b[0;32m----> 6\u001b[0;31m \u001b[0mreference\u001b[0m\u001b[0;34m.\u001b[0m\u001b[0mget_value_as_xarray\u001b[0m\u001b[0;34m(\u001b[0m\u001b[0;34m\"discharge\"\u001b[0m\u001b[0;34m)\u001b[0m\u001b[0;34m.\u001b[0m\u001b[0mplot\u001b[0m\u001b[0;34m(\u001b[0m\u001b[0max\u001b[0m\u001b[0;34m=\u001b[0m\u001b[0max\u001b[0m\u001b[0;34m,\u001b[0m \u001b[0mcmap\u001b[0m\u001b[0;34m=\u001b[0m\u001b[0;34m'GnBu'\u001b[0m\u001b[0;34m,\u001b[0m \u001b[0mrobust\u001b[0m\u001b[0;34m=\u001b[0m\u001b[0;32mTrue\u001b[0m\u001b[0;34m)\u001b[0m\u001b[0;34m\u001b[0m\u001b[0;34m\u001b[0m\u001b[0m\n\u001b[0m\u001b[1;32m      7\u001b[0m \u001b[0;34m\u001b[0m\u001b[0m\n\u001b[1;32m      8\u001b[0m \u001b[0;31m# Also plot the station location\u001b[0m\u001b[0;34m\u001b[0m\u001b[0;34m\u001b[0m\u001b[0;34m\u001b[0m\u001b[0m\n",
      "\u001b[0;31mNameError\u001b[0m: name 'reference' is not defined"
     ]
    },
    {
     "data": {
      "image/png": "[encoded data removed]",
      "text/plain": [
       "<Figure size 720x480 with 1 Axes>"
      ]
     },
     "metadata": {
      "needs_background": "light"
     },
     "output_type": "display_data"
    }
   ],
   "source": [
    "# Use matplotlib to make the figure slightly nicer\n",
    "fig = plt.figure(dpi=120)\n",
    "ax = fig.add_subplot(111, projection=crs.PlateCarree())\n",
    "\n",
    "# Plotting the model field is a one-liner\n",
    "reference.get_value_as_xarray(\"discharge\").plot(ax=ax, cmap='GnBu', robust=True)\n",
    "\n",
    "# Also plot the station location\n",
    "ax.scatter(grdc_longitude, grdc_latitude, s=25, c='b')\n",
    "ax.scatter(model_longitude, model_latitude, s=25, c='r')\n",
    "\n",
    "# Overlay ocean and coastines\n",
    "ax.add_feature(cfeature.OCEAN, zorder=2)\n",
    "ax.add_feature(cfeature.RIVERS, zorder=2, color='k')\n",
    "ax.coastlines(zorder=3)\n",
    "\n",
    "fig.savefig(f'pcrglobwb_RolfCase2_discharge_map', bbox_inches='tight', dpi=300)"
   ]
  },
  {
   "cell_type": "markdown",
   "metadata": {},
   "source": [
    "Plot the time series of discharge that we have traced"
   ]
  },
  {
   "cell_type": "code",
   "execution_count": 16,
   "metadata": {},
   "outputs": [
    {
     "data": {
      "text/plain": [
       "(<Figure size 720x720 with 2 Axes>,\n",
       " (<AxesSubplot:title={'center':'Hydrograph'}, xlabel='time', ylabel='Discharge (m$^3$ s$^{-1}$)'>,\n",
       "  <AxesSubplot:>))"
      ]
     },
     "execution_count": 16,
     "metadata": {},
     "output_type": "execute_result"
    },
    {
     "data": {
      "image/png": "[encoded data removed]",
      "text/plain": [
       "<Figure size 720x720 with 2 Axes>"
      ]
     },
     "metadata": {
      "needs_background": "light"
     },
     "output_type": "display_data"
    }
   ],
   "source": [
    "hydrograph(discharge_data, reference='GRDC')"
   ]
  },
  {
   "cell_type": "markdown",
   "metadata": {},
   "source": [
    "### Clean up after the model run\n",
    "The models have to be 'finalized', which deletes any temporary files and the containers have to be shut down."
   ]
  },
  {
   "cell_type": "code",
   "execution_count": 13,
   "metadata": {},
   "outputs": [],
   "source": [
    "reference.finalize()\n",
    "experiment.finalize()\n",
    "\n",
    "del reference\n",
    "del experiment"
   ]
  }
 ],
 "metadata": {
  "kernelspec": {
   "display_name": "Python 3",
   "language": "python",
   "name": "python3"
  },
  "language_info": {
   "codemirror_mode": {
    "name": "ipython",
    "version": 3
   },
   "file_extension": ".py",
   "mimetype": "text/x-python",
   "name": "python",
   "nbconvert_exporter": "python",
   "pygments_lexer": "ipython3",
   "version": "3.7.7"
  }
 },
 "nbformat": 4,
 "nbformat_minor": 4
}
