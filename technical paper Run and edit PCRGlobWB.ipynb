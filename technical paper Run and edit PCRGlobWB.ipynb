{
 "cells": [
  {
   "cell_type": "markdown",
   "metadata": {},
   "source": [
    "## Stuff needed to get things going\n",
    "### TODO This should reduce to a few lines of common imports"
   ]
  },
  {
   "cell_type": "code",
   "execution_count": 1,
   "metadata": {},
   "outputs": [],
   "source": [
    "from os import environ, remove\n",
    "from configparser import ConfigParser\n",
    "from glob import glob\n",
    "from os.path import abspath\n",
    "\n",
    "import numpy as np\n",
    "import pandas as pd\n",
    "import xarray as xr\n",
    "import matplotlib.pyplot as plt\n",
    "from cartopy import crs\n",
    "from cftime import num2date\n",
    "\n",
    "import hydrostats.metrics as hm\n",
    "\n",
    "import pickle\n",
    "\n",
    "from grpc4bmi.bmi_client_docker import BmiClientDocker\n",
    "from ewatercycle.observation.grdc import get_grdc_data"
   ]
  },
  {
   "cell_type": "markdown",
   "metadata": {},
   "source": [
    "### TODO functions needed to port data from one format / library to another. This should become part of the imports above"
   ]
  },
  {
   "cell_type": "code",
   "execution_count": 2,
   "metadata": {},
   "outputs": [],
   "source": [
    "def var_to_xarray(model, variable):\n",
    "    # Get grid properties from model (x = latitude !!)\n",
    "    # could be speedup, lots of bmi calls are done here that dont change between updates\n",
    "    shape = model.get_grid_shape(model.get_var_grid(variable))\n",
    "    lat = model.get_grid_x(model.get_var_grid(variable))\n",
    "    lon = model.get_grid_y(model.get_var_grid(variable))\n",
    "    time = num2date(model.get_current_time(), model.get_time_units())\n",
    "\n",
    "    # Get model data for variable at current timestep\n",
    "    data = model.get_value(variable)\n",
    "    data = np.reshape(data, shape)\n",
    "\n",
    "    # Create xarray object\n",
    "    da = xr.DataArray(data, \n",
    "                      coords = {'longitude': lon, 'latitude': lat, 'time': time}, \n",
    "                      dims = ['latitude', 'longitude'],\n",
    "                      name = variable,\n",
    "                      attrs = {'units': model.get_var_units(variable)}\n",
    "                     )\n",
    "\n",
    "    # Masked invalid values on return array:\n",
    "    return da.where(da != -999)\n",
    "\n",
    "def lat_lon_to_closest_variable_indices(model, variable, lats, lons):\n",
    "    \n",
    "    #get shape of model grid and lat-lon coordinates of grid\n",
    "    shape = model.get_grid_shape(model.get_var_grid(variable))\n",
    "    latModel = model.get_grid_x(model.get_var_grid(variable))\n",
    "    lonModel = model.get_grid_y(model.get_var_grid(variable))\n",
    "    nx = len(latModel)\n",
    "    \n",
    "    #for each coordinate given, determine where in the grid they fall and \n",
    "    #calculate 1D indeces\n",
    "    output=[]\n",
    "    \n",
    "    for [lat,lon] in [lats,lons]:\n",
    "        idx = np.abs(latModel - lat).argmin()\n",
    "        idy = np.abs(lonModel - lon).argmin()\n",
    "        output.append(idx+nx*idy) \n",
    "\n",
    "    return np.array(output)\n",
    "\n",
    "def lat_lon_boundingbox_to_variable_indices(model, variable, latMin, latMax, lonMin, lonMax):\n",
    "    #get shape of model grid and lat-lon coordinates of grid\n",
    "    shape = model.get_grid_shape(model.get_var_grid(variable))\n",
    "    latModel = model.get_grid_x(model.get_var_grid(variable))\n",
    "    lonModel = model.get_grid_y(model.get_var_grid(variable))\n",
    "    nx = len(latModel)\n",
    "\n",
    "    idx = [i for i,v in enumerate(latModel) if ((v > latMin) and (v < latMax))]\n",
    "    idy = [i for i,v in enumerate(lonModel) if ((v > lonMin) and (v < lonMax))]\n",
    "    \n",
    "    output = []\n",
    "    for x in idx:\n",
    "        for y in idy:\n",
    "            output.append(x + nx*y)\n",
    "    \n",
    "    return np.array(output)\n",
    "    "
   ]
  },
  {
   "cell_type": "markdown",
   "metadata": {
    "tags": [
     "parameters"
    ]
   },
   "source": [
    "# **Settings for GRDC station for final comparison of streamflow**\n",
    "\n",
    "### TODO start and end time should be set for the experiment, currently double in model configuration file and here."
   ]
  },
  {
   "cell_type": "code",
   "execution_count": 3,
   "metadata": {
    "tags": [
     "parameters"
    ]
   },
   "outputs": [],
   "source": [
    "# Settings\n",
    "dstart = '2002-01-01'\n",
    "dend = '2002-12-31'\n",
    "station_id = '6335020' # GRDC station ID\n",
    "basin_name = 'Rhine'"
   ]
  },
  {
   "cell_type": "markdown",
   "metadata": {},
   "source": [
    "# **Pcrglobwb config file settings**\n",
    "Set the pcrglobwb output directory in working directory.                                                                                                                - \n",
    "- outputDir    = ./output\n",
    "\n",
    "Set the input directory map in an absolute path.                                                                                                                      The input forcing and parameter directories and files will be relative to this.\n",
    "- inputDir     = /mnt/data/examples/technical_paper/pcr-globwb/input/\n",
    "\n",
    "### TODO check if forcing_dir is actually used"
   ]
  },
  {
   "cell_type": "code",
   "execution_count": 4,
   "metadata": {
    "tags": [
     "parameters"
    ]
   },
   "outputs": [],
   "source": [
    "# currently global data are available on cartesius\n",
    "input_dir='/mnt/data/examples/technical_paper/pcr-globwb/input/'\n",
    "output_dir_ref='/mnt/home/user4/output'\n",
    "output_dir_exp='/mnt/home/user4/output2'\n",
    "forcing_dir = '/mnt/data/examples/technical_paper/pcr-globwb/input/'\n",
    "\n",
    "setting_file = '/mnt/home/user4/technicalPaperExampleNotebooks/settingFiles/rhine_05min_era5.ini'\n",
    "setting_file_NO_MOSELLE = '/mnt/home/user4/technicalPaperExampleNotebooks/settingFiles/rhine_05min_NO_MOSELLE_era5_check.ini'\n",
    "setting_file_landmask_check = '/mnt/home/user4/technicalPaperExampleNotebooks/settingFiles/rhine_05min_landmask_check.ini'"
   ]
  },
  {
   "cell_type": "markdown",
   "metadata": {},
   "source": [
    "## Some info on files that must be provided for PCRGlobWB\n",
    "Map of clone (must be provided in PCRaster maps) \n",
    "- Spatial resolution and coverage are based on this map:  \n",
    "cloneMap     = global_05min/cloneMaps/rhine_05min.map\n",
    "\n",
    "The area/landmask of interest: \n",
    "If None, area/landmask is limited for cells with ldd value. \n",
    "- landmask     = global_05min/cloneMaps/rhine_05min.map\n",
    "\n",
    "- startTime = 2002-01-01 endTime   = 2002-12-31  Format: YYYY-MM-DD ; The model runs on daily time step. "
   ]
  },
  {
   "cell_type": "markdown",
   "metadata": {},
   "source": [
    "## Experiment starts now: initializing and Running the model\n",
    "First cell creates the model object and starts the container. It also passes the configuration file through the initialize command."
   ]
  },
  {
   "cell_type": "code",
   "execution_count": 5,
   "metadata": {},
   "outputs": [],
   "source": [
    "modelExp = BmiClientDocker(image='ewatercycle/pcrg-grpc4bmi:setters', image_port=55555,\n",
    "\n",
    "                   input_dir=input_dir,\n",
    "\n",
    "                   output_dir=output_dir_exp)\n",
    "\n",
    " \n",
    "\n",
    "modelExp.initialize(setting_file_landmask_check)"
   ]
  },
  {
   "cell_type": "code",
   "execution_count": null,
   "metadata": {},
   "outputs": [],
   "source": [
    "modelExp.update()"
   ]
  },
  {
   "cell_type": "code",
   "execution_count": null,
   "metadata": {},
   "outputs": [],
   "source": [
    "modelExp.finalize()\n",
    "del modelExp"
   ]
  },
  {
   "cell_type": "code",
   "execution_count": null,
   "metadata": {},
   "outputs": [],
   "source": [
    "modelRef = BmiClientDocker(image='ewatercycle/pcrg-grpc4bmi:setters', image_port=55555,\n",
    "\n",
    "                   input_dir=input_dir,\n",
    "\n",
    "                   output_dir=output_dir)\n",
    "\n",
    " \n",
    "\n",
    "modelRef.initialize('/mnt/data/examples/technical_paper/pcr-globwb/input/rhine_05min_era5.ini')"
   ]
  },
  {
   "cell_type": "markdown",
   "metadata": {},
   "source": [
    "### Running the models\n",
    "every timestep, the \"discarge\" variable is stored in \"output\". Since PCRGlobWB is a distributed model, discharge is a map, so xArray is used as data type for storing the output. "
   ]
  },
  {
   "cell_type": "code",
   "execution_count": 6,
   "metadata": {},
   "outputs": [
    {
     "name": "stdout",
     "output_type": "stream",
     "text": [
      "Running pcrglobwb\n",
      "Current time: 2001-12-31 00:00:00\n"
     ]
    }
   ],
   "source": [
    "#Run just one timestep to get the model going\n",
    "outputRef = []\n",
    "outputExp = []\n",
    "time_units = modelExp.get_time_units()\n",
    "print(f'Running pcrglobwb', flush=True)\n",
    "time = num2date(modelExp.get_current_time(), time_units)\n",
    "print(f'Current time: {time}', end=\"\\r\")\n",
    "modelExp.update()\n",
    "outputExp.append(var_to_xarray(modelExp, variable=\"discharge\"))\n",
    "# modelRef.update()\n",
    "# outputRef.append(var_to_xarray(modelRef, variable=\"discharge\"))\n",
    "print('')"
   ]
  },
  {
   "cell_type": "code",
   "execution_count": null,
   "metadata": {},
   "outputs": [],
   "source": [
    "modelExp.finalize()\n",
    "del modelExp"
   ]
  },
  {
   "cell_type": "code",
   "execution_count": null,
   "metadata": {},
   "outputs": [],
   "source": [
    "modelRef.finalize()\n",
    "del modelRef"
   ]
  },
  {
   "cell_type": "code",
   "execution_count": 7,
   "metadata": {},
   "outputs": [
    {
     "data": {
      "text/plain": [
       "<matplotlib.collections.QuadMesh at 0x7fd320090210>"
      ]
     },
     "execution_count": 7,
     "metadata": {},
     "output_type": "execute_result"
    },
    {
     "data": {
      "image/png": "[encoded data removed]",
      "text/plain": [
       "<Figure size 432x288 with 2 Axes>"
      ]
     },
     "metadata": {
      "needs_background": "light"
     },
     "output_type": "display_data"
    }
   ],
   "source": [
    "#check the range of the channel storage \n",
    "var_to_xarray(modelExp, variable='channel_storage').plot()"
   ]
  },
  {
   "cell_type": "code",
   "execution_count": null,
   "metadata": {},
   "outputs": [],
   "source": [
    "#at latlon 50,10 and 47,6 change the channel storage to an absurdly high value\n",
    "\n",
    "#first determine at which indeces in the grid these coordinates are\n",
    "ind = lat_lon_boundingbox_to_variable_indices(modelExp, 'channel_storage', 50,51, 8, 9)\n",
    "print(len(ind))"
   ]
  },
  {
   "cell_type": "code",
   "execution_count": null,
   "metadata": {},
   "outputs": [],
   "source": [
    "#check the values of the channel storage at those points\n",
    "#print(modelExp.get_value_at_indices('channel_storage',ind))\n",
    "\n",
    "#change the value, and check if succesfull\n",
    "modelExp.set_value_at_indices('channel_storage',ind,np.ones(len(ind)) * 3e8)"
   ]
  },
  {
   "cell_type": "code",
   "execution_count": null,
   "metadata": {},
   "outputs": [],
   "source": [
    "modelExp.update()"
   ]
  },
  {
   "cell_type": "code",
   "execution_count": null,
   "metadata": {},
   "outputs": [],
   "source": [
    "var_to_xarray(modelExp, variable = \"channel_storage\").plot()"
   ]
  },
  {
   "cell_type": "code",
   "execution_count": null,
   "metadata": {},
   "outputs": [],
   "source": [
    "print(modelExp.get_value_at_indices('channel_storage',ind))"
   ]
  },
  {
   "cell_type": "code",
   "execution_count": null,
   "metadata": {},
   "outputs": [],
   "source": [
    "channelStorage = modelExp.get_value('channel_storage')\n",
    "print(channelStorage[ind])"
   ]
  },
  {
   "cell_type": "code",
   "execution_count": null,
   "metadata": {},
   "outputs": [],
   "source": [
    "modelExp.set_value('channel_storage',modelExp.get_value('channel_storage') * 2)"
   ]
  },
  {
   "cell_type": "code",
   "execution_count": null,
   "metadata": {},
   "outputs": [],
   "source": [
    "channelStorageNew = modelExp.get_value('channel_storage')\n",
    "print(channelStorageNew[ind])"
   ]
  },
  {
   "cell_type": "code",
   "execution_count": null,
   "metadata": {},
   "outputs": [],
   "source": [
    "modelExp.update()\n",
    "modelRef.update()\n"
   ]
  },
  {
   "cell_type": "code",
   "execution_count": null,
   "metadata": {},
   "outputs": [],
   "source": [
    "print(modelExp.get_value_at_indices('channel_storage',ind))\n",
    "print(modelRef.get_value_at_indices('channel_storage',ind))"
   ]
  },
  {
   "cell_type": "code",
   "execution_count": null,
   "metadata": {},
   "outputs": [],
   "source": [
    "modelExp.get_output_var_names()"
   ]
  },
  {
   "cell_type": "code",
   "execution_count": null,
   "metadata": {},
   "outputs": [],
   "source": [
    "var_to_xarray(modelExp, variable = \"upper_soil_storage\").plot()"
   ]
  },
  {
   "cell_type": "code",
   "execution_count": null,
   "metadata": {},
   "outputs": [],
   "source": [
    "#that doesn't work! Maybe run one timestep and see?"
   ]
  },
  {
   "cell_type": "code",
   "execution_count": null,
   "metadata": {},
   "outputs": [],
   "source": [
    "output = []\n",
    "time_units = model.get_time_units()\n",
    "print(f'Running pcrglobwb', flush=True)\n",
    "while model.get_current_time() < model.get_end_time():\n",
    "    model.set_value_at_indices('channel_storage',ind,np.array(3e8))\n",
    "    time = num2date(model.get_current_time(), time_units)\n",
    "    print(f'Current time: {time}', end=\"\\r\")\n",
    "    model.update()\n",
    "    output.append(var_to_xarray(model, variable=\"discharge\"))\n",
    "print('')\n"
   ]
  },
  {
   "cell_type": "markdown",
   "metadata": {},
   "source": [
    "### cleanup after the model run\n",
    "After the model has run and the output of the experiment is stored, the container should be shut down properly, using the finalize command. \n",
    "\n",
    "### TODO: remove pickle and run entire notebook when done for publication"
   ]
  },
  {
   "cell_type": "code",
   "execution_count": null,
   "metadata": {},
   "outputs": [],
   "source": [
    "modelExp.finalize()\n",
    "modelRef.finalize()"
   ]
  },
  {
   "cell_type": "code",
   "execution_count": null,
   "metadata": {},
   "outputs": [],
   "source": [
    "data  = xr.concat(output, dim='time')"
   ]
  },
  {
   "cell_type": "code",
   "execution_count": null,
   "metadata": {},
   "outputs": [],
   "source": [
    "f = open('modelrunOutputWeird.pckl', 'wb')\n",
    "pickle.dump(data,f)\n"
   ]
  },
  {
   "cell_type": "code",
   "execution_count": null,
   "metadata": {},
   "outputs": [],
   "source": [
    "f.close()"
   ]
  },
  {
   "cell_type": "markdown",
   "metadata": {},
   "source": [
    "# **Import GRDC observations**\n",
    "\n",
    "Read the GRDC data for the period of the experiment, for the station given above. \n",
    "If you are not on jupyter.ewatercycle.org or cartesius, download the GRDC https://www.bafg.de/GRDC/EN/02_srvcs/21_tmsrs/riverdischarge_node.html and set the directory below in GRDC_DATA_HOME env var.\n",
    "\n",
    "### TODO the four lines at the end of the cell should become part of the get_grdc_data function, which (I think) should return a dict."
   ]
  },
  {
   "cell_type": "code",
   "execution_count": null,
   "metadata": {},
   "outputs": [],
   "source": [
    "#on Cartesius:\n",
    "#environ['GRDC_DATA_HOME']= '/projects/0/wtrcycle/GRDC/GRDC_GCOSGTN-H_27_03_2019'\n",
    "\n",
    "#on jupyter.ewatercycle.org\n",
    "environ['GRDC_DATA_HOME']= '/mnt/data/grdc/dailies' \n",
    "\n",
    "observations = get_grdc_data(station_id, start_date=dstart, end_date=dend)\n",
    "grdc_obs = observations.to_dataframe().rename(columns = {'streamflow': 'GRDC'})\n",
    "grdc_lon = observations.attrs['grdc_longitude_in_arc_degree']\n",
    "grdc_lat = observations.attrs['grdc_latitude_in_arc_degree']"
   ]
  },
  {
   "cell_type": "markdown",
   "metadata": {},
   "source": [
    "# Plot the results"
   ]
  },
  {
   "cell_type": "code",
   "execution_count": null,
   "metadata": {},
   "outputs": [],
   "source": [
    "f = open('modelrunOutputTemp.pckl', 'rb')\n",
    "data = pickle.load(f)\n",
    "f.close()"
   ]
  },
  {
   "cell_type": "code",
   "execution_count": null,
   "metadata": {},
   "outputs": [],
   "source": [
    "fig, axs = plt.subplots(1, 1, figsize=(10, 10), dpi=120)\n",
    "\n",
    "data.isel(time=-1).plot(ax=axs, cmap='YlGnBu', robust=True)\n",
    "axs.set_title('test')\n",
    "plt.tight_layout()\n",
    "fig.savefig(f'pcrglobwb_RolfTestRhine_discharge_map', bbox_inches='tight', dpi=300)"
   ]
  },
  {
   "cell_type": "code",
   "execution_count": null,
   "metadata": {},
   "outputs": [],
   "source": [
    "pad=.2\n",
    "\n",
    "# Write data for model output at GRDC location to pandas series,\n",
    "# Use padding and max to correct for GRDC station location error\n",
    "dataAtGRDCLocation = data.sel(longitude=slice(grdc_lon-pad, grdc_lon+pad), \n",
    "                         latitude=slice(grdc_lat-pad, grdc_lat+pad)\n",
    "                        ).max(['longitude', 'latitude']\n",
    "                        ).rename('ERA5'\n",
    "                        ).to_dataframe()\n",
    "\n",
    "dataAtGRDCLocation.index=dataAtGRDCLocation.index.to_datetimeindex()\n"
   ]
  },
  {
   "cell_type": "code",
   "execution_count": null,
   "metadata": {},
   "outputs": [],
   "source": [
    "# Combine timeseries of ERA-Interim, ERA5 and GRDC observations in a pandas dataframe\n",
    "df = pd.concat([dataAtGRDCLocation, grdc_obs],axis = 1)\n",
    "\n",
    "# Note: the data come at different time stamps\n",
    "print(df.head())\n",
    "\n",
    "# For now, interpolating to get similar sets:\n",
    "df = df.fillna(method='ffill').dropna()\n",
    "print(df.head())"
   ]
  },
  {
   "cell_type": "code",
   "execution_count": null,
   "metadata": {},
   "outputs": [],
   "source": [
    "fig, ax = plt.subplots(dpi=120)\n",
    "df.plot(ax=ax)\n",
    "ax.set_ylim(0, df.GRDC.max())\n",
    "ax.set_ylabel('Streamflow (m$^3$ s$^{-1}$)')\n",
    "ax.legend(['PCRGlobWB forced with ERA5','Observations from GRDC'])\n",
    "\n",
    "dataset='ERA5'\n",
    "yloc=0.6\n",
    "ax.text(1.02, yloc, f\"{dataset}:\\n\"\n",
    "        f\"NSE: {hm.nse(df[dataset], df['GRDC']):.2f} \\n\"\n",
    "        f\"KGE (2009): {hm.kge_2009(df[dataset], df['GRDC']):.2f}\\n\"\n",
    "        f\"SA: {hm.sa(df[dataset], df['GRDC']):.2f}\\n\"\n",
    "        f\"ME: {hm.me(df[dataset], df['GRDC']):.2f}\",\n",
    "        transform=ax.transAxes, va='top')\n",
    "\n",
    "fig.savefig(f'pcrglobwb_{basin_name}_hydrograph', bbox_inches='tight', dpi=300)\n"
   ]
  }
 ],
 "metadata": {
  "kernelspec": {
   "display_name": "Python 3",
   "language": "python",
   "name": "python3"
  },
  "language_info": {
   "codemirror_mode": {
    "name": "ipython",
    "version": 3
   },
   "file_extension": ".py",
   "mimetype": "text/x-python",
   "name": "python",
   "nbconvert_exporter": "python",
   "pygments_lexer": "ipython3",
   "version": "3.7.7"
  }
 },
 "nbformat": 4,
 "nbformat_minor": 4
}
