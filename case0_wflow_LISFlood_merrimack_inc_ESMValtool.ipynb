{
 "cells": [
  {
   "cell_type": "markdown",
   "metadata": {},
   "source": [
    "![image](https://www.ewatercycle.org/img/logo.png)"
   ]
  },
  {
   "cell_type": "markdown",
   "metadata": {},
   "source": [
    "# Case study 0: Hello worlds. Run two models on the same forcing data and compare output (discharge)\n",
    "This notebooks demonstrates how to use models in eWaterCycle by showing how to run two different models for the same region and on the same forcing data (ERA5). This notebook also contains the steps for the preprocessing of the forcing data into model specific datasets using ESMValTool.\n",
    "\n",
    "The models used in this notebook are:\n",
    "\n",
    "- WFlow (details)\n",
    "- LISFLood (details)\n"
   ]
  },
  {
   "cell_type": "markdown",
   "metadata": {},
   "source": [
    "## Import statements\n",
    "We'll be using the following modules"
   ]
  },
  {
   "cell_type": "code",
   "execution_count": null,
   "metadata": {},
   "outputs": [],
   "source": [
    "import os\n",
    "import time\n",
    "import xml.etree.ElementTree as ET\n",
    "import shutil\n",
    "from configparser import ConfigParser\n",
    "from glob import glob\n",
    "from pathlib import Path\n",
    "\n",
    "from datetime import datetime\n",
    "from cftime import num2date\n",
    "\n",
    "import numpy as np\n",
    "import pandas as pd\n",
    "import xarray as xr\n",
    "\n",
    "from ewatercycle.observation.grdc import get_grdc_data\n",
    "from grpc4bmi.bmi_client_docker import BmiClientDocker\n",
    "\n",
    "import hydrostats.visual as hv\n",
    "import matplotlib.pyplot as plt"
   ]
  },
  {
   "cell_type": "code",
   "execution_count": null,
   "metadata": {},
   "outputs": [],
   "source": [
    "from ewatercycle.util import var_to_xarray"
   ]
  },
  {
   "cell_type": "markdown",
   "metadata": {},
   "source": [
    "### Directory settings"
   ]
  },
  {
   "cell_type": "code",
   "execution_count": 3,
   "metadata": {},
   "outputs": [],
   "source": [
    "# The project home directory where data lives and output should be written\n",
    "PROJECT_HOME = Path(os.path.abspath(\"/mnt/home/user42\"))\n",
    "DATA_HOME = Path(os.path.abspath(\"/mnt/data/examples/technical_paper\"))"
   ]
  },
  {
   "cell_type": "code",
   "execution_count": null,
   "metadata": {},
   "outputs": [],
   "source": [
    "# add a timestamped temp directory to the main tempdir\n",
    "TEMP_DIR = SCRATCH / 'case0' / f\"case0_temp_{time.strftime('%Y%m%d_%H%M%S')}\"\n",
    "TEMP_DIR.mkdir(parents=True, exist_ok=True)\n",
    "print(TEMP_DIR)"
   ]
  },
  {
   "cell_type": "markdown",
   "metadata": {},
   "source": [
    "### Experiment settings"
   ]
  },
  {
   "cell_type": "code",
   "execution_count": null,
   "metadata": {},
   "outputs": [],
   "source": [
    "dataset = \"ERA5\"\n",
    "catchment = \"Merrimack\"\n",
    "PERIOD = {\"start\": datetime(2001, 1, 1), \"end\": datetime(2002, 1, 15)}\n",
    "\n",
    "# time to read forcing files\n",
    "start_year = PERIOD[\"start\"].year\n",
    "end_year = PERIOD[\"end\"].year"
   ]
  },
  {
   "cell_type": "markdown",
   "metadata": {},
   "source": [
    "### Model specific settings"
   ]
  },
  {
   "cell_type": "markdown",
   "metadata": {},
   "source": [
    "#### WFlow"
   ]
  },
  {
   "cell_type": "code",
   "execution_count": 4,
   "metadata": {},
   "outputs": [],
   "source": [
    "wflow_input_dir= str(DATA_HOME / 'wflow' / 'merrimack')\n",
    "wflow_output_dir=str(PROJECT_HOME / 'case3' / 'output_wflow_test')\n",
    "wflow_ini = str(DATA_HOME / 'wflow' / 'merrimack' / 'wflow_sbm_era5_test.ini')\n",
    "\n",
    "#this file will be created by copying the ini file here\n",
    "#TODO this should not be needed.\n",
    "wflow_ini_with_timestamp = str(PROJECT_HOME / 'case3' / 'output_wflow_test' / ('wflow_sbm_era5_test_' + str(datetime.now()) + '.ini'))"
   ]
  },
  {
   "cell_type": "markdown",
   "metadata": {},
   "source": [
    "#### LISFlood"
   ]
  },
  {
   "cell_type": "code",
   "execution_count": null,
   "metadata": {},
   "outputs": [],
   "source": [
    "# esmvaltool input file names\n",
    "vars = [\"tas\", \"tasmax\", \"tasmin\", \"e\", \"sfcWind\", \"rsds\"]\n",
    "\n",
    "# lisvap input file names\n",
    "lisflood_vars = [\n",
    "    \"TAvgMaps\",\n",
    "    \"TMaxMaps\",\n",
    "    \"TMinMaps\",\n",
    "    \"EActMaps\",\n",
    "    \"WindMaps\",\n",
    "    \"RgdMaps\",\n",
    "]\n",
    "\n",
    "# lisvap output files\n",
    "lisvap_vars = [\"e0\", \"es0\", \"et0\"]\n",
    "lisvap_vars_prefixs = [\"PrefixE0\", \"PrefixES0\", \"PrefixET0\"]\n",
    "lisvap_maps = [\"E0Maps\", \"ES0Maps\", \"ET0Maps\"]"
   ]
  },
  {
   "cell_type": "markdown",
   "metadata": {},
   "source": [
    "### Pre processing model forcing using ESMValTool"
   ]
  },
  {
   "cell_type": "markdown",
   "metadata": {},
   "source": [
    "#### LISFlood"
   ]
  },
  {
   "cell_type": "code",
   "execution_count": null,
   "metadata": {},
   "outputs": [],
   "source": [
    "# Make a dictionary for settings\n",
    "maps = \"/data/lisflood_input/Lisflood01degree_masked/maps_netcdf\"\n",
    "settings = {\n",
    "    \"CalendarDayStart\": PERIOD[\"start\"].strftime(\"%d/%m/%Y %H:%M\"),\n",
    "    \"StepStart\": PERIOD[\"start\"].strftime(\"%d/%m/%Y %H:%M\"),\n",
    "    \"StepEnd\": PERIOD[\"end\"].strftime(\"%d/%m/%Y %H:%M\"),\n",
    "    \"PathOut\": \"/output\",\n",
    "    \"PathBaseMapsIn\": maps,\n",
    "    \"MaskMap\": \"/data/mask/model_mask\",\n",
    "    \"PathMeteoIn\": \"/data/forcing\",\n",
    "}\n",
    "\n",
    "# Open default setting file\n",
    "lisvap_file = INPUT_DIR / \"settings_templates\" / \"settings_lisvap.xml\"\n",
    "tree = ET.parse(str(lisvap_file))\n",
    "root = tree.getroot()\n",
    "\n",
    "for textvar in root.iter(\"textvar\"):\n",
    "    name = textvar.attrib[\"name\"]\n",
    "\n",
    "    # general settings\n",
    "    for key, value in settings.items():\n",
    "        if key in name:\n",
    "            textvar.set(\"value\", value)\n",
    "\n",
    "    # lisvap input files\n",
    "    for lisflood_var, var in zip(lisflood_vars, vars):\n",
    "        if lisflood_var in name:\n",
    "            filename = f\"lisflood_{dataset}_{var}_{start_year}_{end_year}\"\n",
    "            textvar.set(\n",
    "                \"value\", f\"$(PathMeteoIn)/{filename}\",\n",
    "            )\n",
    "\n",
    "    # lisvap output files\n",
    "    for lisvap_vars_prefix, lisvap_var in zip(\n",
    "        lisvap_vars_prefixs, lisvap_vars\n",
    "    ):\n",
    "        if lisvap_vars_prefix in name:\n",
    "            textvar.set(\n",
    "                \"value\",\n",
    "                f\"lisflood_{dataset}_{lisvap_var}_{start_year}_{end_year}\",\n",
    "            )\n",
    "\n",
    "# Write to new setting file\n",
    "lisvap_file = \"lisvap_setting.xml\"\n",
    "tree.write(f\"{TEMP_DIR}/{lisvap_file}\")\n",
    "print(f\"The lisvap setting file is in {TEMP_DIR}/{lisvap_file}\")"
   ]
  },
  {
   "cell_type": "code",
   "execution_count": null,
   "metadata": {},
   "outputs": [],
   "source": [
    "#TODO: run ESMValTool to generate input for this experiment instead of it already being (magically) available."
   ]
  },
  {
   "cell_type": "markdown",
   "metadata": {},
   "source": [
    "### Generate Model containers"
   ]
  },
  {
   "cell_type": "markdown",
   "metadata": {},
   "source": [
    "#### wflow"
   ]
  },
  {
   "cell_type": "code",
   "execution_count": 5,
   "metadata": {},
   "outputs": [
    {
     "data": {
      "text/plain": [
       "'/mnt/home/user42/case3/output_wflow_test/wflow_sbm_era5_test_2021-03-10 09:51:27.604337.ini'"
      ]
     },
     "execution_count": 5,
     "metadata": {},
     "output_type": "execute_result"
    }
   ],
   "source": [
    "#TODO this should not be needed.\n",
    "shutil.copy(wflow_ini,wflow_ini_with_timestamp)"
   ]
  },
  {
   "cell_type": "code",
   "execution_count": 6,
   "metadata": {},
   "outputs": [],
   "source": [
    "# start up a container for PCRGlob for the reference run \n",
    "# and initialize using the setting file\n",
    "wflow = BmiClientDocker(image='ewatercycle/wflow-grpc4bmi:latest', image_port=55555,\n",
    "\n",
    "                   input_dir=wflow_input_dir,\n",
    "\n",
    "                   output_dir=wflow_output_dir)\n",
    "\n",
    " \n",
    "\n",
    "wflow.initialize(wflow_ini_with_timestamp)"
   ]
  },
  {
   "cell_type": "code",
   "execution_count": 7,
   "metadata": {},
   "outputs": [],
   "source": [
    "wflow_output = []"
   ]
  },
  {
   "cell_type": "code",
   "execution_count": 10,
   "metadata": {},
   "outputs": [
    {
     "data": {
      "text/plain": [
       "('SurfaceRunoff',)"
      ]
     },
     "execution_count": 10,
     "metadata": {},
     "output_type": "execute_result"
    }
   ],
   "source": [
    "wflow.get_output_var_names()"
   ]
  },
  {
   "cell_type": "code",
   "execution_count": 11,
   "metadata": {},
   "outputs": [
    {
     "name": "stdout",
     "output_type": "stream",
     "text": [
      "0\n",
      "2.2190279216708916e+35\n",
      "-111852054904832.0\n",
      "1\n",
      "18916.611328125\n",
      "0.0\n",
      "2\n",
      "16359.7548828125\n",
      "0.0\n",
      "3\n",
      "11673.712890625\n",
      "0.0\n",
      "4\n",
      "8335.5087890625\n",
      "0.0\n",
      "5\n",
      "5920.576171875\n",
      "0.0\n",
      "6\n",
      "4298.24169921875\n",
      "0.0\n",
      "7\n",
      "3208.436279296875\n",
      "0.0\n",
      "8\n",
      "2506.794921875\n",
      "0.0\n",
      "9\n",
      "2044.8973388671875\n",
      "0.0\n",
      "10\n",
      "1656.5982666015625\n",
      "0.0\n",
      "11\n",
      "1407.8919677734375\n",
      "0.0\n",
      "12\n",
      "1200.6568603515625\n",
      "0.0\n",
      "13\n",
      "1024.837646484375\n",
      "0.0\n",
      "14\n",
      "892.3717041015625\n",
      "0.0\n",
      "15\n",
      "795.0549926757812\n",
      "0.0\n",
      "16\n",
      "728.9182739257812\n",
      "0.0\n",
      "17\n",
      "640.0759887695312\n",
      "0.0\n",
      "18\n",
      "592.2872924804688\n",
      "0.0\n",
      "19\n",
      "510.9825744628906\n",
      "0.0\n",
      "20\n",
      "479.3186950683594\n",
      "0.0\n",
      "21\n",
      "441.7477111816406\n",
      "0.0\n",
      "22\n",
      "411.2637939453125\n",
      "0.0\n",
      "23\n",
      "378.0399169921875\n",
      "0.0\n",
      "24\n",
      "362.9239807128906\n",
      "0.0\n",
      "25\n",
      "373.7604675292969\n",
      "0.0\n",
      "26\n",
      "290.06976318359375\n",
      "0.0\n",
      "27\n",
      "232.59771728515625\n",
      "0.0\n",
      "28\n",
      "199.12753295898438\n",
      "0.0\n",
      "29\n",
      "178.8760528564453\n",
      "0.0\n"
     ]
    }
   ],
   "source": [
    "#TODO this should be done using propper time from the experiment settings. See example in Case 1\n",
    "\n",
    "#run the reference model for one timestep, store the output\n",
    "for i in range(30):\n",
    "    print(i)\n",
    "    print(wflow.get_value('SurfaceRunoff').max())\n",
    "    print(wflow.get_value('SurfaceRunoff').min())\n",
    "    wflow.update()\n",
    "    wflow_output.append(var_to_xarray(wflow, variable='SurfaceRunoff'))"
   ]
  },
  {
   "cell_type": "markdown",
   "metadata": {},
   "source": [
    "#### LISFLood"
   ]
  },
  {
   "cell_type": "code",
   "execution_count": null,
   "metadata": {},
   "outputs": [],
   "source": [
    "#TODO: run lisflood"
   ]
  },
  {
   "cell_type": "markdown",
   "metadata": {},
   "source": [
    "### clean up after model runs"
   ]
  },
  {
   "cell_type": "markdown",
   "metadata": {},
   "source": [
    "#### WFlow"
   ]
  },
  {
   "cell_type": "code",
   "execution_count": 15,
   "metadata": {},
   "outputs": [],
   "source": [
    "wflow.finalize()\n",
    "del wflow"
   ]
  },
  {
   "cell_type": "markdown",
   "metadata": {},
   "source": [
    "#### LISFlood"
   ]
  },
  {
   "cell_type": "code",
   "execution_count": 1,
   "metadata": {},
   "outputs": [],
   "source": [
    "#TODO: clean up lisflood"
   ]
  },
  {
   "cell_type": "markdown",
   "metadata": {},
   "source": [
    "### Load observations"
   ]
  },
  {
   "cell_type": "code",
   "execution_count": null,
   "metadata": {},
   "outputs": [],
   "source": [
    "#TODO load observations as per the case 1 example"
   ]
  },
  {
   "cell_type": "markdown",
   "metadata": {},
   "source": [
    "### plot hydrographs"
   ]
  },
  {
   "cell_type": "code",
   "execution_count": null,
   "metadata": {},
   "outputs": [],
   "source": [
    "#TODO plot hydrographs as per the case 1 example"
   ]
  }
 ],
 "metadata": {
  "kernelspec": {
   "display_name": "ewatercycle",
   "language": "python",
   "name": "ewatercycle"
  },
  "language_info": {
   "codemirror_mode": {
    "name": "ipython",
    "version": 3
   },
   "file_extension": ".py",
   "mimetype": "text/x-python",
   "name": "python",
   "nbconvert_exporter": "python",
   "pygments_lexer": "ipython3",
   "version": "3.9.2"
  }
 },
 "nbformat": 4,
 "nbformat_minor": 4
}
