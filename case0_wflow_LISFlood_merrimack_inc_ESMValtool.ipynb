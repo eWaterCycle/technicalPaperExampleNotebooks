{
 "cells": [
  {
   "cell_type": "markdown",
   "metadata": {},
   "source": [
    "![image](https://www.ewatercycle.org/assets/logo.png)"
   ]
  },
  {
   "cell_type": "markdown",
   "metadata": {},
   "source": [
    "# Case study 0: Hello worlds. Run two models on the same forcing data and compare output (discharge)\n",
    "This notebooks demonstrates how to use models in eWaterCycle by showing how to run two different models for the same region (Merrimack) and on the same forcing data (ERA5: 1990).\n",
    "\n",
    "The models used in this notebook are:\n",
    "\n",
    "- WFlow (details)\n",
    "- LISFLood (details)"
   ]
  },
  {
   "cell_type": "markdown",
   "metadata": {},
   "source": [
    "## Import statements\n",
    "We'll be using the following modules"
   ]
  },
  {
   "cell_type": "code",
   "execution_count": 1,
   "metadata": {},
   "outputs": [],
   "source": [
    "import logging\n",
    "logger = logging.getLogger('grpc4bmi.bmi_grpc_client')\n",
    "logger.setLevel(logging.WARNING)"
   ]
  },
  {
   "cell_type": "code",
   "execution_count": null,
   "metadata": {},
   "outputs": [],
   "source": [
    "from cftime import num2date\n",
    "import pandas as pd\n",
    "import xarray as xr\n",
    "from pathlib import Path\n",
    "\n",
    "from ewatercycle import CFG\n",
    "from ewatercycle.models import Wflow, Lisflood\n",
    "from ewatercycle.analysis import hydrograph\n",
    "from ewatercycle.observation.grdc import get_grdc_data\n",
    "from ewatercycle.models.lisflood import LisfloodParameterSet"
   ]
  },
  {
   "cell_type": "markdown",
   "metadata": {},
   "source": [
    "## eWaterCycle config file\n",
    "This notebook was run on cartesius.surfsara.nl as it has a big subset of ERA5 data files and can run models in Singularity containers. \n",
    "\n",
    "```yml\n",
    "grdc_location: '/projects/0/wtrcycle/comparison/GRDC/GRDC_GCOSGTN-H_27_03_2019'\n",
    "container_engine: 'singularity'\n",
    "output_dir: '/scratch/shared/ewatercycle'\n",
    "wflow.singularity_image: 'ewatercycle-wflow-grpc4bmi.sif'\n",
    "lisflood.singularity_image: 'ewatercycle-lisflood-grpc4bmi.sif'\n",
    "```"
   ]
  },
  {
   "cell_type": "code",
   "execution_count": 3,
   "metadata": {},
   "outputs": [],
   "source": [
    "# Load config file\n",
    "CFG.load_from_file('./ewatercycle.yaml')"
   ]
  },
  {
   "cell_type": "markdown",
   "metadata": {},
   "source": [
    "## Observation"
   ]
  },
  {
   "cell_type": "code",
   "execution_count": 5,
   "metadata": {},
   "outputs": [
    {
     "data": {
      "text/html": [
       "<div>\n",
       "<style scoped>\n",
       "    .dataframe tbody tr th:only-of-type {\n",
       "        vertical-align: middle;\n",
       "    }\n",
       "\n",
       "    .dataframe tbody tr th {\n",
       "        vertical-align: top;\n",
       "    }\n",
       "\n",
       "    .dataframe thead th {\n",
       "        text-align: right;\n",
       "    }\n",
       "</style>\n",
       "<table border=\"1\" class=\"dataframe\">\n",
       "  <thead>\n",
       "    <tr style=\"text-align: right;\">\n",
       "      <th></th>\n",
       "      <th>GRDC</th>\n",
       "    </tr>\n",
       "    <tr>\n",
       "      <th>time</th>\n",
       "      <th></th>\n",
       "    </tr>\n",
       "  </thead>\n",
       "  <tbody>\n",
       "    <tr>\n",
       "      <th>1990-01-01</th>\n",
       "      <td>119.214</td>\n",
       "    </tr>\n",
       "    <tr>\n",
       "      <th>1990-01-02</th>\n",
       "      <td>136.204</td>\n",
       "    </tr>\n",
       "    <tr>\n",
       "      <th>1990-01-03</th>\n",
       "      <td>131.107</td>\n",
       "    </tr>\n",
       "    <tr>\n",
       "      <th>1990-01-04</th>\n",
       "      <td>133.655</td>\n",
       "    </tr>\n",
       "    <tr>\n",
       "      <th>1990-01-05</th>\n",
       "      <td>139.035</td>\n",
       "    </tr>\n",
       "    <tr>\n",
       "      <th>...</th>\n",
       "      <td>...</td>\n",
       "    </tr>\n",
       "    <tr>\n",
       "      <th>1990-12-27</th>\n",
       "      <td>668.276</td>\n",
       "    </tr>\n",
       "    <tr>\n",
       "      <th>1990-12-28</th>\n",
       "      <td>512.534</td>\n",
       "    </tr>\n",
       "    <tr>\n",
       "      <th>1990-12-29</th>\n",
       "      <td>419.089</td>\n",
       "    </tr>\n",
       "    <tr>\n",
       "      <th>1990-12-30</th>\n",
       "      <td>393.604</td>\n",
       "    </tr>\n",
       "    <tr>\n",
       "      <th>1990-12-31</th>\n",
       "      <td>399.267</td>\n",
       "    </tr>\n",
       "  </tbody>\n",
       "</table>\n",
       "<p>365 rows × 1 columns</p>\n",
       "</div>"
      ],
      "text/plain": [
       "               GRDC\n",
       "time               \n",
       "1990-01-01  119.214\n",
       "1990-01-02  136.204\n",
       "1990-01-03  131.107\n",
       "1990-01-04  133.655\n",
       "1990-01-05  139.035\n",
       "...             ...\n",
       "1990-12-27  668.276\n",
       "1990-12-28  512.534\n",
       "1990-12-29  419.089\n",
       "1990-12-30  393.604\n",
       "1990-12-31  399.267\n",
       "\n",
       "[365 rows x 1 columns]"
      ]
     },
     "execution_count": 5,
     "metadata": {},
     "output_type": "execute_result"
    }
   ],
   "source": [
    "# Get grdc observations at 4147380 station related to Merrimack\n",
    "ds = get_grdc_data(\"4147380\", '1990-01-01', '1990-12-31', data_home=CFG[\"grdc_location\"])\n",
    "\n",
    "# Get lat/lon of the station\n",
    "station_lat = ds.attrs[\"grdc_latitude_in_arc_degree\"]\n",
    "station_lon = ds.attrs[\"grdc_longitude_in_arc_degree\"]\n",
    "\n",
    "# Convert it to dataframe and rename it to GRDC\n",
    "observations = ds.to_dataframe().rename(columns={\"streamflow\": \"GRDC\"})\n",
    "observations.index = observations.index.date\n",
    "observations.index.name = \"time\"\n",
    "observations"
   ]
  },
  {
   "cell_type": "markdown",
   "metadata": {},
   "source": [
    "## Wflow"
   ]
  },
  {
   "cell_type": "code",
   "execution_count": 19,
   "metadata": {},
   "outputs": [
    {
     "name": "stdout",
     "output_type": "stream",
     "text": [
      "Working directory created: /scratch/shared/ewatercycle/wflow_20210422_170544\n",
      "Created /scratch/shared/ewatercycle/wflow_20210422_170544/wflow_ewatercycle.ini.\n",
      "Running ewatercycle-wflow-grpc4bmi.sif singularity container on port 40456\n",
      "Started wflow container with working directory /scratch/shared/ewatercycle/wflow_20210422_170544\n",
      "/scratch/shared/ewatercycle/wflow_20210422_170544\n"
     ]
    }
   ],
   "source": [
    "# Create wflow instance\n",
    "model = Wflow()\n",
    "\n",
    "# wflow_ERA5_*_1990_1990.nc data can be copied \n",
    "# from /projects/0/wtrcycle/comparison/forcing/wflow to cfg_dir/inmaps\n",
    "# Create config file and start up container\n",
    "cfg_file, cfg_dir = model.setup(\n",
    "    cfg_dir='/projects/0/wtrcycle/comparison/wflow_parameterset/calibrated_parameterset/merrimack/',\n",
    "    cfg_file='./wflow_sbm_Merrimack_ERA5_warmup.ini',\n",
    "    API={\"RiverRunoff\": \"2, m^3/s\"}\n",
    ")\n",
    "print(cfg_dir)"
   ]
  },
  {
   "cell_type": "code",
   "execution_count": 20,
   "metadata": {},
   "outputs": [
    {
     "name": "stdout",
     "output_type": "stream",
     "text": [
      "('RiverRunoff',)\n"
     ]
    }
   ],
   "source": [
    "# Initialize\n",
    "model.initialize(str(cfg_file))\n",
    "\n",
    "# Get metadata\n",
    "print(model.output_var_names)"
   ]
  },
  {
   "cell_type": "code",
   "execution_count": 21,
   "metadata": {},
   "outputs": [],
   "source": [
    "# Assumption: model coordinates equal to station coordinates\n",
    "model_longitude = station_lon\n",
    "model_latitude = station_lat\n",
    "\n",
    "# Run the model and get RiverRunoff values\n",
    "discharge = []\n",
    "while model.time < model.end_time:\n",
    "    model.update()\n",
    "    # Get RiverRunoff as xarray\n",
    "    output = model.get_value_as_xarray('RiverRunoff')\n",
    "    # Get RiverRunoff at one location\n",
    "    discharge_at_pixel = output.sel(latitude=model_latitude, longitude=model_longitude, method='nearest')\n",
    "    discharge.append(discharge_at_pixel)\n"
   ]
  },
  {
   "cell_type": "code",
   "execution_count": 22,
   "metadata": {},
   "outputs": [
    {
     "data": {
      "text/html": [
       "<div>\n",
       "<style scoped>\n",
       "    .dataframe tbody tr th:only-of-type {\n",
       "        vertical-align: middle;\n",
       "    }\n",
       "\n",
       "    .dataframe tbody tr th {\n",
       "        vertical-align: top;\n",
       "    }\n",
       "\n",
       "    .dataframe thead th {\n",
       "        text-align: right;\n",
       "    }\n",
       "</style>\n",
       "<table border=\"1\" class=\"dataframe\">\n",
       "  <thead>\n",
       "    <tr style=\"text-align: right;\">\n",
       "      <th></th>\n",
       "      <th>wflow</th>\n",
       "    </tr>\n",
       "    <tr>\n",
       "      <th>time</th>\n",
       "      <th></th>\n",
       "    </tr>\n",
       "  </thead>\n",
       "  <tbody>\n",
       "    <tr>\n",
       "      <th>1990-01-01</th>\n",
       "      <td>0.174929</td>\n",
       "    </tr>\n",
       "    <tr>\n",
       "      <th>1990-01-02</th>\n",
       "      <td>0.598014</td>\n",
       "    </tr>\n",
       "    <tr>\n",
       "      <th>1990-01-03</th>\n",
       "      <td>0.935433</td>\n",
       "    </tr>\n",
       "    <tr>\n",
       "      <th>1990-01-04</th>\n",
       "      <td>1.107896</td>\n",
       "    </tr>\n",
       "    <tr>\n",
       "      <th>1990-01-05</th>\n",
       "      <td>2.972760</td>\n",
       "    </tr>\n",
       "    <tr>\n",
       "      <th>...</th>\n",
       "      <td>...</td>\n",
       "    </tr>\n",
       "    <tr>\n",
       "      <th>1990-12-27</th>\n",
       "      <td>586.897156</td>\n",
       "    </tr>\n",
       "    <tr>\n",
       "      <th>1990-12-28</th>\n",
       "      <td>508.736084</td>\n",
       "    </tr>\n",
       "    <tr>\n",
       "      <th>1990-12-29</th>\n",
       "      <td>448.062897</td>\n",
       "    </tr>\n",
       "    <tr>\n",
       "      <th>1990-12-30</th>\n",
       "      <td>445.024872</td>\n",
       "    </tr>\n",
       "    <tr>\n",
       "      <th>1990-12-31</th>\n",
       "      <td>472.156219</td>\n",
       "    </tr>\n",
       "  </tbody>\n",
       "</table>\n",
       "<p>365 rows × 1 columns</p>\n",
       "</div>"
      ],
      "text/plain": [
       "                 wflow\n",
       "time                  \n",
       "1990-01-01    0.174929\n",
       "1990-01-02    0.598014\n",
       "1990-01-03    0.935433\n",
       "1990-01-04    1.107896\n",
       "1990-01-05    2.972760\n",
       "...                ...\n",
       "1990-12-27  586.897156\n",
       "1990-12-28  508.736084\n",
       "1990-12-29  448.062897\n",
       "1990-12-30  445.024872\n",
       "1990-12-31  472.156219\n",
       "\n",
       "[365 rows x 1 columns]"
      ]
     },
     "execution_count": 22,
     "metadata": {},
     "output_type": "execute_result"
    }
   ],
   "source": [
    "# Concatenate timeseries\n",
    "wflow_discharge = xr.concat(discharge, dim='time')\n",
    "\n",
    "# Convert xarray to a dataframe\n",
    "wflow_discharge[\"time\"] = wflow_discharge[\"time\"].dt.strftime('%Y-%m-%d')\n",
    "wflow = wflow_discharge.to_dataframe().rename(columns={\"RiverRunoff\": \"wflow\"})\n",
    "wflow = wflow.drop(['longitude','latitude'], axis=1)\n",
    "wflow.index = pd.to_datetime(wflow_discharge.time.values)\n",
    "wflow.index = wflow.index.date\n",
    "wflow.index.name = \"time\"\n",
    "wflow"
   ]
  },
  {
   "cell_type": "code",
   "execution_count": 9,
   "metadata": {},
   "outputs": [],
   "source": [
    "# Finalize the model\n",
    "model.finalize()\n",
    "\n",
    "# Stop the model\n",
    "del(model)"
   ]
  },
  {
   "cell_type": "markdown",
   "metadata": {},
   "source": [
    "## Lisflood"
   ]
  },
  {
   "cell_type": "code",
   "execution_count": 10,
   "metadata": {},
   "outputs": [],
   "source": [
    "# Create an object holding directories needed by lisflood\n",
    "parameterset = LisfloodParameterSet(\n",
    "    root=Path('/projects/0/wtrcycle/comparison/lisflood_input/Lisflood01degree_masked'),\n",
    "    mask=Path('/projects/0/wtrcycle/comparison/recipes_auxiliary_datasets/LISFLOOD/model_mask.nc'),\n",
    "    config_template=Path('/projects/0/wtrcycle/comparison/lisflood_input/settings_templates/settings_lisflood.xml'),\n",
    "    lisvap_config_template=Path('/projects/0/wtrcycle/comparison/lisflood_input/settings_templates/settings_lisvap.xml'),\n",
    ")"
   ]
  },
  {
   "cell_type": "code",
   "execution_count": 11,
   "metadata": {},
   "outputs": [
    {
     "name": "stdout",
     "output_type": "stream",
     "text": [
      "Running ewatercycle-lisflood-grpc4bmi.sif singularity container on port 48535\n",
      "/scratch/shared/ewatercycle/lisflood_20210422_160047\n"
     ]
    }
   ],
   "source": [
    "# Create lisflood instance\n",
    "model = Lisflood()\n",
    "\n",
    "# lisflood_ERA5_*_1990_1990.nc data can be copied \n",
    "# from /projects/0/wtrcycle/comparison/forcing/lisflood\n",
    "forcing_dir = Path('lisflood_forcing_data')\n",
    "\n",
    "# Setup model\n",
    "config_file, config_dir = model.setup(forcing_dir, parameterset)\n",
    "print(config_dir)\n",
    "\n",
    "# Run lisvap\n",
    "lisvap_results = model.run_lisvap(forcing_dir)"
   ]
  },
  {
   "cell_type": "code",
   "execution_count": 12,
   "metadata": {},
   "outputs": [
    {
     "name": "stdout",
     "output_type": "stream",
     "text": [
      "('Discharge',)\n"
     ]
    }
   ],
   "source": [
    "# Initialize\n",
    "model.initialize(str(config_file))\n",
    "\n",
    "# Get metadata\n",
    "print(model.output_var_names)"
   ]
  },
  {
   "cell_type": "code",
   "execution_count": 13,
   "metadata": {},
   "outputs": [],
   "source": [
    "# pixel coordinate (-71.35, 42.65) related to Merrimack given by lisflood modelers\n",
    "model_longitude = -71.35\n",
    "model_latitude = 42.65\n",
    "\n",
    "# Run the model and get Discharge values\n",
    "discharge = []\n",
    "while model.time < model.end_time:\n",
    "    model.update()\n",
    "    # Get Discharge values as xarray\n",
    "    output = model.get_value_as_xarray('Discharge')\n",
    "    # Get Discharge at one location\n",
    "    discharge_at_pixel = output.sel(latitude=model_latitude, longitude=model_longitude, method='nearest')\n",
    "    discharge.append(discharge_at_pixel)"
   ]
  },
  {
   "cell_type": "code",
   "execution_count": 15,
   "metadata": {},
   "outputs": [],
   "source": [
    "# Stop the model\n",
    "del model.bmi"
   ]
  },
  {
   "cell_type": "code",
   "execution_count": 14,
   "metadata": {},
   "outputs": [
    {
     "data": {
      "text/html": [
       "<div>\n",
       "<style scoped>\n",
       "    .dataframe tbody tr th:only-of-type {\n",
       "        vertical-align: middle;\n",
       "    }\n",
       "\n",
       "    .dataframe tbody tr th {\n",
       "        vertical-align: top;\n",
       "    }\n",
       "\n",
       "    .dataframe thead th {\n",
       "        text-align: right;\n",
       "    }\n",
       "</style>\n",
       "<table border=\"1\" class=\"dataframe\">\n",
       "  <thead>\n",
       "    <tr style=\"text-align: right;\">\n",
       "      <th></th>\n",
       "      <th>lisflood</th>\n",
       "    </tr>\n",
       "    <tr>\n",
       "      <th>time</th>\n",
       "      <th></th>\n",
       "    </tr>\n",
       "  </thead>\n",
       "  <tbody>\n",
       "    <tr>\n",
       "      <th>1990-01-03</th>\n",
       "      <td>9.061750</td>\n",
       "    </tr>\n",
       "    <tr>\n",
       "      <th>1990-01-04</th>\n",
       "      <td>15.274644</td>\n",
       "    </tr>\n",
       "    <tr>\n",
       "      <th>1990-01-05</th>\n",
       "      <td>30.082788</td>\n",
       "    </tr>\n",
       "    <tr>\n",
       "      <th>1990-01-06</th>\n",
       "      <td>51.922786</td>\n",
       "    </tr>\n",
       "    <tr>\n",
       "      <th>1990-01-07</th>\n",
       "      <td>84.816580</td>\n",
       "    </tr>\n",
       "    <tr>\n",
       "      <th>...</th>\n",
       "      <td>...</td>\n",
       "    </tr>\n",
       "    <tr>\n",
       "      <th>1990-12-27</th>\n",
       "      <td>318.036922</td>\n",
       "    </tr>\n",
       "    <tr>\n",
       "      <th>1990-12-28</th>\n",
       "      <td>398.285179</td>\n",
       "    </tr>\n",
       "    <tr>\n",
       "      <th>1990-12-29</th>\n",
       "      <td>491.402610</td>\n",
       "    </tr>\n",
       "    <tr>\n",
       "      <th>1990-12-30</th>\n",
       "      <td>537.810501</td>\n",
       "    </tr>\n",
       "    <tr>\n",
       "      <th>1990-12-31</th>\n",
       "      <td>517.353395</td>\n",
       "    </tr>\n",
       "  </tbody>\n",
       "</table>\n",
       "<p>363 rows × 1 columns</p>\n",
       "</div>"
      ],
      "text/plain": [
       "              lisflood\n",
       "time                  \n",
       "1990-01-03    9.061750\n",
       "1990-01-04   15.274644\n",
       "1990-01-05   30.082788\n",
       "1990-01-06   51.922786\n",
       "1990-01-07   84.816580\n",
       "...                ...\n",
       "1990-12-27  318.036922\n",
       "1990-12-28  398.285179\n",
       "1990-12-29  491.402610\n",
       "1990-12-30  537.810501\n",
       "1990-12-31  517.353395\n",
       "\n",
       "[363 rows x 1 columns]"
      ]
     },
     "execution_count": 14,
     "metadata": {},
     "output_type": "execute_result"
    }
   ],
   "source": [
    "# Concatenate timeseries\n",
    "lisflood_discharge = xr.concat(discharge, dim='time')\n",
    "\n",
    "# Convert xarray to a dataframe\n",
    "lisflood_discharge[\"time\"] = lisflood_discharge[\"time\"].dt.strftime('%Y-%m-%d')\n",
    "lisflood = lisflood_discharge.to_dataframe().rename(columns={\"Discharge\": \"lisflood\"})\n",
    "lisflood = lisflood.drop(['longitude','latitude'], axis=1)\n",
    "lisflood.index = pd.to_datetime(lisflood_discharge.time.values)\n",
    "lisflood.index = lisflood.index.date\n",
    "lisflood.index.name = \"time\"\n",
    "lisflood"
   ]
  },
  {
   "cell_type": "markdown",
   "metadata": {},
   "source": [
    "## Hydrograph"
   ]
  },
  {
   "cell_type": "code",
   "execution_count": 23,
   "metadata": {},
   "outputs": [
    {
     "name": "stderr",
     "output_type": "stream",
     "text": [
      "/home/fakhereh/miniconda3/envs/ewatercycle/lib/python3.9/site-packages/HydroErr/HydroErr.py:6248: UserWarning: Row(s) [0 1] contained NaN values and the row(s) have been removed (Rows are zero indexed).\n"
     ]
    },
    {
     "data": {
      "text/plain": [
       "(<Figure size 720x720 with 2 Axes>,\n",
       " (<AxesSubplot:title={'center':'Hydrograph'}, xlabel='time', ylabel='Discharge (m$^3$ s$^{-1}$)'>,\n",
       "  <AxesSubplot:>))"
      ]
     },
     "execution_count": 23,
     "metadata": {},
     "output_type": "execute_result"
    },
    {
     "data": {
      "image/png": "[encoded data removed]",
      "text/plain": [
       "<Figure size 720x720 with 2 Axes>"
      ]
     },
     "metadata": {
      "needs_background": "light"
     },
     "output_type": "display_data"
    }
   ],
   "source": [
    "# Combine simulated and observed values to one dataframe according to time axis\n",
    "hydro_data = pd.concat([wflow, lisflood, observations], axis=1)\n",
    "\n",
    "# Plot hydrograph and show metrics\n",
    "hydrograph(hydro_data, reference='GRDC')"
   ]
  },
  {
   "cell_type": "code",
   "execution_count": null,
   "metadata": {},
   "outputs": [],
   "source": []
  }
 ],
 "metadata": {
  "kernelspec": {
   "display_name": "Python 3",
   "language": "python",
   "name": "python3"
  },
  "language_info": {
   "codemirror_mode": {
    "name": "ipython",
    "version": 3
   },
   "file_extension": ".py",
   "mimetype": "text/x-python",
   "name": "python",
   "nbconvert_exporter": "python",
   "pygments_lexer": "ipython3",
   "version": "3.9.2"
  }
 },
 "nbformat": 4,
 "nbformat_minor": 4
}
