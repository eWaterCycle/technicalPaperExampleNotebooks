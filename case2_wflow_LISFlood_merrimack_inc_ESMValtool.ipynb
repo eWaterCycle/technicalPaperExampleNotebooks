{
 "cells": [
  {
   "cell_type": "markdown",
   "metadata": {},
   "source": [
    "![image](https://github.com/eWaterCycle/ewatercycle/raw/main/docs/examples/logo.png)"
   ]
  },
  {
   "cell_type": "markdown",
   "metadata": {},
   "source": [
    "## Case study 2: Hello worlds. Run two models on the same forcing data and compare output (discharge)\n",
    "This notebooks demonstrates how to use models in eWaterCycle by showing how to run two different models for the same region (Merrimack) and on the same forcing data (ERA5: 1990).\n",
    "\n",
    "The models used in this notebook are:\n",
    "\n",
    "- WFlow (Schellekens et. al. 2020, [https://doi.org/10.5281/ZENODO.593510](https://doi.org/10.5281/ZENODO.593510))\n",
    "- LISFLood (van der Kneijf et. al. 2010, [https://doi.org/10.1080/13658810802549154](https://doi.org/10.1080/13658810802549154))\n",
    "\n",
    "The pre-processing (ie. generating forcing data) for this experiment was already done. For information on how to generate forcing data for a given combination of model, forcing dataset and time period, see the notebook titled `Case1_Marrmot_Merrimack_ESMValTool` in this repo."
   ]
  },
  {
   "cell_type": "markdown",
   "metadata": {},
   "source": [
    "## Import statements\n",
    "We'll be using the following modules"
   ]
  },
  {
   "cell_type": "code",
   "execution_count": 1,
   "metadata": {},
   "outputs": [],
   "source": [
    "import warnings\n",
    "warnings.filterwarnings(\"ignore\", category=UserWarning)\n",
    "\n",
    "import pandas as pd\n",
    "from cartopy.io import shapereader\n",
    "\n",
    "import ewatercycle.forcing\n",
    "import ewatercycle.models\n",
    "import ewatercycle.analysis\n",
    "import ewatercycle.observation.grdc"
   ]
  },
  {
   "cell_type": "markdown",
   "metadata": {},
   "source": [
    "## Observation"
   ]
  },
  {
   "cell_type": "code",
   "execution_count": 2,
   "metadata": {},
   "outputs": [
    {
     "name": "stdout",
     "output_type": "stream",
     "text": [
      "GRDC station 4147380 is selected. The river name is: MERRIMACK RIVER.The coordinates are: (42.6459, -71.2984).The catchment area in km2 is: 12004.7. There are 0 missing values during 1990-01-01T00:00:00Z_1990-12-31T00:00:00Z at this station. See the metadata for more information.\n"
     ]
    },
    {
     "data": {
      "text/html": [
       "<div>\n",
       "<style scoped>\n",
       "    .dataframe tbody tr th:only-of-type {\n",
       "        vertical-align: middle;\n",
       "    }\n",
       "\n",
       "    .dataframe tbody tr th {\n",
       "        vertical-align: top;\n",
       "    }\n",
       "\n",
       "    .dataframe thead th {\n",
       "        text-align: right;\n",
       "    }\n",
       "</style>\n",
       "<table border=\"1\" class=\"dataframe\">\n",
       "  <thead>\n",
       "    <tr style=\"text-align: right;\">\n",
       "      <th></th>\n",
       "      <th>GRDC</th>\n",
       "    </tr>\n",
       "    <tr>\n",
       "      <th>time</th>\n",
       "      <th></th>\n",
       "    </tr>\n",
       "  </thead>\n",
       "  <tbody>\n",
       "    <tr>\n",
       "      <th>1990-01-01</th>\n",
       "      <td>119.214</td>\n",
       "    </tr>\n",
       "    <tr>\n",
       "      <th>1990-01-02</th>\n",
       "      <td>136.204</td>\n",
       "    </tr>\n",
       "    <tr>\n",
       "      <th>1990-01-03</th>\n",
       "      <td>131.107</td>\n",
       "    </tr>\n",
       "    <tr>\n",
       "      <th>1990-01-04</th>\n",
       "      <td>133.655</td>\n",
       "    </tr>\n",
       "    <tr>\n",
       "      <th>1990-01-05</th>\n",
       "      <td>139.035</td>\n",
       "    </tr>\n",
       "    <tr>\n",
       "      <th>...</th>\n",
       "      <td>...</td>\n",
       "    </tr>\n",
       "    <tr>\n",
       "      <th>1990-12-27</th>\n",
       "      <td>668.276</td>\n",
       "    </tr>\n",
       "    <tr>\n",
       "      <th>1990-12-28</th>\n",
       "      <td>512.534</td>\n",
       "    </tr>\n",
       "    <tr>\n",
       "      <th>1990-12-29</th>\n",
       "      <td>419.089</td>\n",
       "    </tr>\n",
       "    <tr>\n",
       "      <th>1990-12-30</th>\n",
       "      <td>393.604</td>\n",
       "    </tr>\n",
       "    <tr>\n",
       "      <th>1990-12-31</th>\n",
       "      <td>399.267</td>\n",
       "    </tr>\n",
       "  </tbody>\n",
       "</table>\n",
       "<p>365 rows × 1 columns</p>\n",
       "</div>"
      ],
      "text/plain": [
       "               GRDC\n",
       "time               \n",
       "1990-01-01  119.214\n",
       "1990-01-02  136.204\n",
       "1990-01-03  131.107\n",
       "1990-01-04  133.655\n",
       "1990-01-05  139.035\n",
       "...             ...\n",
       "1990-12-27  668.276\n",
       "1990-12-28  512.534\n",
       "1990-12-29  419.089\n",
       "1990-12-30  393.604\n",
       "1990-12-31  399.267\n",
       "\n",
       "[365 rows x 1 columns]"
      ]
     },
     "execution_count": 2,
     "metadata": {},
     "output_type": "execute_result"
    }
   ],
   "source": [
    "# Get grdc observations at 4147380 station related to Merrimack\n",
    "df, metadata = ewatercycle.observation.grdc.get_grdc_data(\n",
    "    station_id=\"4147380\",\n",
    "    start_time=\"1990-01-01T00:00:00Z\",\n",
    "    end_time=\"1990-12-31T00:00:00Z\",\n",
    ")\n",
    "\n",
    "# Get lat/lon of the station\n",
    "station_lat = [metadata[\"grdc_latitude_in_arc_degree\"]]\n",
    "station_lon = [metadata[\"grdc_longitude_in_arc_degree\"]]\n",
    "\n",
    "# Convert it to dataframe and rename it to GRDC\n",
    "observations = df.rename(columns={\"streamflow\": \"GRDC\"})\n",
    "observations"
   ]
  },
  {
   "cell_type": "markdown",
   "metadata": {},
   "source": [
    "## Wflow"
   ]
  },
  {
   "cell_type": "markdown",
   "metadata": {},
   "source": [
    "### Load forcing data\n",
    "Here we use pre-generated forcing data. Although data is available for 1990-2001, we will only need the first year."
   ]
  },
  {
   "cell_type": "code",
   "execution_count": 3,
   "metadata": {},
   "outputs": [
    {
     "name": "stdout",
     "output_type": "stream",
     "text": [
      "Forcing data for Wflow\n",
      "----------------------\n",
      "Directory: /mnt/data/forcing/wflow_ERA5_1990-2001_merrimack\n",
      "Start time: 1990-01-01T12:00:00Z\n",
      "End time: 2001-12-31T12:00:00Z\n",
      "Shapefile: None\n",
      "Additional information for model config:\n",
      "  - netcdfinput: wflow_ERA5_Merrimack_1990_2001.nc\n",
      "  - Precipitation: /pr\n",
      "  - Temperature: /tas\n",
      "  - EvapoTranspiration: /pet\n",
      "  - Inflow: None\n"
     ]
    }
   ],
   "source": [
    "forcing = ewatercycle.forcing.load('/mnt/data/forcing/wflow_ERA5_1990-2001_merrimack')\n",
    "print(forcing)"
   ]
  },
  {
   "cell_type": "markdown",
   "metadata": {},
   "source": [
    "### Load parameterset"
   ]
  },
  {
   "cell_type": "code",
   "execution_count": 4,
   "metadata": {},
   "outputs": [
    {
     "name": "stdout",
     "output_type": "stream",
     "text": [
      "Parameter set\n",
      "-------------\n",
      "name=wflow_merrimack_techpaper\n",
      "directory=/mnt/data/parameter-sets/wflow_merrimack_techpaper\n",
      "config=/mnt/data/parameter-sets/wflow_merrimack_techpaper/wflow_sbm_era5_test.ini\n",
      "doi=N/A\n",
      "target_model=wflow\n",
      "supported_model_versions={'2020.1.1'}\n"
     ]
    }
   ],
   "source": [
    "parameterset = ewatercycle.parameter_sets.get_parameter_set('wflow_merrimack_techpaper')\n",
    "print(parameterset)"
   ]
  },
  {
   "cell_type": "markdown",
   "metadata": {},
   "source": [
    "### Set up the model"
   ]
  },
  {
   "cell_type": "code",
   "execution_count": 6,
   "metadata": {},
   "outputs": [
    {
     "data": {
      "text/plain": [
       "('2020.1.1',)"
      ]
     },
     "execution_count": 6,
     "metadata": {},
     "output_type": "execute_result"
    }
   ],
   "source": [
    "ewatercycle.models.Wflow.available_versions"
   ]
  },
  {
   "cell_type": "code",
   "execution_count": 7,
   "metadata": {},
   "outputs": [
    {
     "name": "stdout",
     "output_type": "stream",
     "text": [
      "Config file from parameter set is missing RiverRunoff option in API section, added it with value '2, m/s option'\n"
     ]
    }
   ],
   "source": [
    "model = ewatercycle.models.Wflow(version='2020.1.1', parameter_set=parameterset, forcing=forcing)"
   ]
  },
  {
   "cell_type": "markdown",
   "metadata": {},
   "source": [
    "Forcing time range is 1990-2001, but we want to run the model for the year 1990, so set `end_time` in setup() function:"
   ]
  },
  {
   "cell_type": "code",
   "execution_count": 8,
   "metadata": {},
   "outputs": [
    {
     "name": "stdout",
     "output_type": "stream",
     "text": [
      "Running /mnt/data/singularity-images/ewatercycle-wflow-grpc4bmi_2020.1.1.sif singularity container on port 48023\n",
      "/mnt/home/user37/technicalPaperExampleNotebooks/ewatercycle_output/wflow_20210826_163223/wflow_ewatercycle.ini\n",
      "/mnt/home/user37/technicalPaperExampleNotebooks/ewatercycle_output/wflow_20210826_163223\n"
     ]
    }
   ],
   "source": [
    "cfg_file, cfg_dir = model.setup(end_time='1990-12-31T00:00:00Z')\n",
    "print(cfg_file)\n",
    "print(cfg_dir)"
   ]
  },
  {
   "cell_type": "code",
   "execution_count": 9,
   "metadata": {},
   "outputs": [],
   "source": [
    "# Initialize\n",
    "model.initialize(cfg_file)"
   ]
  },
  {
   "cell_type": "code",
   "execution_count": 10,
   "metadata": {},
   "outputs": [
    {
     "data": {
      "text/plain": [
       "('SurfaceRunoff', 'RiverRunoff')"
      ]
     },
     "execution_count": 10,
     "metadata": {},
     "output_type": "execute_result"
    }
   ],
   "source": [
    "# Get metadata\n",
    "model.output_var_names"
   ]
  },
  {
   "cell_type": "markdown",
   "metadata": {},
   "source": [
    "### Run the model\n",
    "\n",
    "We store discharge and time values. For time, only date part is kept using the function `date()`. So, we can create a dataframe joining the data on date later for the hydrograph. Wflow has steps at noon, while GRDC and lisflood uses midnight."
   ]
  },
  {
   "cell_type": "code",
   "execution_count": 11,
   "metadata": {},
   "outputs": [
    {
     "name": "stdout",
     "output_type": "stream",
     "text": [
      "1990-12-31T12:00:00Z\r"
     ]
    }
   ],
   "source": [
    "discharge = []\n",
    "time_range = []\n",
    "\n",
    "while model.time < model.end_time:\n",
    "    model.update()\n",
    "    # Get Discharge at one location\n",
    "    discharge_at_pixel = model.get_value_at_coords('RiverRunoff', lon=station_lon, lat=station_lat)[0]\n",
    "    discharge.append(discharge_at_pixel)\n",
    "    time_range.append(model.time_as_datetime.date())\n",
    "    print(model.time_as_isostr, end=\"\\r\")"
   ]
  },
  {
   "cell_type": "code",
   "execution_count": 12,
   "metadata": {},
   "outputs": [],
   "source": [
    "# Stop the model\n",
    "model.finalize()"
   ]
  },
  {
   "cell_type": "code",
   "execution_count": 13,
   "metadata": {},
   "outputs": [
    {
     "data": {
      "text/html": [
       "<div>\n",
       "<style scoped>\n",
       "    .dataframe tbody tr th:only-of-type {\n",
       "        vertical-align: middle;\n",
       "    }\n",
       "\n",
       "    .dataframe tbody tr th {\n",
       "        vertical-align: top;\n",
       "    }\n",
       "\n",
       "    .dataframe thead th {\n",
       "        text-align: right;\n",
       "    }\n",
       "</style>\n",
       "<table border=\"1\" class=\"dataframe\">\n",
       "  <thead>\n",
       "    <tr style=\"text-align: right;\">\n",
       "      <th></th>\n",
       "      <th>wflow</th>\n",
       "    </tr>\n",
       "  </thead>\n",
       "  <tbody>\n",
       "    <tr>\n",
       "      <th>1990-01-01</th>\n",
       "      <td>502.869934</td>\n",
       "    </tr>\n",
       "    <tr>\n",
       "      <th>1990-01-02</th>\n",
       "      <td>501.310394</td>\n",
       "    </tr>\n",
       "    <tr>\n",
       "      <th>1990-01-03</th>\n",
       "      <td>467.357941</td>\n",
       "    </tr>\n",
       "    <tr>\n",
       "      <th>1990-01-04</th>\n",
       "      <td>422.030151</td>\n",
       "    </tr>\n",
       "    <tr>\n",
       "      <th>1990-01-05</th>\n",
       "      <td>379.955841</td>\n",
       "    </tr>\n",
       "    <tr>\n",
       "      <th>...</th>\n",
       "      <td>...</td>\n",
       "    </tr>\n",
       "    <tr>\n",
       "      <th>1990-12-27</th>\n",
       "      <td>590.317139</td>\n",
       "    </tr>\n",
       "    <tr>\n",
       "      <th>1990-12-28</th>\n",
       "      <td>511.656464</td>\n",
       "    </tr>\n",
       "    <tr>\n",
       "      <th>1990-12-29</th>\n",
       "      <td>450.715698</td>\n",
       "    </tr>\n",
       "    <tr>\n",
       "      <th>1990-12-30</th>\n",
       "      <td>447.656281</td>\n",
       "    </tr>\n",
       "    <tr>\n",
       "      <th>1990-12-31</th>\n",
       "      <td>475.045166</td>\n",
       "    </tr>\n",
       "  </tbody>\n",
       "</table>\n",
       "<p>365 rows × 1 columns</p>\n",
       "</div>"
      ],
      "text/plain": [
       "                 wflow\n",
       "1990-01-01  502.869934\n",
       "1990-01-02  501.310394\n",
       "1990-01-03  467.357941\n",
       "1990-01-04  422.030151\n",
       "1990-01-05  379.955841\n",
       "...                ...\n",
       "1990-12-27  590.317139\n",
       "1990-12-28  511.656464\n",
       "1990-12-29  450.715698\n",
       "1990-12-30  447.656281\n",
       "1990-12-31  475.045166\n",
       "\n",
       "[365 rows x 1 columns]"
      ]
     },
     "execution_count": 13,
     "metadata": {},
     "output_type": "execute_result"
    }
   ],
   "source": [
    "# Concatenate timeseries\n",
    "wflow = pd.DataFrame({'wflow': discharge}, index=pd.to_datetime(time_range))\n",
    "wflow"
   ]
  },
  {
   "cell_type": "markdown",
   "metadata": {},
   "source": [
    "## Lisflood"
   ]
  },
  {
   "cell_type": "markdown",
   "metadata": {},
   "source": [
    "### Load forcing data\n",
    "Pre-generated lisflood forcing data is available for the year 1990. It is a global file, where all but the Merrimack catchment (and a few others that are irrelevant for this example) are masked."
   ]
  },
  {
   "cell_type": "code",
   "execution_count": 14,
   "metadata": {},
   "outputs": [
    {
     "name": "stdout",
     "output_type": "stream",
     "text": [
      "eWaterCycle forcing\n",
      "-------------------\n",
      "start_time=1990-01-01T12:00:00Z\n",
      "end_time=1990-12-31T12:00:00Z\n",
      "shape=None\n",
      "PrefixPrecipitation=lisflood_ERA5_pr_1990_1990.nc\n",
      "PrefixTavg=lisflood_ERA5_tas_1990_1990.nc\n",
      "PrefixE0=lisflood_ERA5_e0_1990_1990.nc\n",
      "PrefixES0=lisflood_ERA5_es0_1990_1990.nc\n",
      "PrefixET0=lisflood_ERA5_et0_1990_1990.nc\n",
      "directory=/mnt/data/forcing/lisflood_ERA5_1990_global-masked\n"
     ]
    }
   ],
   "source": [
    "forcing = ewatercycle.forcing.load('/mnt/data/forcing/lisflood_ERA5_1990_global-masked')\n",
    "print(forcing)"
   ]
  },
  {
   "cell_type": "markdown",
   "metadata": {},
   "source": [
    "### Load parameter set"
   ]
  },
  {
   "cell_type": "code",
   "execution_count": 15,
   "metadata": {},
   "outputs": [
    {
     "name": "stdout",
     "output_type": "stream",
     "text": [
      "Parameter set\n",
      "-------------\n",
      "name=lisflood_global-masked_01degree\n",
      "directory=/mnt/data/parameter-sets/lisflood_global-masked_01degree\n",
      "config=/mnt/data/parameter-sets/lisflood_global-masked_01degree/settings_lisflood_ERA5.xml\n",
      "doi=N/A\n",
      "target_model=lisflood\n",
      "supported_model_versions=set()\n"
     ]
    }
   ],
   "source": [
    "parameterset = ewatercycle.parameter_sets.get_parameter_set('lisflood_global-masked_01degree')\n",
    "print(parameterset)"
   ]
  },
  {
   "cell_type": "markdown",
   "metadata": {},
   "source": [
    "### Set up the model"
   ]
  },
  {
   "cell_type": "code",
   "execution_count": 16,
   "metadata": {},
   "outputs": [
    {
     "data": {
      "text/plain": [
       "('20.10',)"
      ]
     },
     "execution_count": 16,
     "metadata": {},
     "output_type": "execute_result"
    }
   ],
   "source": [
    "ewatercycle.models.Lisflood.available_versions"
   ]
  },
  {
   "cell_type": "code",
   "execution_count": 17,
   "metadata": {},
   "outputs": [
    {
     "name": "stdout",
     "output_type": "stream",
     "text": [
      "Model version 20.10 is not explicitly listed in the supported model versions of this parameter set. This can lead to compatibility issues.\n",
      "eWaterCycle Lisflood\n",
      "-------------------\n",
      "Version = 20.10\n",
      "Parameter set = \n",
      "  Parameter set\n",
      "  -------------\n",
      "  name=lisflood_global-masked_01degree\n",
      "  directory=/mnt/data/parameter-sets/lisflood_global-masked_01degree\n",
      "  config=/mnt/data/parameter-sets/lisflood_global-masked_01degree/settings_lisflood_ERA5.xml\n",
      "  doi=N/A\n",
      "  target_model=lisflood\n",
      "  supported_model_versions=set()\n",
      "Forcing = \n",
      "  eWaterCycle forcing\n",
      "  -------------------\n",
      "  start_time=1990-01-01T12:00:00Z\n",
      "  end_time=1990-12-31T12:00:00Z\n",
      "  shape=None\n",
      "  PrefixPrecipitation=lisflood_ERA5_pr_1990_1990.nc\n",
      "  PrefixTavg=lisflood_ERA5_tas_1990_1990.nc\n",
      "  PrefixE0=lisflood_ERA5_e0_1990_1990.nc\n",
      "  PrefixES0=lisflood_ERA5_es0_1990_1990.nc\n",
      "  PrefixET0=lisflood_ERA5_et0_1990_1990.nc\n",
      "  directory=/mnt/data/forcing/lisflood_ERA5_1990_global-masked\n"
     ]
    }
   ],
   "source": [
    "model = ewatercycle.models.Lisflood(version='20.10', parameter_set=parameterset, forcing=forcing)\n",
    "print(model)"
   ]
  },
  {
   "cell_type": "code",
   "execution_count": 18,
   "metadata": {},
   "outputs": [
    {
     "name": "stdout",
     "output_type": "stream",
     "text": [
      "Running /mnt/data/singularity-images/ewatercycle-lisflood-grpc4bmi_20.10.sif singularity container on port 44297\n",
      "/mnt/home/user37/technicalPaperExampleNotebooks/ewatercycle_output/lisflood_20210826_164217/lisflood_setting.xml\n",
      "/mnt/home/user37/technicalPaperExampleNotebooks/ewatercycle_output/lisflood_20210826_164217\n"
     ]
    }
   ],
   "source": [
    "# Lisflood requires a mask map, in this case only the Merrimack is unmasked\n",
    "model_mask = 'settingFiles/lisflood_model_mask.nc'\n",
    "\n",
    "config_file, config_dir = model.setup(end_time='1990-12-31T00:00:00Z', MaskMap=model_mask)\n",
    "print(config_file)\n",
    "print(config_dir)"
   ]
  },
  {
   "cell_type": "code",
   "execution_count": 19,
   "metadata": {},
   "outputs": [
    {
     "data": {
      "text/plain": [
       "('Discharge',)"
      ]
     },
     "execution_count": 19,
     "metadata": {},
     "output_type": "execute_result"
    }
   ],
   "source": [
    "# Initialize \n",
    "model.initialize(config_file)\n",
    "\n",
    "# Get metadata\n",
    "model.output_var_names"
   ]
  },
  {
   "cell_type": "markdown",
   "metadata": {},
   "source": [
    "### Run the model\n",
    "\n",
    "The model is masked by the Merrimack catchment shapefile. However, GRDC station (-71.2984, 42.6459) is located outside of the catchment boundary. Therefore, the model returns none value at these coordinates. Here, we use the coordinates (-71.35, 42.65) inside the catchment given by lisflood modelers that is close to the GRDC station."
   ]
  },
  {
   "cell_type": "code",
   "execution_count": 20,
   "metadata": {},
   "outputs": [
    {
     "name": "stdout",
     "output_type": "stream",
     "text": [
      "1990-12-30T00:00:00Z\r"
     ]
    }
   ],
   "source": [
    "model_lon = [-71.35]\n",
    "model_lat = [42.65]\n",
    "discharge = []\n",
    "time_range = []\n",
    "\n",
    "while model.time < model.end_time:\n",
    "    model.update()\n",
    "    # Get Discharge at one location\n",
    "    discharge_at_pixel = model.get_value_at_coords('Discharge', lon=model_lon, lat=model_lat)[0]\n",
    "    discharge.append(discharge_at_pixel)\n",
    "    time_range.append(model.time_as_datetime.date())\n",
    "    print(model.time_as_isostr, end=\"\\r\")"
   ]
  },
  {
   "cell_type": "code",
   "execution_count": 21,
   "metadata": {},
   "outputs": [],
   "source": [
    "# Stop the model\n",
    "del model"
   ]
  },
  {
   "cell_type": "code",
   "execution_count": 22,
   "metadata": {},
   "outputs": [
    {
     "data": {
      "text/html": [
       "<div>\n",
       "<style scoped>\n",
       "    .dataframe tbody tr th:only-of-type {\n",
       "        vertical-align: middle;\n",
       "    }\n",
       "\n",
       "    .dataframe tbody tr th {\n",
       "        vertical-align: top;\n",
       "    }\n",
       "\n",
       "    .dataframe thead th {\n",
       "        text-align: right;\n",
       "    }\n",
       "</style>\n",
       "<table border=\"1\" class=\"dataframe\">\n",
       "  <thead>\n",
       "    <tr style=\"text-align: right;\">\n",
       "      <th></th>\n",
       "      <th>lisflood</th>\n",
       "    </tr>\n",
       "  </thead>\n",
       "  <tbody>\n",
       "    <tr>\n",
       "      <th>1990-01-03</th>\n",
       "      <td>8.438896</td>\n",
       "    </tr>\n",
       "    <tr>\n",
       "      <th>1990-01-04</th>\n",
       "      <td>16.816620</td>\n",
       "    </tr>\n",
       "    <tr>\n",
       "      <th>1990-01-05</th>\n",
       "      <td>41.966252</td>\n",
       "    </tr>\n",
       "    <tr>\n",
       "      <th>1990-01-06</th>\n",
       "      <td>67.418683</td>\n",
       "    </tr>\n",
       "    <tr>\n",
       "      <th>1990-01-07</th>\n",
       "      <td>95.661038</td>\n",
       "    </tr>\n",
       "    <tr>\n",
       "      <th>...</th>\n",
       "      <td>...</td>\n",
       "    </tr>\n",
       "    <tr>\n",
       "      <th>1990-12-26</th>\n",
       "      <td>301.802257</td>\n",
       "    </tr>\n",
       "    <tr>\n",
       "      <th>1990-12-27</th>\n",
       "      <td>393.529669</td>\n",
       "    </tr>\n",
       "    <tr>\n",
       "      <th>1990-12-28</th>\n",
       "      <td>620.846660</td>\n",
       "    </tr>\n",
       "    <tr>\n",
       "      <th>1990-12-29</th>\n",
       "      <td>753.768539</td>\n",
       "    </tr>\n",
       "    <tr>\n",
       "      <th>1990-12-30</th>\n",
       "      <td>696.610750</td>\n",
       "    </tr>\n",
       "  </tbody>\n",
       "</table>\n",
       "<p>362 rows × 1 columns</p>\n",
       "</div>"
      ],
      "text/plain": [
       "              lisflood\n",
       "1990-01-03    8.438896\n",
       "1990-01-04   16.816620\n",
       "1990-01-05   41.966252\n",
       "1990-01-06   67.418683\n",
       "1990-01-07   95.661038\n",
       "...                ...\n",
       "1990-12-26  301.802257\n",
       "1990-12-27  393.529669\n",
       "1990-12-28  620.846660\n",
       "1990-12-29  753.768539\n",
       "1990-12-30  696.610750\n",
       "\n",
       "[362 rows x 1 columns]"
      ]
     },
     "execution_count": 22,
     "metadata": {},
     "output_type": "execute_result"
    }
   ],
   "source": [
    "lisflood = pd.DataFrame({'lisflood': discharge}, index=pd.to_datetime(time_range))\n",
    "lisflood"
   ]
  },
  {
   "cell_type": "markdown",
   "metadata": {},
   "source": [
    "## Hydrograph"
   ]
  },
  {
   "cell_type": "code",
   "execution_count": 23,
   "metadata": {},
   "outputs": [
    {
     "data": {
      "text/plain": [
       "(<Figure size 720x720 with 2 Axes>,\n",
       " (<AxesSubplot:title={'center':'Hydrograph'}, ylabel='Discharge (m$^3$ s$^{-1}$)'>,\n",
       "  <AxesSubplot:>))"
      ]
     },
     "execution_count": 23,
     "metadata": {},
     "output_type": "execute_result"
    },
    {
     "data": {
      "image/png": "[encoded data removed]",
      "text/plain": [
       "<Figure size 720x720 with 2 Axes>"
      ]
     },
     "metadata": {
      "needs_background": "light"
     },
     "output_type": "display_data"
    }
   ],
   "source": [
    "# Combine simulated and observed values to one dataframe according to time axis\n",
    "hydro_data = pd.concat([wflow, lisflood, observations], axis=1)\n",
    "\n",
    "# Plot hydrograph and show metrics\n",
    "ewatercycle.analysis.hydrograph(hydro_data, reference='GRDC', filename = 'figures\\case2_HelloWorldsHydrograph.png')"
   ]
  }
 ],
 "metadata": {
  "kernelspec": {
   "display_name": "Python 3 (ipykernel)",
   "language": "python",
   "name": "python3"
  },
  "language_info": {
   "codemirror_mode": {
    "name": "ipython",
    "version": 3
   },
   "file_extension": ".py",
   "mimetype": "text/x-python",
   "name": "python",
   "nbconvert_exporter": "python",
   "pygments_lexer": "ipython3",
   "version": "3.9.7"
  }
 },
 "nbformat": 4,
 "nbformat_minor": 4
}
