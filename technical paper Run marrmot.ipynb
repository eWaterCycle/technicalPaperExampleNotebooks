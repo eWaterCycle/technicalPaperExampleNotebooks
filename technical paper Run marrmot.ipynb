{
 "cells": [
  {
   "cell_type": "markdown",
   "metadata": {},
   "source": [
    "![image](https://www.ewatercycle.org/img/logo.png)"
   ]
  },
  {
   "cell_type": "markdown",
   "metadata": {},
   "source": [
    "# MARRMoT-m01 - a test notebook for running the MARRMoT-m01 model with known parameters (ie. already calibrated)\n",
    "This notebooks runs the MARRMoT-m01 model for a single catchment and a single forcing dataset. The output cannot be trusted AT ALL because this testrun is meant to illustrate the workflow.\n",
    "\n",
    "Specific settings for this test run include the catchment, corresponding station ID, forcing dataset, a calibrated parameter and the number of days to spinup and run the model instead of the full period."
   ]
  },
  {
   "cell_type": "markdown",
   "metadata": {},
   "source": [
    "## Import statements\n",
    "We'll be using the following modules:"
   ]
  },
  {
   "cell_type": "code",
   "execution_count": 1,
   "metadata": {},
   "outputs": [],
   "source": [
    "from os import environ, remove\n",
    "import os\n",
    "import time\n",
    "from datetime import datetime\n",
    "from pathlib import Path\n",
    "\n",
    "import hydrostats.metrics as hm\n",
    "import hydrostats.visual as hv\n",
    "import matplotlib.pyplot as plt\n",
    "import numpy as np\n",
    "import pandas as pd\n",
    "import scipy.io as sio\n",
    "import xarray as xr\n",
    "from cartopy.io import shapereader\n",
    "from cftime import num2date\n",
    "from ewatercycle.observation.grdc import get_grdc_data\n",
    "from grpc4bmi.bmi_client_docker import BmiClientDocker\n",
    "from scipy import optimize\n",
    "from tqdm import tqdm"
   ]
  },
  {
   "cell_type": "markdown",
   "metadata": {},
   "source": [
    "## General settings\n",
    "The cell below defines all the settings for this example, including locations of files and folders needed. \n",
    "\n",
    "TODO: rename ALL CAPS to normal variables: no global variables please.\n",
    "TODO: make everything camelCase, or under_score style, but not mixed."
   ]
  },
  {
   "cell_type": "code",
   "execution_count": 2,
   "metadata": {},
   "outputs": [],
   "source": [
    "# The project home directory where data lives and output should be written\n",
    "PROJECT_HOME = Path(os.path.abspath(\".\"))\n",
    "\n",
    "# The location where this notebook will put a timestamped temp dir\n",
    "TEMP_LOC = PROJECT_HOME / \"temp\"\n",
    "\n",
    "# forcing dataset and directory\n",
    "FORCING_DIR = PROJECT_HOME / \"marrmotForcing\" / \"validation\"\n",
    "forcing_file = \"marrmot_ERA5_Moselle_2001_2016.mat\"\n",
    "\n",
    "#these two folders will be known inside the model-container as /data/input and /data/output\n",
    "containerIn = PROJECT_HOME / 'inputMarrmot'\n",
    "containerOut = PROJECT_HOME / 'outputMarrmot'\n",
    "\n",
    "# this file will be created in 'containerIn' and contains the config setting for the model run. \n",
    "config_file_name = 'config.mat'"
   ]
  },
  {
   "cell_type": "code",
   "execution_count": 3,
   "metadata": {},
   "outputs": [],
   "source": [
    "# test period for both validation and calibration (Year, Month, Date)\n",
    "period = {\n",
    "    \"spinup\": datetime(2001, 1, 1),\n",
    "    \"start\": datetime(2001, 2, 1),\n",
    "    \"end\": datetime(2001, 12, 31),\n",
    "}"
   ]
  },
  {
   "cell_type": "code",
   "execution_count": 4,
   "metadata": {},
   "outputs": [],
   "source": [
    "# variable of interest to get out of the model\n",
    "variable = \"flux_out_Q\"\n",
    "\n",
    "# flux_out_Q unit conversion factor from mm/day to m3/s\n",
    "conversion = 1 / (1000 * 86400)\n",
    "\n",
    "# parameters, in this case max soil moisture storage (in mm), ranging between 100 en 2000\n",
    "# https://github.com/wknoben/MARRMoT/blob/dev-docker-BMI/MARRMoT/Models/Parameter%20range%20files\n",
    "parameters = [float(1500)]"
   ]
  },
  {
   "cell_type": "code",
   "execution_count": 5,
   "metadata": {},
   "outputs": [],
   "source": [
    "#location of GRDC data on jupyter.ewatercycle.org\n",
    "environ['GRDC_DATA_HOME']= '/mnt/data/grdc/dailies' \n",
    "catchment = \"Moselle\"\n",
    "station_id = \"6335020\" #This is the RHINE!!! Moselle not available \n"
   ]
  },
  {
   "cell_type": "markdown",
   "metadata": {},
   "source": [
    "## Functions and created directories needed"
   ]
  },
  {
   "cell_type": "code",
   "execution_count": 6,
   "metadata": {},
   "outputs": [
    {
     "name": "stdout",
     "output_type": "stream",
     "text": [
      "/mnt/home/user42/temp/marrmot-m01_20201210_161634\n"
     ]
    }
   ],
   "source": [
    "# add a timestamped directory to the main tempdir\n",
    "TEMP_DIR = TEMP_LOC / f\"marrmot-m01_{time.strftime('%Y%m%d_%H%M%S')}\"\n",
    "TEMP_DIR.mkdir(parents=True, exist_ok=True)\n",
    "print(TEMP_DIR)"
   ]
  },
  {
   "cell_type": "code",
   "execution_count": 7,
   "metadata": {},
   "outputs": [],
   "source": [
    "#TODO this should be named marrmot specific\n",
    "#changed to accept a filename instead of constructing it\n",
    "#changed to get passed variables instead of using globals\n",
    "\n",
    "def write_marrmot_config(parameters, catchment, period, forcing_file_loc, config_file_loc , model_name=\"m_01_collie1_1p_1s\", solver={\n",
    "            \"name\": \"createOdeApprox_IE\",  # IE:Implicit Euler.\n",
    "            \"resnorm_tolerance\": float(0.1),\n",
    "            \"resnorm_maxiter\": float(6),\n",
    "        }, store_ini=float(5) ):\n",
    "    \"\"\"Write model configuration file.\n",
    "\n",
    "    Adds the model parameters to forcing file for the given period\n",
    "    and catchment including the spinup year and writes this information\n",
    "    to a model configuration file.\n",
    "    \"\"\"\n",
    "    # get the forcing that was created with ESMValTool\n",
    "    #forcing_file = f\"marrmot-m01_{forcing}_{catchment}_{PERIOD['spinup'].year}_{PERIOD['end'].year}.mat\"\n",
    "    forcing_data = sio.loadmat(forcing_file_loc, mat_dtype=True)\n",
    "\n",
    "    # select forcing data\n",
    "    forcing_data[\"time_end\"][0][0:3] = [\n",
    "        period[\"end\"].year,\n",
    "        period[\"end\"].month,\n",
    "        period[\"end\"].day,\n",
    "    ]\n",
    "\n",
    "    # combine forcing and model parameters\n",
    "    forcing_data.update(\n",
    "        model_name=model_name,\n",
    "        parameters=parameters,\n",
    "        solver=solver,\n",
    "        store_ini=store_ini,\n",
    "    )\n",
    "\n",
    "    # save as new configuration file\n",
    "    #config_file = TEMP_DIR / (\n",
    "    #    f\"config_marrmot-m01_{forcing}_{catchment}_{PERIOD['spinup'].year}_{PERIOD['end'].year}.mat\"\n",
    "    #)\n",
    "    \n",
    "    sio.savemat(config_file_loc, forcing_data)"
   ]
  },
  {
   "cell_type": "markdown",
   "metadata": {},
   "source": [
    "## Create the model object"
   ]
  },
  {
   "cell_type": "code",
   "execution_count": 8,
   "metadata": {},
   "outputs": [],
   "source": [
    "#create config file and write to containerIn directory\n",
    "write_marrmot_config(parameters, catchment, period, FORCING_DIR / forcing_file, containerIn / config_file_name)"
   ]
  },
  {
   "cell_type": "code",
   "execution_count": 9,
   "metadata": {},
   "outputs": [],
   "source": [
    "#start up the container and initialize using the created config\n",
    "model = BmiClientDocker(\n",
    "    image=\"ewatercycle/marrmot-grpc4bmi:latest\", image_port=55555, input_dir=containerIn, output_dir=containerOut\n",
    ")\n",
    "model.initialize(config_file_name)"
   ]
  },
  {
   "cell_type": "code",
   "execution_count": 10,
   "metadata": {},
   "outputs": [],
   "source": [
    "# Get time information\n",
    "time_units = model.get_time_units()\n",
    "spinup = num2date(model.get_start_time(), time_units)\n",
    "end = num2date(model.get_end_time(), time_units)\n",
    "\n",
    "# Get space information\n",
    "grid = model.get_var_grid(variable)\n",
    "lat = model.get_grid_x(grid)[0]\n",
    "lon = model.get_grid_y(grid)[0]\n",
    "\n",
    "time_range = pd.date_range(\n",
    "    spinup.strftime(\"%Y-%m-%d\"), end.strftime(\"%Y-%m-%d\")\n",
    ")"
   ]
  },
  {
   "cell_type": "markdown",
   "metadata": {},
   "source": [
    "# Run the model"
   ]
  },
  {
   "cell_type": "code",
   "execution_count": 11,
   "metadata": {},
   "outputs": [
    {
     "name": "stderr",
     "output_type": "stream",
     "text": [
      "Running with parameters:[1500.0]: 100%|██████████| 365/365 [00:20<00:00, 17.73it/s]\n"
     ]
    }
   ],
   "source": [
    "desc = f\"Running with parameters:{parameters}\"\n",
    "variable_overtime = []\n",
    "variable_time = []\n",
    "for current_time in tqdm(time_range, desc=desc):\n",
    "    \n",
    "    # Store model time and variable output after the spin up period\n",
    "    if current_time >= period[\"start\"]:\n",
    "        \n",
    "        #store current time of model into variable_time\n",
    "        now = num2date(\n",
    "            model.get_current_time(),\n",
    "            time_units,\n",
    "            only_use_cftime_datetimes=False\n",
    "        )\n",
    "        variable_time.append(now) #.append(now.strftime(\"%Y-%m-%d\"))\n",
    "        \n",
    "        #store value (discharge) of model in variable_overtime\n",
    "        value = model.get_value(variable)[0]\n",
    "        variable_overtime.append(value)\n",
    "    \n",
    "    #update the model a single timestep\n",
    "    model.update()\n",
    "    "
   ]
  },
  {
   "cell_type": "code",
   "execution_count": 12,
   "metadata": {},
   "outputs": [],
   "source": [
    "# convert model output to xArray data array\n",
    "da = xr.DataArray(\n",
    "    np.array(variable_overtime),\n",
    "    coords={\n",
    "        \"longitude\": lon,\n",
    "        \"latitude\": lat,\n",
    "        \"time\": np.array(variable_time)\n",
    "    },\n",
    "    dims=[\"time\"],\n",
    "    name=variable,\n",
    "    attrs={\"units\": model.get_var_units(variable)},\n",
    ")\n"
   ]
  },
  {
   "cell_type": "code",
   "execution_count": 13,
   "metadata": {},
   "outputs": [],
   "source": [
    "#clear up the model object, including shutting down the container\n",
    "model.finalize()\n",
    "del model"
   ]
  },
  {
   "cell_type": "markdown",
   "metadata": {},
   "source": [
    "## Get the catchment area in m2 to be used "
   ]
  },
  {
   "cell_type": "code",
   "execution_count": 14,
   "metadata": {},
   "outputs": [
    {
     "name": "stdout",
     "output_type": "stream",
     "text": [
      "The catchment area is: 28101200000.0\n"
     ]
    }
   ],
   "source": [
    "# project directories for model input i.e. shape files and forcing\n",
    "shapefile = PROJECT_HOME / \"marrmotForcing\" / f\"Moselle.shx\"\n",
    "shape = shapereader.Reader(shapefile)\n",
    "attr = next(shape.records())\n",
    "area = attr.attributes[\"SUB_AREA\"] * 1e6\n",
    "print(\"The catchment area is:\", area)"
   ]
  },
  {
   "cell_type": "markdown",
   "metadata": {},
   "source": [
    "## Get GRDC observation data to be used in calibration and comparison"
   ]
  },
  {
   "cell_type": "code",
   "execution_count": 15,
   "metadata": {},
   "outputs": [],
   "source": [
    "# add GRDC directory to environment variables\n",
    "\n",
    "\n",
    "\n",
    "observations = get_grdc_data(station_id, start_date=period['start'].strftime('%Y-%m-%d'), end_date=period['end'].strftime('%Y-%m-%d'))\n",
    "grdc_obs = observations.to_dataframe().rename(columns = {'streamflow': 'GRDC'})\n",
    "grdc_lon = observations.attrs['grdc_longitude_in_arc_degree']\n",
    "grdc_lat = observations.attrs['grdc_latitude_in_arc_degree']\n",
    "\n"
   ]
  },
  {
   "cell_type": "markdown",
   "metadata": {},
   "source": [
    "## Compare with observation at grdc station"
   ]
  },
  {
   "cell_type": "code",
   "execution_count": 16,
   "metadata": {},
   "outputs": [],
   "source": [
    "# convert simulated streamflow to same units as observation\n",
    "simulations = da.values * area * conversion\n",
    "\n",
    "# Convert model simulations to DataFrame\n",
    "simulations = pd.DataFrame(simulations).rename(columns={0:\"marrmot\"})\n",
    "simulations.index = pd.to_datetime(da.time.values)\n",
    "simulations.index = simulations.index.date\n",
    "simulations.index.name = \"time\"\n",
    "\n",
    "# Convert grdc observations to DataFrame\n",
    "#observations = observations_ds.to_dataframe().rename(columns={\"streamflow\": \"GRDC\"})\n",
    "#observations.index = observations.index.date\n",
    "#observations.index.name = \"time\"\n",
    "\n",
    "discharge = pd.concat([simulations, grdc_obs], axis=1, sort=False)"
   ]
  },
  {
   "cell_type": "code",
   "execution_count": 17,
   "metadata": {},
   "outputs": [
    {
     "data": {
      "image/png": "[encoded data removed]",
      "text/plain": [
       "<Figure size 720x432 with 1 Axes>"
      ]
     },
     "metadata": {},
     "output_type": "display_data"
    }
   ],
   "source": [
    "hv.plot(\n",
    "    discharge[[\"marrmot\", \"GRDC\"]],\n",
    "    title=f\"Daily hydrograph of {catchment}\",\n",
    "    linestyles=[\"r-\", \"k-\"],\n",
    "    legend=(\"Simulated\", \"Observed\"),\n",
    "    labels=[\"Date\", \"Streamflow $\\\\left(m^{3} s^{-1}\\\\right)$\"],\n",
    "    metrics=[\"ME\", \"NSE\", \"SA\"],\n",
    "    grid=True,\n",
    ")\n",
    "plt.show()"
   ]
  }
 ],
 "metadata": {
  "anaconda-cloud": {},
  "kernelspec": {
   "display_name": "Python 3",
   "language": "python",
   "name": "python3"
  },
  "language_info": {
   "codemirror_mode": {
    "name": "ipython",
    "version": 3
   },
   "file_extension": ".py",
   "mimetype": "text/x-python",
   "name": "python",
   "nbconvert_exporter": "python",
   "pygments_lexer": "ipython3",
   "version": "3.7.7"
  }
 },
 "nbformat": 4,
 "nbformat_minor": 4
}
