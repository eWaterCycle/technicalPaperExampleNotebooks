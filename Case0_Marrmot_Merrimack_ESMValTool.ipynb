{
 "cells": [
  {
   "cell_type": "markdown",
   "id": "d287827a",
   "metadata": {},
   "source": [
    "![image](https://github.com/eWaterCycle/ewatercycle/raw/main/docs/examples/logo.png)"
   ]
  },
  {
   "cell_type": "markdown",
   "id": "fe07673c",
   "metadata": {},
   "source": [
    "# Case study 0: Hello world. Generate forcings and run Marrmot model\n",
    "\n",
    "This notebook demostractes how to use a model in eWatercycle by showing how to run a model on a catchment and forcing data (ERA5). This notebook also contains the steps for the preprocessing of the forcing data into model specific datasets using ESMValTool.\n",
    "\n",
    "The model used in this notebook is:\n",
    "\n",
    "* [MARRMoT](https://github.com/wknoben/MARRMoT) M01 Collie River 1 (traditional bucket)\n",
    "\n",
    "This model is too simple for the basin used as example and uncalibrated on top of that: this notebook is purely intended to demonstrate how to run a model and generate forcing data. It is not intended as an accurate simulations of discharge in this given basin, which is covered in other, more complex, case study notebooks in this repository.\n"
   ]
  },
  {
   "cell_type": "markdown",
   "id": "58678ea1",
   "metadata": {},
   "source": [
    "### Import statements\n",
    "We'll be using the following modules"
   ]
  },
  {
   "cell_type": "code",
   "execution_count": 1,
   "id": "9d592fd6",
   "metadata": {},
   "outputs": [],
   "source": [
    "import warnings\n",
    "warnings.filterwarnings(\"ignore\", category=UserWarning)\n",
    "\n",
    "import logging\n",
    "logger_esmvalcore = logging.getLogger('esmvalcore')\n",
    "logger_esmvalcore.setLevel(logging.WARNING)\n",
    "\n",
    "import pandas as pd\n",
    "from cartopy.io import shapereader\n",
    "\n",
    "import ewatercycle.forcing\n",
    "import ewatercycle.models\n",
    "import ewatercycle.analysis\n",
    "import ewatercycle.observation.grdc"
   ]
  },
  {
   "cell_type": "markdown",
   "id": "12593cc9",
   "metadata": {},
   "source": [
    "### Experiment settings\n",
    "\n",
    "Discharge of the Merrimack river will be modelled for 2002."
   ]
  },
  {
   "cell_type": "code",
   "execution_count": 2,
   "id": "0602d180",
   "metadata": {},
   "outputs": [],
   "source": [
    "dataset = \"ERA5\"\n",
    "spinup_start_date = \"1990-01-01T00:00:00Z\"\n",
    "spinup_end_date = \"1990-12-31T00:00:00Z\"\n",
    "start_date = \"1991-01-01T00:00:00Z\"\n",
    "end_date = \"1991-12-31T00:00:00Z\"\n",
    "shapefile = \"settingFiles/Merrimack.shp\"\n",
    "\n",
    "# GRDC observation station for Merrimack river\n",
    "grdc_station_id = \"4147380\""
   ]
  },
  {
   "cell_type": "markdown",
   "id": "820c63a6",
   "metadata": {},
   "source": [
    "### Model specific settings"
   ]
  },
  {
   "cell_type": "code",
   "execution_count": 3,
   "id": "f6cbbecc",
   "metadata": {},
   "outputs": [],
   "source": [
    "# Values based on previous calibration\n",
    "maximum_soil_moisture_storage = 1999.0\n",
    "initial_soil_moisture_storage = 0.9 * maximum_soil_moisture_storage\n",
    "\n",
    "discharge_variable = \"flux_out_Q\"\n",
    "# flux_out_Q unit conversion factor from mm/day to m3/s\n",
    "conversion_mmday2m3s = 1 / (1000 * 86400)"
   ]
  },
  {
   "cell_type": "markdown",
   "id": "0adbbcd7",
   "metadata": {},
   "source": [
    "### Pre processing model forcing using ESMValTool"
   ]
  },
  {
   "cell_type": "code",
   "execution_count": 5,
   "id": "1b1408db",
   "metadata": {
    "tags": []
   },
   "outputs": [
    {
     "name": "stdout",
     "output_type": "stream",
     "text": [
      "{'auxiliary_data_dir': PosixPath('/mnt/data/esmvaltool/aux'),\n",
      " 'compress_netcdf': False,\n",
      " 'config_developer_file': None,\n",
      " 'config_file': PosixPath('/mnt/home/user37/.esmvaltool/config-user.yml'),\n",
      " 'drs': {'OBS': 'default', 'OBS6': 'default'},\n",
      " 'exit_on_warning': False,\n",
      " 'extra_facets_dir': (PosixPath('/mnt/data'),),\n",
      " 'log_level': 'info',\n",
      " 'max_parallel_tasks': None,\n",
      " 'output_dir': PosixPath('/mnt/home/user37/technicalPaperExampleNotebooks/esmvaltool_output/recipe_marrmot_20210826_105251'),\n",
      " 'output_file_type': 'png',\n",
      " 'plot_dir': PosixPath('/mnt/home/user37/technicalPaperExampleNotebooks/esmvaltool_output/recipe_marrmot_20210826_105251/plots'),\n",
      " 'preproc_dir': PosixPath('/mnt/home/user37/technicalPaperExampleNotebooks/esmvaltool_output/recipe_marrmot_20210826_105251/preproc'),\n",
      " 'profile_diagnostic': False,\n",
      " 'remove_preproc_dir': False,\n",
      " 'rootpath': {'OBS': [PosixPath('/mnt/data/esmvaltool/obs6')],\n",
      "              'OBS6': [PosixPath('/mnt/data/esmvaltool/obs6')],\n",
      "              'default': [PosixPath('/mnt/data/esmvaltool')]},\n",
      " 'run_dir': PosixPath('/mnt/home/user37/technicalPaperExampleNotebooks/esmvaltool_output/recipe_marrmot_20210826_105251/run'),\n",
      " 'save_intermediary_cubes': False,\n",
      " 'work_dir': PosixPath('/mnt/home/user37/technicalPaperExampleNotebooks/esmvaltool_output/recipe_marrmot_20210826_105251/work')}\n",
      "Shapefile /mnt/home/user37/technicalPaperExampleNotebooks/settingFiles/Merrimack.shp is not in forcing directory /mnt/home/user37/technicalPaperExampleNotebooks/esmvaltool_output/recipe_marrmot_20210826_105251/work/diagnostic_daily/script. So, it won't be saved in /mnt/home/user37/technicalPaperExampleNotebooks/esmvaltool_output/recipe_marrmot_20210826_105251/work/diagnostic_daily/script/ewatercycle_forcing.yaml.\n"
     ]
    }
   ],
   "source": [
    "forcing = ewatercycle.forcing.generate(\n",
    "    target_model='marrmot', \n",
    "    dataset=dataset, \n",
    "    start_time=spinup_start_date,\n",
    "    end_time=end_date, \n",
    "    shape=shapefile,\n",
    ")"
   ]
  },
  {
   "cell_type": "markdown",
   "id": "e1ffd317",
   "metadata": {
    "tags": []
   },
   "source": [
    "Forcing is written in a single Matlab file"
   ]
  },
  {
   "cell_type": "code",
   "execution_count": 6,
   "id": "b876f998",
   "metadata": {},
   "outputs": [
    {
     "name": "stdout",
     "output_type": "stream",
     "text": [
      "eWaterCycle forcing\n",
      "-------------------\n",
      "start_time=1990-01-01T00:00:00Z\n",
      "end_time=1990-12-31T00:00:00Z\n",
      "directory=/mnt/home/user37/technicalPaperExampleNotebooks/esmvaltool_output/recipe_marrmot_20210826_105251/work/diagnostic_daily/script\n",
      "shape=/mnt/home/user37/technicalPaperExampleNotebooks/settingFiles/Merrimack.shp\n",
      "forcing_file=marrmot_ERA5_Merrimack_1990_1990.mat\n"
     ]
    }
   ],
   "source": [
    "print(forcing)"
   ]
  },
  {
   "cell_type": "markdown",
   "id": "a293fa2b",
   "metadata": {},
   "source": [
    "### Derived constants"
   ]
  },
  {
   "cell_type": "code",
   "execution_count": 7,
   "id": "a9e9d14d",
   "metadata": {},
   "outputs": [
    {
     "name": "stdout",
     "output_type": "stream",
     "text": [
      "The catchment area is: 13016500000.0\n"
     ]
    }
   ],
   "source": [
    "shape = shapereader.Reader(forcing.shape)\n",
    "record = next(shape.records())\n",
    "merrimack_area = record.attributes[\"SUB_AREA\"] * 1e6\n",
    "print(\"The catchment area is:\", merrimack_area)"
   ]
  },
  {
   "cell_type": "markdown",
   "id": "7f430bec",
   "metadata": {},
   "source": [
    "### Setting up the model object\n",
    "\n",
    "To use a hydrological model, supported by ewatercycle, an object from its class must be instantiated."
   ]
  },
  {
   "cell_type": "code",
   "execution_count": 8,
   "id": "bd7cec7c",
   "metadata": {},
   "outputs": [
    {
     "data": {
      "text/plain": [
       "('2020.11',)"
      ]
     },
     "execution_count": 8,
     "metadata": {},
     "output_type": "execute_result"
    }
   ],
   "source": [
    "ewatercycle.models.MarrmotM01.available_versions"
   ]
  },
  {
   "cell_type": "code",
   "execution_count": 9,
   "id": "0525dbd9",
   "metadata": {},
   "outputs": [
    {
     "name": "stdout",
     "output_type": "stream",
     "text": [
      "eWaterCycle MarrmotM01\n",
      "-------------------\n",
      "Version = 2020.11\n",
      "Parameter set = \n",
      "  None\n",
      "Forcing = \n",
      "  eWaterCycle forcing\n",
      "  -------------------\n",
      "  start_time=1990-01-01T00:00:00Z\n",
      "  end_time=1990-12-31T00:00:00Z\n",
      "  directory=/mnt/home/user37/technicalPaperExampleNotebooks/esmvaltool_output/recipe_marrmot_20210826_105251/work/diagnostic_daily/script\n",
      "  shape=/mnt/home/user37/technicalPaperExampleNotebooks/settingFiles/Merrimack.shp\n",
      "  forcing_file=marrmot_ERA5_Merrimack_1990_1990.mat\n"
     ]
    }
   ],
   "source": [
    "model = ewatercycle.models.MarrmotM01(version='2020.11', forcing=forcing)\n",
    "print(model)"
   ]
  },
  {
   "cell_type": "markdown",
   "id": "ee9df7d3",
   "metadata": {},
   "source": [
    "Create config file and start up container for Marrmot"
   ]
  },
  {
   "cell_type": "code",
   "execution_count": 10,
   "id": "6635d06e",
   "metadata": {},
   "outputs": [
    {
     "name": "stdout",
     "output_type": "stream",
     "text": [
      "Running /mnt/data/singularity-images/ewatercycle-marrmot-grpc4bmi_2020.11.sif singularity container on port 56131\n",
      "/mnt/home/user37/technicalPaperExampleNotebooks/ewatercycle_output/marrmot_20210826_105419/marrmot-m01_config.mat\n",
      "/mnt/home/user37/technicalPaperExampleNotebooks/ewatercycle_output/marrmot_20210826_105419\n"
     ]
    }
   ],
   "source": [
    "cfg_file, cfg_dir = model.setup(\n",
    "    # No need to specifiy start and end date, using dates from forcing\n",
    "    maximum_soil_moisture_storage=maximum_soil_moisture_storage,\n",
    "    initial_soil_moisture_storage=initial_soil_moisture_storage,\n",
    ")\n",
    "print(cfg_file)\n",
    "print(cfg_dir)"
   ]
  },
  {
   "cell_type": "code",
   "execution_count": 11,
   "id": "acae61ed",
   "metadata": {},
   "outputs": [],
   "source": [
    "model.initialize(cfg_file)"
   ]
  },
  {
   "cell_type": "markdown",
   "id": "787718b0",
   "metadata": {},
   "source": [
    "Spin up for a year"
   ]
  },
  {
   "cell_type": "code",
   "execution_count": 11,
   "id": "03454fea",
   "metadata": {},
   "outputs": [],
   "source": [
    "while (model.time_as_isostr < spinup_end_date):\n",
    "    model.update()"
   ]
  },
  {
   "cell_type": "markdown",
   "id": "1b469665",
   "metadata": {},
   "source": [
    "### Run model & capture discharge"
   ]
  },
  {
   "cell_type": "code",
   "execution_count": 12,
   "id": "77d83513",
   "metadata": {},
   "outputs": [],
   "source": [
    "simulated_discharge = []\n",
    "timestamps = []\n",
    "end_time = model.end_time\n",
    "\n",
    "while (model.time < end_time):\n",
    "    model.update()\n",
    "    timestamps.append(model.time_as_datetime.date())\n",
    "    # Marrmot M01 is a lumped model, so only single value is returned\n",
    "    value_in_mmday = model.get_value(discharge_variable)[0]\n",
    "    # Convert from mm/day to m3/s\n",
    "    value = value_in_mmday * merrimack_area * conversion_mmday2m3s\n",
    "    simulated_discharge.append(value)"
   ]
  },
  {
   "cell_type": "markdown",
   "id": "42e6c9cf",
   "metadata": {},
   "source": [
    "The `timestamps` and `simulated_discharge` variables are now filled with datetime values and discharges for each simulated day."
   ]
  },
  {
   "cell_type": "markdown",
   "id": "067645ba",
   "metadata": {},
   "source": [
    "### Clean up after the model run\n",
    "The models have to be 'finalized', which deletes any temporary files and the containers have to be shut down."
   ]
  },
  {
   "cell_type": "code",
   "execution_count": 13,
   "id": "675756c7",
   "metadata": {},
   "outputs": [],
   "source": [
    "model.finalize()"
   ]
  },
  {
   "cell_type": "markdown",
   "id": "cb2618d4",
   "metadata": {},
   "source": [
    "### Import GRDC observations\n",
    "\n",
    "Read the GRDC data for the period of the experiment, for the station given above. \n",
    "If you are not on jupyter.ewatercycle.org or Cartesius, download the GRDC https://www.bafg.de/GRDC/EN/02_srvcs/21_tmsrs/riverdischarge_node.html and set the `grdc_location` field in `~/.config/.ewatercycle/ewatercycle.yaml` to your download location."
   ]
  },
  {
   "cell_type": "code",
   "execution_count": 14,
   "id": "c5f3f069",
   "metadata": {},
   "outputs": [
    {
     "name": "stdout",
     "output_type": "stream",
     "text": [
      "GRDC station 4147380 is selected. The river name is: MERRIMACK RIVER.The coordinates are: (42.6459, -71.2984).The catchment area in km2 is: 12004.7. There are 0 missing values during 1990-01-01T00:00:00Z_1990-12-31T00:00:00Z at this station. See the metadata for more information.\n"
     ]
    },
    {
     "data": {
      "text/html": [
       "<div>\n",
       "<style scoped>\n",
       "    .dataframe tbody tr th:only-of-type {\n",
       "        vertical-align: middle;\n",
       "    }\n",
       "\n",
       "    .dataframe tbody tr th {\n",
       "        vertical-align: top;\n",
       "    }\n",
       "\n",
       "    .dataframe thead th {\n",
       "        text-align: right;\n",
       "    }\n",
       "</style>\n",
       "<table border=\"1\" class=\"dataframe\">\n",
       "  <thead>\n",
       "    <tr style=\"text-align: right;\">\n",
       "      <th></th>\n",
       "      <th>streamflow</th>\n",
       "    </tr>\n",
       "    <tr>\n",
       "      <th>time</th>\n",
       "      <th></th>\n",
       "    </tr>\n",
       "  </thead>\n",
       "  <tbody>\n",
       "    <tr>\n",
       "      <th>1990-01-01</th>\n",
       "      <td>119.214</td>\n",
       "    </tr>\n",
       "    <tr>\n",
       "      <th>1990-01-02</th>\n",
       "      <td>136.204</td>\n",
       "    </tr>\n",
       "    <tr>\n",
       "      <th>1990-01-03</th>\n",
       "      <td>131.107</td>\n",
       "    </tr>\n",
       "    <tr>\n",
       "      <th>1990-01-04</th>\n",
       "      <td>133.655</td>\n",
       "    </tr>\n",
       "    <tr>\n",
       "      <th>1990-01-05</th>\n",
       "      <td>139.035</td>\n",
       "    </tr>\n",
       "    <tr>\n",
       "      <th>...</th>\n",
       "      <td>...</td>\n",
       "    </tr>\n",
       "    <tr>\n",
       "      <th>1990-12-27</th>\n",
       "      <td>668.276</td>\n",
       "    </tr>\n",
       "    <tr>\n",
       "      <th>1990-12-28</th>\n",
       "      <td>512.534</td>\n",
       "    </tr>\n",
       "    <tr>\n",
       "      <th>1990-12-29</th>\n",
       "      <td>419.089</td>\n",
       "    </tr>\n",
       "    <tr>\n",
       "      <th>1990-12-30</th>\n",
       "      <td>393.604</td>\n",
       "    </tr>\n",
       "    <tr>\n",
       "      <th>1990-12-31</th>\n",
       "      <td>399.267</td>\n",
       "    </tr>\n",
       "  </tbody>\n",
       "</table>\n",
       "<p>365 rows × 1 columns</p>\n",
       "</div>"
      ],
      "text/plain": [
       "            streamflow\n",
       "time                  \n",
       "1990-01-01     119.214\n",
       "1990-01-02     136.204\n",
       "1990-01-03     131.107\n",
       "1990-01-04     133.655\n",
       "1990-01-05     139.035\n",
       "...                ...\n",
       "1990-12-27     668.276\n",
       "1990-12-28     512.534\n",
       "1990-12-29     419.089\n",
       "1990-12-30     393.604\n",
       "1990-12-31     399.267\n",
       "\n",
       "[365 rows x 1 columns]"
      ]
     },
     "execution_count": 14,
     "metadata": {},
     "output_type": "execute_result"
    }
   ],
   "source": [
    "observations, metadata = ewatercycle.observation.grdc.get_grdc_data(\n",
    "    station_id=grdc_station_id,\n",
    "    start_time=start_date,\n",
    "    end_time=end_date,\n",
    ")\n",
    "observations"
   ]
  },
  {
   "cell_type": "markdown",
   "id": "d95f4072",
   "metadata": {},
   "source": [
    "### Plot the results\n",
    "\n",
    "Combine simulated and observated discharge into a single dataframe"
   ]
  },
  {
   "cell_type": "code",
   "execution_count": 15,
   "id": "81429428",
   "metadata": {},
   "outputs": [
    {
     "data": {
      "text/html": [
       "<div>\n",
       "<style scoped>\n",
       "    .dataframe tbody tr th:only-of-type {\n",
       "        vertical-align: middle;\n",
       "    }\n",
       "\n",
       "    .dataframe tbody tr th {\n",
       "        vertical-align: top;\n",
       "    }\n",
       "\n",
       "    .dataframe thead th {\n",
       "        text-align: right;\n",
       "    }\n",
       "</style>\n",
       "<table border=\"1\" class=\"dataframe\">\n",
       "  <thead>\n",
       "    <tr style=\"text-align: right;\">\n",
       "      <th></th>\n",
       "      <th>simulation</th>\n",
       "      <th>observation</th>\n",
       "    </tr>\n",
       "  </thead>\n",
       "  <tbody>\n",
       "    <tr>\n",
       "      <th>1990-01-02</th>\n",
       "      <td>8.584977</td>\n",
       "      <td>136.204</td>\n",
       "    </tr>\n",
       "    <tr>\n",
       "      <th>1990-01-03</th>\n",
       "      <td>0.017747</td>\n",
       "      <td>131.107</td>\n",
       "    </tr>\n",
       "    <tr>\n",
       "      <th>1990-01-04</th>\n",
       "      <td>0.002347</td>\n",
       "      <td>133.655</td>\n",
       "    </tr>\n",
       "    <tr>\n",
       "      <th>1990-01-05</th>\n",
       "      <td>1.517997</td>\n",
       "      <td>139.035</td>\n",
       "    </tr>\n",
       "    <tr>\n",
       "      <th>1990-01-06</th>\n",
       "      <td>0.150256</td>\n",
       "      <td>131.107</td>\n",
       "    </tr>\n",
       "    <tr>\n",
       "      <th>...</th>\n",
       "      <td>...</td>\n",
       "      <td>...</td>\n",
       "    </tr>\n",
       "    <tr>\n",
       "      <th>1990-12-27</th>\n",
       "      <td>1.074040</td>\n",
       "      <td>668.276</td>\n",
       "    </tr>\n",
       "    <tr>\n",
       "      <th>1990-12-28</th>\n",
       "      <td>0.065816</td>\n",
       "      <td>512.534</td>\n",
       "    </tr>\n",
       "    <tr>\n",
       "      <th>1990-12-29</th>\n",
       "      <td>974.469585</td>\n",
       "      <td>419.089</td>\n",
       "    </tr>\n",
       "    <tr>\n",
       "      <th>1990-12-30</th>\n",
       "      <td>217.303574</td>\n",
       "      <td>393.604</td>\n",
       "    </tr>\n",
       "    <tr>\n",
       "      <th>1990-12-31</th>\n",
       "      <td>767.973426</td>\n",
       "      <td>399.267</td>\n",
       "    </tr>\n",
       "  </tbody>\n",
       "</table>\n",
       "<p>364 rows × 2 columns</p>\n",
       "</div>"
      ],
      "text/plain": [
       "            simulation  observation\n",
       "1990-01-02    8.584977      136.204\n",
       "1990-01-03    0.017747      131.107\n",
       "1990-01-04    0.002347      133.655\n",
       "1990-01-05    1.517997      139.035\n",
       "1990-01-06    0.150256      131.107\n",
       "...                ...          ...\n",
       "1990-12-27    1.074040      668.276\n",
       "1990-12-28    0.065816      512.534\n",
       "1990-12-29  974.469585      419.089\n",
       "1990-12-30  217.303574      393.604\n",
       "1990-12-31  767.973426      399.267\n",
       "\n",
       "[364 rows x 2 columns]"
      ]
     },
     "execution_count": 15,
     "metadata": {},
     "output_type": "execute_result"
    }
   ],
   "source": [
    "simulated_discharge_df = pd.DataFrame(\n",
    "    {'simulation': simulated_discharge}, index=pd.to_datetime(timestamps)\n",
    ")\n",
    "observations_df = observations.rename(\n",
    "    columns={'streamflow': 'observation'}\n",
    ")\n",
    "discharge = simulated_discharge_df.join(observations_df)\n",
    "discharge"
   ]
  },
  {
   "cell_type": "code",
   "execution_count": 16,
   "id": "b7daa8bc",
   "metadata": {},
   "outputs": [
    {
     "data": {
      "text/plain": [
       "(<Figure size 720x720 with 2 Axes>,\n",
       " (<AxesSubplot:title={'center':'Hydrograph'}, ylabel='Discharge (m$^3$ s$^{-1}$)'>,\n",
       "  <AxesSubplot:>))"
      ]
     },
     "execution_count": 16,
     "metadata": {},
     "output_type": "execute_result"
    },
    {
     "data": {
      "image/png": "[encoded data removed]",
      "text/plain": [
       "<Figure size 720x720 with 2 Axes>"
      ]
     },
     "metadata": {
      "needs_background": "light"
     },
     "output_type": "display_data"
    }
   ],
   "source": [
    "ewatercycle.analysis.hydrograph(\n",
    "    discharge=discharge,\n",
    "    reference='observation', \n",
    "    filename ='case0HelloWorldHydrograph.png'\n",
    ")"
   ]
  },
  {
   "cell_type": "markdown",
   "id": "f4388dfc",
   "metadata": {},
   "source": [
    "## Disclaimer\n",
    "Obviously the results of this model run do not reflect the observed discharge: we are using a very simple, uncalibrated model for a large basin. This notebook is merely intended to show how to pre-process input data and run hydrological models on the eWaterCycle platform."
   ]
  }
 ],
 "metadata": {
  "kernelspec": {
   "display_name": "Python 3",
   "language": "python",
   "name": "python3"
  },
  "language_info": {
   "codemirror_mode": {
    "name": "ipython",
    "version": 3
   },
   "file_extension": ".py",
   "mimetype": "text/x-python",
   "name": "python",
   "nbconvert_exporter": "python",
   "pygments_lexer": "ipython3",
   "version": "3.7.7"
  }
 },
 "nbformat": 4,
 "nbformat_minor": 5
}
