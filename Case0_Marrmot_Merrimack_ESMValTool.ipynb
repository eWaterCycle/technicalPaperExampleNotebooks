{
 "cells": [
  {
   "cell_type": "markdown",
   "id": "ac43f1ba",
   "metadata": {},
   "source": [
    "![image](https://github.com/eWaterCycle/ewatercycle/raw/main/docs/examples/logo.png)"
   ]
  },
  {
   "cell_type": "markdown",
   "id": "cdd6d248",
   "metadata": {},
   "source": [
    "# Case study 0: Hello world. Generate forcings and run Marrmot model\n",
    "\n",
    "This notebook demostractes how to use a model in eWatercycle by showing how to run a model on a catchment and forcing data (ERA5). This notebook also contains the steps for the preprocessing of the forcing data into model specific datasets using ESMValTool.\n",
    "\n",
    "The model used in this notebook is:\n",
    "\n",
    "* [MARRMoT](https://github.com/wknoben/MARRMoT) M01 Collie River 1 (traditional bucket)\n",
    "\n",
    "This model is too simple for the basin used as example and uncalibrated on top of that: this notebook is purely intended to demonstrate how to run a model and generate forcing data. It is not intended as an accurate simulations of discharge in this given basin, which is covered in other, more complex, case study notebooks in this repository.\n"
   ]
  },
  {
   "cell_type": "markdown",
   "id": "6283f3b8",
   "metadata": {},
   "source": [
    "### Import statements\n",
    "We'll be using the following modules"
   ]
  },
  {
   "cell_type": "code",
   "execution_count": 1,
   "id": "1e178ba3",
   "metadata": {},
   "outputs": [],
   "source": [
    "import warnings\n",
    "warnings.filterwarnings(\"ignore\", category=UserWarning)\n",
    "\n",
    "import logging\n",
    "logger_esmvalcore = logging.getLogger('esmvalcore')\n",
    "logger_esmvalcore.setLevel(logging.WARNING)\n",
    "\n",
    "import pandas as pd\n",
    "from cartopy.io import shapereader\n",
    "\n",
    "import ewatercycle.forcing\n",
    "import ewatercycle.models\n",
    "import ewatercycle.analysis\n",
    "import ewatercycle.observation.grdc"
   ]
  },
  {
   "cell_type": "markdown",
   "id": "4b941de1",
   "metadata": {},
   "source": [
    "### Experiment settings\n",
    "\n",
    "Discharge of the Merrimack river will be modelled for 2002."
   ]
  },
  {
   "cell_type": "code",
   "execution_count": 2,
   "id": "20c6834d",
   "metadata": {},
   "outputs": [],
   "source": [
    "dataset = \"ERA5\"\n",
    "spinup_start_date = \"1990-01-01T00:00:00Z\"\n",
    "spinup_end_date = \"1990-12-31T00:00:00Z\"\n",
    "start_date = \"1990-01-01T00:00:00Z\"\n",
    "end_date = \"1990-12-31T00:00:00Z\"\n",
    "shapefile = \"settingFiles/Merrimack.shp\"\n",
    "\n",
    "# GRDC observation station for Merrimack river\n",
    "grdc_station_id = \"4147380\""
   ]
  },
  {
   "cell_type": "markdown",
   "id": "d7d5eda5",
   "metadata": {},
   "source": [
    "### Model specific settings"
   ]
  },
  {
   "cell_type": "code",
   "execution_count": 3,
   "id": "8a69cbca",
   "metadata": {},
   "outputs": [],
   "source": [
    "# Values based on previous calibration\n",
    "maximum_soil_moisture_storage = 1999.0\n",
    "initial_soil_moisture_storage = 0.9 * maximum_soil_moisture_storage\n",
    "\n",
    "discharge_variable = \"flux_out_Q\"\n",
    "# flux_out_Q unit conversion factor from mm/day to m3/s\n",
    "conversion_mmday2m3s = 1 / (1000 * 86400)"
   ]
  },
  {
   "cell_type": "markdown",
   "id": "dc7a0e1a",
   "metadata": {},
   "source": [
    "### Pre processing model forcing using ESMValTool"
   ]
  },
  {
   "cell_type": "code",
   "execution_count": 4,
   "id": "58071627",
   "metadata": {
    "tags": []
   },
   "outputs": [
    {
     "name": "stdout",
     "output_type": "stream",
     "text": [
      "{'auxiliary_data_dir': PosixPath('/mnt/data/esmvaltool/aux'),\n",
      " 'compress_netcdf': False,\n",
      " 'config_developer_file': None,\n",
      " 'config_file': PosixPath('/mnt/home/user37/.esmvaltool/config-user.yml'),\n",
      " 'drs': {'OBS': 'default', 'OBS6': 'default'},\n",
      " 'exit_on_warning': False,\n",
      " 'extra_facets_dir': (PosixPath('/mnt/data'),),\n",
      " 'log_level': 'info',\n",
      " 'max_parallel_tasks': None,\n",
      " 'output_dir': PosixPath('/mnt/home/user37/technicalPaperExampleNotebooks/esmvaltool_output/recipe_marrmot_20210826_103510'),\n",
      " 'output_file_type': 'png',\n",
      " 'plot_dir': PosixPath('/mnt/home/user37/technicalPaperExampleNotebooks/esmvaltool_output/recipe_marrmot_20210826_103510/plots'),\n",
      " 'preproc_dir': PosixPath('/mnt/home/user37/technicalPaperExampleNotebooks/esmvaltool_output/recipe_marrmot_20210826_103510/preproc'),\n",
      " 'profile_diagnostic': False,\n",
      " 'remove_preproc_dir': False,\n",
      " 'rootpath': {'OBS': [PosixPath('/mnt/data/esmvaltool/obs6')],\n",
      "              'OBS6': [PosixPath('/mnt/data/esmvaltool/obs6')],\n",
      "              'default': [PosixPath('/mnt/data/esmvaltool')]},\n",
      " 'run_dir': PosixPath('/mnt/home/user37/technicalPaperExampleNotebooks/esmvaltool_output/recipe_marrmot_20210826_103510/run'),\n",
      " 'save_intermediary_cubes': False,\n",
      " 'work_dir': PosixPath('/mnt/home/user37/technicalPaperExampleNotebooks/esmvaltool_output/recipe_marrmot_20210826_103510/work')}\n"
     ]
    },
    {
     "ename": "AttributeError",
     "evalue": "'OutputFile' object has no attribute 'filename'",
     "output_type": "error",
     "traceback": [
      "\u001b[0;31m---------------------------------------------------------------------------\u001b[0m",
      "\u001b[0;31mAttributeError\u001b[0m                            Traceback (most recent call last)",
      "\u001b[0;32m<ipython-input-4-584ea62d5586>\u001b[0m in \u001b[0;36m<module>\u001b[0;34m\u001b[0m\n\u001b[1;32m      4\u001b[0m     \u001b[0mstart_time\u001b[0m\u001b[0;34m=\u001b[0m\u001b[0mspinup_start_date\u001b[0m\u001b[0;34m,\u001b[0m\u001b[0;34m\u001b[0m\u001b[0;34m\u001b[0m\u001b[0m\n\u001b[1;32m      5\u001b[0m     \u001b[0mend_time\u001b[0m\u001b[0;34m=\u001b[0m\u001b[0mend_date\u001b[0m\u001b[0;34m,\u001b[0m\u001b[0;34m\u001b[0m\u001b[0;34m\u001b[0m\u001b[0m\n\u001b[0;32m----> 6\u001b[0;31m     \u001b[0mshape\u001b[0m\u001b[0;34m=\u001b[0m\u001b[0mshapefile\u001b[0m\u001b[0;34m,\u001b[0m\u001b[0;34m\u001b[0m\u001b[0;34m\u001b[0m\u001b[0m\n\u001b[0m\u001b[1;32m      7\u001b[0m )\n",
      "\u001b[0;32m~/ewatercycle/ewatercycle/forcing/__init__.py\u001b[0m in \u001b[0;36mgenerate\u001b[0;34m(target_model, dataset, start_time, end_time, shape, model_specific_options)\u001b[0m\n\u001b[1;32m    152\u001b[0m         \u001b[0mmodel_specific_options\u001b[0m \u001b[0;34m=\u001b[0m \u001b[0;34m{\u001b[0m\u001b[0;34m}\u001b[0m\u001b[0;34m\u001b[0m\u001b[0;34m\u001b[0m\u001b[0m\n\u001b[1;32m    153\u001b[0m     forcing_info = constructor.generate(dataset, start_time, end_time, shape,\n\u001b[0;32m--> 154\u001b[0;31m                                         **model_specific_options)\n\u001b[0m\u001b[1;32m    155\u001b[0m     \u001b[0mforcing_info\u001b[0m\u001b[0;34m.\u001b[0m\u001b[0msave\u001b[0m\u001b[0;34m(\u001b[0m\u001b[0;34m)\u001b[0m\u001b[0;34m\u001b[0m\u001b[0;34m\u001b[0m\u001b[0m\n\u001b[1;32m    156\u001b[0m     \u001b[0;32mreturn\u001b[0m \u001b[0mforcing_info\u001b[0m\u001b[0;34m\u001b[0m\u001b[0;34m\u001b[0m\u001b[0m\n",
      "\u001b[0;32m~/ewatercycle/ewatercycle/forcing/_marrmot.py\u001b[0m in \u001b[0;36mgenerate\u001b[0;34m(cls, dataset, start_time, end_time, shape)\u001b[0m\n\u001b[1;32m     68\u001b[0m         \u001b[0;31m# generate forcing data and retrieve useful information\u001b[0m\u001b[0;34m\u001b[0m\u001b[0;34m\u001b[0m\u001b[0;34m\u001b[0m\u001b[0m\n\u001b[1;32m     69\u001b[0m         \u001b[0mrecipe_output\u001b[0m \u001b[0;34m=\u001b[0m \u001b[0mrecipe\u001b[0m\u001b[0;34m.\u001b[0m\u001b[0mrun\u001b[0m\u001b[0;34m(\u001b[0m\u001b[0;34m)\u001b[0m\u001b[0;34m\u001b[0m\u001b[0;34m\u001b[0m\u001b[0m\n\u001b[0;32m---> 70\u001b[0;31m         \u001b[0mforcing_file\u001b[0m\u001b[0;34m:\u001b[0m \u001b[0mPath\u001b[0m \u001b[0;34m=\u001b[0m \u001b[0mlist\u001b[0m\u001b[0;34m(\u001b[0m\u001b[0mrecipe_output\u001b[0m\u001b[0;34m.\u001b[0m\u001b[0mvalues\u001b[0m\u001b[0;34m(\u001b[0m\u001b[0;34m)\u001b[0m\u001b[0;34m)\u001b[0m\u001b[0;34m[\u001b[0m\u001b[0;36m0\u001b[0m\u001b[0;34m]\u001b[0m\u001b[0;34m.\u001b[0m\u001b[0mfiles\u001b[0m\u001b[0;34m[\u001b[0m\u001b[0;36m0\u001b[0m\u001b[0;34m]\u001b[0m\u001b[0;34m.\u001b[0m\u001b[0mfilename\u001b[0m\u001b[0;34m\u001b[0m\u001b[0;34m\u001b[0m\u001b[0m\n\u001b[0m\u001b[1;32m     71\u001b[0m \u001b[0;34m\u001b[0m\u001b[0m\n\u001b[1;32m     72\u001b[0m         \u001b[0mdirectory\u001b[0m \u001b[0;34m=\u001b[0m \u001b[0mstr\u001b[0m\u001b[0;34m(\u001b[0m\u001b[0mPath\u001b[0m\u001b[0;34m(\u001b[0m\u001b[0mforcing_file\u001b[0m\u001b[0;34m)\u001b[0m\u001b[0;34m.\u001b[0m\u001b[0mparent\u001b[0m\u001b[0;34m)\u001b[0m\u001b[0;34m\u001b[0m\u001b[0;34m\u001b[0m\u001b[0m\n",
      "\u001b[0;31mAttributeError\u001b[0m: 'OutputFile' object has no attribute 'filename'"
     ]
    }
   ],
   "source": [
    "forcing = ewatercycle.forcing.generate(\n",
    "    target_model='marrmot', \n",
    "    dataset=dataset, \n",
    "    start_time=spinup_start_date,\n",
    "    end_time=end_date, \n",
    "    shape=shapefile,\n",
    ")"
   ]
  },
  {
   "cell_type": "markdown",
   "id": "b717e398",
   "metadata": {
    "tags": []
   },
   "source": [
    "Forcing is written in a single Matlab file"
   ]
  },
  {
   "cell_type": "code",
   "execution_count": null,
   "id": "aab035e2",
   "metadata": {},
   "outputs": [],
   "source": [
    "print(forcing)"
   ]
  },
  {
   "cell_type": "markdown",
   "id": "c549e94c",
   "metadata": {},
   "source": [
    "### Derived constants"
   ]
  },
  {
   "cell_type": "code",
   "execution_count": 5,
   "id": "334a57c1",
   "metadata": {},
   "outputs": [
    {
     "name": "stdout",
     "output_type": "stream",
     "text": [
      "The catchment area is: 13016500000.0\n"
     ]
    }
   ],
   "source": [
    "shape = shapereader.Reader(forcing.shape)\n",
    "record = next(shape.records())\n",
    "merrimack_area = record.attributes[\"SUB_AREA\"] * 1e6\n",
    "print(\"The catchment area is:\", merrimack_area)"
   ]
  },
  {
   "cell_type": "markdown",
   "id": "afddb5dc",
   "metadata": {},
   "source": [
    "### Setting up the model object\n",
    "\n",
    "To use a hydrological model, supported by ewatercycle, an object from its class must be instantiated."
   ]
  },
  {
   "cell_type": "code",
   "execution_count": 7,
   "id": "6ba1ebe7",
   "metadata": {},
   "outputs": [
    {
     "data": {
      "text/plain": [
       "('2020.11',)"
      ]
     },
     "execution_count": 7,
     "metadata": {},
     "output_type": "execute_result"
    }
   ],
   "source": [
    "ewatercycle.models.MarrmotM01.available_versions"
   ]
  },
  {
   "cell_type": "code",
   "execution_count": 8,
   "id": "1f50f4ae",
   "metadata": {},
   "outputs": [
    {
     "name": "stdout",
     "output_type": "stream",
     "text": [
      "eWaterCycle MarrmotM01\n",
      "-------------------\n",
      "Version = 2020.11\n",
      "Parameter set = \n",
      "  None\n",
      "Forcing = \n",
      "  eWaterCycle forcing\n",
      "  -------------------\n",
      "  start_time=2001-01-01T00:00:00Z\n",
      "  end_time=2002-12-31T00:00:00Z\n",
      "  directory=/scratch/shared/ewatercycle/case-1/recipe_marrmot_20210720_093954/work/diagnostic_daily/script\n",
      "  shape=/lustre1/0/wtrcycle/comparison/recipes_auxiliary_datasets/Lorentz_Basin_Shapefiles/Merrimack/Merrimack.shp\n",
      "  forcing_file=marrmot_ERA5_Merrimack_2001_2002.mat\n"
     ]
    }
   ],
   "source": [
    "model = ewatercycle.models.MarrmotM01(version='2020.11', forcing=forcing)\n",
    "print(model)"
   ]
  },
  {
   "cell_type": "markdown",
   "id": "fb346ae2",
   "metadata": {},
   "source": [
    "Create config file and start up container for Marrmot"
   ]
  },
  {
   "cell_type": "code",
   "execution_count": 9,
   "id": "c7494279",
   "metadata": {},
   "outputs": [
    {
     "name": "stdout",
     "output_type": "stream",
     "text": [
      "Running /scratch/shared/ewatercycle/case-1/ewatercycle-marrmot-grpc4bmi_2020.11.sif singularity container on port 43096\n",
      "/scratch/shared/ewatercycle/case-1/marrmot_20210720_094311/marrmot-m01_config.mat\n",
      "/scratch/shared/ewatercycle/case-1/marrmot_20210720_094311\n"
     ]
    }
   ],
   "source": [
    "cfg_file, cfg_dir = model.setup(\n",
    "    # No need to specifiy start and end date, using dates from forcing\n",
    "    maximum_soil_moisture_storage=maximum_soil_moisture_storage,\n",
    "    initial_soil_moisture_storage=initial_soil_moisture_storage,\n",
    ")\n",
    "print(cfg_file)\n",
    "print(cfg_dir)"
   ]
  },
  {
   "cell_type": "code",
   "execution_count": 10,
   "id": "6074afb1",
   "metadata": {},
   "outputs": [],
   "source": [
    "model.initialize(cfg_file)"
   ]
  },
  {
   "cell_type": "markdown",
   "id": "fe93f4d2",
   "metadata": {},
   "source": [
    "Spin up for a year"
   ]
  },
  {
   "cell_type": "code",
   "execution_count": 11,
   "id": "e7a57174",
   "metadata": {},
   "outputs": [],
   "source": [
    "while (model.time_as_isostr < spinup_end_date):\n",
    "    model.update()"
   ]
  },
  {
   "cell_type": "markdown",
   "id": "a68075eb",
   "metadata": {},
   "source": [
    "### Run model & capture discharge"
   ]
  },
  {
   "cell_type": "code",
   "execution_count": 12,
   "id": "506aecd7",
   "metadata": {},
   "outputs": [],
   "source": [
    "simulated_discharge = []\n",
    "timestamps = []\n",
    "end_time = model.end_time\n",
    "\n",
    "while (model.time < end_time):\n",
    "    model.update()\n",
    "    timestamps.append(model.time_as_datetime.date())\n",
    "    # Marrmot M01 is a lumped model, so only single value is returned\n",
    "    value_in_mmday = model.get_value(discharge_variable)[0]\n",
    "    # Convert from mm/day to m3/s\n",
    "    value = value_in_mmday * merrimack_area * conversion_mmday2m3s\n",
    "    simulated_discharge.append(value)"
   ]
  },
  {
   "cell_type": "markdown",
   "id": "4b7b8786",
   "metadata": {},
   "source": [
    "The `timestamps` and `simulated_discharge` variables are now filled with datetime values and discharges for each simulated day."
   ]
  },
  {
   "cell_type": "markdown",
   "id": "7e2bcc7e",
   "metadata": {},
   "source": [
    "### Clean up after the model run\n",
    "The models have to be 'finalized', which deletes any temporary files and the containers have to be shut down."
   ]
  },
  {
   "cell_type": "code",
   "execution_count": 13,
   "id": "c0e19e05",
   "metadata": {},
   "outputs": [],
   "source": [
    "model.finalize()"
   ]
  },
  {
   "cell_type": "markdown",
   "id": "4e4a7294",
   "metadata": {},
   "source": [
    "### Import GRDC observations\n",
    "\n",
    "Read the GRDC data for the period of the experiment, for the station given above. \n",
    "If you are not on jupyter.ewatercycle.org or Cartesius, download the GRDC https://www.bafg.de/GRDC/EN/02_srvcs/21_tmsrs/riverdischarge_node.html and set the `grdc_location` field in `~/.config/.ewatercycle/ewatercycle.yaml` to your download location."
   ]
  },
  {
   "cell_type": "code",
   "execution_count": 3,
   "id": "a1f11225",
   "metadata": {},
   "outputs": [
    {
     "name": "stdout",
     "output_type": "stream",
     "text": [
      "GRDC station 4147380 is selected. The river name is: MERRIMACK RIVER.The coordinates are: (42.6459, -71.2984).The catchment area in km2 is: 12004.7. There are 0 missing values during 1991-01-01T00:00:00Z_1991-12-31T00:00:00Z at this station. See the metadata for more information.\n"
     ]
    },
    {
     "data": {
      "text/html": [
       "<div>\n",
       "<style scoped>\n",
       "    .dataframe tbody tr th:only-of-type {\n",
       "        vertical-align: middle;\n",
       "    }\n",
       "\n",
       "    .dataframe tbody tr th {\n",
       "        vertical-align: top;\n",
       "    }\n",
       "\n",
       "    .dataframe thead th {\n",
       "        text-align: right;\n",
       "    }\n",
       "</style>\n",
       "<table border=\"1\" class=\"dataframe\">\n",
       "  <thead>\n",
       "    <tr style=\"text-align: right;\">\n",
       "      <th></th>\n",
       "      <th>streamflow</th>\n",
       "    </tr>\n",
       "    <tr>\n",
       "      <th>time</th>\n",
       "      <th></th>\n",
       "    </tr>\n",
       "  </thead>\n",
       "  <tbody>\n",
       "    <tr>\n",
       "      <th>1991-01-01</th>\n",
       "      <td>419.089</td>\n",
       "    </tr>\n",
       "    <tr>\n",
       "      <th>1991-01-02</th>\n",
       "      <td>396.435</td>\n",
       "    </tr>\n",
       "    <tr>\n",
       "      <th>1991-01-03</th>\n",
       "      <td>351.128</td>\n",
       "    </tr>\n",
       "    <tr>\n",
       "      <th>1991-01-04</th>\n",
       "      <td>328.475</td>\n",
       "    </tr>\n",
       "    <tr>\n",
       "      <th>1991-01-05</th>\n",
       "      <td>291.663</td>\n",
       "    </tr>\n",
       "    <tr>\n",
       "      <th>...</th>\n",
       "      <td>...</td>\n",
       "    </tr>\n",
       "    <tr>\n",
       "      <th>1991-12-27</th>\n",
       "      <td>217.190</td>\n",
       "    </tr>\n",
       "    <tr>\n",
       "      <th>1991-12-28</th>\n",
       "      <td>218.889</td>\n",
       "    </tr>\n",
       "    <tr>\n",
       "      <th>1991-12-29</th>\n",
       "      <td>223.136</td>\n",
       "    </tr>\n",
       "    <tr>\n",
       "      <th>1991-12-30</th>\n",
       "      <td>274.956</td>\n",
       "    </tr>\n",
       "    <tr>\n",
       "      <th>1991-12-31</th>\n",
       "      <td>348.297</td>\n",
       "    </tr>\n",
       "  </tbody>\n",
       "</table>\n",
       "<p>365 rows × 1 columns</p>\n",
       "</div>"
      ],
      "text/plain": [
       "            streamflow\n",
       "time                  \n",
       "1991-01-01     419.089\n",
       "1991-01-02     396.435\n",
       "1991-01-03     351.128\n",
       "1991-01-04     328.475\n",
       "1991-01-05     291.663\n",
       "...                ...\n",
       "1991-12-27     217.190\n",
       "1991-12-28     218.889\n",
       "1991-12-29     223.136\n",
       "1991-12-30     274.956\n",
       "1991-12-31     348.297\n",
       "\n",
       "[365 rows x 1 columns]"
      ]
     },
     "execution_count": 3,
     "metadata": {},
     "output_type": "execute_result"
    }
   ],
   "source": [
    "observations, metadata = ewatercycle.observation.grdc.get_grdc_data(\n",
    "    station_id=grdc_station_id,\n",
    "    start_time=start_date,\n",
    "    end_time=end_date,\n",
    ")\n",
    "observations"
   ]
  },
  {
   "cell_type": "markdown",
   "id": "d90376d9",
   "metadata": {},
   "source": [
    "### Plot the results\n",
    "\n",
    "Combine simulated and observated discharge into a single dataframe"
   ]
  },
  {
   "cell_type": "code",
   "execution_count": 15,
   "id": "3462499e",
   "metadata": {},
   "outputs": [
    {
     "data": {
      "text/html": [
       "<div>\n",
       "<style scoped>\n",
       "    .dataframe tbody tr th:only-of-type {\n",
       "        vertical-align: middle;\n",
       "    }\n",
       "\n",
       "    .dataframe tbody tr th {\n",
       "        vertical-align: top;\n",
       "    }\n",
       "\n",
       "    .dataframe thead th {\n",
       "        text-align: right;\n",
       "    }\n",
       "</style>\n",
       "<table border=\"1\" class=\"dataframe\">\n",
       "  <thead>\n",
       "    <tr style=\"text-align: right;\">\n",
       "      <th></th>\n",
       "      <th>simulation</th>\n",
       "      <th>observation</th>\n",
       "    </tr>\n",
       "  </thead>\n",
       "  <tbody>\n",
       "    <tr>\n",
       "      <th>2002-01-01</th>\n",
       "      <td>0.060043</td>\n",
       "      <td>56.067</td>\n",
       "    </tr>\n",
       "    <tr>\n",
       "      <th>2002-01-02</th>\n",
       "      <td>0.072991</td>\n",
       "      <td>54.085</td>\n",
       "    </tr>\n",
       "    <tr>\n",
       "      <th>2002-01-03</th>\n",
       "      <td>0.028182</td>\n",
       "      <td>48.988</td>\n",
       "    </tr>\n",
       "    <tr>\n",
       "      <th>2002-01-04</th>\n",
       "      <td>0.050347</td>\n",
       "      <td>50.121</td>\n",
       "    </tr>\n",
       "    <tr>\n",
       "      <th>2002-01-05</th>\n",
       "      <td>0.002331</td>\n",
       "      <td>47.572</td>\n",
       "    </tr>\n",
       "    <tr>\n",
       "      <th>...</th>\n",
       "      <td>...</td>\n",
       "      <td>...</td>\n",
       "    </tr>\n",
       "    <tr>\n",
       "      <th>2002-12-27</th>\n",
       "      <td>2153.037396</td>\n",
       "      <td>222.853</td>\n",
       "    </tr>\n",
       "    <tr>\n",
       "      <th>2002-12-28</th>\n",
       "      <td>1.905574</td>\n",
       "      <td>228.800</td>\n",
       "    </tr>\n",
       "    <tr>\n",
       "      <th>2002-12-29</th>\n",
       "      <td>0.319505</td>\n",
       "      <td>218.039</td>\n",
       "    </tr>\n",
       "    <tr>\n",
       "      <th>2002-12-30</th>\n",
       "      <td>7.983492</td>\n",
       "      <td>203.031</td>\n",
       "    </tr>\n",
       "    <tr>\n",
       "      <th>2002-12-31</th>\n",
       "      <td>0.346050</td>\n",
       "      <td>195.952</td>\n",
       "    </tr>\n",
       "  </tbody>\n",
       "</table>\n",
       "<p>365 rows × 2 columns</p>\n",
       "</div>"
      ],
      "text/plain": [
       "             simulation  observation\n",
       "2002-01-01     0.060043       56.067\n",
       "2002-01-02     0.072991       54.085\n",
       "2002-01-03     0.028182       48.988\n",
       "2002-01-04     0.050347       50.121\n",
       "2002-01-05     0.002331       47.572\n",
       "...                 ...          ...\n",
       "2002-12-27  2153.037396      222.853\n",
       "2002-12-28     1.905574      228.800\n",
       "2002-12-29     0.319505      218.039\n",
       "2002-12-30     7.983492      203.031\n",
       "2002-12-31     0.346050      195.952\n",
       "\n",
       "[365 rows x 2 columns]"
      ]
     },
     "execution_count": 15,
     "metadata": {},
     "output_type": "execute_result"
    }
   ],
   "source": [
    "simulated_discharge_df = pd.DataFrame(\n",
    "    {'simulation': simulated_discharge}, index=pd.to_datetime(timestamps)\n",
    ")\n",
    "observations_df = observations.rename(\n",
    "    columns={'streamflow': 'observation'}\n",
    ")\n",
    "discharge = simulated_discharge_df.join(observations_df)\n",
    "discharge"
   ]
  },
  {
   "cell_type": "code",
   "execution_count": 5,
   "id": "f8892358",
   "metadata": {},
   "outputs": [
    {
     "ename": "NameError",
     "evalue": "name 'discharge' is not defined",
     "output_type": "error",
     "traceback": [
      "\u001b[0;31m---------------------------------------------------------------------------\u001b[0m",
      "\u001b[0;31mNameError\u001b[0m                                 Traceback (most recent call last)",
      "\u001b[0;32m<ipython-input-5-e9ca107f5fbf>\u001b[0m in \u001b[0;36m<module>\u001b[0;34m\u001b[0m\n\u001b[1;32m      1\u001b[0m ewatercycle.analysis.hydrograph(\n\u001b[0;32m----> 2\u001b[0;31m     \u001b[0mdischarge\u001b[0m\u001b[0;34m=\u001b[0m\u001b[0mdischarge\u001b[0m\u001b[0;34m,\u001b[0m\u001b[0;34m\u001b[0m\u001b[0;34m\u001b[0m\u001b[0m\n\u001b[0m\u001b[1;32m      3\u001b[0m     \u001b[0mreference\u001b[0m\u001b[0;34m=\u001b[0m\u001b[0;34m'observation'\u001b[0m\u001b[0;34m,\u001b[0m\u001b[0;34m\u001b[0m\u001b[0;34m\u001b[0m\u001b[0m\n\u001b[1;32m      4\u001b[0m     \u001b[0mfilename\u001b[0m \u001b[0;34m=\u001b[0m\u001b[0;34m'case0HelloWorldHydrograph.png'\u001b[0m\u001b[0;34m\u001b[0m\u001b[0;34m\u001b[0m\u001b[0m\n\u001b[1;32m      5\u001b[0m )\n",
      "\u001b[0;31mNameError\u001b[0m: name 'discharge' is not defined"
     ]
    }
   ],
   "source": [
    "ewatercycle.analysis.hydrograph(\n",
    "    discharge=discharge,\n",
    "    reference='observation', \n",
    "    filename ='case0HelloWorldHydrograph.png'\n",
    ")"
   ]
  },
  {
   "cell_type": "markdown",
   "id": "ecca5413",
   "metadata": {},
   "source": [
    "## Disclaimer\n",
    "Obviously the results of this model run do not reflect the observed discharge: we are using a very simple, uncalibrated model for a large basin. This notebook is merely intended to show how to pre-process input data and run hydrological models on the eWaterCycle platform."
   ]
  }
 ],
 "metadata": {
  "kernelspec": {
   "display_name": "Python 3",
   "language": "python",
   "name": "python3"
  },
  "language_info": {
   "codemirror_mode": {
    "name": "ipython",
    "version": 3
   },
   "file_extension": ".py",
   "mimetype": "text/x-python",
   "name": "python",
   "nbconvert_exporter": "python",
   "pygments_lexer": "ipython3",
   "version": "3.7.7"
  }
 },
 "nbformat": 4,
 "nbformat_minor": 5
}
