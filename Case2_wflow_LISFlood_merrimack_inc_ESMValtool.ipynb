{
 "cells": [
  {
   "cell_type": "markdown",
   "metadata": {},
   "source": [
    "![image](https://github.com/eWaterCycle/ewatercycle/raw/main/docs/examples/logo.png)"
   ]
  },
  {
   "cell_type": "markdown",
   "metadata": {},
   "source": [
    "## Case study 2: Hello worlds. Run two models on the same forcing data and compare output (discharge)\n",
    "This notebooks demonstrates how to use models in eWaterCycle by showing how to run two different models for the same region (Merrimack) and on the same forcing data (ERA5: 1990). In this notebook, in contrast with the `Case1_Marrmot_Merrimack_ESMValTool` notebook, two distributed models are used. \n",
    "\n",
    "The models used in this notebook are:\n",
    "\n",
    "- WFlow (Schellekens et. al. 2020, [https://doi.org/10.5281/ZENODO.593510](https://doi.org/10.5281/ZENODO.593510))\n",
    "- LISFLood (van der Kneijf et. al. 2010, [https://doi.org/10.1080/13658810802549154](https://doi.org/10.1080/13658810802549154))\n",
    "\n",
    "The pre-processing (ie. generating forcing data) for this experiment was already done. For information on how to generate forcing data for a given combination of model, forcing dataset and time period, see the notebook titled `Case1_Marrmot_Merrimack_ESMValTool` in this repo."
   ]
  },
  {
   "cell_type": "markdown",
   "metadata": {},
   "source": [
    "## Import statements\n",
    "We'll be using the following modules"
   ]
  },
  {
   "cell_type": "code",
   "execution_count": 7,
   "metadata": {},
   "outputs": [],
   "source": [
    "import warnings\n",
    "warnings.filterwarnings(\"ignore\", category=UserWarning)\n",
    "\n",
    "import pandas as pd\n",
    "from cartopy.io import shapereader\n",
    "from rich import print\n",
    "\n",
    "import ewatercycle.forcing\n",
    "import ewatercycle.models\n",
    "import ewatercycle.analysis\n",
    "import ewatercycle.observation.grdc\n",
    "import ewatercycle.parameter_sets"
   ]
  },
  {
   "cell_type": "markdown",
   "metadata": {},
   "source": [
    "## Experiment settings\n",
    "Just like in `Case1_Marrmot_Merrimack_ESMValTool` the Merrimack will be used. "
   ]
  },
  {
   "cell_type": "code",
   "execution_count": 8,
   "metadata": {},
   "outputs": [],
   "source": [
    "experiment_start_date = \"1990-01-01T00:00:00Z\"\n",
    "experiment_end_date = \"1990-12-31T00:00:00Z\"\n",
    "\n",
    "# GRDC observation station for Merrimack river\n",
    "grdc_station_id = \"4147380\""
   ]
  },
  {
   "cell_type": "markdown",
   "metadata": {},
   "source": [
    "## Observation"
   ]
  },
  {
   "cell_type": "code",
   "execution_count": 9,
   "metadata": {},
   "outputs": [
    {
     "data": {
      "text/html": [
       "<div>\n",
       "<style scoped>\n",
       "    .dataframe tbody tr th:only-of-type {\n",
       "        vertical-align: middle;\n",
       "    }\n",
       "\n",
       "    .dataframe tbody tr th {\n",
       "        vertical-align: top;\n",
       "    }\n",
       "\n",
       "    .dataframe thead th {\n",
       "        text-align: right;\n",
       "    }\n",
       "</style>\n",
       "<table border=\"1\" class=\"dataframe\">\n",
       "  <thead>\n",
       "    <tr style=\"text-align: right;\">\n",
       "      <th></th>\n",
       "      <th>GRDC</th>\n",
       "    </tr>\n",
       "    <tr>\n",
       "      <th>time</th>\n",
       "      <th></th>\n",
       "    </tr>\n",
       "  </thead>\n",
       "  <tbody>\n",
       "    <tr>\n",
       "      <th>1990-01-01</th>\n",
       "      <td>119.214</td>\n",
       "    </tr>\n",
       "    <tr>\n",
       "      <th>1990-01-02</th>\n",
       "      <td>136.204</td>\n",
       "    </tr>\n",
       "    <tr>\n",
       "      <th>1990-01-03</th>\n",
       "      <td>131.107</td>\n",
       "    </tr>\n",
       "    <tr>\n",
       "      <th>1990-01-04</th>\n",
       "      <td>133.655</td>\n",
       "    </tr>\n",
       "    <tr>\n",
       "      <th>1990-01-05</th>\n",
       "      <td>139.035</td>\n",
       "    </tr>\n",
       "    <tr>\n",
       "      <th>...</th>\n",
       "      <td>...</td>\n",
       "    </tr>\n",
       "    <tr>\n",
       "      <th>1990-12-27</th>\n",
       "      <td>668.276</td>\n",
       "    </tr>\n",
       "    <tr>\n",
       "      <th>1990-12-28</th>\n",
       "      <td>512.534</td>\n",
       "    </tr>\n",
       "    <tr>\n",
       "      <th>1990-12-29</th>\n",
       "      <td>419.089</td>\n",
       "    </tr>\n",
       "    <tr>\n",
       "      <th>1990-12-30</th>\n",
       "      <td>393.604</td>\n",
       "    </tr>\n",
       "    <tr>\n",
       "      <th>1990-12-31</th>\n",
       "      <td>399.267</td>\n",
       "    </tr>\n",
       "  </tbody>\n",
       "</table>\n",
       "<p>365 rows × 1 columns</p>\n",
       "</div>"
      ],
      "text/plain": [
       "               GRDC\n",
       "time               \n",
       "1990-01-01  119.214\n",
       "1990-01-02  136.204\n",
       "1990-01-03  131.107\n",
       "1990-01-04  133.655\n",
       "1990-01-05  139.035\n",
       "...             ...\n",
       "1990-12-27  668.276\n",
       "1990-12-28  512.534\n",
       "1990-12-29  419.089\n",
       "1990-12-30  393.604\n",
       "1990-12-31  399.267\n",
       "\n",
       "[365 rows x 1 columns]"
      ]
     },
     "execution_count": 9,
     "metadata": {},
     "output_type": "execute_result"
    }
   ],
   "source": [
    "# Get grdc observations at 4147380 station related to Merrimack\n",
    "df, metadata = ewatercycle.observation.grdc.get_grdc_data(\n",
    "    station_id=grdc_station_id,\n",
    "    start_time=experiment_start_date,\n",
    "    end_time=experiment_end_date,\n",
    ")\n",
    "\n",
    "# Get lat/lon of the station\n",
    "station_lat = [metadata[\"grdc_latitude_in_arc_degree\"]]\n",
    "station_lon = [metadata[\"grdc_longitude_in_arc_degree\"]]\n",
    "\n",
    "# Convert it to dataframe and rename it to GRDC\n",
    "observations = df.rename(columns={\"streamflow\": \"GRDC\"})\n",
    "observations"
   ]
  },
  {
   "cell_type": "markdown",
   "metadata": {},
   "source": [
    "## Wflow"
   ]
  },
  {
   "cell_type": "markdown",
   "metadata": {},
   "source": [
    "### Load parameterset"
   ]
  },
  {
   "cell_type": "code",
   "execution_count": 12,
   "metadata": {},
   "outputs": [
    {
     "data": {
      "text/html": [
       "<pre style=\"white-space:pre;overflow-x:auto;line-height:normal;font-family:Menlo,'DejaVu Sans Mono',consolas,'Courier New',monospace\"><span style=\"color: #800080; text-decoration-color: #800080; font-weight: bold\">ParameterSet</span><span style=\"font-weight: bold\">(</span>\n",
       "    <span style=\"color: #808000; text-decoration-color: #808000\">name</span>=<span style=\"color: #008000; text-decoration-color: #008000\">'wflow_merrimack_techpaper'</span>,\n",
       "    <span style=\"color: #808000; text-decoration-color: #808000\">directory</span>=<span style=\"color: #800080; text-decoration-color: #800080; font-weight: bold\">PosixPath</span><span style=\"font-weight: bold\">(</span><span style=\"color: #008000; text-decoration-color: #008000\">'/mnt/data/parameter-sets/wflow_merrimack_techpaper'</span><span style=\"font-weight: bold\">)</span>,\n",
       "    <span style=\"color: #808000; text-decoration-color: #808000\">config</span>=<span style=\"color: #800080; text-decoration-color: #800080; font-weight: bold\">PosixPath</span><span style=\"font-weight: bold\">(</span><span style=\"color: #008000; text-decoration-color: #008000\">'/mnt/data/parameter-sets/wflow_merrimack_techpaper/wflow_sbm_era5_test.ini'</span><span style=\"font-weight: bold\">)</span>,\n",
       "    <span style=\"color: #808000; text-decoration-color: #808000\">doi</span>=<span style=\"color: #008000; text-decoration-color: #008000\">'N/A'</span>,\n",
       "    <span style=\"color: #808000; text-decoration-color: #808000\">target_model</span>=<span style=\"color: #008000; text-decoration-color: #008000\">'wflow'</span>,\n",
       "    <span style=\"color: #808000; text-decoration-color: #808000\">supported_model_versions</span>=<span style=\"font-weight: bold\">{</span><span style=\"color: #008000; text-decoration-color: #008000\">'2020.1.3'</span>, <span style=\"color: #008000; text-decoration-color: #008000\">'2020.1.1'</span>, <span style=\"color: #008000; text-decoration-color: #008000\">'2020.1.2'</span><span style=\"font-weight: bold\">}</span>,\n",
       "    <span style=\"color: #808000; text-decoration-color: #808000\">downloader</span>=<span style=\"color: #800080; text-decoration-color: #800080; font-style: italic\">None</span>\n",
       "<span style=\"font-weight: bold\">)</span>\n",
       "</pre>\n"
      ],
      "text/plain": [
       "\u001b[1;35mParameterSet\u001b[0m\u001b[1m(\u001b[0m\n",
       "    \u001b[33mname\u001b[0m=\u001b[32m'wflow_merrimack_techpaper'\u001b[0m,\n",
       "    \u001b[33mdirectory\u001b[0m=\u001b[1;35mPosixPath\u001b[0m\u001b[1m(\u001b[0m\u001b[32m'/mnt/data/parameter-sets/wflow_merrimack_techpaper'\u001b[0m\u001b[1m)\u001b[0m,\n",
       "    \u001b[33mconfig\u001b[0m=\u001b[1;35mPosixPath\u001b[0m\u001b[1m(\u001b[0m\u001b[32m'/mnt/data/parameter-sets/wflow_merrimack_techpaper/wflow_sbm_era5_test.ini'\u001b[0m\u001b[1m)\u001b[0m,\n",
       "    \u001b[33mdoi\u001b[0m=\u001b[32m'N/A'\u001b[0m,\n",
       "    \u001b[33mtarget_model\u001b[0m=\u001b[32m'wflow'\u001b[0m,\n",
       "    \u001b[33msupported_model_versions\u001b[0m=\u001b[1m{\u001b[0m\u001b[32m'2020.1.3'\u001b[0m, \u001b[32m'2020.1.1'\u001b[0m, \u001b[32m'2020.1.2'\u001b[0m\u001b[1m}\u001b[0m,\n",
       "    \u001b[33mdownloader\u001b[0m=\u001b[3;35mNone\u001b[0m\n",
       "\u001b[1m)\u001b[0m\n"
      ]
     },
     "metadata": {},
     "output_type": "display_data"
    }
   ],
   "source": [
    "experiment_parameterset_wflow = ewatercycle.parameter_sets.available_parameter_sets()[\"wflow_merrimack_techpaper\"]\n",
    "print(experiment_parameterset_wflow)"
   ]
  },
  {
   "cell_type": "markdown",
   "metadata": {},
   "source": [
    "### Load forcing data\n",
    "Here we use pre-generated forcing data. Although data is available for 1990-2001, we will only need the first year."
   ]
  },
  {
   "cell_type": "code",
   "execution_count": 20,
   "metadata": {},
   "outputs": [
    {
     "data": {
      "text/html": [
       "<pre style=\"white-space:pre;overflow-x:auto;line-height:normal;font-family:Menlo,'DejaVu Sans Mono',consolas,'Courier New',monospace\"><span style=\"color: #800080; text-decoration-color: #800080; font-weight: bold\">WflowForcing</span><span style=\"font-weight: bold\">(</span>\n",
       "    <span style=\"color: #808000; text-decoration-color: #808000\">start_time</span>=<span style=\"color: #008000; text-decoration-color: #008000\">'1990-01-01T12:00:00Z'</span>,\n",
       "    <span style=\"color: #808000; text-decoration-color: #808000\">end_time</span>=<span style=\"color: #008000; text-decoration-color: #008000\">'2001-12-31T12:00:00Z'</span>,\n",
       "    <span style=\"color: #808000; text-decoration-color: #808000\">directory</span>=<span style=\"color: #800080; text-decoration-color: #800080; font-weight: bold\">PosixPath</span><span style=\"font-weight: bold\">(</span><span style=\"color: #008000; text-decoration-color: #008000\">'/mnt/data/forcing/wflow_ERA5_1990-2001_merrimack'</span><span style=\"font-weight: bold\">)</span>,\n",
       "    <span style=\"color: #808000; text-decoration-color: #808000\">shape</span>=<span style=\"color: #800080; text-decoration-color: #800080; font-style: italic\">None</span>,\n",
       "    <span style=\"color: #808000; text-decoration-color: #808000\">netcdfinput</span>=<span style=\"color: #008000; text-decoration-color: #008000\">'wflow_ERA5_Merrimack_1990_2001.nc'</span>,\n",
       "    <span style=\"color: #808000; text-decoration-color: #808000\">Precipitation</span>=<span style=\"color: #008000; text-decoration-color: #008000\">'/pr'</span>,\n",
       "    <span style=\"color: #808000; text-decoration-color: #808000\">EvapoTranspiration</span>=<span style=\"color: #008000; text-decoration-color: #008000\">'/pet'</span>,\n",
       "    <span style=\"color: #808000; text-decoration-color: #808000\">Temperature</span>=<span style=\"color: #008000; text-decoration-color: #008000\">'/tas'</span>,\n",
       "    <span style=\"color: #808000; text-decoration-color: #808000\">Inflow</span>=<span style=\"color: #800080; text-decoration-color: #800080; font-style: italic\">None</span>\n",
       "<span style=\"font-weight: bold\">)</span>\n",
       "</pre>\n"
      ],
      "text/plain": [
       "\u001b[1;35mWflowForcing\u001b[0m\u001b[1m(\u001b[0m\n",
       "    \u001b[33mstart_time\u001b[0m=\u001b[32m'1990-01-01T12:00:00Z'\u001b[0m,\n",
       "    \u001b[33mend_time\u001b[0m=\u001b[32m'2001-12-31T12:00:00Z'\u001b[0m,\n",
       "    \u001b[33mdirectory\u001b[0m=\u001b[1;35mPosixPath\u001b[0m\u001b[1m(\u001b[0m\u001b[32m'/mnt/data/forcing/wflow_ERA5_1990-2001_merrimack'\u001b[0m\u001b[1m)\u001b[0m,\n",
       "    \u001b[33mshape\u001b[0m=\u001b[3;35mNone\u001b[0m,\n",
       "    \u001b[33mnetcdfinput\u001b[0m=\u001b[32m'wflow_ERA5_Merrimack_1990_2001.nc'\u001b[0m,\n",
       "    \u001b[33mPrecipitation\u001b[0m=\u001b[32m'/pr'\u001b[0m,\n",
       "    \u001b[33mEvapoTranspiration\u001b[0m=\u001b[32m'/pet'\u001b[0m,\n",
       "    \u001b[33mTemperature\u001b[0m=\u001b[32m'/tas'\u001b[0m,\n",
       "    \u001b[33mInflow\u001b[0m=\u001b[3;35mNone\u001b[0m\n",
       "\u001b[1m)\u001b[0m\n"
      ]
     },
     "metadata": {},
     "output_type": "display_data"
    }
   ],
   "source": [
    "experiment_forcing_wflow = ewatercycle.forcing.sources[\"WflowForcing\"].load(\"/mnt/data/forcing/wflow_ERA5_1990-2001_merrimack\")\n",
    "\n",
    "# )(\n",
    "#     directory=\"/mnt/data/forcing/wflow_ERA5_1990-2001_merrimack\",\n",
    "#     start_time=experiment_start_date,\n",
    "#     end_time=experiment_end_date,\n",
    "#     # Additional information about the external forcing data needed for the model configuration\n",
    "#     netcdfinput=\"wflow_ERA5_Merrimack_1990_2001.nc\",\n",
    "#     Precipitation=\"/P\",\n",
    "#     EvapoTranspiration=\"/PET\",\n",
    "#     Temperature=\"/TEMP\",\n",
    "# )\n",
    "print(experiment_forcing_wflow)"
   ]
  },
  {
   "cell_type": "markdown",
   "metadata": {},
   "source": [
    "### Set up the model"
   ]
  },
  {
   "cell_type": "code",
   "execution_count": 22,
   "metadata": {},
   "outputs": [
    {
     "name": "stderr",
     "output_type": "stream",
     "text": [
      "WARNING:ewatercycle_wflow.model:Config file from parameter set is missing RiverRunoff option in API section, added it with value '2, m/s option'\n"
     ]
    }
   ],
   "source": [
    "model = ewatercycle.models.Wflow(parameter_set=experiment_parameterset_wflow, \n",
    "                                 forcing=experiment_forcing_wflow)"
   ]
  },
  {
   "cell_type": "markdown",
   "metadata": {},
   "source": [
    "Forcing time range is 1990-2001, but we want to run the model for the year 1990, so set `end_time` in setup() function:"
   ]
  },
  {
   "cell_type": "code",
   "execution_count": 23,
   "metadata": {},
   "outputs": [
    {
     "data": {
      "text/html": [
       "<pre style=\"white-space:pre;overflow-x:auto;line-height:normal;font-family:Menlo,'DejaVu Sans Mono',consolas,'Courier New',monospace\"><span style=\"color: #800080; text-decoration-color: #800080\">/home/rhut/technicalPaperExampleNotebooks/wflow_20240314_120904/</span><span style=\"color: #ff00ff; text-decoration-color: #ff00ff\">wflow_ewatercycle.ini</span>\n",
       "</pre>\n"
      ],
      "text/plain": [
       "\u001b[35m/home/rhut/technicalPaperExampleNotebooks/wflow_20240314_120904/\u001b[0m\u001b[95mwflow_ewatercycle.ini\u001b[0m\n"
      ]
     },
     "metadata": {},
     "output_type": "display_data"
    },
    {
     "data": {
      "text/html": [
       "<pre style=\"white-space:pre;overflow-x:auto;line-height:normal;font-family:Menlo,'DejaVu Sans Mono',consolas,'Courier New',monospace\"><span style=\"color: #800080; text-decoration-color: #800080\">/home/rhut/technicalPaperExampleNotebooks/</span><span style=\"color: #ff00ff; text-decoration-color: #ff00ff\">wflow_20240314_120904</span>\n",
       "</pre>\n"
      ],
      "text/plain": [
       "\u001b[35m/home/rhut/technicalPaperExampleNotebooks/\u001b[0m\u001b[95mwflow_20240314_120904\u001b[0m\n"
      ]
     },
     "metadata": {},
     "output_type": "display_data"
    }
   ],
   "source": [
    "cfg_file, cfg_dir = model.setup(end_time=experiment_end_date)\n",
    "print(cfg_file)\n",
    "print(cfg_dir)"
   ]
  },
  {
   "cell_type": "code",
   "execution_count": 24,
   "metadata": {},
   "outputs": [],
   "source": [
    "# Initialize\n",
    "model.initialize(cfg_file)"
   ]
  },
  {
   "cell_type": "code",
   "execution_count": 25,
   "metadata": {},
   "outputs": [
    {
     "data": {
      "text/plain": [
       "('SurfaceRunoff', 'RiverRunoff')"
      ]
     },
     "execution_count": 25,
     "metadata": {},
     "output_type": "execute_result"
    }
   ],
   "source": [
    "# Get metadata\n",
    "model.output_var_names"
   ]
  },
  {
   "cell_type": "markdown",
   "metadata": {},
   "source": [
    "### Run the model\n",
    "\n",
    "We store discharge and time values. For time, only date part is kept using the function `date()`. So, we can create a dataframe joining the data on date later for the hydrograph. Wflow has steps at noon, while GRDC and lisflood uses midnight."
   ]
  },
  {
   "cell_type": "code",
   "execution_count": 26,
   "metadata": {},
   "outputs": [
    {
     "data": {
      "text/html": [
       "<pre style=\"white-space:pre;overflow-x:auto;line-height:normal;font-family:Menlo,'DejaVu Sans Mono',consolas,'Courier New',monospace\"><span style=\"color: #008080; text-decoration-color: #008080; font-weight: bold\">1990</span>-<span style=\"color: #008080; text-decoration-color: #008080; font-weight: bold\">01</span>-01T<span style=\"color: #00ff00; text-decoration-color: #00ff00; font-weight: bold\">12:00:00</span>Z\r",
       "</pre>\n"
      ],
      "text/plain": [
       "\u001b[1;36m1990\u001b[0m-\u001b[1;36m01\u001b[0m-01T\u001b[1;92m12:00:00\u001b[0mZ\r"
      ]
     },
     "metadata": {},
     "output_type": "display_data"
    },
    {
     "data": {
      "text/html": [
       "<pre style=\"white-space:pre;overflow-x:auto;line-height:normal;font-family:Menlo,'DejaVu Sans Mono',consolas,'Courier New',monospace\"><span style=\"color: #008080; text-decoration-color: #008080; font-weight: bold\">1990</span>-<span style=\"color: #008080; text-decoration-color: #008080; font-weight: bold\">01</span>-02T<span style=\"color: #00ff00; text-decoration-color: #00ff00; font-weight: bold\">12:00:00</span>Z\r",
       "</pre>\n"
      ],
      "text/plain": [
       "\u001b[1;36m1990\u001b[0m-\u001b[1;36m01\u001b[0m-02T\u001b[1;92m12:00:00\u001b[0mZ\r"
      ]
     },
     "metadata": {},
     "output_type": "display_data"
    },
    {
     "data": {
      "text/html": [
       "<pre style=\"white-space:pre;overflow-x:auto;line-height:normal;font-family:Menlo,'DejaVu Sans Mono',consolas,'Courier New',monospace\"><span style=\"color: #008080; text-decoration-color: #008080; font-weight: bold\">1990</span>-<span style=\"color: #008080; text-decoration-color: #008080; font-weight: bold\">01</span>-03T<span style=\"color: #00ff00; text-decoration-color: #00ff00; font-weight: bold\">12:00:00</span>Z\r",
       "</pre>\n"
      ],
      "text/plain": [
       "\u001b[1;36m1990\u001b[0m-\u001b[1;36m01\u001b[0m-03T\u001b[1;92m12:00:00\u001b[0mZ\r"
      ]
     },
     "metadata": {},
     "output_type": "display_data"
    },
    {
     "data": {
      "text/html": [
       "<pre style=\"white-space:pre;overflow-x:auto;line-height:normal;font-family:Menlo,'DejaVu Sans Mono',consolas,'Courier New',monospace\"><span style=\"color: #008080; text-decoration-color: #008080; font-weight: bold\">1990</span>-<span style=\"color: #008080; text-decoration-color: #008080; font-weight: bold\">01</span>-04T<span style=\"color: #00ff00; text-decoration-color: #00ff00; font-weight: bold\">12:00:00</span>Z\r",
       "</pre>\n"
      ],
      "text/plain": [
       "\u001b[1;36m1990\u001b[0m-\u001b[1;36m01\u001b[0m-04T\u001b[1;92m12:00:00\u001b[0mZ\r"
      ]
     },
     "metadata": {},
     "output_type": "display_data"
    },
    {
     "data": {
      "text/html": [
       "<pre style=\"white-space:pre;overflow-x:auto;line-height:normal;font-family:Menlo,'DejaVu Sans Mono',consolas,'Courier New',monospace\"><span style=\"color: #008080; text-decoration-color: #008080; font-weight: bold\">1990</span>-<span style=\"color: #008080; text-decoration-color: #008080; font-weight: bold\">01</span>-05T<span style=\"color: #00ff00; text-decoration-color: #00ff00; font-weight: bold\">12:00:00</span>Z\r",
       "</pre>\n"
      ],
      "text/plain": [
       "\u001b[1;36m1990\u001b[0m-\u001b[1;36m01\u001b[0m-05T\u001b[1;92m12:00:00\u001b[0mZ\r"
      ]
     },
     "metadata": {},
     "output_type": "display_data"
    },
    {
     "data": {
      "text/html": [
       "<pre style=\"white-space:pre;overflow-x:auto;line-height:normal;font-family:Menlo,'DejaVu Sans Mono',consolas,'Courier New',monospace\"><span style=\"color: #008080; text-decoration-color: #008080; font-weight: bold\">1990</span>-<span style=\"color: #008080; text-decoration-color: #008080; font-weight: bold\">01</span>-06T<span style=\"color: #00ff00; text-decoration-color: #00ff00; font-weight: bold\">12:00:00</span>Z\r",
       "</pre>\n"
      ],
      "text/plain": [
       "\u001b[1;36m1990\u001b[0m-\u001b[1;36m01\u001b[0m-06T\u001b[1;92m12:00:00\u001b[0mZ\r"
      ]
     },
     "metadata": {},
     "output_type": "display_data"
    },
    {
     "data": {
      "text/html": [
       "<pre style=\"white-space:pre;overflow-x:auto;line-height:normal;font-family:Menlo,'DejaVu Sans Mono',consolas,'Courier New',monospace\"><span style=\"color: #008080; text-decoration-color: #008080; font-weight: bold\">1990</span>-<span style=\"color: #008080; text-decoration-color: #008080; font-weight: bold\">01</span>-07T<span style=\"color: #00ff00; text-decoration-color: #00ff00; font-weight: bold\">12:00:00</span>Z\r",
       "</pre>\n"
      ],
      "text/plain": [
       "\u001b[1;36m1990\u001b[0m-\u001b[1;36m01\u001b[0m-07T\u001b[1;92m12:00:00\u001b[0mZ\r"
      ]
     },
     "metadata": {},
     "output_type": "display_data"
    },
    {
     "data": {
      "text/html": [
       "<pre style=\"white-space:pre;overflow-x:auto;line-height:normal;font-family:Menlo,'DejaVu Sans Mono',consolas,'Courier New',monospace\"><span style=\"color: #008080; text-decoration-color: #008080; font-weight: bold\">1990</span>-<span style=\"color: #008080; text-decoration-color: #008080; font-weight: bold\">01</span>-08T<span style=\"color: #00ff00; text-decoration-color: #00ff00; font-weight: bold\">12:00:00</span>Z\r",
       "</pre>\n"
      ],
      "text/plain": [
       "\u001b[1;36m1990\u001b[0m-\u001b[1;36m01\u001b[0m-08T\u001b[1;92m12:00:00\u001b[0mZ\r"
      ]
     },
     "metadata": {},
     "output_type": "display_data"
    },
    {
     "data": {
      "text/html": [
       "<pre style=\"white-space:pre;overflow-x:auto;line-height:normal;font-family:Menlo,'DejaVu Sans Mono',consolas,'Courier New',monospace\"><span style=\"color: #008080; text-decoration-color: #008080; font-weight: bold\">1990</span>-<span style=\"color: #008080; text-decoration-color: #008080; font-weight: bold\">01</span>-09T<span style=\"color: #00ff00; text-decoration-color: #00ff00; font-weight: bold\">12:00:00</span>Z\r",
       "</pre>\n"
      ],
      "text/plain": [
       "\u001b[1;36m1990\u001b[0m-\u001b[1;36m01\u001b[0m-09T\u001b[1;92m12:00:00\u001b[0mZ\r"
      ]
     },
     "metadata": {},
     "output_type": "display_data"
    },
    {
     "data": {
      "text/html": [
       "<pre style=\"white-space:pre;overflow-x:auto;line-height:normal;font-family:Menlo,'DejaVu Sans Mono',consolas,'Courier New',monospace\"><span style=\"color: #008080; text-decoration-color: #008080; font-weight: bold\">1990</span>-<span style=\"color: #008080; text-decoration-color: #008080; font-weight: bold\">01</span>-10T<span style=\"color: #00ff00; text-decoration-color: #00ff00; font-weight: bold\">12:00:00</span>Z\r",
       "</pre>\n"
      ],
      "text/plain": [
       "\u001b[1;36m1990\u001b[0m-\u001b[1;36m01\u001b[0m-10T\u001b[1;92m12:00:00\u001b[0mZ\r"
      ]
     },
     "metadata": {},
     "output_type": "display_data"
    },
    {
     "data": {
      "text/html": [
       "<pre style=\"white-space:pre;overflow-x:auto;line-height:normal;font-family:Menlo,'DejaVu Sans Mono',consolas,'Courier New',monospace\"><span style=\"color: #008080; text-decoration-color: #008080; font-weight: bold\">1990</span>-<span style=\"color: #008080; text-decoration-color: #008080; font-weight: bold\">01</span>-11T<span style=\"color: #00ff00; text-decoration-color: #00ff00; font-weight: bold\">12:00:00</span>Z\r",
       "</pre>\n"
      ],
      "text/plain": [
       "\u001b[1;36m1990\u001b[0m-\u001b[1;36m01\u001b[0m-11T\u001b[1;92m12:00:00\u001b[0mZ\r"
      ]
     },
     "metadata": {},
     "output_type": "display_data"
    },
    {
     "data": {
      "text/html": [
       "<pre style=\"white-space:pre;overflow-x:auto;line-height:normal;font-family:Menlo,'DejaVu Sans Mono',consolas,'Courier New',monospace\"><span style=\"color: #008080; text-decoration-color: #008080; font-weight: bold\">1990</span>-<span style=\"color: #008080; text-decoration-color: #008080; font-weight: bold\">01</span>-12T<span style=\"color: #00ff00; text-decoration-color: #00ff00; font-weight: bold\">12:00:00</span>Z\r",
       "</pre>\n"
      ],
      "text/plain": [
       "\u001b[1;36m1990\u001b[0m-\u001b[1;36m01\u001b[0m-12T\u001b[1;92m12:00:00\u001b[0mZ\r"
      ]
     },
     "metadata": {},
     "output_type": "display_data"
    },
    {
     "data": {
      "text/html": [
       "<pre style=\"white-space:pre;overflow-x:auto;line-height:normal;font-family:Menlo,'DejaVu Sans Mono',consolas,'Courier New',monospace\"><span style=\"color: #008080; text-decoration-color: #008080; font-weight: bold\">1990</span>-<span style=\"color: #008080; text-decoration-color: #008080; font-weight: bold\">01</span>-13T<span style=\"color: #00ff00; text-decoration-color: #00ff00; font-weight: bold\">12:00:00</span>Z\r",
       "</pre>\n"
      ],
      "text/plain": [
       "\u001b[1;36m1990\u001b[0m-\u001b[1;36m01\u001b[0m-13T\u001b[1;92m12:00:00\u001b[0mZ\r"
      ]
     },
     "metadata": {},
     "output_type": "display_data"
    },
    {
     "data": {
      "text/html": [
       "<pre style=\"white-space:pre;overflow-x:auto;line-height:normal;font-family:Menlo,'DejaVu Sans Mono',consolas,'Courier New',monospace\"><span style=\"color: #008080; text-decoration-color: #008080; font-weight: bold\">1990</span>-<span style=\"color: #008080; text-decoration-color: #008080; font-weight: bold\">01</span>-14T<span style=\"color: #00ff00; text-decoration-color: #00ff00; font-weight: bold\">12:00:00</span>Z\r",
       "</pre>\n"
      ],
      "text/plain": [
       "\u001b[1;36m1990\u001b[0m-\u001b[1;36m01\u001b[0m-14T\u001b[1;92m12:00:00\u001b[0mZ\r"
      ]
     },
     "metadata": {},
     "output_type": "display_data"
    },
    {
     "data": {
      "text/html": [
       "<pre style=\"white-space:pre;overflow-x:auto;line-height:normal;font-family:Menlo,'DejaVu Sans Mono',consolas,'Courier New',monospace\"><span style=\"color: #008080; text-decoration-color: #008080; font-weight: bold\">1990</span>-<span style=\"color: #008080; text-decoration-color: #008080; font-weight: bold\">01</span>-15T<span style=\"color: #00ff00; text-decoration-color: #00ff00; font-weight: bold\">12:00:00</span>Z\r",
       "</pre>\n"
      ],
      "text/plain": [
       "\u001b[1;36m1990\u001b[0m-\u001b[1;36m01\u001b[0m-15T\u001b[1;92m12:00:00\u001b[0mZ\r"
      ]
     },
     "metadata": {},
     "output_type": "display_data"
    },
    {
     "data": {
      "text/html": [
       "<pre style=\"white-space:pre;overflow-x:auto;line-height:normal;font-family:Menlo,'DejaVu Sans Mono',consolas,'Courier New',monospace\"><span style=\"color: #008080; text-decoration-color: #008080; font-weight: bold\">1990</span>-<span style=\"color: #008080; text-decoration-color: #008080; font-weight: bold\">01</span>-16T<span style=\"color: #00ff00; text-decoration-color: #00ff00; font-weight: bold\">12:00:00</span>Z\r",
       "</pre>\n"
      ],
      "text/plain": [
       "\u001b[1;36m1990\u001b[0m-\u001b[1;36m01\u001b[0m-16T\u001b[1;92m12:00:00\u001b[0mZ\r"
      ]
     },
     "metadata": {},
     "output_type": "display_data"
    },
    {
     "data": {
      "text/html": [
       "<pre style=\"white-space:pre;overflow-x:auto;line-height:normal;font-family:Menlo,'DejaVu Sans Mono',consolas,'Courier New',monospace\"><span style=\"color: #008080; text-decoration-color: #008080; font-weight: bold\">1990</span>-<span style=\"color: #008080; text-decoration-color: #008080; font-weight: bold\">01</span>-17T<span style=\"color: #00ff00; text-decoration-color: #00ff00; font-weight: bold\">12:00:00</span>Z\r",
       "</pre>\n"
      ],
      "text/plain": [
       "\u001b[1;36m1990\u001b[0m-\u001b[1;36m01\u001b[0m-17T\u001b[1;92m12:00:00\u001b[0mZ\r"
      ]
     },
     "metadata": {},
     "output_type": "display_data"
    },
    {
     "data": {
      "text/html": [
       "<pre style=\"white-space:pre;overflow-x:auto;line-height:normal;font-family:Menlo,'DejaVu Sans Mono',consolas,'Courier New',monospace\"><span style=\"color: #008080; text-decoration-color: #008080; font-weight: bold\">1990</span>-<span style=\"color: #008080; text-decoration-color: #008080; font-weight: bold\">01</span>-18T<span style=\"color: #00ff00; text-decoration-color: #00ff00; font-weight: bold\">12:00:00</span>Z\r",
       "</pre>\n"
      ],
      "text/plain": [
       "\u001b[1;36m1990\u001b[0m-\u001b[1;36m01\u001b[0m-18T\u001b[1;92m12:00:00\u001b[0mZ\r"
      ]
     },
     "metadata": {},
     "output_type": "display_data"
    },
    {
     "data": {
      "text/html": [
       "<pre style=\"white-space:pre;overflow-x:auto;line-height:normal;font-family:Menlo,'DejaVu Sans Mono',consolas,'Courier New',monospace\"><span style=\"color: #008080; text-decoration-color: #008080; font-weight: bold\">1990</span>-<span style=\"color: #008080; text-decoration-color: #008080; font-weight: bold\">01</span>-19T<span style=\"color: #00ff00; text-decoration-color: #00ff00; font-weight: bold\">12:00:00</span>Z\r",
       "</pre>\n"
      ],
      "text/plain": [
       "\u001b[1;36m1990\u001b[0m-\u001b[1;36m01\u001b[0m-19T\u001b[1;92m12:00:00\u001b[0mZ\r"
      ]
     },
     "metadata": {},
     "output_type": "display_data"
    },
    {
     "data": {
      "text/html": [
       "<pre style=\"white-space:pre;overflow-x:auto;line-height:normal;font-family:Menlo,'DejaVu Sans Mono',consolas,'Courier New',monospace\"><span style=\"color: #008080; text-decoration-color: #008080; font-weight: bold\">1990</span>-<span style=\"color: #008080; text-decoration-color: #008080; font-weight: bold\">01</span>-20T<span style=\"color: #00ff00; text-decoration-color: #00ff00; font-weight: bold\">12:00:00</span>Z\r",
       "</pre>\n"
      ],
      "text/plain": [
       "\u001b[1;36m1990\u001b[0m-\u001b[1;36m01\u001b[0m-20T\u001b[1;92m12:00:00\u001b[0mZ\r"
      ]
     },
     "metadata": {},
     "output_type": "display_data"
    },
    {
     "data": {
      "text/html": [
       "<pre style=\"white-space:pre;overflow-x:auto;line-height:normal;font-family:Menlo,'DejaVu Sans Mono',consolas,'Courier New',monospace\"><span style=\"color: #008080; text-decoration-color: #008080; font-weight: bold\">1990</span>-<span style=\"color: #008080; text-decoration-color: #008080; font-weight: bold\">01</span>-21T<span style=\"color: #00ff00; text-decoration-color: #00ff00; font-weight: bold\">12:00:00</span>Z\r",
       "</pre>\n"
      ],
      "text/plain": [
       "\u001b[1;36m1990\u001b[0m-\u001b[1;36m01\u001b[0m-21T\u001b[1;92m12:00:00\u001b[0mZ\r"
      ]
     },
     "metadata": {},
     "output_type": "display_data"
    },
    {
     "data": {
      "text/html": [
       "<pre style=\"white-space:pre;overflow-x:auto;line-height:normal;font-family:Menlo,'DejaVu Sans Mono',consolas,'Courier New',monospace\"><span style=\"color: #008080; text-decoration-color: #008080; font-weight: bold\">1990</span>-<span style=\"color: #008080; text-decoration-color: #008080; font-weight: bold\">01</span>-22T<span style=\"color: #00ff00; text-decoration-color: #00ff00; font-weight: bold\">12:00:00</span>Z\r",
       "</pre>\n"
      ],
      "text/plain": [
       "\u001b[1;36m1990\u001b[0m-\u001b[1;36m01\u001b[0m-22T\u001b[1;92m12:00:00\u001b[0mZ\r"
      ]
     },
     "metadata": {},
     "output_type": "display_data"
    },
    {
     "data": {
      "text/html": [
       "<pre style=\"white-space:pre;overflow-x:auto;line-height:normal;font-family:Menlo,'DejaVu Sans Mono',consolas,'Courier New',monospace\"><span style=\"color: #008080; text-decoration-color: #008080; font-weight: bold\">1990</span>-<span style=\"color: #008080; text-decoration-color: #008080; font-weight: bold\">01</span>-23T<span style=\"color: #00ff00; text-decoration-color: #00ff00; font-weight: bold\">12:00:00</span>Z\r",
       "</pre>\n"
      ],
      "text/plain": [
       "\u001b[1;36m1990\u001b[0m-\u001b[1;36m01\u001b[0m-23T\u001b[1;92m12:00:00\u001b[0mZ\r"
      ]
     },
     "metadata": {},
     "output_type": "display_data"
    },
    {
     "data": {
      "text/html": [
       "<pre style=\"white-space:pre;overflow-x:auto;line-height:normal;font-family:Menlo,'DejaVu Sans Mono',consolas,'Courier New',monospace\"><span style=\"color: #008080; text-decoration-color: #008080; font-weight: bold\">1990</span>-<span style=\"color: #008080; text-decoration-color: #008080; font-weight: bold\">01</span>-24T<span style=\"color: #00ff00; text-decoration-color: #00ff00; font-weight: bold\">12:00:00</span>Z\r",
       "</pre>\n"
      ],
      "text/plain": [
       "\u001b[1;36m1990\u001b[0m-\u001b[1;36m01\u001b[0m-24T\u001b[1;92m12:00:00\u001b[0mZ\r"
      ]
     },
     "metadata": {},
     "output_type": "display_data"
    },
    {
     "data": {
      "text/html": [
       "<pre style=\"white-space:pre;overflow-x:auto;line-height:normal;font-family:Menlo,'DejaVu Sans Mono',consolas,'Courier New',monospace\"><span style=\"color: #008080; text-decoration-color: #008080; font-weight: bold\">1990</span>-<span style=\"color: #008080; text-decoration-color: #008080; font-weight: bold\">01</span>-25T<span style=\"color: #00ff00; text-decoration-color: #00ff00; font-weight: bold\">12:00:00</span>Z\r",
       "</pre>\n"
      ],
      "text/plain": [
       "\u001b[1;36m1990\u001b[0m-\u001b[1;36m01\u001b[0m-25T\u001b[1;92m12:00:00\u001b[0mZ\r"
      ]
     },
     "metadata": {},
     "output_type": "display_data"
    },
    {
     "data": {
      "text/html": [
       "<pre style=\"white-space:pre;overflow-x:auto;line-height:normal;font-family:Menlo,'DejaVu Sans Mono',consolas,'Courier New',monospace\"><span style=\"color: #008080; text-decoration-color: #008080; font-weight: bold\">1990</span>-<span style=\"color: #008080; text-decoration-color: #008080; font-weight: bold\">01</span>-26T<span style=\"color: #00ff00; text-decoration-color: #00ff00; font-weight: bold\">12:00:00</span>Z\r",
       "</pre>\n"
      ],
      "text/plain": [
       "\u001b[1;36m1990\u001b[0m-\u001b[1;36m01\u001b[0m-26T\u001b[1;92m12:00:00\u001b[0mZ\r"
      ]
     },
     "metadata": {},
     "output_type": "display_data"
    },
    {
     "data": {
      "text/html": [
       "<pre style=\"white-space:pre;overflow-x:auto;line-height:normal;font-family:Menlo,'DejaVu Sans Mono',consolas,'Courier New',monospace\"><span style=\"color: #008080; text-decoration-color: #008080; font-weight: bold\">1990</span>-<span style=\"color: #008080; text-decoration-color: #008080; font-weight: bold\">01</span>-27T<span style=\"color: #00ff00; text-decoration-color: #00ff00; font-weight: bold\">12:00:00</span>Z\r",
       "</pre>\n"
      ],
      "text/plain": [
       "\u001b[1;36m1990\u001b[0m-\u001b[1;36m01\u001b[0m-27T\u001b[1;92m12:00:00\u001b[0mZ\r"
      ]
     },
     "metadata": {},
     "output_type": "display_data"
    },
    {
     "data": {
      "text/html": [
       "<pre style=\"white-space:pre;overflow-x:auto;line-height:normal;font-family:Menlo,'DejaVu Sans Mono',consolas,'Courier New',monospace\"><span style=\"color: #008080; text-decoration-color: #008080; font-weight: bold\">1990</span>-<span style=\"color: #008080; text-decoration-color: #008080; font-weight: bold\">01</span>-28T<span style=\"color: #00ff00; text-decoration-color: #00ff00; font-weight: bold\">12:00:00</span>Z\r",
       "</pre>\n"
      ],
      "text/plain": [
       "\u001b[1;36m1990\u001b[0m-\u001b[1;36m01\u001b[0m-28T\u001b[1;92m12:00:00\u001b[0mZ\r"
      ]
     },
     "metadata": {},
     "output_type": "display_data"
    },
    {
     "data": {
      "text/html": [
       "<pre style=\"white-space:pre;overflow-x:auto;line-height:normal;font-family:Menlo,'DejaVu Sans Mono',consolas,'Courier New',monospace\"><span style=\"color: #008080; text-decoration-color: #008080; font-weight: bold\">1990</span>-<span style=\"color: #008080; text-decoration-color: #008080; font-weight: bold\">01</span>-29T<span style=\"color: #00ff00; text-decoration-color: #00ff00; font-weight: bold\">12:00:00</span>Z\r",
       "</pre>\n"
      ],
      "text/plain": [
       "\u001b[1;36m1990\u001b[0m-\u001b[1;36m01\u001b[0m-29T\u001b[1;92m12:00:00\u001b[0mZ\r"
      ]
     },
     "metadata": {},
     "output_type": "display_data"
    },
    {
     "data": {
      "text/html": [
       "<pre style=\"white-space:pre;overflow-x:auto;line-height:normal;font-family:Menlo,'DejaVu Sans Mono',consolas,'Courier New',monospace\"><span style=\"color: #008080; text-decoration-color: #008080; font-weight: bold\">1990</span>-<span style=\"color: #008080; text-decoration-color: #008080; font-weight: bold\">01</span>-30T<span style=\"color: #00ff00; text-decoration-color: #00ff00; font-weight: bold\">12:00:00</span>Z\r",
       "</pre>\n"
      ],
      "text/plain": [
       "\u001b[1;36m1990\u001b[0m-\u001b[1;36m01\u001b[0m-30T\u001b[1;92m12:00:00\u001b[0mZ\r"
      ]
     },
     "metadata": {},
     "output_type": "display_data"
    },
    {
     "data": {
      "text/html": [
       "<pre style=\"white-space:pre;overflow-x:auto;line-height:normal;font-family:Menlo,'DejaVu Sans Mono',consolas,'Courier New',monospace\"><span style=\"color: #008080; text-decoration-color: #008080; font-weight: bold\">1990</span>-<span style=\"color: #008080; text-decoration-color: #008080; font-weight: bold\">01</span>-31T<span style=\"color: #00ff00; text-decoration-color: #00ff00; font-weight: bold\">12:00:00</span>Z\r",
       "</pre>\n"
      ],
      "text/plain": [
       "\u001b[1;36m1990\u001b[0m-\u001b[1;36m01\u001b[0m-31T\u001b[1;92m12:00:00\u001b[0mZ\r"
      ]
     },
     "metadata": {},
     "output_type": "display_data"
    },
    {
     "data": {
      "text/html": [
       "<pre style=\"white-space:pre;overflow-x:auto;line-height:normal;font-family:Menlo,'DejaVu Sans Mono',consolas,'Courier New',monospace\"><span style=\"color: #008080; text-decoration-color: #008080; font-weight: bold\">1990</span>-<span style=\"color: #008080; text-decoration-color: #008080; font-weight: bold\">02</span>-01T<span style=\"color: #00ff00; text-decoration-color: #00ff00; font-weight: bold\">12:00:00</span>Z\r",
       "</pre>\n"
      ],
      "text/plain": [
       "\u001b[1;36m1990\u001b[0m-\u001b[1;36m02\u001b[0m-01T\u001b[1;92m12:00:00\u001b[0mZ\r"
      ]
     },
     "metadata": {},
     "output_type": "display_data"
    },
    {
     "data": {
      "text/html": [
       "<pre style=\"white-space:pre;overflow-x:auto;line-height:normal;font-family:Menlo,'DejaVu Sans Mono',consolas,'Courier New',monospace\"><span style=\"color: #008080; text-decoration-color: #008080; font-weight: bold\">1990</span>-<span style=\"color: #008080; text-decoration-color: #008080; font-weight: bold\">02</span>-02T<span style=\"color: #00ff00; text-decoration-color: #00ff00; font-weight: bold\">12:00:00</span>Z\r",
       "</pre>\n"
      ],
      "text/plain": [
       "\u001b[1;36m1990\u001b[0m-\u001b[1;36m02\u001b[0m-02T\u001b[1;92m12:00:00\u001b[0mZ\r"
      ]
     },
     "metadata": {},
     "output_type": "display_data"
    },
    {
     "data": {
      "text/html": [
       "<pre style=\"white-space:pre;overflow-x:auto;line-height:normal;font-family:Menlo,'DejaVu Sans Mono',consolas,'Courier New',monospace\"><span style=\"color: #008080; text-decoration-color: #008080; font-weight: bold\">1990</span>-<span style=\"color: #008080; text-decoration-color: #008080; font-weight: bold\">02</span>-03T<span style=\"color: #00ff00; text-decoration-color: #00ff00; font-weight: bold\">12:00:00</span>Z\r",
       "</pre>\n"
      ],
      "text/plain": [
       "\u001b[1;36m1990\u001b[0m-\u001b[1;36m02\u001b[0m-03T\u001b[1;92m12:00:00\u001b[0mZ\r"
      ]
     },
     "metadata": {},
     "output_type": "display_data"
    },
    {
     "data": {
      "text/html": [
       "<pre style=\"white-space:pre;overflow-x:auto;line-height:normal;font-family:Menlo,'DejaVu Sans Mono',consolas,'Courier New',monospace\"><span style=\"color: #008080; text-decoration-color: #008080; font-weight: bold\">1990</span>-<span style=\"color: #008080; text-decoration-color: #008080; font-weight: bold\">02</span>-04T<span style=\"color: #00ff00; text-decoration-color: #00ff00; font-weight: bold\">12:00:00</span>Z\r",
       "</pre>\n"
      ],
      "text/plain": [
       "\u001b[1;36m1990\u001b[0m-\u001b[1;36m02\u001b[0m-04T\u001b[1;92m12:00:00\u001b[0mZ\r"
      ]
     },
     "metadata": {},
     "output_type": "display_data"
    },
    {
     "data": {
      "text/html": [
       "<pre style=\"white-space:pre;overflow-x:auto;line-height:normal;font-family:Menlo,'DejaVu Sans Mono',consolas,'Courier New',monospace\"><span style=\"color: #008080; text-decoration-color: #008080; font-weight: bold\">1990</span>-<span style=\"color: #008080; text-decoration-color: #008080; font-weight: bold\">02</span>-05T<span style=\"color: #00ff00; text-decoration-color: #00ff00; font-weight: bold\">12:00:00</span>Z\r",
       "</pre>\n"
      ],
      "text/plain": [
       "\u001b[1;36m1990\u001b[0m-\u001b[1;36m02\u001b[0m-05T\u001b[1;92m12:00:00\u001b[0mZ\r"
      ]
     },
     "metadata": {},
     "output_type": "display_data"
    },
    {
     "data": {
      "text/html": [
       "<pre style=\"white-space:pre;overflow-x:auto;line-height:normal;font-family:Menlo,'DejaVu Sans Mono',consolas,'Courier New',monospace\"><span style=\"color: #008080; text-decoration-color: #008080; font-weight: bold\">1990</span>-<span style=\"color: #008080; text-decoration-color: #008080; font-weight: bold\">02</span>-06T<span style=\"color: #00ff00; text-decoration-color: #00ff00; font-weight: bold\">12:00:00</span>Z\r",
       "</pre>\n"
      ],
      "text/plain": [
       "\u001b[1;36m1990\u001b[0m-\u001b[1;36m02\u001b[0m-06T\u001b[1;92m12:00:00\u001b[0mZ\r"
      ]
     },
     "metadata": {},
     "output_type": "display_data"
    },
    {
     "data": {
      "text/html": [
       "<pre style=\"white-space:pre;overflow-x:auto;line-height:normal;font-family:Menlo,'DejaVu Sans Mono',consolas,'Courier New',monospace\"><span style=\"color: #008080; text-decoration-color: #008080; font-weight: bold\">1990</span>-<span style=\"color: #008080; text-decoration-color: #008080; font-weight: bold\">02</span>-07T<span style=\"color: #00ff00; text-decoration-color: #00ff00; font-weight: bold\">12:00:00</span>Z\r",
       "</pre>\n"
      ],
      "text/plain": [
       "\u001b[1;36m1990\u001b[0m-\u001b[1;36m02\u001b[0m-07T\u001b[1;92m12:00:00\u001b[0mZ\r"
      ]
     },
     "metadata": {},
     "output_type": "display_data"
    },
    {
     "data": {
      "text/html": [
       "<pre style=\"white-space:pre;overflow-x:auto;line-height:normal;font-family:Menlo,'DejaVu Sans Mono',consolas,'Courier New',monospace\"><span style=\"color: #008080; text-decoration-color: #008080; font-weight: bold\">1990</span>-<span style=\"color: #008080; text-decoration-color: #008080; font-weight: bold\">02</span>-08T<span style=\"color: #00ff00; text-decoration-color: #00ff00; font-weight: bold\">12:00:00</span>Z\r",
       "</pre>\n"
      ],
      "text/plain": [
       "\u001b[1;36m1990\u001b[0m-\u001b[1;36m02\u001b[0m-08T\u001b[1;92m12:00:00\u001b[0mZ\r"
      ]
     },
     "metadata": {},
     "output_type": "display_data"
    },
    {
     "data": {
      "text/html": [
       "<pre style=\"white-space:pre;overflow-x:auto;line-height:normal;font-family:Menlo,'DejaVu Sans Mono',consolas,'Courier New',monospace\"><span style=\"color: #008080; text-decoration-color: #008080; font-weight: bold\">1990</span>-<span style=\"color: #008080; text-decoration-color: #008080; font-weight: bold\">02</span>-09T<span style=\"color: #00ff00; text-decoration-color: #00ff00; font-weight: bold\">12:00:00</span>Z\r",
       "</pre>\n"
      ],
      "text/plain": [
       "\u001b[1;36m1990\u001b[0m-\u001b[1;36m02\u001b[0m-09T\u001b[1;92m12:00:00\u001b[0mZ\r"
      ]
     },
     "metadata": {},
     "output_type": "display_data"
    },
    {
     "data": {
      "text/html": [
       "<pre style=\"white-space:pre;overflow-x:auto;line-height:normal;font-family:Menlo,'DejaVu Sans Mono',consolas,'Courier New',monospace\"><span style=\"color: #008080; text-decoration-color: #008080; font-weight: bold\">1990</span>-<span style=\"color: #008080; text-decoration-color: #008080; font-weight: bold\">02</span>-10T<span style=\"color: #00ff00; text-decoration-color: #00ff00; font-weight: bold\">12:00:00</span>Z\r",
       "</pre>\n"
      ],
      "text/plain": [
       "\u001b[1;36m1990\u001b[0m-\u001b[1;36m02\u001b[0m-10T\u001b[1;92m12:00:00\u001b[0mZ\r"
      ]
     },
     "metadata": {},
     "output_type": "display_data"
    },
    {
     "data": {
      "text/html": [
       "<pre style=\"white-space:pre;overflow-x:auto;line-height:normal;font-family:Menlo,'DejaVu Sans Mono',consolas,'Courier New',monospace\"><span style=\"color: #008080; text-decoration-color: #008080; font-weight: bold\">1990</span>-<span style=\"color: #008080; text-decoration-color: #008080; font-weight: bold\">02</span>-11T<span style=\"color: #00ff00; text-decoration-color: #00ff00; font-weight: bold\">12:00:00</span>Z\r",
       "</pre>\n"
      ],
      "text/plain": [
       "\u001b[1;36m1990\u001b[0m-\u001b[1;36m02\u001b[0m-11T\u001b[1;92m12:00:00\u001b[0mZ\r"
      ]
     },
     "metadata": {},
     "output_type": "display_data"
    },
    {
     "data": {
      "text/html": [
       "<pre style=\"white-space:pre;overflow-x:auto;line-height:normal;font-family:Menlo,'DejaVu Sans Mono',consolas,'Courier New',monospace\"><span style=\"color: #008080; text-decoration-color: #008080; font-weight: bold\">1990</span>-<span style=\"color: #008080; text-decoration-color: #008080; font-weight: bold\">02</span>-12T<span style=\"color: #00ff00; text-decoration-color: #00ff00; font-weight: bold\">12:00:00</span>Z\r",
       "</pre>\n"
      ],
      "text/plain": [
       "\u001b[1;36m1990\u001b[0m-\u001b[1;36m02\u001b[0m-12T\u001b[1;92m12:00:00\u001b[0mZ\r"
      ]
     },
     "metadata": {},
     "output_type": "display_data"
    },
    {
     "data": {
      "text/html": [
       "<pre style=\"white-space:pre;overflow-x:auto;line-height:normal;font-family:Menlo,'DejaVu Sans Mono',consolas,'Courier New',monospace\"><span style=\"color: #008080; text-decoration-color: #008080; font-weight: bold\">1990</span>-<span style=\"color: #008080; text-decoration-color: #008080; font-weight: bold\">02</span>-13T<span style=\"color: #00ff00; text-decoration-color: #00ff00; font-weight: bold\">12:00:00</span>Z\r",
       "</pre>\n"
      ],
      "text/plain": [
       "\u001b[1;36m1990\u001b[0m-\u001b[1;36m02\u001b[0m-13T\u001b[1;92m12:00:00\u001b[0mZ\r"
      ]
     },
     "metadata": {},
     "output_type": "display_data"
    },
    {
     "data": {
      "text/html": [
       "<pre style=\"white-space:pre;overflow-x:auto;line-height:normal;font-family:Menlo,'DejaVu Sans Mono',consolas,'Courier New',monospace\"><span style=\"color: #008080; text-decoration-color: #008080; font-weight: bold\">1990</span>-<span style=\"color: #008080; text-decoration-color: #008080; font-weight: bold\">02</span>-14T<span style=\"color: #00ff00; text-decoration-color: #00ff00; font-weight: bold\">12:00:00</span>Z\r",
       "</pre>\n"
      ],
      "text/plain": [
       "\u001b[1;36m1990\u001b[0m-\u001b[1;36m02\u001b[0m-14T\u001b[1;92m12:00:00\u001b[0mZ\r"
      ]
     },
     "metadata": {},
     "output_type": "display_data"
    },
    {
     "data": {
      "text/html": [
       "<pre style=\"white-space:pre;overflow-x:auto;line-height:normal;font-family:Menlo,'DejaVu Sans Mono',consolas,'Courier New',monospace\"><span style=\"color: #008080; text-decoration-color: #008080; font-weight: bold\">1990</span>-<span style=\"color: #008080; text-decoration-color: #008080; font-weight: bold\">02</span>-15T<span style=\"color: #00ff00; text-decoration-color: #00ff00; font-weight: bold\">12:00:00</span>Z\r",
       "</pre>\n"
      ],
      "text/plain": [
       "\u001b[1;36m1990\u001b[0m-\u001b[1;36m02\u001b[0m-15T\u001b[1;92m12:00:00\u001b[0mZ\r"
      ]
     },
     "metadata": {},
     "output_type": "display_data"
    },
    {
     "data": {
      "text/html": [
       "<pre style=\"white-space:pre;overflow-x:auto;line-height:normal;font-family:Menlo,'DejaVu Sans Mono',consolas,'Courier New',monospace\"><span style=\"color: #008080; text-decoration-color: #008080; font-weight: bold\">1990</span>-<span style=\"color: #008080; text-decoration-color: #008080; font-weight: bold\">02</span>-16T<span style=\"color: #00ff00; text-decoration-color: #00ff00; font-weight: bold\">12:00:00</span>Z\r",
       "</pre>\n"
      ],
      "text/plain": [
       "\u001b[1;36m1990\u001b[0m-\u001b[1;36m02\u001b[0m-16T\u001b[1;92m12:00:00\u001b[0mZ\r"
      ]
     },
     "metadata": {},
     "output_type": "display_data"
    },
    {
     "data": {
      "text/html": [
       "<pre style=\"white-space:pre;overflow-x:auto;line-height:normal;font-family:Menlo,'DejaVu Sans Mono',consolas,'Courier New',monospace\"><span style=\"color: #008080; text-decoration-color: #008080; font-weight: bold\">1990</span>-<span style=\"color: #008080; text-decoration-color: #008080; font-weight: bold\">02</span>-17T<span style=\"color: #00ff00; text-decoration-color: #00ff00; font-weight: bold\">12:00:00</span>Z\r",
       "</pre>\n"
      ],
      "text/plain": [
       "\u001b[1;36m1990\u001b[0m-\u001b[1;36m02\u001b[0m-17T\u001b[1;92m12:00:00\u001b[0mZ\r"
      ]
     },
     "metadata": {},
     "output_type": "display_data"
    },
    {
     "data": {
      "text/html": [
       "<pre style=\"white-space:pre;overflow-x:auto;line-height:normal;font-family:Menlo,'DejaVu Sans Mono',consolas,'Courier New',monospace\"><span style=\"color: #008080; text-decoration-color: #008080; font-weight: bold\">1990</span>-<span style=\"color: #008080; text-decoration-color: #008080; font-weight: bold\">02</span>-18T<span style=\"color: #00ff00; text-decoration-color: #00ff00; font-weight: bold\">12:00:00</span>Z\r",
       "</pre>\n"
      ],
      "text/plain": [
       "\u001b[1;36m1990\u001b[0m-\u001b[1;36m02\u001b[0m-18T\u001b[1;92m12:00:00\u001b[0mZ\r"
      ]
     },
     "metadata": {},
     "output_type": "display_data"
    },
    {
     "data": {
      "text/html": [
       "<pre style=\"white-space:pre;overflow-x:auto;line-height:normal;font-family:Menlo,'DejaVu Sans Mono',consolas,'Courier New',monospace\"><span style=\"color: #008080; text-decoration-color: #008080; font-weight: bold\">1990</span>-<span style=\"color: #008080; text-decoration-color: #008080; font-weight: bold\">02</span>-19T<span style=\"color: #00ff00; text-decoration-color: #00ff00; font-weight: bold\">12:00:00</span>Z\r",
       "</pre>\n"
      ],
      "text/plain": [
       "\u001b[1;36m1990\u001b[0m-\u001b[1;36m02\u001b[0m-19T\u001b[1;92m12:00:00\u001b[0mZ\r"
      ]
     },
     "metadata": {},
     "output_type": "display_data"
    },
    {
     "data": {
      "text/html": [
       "<pre style=\"white-space:pre;overflow-x:auto;line-height:normal;font-family:Menlo,'DejaVu Sans Mono',consolas,'Courier New',monospace\"><span style=\"color: #008080; text-decoration-color: #008080; font-weight: bold\">1990</span>-<span style=\"color: #008080; text-decoration-color: #008080; font-weight: bold\">02</span>-20T<span style=\"color: #00ff00; text-decoration-color: #00ff00; font-weight: bold\">12:00:00</span>Z\r",
       "</pre>\n"
      ],
      "text/plain": [
       "\u001b[1;36m1990\u001b[0m-\u001b[1;36m02\u001b[0m-20T\u001b[1;92m12:00:00\u001b[0mZ\r"
      ]
     },
     "metadata": {},
     "output_type": "display_data"
    },
    {
     "data": {
      "text/html": [
       "<pre style=\"white-space:pre;overflow-x:auto;line-height:normal;font-family:Menlo,'DejaVu Sans Mono',consolas,'Courier New',monospace\"><span style=\"color: #008080; text-decoration-color: #008080; font-weight: bold\">1990</span>-<span style=\"color: #008080; text-decoration-color: #008080; font-weight: bold\">02</span>-21T<span style=\"color: #00ff00; text-decoration-color: #00ff00; font-weight: bold\">12:00:00</span>Z\r",
       "</pre>\n"
      ],
      "text/plain": [
       "\u001b[1;36m1990\u001b[0m-\u001b[1;36m02\u001b[0m-21T\u001b[1;92m12:00:00\u001b[0mZ\r"
      ]
     },
     "metadata": {},
     "output_type": "display_data"
    },
    {
     "data": {
      "text/html": [
       "<pre style=\"white-space:pre;overflow-x:auto;line-height:normal;font-family:Menlo,'DejaVu Sans Mono',consolas,'Courier New',monospace\"><span style=\"color: #008080; text-decoration-color: #008080; font-weight: bold\">1990</span>-<span style=\"color: #008080; text-decoration-color: #008080; font-weight: bold\">02</span>-22T<span style=\"color: #00ff00; text-decoration-color: #00ff00; font-weight: bold\">12:00:00</span>Z\r",
       "</pre>\n"
      ],
      "text/plain": [
       "\u001b[1;36m1990\u001b[0m-\u001b[1;36m02\u001b[0m-22T\u001b[1;92m12:00:00\u001b[0mZ\r"
      ]
     },
     "metadata": {},
     "output_type": "display_data"
    },
    {
     "data": {
      "text/html": [
       "<pre style=\"white-space:pre;overflow-x:auto;line-height:normal;font-family:Menlo,'DejaVu Sans Mono',consolas,'Courier New',monospace\"><span style=\"color: #008080; text-decoration-color: #008080; font-weight: bold\">1990</span>-<span style=\"color: #008080; text-decoration-color: #008080; font-weight: bold\">02</span>-23T<span style=\"color: #00ff00; text-decoration-color: #00ff00; font-weight: bold\">12:00:00</span>Z\r",
       "</pre>\n"
      ],
      "text/plain": [
       "\u001b[1;36m1990\u001b[0m-\u001b[1;36m02\u001b[0m-23T\u001b[1;92m12:00:00\u001b[0mZ\r"
      ]
     },
     "metadata": {},
     "output_type": "display_data"
    },
    {
     "data": {
      "text/html": [
       "<pre style=\"white-space:pre;overflow-x:auto;line-height:normal;font-family:Menlo,'DejaVu Sans Mono',consolas,'Courier New',monospace\"><span style=\"color: #008080; text-decoration-color: #008080; font-weight: bold\">1990</span>-<span style=\"color: #008080; text-decoration-color: #008080; font-weight: bold\">02</span>-24T<span style=\"color: #00ff00; text-decoration-color: #00ff00; font-weight: bold\">12:00:00</span>Z\r",
       "</pre>\n"
      ],
      "text/plain": [
       "\u001b[1;36m1990\u001b[0m-\u001b[1;36m02\u001b[0m-24T\u001b[1;92m12:00:00\u001b[0mZ\r"
      ]
     },
     "metadata": {},
     "output_type": "display_data"
    },
    {
     "data": {
      "text/html": [
       "<pre style=\"white-space:pre;overflow-x:auto;line-height:normal;font-family:Menlo,'DejaVu Sans Mono',consolas,'Courier New',monospace\"><span style=\"color: #008080; text-decoration-color: #008080; font-weight: bold\">1990</span>-<span style=\"color: #008080; text-decoration-color: #008080; font-weight: bold\">02</span>-25T<span style=\"color: #00ff00; text-decoration-color: #00ff00; font-weight: bold\">12:00:00</span>Z\r",
       "</pre>\n"
      ],
      "text/plain": [
       "\u001b[1;36m1990\u001b[0m-\u001b[1;36m02\u001b[0m-25T\u001b[1;92m12:00:00\u001b[0mZ\r"
      ]
     },
     "metadata": {},
     "output_type": "display_data"
    },
    {
     "data": {
      "text/html": [
       "<pre style=\"white-space:pre;overflow-x:auto;line-height:normal;font-family:Menlo,'DejaVu Sans Mono',consolas,'Courier New',monospace\"><span style=\"color: #008080; text-decoration-color: #008080; font-weight: bold\">1990</span>-<span style=\"color: #008080; text-decoration-color: #008080; font-weight: bold\">02</span>-26T<span style=\"color: #00ff00; text-decoration-color: #00ff00; font-weight: bold\">12:00:00</span>Z\r",
       "</pre>\n"
      ],
      "text/plain": [
       "\u001b[1;36m1990\u001b[0m-\u001b[1;36m02\u001b[0m-26T\u001b[1;92m12:00:00\u001b[0mZ\r"
      ]
     },
     "metadata": {},
     "output_type": "display_data"
    },
    {
     "data": {
      "text/html": [
       "<pre style=\"white-space:pre;overflow-x:auto;line-height:normal;font-family:Menlo,'DejaVu Sans Mono',consolas,'Courier New',monospace\"><span style=\"color: #008080; text-decoration-color: #008080; font-weight: bold\">1990</span>-<span style=\"color: #008080; text-decoration-color: #008080; font-weight: bold\">02</span>-27T<span style=\"color: #00ff00; text-decoration-color: #00ff00; font-weight: bold\">12:00:00</span>Z\r",
       "</pre>\n"
      ],
      "text/plain": [
       "\u001b[1;36m1990\u001b[0m-\u001b[1;36m02\u001b[0m-27T\u001b[1;92m12:00:00\u001b[0mZ\r"
      ]
     },
     "metadata": {},
     "output_type": "display_data"
    },
    {
     "data": {
      "text/html": [
       "<pre style=\"white-space:pre;overflow-x:auto;line-height:normal;font-family:Menlo,'DejaVu Sans Mono',consolas,'Courier New',monospace\"><span style=\"color: #008080; text-decoration-color: #008080; font-weight: bold\">1990</span>-<span style=\"color: #008080; text-decoration-color: #008080; font-weight: bold\">02</span>-28T<span style=\"color: #00ff00; text-decoration-color: #00ff00; font-weight: bold\">12:00:00</span>Z\r",
       "</pre>\n"
      ],
      "text/plain": [
       "\u001b[1;36m1990\u001b[0m-\u001b[1;36m02\u001b[0m-28T\u001b[1;92m12:00:00\u001b[0mZ\r"
      ]
     },
     "metadata": {},
     "output_type": "display_data"
    },
    {
     "data": {
      "text/html": [
       "<pre style=\"white-space:pre;overflow-x:auto;line-height:normal;font-family:Menlo,'DejaVu Sans Mono',consolas,'Courier New',monospace\"><span style=\"color: #008080; text-decoration-color: #008080; font-weight: bold\">1990</span>-<span style=\"color: #008080; text-decoration-color: #008080; font-weight: bold\">03</span>-01T<span style=\"color: #00ff00; text-decoration-color: #00ff00; font-weight: bold\">12:00:00</span>Z\r",
       "</pre>\n"
      ],
      "text/plain": [
       "\u001b[1;36m1990\u001b[0m-\u001b[1;36m03\u001b[0m-01T\u001b[1;92m12:00:00\u001b[0mZ\r"
      ]
     },
     "metadata": {},
     "output_type": "display_data"
    },
    {
     "data": {
      "text/html": [
       "<pre style=\"white-space:pre;overflow-x:auto;line-height:normal;font-family:Menlo,'DejaVu Sans Mono',consolas,'Courier New',monospace\"><span style=\"color: #008080; text-decoration-color: #008080; font-weight: bold\">1990</span>-<span style=\"color: #008080; text-decoration-color: #008080; font-weight: bold\">03</span>-02T<span style=\"color: #00ff00; text-decoration-color: #00ff00; font-weight: bold\">12:00:00</span>Z\r",
       "</pre>\n"
      ],
      "text/plain": [
       "\u001b[1;36m1990\u001b[0m-\u001b[1;36m03\u001b[0m-02T\u001b[1;92m12:00:00\u001b[0mZ\r"
      ]
     },
     "metadata": {},
     "output_type": "display_data"
    },
    {
     "data": {
      "text/html": [
       "<pre style=\"white-space:pre;overflow-x:auto;line-height:normal;font-family:Menlo,'DejaVu Sans Mono',consolas,'Courier New',monospace\"><span style=\"color: #008080; text-decoration-color: #008080; font-weight: bold\">1990</span>-<span style=\"color: #008080; text-decoration-color: #008080; font-weight: bold\">03</span>-03T<span style=\"color: #00ff00; text-decoration-color: #00ff00; font-weight: bold\">12:00:00</span>Z\r",
       "</pre>\n"
      ],
      "text/plain": [
       "\u001b[1;36m1990\u001b[0m-\u001b[1;36m03\u001b[0m-03T\u001b[1;92m12:00:00\u001b[0mZ\r"
      ]
     },
     "metadata": {},
     "output_type": "display_data"
    },
    {
     "data": {
      "text/html": [
       "<pre style=\"white-space:pre;overflow-x:auto;line-height:normal;font-family:Menlo,'DejaVu Sans Mono',consolas,'Courier New',monospace\"><span style=\"color: #008080; text-decoration-color: #008080; font-weight: bold\">1990</span>-<span style=\"color: #008080; text-decoration-color: #008080; font-weight: bold\">03</span>-04T<span style=\"color: #00ff00; text-decoration-color: #00ff00; font-weight: bold\">12:00:00</span>Z\r",
       "</pre>\n"
      ],
      "text/plain": [
       "\u001b[1;36m1990\u001b[0m-\u001b[1;36m03\u001b[0m-04T\u001b[1;92m12:00:00\u001b[0mZ\r"
      ]
     },
     "metadata": {},
     "output_type": "display_data"
    },
    {
     "data": {
      "text/html": [
       "<pre style=\"white-space:pre;overflow-x:auto;line-height:normal;font-family:Menlo,'DejaVu Sans Mono',consolas,'Courier New',monospace\"><span style=\"color: #008080; text-decoration-color: #008080; font-weight: bold\">1990</span>-<span style=\"color: #008080; text-decoration-color: #008080; font-weight: bold\">03</span>-05T<span style=\"color: #00ff00; text-decoration-color: #00ff00; font-weight: bold\">12:00:00</span>Z\r",
       "</pre>\n"
      ],
      "text/plain": [
       "\u001b[1;36m1990\u001b[0m-\u001b[1;36m03\u001b[0m-05T\u001b[1;92m12:00:00\u001b[0mZ\r"
      ]
     },
     "metadata": {},
     "output_type": "display_data"
    },
    {
     "data": {
      "text/html": [
       "<pre style=\"white-space:pre;overflow-x:auto;line-height:normal;font-family:Menlo,'DejaVu Sans Mono',consolas,'Courier New',monospace\"><span style=\"color: #008080; text-decoration-color: #008080; font-weight: bold\">1990</span>-<span style=\"color: #008080; text-decoration-color: #008080; font-weight: bold\">03</span>-06T<span style=\"color: #00ff00; text-decoration-color: #00ff00; font-weight: bold\">12:00:00</span>Z\r",
       "</pre>\n"
      ],
      "text/plain": [
       "\u001b[1;36m1990\u001b[0m-\u001b[1;36m03\u001b[0m-06T\u001b[1;92m12:00:00\u001b[0mZ\r"
      ]
     },
     "metadata": {},
     "output_type": "display_data"
    },
    {
     "data": {
      "text/html": [
       "<pre style=\"white-space:pre;overflow-x:auto;line-height:normal;font-family:Menlo,'DejaVu Sans Mono',consolas,'Courier New',monospace\"><span style=\"color: #008080; text-decoration-color: #008080; font-weight: bold\">1990</span>-<span style=\"color: #008080; text-decoration-color: #008080; font-weight: bold\">03</span>-07T<span style=\"color: #00ff00; text-decoration-color: #00ff00; font-weight: bold\">12:00:00</span>Z\r",
       "</pre>\n"
      ],
      "text/plain": [
       "\u001b[1;36m1990\u001b[0m-\u001b[1;36m03\u001b[0m-07T\u001b[1;92m12:00:00\u001b[0mZ\r"
      ]
     },
     "metadata": {},
     "output_type": "display_data"
    },
    {
     "data": {
      "text/html": [
       "<pre style=\"white-space:pre;overflow-x:auto;line-height:normal;font-family:Menlo,'DejaVu Sans Mono',consolas,'Courier New',monospace\"><span style=\"color: #008080; text-decoration-color: #008080; font-weight: bold\">1990</span>-<span style=\"color: #008080; text-decoration-color: #008080; font-weight: bold\">03</span>-08T<span style=\"color: #00ff00; text-decoration-color: #00ff00; font-weight: bold\">12:00:00</span>Z\r",
       "</pre>\n"
      ],
      "text/plain": [
       "\u001b[1;36m1990\u001b[0m-\u001b[1;36m03\u001b[0m-08T\u001b[1;92m12:00:00\u001b[0mZ\r"
      ]
     },
     "metadata": {},
     "output_type": "display_data"
    },
    {
     "data": {
      "text/html": [
       "<pre style=\"white-space:pre;overflow-x:auto;line-height:normal;font-family:Menlo,'DejaVu Sans Mono',consolas,'Courier New',monospace\"><span style=\"color: #008080; text-decoration-color: #008080; font-weight: bold\">1990</span>-<span style=\"color: #008080; text-decoration-color: #008080; font-weight: bold\">03</span>-09T<span style=\"color: #00ff00; text-decoration-color: #00ff00; font-weight: bold\">12:00:00</span>Z\r",
       "</pre>\n"
      ],
      "text/plain": [
       "\u001b[1;36m1990\u001b[0m-\u001b[1;36m03\u001b[0m-09T\u001b[1;92m12:00:00\u001b[0mZ\r"
      ]
     },
     "metadata": {},
     "output_type": "display_data"
    },
    {
     "data": {
      "text/html": [
       "<pre style=\"white-space:pre;overflow-x:auto;line-height:normal;font-family:Menlo,'DejaVu Sans Mono',consolas,'Courier New',monospace\"><span style=\"color: #008080; text-decoration-color: #008080; font-weight: bold\">1990</span>-<span style=\"color: #008080; text-decoration-color: #008080; font-weight: bold\">03</span>-10T<span style=\"color: #00ff00; text-decoration-color: #00ff00; font-weight: bold\">12:00:00</span>Z\r",
       "</pre>\n"
      ],
      "text/plain": [
       "\u001b[1;36m1990\u001b[0m-\u001b[1;36m03\u001b[0m-10T\u001b[1;92m12:00:00\u001b[0mZ\r"
      ]
     },
     "metadata": {},
     "output_type": "display_data"
    },
    {
     "data": {
      "text/html": [
       "<pre style=\"white-space:pre;overflow-x:auto;line-height:normal;font-family:Menlo,'DejaVu Sans Mono',consolas,'Courier New',monospace\"><span style=\"color: #008080; text-decoration-color: #008080; font-weight: bold\">1990</span>-<span style=\"color: #008080; text-decoration-color: #008080; font-weight: bold\">03</span>-11T<span style=\"color: #00ff00; text-decoration-color: #00ff00; font-weight: bold\">12:00:00</span>Z\r",
       "</pre>\n"
      ],
      "text/plain": [
       "\u001b[1;36m1990\u001b[0m-\u001b[1;36m03\u001b[0m-11T\u001b[1;92m12:00:00\u001b[0mZ\r"
      ]
     },
     "metadata": {},
     "output_type": "display_data"
    },
    {
     "data": {
      "text/html": [
       "<pre style=\"white-space:pre;overflow-x:auto;line-height:normal;font-family:Menlo,'DejaVu Sans Mono',consolas,'Courier New',monospace\"><span style=\"color: #008080; text-decoration-color: #008080; font-weight: bold\">1990</span>-<span style=\"color: #008080; text-decoration-color: #008080; font-weight: bold\">03</span>-12T<span style=\"color: #00ff00; text-decoration-color: #00ff00; font-weight: bold\">12:00:00</span>Z\r",
       "</pre>\n"
      ],
      "text/plain": [
       "\u001b[1;36m1990\u001b[0m-\u001b[1;36m03\u001b[0m-12T\u001b[1;92m12:00:00\u001b[0mZ\r"
      ]
     },
     "metadata": {},
     "output_type": "display_data"
    },
    {
     "data": {
      "text/html": [
       "<pre style=\"white-space:pre;overflow-x:auto;line-height:normal;font-family:Menlo,'DejaVu Sans Mono',consolas,'Courier New',monospace\"><span style=\"color: #008080; text-decoration-color: #008080; font-weight: bold\">1990</span>-<span style=\"color: #008080; text-decoration-color: #008080; font-weight: bold\">03</span>-13T<span style=\"color: #00ff00; text-decoration-color: #00ff00; font-weight: bold\">12:00:00</span>Z\r",
       "</pre>\n"
      ],
      "text/plain": [
       "\u001b[1;36m1990\u001b[0m-\u001b[1;36m03\u001b[0m-13T\u001b[1;92m12:00:00\u001b[0mZ\r"
      ]
     },
     "metadata": {},
     "output_type": "display_data"
    },
    {
     "data": {
      "text/html": [
       "<pre style=\"white-space:pre;overflow-x:auto;line-height:normal;font-family:Menlo,'DejaVu Sans Mono',consolas,'Courier New',monospace\"><span style=\"color: #008080; text-decoration-color: #008080; font-weight: bold\">1990</span>-<span style=\"color: #008080; text-decoration-color: #008080; font-weight: bold\">03</span>-14T<span style=\"color: #00ff00; text-decoration-color: #00ff00; font-weight: bold\">12:00:00</span>Z\r",
       "</pre>\n"
      ],
      "text/plain": [
       "\u001b[1;36m1990\u001b[0m-\u001b[1;36m03\u001b[0m-14T\u001b[1;92m12:00:00\u001b[0mZ\r"
      ]
     },
     "metadata": {},
     "output_type": "display_data"
    },
    {
     "data": {
      "text/html": [
       "<pre style=\"white-space:pre;overflow-x:auto;line-height:normal;font-family:Menlo,'DejaVu Sans Mono',consolas,'Courier New',monospace\"><span style=\"color: #008080; text-decoration-color: #008080; font-weight: bold\">1990</span>-<span style=\"color: #008080; text-decoration-color: #008080; font-weight: bold\">03</span>-15T<span style=\"color: #00ff00; text-decoration-color: #00ff00; font-weight: bold\">12:00:00</span>Z\r",
       "</pre>\n"
      ],
      "text/plain": [
       "\u001b[1;36m1990\u001b[0m-\u001b[1;36m03\u001b[0m-15T\u001b[1;92m12:00:00\u001b[0mZ\r"
      ]
     },
     "metadata": {},
     "output_type": "display_data"
    },
    {
     "data": {
      "text/html": [
       "<pre style=\"white-space:pre;overflow-x:auto;line-height:normal;font-family:Menlo,'DejaVu Sans Mono',consolas,'Courier New',monospace\"><span style=\"color: #008080; text-decoration-color: #008080; font-weight: bold\">1990</span>-<span style=\"color: #008080; text-decoration-color: #008080; font-weight: bold\">03</span>-16T<span style=\"color: #00ff00; text-decoration-color: #00ff00; font-weight: bold\">12:00:00</span>Z\r",
       "</pre>\n"
      ],
      "text/plain": [
       "\u001b[1;36m1990\u001b[0m-\u001b[1;36m03\u001b[0m-16T\u001b[1;92m12:00:00\u001b[0mZ\r"
      ]
     },
     "metadata": {},
     "output_type": "display_data"
    },
    {
     "data": {
      "text/html": [
       "<pre style=\"white-space:pre;overflow-x:auto;line-height:normal;font-family:Menlo,'DejaVu Sans Mono',consolas,'Courier New',monospace\"><span style=\"color: #008080; text-decoration-color: #008080; font-weight: bold\">1990</span>-<span style=\"color: #008080; text-decoration-color: #008080; font-weight: bold\">03</span>-17T<span style=\"color: #00ff00; text-decoration-color: #00ff00; font-weight: bold\">12:00:00</span>Z\r",
       "</pre>\n"
      ],
      "text/plain": [
       "\u001b[1;36m1990\u001b[0m-\u001b[1;36m03\u001b[0m-17T\u001b[1;92m12:00:00\u001b[0mZ\r"
      ]
     },
     "metadata": {},
     "output_type": "display_data"
    },
    {
     "data": {
      "text/html": [
       "<pre style=\"white-space:pre;overflow-x:auto;line-height:normal;font-family:Menlo,'DejaVu Sans Mono',consolas,'Courier New',monospace\"><span style=\"color: #008080; text-decoration-color: #008080; font-weight: bold\">1990</span>-<span style=\"color: #008080; text-decoration-color: #008080; font-weight: bold\">03</span>-18T<span style=\"color: #00ff00; text-decoration-color: #00ff00; font-weight: bold\">12:00:00</span>Z\r",
       "</pre>\n"
      ],
      "text/plain": [
       "\u001b[1;36m1990\u001b[0m-\u001b[1;36m03\u001b[0m-18T\u001b[1;92m12:00:00\u001b[0mZ\r"
      ]
     },
     "metadata": {},
     "output_type": "display_data"
    },
    {
     "data": {
      "text/html": [
       "<pre style=\"white-space:pre;overflow-x:auto;line-height:normal;font-family:Menlo,'DejaVu Sans Mono',consolas,'Courier New',monospace\"><span style=\"color: #008080; text-decoration-color: #008080; font-weight: bold\">1990</span>-<span style=\"color: #008080; text-decoration-color: #008080; font-weight: bold\">03</span>-19T<span style=\"color: #00ff00; text-decoration-color: #00ff00; font-weight: bold\">12:00:00</span>Z\r",
       "</pre>\n"
      ],
      "text/plain": [
       "\u001b[1;36m1990\u001b[0m-\u001b[1;36m03\u001b[0m-19T\u001b[1;92m12:00:00\u001b[0mZ\r"
      ]
     },
     "metadata": {},
     "output_type": "display_data"
    },
    {
     "data": {
      "text/html": [
       "<pre style=\"white-space:pre;overflow-x:auto;line-height:normal;font-family:Menlo,'DejaVu Sans Mono',consolas,'Courier New',monospace\"><span style=\"color: #008080; text-decoration-color: #008080; font-weight: bold\">1990</span>-<span style=\"color: #008080; text-decoration-color: #008080; font-weight: bold\">03</span>-20T<span style=\"color: #00ff00; text-decoration-color: #00ff00; font-weight: bold\">12:00:00</span>Z\r",
       "</pre>\n"
      ],
      "text/plain": [
       "\u001b[1;36m1990\u001b[0m-\u001b[1;36m03\u001b[0m-20T\u001b[1;92m12:00:00\u001b[0mZ\r"
      ]
     },
     "metadata": {},
     "output_type": "display_data"
    },
    {
     "data": {
      "text/html": [
       "<pre style=\"white-space:pre;overflow-x:auto;line-height:normal;font-family:Menlo,'DejaVu Sans Mono',consolas,'Courier New',monospace\"><span style=\"color: #008080; text-decoration-color: #008080; font-weight: bold\">1990</span>-<span style=\"color: #008080; text-decoration-color: #008080; font-weight: bold\">03</span>-21T<span style=\"color: #00ff00; text-decoration-color: #00ff00; font-weight: bold\">12:00:00</span>Z\r",
       "</pre>\n"
      ],
      "text/plain": [
       "\u001b[1;36m1990\u001b[0m-\u001b[1;36m03\u001b[0m-21T\u001b[1;92m12:00:00\u001b[0mZ\r"
      ]
     },
     "metadata": {},
     "output_type": "display_data"
    },
    {
     "data": {
      "text/html": [
       "<pre style=\"white-space:pre;overflow-x:auto;line-height:normal;font-family:Menlo,'DejaVu Sans Mono',consolas,'Courier New',monospace\"><span style=\"color: #008080; text-decoration-color: #008080; font-weight: bold\">1990</span>-<span style=\"color: #008080; text-decoration-color: #008080; font-weight: bold\">03</span>-22T<span style=\"color: #00ff00; text-decoration-color: #00ff00; font-weight: bold\">12:00:00</span>Z\r",
       "</pre>\n"
      ],
      "text/plain": [
       "\u001b[1;36m1990\u001b[0m-\u001b[1;36m03\u001b[0m-22T\u001b[1;92m12:00:00\u001b[0mZ\r"
      ]
     },
     "metadata": {},
     "output_type": "display_data"
    },
    {
     "data": {
      "text/html": [
       "<pre style=\"white-space:pre;overflow-x:auto;line-height:normal;font-family:Menlo,'DejaVu Sans Mono',consolas,'Courier New',monospace\"><span style=\"color: #008080; text-decoration-color: #008080; font-weight: bold\">1990</span>-<span style=\"color: #008080; text-decoration-color: #008080; font-weight: bold\">03</span>-23T<span style=\"color: #00ff00; text-decoration-color: #00ff00; font-weight: bold\">12:00:00</span>Z\r",
       "</pre>\n"
      ],
      "text/plain": [
       "\u001b[1;36m1990\u001b[0m-\u001b[1;36m03\u001b[0m-23T\u001b[1;92m12:00:00\u001b[0mZ\r"
      ]
     },
     "metadata": {},
     "output_type": "display_data"
    },
    {
     "data": {
      "text/html": [
       "<pre style=\"white-space:pre;overflow-x:auto;line-height:normal;font-family:Menlo,'DejaVu Sans Mono',consolas,'Courier New',monospace\"><span style=\"color: #008080; text-decoration-color: #008080; font-weight: bold\">1990</span>-<span style=\"color: #008080; text-decoration-color: #008080; font-weight: bold\">03</span>-24T<span style=\"color: #00ff00; text-decoration-color: #00ff00; font-weight: bold\">12:00:00</span>Z\r",
       "</pre>\n"
      ],
      "text/plain": [
       "\u001b[1;36m1990\u001b[0m-\u001b[1;36m03\u001b[0m-24T\u001b[1;92m12:00:00\u001b[0mZ\r"
      ]
     },
     "metadata": {},
     "output_type": "display_data"
    },
    {
     "data": {
      "text/html": [
       "<pre style=\"white-space:pre;overflow-x:auto;line-height:normal;font-family:Menlo,'DejaVu Sans Mono',consolas,'Courier New',monospace\"><span style=\"color: #008080; text-decoration-color: #008080; font-weight: bold\">1990</span>-<span style=\"color: #008080; text-decoration-color: #008080; font-weight: bold\">03</span>-25T<span style=\"color: #00ff00; text-decoration-color: #00ff00; font-weight: bold\">12:00:00</span>Z\r",
       "</pre>\n"
      ],
      "text/plain": [
       "\u001b[1;36m1990\u001b[0m-\u001b[1;36m03\u001b[0m-25T\u001b[1;92m12:00:00\u001b[0mZ\r"
      ]
     },
     "metadata": {},
     "output_type": "display_data"
    },
    {
     "data": {
      "text/html": [
       "<pre style=\"white-space:pre;overflow-x:auto;line-height:normal;font-family:Menlo,'DejaVu Sans Mono',consolas,'Courier New',monospace\"><span style=\"color: #008080; text-decoration-color: #008080; font-weight: bold\">1990</span>-<span style=\"color: #008080; text-decoration-color: #008080; font-weight: bold\">03</span>-26T<span style=\"color: #00ff00; text-decoration-color: #00ff00; font-weight: bold\">12:00:00</span>Z\r",
       "</pre>\n"
      ],
      "text/plain": [
       "\u001b[1;36m1990\u001b[0m-\u001b[1;36m03\u001b[0m-26T\u001b[1;92m12:00:00\u001b[0mZ\r"
      ]
     },
     "metadata": {},
     "output_type": "display_data"
    },
    {
     "data": {
      "text/html": [
       "<pre style=\"white-space:pre;overflow-x:auto;line-height:normal;font-family:Menlo,'DejaVu Sans Mono',consolas,'Courier New',monospace\"><span style=\"color: #008080; text-decoration-color: #008080; font-weight: bold\">1990</span>-<span style=\"color: #008080; text-decoration-color: #008080; font-weight: bold\">03</span>-27T<span style=\"color: #00ff00; text-decoration-color: #00ff00; font-weight: bold\">12:00:00</span>Z\r",
       "</pre>\n"
      ],
      "text/plain": [
       "\u001b[1;36m1990\u001b[0m-\u001b[1;36m03\u001b[0m-27T\u001b[1;92m12:00:00\u001b[0mZ\r"
      ]
     },
     "metadata": {},
     "output_type": "display_data"
    },
    {
     "data": {
      "text/html": [
       "<pre style=\"white-space:pre;overflow-x:auto;line-height:normal;font-family:Menlo,'DejaVu Sans Mono',consolas,'Courier New',monospace\"><span style=\"color: #008080; text-decoration-color: #008080; font-weight: bold\">1990</span>-<span style=\"color: #008080; text-decoration-color: #008080; font-weight: bold\">03</span>-28T<span style=\"color: #00ff00; text-decoration-color: #00ff00; font-weight: bold\">12:00:00</span>Z\r",
       "</pre>\n"
      ],
      "text/plain": [
       "\u001b[1;36m1990\u001b[0m-\u001b[1;36m03\u001b[0m-28T\u001b[1;92m12:00:00\u001b[0mZ\r"
      ]
     },
     "metadata": {},
     "output_type": "display_data"
    },
    {
     "data": {
      "text/html": [
       "<pre style=\"white-space:pre;overflow-x:auto;line-height:normal;font-family:Menlo,'DejaVu Sans Mono',consolas,'Courier New',monospace\"><span style=\"color: #008080; text-decoration-color: #008080; font-weight: bold\">1990</span>-<span style=\"color: #008080; text-decoration-color: #008080; font-weight: bold\">03</span>-29T<span style=\"color: #00ff00; text-decoration-color: #00ff00; font-weight: bold\">12:00:00</span>Z\r",
       "</pre>\n"
      ],
      "text/plain": [
       "\u001b[1;36m1990\u001b[0m-\u001b[1;36m03\u001b[0m-29T\u001b[1;92m12:00:00\u001b[0mZ\r"
      ]
     },
     "metadata": {},
     "output_type": "display_data"
    },
    {
     "data": {
      "text/html": [
       "<pre style=\"white-space:pre;overflow-x:auto;line-height:normal;font-family:Menlo,'DejaVu Sans Mono',consolas,'Courier New',monospace\"><span style=\"color: #008080; text-decoration-color: #008080; font-weight: bold\">1990</span>-<span style=\"color: #008080; text-decoration-color: #008080; font-weight: bold\">03</span>-30T<span style=\"color: #00ff00; text-decoration-color: #00ff00; font-weight: bold\">12:00:00</span>Z\r",
       "</pre>\n"
      ],
      "text/plain": [
       "\u001b[1;36m1990\u001b[0m-\u001b[1;36m03\u001b[0m-30T\u001b[1;92m12:00:00\u001b[0mZ\r"
      ]
     },
     "metadata": {},
     "output_type": "display_data"
    },
    {
     "data": {
      "text/html": [
       "<pre style=\"white-space:pre;overflow-x:auto;line-height:normal;font-family:Menlo,'DejaVu Sans Mono',consolas,'Courier New',monospace\"><span style=\"color: #008080; text-decoration-color: #008080; font-weight: bold\">1990</span>-<span style=\"color: #008080; text-decoration-color: #008080; font-weight: bold\">03</span>-31T<span style=\"color: #00ff00; text-decoration-color: #00ff00; font-weight: bold\">12:00:00</span>Z\r",
       "</pre>\n"
      ],
      "text/plain": [
       "\u001b[1;36m1990\u001b[0m-\u001b[1;36m03\u001b[0m-31T\u001b[1;92m12:00:00\u001b[0mZ\r"
      ]
     },
     "metadata": {},
     "output_type": "display_data"
    },
    {
     "data": {
      "text/html": [
       "<pre style=\"white-space:pre;overflow-x:auto;line-height:normal;font-family:Menlo,'DejaVu Sans Mono',consolas,'Courier New',monospace\"><span style=\"color: #008080; text-decoration-color: #008080; font-weight: bold\">1990</span>-<span style=\"color: #008080; text-decoration-color: #008080; font-weight: bold\">04</span>-01T<span style=\"color: #00ff00; text-decoration-color: #00ff00; font-weight: bold\">12:00:00</span>Z\r",
       "</pre>\n"
      ],
      "text/plain": [
       "\u001b[1;36m1990\u001b[0m-\u001b[1;36m04\u001b[0m-01T\u001b[1;92m12:00:00\u001b[0mZ\r"
      ]
     },
     "metadata": {},
     "output_type": "display_data"
    },
    {
     "data": {
      "text/html": [
       "<pre style=\"white-space:pre;overflow-x:auto;line-height:normal;font-family:Menlo,'DejaVu Sans Mono',consolas,'Courier New',monospace\"><span style=\"color: #008080; text-decoration-color: #008080; font-weight: bold\">1990</span>-<span style=\"color: #008080; text-decoration-color: #008080; font-weight: bold\">04</span>-02T<span style=\"color: #00ff00; text-decoration-color: #00ff00; font-weight: bold\">12:00:00</span>Z\r",
       "</pre>\n"
      ],
      "text/plain": [
       "\u001b[1;36m1990\u001b[0m-\u001b[1;36m04\u001b[0m-02T\u001b[1;92m12:00:00\u001b[0mZ\r"
      ]
     },
     "metadata": {},
     "output_type": "display_data"
    },
    {
     "data": {
      "text/html": [
       "<pre style=\"white-space:pre;overflow-x:auto;line-height:normal;font-family:Menlo,'DejaVu Sans Mono',consolas,'Courier New',monospace\"><span style=\"color: #008080; text-decoration-color: #008080; font-weight: bold\">1990</span>-<span style=\"color: #008080; text-decoration-color: #008080; font-weight: bold\">04</span>-03T<span style=\"color: #00ff00; text-decoration-color: #00ff00; font-weight: bold\">12:00:00</span>Z\r",
       "</pre>\n"
      ],
      "text/plain": [
       "\u001b[1;36m1990\u001b[0m-\u001b[1;36m04\u001b[0m-03T\u001b[1;92m12:00:00\u001b[0mZ\r"
      ]
     },
     "metadata": {},
     "output_type": "display_data"
    },
    {
     "data": {
      "text/html": [
       "<pre style=\"white-space:pre;overflow-x:auto;line-height:normal;font-family:Menlo,'DejaVu Sans Mono',consolas,'Courier New',monospace\"><span style=\"color: #008080; text-decoration-color: #008080; font-weight: bold\">1990</span>-<span style=\"color: #008080; text-decoration-color: #008080; font-weight: bold\">04</span>-04T<span style=\"color: #00ff00; text-decoration-color: #00ff00; font-weight: bold\">12:00:00</span>Z\r",
       "</pre>\n"
      ],
      "text/plain": [
       "\u001b[1;36m1990\u001b[0m-\u001b[1;36m04\u001b[0m-04T\u001b[1;92m12:00:00\u001b[0mZ\r"
      ]
     },
     "metadata": {},
     "output_type": "display_data"
    },
    {
     "data": {
      "text/html": [
       "<pre style=\"white-space:pre;overflow-x:auto;line-height:normal;font-family:Menlo,'DejaVu Sans Mono',consolas,'Courier New',monospace\"><span style=\"color: #008080; text-decoration-color: #008080; font-weight: bold\">1990</span>-<span style=\"color: #008080; text-decoration-color: #008080; font-weight: bold\">04</span>-05T<span style=\"color: #00ff00; text-decoration-color: #00ff00; font-weight: bold\">12:00:00</span>Z\r",
       "</pre>\n"
      ],
      "text/plain": [
       "\u001b[1;36m1990\u001b[0m-\u001b[1;36m04\u001b[0m-05T\u001b[1;92m12:00:00\u001b[0mZ\r"
      ]
     },
     "metadata": {},
     "output_type": "display_data"
    },
    {
     "data": {
      "text/html": [
       "<pre style=\"white-space:pre;overflow-x:auto;line-height:normal;font-family:Menlo,'DejaVu Sans Mono',consolas,'Courier New',monospace\"><span style=\"color: #008080; text-decoration-color: #008080; font-weight: bold\">1990</span>-<span style=\"color: #008080; text-decoration-color: #008080; font-weight: bold\">04</span>-06T<span style=\"color: #00ff00; text-decoration-color: #00ff00; font-weight: bold\">12:00:00</span>Z\r",
       "</pre>\n"
      ],
      "text/plain": [
       "\u001b[1;36m1990\u001b[0m-\u001b[1;36m04\u001b[0m-06T\u001b[1;92m12:00:00\u001b[0mZ\r"
      ]
     },
     "metadata": {},
     "output_type": "display_data"
    },
    {
     "data": {
      "text/html": [
       "<pre style=\"white-space:pre;overflow-x:auto;line-height:normal;font-family:Menlo,'DejaVu Sans Mono',consolas,'Courier New',monospace\"><span style=\"color: #008080; text-decoration-color: #008080; font-weight: bold\">1990</span>-<span style=\"color: #008080; text-decoration-color: #008080; font-weight: bold\">04</span>-07T<span style=\"color: #00ff00; text-decoration-color: #00ff00; font-weight: bold\">12:00:00</span>Z\r",
       "</pre>\n"
      ],
      "text/plain": [
       "\u001b[1;36m1990\u001b[0m-\u001b[1;36m04\u001b[0m-07T\u001b[1;92m12:00:00\u001b[0mZ\r"
      ]
     },
     "metadata": {},
     "output_type": "display_data"
    },
    {
     "data": {
      "text/html": [
       "<pre style=\"white-space:pre;overflow-x:auto;line-height:normal;font-family:Menlo,'DejaVu Sans Mono',consolas,'Courier New',monospace\"><span style=\"color: #008080; text-decoration-color: #008080; font-weight: bold\">1990</span>-<span style=\"color: #008080; text-decoration-color: #008080; font-weight: bold\">04</span>-08T<span style=\"color: #00ff00; text-decoration-color: #00ff00; font-weight: bold\">12:00:00</span>Z\r",
       "</pre>\n"
      ],
      "text/plain": [
       "\u001b[1;36m1990\u001b[0m-\u001b[1;36m04\u001b[0m-08T\u001b[1;92m12:00:00\u001b[0mZ\r"
      ]
     },
     "metadata": {},
     "output_type": "display_data"
    },
    {
     "data": {
      "text/html": [
       "<pre style=\"white-space:pre;overflow-x:auto;line-height:normal;font-family:Menlo,'DejaVu Sans Mono',consolas,'Courier New',monospace\"><span style=\"color: #008080; text-decoration-color: #008080; font-weight: bold\">1990</span>-<span style=\"color: #008080; text-decoration-color: #008080; font-weight: bold\">04</span>-09T<span style=\"color: #00ff00; text-decoration-color: #00ff00; font-weight: bold\">12:00:00</span>Z\r",
       "</pre>\n"
      ],
      "text/plain": [
       "\u001b[1;36m1990\u001b[0m-\u001b[1;36m04\u001b[0m-09T\u001b[1;92m12:00:00\u001b[0mZ\r"
      ]
     },
     "metadata": {},
     "output_type": "display_data"
    },
    {
     "data": {
      "text/html": [
       "<pre style=\"white-space:pre;overflow-x:auto;line-height:normal;font-family:Menlo,'DejaVu Sans Mono',consolas,'Courier New',monospace\"><span style=\"color: #008080; text-decoration-color: #008080; font-weight: bold\">1990</span>-<span style=\"color: #008080; text-decoration-color: #008080; font-weight: bold\">04</span>-10T<span style=\"color: #00ff00; text-decoration-color: #00ff00; font-weight: bold\">12:00:00</span>Z\r",
       "</pre>\n"
      ],
      "text/plain": [
       "\u001b[1;36m1990\u001b[0m-\u001b[1;36m04\u001b[0m-10T\u001b[1;92m12:00:00\u001b[0mZ\r"
      ]
     },
     "metadata": {},
     "output_type": "display_data"
    },
    {
     "data": {
      "text/html": [
       "<pre style=\"white-space:pre;overflow-x:auto;line-height:normal;font-family:Menlo,'DejaVu Sans Mono',consolas,'Courier New',monospace\"><span style=\"color: #008080; text-decoration-color: #008080; font-weight: bold\">1990</span>-<span style=\"color: #008080; text-decoration-color: #008080; font-weight: bold\">04</span>-11T<span style=\"color: #00ff00; text-decoration-color: #00ff00; font-weight: bold\">12:00:00</span>Z\r",
       "</pre>\n"
      ],
      "text/plain": [
       "\u001b[1;36m1990\u001b[0m-\u001b[1;36m04\u001b[0m-11T\u001b[1;92m12:00:00\u001b[0mZ\r"
      ]
     },
     "metadata": {},
     "output_type": "display_data"
    },
    {
     "data": {
      "text/html": [
       "<pre style=\"white-space:pre;overflow-x:auto;line-height:normal;font-family:Menlo,'DejaVu Sans Mono',consolas,'Courier New',monospace\"><span style=\"color: #008080; text-decoration-color: #008080; font-weight: bold\">1990</span>-<span style=\"color: #008080; text-decoration-color: #008080; font-weight: bold\">04</span>-12T<span style=\"color: #00ff00; text-decoration-color: #00ff00; font-weight: bold\">12:00:00</span>Z\r",
       "</pre>\n"
      ],
      "text/plain": [
       "\u001b[1;36m1990\u001b[0m-\u001b[1;36m04\u001b[0m-12T\u001b[1;92m12:00:00\u001b[0mZ\r"
      ]
     },
     "metadata": {},
     "output_type": "display_data"
    },
    {
     "data": {
      "text/html": [
       "<pre style=\"white-space:pre;overflow-x:auto;line-height:normal;font-family:Menlo,'DejaVu Sans Mono',consolas,'Courier New',monospace\"><span style=\"color: #008080; text-decoration-color: #008080; font-weight: bold\">1990</span>-<span style=\"color: #008080; text-decoration-color: #008080; font-weight: bold\">04</span>-13T<span style=\"color: #00ff00; text-decoration-color: #00ff00; font-weight: bold\">12:00:00</span>Z\r",
       "</pre>\n"
      ],
      "text/plain": [
       "\u001b[1;36m1990\u001b[0m-\u001b[1;36m04\u001b[0m-13T\u001b[1;92m12:00:00\u001b[0mZ\r"
      ]
     },
     "metadata": {},
     "output_type": "display_data"
    },
    {
     "data": {
      "text/html": [
       "<pre style=\"white-space:pre;overflow-x:auto;line-height:normal;font-family:Menlo,'DejaVu Sans Mono',consolas,'Courier New',monospace\"><span style=\"color: #008080; text-decoration-color: #008080; font-weight: bold\">1990</span>-<span style=\"color: #008080; text-decoration-color: #008080; font-weight: bold\">04</span>-14T<span style=\"color: #00ff00; text-decoration-color: #00ff00; font-weight: bold\">12:00:00</span>Z\r",
       "</pre>\n"
      ],
      "text/plain": [
       "\u001b[1;36m1990\u001b[0m-\u001b[1;36m04\u001b[0m-14T\u001b[1;92m12:00:00\u001b[0mZ\r"
      ]
     },
     "metadata": {},
     "output_type": "display_data"
    },
    {
     "data": {
      "text/html": [
       "<pre style=\"white-space:pre;overflow-x:auto;line-height:normal;font-family:Menlo,'DejaVu Sans Mono',consolas,'Courier New',monospace\"><span style=\"color: #008080; text-decoration-color: #008080; font-weight: bold\">1990</span>-<span style=\"color: #008080; text-decoration-color: #008080; font-weight: bold\">04</span>-15T<span style=\"color: #00ff00; text-decoration-color: #00ff00; font-weight: bold\">12:00:00</span>Z\r",
       "</pre>\n"
      ],
      "text/plain": [
       "\u001b[1;36m1990\u001b[0m-\u001b[1;36m04\u001b[0m-15T\u001b[1;92m12:00:00\u001b[0mZ\r"
      ]
     },
     "metadata": {},
     "output_type": "display_data"
    },
    {
     "data": {
      "text/html": [
       "<pre style=\"white-space:pre;overflow-x:auto;line-height:normal;font-family:Menlo,'DejaVu Sans Mono',consolas,'Courier New',monospace\"><span style=\"color: #008080; text-decoration-color: #008080; font-weight: bold\">1990</span>-<span style=\"color: #008080; text-decoration-color: #008080; font-weight: bold\">04</span>-16T<span style=\"color: #00ff00; text-decoration-color: #00ff00; font-weight: bold\">12:00:00</span>Z\r",
       "</pre>\n"
      ],
      "text/plain": [
       "\u001b[1;36m1990\u001b[0m-\u001b[1;36m04\u001b[0m-16T\u001b[1;92m12:00:00\u001b[0mZ\r"
      ]
     },
     "metadata": {},
     "output_type": "display_data"
    },
    {
     "data": {
      "text/html": [
       "<pre style=\"white-space:pre;overflow-x:auto;line-height:normal;font-family:Menlo,'DejaVu Sans Mono',consolas,'Courier New',monospace\"><span style=\"color: #008080; text-decoration-color: #008080; font-weight: bold\">1990</span>-<span style=\"color: #008080; text-decoration-color: #008080; font-weight: bold\">04</span>-17T<span style=\"color: #00ff00; text-decoration-color: #00ff00; font-weight: bold\">12:00:00</span>Z\r",
       "</pre>\n"
      ],
      "text/plain": [
       "\u001b[1;36m1990\u001b[0m-\u001b[1;36m04\u001b[0m-17T\u001b[1;92m12:00:00\u001b[0mZ\r"
      ]
     },
     "metadata": {},
     "output_type": "display_data"
    },
    {
     "data": {
      "text/html": [
       "<pre style=\"white-space:pre;overflow-x:auto;line-height:normal;font-family:Menlo,'DejaVu Sans Mono',consolas,'Courier New',monospace\"><span style=\"color: #008080; text-decoration-color: #008080; font-weight: bold\">1990</span>-<span style=\"color: #008080; text-decoration-color: #008080; font-weight: bold\">04</span>-18T<span style=\"color: #00ff00; text-decoration-color: #00ff00; font-weight: bold\">12:00:00</span>Z\r",
       "</pre>\n"
      ],
      "text/plain": [
       "\u001b[1;36m1990\u001b[0m-\u001b[1;36m04\u001b[0m-18T\u001b[1;92m12:00:00\u001b[0mZ\r"
      ]
     },
     "metadata": {},
     "output_type": "display_data"
    },
    {
     "data": {
      "text/html": [
       "<pre style=\"white-space:pre;overflow-x:auto;line-height:normal;font-family:Menlo,'DejaVu Sans Mono',consolas,'Courier New',monospace\"><span style=\"color: #008080; text-decoration-color: #008080; font-weight: bold\">1990</span>-<span style=\"color: #008080; text-decoration-color: #008080; font-weight: bold\">04</span>-19T<span style=\"color: #00ff00; text-decoration-color: #00ff00; font-weight: bold\">12:00:00</span>Z\r",
       "</pre>\n"
      ],
      "text/plain": [
       "\u001b[1;36m1990\u001b[0m-\u001b[1;36m04\u001b[0m-19T\u001b[1;92m12:00:00\u001b[0mZ\r"
      ]
     },
     "metadata": {},
     "output_type": "display_data"
    },
    {
     "data": {
      "text/html": [
       "<pre style=\"white-space:pre;overflow-x:auto;line-height:normal;font-family:Menlo,'DejaVu Sans Mono',consolas,'Courier New',monospace\"><span style=\"color: #008080; text-decoration-color: #008080; font-weight: bold\">1990</span>-<span style=\"color: #008080; text-decoration-color: #008080; font-weight: bold\">04</span>-20T<span style=\"color: #00ff00; text-decoration-color: #00ff00; font-weight: bold\">12:00:00</span>Z\r",
       "</pre>\n"
      ],
      "text/plain": [
       "\u001b[1;36m1990\u001b[0m-\u001b[1;36m04\u001b[0m-20T\u001b[1;92m12:00:00\u001b[0mZ\r"
      ]
     },
     "metadata": {},
     "output_type": "display_data"
    },
    {
     "data": {
      "text/html": [
       "<pre style=\"white-space:pre;overflow-x:auto;line-height:normal;font-family:Menlo,'DejaVu Sans Mono',consolas,'Courier New',monospace\"><span style=\"color: #008080; text-decoration-color: #008080; font-weight: bold\">1990</span>-<span style=\"color: #008080; text-decoration-color: #008080; font-weight: bold\">04</span>-21T<span style=\"color: #00ff00; text-decoration-color: #00ff00; font-weight: bold\">12:00:00</span>Z\r",
       "</pre>\n"
      ],
      "text/plain": [
       "\u001b[1;36m1990\u001b[0m-\u001b[1;36m04\u001b[0m-21T\u001b[1;92m12:00:00\u001b[0mZ\r"
      ]
     },
     "metadata": {},
     "output_type": "display_data"
    },
    {
     "data": {
      "text/html": [
       "<pre style=\"white-space:pre;overflow-x:auto;line-height:normal;font-family:Menlo,'DejaVu Sans Mono',consolas,'Courier New',monospace\"><span style=\"color: #008080; text-decoration-color: #008080; font-weight: bold\">1990</span>-<span style=\"color: #008080; text-decoration-color: #008080; font-weight: bold\">04</span>-22T<span style=\"color: #00ff00; text-decoration-color: #00ff00; font-weight: bold\">12:00:00</span>Z\r",
       "</pre>\n"
      ],
      "text/plain": [
       "\u001b[1;36m1990\u001b[0m-\u001b[1;36m04\u001b[0m-22T\u001b[1;92m12:00:00\u001b[0mZ\r"
      ]
     },
     "metadata": {},
     "output_type": "display_data"
    },
    {
     "data": {
      "text/html": [
       "<pre style=\"white-space:pre;overflow-x:auto;line-height:normal;font-family:Menlo,'DejaVu Sans Mono',consolas,'Courier New',monospace\"><span style=\"color: #008080; text-decoration-color: #008080; font-weight: bold\">1990</span>-<span style=\"color: #008080; text-decoration-color: #008080; font-weight: bold\">04</span>-23T<span style=\"color: #00ff00; text-decoration-color: #00ff00; font-weight: bold\">12:00:00</span>Z\r",
       "</pre>\n"
      ],
      "text/plain": [
       "\u001b[1;36m1990\u001b[0m-\u001b[1;36m04\u001b[0m-23T\u001b[1;92m12:00:00\u001b[0mZ\r"
      ]
     },
     "metadata": {},
     "output_type": "display_data"
    },
    {
     "data": {
      "text/html": [
       "<pre style=\"white-space:pre;overflow-x:auto;line-height:normal;font-family:Menlo,'DejaVu Sans Mono',consolas,'Courier New',monospace\"><span style=\"color: #008080; text-decoration-color: #008080; font-weight: bold\">1990</span>-<span style=\"color: #008080; text-decoration-color: #008080; font-weight: bold\">04</span>-24T<span style=\"color: #00ff00; text-decoration-color: #00ff00; font-weight: bold\">12:00:00</span>Z\r",
       "</pre>\n"
      ],
      "text/plain": [
       "\u001b[1;36m1990\u001b[0m-\u001b[1;36m04\u001b[0m-24T\u001b[1;92m12:00:00\u001b[0mZ\r"
      ]
     },
     "metadata": {},
     "output_type": "display_data"
    },
    {
     "data": {
      "text/html": [
       "<pre style=\"white-space:pre;overflow-x:auto;line-height:normal;font-family:Menlo,'DejaVu Sans Mono',consolas,'Courier New',monospace\"><span style=\"color: #008080; text-decoration-color: #008080; font-weight: bold\">1990</span>-<span style=\"color: #008080; text-decoration-color: #008080; font-weight: bold\">04</span>-25T<span style=\"color: #00ff00; text-decoration-color: #00ff00; font-weight: bold\">12:00:00</span>Z\r",
       "</pre>\n"
      ],
      "text/plain": [
       "\u001b[1;36m1990\u001b[0m-\u001b[1;36m04\u001b[0m-25T\u001b[1;92m12:00:00\u001b[0mZ\r"
      ]
     },
     "metadata": {},
     "output_type": "display_data"
    },
    {
     "data": {
      "text/html": [
       "<pre style=\"white-space:pre;overflow-x:auto;line-height:normal;font-family:Menlo,'DejaVu Sans Mono',consolas,'Courier New',monospace\"><span style=\"color: #008080; text-decoration-color: #008080; font-weight: bold\">1990</span>-<span style=\"color: #008080; text-decoration-color: #008080; font-weight: bold\">04</span>-26T<span style=\"color: #00ff00; text-decoration-color: #00ff00; font-weight: bold\">12:00:00</span>Z\r",
       "</pre>\n"
      ],
      "text/plain": [
       "\u001b[1;36m1990\u001b[0m-\u001b[1;36m04\u001b[0m-26T\u001b[1;92m12:00:00\u001b[0mZ\r"
      ]
     },
     "metadata": {},
     "output_type": "display_data"
    },
    {
     "data": {
      "text/html": [
       "<pre style=\"white-space:pre;overflow-x:auto;line-height:normal;font-family:Menlo,'DejaVu Sans Mono',consolas,'Courier New',monospace\"><span style=\"color: #008080; text-decoration-color: #008080; font-weight: bold\">1990</span>-<span style=\"color: #008080; text-decoration-color: #008080; font-weight: bold\">04</span>-27T<span style=\"color: #00ff00; text-decoration-color: #00ff00; font-weight: bold\">12:00:00</span>Z\r",
       "</pre>\n"
      ],
      "text/plain": [
       "\u001b[1;36m1990\u001b[0m-\u001b[1;36m04\u001b[0m-27T\u001b[1;92m12:00:00\u001b[0mZ\r"
      ]
     },
     "metadata": {},
     "output_type": "display_data"
    },
    {
     "data": {
      "text/html": [
       "<pre style=\"white-space:pre;overflow-x:auto;line-height:normal;font-family:Menlo,'DejaVu Sans Mono',consolas,'Courier New',monospace\"><span style=\"color: #008080; text-decoration-color: #008080; font-weight: bold\">1990</span>-<span style=\"color: #008080; text-decoration-color: #008080; font-weight: bold\">04</span>-28T<span style=\"color: #00ff00; text-decoration-color: #00ff00; font-weight: bold\">12:00:00</span>Z\r",
       "</pre>\n"
      ],
      "text/plain": [
       "\u001b[1;36m1990\u001b[0m-\u001b[1;36m04\u001b[0m-28T\u001b[1;92m12:00:00\u001b[0mZ\r"
      ]
     },
     "metadata": {},
     "output_type": "display_data"
    },
    {
     "data": {
      "text/html": [
       "<pre style=\"white-space:pre;overflow-x:auto;line-height:normal;font-family:Menlo,'DejaVu Sans Mono',consolas,'Courier New',monospace\"><span style=\"color: #008080; text-decoration-color: #008080; font-weight: bold\">1990</span>-<span style=\"color: #008080; text-decoration-color: #008080; font-weight: bold\">04</span>-29T<span style=\"color: #00ff00; text-decoration-color: #00ff00; font-weight: bold\">12:00:00</span>Z\r",
       "</pre>\n"
      ],
      "text/plain": [
       "\u001b[1;36m1990\u001b[0m-\u001b[1;36m04\u001b[0m-29T\u001b[1;92m12:00:00\u001b[0mZ\r"
      ]
     },
     "metadata": {},
     "output_type": "display_data"
    },
    {
     "data": {
      "text/html": [
       "<pre style=\"white-space:pre;overflow-x:auto;line-height:normal;font-family:Menlo,'DejaVu Sans Mono',consolas,'Courier New',monospace\"><span style=\"color: #008080; text-decoration-color: #008080; font-weight: bold\">1990</span>-<span style=\"color: #008080; text-decoration-color: #008080; font-weight: bold\">04</span>-30T<span style=\"color: #00ff00; text-decoration-color: #00ff00; font-weight: bold\">12:00:00</span>Z\r",
       "</pre>\n"
      ],
      "text/plain": [
       "\u001b[1;36m1990\u001b[0m-\u001b[1;36m04\u001b[0m-30T\u001b[1;92m12:00:00\u001b[0mZ\r"
      ]
     },
     "metadata": {},
     "output_type": "display_data"
    },
    {
     "data": {
      "text/html": [
       "<pre style=\"white-space:pre;overflow-x:auto;line-height:normal;font-family:Menlo,'DejaVu Sans Mono',consolas,'Courier New',monospace\"><span style=\"color: #008080; text-decoration-color: #008080; font-weight: bold\">1990</span>-<span style=\"color: #008080; text-decoration-color: #008080; font-weight: bold\">05</span>-01T<span style=\"color: #00ff00; text-decoration-color: #00ff00; font-weight: bold\">12:00:00</span>Z\r",
       "</pre>\n"
      ],
      "text/plain": [
       "\u001b[1;36m1990\u001b[0m-\u001b[1;36m05\u001b[0m-01T\u001b[1;92m12:00:00\u001b[0mZ\r"
      ]
     },
     "metadata": {},
     "output_type": "display_data"
    },
    {
     "data": {
      "text/html": [
       "<pre style=\"white-space:pre;overflow-x:auto;line-height:normal;font-family:Menlo,'DejaVu Sans Mono',consolas,'Courier New',monospace\"><span style=\"color: #008080; text-decoration-color: #008080; font-weight: bold\">1990</span>-<span style=\"color: #008080; text-decoration-color: #008080; font-weight: bold\">05</span>-02T<span style=\"color: #00ff00; text-decoration-color: #00ff00; font-weight: bold\">12:00:00</span>Z\r",
       "</pre>\n"
      ],
      "text/plain": [
       "\u001b[1;36m1990\u001b[0m-\u001b[1;36m05\u001b[0m-02T\u001b[1;92m12:00:00\u001b[0mZ\r"
      ]
     },
     "metadata": {},
     "output_type": "display_data"
    },
    {
     "data": {
      "text/html": [
       "<pre style=\"white-space:pre;overflow-x:auto;line-height:normal;font-family:Menlo,'DejaVu Sans Mono',consolas,'Courier New',monospace\"><span style=\"color: #008080; text-decoration-color: #008080; font-weight: bold\">1990</span>-<span style=\"color: #008080; text-decoration-color: #008080; font-weight: bold\">05</span>-03T<span style=\"color: #00ff00; text-decoration-color: #00ff00; font-weight: bold\">12:00:00</span>Z\r",
       "</pre>\n"
      ],
      "text/plain": [
       "\u001b[1;36m1990\u001b[0m-\u001b[1;36m05\u001b[0m-03T\u001b[1;92m12:00:00\u001b[0mZ\r"
      ]
     },
     "metadata": {},
     "output_type": "display_data"
    },
    {
     "data": {
      "text/html": [
       "<pre style=\"white-space:pre;overflow-x:auto;line-height:normal;font-family:Menlo,'DejaVu Sans Mono',consolas,'Courier New',monospace\"><span style=\"color: #008080; text-decoration-color: #008080; font-weight: bold\">1990</span>-<span style=\"color: #008080; text-decoration-color: #008080; font-weight: bold\">05</span>-04T<span style=\"color: #00ff00; text-decoration-color: #00ff00; font-weight: bold\">12:00:00</span>Z\r",
       "</pre>\n"
      ],
      "text/plain": [
       "\u001b[1;36m1990\u001b[0m-\u001b[1;36m05\u001b[0m-04T\u001b[1;92m12:00:00\u001b[0mZ\r"
      ]
     },
     "metadata": {},
     "output_type": "display_data"
    },
    {
     "data": {
      "text/html": [
       "<pre style=\"white-space:pre;overflow-x:auto;line-height:normal;font-family:Menlo,'DejaVu Sans Mono',consolas,'Courier New',monospace\"><span style=\"color: #008080; text-decoration-color: #008080; font-weight: bold\">1990</span>-<span style=\"color: #008080; text-decoration-color: #008080; font-weight: bold\">05</span>-05T<span style=\"color: #00ff00; text-decoration-color: #00ff00; font-weight: bold\">12:00:00</span>Z\r",
       "</pre>\n"
      ],
      "text/plain": [
       "\u001b[1;36m1990\u001b[0m-\u001b[1;36m05\u001b[0m-05T\u001b[1;92m12:00:00\u001b[0mZ\r"
      ]
     },
     "metadata": {},
     "output_type": "display_data"
    },
    {
     "data": {
      "text/html": [
       "<pre style=\"white-space:pre;overflow-x:auto;line-height:normal;font-family:Menlo,'DejaVu Sans Mono',consolas,'Courier New',monospace\"><span style=\"color: #008080; text-decoration-color: #008080; font-weight: bold\">1990</span>-<span style=\"color: #008080; text-decoration-color: #008080; font-weight: bold\">05</span>-06T<span style=\"color: #00ff00; text-decoration-color: #00ff00; font-weight: bold\">12:00:00</span>Z\r",
       "</pre>\n"
      ],
      "text/plain": [
       "\u001b[1;36m1990\u001b[0m-\u001b[1;36m05\u001b[0m-06T\u001b[1;92m12:00:00\u001b[0mZ\r"
      ]
     },
     "metadata": {},
     "output_type": "display_data"
    },
    {
     "data": {
      "text/html": [
       "<pre style=\"white-space:pre;overflow-x:auto;line-height:normal;font-family:Menlo,'DejaVu Sans Mono',consolas,'Courier New',monospace\"><span style=\"color: #008080; text-decoration-color: #008080; font-weight: bold\">1990</span>-<span style=\"color: #008080; text-decoration-color: #008080; font-weight: bold\">05</span>-07T<span style=\"color: #00ff00; text-decoration-color: #00ff00; font-weight: bold\">12:00:00</span>Z\r",
       "</pre>\n"
      ],
      "text/plain": [
       "\u001b[1;36m1990\u001b[0m-\u001b[1;36m05\u001b[0m-07T\u001b[1;92m12:00:00\u001b[0mZ\r"
      ]
     },
     "metadata": {},
     "output_type": "display_data"
    },
    {
     "data": {
      "text/html": [
       "<pre style=\"white-space:pre;overflow-x:auto;line-height:normal;font-family:Menlo,'DejaVu Sans Mono',consolas,'Courier New',monospace\"><span style=\"color: #008080; text-decoration-color: #008080; font-weight: bold\">1990</span>-<span style=\"color: #008080; text-decoration-color: #008080; font-weight: bold\">05</span>-08T<span style=\"color: #00ff00; text-decoration-color: #00ff00; font-weight: bold\">12:00:00</span>Z\r",
       "</pre>\n"
      ],
      "text/plain": [
       "\u001b[1;36m1990\u001b[0m-\u001b[1;36m05\u001b[0m-08T\u001b[1;92m12:00:00\u001b[0mZ\r"
      ]
     },
     "metadata": {},
     "output_type": "display_data"
    },
    {
     "data": {
      "text/html": [
       "<pre style=\"white-space:pre;overflow-x:auto;line-height:normal;font-family:Menlo,'DejaVu Sans Mono',consolas,'Courier New',monospace\"><span style=\"color: #008080; text-decoration-color: #008080; font-weight: bold\">1990</span>-<span style=\"color: #008080; text-decoration-color: #008080; font-weight: bold\">05</span>-09T<span style=\"color: #00ff00; text-decoration-color: #00ff00; font-weight: bold\">12:00:00</span>Z\r",
       "</pre>\n"
      ],
      "text/plain": [
       "\u001b[1;36m1990\u001b[0m-\u001b[1;36m05\u001b[0m-09T\u001b[1;92m12:00:00\u001b[0mZ\r"
      ]
     },
     "metadata": {},
     "output_type": "display_data"
    },
    {
     "data": {
      "text/html": [
       "<pre style=\"white-space:pre;overflow-x:auto;line-height:normal;font-family:Menlo,'DejaVu Sans Mono',consolas,'Courier New',monospace\"><span style=\"color: #008080; text-decoration-color: #008080; font-weight: bold\">1990</span>-<span style=\"color: #008080; text-decoration-color: #008080; font-weight: bold\">05</span>-10T<span style=\"color: #00ff00; text-decoration-color: #00ff00; font-weight: bold\">12:00:00</span>Z\r",
       "</pre>\n"
      ],
      "text/plain": [
       "\u001b[1;36m1990\u001b[0m-\u001b[1;36m05\u001b[0m-10T\u001b[1;92m12:00:00\u001b[0mZ\r"
      ]
     },
     "metadata": {},
     "output_type": "display_data"
    },
    {
     "data": {
      "text/html": [
       "<pre style=\"white-space:pre;overflow-x:auto;line-height:normal;font-family:Menlo,'DejaVu Sans Mono',consolas,'Courier New',monospace\"><span style=\"color: #008080; text-decoration-color: #008080; font-weight: bold\">1990</span>-<span style=\"color: #008080; text-decoration-color: #008080; font-weight: bold\">05</span>-11T<span style=\"color: #00ff00; text-decoration-color: #00ff00; font-weight: bold\">12:00:00</span>Z\r",
       "</pre>\n"
      ],
      "text/plain": [
       "\u001b[1;36m1990\u001b[0m-\u001b[1;36m05\u001b[0m-11T\u001b[1;92m12:00:00\u001b[0mZ\r"
      ]
     },
     "metadata": {},
     "output_type": "display_data"
    },
    {
     "data": {
      "text/html": [
       "<pre style=\"white-space:pre;overflow-x:auto;line-height:normal;font-family:Menlo,'DejaVu Sans Mono',consolas,'Courier New',monospace\"><span style=\"color: #008080; text-decoration-color: #008080; font-weight: bold\">1990</span>-<span style=\"color: #008080; text-decoration-color: #008080; font-weight: bold\">05</span>-12T<span style=\"color: #00ff00; text-decoration-color: #00ff00; font-weight: bold\">12:00:00</span>Z\r",
       "</pre>\n"
      ],
      "text/plain": [
       "\u001b[1;36m1990\u001b[0m-\u001b[1;36m05\u001b[0m-12T\u001b[1;92m12:00:00\u001b[0mZ\r"
      ]
     },
     "metadata": {},
     "output_type": "display_data"
    },
    {
     "data": {
      "text/html": [
       "<pre style=\"white-space:pre;overflow-x:auto;line-height:normal;font-family:Menlo,'DejaVu Sans Mono',consolas,'Courier New',monospace\"><span style=\"color: #008080; text-decoration-color: #008080; font-weight: bold\">1990</span>-<span style=\"color: #008080; text-decoration-color: #008080; font-weight: bold\">05</span>-13T<span style=\"color: #00ff00; text-decoration-color: #00ff00; font-weight: bold\">12:00:00</span>Z\r",
       "</pre>\n"
      ],
      "text/plain": [
       "\u001b[1;36m1990\u001b[0m-\u001b[1;36m05\u001b[0m-13T\u001b[1;92m12:00:00\u001b[0mZ\r"
      ]
     },
     "metadata": {},
     "output_type": "display_data"
    },
    {
     "data": {
      "text/html": [
       "<pre style=\"white-space:pre;overflow-x:auto;line-height:normal;font-family:Menlo,'DejaVu Sans Mono',consolas,'Courier New',monospace\"><span style=\"color: #008080; text-decoration-color: #008080; font-weight: bold\">1990</span>-<span style=\"color: #008080; text-decoration-color: #008080; font-weight: bold\">05</span>-14T<span style=\"color: #00ff00; text-decoration-color: #00ff00; font-weight: bold\">12:00:00</span>Z\r",
       "</pre>\n"
      ],
      "text/plain": [
       "\u001b[1;36m1990\u001b[0m-\u001b[1;36m05\u001b[0m-14T\u001b[1;92m12:00:00\u001b[0mZ\r"
      ]
     },
     "metadata": {},
     "output_type": "display_data"
    },
    {
     "data": {
      "text/html": [
       "<pre style=\"white-space:pre;overflow-x:auto;line-height:normal;font-family:Menlo,'DejaVu Sans Mono',consolas,'Courier New',monospace\"><span style=\"color: #008080; text-decoration-color: #008080; font-weight: bold\">1990</span>-<span style=\"color: #008080; text-decoration-color: #008080; font-weight: bold\">05</span>-15T<span style=\"color: #00ff00; text-decoration-color: #00ff00; font-weight: bold\">12:00:00</span>Z\r",
       "</pre>\n"
      ],
      "text/plain": [
       "\u001b[1;36m1990\u001b[0m-\u001b[1;36m05\u001b[0m-15T\u001b[1;92m12:00:00\u001b[0mZ\r"
      ]
     },
     "metadata": {},
     "output_type": "display_data"
    },
    {
     "data": {
      "text/html": [
       "<pre style=\"white-space:pre;overflow-x:auto;line-height:normal;font-family:Menlo,'DejaVu Sans Mono',consolas,'Courier New',monospace\"><span style=\"color: #008080; text-decoration-color: #008080; font-weight: bold\">1990</span>-<span style=\"color: #008080; text-decoration-color: #008080; font-weight: bold\">05</span>-16T<span style=\"color: #00ff00; text-decoration-color: #00ff00; font-weight: bold\">12:00:00</span>Z\r",
       "</pre>\n"
      ],
      "text/plain": [
       "\u001b[1;36m1990\u001b[0m-\u001b[1;36m05\u001b[0m-16T\u001b[1;92m12:00:00\u001b[0mZ\r"
      ]
     },
     "metadata": {},
     "output_type": "display_data"
    },
    {
     "data": {
      "text/html": [
       "<pre style=\"white-space:pre;overflow-x:auto;line-height:normal;font-family:Menlo,'DejaVu Sans Mono',consolas,'Courier New',monospace\"><span style=\"color: #008080; text-decoration-color: #008080; font-weight: bold\">1990</span>-<span style=\"color: #008080; text-decoration-color: #008080; font-weight: bold\">05</span>-17T<span style=\"color: #00ff00; text-decoration-color: #00ff00; font-weight: bold\">12:00:00</span>Z\r",
       "</pre>\n"
      ],
      "text/plain": [
       "\u001b[1;36m1990\u001b[0m-\u001b[1;36m05\u001b[0m-17T\u001b[1;92m12:00:00\u001b[0mZ\r"
      ]
     },
     "metadata": {},
     "output_type": "display_data"
    },
    {
     "data": {
      "text/html": [
       "<pre style=\"white-space:pre;overflow-x:auto;line-height:normal;font-family:Menlo,'DejaVu Sans Mono',consolas,'Courier New',monospace\"><span style=\"color: #008080; text-decoration-color: #008080; font-weight: bold\">1990</span>-<span style=\"color: #008080; text-decoration-color: #008080; font-weight: bold\">05</span>-18T<span style=\"color: #00ff00; text-decoration-color: #00ff00; font-weight: bold\">12:00:00</span>Z\r",
       "</pre>\n"
      ],
      "text/plain": [
       "\u001b[1;36m1990\u001b[0m-\u001b[1;36m05\u001b[0m-18T\u001b[1;92m12:00:00\u001b[0mZ\r"
      ]
     },
     "metadata": {},
     "output_type": "display_data"
    },
    {
     "data": {
      "text/html": [
       "<pre style=\"white-space:pre;overflow-x:auto;line-height:normal;font-family:Menlo,'DejaVu Sans Mono',consolas,'Courier New',monospace\"><span style=\"color: #008080; text-decoration-color: #008080; font-weight: bold\">1990</span>-<span style=\"color: #008080; text-decoration-color: #008080; font-weight: bold\">05</span>-19T<span style=\"color: #00ff00; text-decoration-color: #00ff00; font-weight: bold\">12:00:00</span>Z\r",
       "</pre>\n"
      ],
      "text/plain": [
       "\u001b[1;36m1990\u001b[0m-\u001b[1;36m05\u001b[0m-19T\u001b[1;92m12:00:00\u001b[0mZ\r"
      ]
     },
     "metadata": {},
     "output_type": "display_data"
    },
    {
     "data": {
      "text/html": [
       "<pre style=\"white-space:pre;overflow-x:auto;line-height:normal;font-family:Menlo,'DejaVu Sans Mono',consolas,'Courier New',monospace\"><span style=\"color: #008080; text-decoration-color: #008080; font-weight: bold\">1990</span>-<span style=\"color: #008080; text-decoration-color: #008080; font-weight: bold\">05</span>-20T<span style=\"color: #00ff00; text-decoration-color: #00ff00; font-weight: bold\">12:00:00</span>Z\r",
       "</pre>\n"
      ],
      "text/plain": [
       "\u001b[1;36m1990\u001b[0m-\u001b[1;36m05\u001b[0m-20T\u001b[1;92m12:00:00\u001b[0mZ\r"
      ]
     },
     "metadata": {},
     "output_type": "display_data"
    },
    {
     "data": {
      "text/html": [
       "<pre style=\"white-space:pre;overflow-x:auto;line-height:normal;font-family:Menlo,'DejaVu Sans Mono',consolas,'Courier New',monospace\"><span style=\"color: #008080; text-decoration-color: #008080; font-weight: bold\">1990</span>-<span style=\"color: #008080; text-decoration-color: #008080; font-weight: bold\">05</span>-21T<span style=\"color: #00ff00; text-decoration-color: #00ff00; font-weight: bold\">12:00:00</span>Z\r",
       "</pre>\n"
      ],
      "text/plain": [
       "\u001b[1;36m1990\u001b[0m-\u001b[1;36m05\u001b[0m-21T\u001b[1;92m12:00:00\u001b[0mZ\r"
      ]
     },
     "metadata": {},
     "output_type": "display_data"
    },
    {
     "data": {
      "text/html": [
       "<pre style=\"white-space:pre;overflow-x:auto;line-height:normal;font-family:Menlo,'DejaVu Sans Mono',consolas,'Courier New',monospace\"><span style=\"color: #008080; text-decoration-color: #008080; font-weight: bold\">1990</span>-<span style=\"color: #008080; text-decoration-color: #008080; font-weight: bold\">05</span>-22T<span style=\"color: #00ff00; text-decoration-color: #00ff00; font-weight: bold\">12:00:00</span>Z\r",
       "</pre>\n"
      ],
      "text/plain": [
       "\u001b[1;36m1990\u001b[0m-\u001b[1;36m05\u001b[0m-22T\u001b[1;92m12:00:00\u001b[0mZ\r"
      ]
     },
     "metadata": {},
     "output_type": "display_data"
    },
    {
     "data": {
      "text/html": [
       "<pre style=\"white-space:pre;overflow-x:auto;line-height:normal;font-family:Menlo,'DejaVu Sans Mono',consolas,'Courier New',monospace\"><span style=\"color: #008080; text-decoration-color: #008080; font-weight: bold\">1990</span>-<span style=\"color: #008080; text-decoration-color: #008080; font-weight: bold\">05</span>-23T<span style=\"color: #00ff00; text-decoration-color: #00ff00; font-weight: bold\">12:00:00</span>Z\r",
       "</pre>\n"
      ],
      "text/plain": [
       "\u001b[1;36m1990\u001b[0m-\u001b[1;36m05\u001b[0m-23T\u001b[1;92m12:00:00\u001b[0mZ\r"
      ]
     },
     "metadata": {},
     "output_type": "display_data"
    },
    {
     "data": {
      "text/html": [
       "<pre style=\"white-space:pre;overflow-x:auto;line-height:normal;font-family:Menlo,'DejaVu Sans Mono',consolas,'Courier New',monospace\"><span style=\"color: #008080; text-decoration-color: #008080; font-weight: bold\">1990</span>-<span style=\"color: #008080; text-decoration-color: #008080; font-weight: bold\">05</span>-24T<span style=\"color: #00ff00; text-decoration-color: #00ff00; font-weight: bold\">12:00:00</span>Z\r",
       "</pre>\n"
      ],
      "text/plain": [
       "\u001b[1;36m1990\u001b[0m-\u001b[1;36m05\u001b[0m-24T\u001b[1;92m12:00:00\u001b[0mZ\r"
      ]
     },
     "metadata": {},
     "output_type": "display_data"
    },
    {
     "data": {
      "text/html": [
       "<pre style=\"white-space:pre;overflow-x:auto;line-height:normal;font-family:Menlo,'DejaVu Sans Mono',consolas,'Courier New',monospace\"><span style=\"color: #008080; text-decoration-color: #008080; font-weight: bold\">1990</span>-<span style=\"color: #008080; text-decoration-color: #008080; font-weight: bold\">05</span>-25T<span style=\"color: #00ff00; text-decoration-color: #00ff00; font-weight: bold\">12:00:00</span>Z\r",
       "</pre>\n"
      ],
      "text/plain": [
       "\u001b[1;36m1990\u001b[0m-\u001b[1;36m05\u001b[0m-25T\u001b[1;92m12:00:00\u001b[0mZ\r"
      ]
     },
     "metadata": {},
     "output_type": "display_data"
    },
    {
     "data": {
      "text/html": [
       "<pre style=\"white-space:pre;overflow-x:auto;line-height:normal;font-family:Menlo,'DejaVu Sans Mono',consolas,'Courier New',monospace\"><span style=\"color: #008080; text-decoration-color: #008080; font-weight: bold\">1990</span>-<span style=\"color: #008080; text-decoration-color: #008080; font-weight: bold\">05</span>-26T<span style=\"color: #00ff00; text-decoration-color: #00ff00; font-weight: bold\">12:00:00</span>Z\r",
       "</pre>\n"
      ],
      "text/plain": [
       "\u001b[1;36m1990\u001b[0m-\u001b[1;36m05\u001b[0m-26T\u001b[1;92m12:00:00\u001b[0mZ\r"
      ]
     },
     "metadata": {},
     "output_type": "display_data"
    },
    {
     "data": {
      "text/html": [
       "<pre style=\"white-space:pre;overflow-x:auto;line-height:normal;font-family:Menlo,'DejaVu Sans Mono',consolas,'Courier New',monospace\"><span style=\"color: #008080; text-decoration-color: #008080; font-weight: bold\">1990</span>-<span style=\"color: #008080; text-decoration-color: #008080; font-weight: bold\">05</span>-27T<span style=\"color: #00ff00; text-decoration-color: #00ff00; font-weight: bold\">12:00:00</span>Z\r",
       "</pre>\n"
      ],
      "text/plain": [
       "\u001b[1;36m1990\u001b[0m-\u001b[1;36m05\u001b[0m-27T\u001b[1;92m12:00:00\u001b[0mZ\r"
      ]
     },
     "metadata": {},
     "output_type": "display_data"
    },
    {
     "data": {
      "text/html": [
       "<pre style=\"white-space:pre;overflow-x:auto;line-height:normal;font-family:Menlo,'DejaVu Sans Mono',consolas,'Courier New',monospace\"><span style=\"color: #008080; text-decoration-color: #008080; font-weight: bold\">1990</span>-<span style=\"color: #008080; text-decoration-color: #008080; font-weight: bold\">05</span>-28T<span style=\"color: #00ff00; text-decoration-color: #00ff00; font-weight: bold\">12:00:00</span>Z\r",
       "</pre>\n"
      ],
      "text/plain": [
       "\u001b[1;36m1990\u001b[0m-\u001b[1;36m05\u001b[0m-28T\u001b[1;92m12:00:00\u001b[0mZ\r"
      ]
     },
     "metadata": {},
     "output_type": "display_data"
    },
    {
     "data": {
      "text/html": [
       "<pre style=\"white-space:pre;overflow-x:auto;line-height:normal;font-family:Menlo,'DejaVu Sans Mono',consolas,'Courier New',monospace\"><span style=\"color: #008080; text-decoration-color: #008080; font-weight: bold\">1990</span>-<span style=\"color: #008080; text-decoration-color: #008080; font-weight: bold\">05</span>-29T<span style=\"color: #00ff00; text-decoration-color: #00ff00; font-weight: bold\">12:00:00</span>Z\r",
       "</pre>\n"
      ],
      "text/plain": [
       "\u001b[1;36m1990\u001b[0m-\u001b[1;36m05\u001b[0m-29T\u001b[1;92m12:00:00\u001b[0mZ\r"
      ]
     },
     "metadata": {},
     "output_type": "display_data"
    },
    {
     "data": {
      "text/html": [
       "<pre style=\"white-space:pre;overflow-x:auto;line-height:normal;font-family:Menlo,'DejaVu Sans Mono',consolas,'Courier New',monospace\"><span style=\"color: #008080; text-decoration-color: #008080; font-weight: bold\">1990</span>-<span style=\"color: #008080; text-decoration-color: #008080; font-weight: bold\">05</span>-30T<span style=\"color: #00ff00; text-decoration-color: #00ff00; font-weight: bold\">12:00:00</span>Z\r",
       "</pre>\n"
      ],
      "text/plain": [
       "\u001b[1;36m1990\u001b[0m-\u001b[1;36m05\u001b[0m-30T\u001b[1;92m12:00:00\u001b[0mZ\r"
      ]
     },
     "metadata": {},
     "output_type": "display_data"
    },
    {
     "data": {
      "text/html": [
       "<pre style=\"white-space:pre;overflow-x:auto;line-height:normal;font-family:Menlo,'DejaVu Sans Mono',consolas,'Courier New',monospace\"><span style=\"color: #008080; text-decoration-color: #008080; font-weight: bold\">1990</span>-<span style=\"color: #008080; text-decoration-color: #008080; font-weight: bold\">05</span>-31T<span style=\"color: #00ff00; text-decoration-color: #00ff00; font-weight: bold\">12:00:00</span>Z\r",
       "</pre>\n"
      ],
      "text/plain": [
       "\u001b[1;36m1990\u001b[0m-\u001b[1;36m05\u001b[0m-31T\u001b[1;92m12:00:00\u001b[0mZ\r"
      ]
     },
     "metadata": {},
     "output_type": "display_data"
    },
    {
     "data": {
      "text/html": [
       "<pre style=\"white-space:pre;overflow-x:auto;line-height:normal;font-family:Menlo,'DejaVu Sans Mono',consolas,'Courier New',monospace\"><span style=\"color: #008080; text-decoration-color: #008080; font-weight: bold\">1990</span>-<span style=\"color: #008080; text-decoration-color: #008080; font-weight: bold\">06</span>-01T<span style=\"color: #00ff00; text-decoration-color: #00ff00; font-weight: bold\">12:00:00</span>Z\r",
       "</pre>\n"
      ],
      "text/plain": [
       "\u001b[1;36m1990\u001b[0m-\u001b[1;36m06\u001b[0m-01T\u001b[1;92m12:00:00\u001b[0mZ\r"
      ]
     },
     "metadata": {},
     "output_type": "display_data"
    },
    {
     "data": {
      "text/html": [
       "<pre style=\"white-space:pre;overflow-x:auto;line-height:normal;font-family:Menlo,'DejaVu Sans Mono',consolas,'Courier New',monospace\"><span style=\"color: #008080; text-decoration-color: #008080; font-weight: bold\">1990</span>-<span style=\"color: #008080; text-decoration-color: #008080; font-weight: bold\">06</span>-02T<span style=\"color: #00ff00; text-decoration-color: #00ff00; font-weight: bold\">12:00:00</span>Z\r",
       "</pre>\n"
      ],
      "text/plain": [
       "\u001b[1;36m1990\u001b[0m-\u001b[1;36m06\u001b[0m-02T\u001b[1;92m12:00:00\u001b[0mZ\r"
      ]
     },
     "metadata": {},
     "output_type": "display_data"
    },
    {
     "data": {
      "text/html": [
       "<pre style=\"white-space:pre;overflow-x:auto;line-height:normal;font-family:Menlo,'DejaVu Sans Mono',consolas,'Courier New',monospace\"><span style=\"color: #008080; text-decoration-color: #008080; font-weight: bold\">1990</span>-<span style=\"color: #008080; text-decoration-color: #008080; font-weight: bold\">06</span>-03T<span style=\"color: #00ff00; text-decoration-color: #00ff00; font-weight: bold\">12:00:00</span>Z\r",
       "</pre>\n"
      ],
      "text/plain": [
       "\u001b[1;36m1990\u001b[0m-\u001b[1;36m06\u001b[0m-03T\u001b[1;92m12:00:00\u001b[0mZ\r"
      ]
     },
     "metadata": {},
     "output_type": "display_data"
    },
    {
     "data": {
      "text/html": [
       "<pre style=\"white-space:pre;overflow-x:auto;line-height:normal;font-family:Menlo,'DejaVu Sans Mono',consolas,'Courier New',monospace\"><span style=\"color: #008080; text-decoration-color: #008080; font-weight: bold\">1990</span>-<span style=\"color: #008080; text-decoration-color: #008080; font-weight: bold\">06</span>-04T<span style=\"color: #00ff00; text-decoration-color: #00ff00; font-weight: bold\">12:00:00</span>Z\r",
       "</pre>\n"
      ],
      "text/plain": [
       "\u001b[1;36m1990\u001b[0m-\u001b[1;36m06\u001b[0m-04T\u001b[1;92m12:00:00\u001b[0mZ\r"
      ]
     },
     "metadata": {},
     "output_type": "display_data"
    },
    {
     "data": {
      "text/html": [
       "<pre style=\"white-space:pre;overflow-x:auto;line-height:normal;font-family:Menlo,'DejaVu Sans Mono',consolas,'Courier New',monospace\"><span style=\"color: #008080; text-decoration-color: #008080; font-weight: bold\">1990</span>-<span style=\"color: #008080; text-decoration-color: #008080; font-weight: bold\">06</span>-05T<span style=\"color: #00ff00; text-decoration-color: #00ff00; font-weight: bold\">12:00:00</span>Z\r",
       "</pre>\n"
      ],
      "text/plain": [
       "\u001b[1;36m1990\u001b[0m-\u001b[1;36m06\u001b[0m-05T\u001b[1;92m12:00:00\u001b[0mZ\r"
      ]
     },
     "metadata": {},
     "output_type": "display_data"
    },
    {
     "data": {
      "text/html": [
       "<pre style=\"white-space:pre;overflow-x:auto;line-height:normal;font-family:Menlo,'DejaVu Sans Mono',consolas,'Courier New',monospace\"><span style=\"color: #008080; text-decoration-color: #008080; font-weight: bold\">1990</span>-<span style=\"color: #008080; text-decoration-color: #008080; font-weight: bold\">06</span>-06T<span style=\"color: #00ff00; text-decoration-color: #00ff00; font-weight: bold\">12:00:00</span>Z\r",
       "</pre>\n"
      ],
      "text/plain": [
       "\u001b[1;36m1990\u001b[0m-\u001b[1;36m06\u001b[0m-06T\u001b[1;92m12:00:00\u001b[0mZ\r"
      ]
     },
     "metadata": {},
     "output_type": "display_data"
    },
    {
     "data": {
      "text/html": [
       "<pre style=\"white-space:pre;overflow-x:auto;line-height:normal;font-family:Menlo,'DejaVu Sans Mono',consolas,'Courier New',monospace\"><span style=\"color: #008080; text-decoration-color: #008080; font-weight: bold\">1990</span>-<span style=\"color: #008080; text-decoration-color: #008080; font-weight: bold\">06</span>-07T<span style=\"color: #00ff00; text-decoration-color: #00ff00; font-weight: bold\">12:00:00</span>Z\r",
       "</pre>\n"
      ],
      "text/plain": [
       "\u001b[1;36m1990\u001b[0m-\u001b[1;36m06\u001b[0m-07T\u001b[1;92m12:00:00\u001b[0mZ\r"
      ]
     },
     "metadata": {},
     "output_type": "display_data"
    },
    {
     "data": {
      "text/html": [
       "<pre style=\"white-space:pre;overflow-x:auto;line-height:normal;font-family:Menlo,'DejaVu Sans Mono',consolas,'Courier New',monospace\"><span style=\"color: #008080; text-decoration-color: #008080; font-weight: bold\">1990</span>-<span style=\"color: #008080; text-decoration-color: #008080; font-weight: bold\">06</span>-08T<span style=\"color: #00ff00; text-decoration-color: #00ff00; font-weight: bold\">12:00:00</span>Z\r",
       "</pre>\n"
      ],
      "text/plain": [
       "\u001b[1;36m1990\u001b[0m-\u001b[1;36m06\u001b[0m-08T\u001b[1;92m12:00:00\u001b[0mZ\r"
      ]
     },
     "metadata": {},
     "output_type": "display_data"
    },
    {
     "data": {
      "text/html": [
       "<pre style=\"white-space:pre;overflow-x:auto;line-height:normal;font-family:Menlo,'DejaVu Sans Mono',consolas,'Courier New',monospace\"><span style=\"color: #008080; text-decoration-color: #008080; font-weight: bold\">1990</span>-<span style=\"color: #008080; text-decoration-color: #008080; font-weight: bold\">06</span>-09T<span style=\"color: #00ff00; text-decoration-color: #00ff00; font-weight: bold\">12:00:00</span>Z\r",
       "</pre>\n"
      ],
      "text/plain": [
       "\u001b[1;36m1990\u001b[0m-\u001b[1;36m06\u001b[0m-09T\u001b[1;92m12:00:00\u001b[0mZ\r"
      ]
     },
     "metadata": {},
     "output_type": "display_data"
    },
    {
     "data": {
      "text/html": [
       "<pre style=\"white-space:pre;overflow-x:auto;line-height:normal;font-family:Menlo,'DejaVu Sans Mono',consolas,'Courier New',monospace\"><span style=\"color: #008080; text-decoration-color: #008080; font-weight: bold\">1990</span>-<span style=\"color: #008080; text-decoration-color: #008080; font-weight: bold\">06</span>-10T<span style=\"color: #00ff00; text-decoration-color: #00ff00; font-weight: bold\">12:00:00</span>Z\r",
       "</pre>\n"
      ],
      "text/plain": [
       "\u001b[1;36m1990\u001b[0m-\u001b[1;36m06\u001b[0m-10T\u001b[1;92m12:00:00\u001b[0mZ\r"
      ]
     },
     "metadata": {},
     "output_type": "display_data"
    },
    {
     "data": {
      "text/html": [
       "<pre style=\"white-space:pre;overflow-x:auto;line-height:normal;font-family:Menlo,'DejaVu Sans Mono',consolas,'Courier New',monospace\"><span style=\"color: #008080; text-decoration-color: #008080; font-weight: bold\">1990</span>-<span style=\"color: #008080; text-decoration-color: #008080; font-weight: bold\">06</span>-11T<span style=\"color: #00ff00; text-decoration-color: #00ff00; font-weight: bold\">12:00:00</span>Z\r",
       "</pre>\n"
      ],
      "text/plain": [
       "\u001b[1;36m1990\u001b[0m-\u001b[1;36m06\u001b[0m-11T\u001b[1;92m12:00:00\u001b[0mZ\r"
      ]
     },
     "metadata": {},
     "output_type": "display_data"
    },
    {
     "data": {
      "text/html": [
       "<pre style=\"white-space:pre;overflow-x:auto;line-height:normal;font-family:Menlo,'DejaVu Sans Mono',consolas,'Courier New',monospace\"><span style=\"color: #008080; text-decoration-color: #008080; font-weight: bold\">1990</span>-<span style=\"color: #008080; text-decoration-color: #008080; font-weight: bold\">06</span>-12T<span style=\"color: #00ff00; text-decoration-color: #00ff00; font-weight: bold\">12:00:00</span>Z\r",
       "</pre>\n"
      ],
      "text/plain": [
       "\u001b[1;36m1990\u001b[0m-\u001b[1;36m06\u001b[0m-12T\u001b[1;92m12:00:00\u001b[0mZ\r"
      ]
     },
     "metadata": {},
     "output_type": "display_data"
    },
    {
     "data": {
      "text/html": [
       "<pre style=\"white-space:pre;overflow-x:auto;line-height:normal;font-family:Menlo,'DejaVu Sans Mono',consolas,'Courier New',monospace\"><span style=\"color: #008080; text-decoration-color: #008080; font-weight: bold\">1990</span>-<span style=\"color: #008080; text-decoration-color: #008080; font-weight: bold\">06</span>-13T<span style=\"color: #00ff00; text-decoration-color: #00ff00; font-weight: bold\">12:00:00</span>Z\r",
       "</pre>\n"
      ],
      "text/plain": [
       "\u001b[1;36m1990\u001b[0m-\u001b[1;36m06\u001b[0m-13T\u001b[1;92m12:00:00\u001b[0mZ\r"
      ]
     },
     "metadata": {},
     "output_type": "display_data"
    },
    {
     "data": {
      "text/html": [
       "<pre style=\"white-space:pre;overflow-x:auto;line-height:normal;font-family:Menlo,'DejaVu Sans Mono',consolas,'Courier New',monospace\"><span style=\"color: #008080; text-decoration-color: #008080; font-weight: bold\">1990</span>-<span style=\"color: #008080; text-decoration-color: #008080; font-weight: bold\">06</span>-14T<span style=\"color: #00ff00; text-decoration-color: #00ff00; font-weight: bold\">12:00:00</span>Z\r",
       "</pre>\n"
      ],
      "text/plain": [
       "\u001b[1;36m1990\u001b[0m-\u001b[1;36m06\u001b[0m-14T\u001b[1;92m12:00:00\u001b[0mZ\r"
      ]
     },
     "metadata": {},
     "output_type": "display_data"
    },
    {
     "data": {
      "text/html": [
       "<pre style=\"white-space:pre;overflow-x:auto;line-height:normal;font-family:Menlo,'DejaVu Sans Mono',consolas,'Courier New',monospace\"><span style=\"color: #008080; text-decoration-color: #008080; font-weight: bold\">1990</span>-<span style=\"color: #008080; text-decoration-color: #008080; font-weight: bold\">06</span>-15T<span style=\"color: #00ff00; text-decoration-color: #00ff00; font-weight: bold\">12:00:00</span>Z\r",
       "</pre>\n"
      ],
      "text/plain": [
       "\u001b[1;36m1990\u001b[0m-\u001b[1;36m06\u001b[0m-15T\u001b[1;92m12:00:00\u001b[0mZ\r"
      ]
     },
     "metadata": {},
     "output_type": "display_data"
    },
    {
     "data": {
      "text/html": [
       "<pre style=\"white-space:pre;overflow-x:auto;line-height:normal;font-family:Menlo,'DejaVu Sans Mono',consolas,'Courier New',monospace\"><span style=\"color: #008080; text-decoration-color: #008080; font-weight: bold\">1990</span>-<span style=\"color: #008080; text-decoration-color: #008080; font-weight: bold\">06</span>-16T<span style=\"color: #00ff00; text-decoration-color: #00ff00; font-weight: bold\">12:00:00</span>Z\r",
       "</pre>\n"
      ],
      "text/plain": [
       "\u001b[1;36m1990\u001b[0m-\u001b[1;36m06\u001b[0m-16T\u001b[1;92m12:00:00\u001b[0mZ\r"
      ]
     },
     "metadata": {},
     "output_type": "display_data"
    },
    {
     "data": {
      "text/html": [
       "<pre style=\"white-space:pre;overflow-x:auto;line-height:normal;font-family:Menlo,'DejaVu Sans Mono',consolas,'Courier New',monospace\"><span style=\"color: #008080; text-decoration-color: #008080; font-weight: bold\">1990</span>-<span style=\"color: #008080; text-decoration-color: #008080; font-weight: bold\">06</span>-17T<span style=\"color: #00ff00; text-decoration-color: #00ff00; font-weight: bold\">12:00:00</span>Z\r",
       "</pre>\n"
      ],
      "text/plain": [
       "\u001b[1;36m1990\u001b[0m-\u001b[1;36m06\u001b[0m-17T\u001b[1;92m12:00:00\u001b[0mZ\r"
      ]
     },
     "metadata": {},
     "output_type": "display_data"
    },
    {
     "data": {
      "text/html": [
       "<pre style=\"white-space:pre;overflow-x:auto;line-height:normal;font-family:Menlo,'DejaVu Sans Mono',consolas,'Courier New',monospace\"><span style=\"color: #008080; text-decoration-color: #008080; font-weight: bold\">1990</span>-<span style=\"color: #008080; text-decoration-color: #008080; font-weight: bold\">06</span>-18T<span style=\"color: #00ff00; text-decoration-color: #00ff00; font-weight: bold\">12:00:00</span>Z\r",
       "</pre>\n"
      ],
      "text/plain": [
       "\u001b[1;36m1990\u001b[0m-\u001b[1;36m06\u001b[0m-18T\u001b[1;92m12:00:00\u001b[0mZ\r"
      ]
     },
     "metadata": {},
     "output_type": "display_data"
    },
    {
     "data": {
      "text/html": [
       "<pre style=\"white-space:pre;overflow-x:auto;line-height:normal;font-family:Menlo,'DejaVu Sans Mono',consolas,'Courier New',monospace\"><span style=\"color: #008080; text-decoration-color: #008080; font-weight: bold\">1990</span>-<span style=\"color: #008080; text-decoration-color: #008080; font-weight: bold\">06</span>-19T<span style=\"color: #00ff00; text-decoration-color: #00ff00; font-weight: bold\">12:00:00</span>Z\r",
       "</pre>\n"
      ],
      "text/plain": [
       "\u001b[1;36m1990\u001b[0m-\u001b[1;36m06\u001b[0m-19T\u001b[1;92m12:00:00\u001b[0mZ\r"
      ]
     },
     "metadata": {},
     "output_type": "display_data"
    },
    {
     "data": {
      "text/html": [
       "<pre style=\"white-space:pre;overflow-x:auto;line-height:normal;font-family:Menlo,'DejaVu Sans Mono',consolas,'Courier New',monospace\"><span style=\"color: #008080; text-decoration-color: #008080; font-weight: bold\">1990</span>-<span style=\"color: #008080; text-decoration-color: #008080; font-weight: bold\">06</span>-20T<span style=\"color: #00ff00; text-decoration-color: #00ff00; font-weight: bold\">12:00:00</span>Z\r",
       "</pre>\n"
      ],
      "text/plain": [
       "\u001b[1;36m1990\u001b[0m-\u001b[1;36m06\u001b[0m-20T\u001b[1;92m12:00:00\u001b[0mZ\r"
      ]
     },
     "metadata": {},
     "output_type": "display_data"
    },
    {
     "data": {
      "text/html": [
       "<pre style=\"white-space:pre;overflow-x:auto;line-height:normal;font-family:Menlo,'DejaVu Sans Mono',consolas,'Courier New',monospace\"><span style=\"color: #008080; text-decoration-color: #008080; font-weight: bold\">1990</span>-<span style=\"color: #008080; text-decoration-color: #008080; font-weight: bold\">06</span>-21T<span style=\"color: #00ff00; text-decoration-color: #00ff00; font-weight: bold\">12:00:00</span>Z\r",
       "</pre>\n"
      ],
      "text/plain": [
       "\u001b[1;36m1990\u001b[0m-\u001b[1;36m06\u001b[0m-21T\u001b[1;92m12:00:00\u001b[0mZ\r"
      ]
     },
     "metadata": {},
     "output_type": "display_data"
    },
    {
     "data": {
      "text/html": [
       "<pre style=\"white-space:pre;overflow-x:auto;line-height:normal;font-family:Menlo,'DejaVu Sans Mono',consolas,'Courier New',monospace\"><span style=\"color: #008080; text-decoration-color: #008080; font-weight: bold\">1990</span>-<span style=\"color: #008080; text-decoration-color: #008080; font-weight: bold\">06</span>-22T<span style=\"color: #00ff00; text-decoration-color: #00ff00; font-weight: bold\">12:00:00</span>Z\r",
       "</pre>\n"
      ],
      "text/plain": [
       "\u001b[1;36m1990\u001b[0m-\u001b[1;36m06\u001b[0m-22T\u001b[1;92m12:00:00\u001b[0mZ\r"
      ]
     },
     "metadata": {},
     "output_type": "display_data"
    },
    {
     "data": {
      "text/html": [
       "<pre style=\"white-space:pre;overflow-x:auto;line-height:normal;font-family:Menlo,'DejaVu Sans Mono',consolas,'Courier New',monospace\"><span style=\"color: #008080; text-decoration-color: #008080; font-weight: bold\">1990</span>-<span style=\"color: #008080; text-decoration-color: #008080; font-weight: bold\">06</span>-23T<span style=\"color: #00ff00; text-decoration-color: #00ff00; font-weight: bold\">12:00:00</span>Z\r",
       "</pre>\n"
      ],
      "text/plain": [
       "\u001b[1;36m1990\u001b[0m-\u001b[1;36m06\u001b[0m-23T\u001b[1;92m12:00:00\u001b[0mZ\r"
      ]
     },
     "metadata": {},
     "output_type": "display_data"
    },
    {
     "data": {
      "text/html": [
       "<pre style=\"white-space:pre;overflow-x:auto;line-height:normal;font-family:Menlo,'DejaVu Sans Mono',consolas,'Courier New',monospace\"><span style=\"color: #008080; text-decoration-color: #008080; font-weight: bold\">1990</span>-<span style=\"color: #008080; text-decoration-color: #008080; font-weight: bold\">06</span>-24T<span style=\"color: #00ff00; text-decoration-color: #00ff00; font-weight: bold\">12:00:00</span>Z\r",
       "</pre>\n"
      ],
      "text/plain": [
       "\u001b[1;36m1990\u001b[0m-\u001b[1;36m06\u001b[0m-24T\u001b[1;92m12:00:00\u001b[0mZ\r"
      ]
     },
     "metadata": {},
     "output_type": "display_data"
    },
    {
     "data": {
      "text/html": [
       "<pre style=\"white-space:pre;overflow-x:auto;line-height:normal;font-family:Menlo,'DejaVu Sans Mono',consolas,'Courier New',monospace\"><span style=\"color: #008080; text-decoration-color: #008080; font-weight: bold\">1990</span>-<span style=\"color: #008080; text-decoration-color: #008080; font-weight: bold\">06</span>-25T<span style=\"color: #00ff00; text-decoration-color: #00ff00; font-weight: bold\">12:00:00</span>Z\r",
       "</pre>\n"
      ],
      "text/plain": [
       "\u001b[1;36m1990\u001b[0m-\u001b[1;36m06\u001b[0m-25T\u001b[1;92m12:00:00\u001b[0mZ\r"
      ]
     },
     "metadata": {},
     "output_type": "display_data"
    },
    {
     "data": {
      "text/html": [
       "<pre style=\"white-space:pre;overflow-x:auto;line-height:normal;font-family:Menlo,'DejaVu Sans Mono',consolas,'Courier New',monospace\"><span style=\"color: #008080; text-decoration-color: #008080; font-weight: bold\">1990</span>-<span style=\"color: #008080; text-decoration-color: #008080; font-weight: bold\">06</span>-26T<span style=\"color: #00ff00; text-decoration-color: #00ff00; font-weight: bold\">12:00:00</span>Z\r",
       "</pre>\n"
      ],
      "text/plain": [
       "\u001b[1;36m1990\u001b[0m-\u001b[1;36m06\u001b[0m-26T\u001b[1;92m12:00:00\u001b[0mZ\r"
      ]
     },
     "metadata": {},
     "output_type": "display_data"
    },
    {
     "data": {
      "text/html": [
       "<pre style=\"white-space:pre;overflow-x:auto;line-height:normal;font-family:Menlo,'DejaVu Sans Mono',consolas,'Courier New',monospace\"><span style=\"color: #008080; text-decoration-color: #008080; font-weight: bold\">1990</span>-<span style=\"color: #008080; text-decoration-color: #008080; font-weight: bold\">06</span>-27T<span style=\"color: #00ff00; text-decoration-color: #00ff00; font-weight: bold\">12:00:00</span>Z\r",
       "</pre>\n"
      ],
      "text/plain": [
       "\u001b[1;36m1990\u001b[0m-\u001b[1;36m06\u001b[0m-27T\u001b[1;92m12:00:00\u001b[0mZ\r"
      ]
     },
     "metadata": {},
     "output_type": "display_data"
    },
    {
     "data": {
      "text/html": [
       "<pre style=\"white-space:pre;overflow-x:auto;line-height:normal;font-family:Menlo,'DejaVu Sans Mono',consolas,'Courier New',monospace\"><span style=\"color: #008080; text-decoration-color: #008080; font-weight: bold\">1990</span>-<span style=\"color: #008080; text-decoration-color: #008080; font-weight: bold\">06</span>-28T<span style=\"color: #00ff00; text-decoration-color: #00ff00; font-weight: bold\">12:00:00</span>Z\r",
       "</pre>\n"
      ],
      "text/plain": [
       "\u001b[1;36m1990\u001b[0m-\u001b[1;36m06\u001b[0m-28T\u001b[1;92m12:00:00\u001b[0mZ\r"
      ]
     },
     "metadata": {},
     "output_type": "display_data"
    },
    {
     "data": {
      "text/html": [
       "<pre style=\"white-space:pre;overflow-x:auto;line-height:normal;font-family:Menlo,'DejaVu Sans Mono',consolas,'Courier New',monospace\"><span style=\"color: #008080; text-decoration-color: #008080; font-weight: bold\">1990</span>-<span style=\"color: #008080; text-decoration-color: #008080; font-weight: bold\">06</span>-29T<span style=\"color: #00ff00; text-decoration-color: #00ff00; font-weight: bold\">12:00:00</span>Z\r",
       "</pre>\n"
      ],
      "text/plain": [
       "\u001b[1;36m1990\u001b[0m-\u001b[1;36m06\u001b[0m-29T\u001b[1;92m12:00:00\u001b[0mZ\r"
      ]
     },
     "metadata": {},
     "output_type": "display_data"
    },
    {
     "data": {
      "text/html": [
       "<pre style=\"white-space:pre;overflow-x:auto;line-height:normal;font-family:Menlo,'DejaVu Sans Mono',consolas,'Courier New',monospace\"><span style=\"color: #008080; text-decoration-color: #008080; font-weight: bold\">1990</span>-<span style=\"color: #008080; text-decoration-color: #008080; font-weight: bold\">06</span>-30T<span style=\"color: #00ff00; text-decoration-color: #00ff00; font-weight: bold\">12:00:00</span>Z\r",
       "</pre>\n"
      ],
      "text/plain": [
       "\u001b[1;36m1990\u001b[0m-\u001b[1;36m06\u001b[0m-30T\u001b[1;92m12:00:00\u001b[0mZ\r"
      ]
     },
     "metadata": {},
     "output_type": "display_data"
    },
    {
     "data": {
      "text/html": [
       "<pre style=\"white-space:pre;overflow-x:auto;line-height:normal;font-family:Menlo,'DejaVu Sans Mono',consolas,'Courier New',monospace\"><span style=\"color: #008080; text-decoration-color: #008080; font-weight: bold\">1990</span>-<span style=\"color: #008080; text-decoration-color: #008080; font-weight: bold\">07</span>-01T<span style=\"color: #00ff00; text-decoration-color: #00ff00; font-weight: bold\">12:00:00</span>Z\r",
       "</pre>\n"
      ],
      "text/plain": [
       "\u001b[1;36m1990\u001b[0m-\u001b[1;36m07\u001b[0m-01T\u001b[1;92m12:00:00\u001b[0mZ\r"
      ]
     },
     "metadata": {},
     "output_type": "display_data"
    },
    {
     "data": {
      "text/html": [
       "<pre style=\"white-space:pre;overflow-x:auto;line-height:normal;font-family:Menlo,'DejaVu Sans Mono',consolas,'Courier New',monospace\"><span style=\"color: #008080; text-decoration-color: #008080; font-weight: bold\">1990</span>-<span style=\"color: #008080; text-decoration-color: #008080; font-weight: bold\">07</span>-02T<span style=\"color: #00ff00; text-decoration-color: #00ff00; font-weight: bold\">12:00:00</span>Z\r",
       "</pre>\n"
      ],
      "text/plain": [
       "\u001b[1;36m1990\u001b[0m-\u001b[1;36m07\u001b[0m-02T\u001b[1;92m12:00:00\u001b[0mZ\r"
      ]
     },
     "metadata": {},
     "output_type": "display_data"
    },
    {
     "data": {
      "text/html": [
       "<pre style=\"white-space:pre;overflow-x:auto;line-height:normal;font-family:Menlo,'DejaVu Sans Mono',consolas,'Courier New',monospace\"><span style=\"color: #008080; text-decoration-color: #008080; font-weight: bold\">1990</span>-<span style=\"color: #008080; text-decoration-color: #008080; font-weight: bold\">07</span>-03T<span style=\"color: #00ff00; text-decoration-color: #00ff00; font-weight: bold\">12:00:00</span>Z\r",
       "</pre>\n"
      ],
      "text/plain": [
       "\u001b[1;36m1990\u001b[0m-\u001b[1;36m07\u001b[0m-03T\u001b[1;92m12:00:00\u001b[0mZ\r"
      ]
     },
     "metadata": {},
     "output_type": "display_data"
    },
    {
     "data": {
      "text/html": [
       "<pre style=\"white-space:pre;overflow-x:auto;line-height:normal;font-family:Menlo,'DejaVu Sans Mono',consolas,'Courier New',monospace\"><span style=\"color: #008080; text-decoration-color: #008080; font-weight: bold\">1990</span>-<span style=\"color: #008080; text-decoration-color: #008080; font-weight: bold\">07</span>-04T<span style=\"color: #00ff00; text-decoration-color: #00ff00; font-weight: bold\">12:00:00</span>Z\r",
       "</pre>\n"
      ],
      "text/plain": [
       "\u001b[1;36m1990\u001b[0m-\u001b[1;36m07\u001b[0m-04T\u001b[1;92m12:00:00\u001b[0mZ\r"
      ]
     },
     "metadata": {},
     "output_type": "display_data"
    },
    {
     "data": {
      "text/html": [
       "<pre style=\"white-space:pre;overflow-x:auto;line-height:normal;font-family:Menlo,'DejaVu Sans Mono',consolas,'Courier New',monospace\"><span style=\"color: #008080; text-decoration-color: #008080; font-weight: bold\">1990</span>-<span style=\"color: #008080; text-decoration-color: #008080; font-weight: bold\">07</span>-05T<span style=\"color: #00ff00; text-decoration-color: #00ff00; font-weight: bold\">12:00:00</span>Z\r",
       "</pre>\n"
      ],
      "text/plain": [
       "\u001b[1;36m1990\u001b[0m-\u001b[1;36m07\u001b[0m-05T\u001b[1;92m12:00:00\u001b[0mZ\r"
      ]
     },
     "metadata": {},
     "output_type": "display_data"
    },
    {
     "data": {
      "text/html": [
       "<pre style=\"white-space:pre;overflow-x:auto;line-height:normal;font-family:Menlo,'DejaVu Sans Mono',consolas,'Courier New',monospace\"><span style=\"color: #008080; text-decoration-color: #008080; font-weight: bold\">1990</span>-<span style=\"color: #008080; text-decoration-color: #008080; font-weight: bold\">07</span>-06T<span style=\"color: #00ff00; text-decoration-color: #00ff00; font-weight: bold\">12:00:00</span>Z\r",
       "</pre>\n"
      ],
      "text/plain": [
       "\u001b[1;36m1990\u001b[0m-\u001b[1;36m07\u001b[0m-06T\u001b[1;92m12:00:00\u001b[0mZ\r"
      ]
     },
     "metadata": {},
     "output_type": "display_data"
    },
    {
     "data": {
      "text/html": [
       "<pre style=\"white-space:pre;overflow-x:auto;line-height:normal;font-family:Menlo,'DejaVu Sans Mono',consolas,'Courier New',monospace\"><span style=\"color: #008080; text-decoration-color: #008080; font-weight: bold\">1990</span>-<span style=\"color: #008080; text-decoration-color: #008080; font-weight: bold\">07</span>-07T<span style=\"color: #00ff00; text-decoration-color: #00ff00; font-weight: bold\">12:00:00</span>Z\r",
       "</pre>\n"
      ],
      "text/plain": [
       "\u001b[1;36m1990\u001b[0m-\u001b[1;36m07\u001b[0m-07T\u001b[1;92m12:00:00\u001b[0mZ\r"
      ]
     },
     "metadata": {},
     "output_type": "display_data"
    },
    {
     "data": {
      "text/html": [
       "<pre style=\"white-space:pre;overflow-x:auto;line-height:normal;font-family:Menlo,'DejaVu Sans Mono',consolas,'Courier New',monospace\"><span style=\"color: #008080; text-decoration-color: #008080; font-weight: bold\">1990</span>-<span style=\"color: #008080; text-decoration-color: #008080; font-weight: bold\">07</span>-08T<span style=\"color: #00ff00; text-decoration-color: #00ff00; font-weight: bold\">12:00:00</span>Z\r",
       "</pre>\n"
      ],
      "text/plain": [
       "\u001b[1;36m1990\u001b[0m-\u001b[1;36m07\u001b[0m-08T\u001b[1;92m12:00:00\u001b[0mZ\r"
      ]
     },
     "metadata": {},
     "output_type": "display_data"
    },
    {
     "data": {
      "text/html": [
       "<pre style=\"white-space:pre;overflow-x:auto;line-height:normal;font-family:Menlo,'DejaVu Sans Mono',consolas,'Courier New',monospace\"><span style=\"color: #008080; text-decoration-color: #008080; font-weight: bold\">1990</span>-<span style=\"color: #008080; text-decoration-color: #008080; font-weight: bold\">07</span>-09T<span style=\"color: #00ff00; text-decoration-color: #00ff00; font-weight: bold\">12:00:00</span>Z\r",
       "</pre>\n"
      ],
      "text/plain": [
       "\u001b[1;36m1990\u001b[0m-\u001b[1;36m07\u001b[0m-09T\u001b[1;92m12:00:00\u001b[0mZ\r"
      ]
     },
     "metadata": {},
     "output_type": "display_data"
    },
    {
     "data": {
      "text/html": [
       "<pre style=\"white-space:pre;overflow-x:auto;line-height:normal;font-family:Menlo,'DejaVu Sans Mono',consolas,'Courier New',monospace\"><span style=\"color: #008080; text-decoration-color: #008080; font-weight: bold\">1990</span>-<span style=\"color: #008080; text-decoration-color: #008080; font-weight: bold\">07</span>-10T<span style=\"color: #00ff00; text-decoration-color: #00ff00; font-weight: bold\">12:00:00</span>Z\r",
       "</pre>\n"
      ],
      "text/plain": [
       "\u001b[1;36m1990\u001b[0m-\u001b[1;36m07\u001b[0m-10T\u001b[1;92m12:00:00\u001b[0mZ\r"
      ]
     },
     "metadata": {},
     "output_type": "display_data"
    },
    {
     "data": {
      "text/html": [
       "<pre style=\"white-space:pre;overflow-x:auto;line-height:normal;font-family:Menlo,'DejaVu Sans Mono',consolas,'Courier New',monospace\"><span style=\"color: #008080; text-decoration-color: #008080; font-weight: bold\">1990</span>-<span style=\"color: #008080; text-decoration-color: #008080; font-weight: bold\">07</span>-11T<span style=\"color: #00ff00; text-decoration-color: #00ff00; font-weight: bold\">12:00:00</span>Z\r",
       "</pre>\n"
      ],
      "text/plain": [
       "\u001b[1;36m1990\u001b[0m-\u001b[1;36m07\u001b[0m-11T\u001b[1;92m12:00:00\u001b[0mZ\r"
      ]
     },
     "metadata": {},
     "output_type": "display_data"
    },
    {
     "data": {
      "text/html": [
       "<pre style=\"white-space:pre;overflow-x:auto;line-height:normal;font-family:Menlo,'DejaVu Sans Mono',consolas,'Courier New',monospace\"><span style=\"color: #008080; text-decoration-color: #008080; font-weight: bold\">1990</span>-<span style=\"color: #008080; text-decoration-color: #008080; font-weight: bold\">07</span>-12T<span style=\"color: #00ff00; text-decoration-color: #00ff00; font-weight: bold\">12:00:00</span>Z\r",
       "</pre>\n"
      ],
      "text/plain": [
       "\u001b[1;36m1990\u001b[0m-\u001b[1;36m07\u001b[0m-12T\u001b[1;92m12:00:00\u001b[0mZ\r"
      ]
     },
     "metadata": {},
     "output_type": "display_data"
    },
    {
     "data": {
      "text/html": [
       "<pre style=\"white-space:pre;overflow-x:auto;line-height:normal;font-family:Menlo,'DejaVu Sans Mono',consolas,'Courier New',monospace\"><span style=\"color: #008080; text-decoration-color: #008080; font-weight: bold\">1990</span>-<span style=\"color: #008080; text-decoration-color: #008080; font-weight: bold\">07</span>-13T<span style=\"color: #00ff00; text-decoration-color: #00ff00; font-weight: bold\">12:00:00</span>Z\r",
       "</pre>\n"
      ],
      "text/plain": [
       "\u001b[1;36m1990\u001b[0m-\u001b[1;36m07\u001b[0m-13T\u001b[1;92m12:00:00\u001b[0mZ\r"
      ]
     },
     "metadata": {},
     "output_type": "display_data"
    },
    {
     "data": {
      "text/html": [
       "<pre style=\"white-space:pre;overflow-x:auto;line-height:normal;font-family:Menlo,'DejaVu Sans Mono',consolas,'Courier New',monospace\"><span style=\"color: #008080; text-decoration-color: #008080; font-weight: bold\">1990</span>-<span style=\"color: #008080; text-decoration-color: #008080; font-weight: bold\">07</span>-14T<span style=\"color: #00ff00; text-decoration-color: #00ff00; font-weight: bold\">12:00:00</span>Z\r",
       "</pre>\n"
      ],
      "text/plain": [
       "\u001b[1;36m1990\u001b[0m-\u001b[1;36m07\u001b[0m-14T\u001b[1;92m12:00:00\u001b[0mZ\r"
      ]
     },
     "metadata": {},
     "output_type": "display_data"
    },
    {
     "data": {
      "text/html": [
       "<pre style=\"white-space:pre;overflow-x:auto;line-height:normal;font-family:Menlo,'DejaVu Sans Mono',consolas,'Courier New',monospace\"><span style=\"color: #008080; text-decoration-color: #008080; font-weight: bold\">1990</span>-<span style=\"color: #008080; text-decoration-color: #008080; font-weight: bold\">07</span>-15T<span style=\"color: #00ff00; text-decoration-color: #00ff00; font-weight: bold\">12:00:00</span>Z\r",
       "</pre>\n"
      ],
      "text/plain": [
       "\u001b[1;36m1990\u001b[0m-\u001b[1;36m07\u001b[0m-15T\u001b[1;92m12:00:00\u001b[0mZ\r"
      ]
     },
     "metadata": {},
     "output_type": "display_data"
    },
    {
     "data": {
      "text/html": [
       "<pre style=\"white-space:pre;overflow-x:auto;line-height:normal;font-family:Menlo,'DejaVu Sans Mono',consolas,'Courier New',monospace\"><span style=\"color: #008080; text-decoration-color: #008080; font-weight: bold\">1990</span>-<span style=\"color: #008080; text-decoration-color: #008080; font-weight: bold\">07</span>-16T<span style=\"color: #00ff00; text-decoration-color: #00ff00; font-weight: bold\">12:00:00</span>Z\r",
       "</pre>\n"
      ],
      "text/plain": [
       "\u001b[1;36m1990\u001b[0m-\u001b[1;36m07\u001b[0m-16T\u001b[1;92m12:00:00\u001b[0mZ\r"
      ]
     },
     "metadata": {},
     "output_type": "display_data"
    },
    {
     "data": {
      "text/html": [
       "<pre style=\"white-space:pre;overflow-x:auto;line-height:normal;font-family:Menlo,'DejaVu Sans Mono',consolas,'Courier New',monospace\"><span style=\"color: #008080; text-decoration-color: #008080; font-weight: bold\">1990</span>-<span style=\"color: #008080; text-decoration-color: #008080; font-weight: bold\">07</span>-17T<span style=\"color: #00ff00; text-decoration-color: #00ff00; font-weight: bold\">12:00:00</span>Z\r",
       "</pre>\n"
      ],
      "text/plain": [
       "\u001b[1;36m1990\u001b[0m-\u001b[1;36m07\u001b[0m-17T\u001b[1;92m12:00:00\u001b[0mZ\r"
      ]
     },
     "metadata": {},
     "output_type": "display_data"
    },
    {
     "data": {
      "text/html": [
       "<pre style=\"white-space:pre;overflow-x:auto;line-height:normal;font-family:Menlo,'DejaVu Sans Mono',consolas,'Courier New',monospace\"><span style=\"color: #008080; text-decoration-color: #008080; font-weight: bold\">1990</span>-<span style=\"color: #008080; text-decoration-color: #008080; font-weight: bold\">07</span>-18T<span style=\"color: #00ff00; text-decoration-color: #00ff00; font-weight: bold\">12:00:00</span>Z\r",
       "</pre>\n"
      ],
      "text/plain": [
       "\u001b[1;36m1990\u001b[0m-\u001b[1;36m07\u001b[0m-18T\u001b[1;92m12:00:00\u001b[0mZ\r"
      ]
     },
     "metadata": {},
     "output_type": "display_data"
    },
    {
     "data": {
      "text/html": [
       "<pre style=\"white-space:pre;overflow-x:auto;line-height:normal;font-family:Menlo,'DejaVu Sans Mono',consolas,'Courier New',monospace\"><span style=\"color: #008080; text-decoration-color: #008080; font-weight: bold\">1990</span>-<span style=\"color: #008080; text-decoration-color: #008080; font-weight: bold\">07</span>-19T<span style=\"color: #00ff00; text-decoration-color: #00ff00; font-weight: bold\">12:00:00</span>Z\r",
       "</pre>\n"
      ],
      "text/plain": [
       "\u001b[1;36m1990\u001b[0m-\u001b[1;36m07\u001b[0m-19T\u001b[1;92m12:00:00\u001b[0mZ\r"
      ]
     },
     "metadata": {},
     "output_type": "display_data"
    },
    {
     "data": {
      "text/html": [
       "<pre style=\"white-space:pre;overflow-x:auto;line-height:normal;font-family:Menlo,'DejaVu Sans Mono',consolas,'Courier New',monospace\"><span style=\"color: #008080; text-decoration-color: #008080; font-weight: bold\">1990</span>-<span style=\"color: #008080; text-decoration-color: #008080; font-weight: bold\">07</span>-20T<span style=\"color: #00ff00; text-decoration-color: #00ff00; font-weight: bold\">12:00:00</span>Z\r",
       "</pre>\n"
      ],
      "text/plain": [
       "\u001b[1;36m1990\u001b[0m-\u001b[1;36m07\u001b[0m-20T\u001b[1;92m12:00:00\u001b[0mZ\r"
      ]
     },
     "metadata": {},
     "output_type": "display_data"
    },
    {
     "data": {
      "text/html": [
       "<pre style=\"white-space:pre;overflow-x:auto;line-height:normal;font-family:Menlo,'DejaVu Sans Mono',consolas,'Courier New',monospace\"><span style=\"color: #008080; text-decoration-color: #008080; font-weight: bold\">1990</span>-<span style=\"color: #008080; text-decoration-color: #008080; font-weight: bold\">07</span>-21T<span style=\"color: #00ff00; text-decoration-color: #00ff00; font-weight: bold\">12:00:00</span>Z\r",
       "</pre>\n"
      ],
      "text/plain": [
       "\u001b[1;36m1990\u001b[0m-\u001b[1;36m07\u001b[0m-21T\u001b[1;92m12:00:00\u001b[0mZ\r"
      ]
     },
     "metadata": {},
     "output_type": "display_data"
    },
    {
     "data": {
      "text/html": [
       "<pre style=\"white-space:pre;overflow-x:auto;line-height:normal;font-family:Menlo,'DejaVu Sans Mono',consolas,'Courier New',monospace\"><span style=\"color: #008080; text-decoration-color: #008080; font-weight: bold\">1990</span>-<span style=\"color: #008080; text-decoration-color: #008080; font-weight: bold\">07</span>-22T<span style=\"color: #00ff00; text-decoration-color: #00ff00; font-weight: bold\">12:00:00</span>Z\r",
       "</pre>\n"
      ],
      "text/plain": [
       "\u001b[1;36m1990\u001b[0m-\u001b[1;36m07\u001b[0m-22T\u001b[1;92m12:00:00\u001b[0mZ\r"
      ]
     },
     "metadata": {},
     "output_type": "display_data"
    },
    {
     "data": {
      "text/html": [
       "<pre style=\"white-space:pre;overflow-x:auto;line-height:normal;font-family:Menlo,'DejaVu Sans Mono',consolas,'Courier New',monospace\"><span style=\"color: #008080; text-decoration-color: #008080; font-weight: bold\">1990</span>-<span style=\"color: #008080; text-decoration-color: #008080; font-weight: bold\">07</span>-23T<span style=\"color: #00ff00; text-decoration-color: #00ff00; font-weight: bold\">12:00:00</span>Z\r",
       "</pre>\n"
      ],
      "text/plain": [
       "\u001b[1;36m1990\u001b[0m-\u001b[1;36m07\u001b[0m-23T\u001b[1;92m12:00:00\u001b[0mZ\r"
      ]
     },
     "metadata": {},
     "output_type": "display_data"
    },
    {
     "data": {
      "text/html": [
       "<pre style=\"white-space:pre;overflow-x:auto;line-height:normal;font-family:Menlo,'DejaVu Sans Mono',consolas,'Courier New',monospace\"><span style=\"color: #008080; text-decoration-color: #008080; font-weight: bold\">1990</span>-<span style=\"color: #008080; text-decoration-color: #008080; font-weight: bold\">07</span>-24T<span style=\"color: #00ff00; text-decoration-color: #00ff00; font-weight: bold\">12:00:00</span>Z\r",
       "</pre>\n"
      ],
      "text/plain": [
       "\u001b[1;36m1990\u001b[0m-\u001b[1;36m07\u001b[0m-24T\u001b[1;92m12:00:00\u001b[0mZ\r"
      ]
     },
     "metadata": {},
     "output_type": "display_data"
    },
    {
     "data": {
      "text/html": [
       "<pre style=\"white-space:pre;overflow-x:auto;line-height:normal;font-family:Menlo,'DejaVu Sans Mono',consolas,'Courier New',monospace\"><span style=\"color: #008080; text-decoration-color: #008080; font-weight: bold\">1990</span>-<span style=\"color: #008080; text-decoration-color: #008080; font-weight: bold\">07</span>-25T<span style=\"color: #00ff00; text-decoration-color: #00ff00; font-weight: bold\">12:00:00</span>Z\r",
       "</pre>\n"
      ],
      "text/plain": [
       "\u001b[1;36m1990\u001b[0m-\u001b[1;36m07\u001b[0m-25T\u001b[1;92m12:00:00\u001b[0mZ\r"
      ]
     },
     "metadata": {},
     "output_type": "display_data"
    },
    {
     "data": {
      "text/html": [
       "<pre style=\"white-space:pre;overflow-x:auto;line-height:normal;font-family:Menlo,'DejaVu Sans Mono',consolas,'Courier New',monospace\"><span style=\"color: #008080; text-decoration-color: #008080; font-weight: bold\">1990</span>-<span style=\"color: #008080; text-decoration-color: #008080; font-weight: bold\">07</span>-26T<span style=\"color: #00ff00; text-decoration-color: #00ff00; font-weight: bold\">12:00:00</span>Z\r",
       "</pre>\n"
      ],
      "text/plain": [
       "\u001b[1;36m1990\u001b[0m-\u001b[1;36m07\u001b[0m-26T\u001b[1;92m12:00:00\u001b[0mZ\r"
      ]
     },
     "metadata": {},
     "output_type": "display_data"
    },
    {
     "data": {
      "text/html": [
       "<pre style=\"white-space:pre;overflow-x:auto;line-height:normal;font-family:Menlo,'DejaVu Sans Mono',consolas,'Courier New',monospace\"><span style=\"color: #008080; text-decoration-color: #008080; font-weight: bold\">1990</span>-<span style=\"color: #008080; text-decoration-color: #008080; font-weight: bold\">07</span>-27T<span style=\"color: #00ff00; text-decoration-color: #00ff00; font-weight: bold\">12:00:00</span>Z\r",
       "</pre>\n"
      ],
      "text/plain": [
       "\u001b[1;36m1990\u001b[0m-\u001b[1;36m07\u001b[0m-27T\u001b[1;92m12:00:00\u001b[0mZ\r"
      ]
     },
     "metadata": {},
     "output_type": "display_data"
    },
    {
     "data": {
      "text/html": [
       "<pre style=\"white-space:pre;overflow-x:auto;line-height:normal;font-family:Menlo,'DejaVu Sans Mono',consolas,'Courier New',monospace\"><span style=\"color: #008080; text-decoration-color: #008080; font-weight: bold\">1990</span>-<span style=\"color: #008080; text-decoration-color: #008080; font-weight: bold\">07</span>-28T<span style=\"color: #00ff00; text-decoration-color: #00ff00; font-weight: bold\">12:00:00</span>Z\r",
       "</pre>\n"
      ],
      "text/plain": [
       "\u001b[1;36m1990\u001b[0m-\u001b[1;36m07\u001b[0m-28T\u001b[1;92m12:00:00\u001b[0mZ\r"
      ]
     },
     "metadata": {},
     "output_type": "display_data"
    },
    {
     "data": {
      "text/html": [
       "<pre style=\"white-space:pre;overflow-x:auto;line-height:normal;font-family:Menlo,'DejaVu Sans Mono',consolas,'Courier New',monospace\"><span style=\"color: #008080; text-decoration-color: #008080; font-weight: bold\">1990</span>-<span style=\"color: #008080; text-decoration-color: #008080; font-weight: bold\">07</span>-29T<span style=\"color: #00ff00; text-decoration-color: #00ff00; font-weight: bold\">12:00:00</span>Z\r",
       "</pre>\n"
      ],
      "text/plain": [
       "\u001b[1;36m1990\u001b[0m-\u001b[1;36m07\u001b[0m-29T\u001b[1;92m12:00:00\u001b[0mZ\r"
      ]
     },
     "metadata": {},
     "output_type": "display_data"
    },
    {
     "data": {
      "text/html": [
       "<pre style=\"white-space:pre;overflow-x:auto;line-height:normal;font-family:Menlo,'DejaVu Sans Mono',consolas,'Courier New',monospace\"><span style=\"color: #008080; text-decoration-color: #008080; font-weight: bold\">1990</span>-<span style=\"color: #008080; text-decoration-color: #008080; font-weight: bold\">07</span>-30T<span style=\"color: #00ff00; text-decoration-color: #00ff00; font-weight: bold\">12:00:00</span>Z\r",
       "</pre>\n"
      ],
      "text/plain": [
       "\u001b[1;36m1990\u001b[0m-\u001b[1;36m07\u001b[0m-30T\u001b[1;92m12:00:00\u001b[0mZ\r"
      ]
     },
     "metadata": {},
     "output_type": "display_data"
    },
    {
     "data": {
      "text/html": [
       "<pre style=\"white-space:pre;overflow-x:auto;line-height:normal;font-family:Menlo,'DejaVu Sans Mono',consolas,'Courier New',monospace\"><span style=\"color: #008080; text-decoration-color: #008080; font-weight: bold\">1990</span>-<span style=\"color: #008080; text-decoration-color: #008080; font-weight: bold\">07</span>-31T<span style=\"color: #00ff00; text-decoration-color: #00ff00; font-weight: bold\">12:00:00</span>Z\r",
       "</pre>\n"
      ],
      "text/plain": [
       "\u001b[1;36m1990\u001b[0m-\u001b[1;36m07\u001b[0m-31T\u001b[1;92m12:00:00\u001b[0mZ\r"
      ]
     },
     "metadata": {},
     "output_type": "display_data"
    },
    {
     "data": {
      "text/html": [
       "<pre style=\"white-space:pre;overflow-x:auto;line-height:normal;font-family:Menlo,'DejaVu Sans Mono',consolas,'Courier New',monospace\"><span style=\"color: #008080; text-decoration-color: #008080; font-weight: bold\">1990</span>-<span style=\"color: #008080; text-decoration-color: #008080; font-weight: bold\">08</span>-01T<span style=\"color: #00ff00; text-decoration-color: #00ff00; font-weight: bold\">12:00:00</span>Z\r",
       "</pre>\n"
      ],
      "text/plain": [
       "\u001b[1;36m1990\u001b[0m-\u001b[1;36m08\u001b[0m-01T\u001b[1;92m12:00:00\u001b[0mZ\r"
      ]
     },
     "metadata": {},
     "output_type": "display_data"
    },
    {
     "data": {
      "text/html": [
       "<pre style=\"white-space:pre;overflow-x:auto;line-height:normal;font-family:Menlo,'DejaVu Sans Mono',consolas,'Courier New',monospace\"><span style=\"color: #008080; text-decoration-color: #008080; font-weight: bold\">1990</span>-<span style=\"color: #008080; text-decoration-color: #008080; font-weight: bold\">08</span>-02T<span style=\"color: #00ff00; text-decoration-color: #00ff00; font-weight: bold\">12:00:00</span>Z\r",
       "</pre>\n"
      ],
      "text/plain": [
       "\u001b[1;36m1990\u001b[0m-\u001b[1;36m08\u001b[0m-02T\u001b[1;92m12:00:00\u001b[0mZ\r"
      ]
     },
     "metadata": {},
     "output_type": "display_data"
    },
    {
     "data": {
      "text/html": [
       "<pre style=\"white-space:pre;overflow-x:auto;line-height:normal;font-family:Menlo,'DejaVu Sans Mono',consolas,'Courier New',monospace\"><span style=\"color: #008080; text-decoration-color: #008080; font-weight: bold\">1990</span>-<span style=\"color: #008080; text-decoration-color: #008080; font-weight: bold\">08</span>-03T<span style=\"color: #00ff00; text-decoration-color: #00ff00; font-weight: bold\">12:00:00</span>Z\r",
       "</pre>\n"
      ],
      "text/plain": [
       "\u001b[1;36m1990\u001b[0m-\u001b[1;36m08\u001b[0m-03T\u001b[1;92m12:00:00\u001b[0mZ\r"
      ]
     },
     "metadata": {},
     "output_type": "display_data"
    },
    {
     "data": {
      "text/html": [
       "<pre style=\"white-space:pre;overflow-x:auto;line-height:normal;font-family:Menlo,'DejaVu Sans Mono',consolas,'Courier New',monospace\"><span style=\"color: #008080; text-decoration-color: #008080; font-weight: bold\">1990</span>-<span style=\"color: #008080; text-decoration-color: #008080; font-weight: bold\">08</span>-04T<span style=\"color: #00ff00; text-decoration-color: #00ff00; font-weight: bold\">12:00:00</span>Z\r",
       "</pre>\n"
      ],
      "text/plain": [
       "\u001b[1;36m1990\u001b[0m-\u001b[1;36m08\u001b[0m-04T\u001b[1;92m12:00:00\u001b[0mZ\r"
      ]
     },
     "metadata": {},
     "output_type": "display_data"
    },
    {
     "data": {
      "text/html": [
       "<pre style=\"white-space:pre;overflow-x:auto;line-height:normal;font-family:Menlo,'DejaVu Sans Mono',consolas,'Courier New',monospace\"><span style=\"color: #008080; text-decoration-color: #008080; font-weight: bold\">1990</span>-<span style=\"color: #008080; text-decoration-color: #008080; font-weight: bold\">08</span>-05T<span style=\"color: #00ff00; text-decoration-color: #00ff00; font-weight: bold\">12:00:00</span>Z\r",
       "</pre>\n"
      ],
      "text/plain": [
       "\u001b[1;36m1990\u001b[0m-\u001b[1;36m08\u001b[0m-05T\u001b[1;92m12:00:00\u001b[0mZ\r"
      ]
     },
     "metadata": {},
     "output_type": "display_data"
    },
    {
     "data": {
      "text/html": [
       "<pre style=\"white-space:pre;overflow-x:auto;line-height:normal;font-family:Menlo,'DejaVu Sans Mono',consolas,'Courier New',monospace\"><span style=\"color: #008080; text-decoration-color: #008080; font-weight: bold\">1990</span>-<span style=\"color: #008080; text-decoration-color: #008080; font-weight: bold\">08</span>-06T<span style=\"color: #00ff00; text-decoration-color: #00ff00; font-weight: bold\">12:00:00</span>Z\r",
       "</pre>\n"
      ],
      "text/plain": [
       "\u001b[1;36m1990\u001b[0m-\u001b[1;36m08\u001b[0m-06T\u001b[1;92m12:00:00\u001b[0mZ\r"
      ]
     },
     "metadata": {},
     "output_type": "display_data"
    },
    {
     "data": {
      "text/html": [
       "<pre style=\"white-space:pre;overflow-x:auto;line-height:normal;font-family:Menlo,'DejaVu Sans Mono',consolas,'Courier New',monospace\"><span style=\"color: #008080; text-decoration-color: #008080; font-weight: bold\">1990</span>-<span style=\"color: #008080; text-decoration-color: #008080; font-weight: bold\">08</span>-07T<span style=\"color: #00ff00; text-decoration-color: #00ff00; font-weight: bold\">12:00:00</span>Z\r",
       "</pre>\n"
      ],
      "text/plain": [
       "\u001b[1;36m1990\u001b[0m-\u001b[1;36m08\u001b[0m-07T\u001b[1;92m12:00:00\u001b[0mZ\r"
      ]
     },
     "metadata": {},
     "output_type": "display_data"
    },
    {
     "data": {
      "text/html": [
       "<pre style=\"white-space:pre;overflow-x:auto;line-height:normal;font-family:Menlo,'DejaVu Sans Mono',consolas,'Courier New',monospace\"><span style=\"color: #008080; text-decoration-color: #008080; font-weight: bold\">1990</span>-<span style=\"color: #008080; text-decoration-color: #008080; font-weight: bold\">08</span>-08T<span style=\"color: #00ff00; text-decoration-color: #00ff00; font-weight: bold\">12:00:00</span>Z\r",
       "</pre>\n"
      ],
      "text/plain": [
       "\u001b[1;36m1990\u001b[0m-\u001b[1;36m08\u001b[0m-08T\u001b[1;92m12:00:00\u001b[0mZ\r"
      ]
     },
     "metadata": {},
     "output_type": "display_data"
    },
    {
     "data": {
      "text/html": [
       "<pre style=\"white-space:pre;overflow-x:auto;line-height:normal;font-family:Menlo,'DejaVu Sans Mono',consolas,'Courier New',monospace\"><span style=\"color: #008080; text-decoration-color: #008080; font-weight: bold\">1990</span>-<span style=\"color: #008080; text-decoration-color: #008080; font-weight: bold\">08</span>-09T<span style=\"color: #00ff00; text-decoration-color: #00ff00; font-weight: bold\">12:00:00</span>Z\r",
       "</pre>\n"
      ],
      "text/plain": [
       "\u001b[1;36m1990\u001b[0m-\u001b[1;36m08\u001b[0m-09T\u001b[1;92m12:00:00\u001b[0mZ\r"
      ]
     },
     "metadata": {},
     "output_type": "display_data"
    },
    {
     "data": {
      "text/html": [
       "<pre style=\"white-space:pre;overflow-x:auto;line-height:normal;font-family:Menlo,'DejaVu Sans Mono',consolas,'Courier New',monospace\"><span style=\"color: #008080; text-decoration-color: #008080; font-weight: bold\">1990</span>-<span style=\"color: #008080; text-decoration-color: #008080; font-weight: bold\">08</span>-10T<span style=\"color: #00ff00; text-decoration-color: #00ff00; font-weight: bold\">12:00:00</span>Z\r",
       "</pre>\n"
      ],
      "text/plain": [
       "\u001b[1;36m1990\u001b[0m-\u001b[1;36m08\u001b[0m-10T\u001b[1;92m12:00:00\u001b[0mZ\r"
      ]
     },
     "metadata": {},
     "output_type": "display_data"
    },
    {
     "data": {
      "text/html": [
       "<pre style=\"white-space:pre;overflow-x:auto;line-height:normal;font-family:Menlo,'DejaVu Sans Mono',consolas,'Courier New',monospace\"><span style=\"color: #008080; text-decoration-color: #008080; font-weight: bold\">1990</span>-<span style=\"color: #008080; text-decoration-color: #008080; font-weight: bold\">08</span>-11T<span style=\"color: #00ff00; text-decoration-color: #00ff00; font-weight: bold\">12:00:00</span>Z\r",
       "</pre>\n"
      ],
      "text/plain": [
       "\u001b[1;36m1990\u001b[0m-\u001b[1;36m08\u001b[0m-11T\u001b[1;92m12:00:00\u001b[0mZ\r"
      ]
     },
     "metadata": {},
     "output_type": "display_data"
    },
    {
     "data": {
      "text/html": [
       "<pre style=\"white-space:pre;overflow-x:auto;line-height:normal;font-family:Menlo,'DejaVu Sans Mono',consolas,'Courier New',monospace\"><span style=\"color: #008080; text-decoration-color: #008080; font-weight: bold\">1990</span>-<span style=\"color: #008080; text-decoration-color: #008080; font-weight: bold\">08</span>-12T<span style=\"color: #00ff00; text-decoration-color: #00ff00; font-weight: bold\">12:00:00</span>Z\r",
       "</pre>\n"
      ],
      "text/plain": [
       "\u001b[1;36m1990\u001b[0m-\u001b[1;36m08\u001b[0m-12T\u001b[1;92m12:00:00\u001b[0mZ\r"
      ]
     },
     "metadata": {},
     "output_type": "display_data"
    },
    {
     "data": {
      "text/html": [
       "<pre style=\"white-space:pre;overflow-x:auto;line-height:normal;font-family:Menlo,'DejaVu Sans Mono',consolas,'Courier New',monospace\"><span style=\"color: #008080; text-decoration-color: #008080; font-weight: bold\">1990</span>-<span style=\"color: #008080; text-decoration-color: #008080; font-weight: bold\">08</span>-13T<span style=\"color: #00ff00; text-decoration-color: #00ff00; font-weight: bold\">12:00:00</span>Z\r",
       "</pre>\n"
      ],
      "text/plain": [
       "\u001b[1;36m1990\u001b[0m-\u001b[1;36m08\u001b[0m-13T\u001b[1;92m12:00:00\u001b[0mZ\r"
      ]
     },
     "metadata": {},
     "output_type": "display_data"
    },
    {
     "data": {
      "text/html": [
       "<pre style=\"white-space:pre;overflow-x:auto;line-height:normal;font-family:Menlo,'DejaVu Sans Mono',consolas,'Courier New',monospace\"><span style=\"color: #008080; text-decoration-color: #008080; font-weight: bold\">1990</span>-<span style=\"color: #008080; text-decoration-color: #008080; font-weight: bold\">08</span>-14T<span style=\"color: #00ff00; text-decoration-color: #00ff00; font-weight: bold\">12:00:00</span>Z\r",
       "</pre>\n"
      ],
      "text/plain": [
       "\u001b[1;36m1990\u001b[0m-\u001b[1;36m08\u001b[0m-14T\u001b[1;92m12:00:00\u001b[0mZ\r"
      ]
     },
     "metadata": {},
     "output_type": "display_data"
    },
    {
     "data": {
      "text/html": [
       "<pre style=\"white-space:pre;overflow-x:auto;line-height:normal;font-family:Menlo,'DejaVu Sans Mono',consolas,'Courier New',monospace\"><span style=\"color: #008080; text-decoration-color: #008080; font-weight: bold\">1990</span>-<span style=\"color: #008080; text-decoration-color: #008080; font-weight: bold\">08</span>-15T<span style=\"color: #00ff00; text-decoration-color: #00ff00; font-weight: bold\">12:00:00</span>Z\r",
       "</pre>\n"
      ],
      "text/plain": [
       "\u001b[1;36m1990\u001b[0m-\u001b[1;36m08\u001b[0m-15T\u001b[1;92m12:00:00\u001b[0mZ\r"
      ]
     },
     "metadata": {},
     "output_type": "display_data"
    },
    {
     "data": {
      "text/html": [
       "<pre style=\"white-space:pre;overflow-x:auto;line-height:normal;font-family:Menlo,'DejaVu Sans Mono',consolas,'Courier New',monospace\"><span style=\"color: #008080; text-decoration-color: #008080; font-weight: bold\">1990</span>-<span style=\"color: #008080; text-decoration-color: #008080; font-weight: bold\">08</span>-16T<span style=\"color: #00ff00; text-decoration-color: #00ff00; font-weight: bold\">12:00:00</span>Z\r",
       "</pre>\n"
      ],
      "text/plain": [
       "\u001b[1;36m1990\u001b[0m-\u001b[1;36m08\u001b[0m-16T\u001b[1;92m12:00:00\u001b[0mZ\r"
      ]
     },
     "metadata": {},
     "output_type": "display_data"
    },
    {
     "data": {
      "text/html": [
       "<pre style=\"white-space:pre;overflow-x:auto;line-height:normal;font-family:Menlo,'DejaVu Sans Mono',consolas,'Courier New',monospace\"><span style=\"color: #008080; text-decoration-color: #008080; font-weight: bold\">1990</span>-<span style=\"color: #008080; text-decoration-color: #008080; font-weight: bold\">08</span>-17T<span style=\"color: #00ff00; text-decoration-color: #00ff00; font-weight: bold\">12:00:00</span>Z\r",
       "</pre>\n"
      ],
      "text/plain": [
       "\u001b[1;36m1990\u001b[0m-\u001b[1;36m08\u001b[0m-17T\u001b[1;92m12:00:00\u001b[0mZ\r"
      ]
     },
     "metadata": {},
     "output_type": "display_data"
    },
    {
     "data": {
      "text/html": [
       "<pre style=\"white-space:pre;overflow-x:auto;line-height:normal;font-family:Menlo,'DejaVu Sans Mono',consolas,'Courier New',monospace\"><span style=\"color: #008080; text-decoration-color: #008080; font-weight: bold\">1990</span>-<span style=\"color: #008080; text-decoration-color: #008080; font-weight: bold\">08</span>-18T<span style=\"color: #00ff00; text-decoration-color: #00ff00; font-weight: bold\">12:00:00</span>Z\r",
       "</pre>\n"
      ],
      "text/plain": [
       "\u001b[1;36m1990\u001b[0m-\u001b[1;36m08\u001b[0m-18T\u001b[1;92m12:00:00\u001b[0mZ\r"
      ]
     },
     "metadata": {},
     "output_type": "display_data"
    },
    {
     "data": {
      "text/html": [
       "<pre style=\"white-space:pre;overflow-x:auto;line-height:normal;font-family:Menlo,'DejaVu Sans Mono',consolas,'Courier New',monospace\"><span style=\"color: #008080; text-decoration-color: #008080; font-weight: bold\">1990</span>-<span style=\"color: #008080; text-decoration-color: #008080; font-weight: bold\">08</span>-19T<span style=\"color: #00ff00; text-decoration-color: #00ff00; font-weight: bold\">12:00:00</span>Z\r",
       "</pre>\n"
      ],
      "text/plain": [
       "\u001b[1;36m1990\u001b[0m-\u001b[1;36m08\u001b[0m-19T\u001b[1;92m12:00:00\u001b[0mZ\r"
      ]
     },
     "metadata": {},
     "output_type": "display_data"
    },
    {
     "data": {
      "text/html": [
       "<pre style=\"white-space:pre;overflow-x:auto;line-height:normal;font-family:Menlo,'DejaVu Sans Mono',consolas,'Courier New',monospace\"><span style=\"color: #008080; text-decoration-color: #008080; font-weight: bold\">1990</span>-<span style=\"color: #008080; text-decoration-color: #008080; font-weight: bold\">08</span>-20T<span style=\"color: #00ff00; text-decoration-color: #00ff00; font-weight: bold\">12:00:00</span>Z\r",
       "</pre>\n"
      ],
      "text/plain": [
       "\u001b[1;36m1990\u001b[0m-\u001b[1;36m08\u001b[0m-20T\u001b[1;92m12:00:00\u001b[0mZ\r"
      ]
     },
     "metadata": {},
     "output_type": "display_data"
    },
    {
     "data": {
      "text/html": [
       "<pre style=\"white-space:pre;overflow-x:auto;line-height:normal;font-family:Menlo,'DejaVu Sans Mono',consolas,'Courier New',monospace\"><span style=\"color: #008080; text-decoration-color: #008080; font-weight: bold\">1990</span>-<span style=\"color: #008080; text-decoration-color: #008080; font-weight: bold\">08</span>-21T<span style=\"color: #00ff00; text-decoration-color: #00ff00; font-weight: bold\">12:00:00</span>Z\r",
       "</pre>\n"
      ],
      "text/plain": [
       "\u001b[1;36m1990\u001b[0m-\u001b[1;36m08\u001b[0m-21T\u001b[1;92m12:00:00\u001b[0mZ\r"
      ]
     },
     "metadata": {},
     "output_type": "display_data"
    },
    {
     "data": {
      "text/html": [
       "<pre style=\"white-space:pre;overflow-x:auto;line-height:normal;font-family:Menlo,'DejaVu Sans Mono',consolas,'Courier New',monospace\"><span style=\"color: #008080; text-decoration-color: #008080; font-weight: bold\">1990</span>-<span style=\"color: #008080; text-decoration-color: #008080; font-weight: bold\">08</span>-22T<span style=\"color: #00ff00; text-decoration-color: #00ff00; font-weight: bold\">12:00:00</span>Z\r",
       "</pre>\n"
      ],
      "text/plain": [
       "\u001b[1;36m1990\u001b[0m-\u001b[1;36m08\u001b[0m-22T\u001b[1;92m12:00:00\u001b[0mZ\r"
      ]
     },
     "metadata": {},
     "output_type": "display_data"
    },
    {
     "data": {
      "text/html": [
       "<pre style=\"white-space:pre;overflow-x:auto;line-height:normal;font-family:Menlo,'DejaVu Sans Mono',consolas,'Courier New',monospace\"><span style=\"color: #008080; text-decoration-color: #008080; font-weight: bold\">1990</span>-<span style=\"color: #008080; text-decoration-color: #008080; font-weight: bold\">08</span>-23T<span style=\"color: #00ff00; text-decoration-color: #00ff00; font-weight: bold\">12:00:00</span>Z\r",
       "</pre>\n"
      ],
      "text/plain": [
       "\u001b[1;36m1990\u001b[0m-\u001b[1;36m08\u001b[0m-23T\u001b[1;92m12:00:00\u001b[0mZ\r"
      ]
     },
     "metadata": {},
     "output_type": "display_data"
    },
    {
     "data": {
      "text/html": [
       "<pre style=\"white-space:pre;overflow-x:auto;line-height:normal;font-family:Menlo,'DejaVu Sans Mono',consolas,'Courier New',monospace\"><span style=\"color: #008080; text-decoration-color: #008080; font-weight: bold\">1990</span>-<span style=\"color: #008080; text-decoration-color: #008080; font-weight: bold\">08</span>-24T<span style=\"color: #00ff00; text-decoration-color: #00ff00; font-weight: bold\">12:00:00</span>Z\r",
       "</pre>\n"
      ],
      "text/plain": [
       "\u001b[1;36m1990\u001b[0m-\u001b[1;36m08\u001b[0m-24T\u001b[1;92m12:00:00\u001b[0mZ\r"
      ]
     },
     "metadata": {},
     "output_type": "display_data"
    },
    {
     "data": {
      "text/html": [
       "<pre style=\"white-space:pre;overflow-x:auto;line-height:normal;font-family:Menlo,'DejaVu Sans Mono',consolas,'Courier New',monospace\"><span style=\"color: #008080; text-decoration-color: #008080; font-weight: bold\">1990</span>-<span style=\"color: #008080; text-decoration-color: #008080; font-weight: bold\">08</span>-25T<span style=\"color: #00ff00; text-decoration-color: #00ff00; font-weight: bold\">12:00:00</span>Z\r",
       "</pre>\n"
      ],
      "text/plain": [
       "\u001b[1;36m1990\u001b[0m-\u001b[1;36m08\u001b[0m-25T\u001b[1;92m12:00:00\u001b[0mZ\r"
      ]
     },
     "metadata": {},
     "output_type": "display_data"
    },
    {
     "data": {
      "text/html": [
       "<pre style=\"white-space:pre;overflow-x:auto;line-height:normal;font-family:Menlo,'DejaVu Sans Mono',consolas,'Courier New',monospace\"><span style=\"color: #008080; text-decoration-color: #008080; font-weight: bold\">1990</span>-<span style=\"color: #008080; text-decoration-color: #008080; font-weight: bold\">08</span>-26T<span style=\"color: #00ff00; text-decoration-color: #00ff00; font-weight: bold\">12:00:00</span>Z\r",
       "</pre>\n"
      ],
      "text/plain": [
       "\u001b[1;36m1990\u001b[0m-\u001b[1;36m08\u001b[0m-26T\u001b[1;92m12:00:00\u001b[0mZ\r"
      ]
     },
     "metadata": {},
     "output_type": "display_data"
    },
    {
     "data": {
      "text/html": [
       "<pre style=\"white-space:pre;overflow-x:auto;line-height:normal;font-family:Menlo,'DejaVu Sans Mono',consolas,'Courier New',monospace\"><span style=\"color: #008080; text-decoration-color: #008080; font-weight: bold\">1990</span>-<span style=\"color: #008080; text-decoration-color: #008080; font-weight: bold\">08</span>-27T<span style=\"color: #00ff00; text-decoration-color: #00ff00; font-weight: bold\">12:00:00</span>Z\r",
       "</pre>\n"
      ],
      "text/plain": [
       "\u001b[1;36m1990\u001b[0m-\u001b[1;36m08\u001b[0m-27T\u001b[1;92m12:00:00\u001b[0mZ\r"
      ]
     },
     "metadata": {},
     "output_type": "display_data"
    },
    {
     "data": {
      "text/html": [
       "<pre style=\"white-space:pre;overflow-x:auto;line-height:normal;font-family:Menlo,'DejaVu Sans Mono',consolas,'Courier New',monospace\"><span style=\"color: #008080; text-decoration-color: #008080; font-weight: bold\">1990</span>-<span style=\"color: #008080; text-decoration-color: #008080; font-weight: bold\">08</span>-28T<span style=\"color: #00ff00; text-decoration-color: #00ff00; font-weight: bold\">12:00:00</span>Z\r",
       "</pre>\n"
      ],
      "text/plain": [
       "\u001b[1;36m1990\u001b[0m-\u001b[1;36m08\u001b[0m-28T\u001b[1;92m12:00:00\u001b[0mZ\r"
      ]
     },
     "metadata": {},
     "output_type": "display_data"
    },
    {
     "data": {
      "text/html": [
       "<pre style=\"white-space:pre;overflow-x:auto;line-height:normal;font-family:Menlo,'DejaVu Sans Mono',consolas,'Courier New',monospace\"><span style=\"color: #008080; text-decoration-color: #008080; font-weight: bold\">1990</span>-<span style=\"color: #008080; text-decoration-color: #008080; font-weight: bold\">08</span>-29T<span style=\"color: #00ff00; text-decoration-color: #00ff00; font-weight: bold\">12:00:00</span>Z\r",
       "</pre>\n"
      ],
      "text/plain": [
       "\u001b[1;36m1990\u001b[0m-\u001b[1;36m08\u001b[0m-29T\u001b[1;92m12:00:00\u001b[0mZ\r"
      ]
     },
     "metadata": {},
     "output_type": "display_data"
    },
    {
     "data": {
      "text/html": [
       "<pre style=\"white-space:pre;overflow-x:auto;line-height:normal;font-family:Menlo,'DejaVu Sans Mono',consolas,'Courier New',monospace\"><span style=\"color: #008080; text-decoration-color: #008080; font-weight: bold\">1990</span>-<span style=\"color: #008080; text-decoration-color: #008080; font-weight: bold\">08</span>-30T<span style=\"color: #00ff00; text-decoration-color: #00ff00; font-weight: bold\">12:00:00</span>Z\r",
       "</pre>\n"
      ],
      "text/plain": [
       "\u001b[1;36m1990\u001b[0m-\u001b[1;36m08\u001b[0m-30T\u001b[1;92m12:00:00\u001b[0mZ\r"
      ]
     },
     "metadata": {},
     "output_type": "display_data"
    },
    {
     "data": {
      "text/html": [
       "<pre style=\"white-space:pre;overflow-x:auto;line-height:normal;font-family:Menlo,'DejaVu Sans Mono',consolas,'Courier New',monospace\"><span style=\"color: #008080; text-decoration-color: #008080; font-weight: bold\">1990</span>-<span style=\"color: #008080; text-decoration-color: #008080; font-weight: bold\">08</span>-31T<span style=\"color: #00ff00; text-decoration-color: #00ff00; font-weight: bold\">12:00:00</span>Z\r",
       "</pre>\n"
      ],
      "text/plain": [
       "\u001b[1;36m1990\u001b[0m-\u001b[1;36m08\u001b[0m-31T\u001b[1;92m12:00:00\u001b[0mZ\r"
      ]
     },
     "metadata": {},
     "output_type": "display_data"
    },
    {
     "data": {
      "text/html": [
       "<pre style=\"white-space:pre;overflow-x:auto;line-height:normal;font-family:Menlo,'DejaVu Sans Mono',consolas,'Courier New',monospace\"><span style=\"color: #008080; text-decoration-color: #008080; font-weight: bold\">1990</span>-<span style=\"color: #008080; text-decoration-color: #008080; font-weight: bold\">09</span>-01T<span style=\"color: #00ff00; text-decoration-color: #00ff00; font-weight: bold\">12:00:00</span>Z\r",
       "</pre>\n"
      ],
      "text/plain": [
       "\u001b[1;36m1990\u001b[0m-\u001b[1;36m09\u001b[0m-01T\u001b[1;92m12:00:00\u001b[0mZ\r"
      ]
     },
     "metadata": {},
     "output_type": "display_data"
    },
    {
     "data": {
      "text/html": [
       "<pre style=\"white-space:pre;overflow-x:auto;line-height:normal;font-family:Menlo,'DejaVu Sans Mono',consolas,'Courier New',monospace\"><span style=\"color: #008080; text-decoration-color: #008080; font-weight: bold\">1990</span>-<span style=\"color: #008080; text-decoration-color: #008080; font-weight: bold\">09</span>-02T<span style=\"color: #00ff00; text-decoration-color: #00ff00; font-weight: bold\">12:00:00</span>Z\r",
       "</pre>\n"
      ],
      "text/plain": [
       "\u001b[1;36m1990\u001b[0m-\u001b[1;36m09\u001b[0m-02T\u001b[1;92m12:00:00\u001b[0mZ\r"
      ]
     },
     "metadata": {},
     "output_type": "display_data"
    },
    {
     "data": {
      "text/html": [
       "<pre style=\"white-space:pre;overflow-x:auto;line-height:normal;font-family:Menlo,'DejaVu Sans Mono',consolas,'Courier New',monospace\"><span style=\"color: #008080; text-decoration-color: #008080; font-weight: bold\">1990</span>-<span style=\"color: #008080; text-decoration-color: #008080; font-weight: bold\">09</span>-03T<span style=\"color: #00ff00; text-decoration-color: #00ff00; font-weight: bold\">12:00:00</span>Z\r",
       "</pre>\n"
      ],
      "text/plain": [
       "\u001b[1;36m1990\u001b[0m-\u001b[1;36m09\u001b[0m-03T\u001b[1;92m12:00:00\u001b[0mZ\r"
      ]
     },
     "metadata": {},
     "output_type": "display_data"
    },
    {
     "data": {
      "text/html": [
       "<pre style=\"white-space:pre;overflow-x:auto;line-height:normal;font-family:Menlo,'DejaVu Sans Mono',consolas,'Courier New',monospace\"><span style=\"color: #008080; text-decoration-color: #008080; font-weight: bold\">1990</span>-<span style=\"color: #008080; text-decoration-color: #008080; font-weight: bold\">09</span>-04T<span style=\"color: #00ff00; text-decoration-color: #00ff00; font-weight: bold\">12:00:00</span>Z\r",
       "</pre>\n"
      ],
      "text/plain": [
       "\u001b[1;36m1990\u001b[0m-\u001b[1;36m09\u001b[0m-04T\u001b[1;92m12:00:00\u001b[0mZ\r"
      ]
     },
     "metadata": {},
     "output_type": "display_data"
    },
    {
     "data": {
      "text/html": [
       "<pre style=\"white-space:pre;overflow-x:auto;line-height:normal;font-family:Menlo,'DejaVu Sans Mono',consolas,'Courier New',monospace\"><span style=\"color: #008080; text-decoration-color: #008080; font-weight: bold\">1990</span>-<span style=\"color: #008080; text-decoration-color: #008080; font-weight: bold\">09</span>-05T<span style=\"color: #00ff00; text-decoration-color: #00ff00; font-weight: bold\">12:00:00</span>Z\r",
       "</pre>\n"
      ],
      "text/plain": [
       "\u001b[1;36m1990\u001b[0m-\u001b[1;36m09\u001b[0m-05T\u001b[1;92m12:00:00\u001b[0mZ\r"
      ]
     },
     "metadata": {},
     "output_type": "display_data"
    },
    {
     "data": {
      "text/html": [
       "<pre style=\"white-space:pre;overflow-x:auto;line-height:normal;font-family:Menlo,'DejaVu Sans Mono',consolas,'Courier New',monospace\"><span style=\"color: #008080; text-decoration-color: #008080; font-weight: bold\">1990</span>-<span style=\"color: #008080; text-decoration-color: #008080; font-weight: bold\">09</span>-06T<span style=\"color: #00ff00; text-decoration-color: #00ff00; font-weight: bold\">12:00:00</span>Z\r",
       "</pre>\n"
      ],
      "text/plain": [
       "\u001b[1;36m1990\u001b[0m-\u001b[1;36m09\u001b[0m-06T\u001b[1;92m12:00:00\u001b[0mZ\r"
      ]
     },
     "metadata": {},
     "output_type": "display_data"
    },
    {
     "data": {
      "text/html": [
       "<pre style=\"white-space:pre;overflow-x:auto;line-height:normal;font-family:Menlo,'DejaVu Sans Mono',consolas,'Courier New',monospace\"><span style=\"color: #008080; text-decoration-color: #008080; font-weight: bold\">1990</span>-<span style=\"color: #008080; text-decoration-color: #008080; font-weight: bold\">09</span>-07T<span style=\"color: #00ff00; text-decoration-color: #00ff00; font-weight: bold\">12:00:00</span>Z\r",
       "</pre>\n"
      ],
      "text/plain": [
       "\u001b[1;36m1990\u001b[0m-\u001b[1;36m09\u001b[0m-07T\u001b[1;92m12:00:00\u001b[0mZ\r"
      ]
     },
     "metadata": {},
     "output_type": "display_data"
    },
    {
     "data": {
      "text/html": [
       "<pre style=\"white-space:pre;overflow-x:auto;line-height:normal;font-family:Menlo,'DejaVu Sans Mono',consolas,'Courier New',monospace\"><span style=\"color: #008080; text-decoration-color: #008080; font-weight: bold\">1990</span>-<span style=\"color: #008080; text-decoration-color: #008080; font-weight: bold\">09</span>-08T<span style=\"color: #00ff00; text-decoration-color: #00ff00; font-weight: bold\">12:00:00</span>Z\r",
       "</pre>\n"
      ],
      "text/plain": [
       "\u001b[1;36m1990\u001b[0m-\u001b[1;36m09\u001b[0m-08T\u001b[1;92m12:00:00\u001b[0mZ\r"
      ]
     },
     "metadata": {},
     "output_type": "display_data"
    },
    {
     "data": {
      "text/html": [
       "<pre style=\"white-space:pre;overflow-x:auto;line-height:normal;font-family:Menlo,'DejaVu Sans Mono',consolas,'Courier New',monospace\"><span style=\"color: #008080; text-decoration-color: #008080; font-weight: bold\">1990</span>-<span style=\"color: #008080; text-decoration-color: #008080; font-weight: bold\">09</span>-09T<span style=\"color: #00ff00; text-decoration-color: #00ff00; font-weight: bold\">12:00:00</span>Z\r",
       "</pre>\n"
      ],
      "text/plain": [
       "\u001b[1;36m1990\u001b[0m-\u001b[1;36m09\u001b[0m-09T\u001b[1;92m12:00:00\u001b[0mZ\r"
      ]
     },
     "metadata": {},
     "output_type": "display_data"
    },
    {
     "data": {
      "text/html": [
       "<pre style=\"white-space:pre;overflow-x:auto;line-height:normal;font-family:Menlo,'DejaVu Sans Mono',consolas,'Courier New',monospace\"><span style=\"color: #008080; text-decoration-color: #008080; font-weight: bold\">1990</span>-<span style=\"color: #008080; text-decoration-color: #008080; font-weight: bold\">09</span>-10T<span style=\"color: #00ff00; text-decoration-color: #00ff00; font-weight: bold\">12:00:00</span>Z\r",
       "</pre>\n"
      ],
      "text/plain": [
       "\u001b[1;36m1990\u001b[0m-\u001b[1;36m09\u001b[0m-10T\u001b[1;92m12:00:00\u001b[0mZ\r"
      ]
     },
     "metadata": {},
     "output_type": "display_data"
    },
    {
     "data": {
      "text/html": [
       "<pre style=\"white-space:pre;overflow-x:auto;line-height:normal;font-family:Menlo,'DejaVu Sans Mono',consolas,'Courier New',monospace\"><span style=\"color: #008080; text-decoration-color: #008080; font-weight: bold\">1990</span>-<span style=\"color: #008080; text-decoration-color: #008080; font-weight: bold\">09</span>-11T<span style=\"color: #00ff00; text-decoration-color: #00ff00; font-weight: bold\">12:00:00</span>Z\r",
       "</pre>\n"
      ],
      "text/plain": [
       "\u001b[1;36m1990\u001b[0m-\u001b[1;36m09\u001b[0m-11T\u001b[1;92m12:00:00\u001b[0mZ\r"
      ]
     },
     "metadata": {},
     "output_type": "display_data"
    },
    {
     "data": {
      "text/html": [
       "<pre style=\"white-space:pre;overflow-x:auto;line-height:normal;font-family:Menlo,'DejaVu Sans Mono',consolas,'Courier New',monospace\"><span style=\"color: #008080; text-decoration-color: #008080; font-weight: bold\">1990</span>-<span style=\"color: #008080; text-decoration-color: #008080; font-weight: bold\">09</span>-12T<span style=\"color: #00ff00; text-decoration-color: #00ff00; font-weight: bold\">12:00:00</span>Z\r",
       "</pre>\n"
      ],
      "text/plain": [
       "\u001b[1;36m1990\u001b[0m-\u001b[1;36m09\u001b[0m-12T\u001b[1;92m12:00:00\u001b[0mZ\r"
      ]
     },
     "metadata": {},
     "output_type": "display_data"
    },
    {
     "data": {
      "text/html": [
       "<pre style=\"white-space:pre;overflow-x:auto;line-height:normal;font-family:Menlo,'DejaVu Sans Mono',consolas,'Courier New',monospace\"><span style=\"color: #008080; text-decoration-color: #008080; font-weight: bold\">1990</span>-<span style=\"color: #008080; text-decoration-color: #008080; font-weight: bold\">09</span>-13T<span style=\"color: #00ff00; text-decoration-color: #00ff00; font-weight: bold\">12:00:00</span>Z\r",
       "</pre>\n"
      ],
      "text/plain": [
       "\u001b[1;36m1990\u001b[0m-\u001b[1;36m09\u001b[0m-13T\u001b[1;92m12:00:00\u001b[0mZ\r"
      ]
     },
     "metadata": {},
     "output_type": "display_data"
    },
    {
     "data": {
      "text/html": [
       "<pre style=\"white-space:pre;overflow-x:auto;line-height:normal;font-family:Menlo,'DejaVu Sans Mono',consolas,'Courier New',monospace\"><span style=\"color: #008080; text-decoration-color: #008080; font-weight: bold\">1990</span>-<span style=\"color: #008080; text-decoration-color: #008080; font-weight: bold\">09</span>-14T<span style=\"color: #00ff00; text-decoration-color: #00ff00; font-weight: bold\">12:00:00</span>Z\r",
       "</pre>\n"
      ],
      "text/plain": [
       "\u001b[1;36m1990\u001b[0m-\u001b[1;36m09\u001b[0m-14T\u001b[1;92m12:00:00\u001b[0mZ\r"
      ]
     },
     "metadata": {},
     "output_type": "display_data"
    },
    {
     "data": {
      "text/html": [
       "<pre style=\"white-space:pre;overflow-x:auto;line-height:normal;font-family:Menlo,'DejaVu Sans Mono',consolas,'Courier New',monospace\"><span style=\"color: #008080; text-decoration-color: #008080; font-weight: bold\">1990</span>-<span style=\"color: #008080; text-decoration-color: #008080; font-weight: bold\">09</span>-15T<span style=\"color: #00ff00; text-decoration-color: #00ff00; font-weight: bold\">12:00:00</span>Z\r",
       "</pre>\n"
      ],
      "text/plain": [
       "\u001b[1;36m1990\u001b[0m-\u001b[1;36m09\u001b[0m-15T\u001b[1;92m12:00:00\u001b[0mZ\r"
      ]
     },
     "metadata": {},
     "output_type": "display_data"
    },
    {
     "data": {
      "text/html": [
       "<pre style=\"white-space:pre;overflow-x:auto;line-height:normal;font-family:Menlo,'DejaVu Sans Mono',consolas,'Courier New',monospace\"><span style=\"color: #008080; text-decoration-color: #008080; font-weight: bold\">1990</span>-<span style=\"color: #008080; text-decoration-color: #008080; font-weight: bold\">09</span>-16T<span style=\"color: #00ff00; text-decoration-color: #00ff00; font-weight: bold\">12:00:00</span>Z\r",
       "</pre>\n"
      ],
      "text/plain": [
       "\u001b[1;36m1990\u001b[0m-\u001b[1;36m09\u001b[0m-16T\u001b[1;92m12:00:00\u001b[0mZ\r"
      ]
     },
     "metadata": {},
     "output_type": "display_data"
    },
    {
     "data": {
      "text/html": [
       "<pre style=\"white-space:pre;overflow-x:auto;line-height:normal;font-family:Menlo,'DejaVu Sans Mono',consolas,'Courier New',monospace\"><span style=\"color: #008080; text-decoration-color: #008080; font-weight: bold\">1990</span>-<span style=\"color: #008080; text-decoration-color: #008080; font-weight: bold\">09</span>-17T<span style=\"color: #00ff00; text-decoration-color: #00ff00; font-weight: bold\">12:00:00</span>Z\r",
       "</pre>\n"
      ],
      "text/plain": [
       "\u001b[1;36m1990\u001b[0m-\u001b[1;36m09\u001b[0m-17T\u001b[1;92m12:00:00\u001b[0mZ\r"
      ]
     },
     "metadata": {},
     "output_type": "display_data"
    },
    {
     "data": {
      "text/html": [
       "<pre style=\"white-space:pre;overflow-x:auto;line-height:normal;font-family:Menlo,'DejaVu Sans Mono',consolas,'Courier New',monospace\"><span style=\"color: #008080; text-decoration-color: #008080; font-weight: bold\">1990</span>-<span style=\"color: #008080; text-decoration-color: #008080; font-weight: bold\">09</span>-18T<span style=\"color: #00ff00; text-decoration-color: #00ff00; font-weight: bold\">12:00:00</span>Z\r",
       "</pre>\n"
      ],
      "text/plain": [
       "\u001b[1;36m1990\u001b[0m-\u001b[1;36m09\u001b[0m-18T\u001b[1;92m12:00:00\u001b[0mZ\r"
      ]
     },
     "metadata": {},
     "output_type": "display_data"
    },
    {
     "data": {
      "text/html": [
       "<pre style=\"white-space:pre;overflow-x:auto;line-height:normal;font-family:Menlo,'DejaVu Sans Mono',consolas,'Courier New',monospace\"><span style=\"color: #008080; text-decoration-color: #008080; font-weight: bold\">1990</span>-<span style=\"color: #008080; text-decoration-color: #008080; font-weight: bold\">09</span>-19T<span style=\"color: #00ff00; text-decoration-color: #00ff00; font-weight: bold\">12:00:00</span>Z\r",
       "</pre>\n"
      ],
      "text/plain": [
       "\u001b[1;36m1990\u001b[0m-\u001b[1;36m09\u001b[0m-19T\u001b[1;92m12:00:00\u001b[0mZ\r"
      ]
     },
     "metadata": {},
     "output_type": "display_data"
    },
    {
     "data": {
      "text/html": [
       "<pre style=\"white-space:pre;overflow-x:auto;line-height:normal;font-family:Menlo,'DejaVu Sans Mono',consolas,'Courier New',monospace\"><span style=\"color: #008080; text-decoration-color: #008080; font-weight: bold\">1990</span>-<span style=\"color: #008080; text-decoration-color: #008080; font-weight: bold\">09</span>-20T<span style=\"color: #00ff00; text-decoration-color: #00ff00; font-weight: bold\">12:00:00</span>Z\r",
       "</pre>\n"
      ],
      "text/plain": [
       "\u001b[1;36m1990\u001b[0m-\u001b[1;36m09\u001b[0m-20T\u001b[1;92m12:00:00\u001b[0mZ\r"
      ]
     },
     "metadata": {},
     "output_type": "display_data"
    },
    {
     "data": {
      "text/html": [
       "<pre style=\"white-space:pre;overflow-x:auto;line-height:normal;font-family:Menlo,'DejaVu Sans Mono',consolas,'Courier New',monospace\"><span style=\"color: #008080; text-decoration-color: #008080; font-weight: bold\">1990</span>-<span style=\"color: #008080; text-decoration-color: #008080; font-weight: bold\">09</span>-21T<span style=\"color: #00ff00; text-decoration-color: #00ff00; font-weight: bold\">12:00:00</span>Z\r",
       "</pre>\n"
      ],
      "text/plain": [
       "\u001b[1;36m1990\u001b[0m-\u001b[1;36m09\u001b[0m-21T\u001b[1;92m12:00:00\u001b[0mZ\r"
      ]
     },
     "metadata": {},
     "output_type": "display_data"
    },
    {
     "data": {
      "text/html": [
       "<pre style=\"white-space:pre;overflow-x:auto;line-height:normal;font-family:Menlo,'DejaVu Sans Mono',consolas,'Courier New',monospace\"><span style=\"color: #008080; text-decoration-color: #008080; font-weight: bold\">1990</span>-<span style=\"color: #008080; text-decoration-color: #008080; font-weight: bold\">09</span>-22T<span style=\"color: #00ff00; text-decoration-color: #00ff00; font-weight: bold\">12:00:00</span>Z\r",
       "</pre>\n"
      ],
      "text/plain": [
       "\u001b[1;36m1990\u001b[0m-\u001b[1;36m09\u001b[0m-22T\u001b[1;92m12:00:00\u001b[0mZ\r"
      ]
     },
     "metadata": {},
     "output_type": "display_data"
    },
    {
     "data": {
      "text/html": [
       "<pre style=\"white-space:pre;overflow-x:auto;line-height:normal;font-family:Menlo,'DejaVu Sans Mono',consolas,'Courier New',monospace\"><span style=\"color: #008080; text-decoration-color: #008080; font-weight: bold\">1990</span>-<span style=\"color: #008080; text-decoration-color: #008080; font-weight: bold\">09</span>-23T<span style=\"color: #00ff00; text-decoration-color: #00ff00; font-weight: bold\">12:00:00</span>Z\r",
       "</pre>\n"
      ],
      "text/plain": [
       "\u001b[1;36m1990\u001b[0m-\u001b[1;36m09\u001b[0m-23T\u001b[1;92m12:00:00\u001b[0mZ\r"
      ]
     },
     "metadata": {},
     "output_type": "display_data"
    },
    {
     "data": {
      "text/html": [
       "<pre style=\"white-space:pre;overflow-x:auto;line-height:normal;font-family:Menlo,'DejaVu Sans Mono',consolas,'Courier New',monospace\"><span style=\"color: #008080; text-decoration-color: #008080; font-weight: bold\">1990</span>-<span style=\"color: #008080; text-decoration-color: #008080; font-weight: bold\">09</span>-24T<span style=\"color: #00ff00; text-decoration-color: #00ff00; font-weight: bold\">12:00:00</span>Z\r",
       "</pre>\n"
      ],
      "text/plain": [
       "\u001b[1;36m1990\u001b[0m-\u001b[1;36m09\u001b[0m-24T\u001b[1;92m12:00:00\u001b[0mZ\r"
      ]
     },
     "metadata": {},
     "output_type": "display_data"
    },
    {
     "data": {
      "text/html": [
       "<pre style=\"white-space:pre;overflow-x:auto;line-height:normal;font-family:Menlo,'DejaVu Sans Mono',consolas,'Courier New',monospace\"><span style=\"color: #008080; text-decoration-color: #008080; font-weight: bold\">1990</span>-<span style=\"color: #008080; text-decoration-color: #008080; font-weight: bold\">09</span>-25T<span style=\"color: #00ff00; text-decoration-color: #00ff00; font-weight: bold\">12:00:00</span>Z\r",
       "</pre>\n"
      ],
      "text/plain": [
       "\u001b[1;36m1990\u001b[0m-\u001b[1;36m09\u001b[0m-25T\u001b[1;92m12:00:00\u001b[0mZ\r"
      ]
     },
     "metadata": {},
     "output_type": "display_data"
    },
    {
     "data": {
      "text/html": [
       "<pre style=\"white-space:pre;overflow-x:auto;line-height:normal;font-family:Menlo,'DejaVu Sans Mono',consolas,'Courier New',monospace\"><span style=\"color: #008080; text-decoration-color: #008080; font-weight: bold\">1990</span>-<span style=\"color: #008080; text-decoration-color: #008080; font-weight: bold\">09</span>-26T<span style=\"color: #00ff00; text-decoration-color: #00ff00; font-weight: bold\">12:00:00</span>Z\r",
       "</pre>\n"
      ],
      "text/plain": [
       "\u001b[1;36m1990\u001b[0m-\u001b[1;36m09\u001b[0m-26T\u001b[1;92m12:00:00\u001b[0mZ\r"
      ]
     },
     "metadata": {},
     "output_type": "display_data"
    },
    {
     "data": {
      "text/html": [
       "<pre style=\"white-space:pre;overflow-x:auto;line-height:normal;font-family:Menlo,'DejaVu Sans Mono',consolas,'Courier New',monospace\"><span style=\"color: #008080; text-decoration-color: #008080; font-weight: bold\">1990</span>-<span style=\"color: #008080; text-decoration-color: #008080; font-weight: bold\">09</span>-27T<span style=\"color: #00ff00; text-decoration-color: #00ff00; font-weight: bold\">12:00:00</span>Z\r",
       "</pre>\n"
      ],
      "text/plain": [
       "\u001b[1;36m1990\u001b[0m-\u001b[1;36m09\u001b[0m-27T\u001b[1;92m12:00:00\u001b[0mZ\r"
      ]
     },
     "metadata": {},
     "output_type": "display_data"
    },
    {
     "data": {
      "text/html": [
       "<pre style=\"white-space:pre;overflow-x:auto;line-height:normal;font-family:Menlo,'DejaVu Sans Mono',consolas,'Courier New',monospace\"><span style=\"color: #008080; text-decoration-color: #008080; font-weight: bold\">1990</span>-<span style=\"color: #008080; text-decoration-color: #008080; font-weight: bold\">09</span>-28T<span style=\"color: #00ff00; text-decoration-color: #00ff00; font-weight: bold\">12:00:00</span>Z\r",
       "</pre>\n"
      ],
      "text/plain": [
       "\u001b[1;36m1990\u001b[0m-\u001b[1;36m09\u001b[0m-28T\u001b[1;92m12:00:00\u001b[0mZ\r"
      ]
     },
     "metadata": {},
     "output_type": "display_data"
    },
    {
     "data": {
      "text/html": [
       "<pre style=\"white-space:pre;overflow-x:auto;line-height:normal;font-family:Menlo,'DejaVu Sans Mono',consolas,'Courier New',monospace\"><span style=\"color: #008080; text-decoration-color: #008080; font-weight: bold\">1990</span>-<span style=\"color: #008080; text-decoration-color: #008080; font-weight: bold\">09</span>-29T<span style=\"color: #00ff00; text-decoration-color: #00ff00; font-weight: bold\">12:00:00</span>Z\r",
       "</pre>\n"
      ],
      "text/plain": [
       "\u001b[1;36m1990\u001b[0m-\u001b[1;36m09\u001b[0m-29T\u001b[1;92m12:00:00\u001b[0mZ\r"
      ]
     },
     "metadata": {},
     "output_type": "display_data"
    },
    {
     "data": {
      "text/html": [
       "<pre style=\"white-space:pre;overflow-x:auto;line-height:normal;font-family:Menlo,'DejaVu Sans Mono',consolas,'Courier New',monospace\"><span style=\"color: #008080; text-decoration-color: #008080; font-weight: bold\">1990</span>-<span style=\"color: #008080; text-decoration-color: #008080; font-weight: bold\">09</span>-30T<span style=\"color: #00ff00; text-decoration-color: #00ff00; font-weight: bold\">12:00:00</span>Z\r",
       "</pre>\n"
      ],
      "text/plain": [
       "\u001b[1;36m1990\u001b[0m-\u001b[1;36m09\u001b[0m-30T\u001b[1;92m12:00:00\u001b[0mZ\r"
      ]
     },
     "metadata": {},
     "output_type": "display_data"
    },
    {
     "data": {
      "text/html": [
       "<pre style=\"white-space:pre;overflow-x:auto;line-height:normal;font-family:Menlo,'DejaVu Sans Mono',consolas,'Courier New',monospace\"><span style=\"color: #008080; text-decoration-color: #008080; font-weight: bold\">1990</span>-<span style=\"color: #008080; text-decoration-color: #008080; font-weight: bold\">10</span>-01T<span style=\"color: #00ff00; text-decoration-color: #00ff00; font-weight: bold\">12:00:00</span>Z\r",
       "</pre>\n"
      ],
      "text/plain": [
       "\u001b[1;36m1990\u001b[0m-\u001b[1;36m10\u001b[0m-01T\u001b[1;92m12:00:00\u001b[0mZ\r"
      ]
     },
     "metadata": {},
     "output_type": "display_data"
    },
    {
     "data": {
      "text/html": [
       "<pre style=\"white-space:pre;overflow-x:auto;line-height:normal;font-family:Menlo,'DejaVu Sans Mono',consolas,'Courier New',monospace\"><span style=\"color: #008080; text-decoration-color: #008080; font-weight: bold\">1990</span>-<span style=\"color: #008080; text-decoration-color: #008080; font-weight: bold\">10</span>-02T<span style=\"color: #00ff00; text-decoration-color: #00ff00; font-weight: bold\">12:00:00</span>Z\r",
       "</pre>\n"
      ],
      "text/plain": [
       "\u001b[1;36m1990\u001b[0m-\u001b[1;36m10\u001b[0m-02T\u001b[1;92m12:00:00\u001b[0mZ\r"
      ]
     },
     "metadata": {},
     "output_type": "display_data"
    },
    {
     "data": {
      "text/html": [
       "<pre style=\"white-space:pre;overflow-x:auto;line-height:normal;font-family:Menlo,'DejaVu Sans Mono',consolas,'Courier New',monospace\"><span style=\"color: #008080; text-decoration-color: #008080; font-weight: bold\">1990</span>-<span style=\"color: #008080; text-decoration-color: #008080; font-weight: bold\">10</span>-03T<span style=\"color: #00ff00; text-decoration-color: #00ff00; font-weight: bold\">12:00:00</span>Z\r",
       "</pre>\n"
      ],
      "text/plain": [
       "\u001b[1;36m1990\u001b[0m-\u001b[1;36m10\u001b[0m-03T\u001b[1;92m12:00:00\u001b[0mZ\r"
      ]
     },
     "metadata": {},
     "output_type": "display_data"
    },
    {
     "data": {
      "text/html": [
       "<pre style=\"white-space:pre;overflow-x:auto;line-height:normal;font-family:Menlo,'DejaVu Sans Mono',consolas,'Courier New',monospace\"><span style=\"color: #008080; text-decoration-color: #008080; font-weight: bold\">1990</span>-<span style=\"color: #008080; text-decoration-color: #008080; font-weight: bold\">10</span>-04T<span style=\"color: #00ff00; text-decoration-color: #00ff00; font-weight: bold\">12:00:00</span>Z\r",
       "</pre>\n"
      ],
      "text/plain": [
       "\u001b[1;36m1990\u001b[0m-\u001b[1;36m10\u001b[0m-04T\u001b[1;92m12:00:00\u001b[0mZ\r"
      ]
     },
     "metadata": {},
     "output_type": "display_data"
    },
    {
     "data": {
      "text/html": [
       "<pre style=\"white-space:pre;overflow-x:auto;line-height:normal;font-family:Menlo,'DejaVu Sans Mono',consolas,'Courier New',monospace\"><span style=\"color: #008080; text-decoration-color: #008080; font-weight: bold\">1990</span>-<span style=\"color: #008080; text-decoration-color: #008080; font-weight: bold\">10</span>-05T<span style=\"color: #00ff00; text-decoration-color: #00ff00; font-weight: bold\">12:00:00</span>Z\r",
       "</pre>\n"
      ],
      "text/plain": [
       "\u001b[1;36m1990\u001b[0m-\u001b[1;36m10\u001b[0m-05T\u001b[1;92m12:00:00\u001b[0mZ\r"
      ]
     },
     "metadata": {},
     "output_type": "display_data"
    },
    {
     "data": {
      "text/html": [
       "<pre style=\"white-space:pre;overflow-x:auto;line-height:normal;font-family:Menlo,'DejaVu Sans Mono',consolas,'Courier New',monospace\"><span style=\"color: #008080; text-decoration-color: #008080; font-weight: bold\">1990</span>-<span style=\"color: #008080; text-decoration-color: #008080; font-weight: bold\">10</span>-06T<span style=\"color: #00ff00; text-decoration-color: #00ff00; font-weight: bold\">12:00:00</span>Z\r",
       "</pre>\n"
      ],
      "text/plain": [
       "\u001b[1;36m1990\u001b[0m-\u001b[1;36m10\u001b[0m-06T\u001b[1;92m12:00:00\u001b[0mZ\r"
      ]
     },
     "metadata": {},
     "output_type": "display_data"
    },
    {
     "data": {
      "text/html": [
       "<pre style=\"white-space:pre;overflow-x:auto;line-height:normal;font-family:Menlo,'DejaVu Sans Mono',consolas,'Courier New',monospace\"><span style=\"color: #008080; text-decoration-color: #008080; font-weight: bold\">1990</span>-<span style=\"color: #008080; text-decoration-color: #008080; font-weight: bold\">10</span>-07T<span style=\"color: #00ff00; text-decoration-color: #00ff00; font-weight: bold\">12:00:00</span>Z\r",
       "</pre>\n"
      ],
      "text/plain": [
       "\u001b[1;36m1990\u001b[0m-\u001b[1;36m10\u001b[0m-07T\u001b[1;92m12:00:00\u001b[0mZ\r"
      ]
     },
     "metadata": {},
     "output_type": "display_data"
    },
    {
     "data": {
      "text/html": [
       "<pre style=\"white-space:pre;overflow-x:auto;line-height:normal;font-family:Menlo,'DejaVu Sans Mono',consolas,'Courier New',monospace\"><span style=\"color: #008080; text-decoration-color: #008080; font-weight: bold\">1990</span>-<span style=\"color: #008080; text-decoration-color: #008080; font-weight: bold\">10</span>-08T<span style=\"color: #00ff00; text-decoration-color: #00ff00; font-weight: bold\">12:00:00</span>Z\r",
       "</pre>\n"
      ],
      "text/plain": [
       "\u001b[1;36m1990\u001b[0m-\u001b[1;36m10\u001b[0m-08T\u001b[1;92m12:00:00\u001b[0mZ\r"
      ]
     },
     "metadata": {},
     "output_type": "display_data"
    },
    {
     "data": {
      "text/html": [
       "<pre style=\"white-space:pre;overflow-x:auto;line-height:normal;font-family:Menlo,'DejaVu Sans Mono',consolas,'Courier New',monospace\"><span style=\"color: #008080; text-decoration-color: #008080; font-weight: bold\">1990</span>-<span style=\"color: #008080; text-decoration-color: #008080; font-weight: bold\">10</span>-09T<span style=\"color: #00ff00; text-decoration-color: #00ff00; font-weight: bold\">12:00:00</span>Z\r",
       "</pre>\n"
      ],
      "text/plain": [
       "\u001b[1;36m1990\u001b[0m-\u001b[1;36m10\u001b[0m-09T\u001b[1;92m12:00:00\u001b[0mZ\r"
      ]
     },
     "metadata": {},
     "output_type": "display_data"
    },
    {
     "data": {
      "text/html": [
       "<pre style=\"white-space:pre;overflow-x:auto;line-height:normal;font-family:Menlo,'DejaVu Sans Mono',consolas,'Courier New',monospace\"><span style=\"color: #008080; text-decoration-color: #008080; font-weight: bold\">1990</span>-<span style=\"color: #008080; text-decoration-color: #008080; font-weight: bold\">10</span>-10T<span style=\"color: #00ff00; text-decoration-color: #00ff00; font-weight: bold\">12:00:00</span>Z\r",
       "</pre>\n"
      ],
      "text/plain": [
       "\u001b[1;36m1990\u001b[0m-\u001b[1;36m10\u001b[0m-10T\u001b[1;92m12:00:00\u001b[0mZ\r"
      ]
     },
     "metadata": {},
     "output_type": "display_data"
    },
    {
     "data": {
      "text/html": [
       "<pre style=\"white-space:pre;overflow-x:auto;line-height:normal;font-family:Menlo,'DejaVu Sans Mono',consolas,'Courier New',monospace\"><span style=\"color: #008080; text-decoration-color: #008080; font-weight: bold\">1990</span>-<span style=\"color: #008080; text-decoration-color: #008080; font-weight: bold\">10</span>-11T<span style=\"color: #00ff00; text-decoration-color: #00ff00; font-weight: bold\">12:00:00</span>Z\r",
       "</pre>\n"
      ],
      "text/plain": [
       "\u001b[1;36m1990\u001b[0m-\u001b[1;36m10\u001b[0m-11T\u001b[1;92m12:00:00\u001b[0mZ\r"
      ]
     },
     "metadata": {},
     "output_type": "display_data"
    },
    {
     "data": {
      "text/html": [
       "<pre style=\"white-space:pre;overflow-x:auto;line-height:normal;font-family:Menlo,'DejaVu Sans Mono',consolas,'Courier New',monospace\"><span style=\"color: #008080; text-decoration-color: #008080; font-weight: bold\">1990</span>-<span style=\"color: #008080; text-decoration-color: #008080; font-weight: bold\">10</span>-12T<span style=\"color: #00ff00; text-decoration-color: #00ff00; font-weight: bold\">12:00:00</span>Z\r",
       "</pre>\n"
      ],
      "text/plain": [
       "\u001b[1;36m1990\u001b[0m-\u001b[1;36m10\u001b[0m-12T\u001b[1;92m12:00:00\u001b[0mZ\r"
      ]
     },
     "metadata": {},
     "output_type": "display_data"
    },
    {
     "data": {
      "text/html": [
       "<pre style=\"white-space:pre;overflow-x:auto;line-height:normal;font-family:Menlo,'DejaVu Sans Mono',consolas,'Courier New',monospace\"><span style=\"color: #008080; text-decoration-color: #008080; font-weight: bold\">1990</span>-<span style=\"color: #008080; text-decoration-color: #008080; font-weight: bold\">10</span>-13T<span style=\"color: #00ff00; text-decoration-color: #00ff00; font-weight: bold\">12:00:00</span>Z\r",
       "</pre>\n"
      ],
      "text/plain": [
       "\u001b[1;36m1990\u001b[0m-\u001b[1;36m10\u001b[0m-13T\u001b[1;92m12:00:00\u001b[0mZ\r"
      ]
     },
     "metadata": {},
     "output_type": "display_data"
    },
    {
     "data": {
      "text/html": [
       "<pre style=\"white-space:pre;overflow-x:auto;line-height:normal;font-family:Menlo,'DejaVu Sans Mono',consolas,'Courier New',monospace\"><span style=\"color: #008080; text-decoration-color: #008080; font-weight: bold\">1990</span>-<span style=\"color: #008080; text-decoration-color: #008080; font-weight: bold\">10</span>-14T<span style=\"color: #00ff00; text-decoration-color: #00ff00; font-weight: bold\">12:00:00</span>Z\r",
       "</pre>\n"
      ],
      "text/plain": [
       "\u001b[1;36m1990\u001b[0m-\u001b[1;36m10\u001b[0m-14T\u001b[1;92m12:00:00\u001b[0mZ\r"
      ]
     },
     "metadata": {},
     "output_type": "display_data"
    },
    {
     "data": {
      "text/html": [
       "<pre style=\"white-space:pre;overflow-x:auto;line-height:normal;font-family:Menlo,'DejaVu Sans Mono',consolas,'Courier New',monospace\"><span style=\"color: #008080; text-decoration-color: #008080; font-weight: bold\">1990</span>-<span style=\"color: #008080; text-decoration-color: #008080; font-weight: bold\">10</span>-15T<span style=\"color: #00ff00; text-decoration-color: #00ff00; font-weight: bold\">12:00:00</span>Z\r",
       "</pre>\n"
      ],
      "text/plain": [
       "\u001b[1;36m1990\u001b[0m-\u001b[1;36m10\u001b[0m-15T\u001b[1;92m12:00:00\u001b[0mZ\r"
      ]
     },
     "metadata": {},
     "output_type": "display_data"
    },
    {
     "data": {
      "text/html": [
       "<pre style=\"white-space:pre;overflow-x:auto;line-height:normal;font-family:Menlo,'DejaVu Sans Mono',consolas,'Courier New',monospace\"><span style=\"color: #008080; text-decoration-color: #008080; font-weight: bold\">1990</span>-<span style=\"color: #008080; text-decoration-color: #008080; font-weight: bold\">10</span>-16T<span style=\"color: #00ff00; text-decoration-color: #00ff00; font-weight: bold\">12:00:00</span>Z\r",
       "</pre>\n"
      ],
      "text/plain": [
       "\u001b[1;36m1990\u001b[0m-\u001b[1;36m10\u001b[0m-16T\u001b[1;92m12:00:00\u001b[0mZ\r"
      ]
     },
     "metadata": {},
     "output_type": "display_data"
    },
    {
     "data": {
      "text/html": [
       "<pre style=\"white-space:pre;overflow-x:auto;line-height:normal;font-family:Menlo,'DejaVu Sans Mono',consolas,'Courier New',monospace\"><span style=\"color: #008080; text-decoration-color: #008080; font-weight: bold\">1990</span>-<span style=\"color: #008080; text-decoration-color: #008080; font-weight: bold\">10</span>-17T<span style=\"color: #00ff00; text-decoration-color: #00ff00; font-weight: bold\">12:00:00</span>Z\r",
       "</pre>\n"
      ],
      "text/plain": [
       "\u001b[1;36m1990\u001b[0m-\u001b[1;36m10\u001b[0m-17T\u001b[1;92m12:00:00\u001b[0mZ\r"
      ]
     },
     "metadata": {},
     "output_type": "display_data"
    },
    {
     "data": {
      "text/html": [
       "<pre style=\"white-space:pre;overflow-x:auto;line-height:normal;font-family:Menlo,'DejaVu Sans Mono',consolas,'Courier New',monospace\"><span style=\"color: #008080; text-decoration-color: #008080; font-weight: bold\">1990</span>-<span style=\"color: #008080; text-decoration-color: #008080; font-weight: bold\">10</span>-18T<span style=\"color: #00ff00; text-decoration-color: #00ff00; font-weight: bold\">12:00:00</span>Z\r",
       "</pre>\n"
      ],
      "text/plain": [
       "\u001b[1;36m1990\u001b[0m-\u001b[1;36m10\u001b[0m-18T\u001b[1;92m12:00:00\u001b[0mZ\r"
      ]
     },
     "metadata": {},
     "output_type": "display_data"
    },
    {
     "data": {
      "text/html": [
       "<pre style=\"white-space:pre;overflow-x:auto;line-height:normal;font-family:Menlo,'DejaVu Sans Mono',consolas,'Courier New',monospace\"><span style=\"color: #008080; text-decoration-color: #008080; font-weight: bold\">1990</span>-<span style=\"color: #008080; text-decoration-color: #008080; font-weight: bold\">10</span>-19T<span style=\"color: #00ff00; text-decoration-color: #00ff00; font-weight: bold\">12:00:00</span>Z\r",
       "</pre>\n"
      ],
      "text/plain": [
       "\u001b[1;36m1990\u001b[0m-\u001b[1;36m10\u001b[0m-19T\u001b[1;92m12:00:00\u001b[0mZ\r"
      ]
     },
     "metadata": {},
     "output_type": "display_data"
    },
    {
     "data": {
      "text/html": [
       "<pre style=\"white-space:pre;overflow-x:auto;line-height:normal;font-family:Menlo,'DejaVu Sans Mono',consolas,'Courier New',monospace\"><span style=\"color: #008080; text-decoration-color: #008080; font-weight: bold\">1990</span>-<span style=\"color: #008080; text-decoration-color: #008080; font-weight: bold\">10</span>-20T<span style=\"color: #00ff00; text-decoration-color: #00ff00; font-weight: bold\">12:00:00</span>Z\r",
       "</pre>\n"
      ],
      "text/plain": [
       "\u001b[1;36m1990\u001b[0m-\u001b[1;36m10\u001b[0m-20T\u001b[1;92m12:00:00\u001b[0mZ\r"
      ]
     },
     "metadata": {},
     "output_type": "display_data"
    },
    {
     "data": {
      "text/html": [
       "<pre style=\"white-space:pre;overflow-x:auto;line-height:normal;font-family:Menlo,'DejaVu Sans Mono',consolas,'Courier New',monospace\"><span style=\"color: #008080; text-decoration-color: #008080; font-weight: bold\">1990</span>-<span style=\"color: #008080; text-decoration-color: #008080; font-weight: bold\">10</span>-21T<span style=\"color: #00ff00; text-decoration-color: #00ff00; font-weight: bold\">12:00:00</span>Z\r",
       "</pre>\n"
      ],
      "text/plain": [
       "\u001b[1;36m1990\u001b[0m-\u001b[1;36m10\u001b[0m-21T\u001b[1;92m12:00:00\u001b[0mZ\r"
      ]
     },
     "metadata": {},
     "output_type": "display_data"
    },
    {
     "data": {
      "text/html": [
       "<pre style=\"white-space:pre;overflow-x:auto;line-height:normal;font-family:Menlo,'DejaVu Sans Mono',consolas,'Courier New',monospace\"><span style=\"color: #008080; text-decoration-color: #008080; font-weight: bold\">1990</span>-<span style=\"color: #008080; text-decoration-color: #008080; font-weight: bold\">10</span>-22T<span style=\"color: #00ff00; text-decoration-color: #00ff00; font-weight: bold\">12:00:00</span>Z\r",
       "</pre>\n"
      ],
      "text/plain": [
       "\u001b[1;36m1990\u001b[0m-\u001b[1;36m10\u001b[0m-22T\u001b[1;92m12:00:00\u001b[0mZ\r"
      ]
     },
     "metadata": {},
     "output_type": "display_data"
    },
    {
     "data": {
      "text/html": [
       "<pre style=\"white-space:pre;overflow-x:auto;line-height:normal;font-family:Menlo,'DejaVu Sans Mono',consolas,'Courier New',monospace\"><span style=\"color: #008080; text-decoration-color: #008080; font-weight: bold\">1990</span>-<span style=\"color: #008080; text-decoration-color: #008080; font-weight: bold\">10</span>-23T<span style=\"color: #00ff00; text-decoration-color: #00ff00; font-weight: bold\">12:00:00</span>Z\r",
       "</pre>\n"
      ],
      "text/plain": [
       "\u001b[1;36m1990\u001b[0m-\u001b[1;36m10\u001b[0m-23T\u001b[1;92m12:00:00\u001b[0mZ\r"
      ]
     },
     "metadata": {},
     "output_type": "display_data"
    },
    {
     "data": {
      "text/html": [
       "<pre style=\"white-space:pre;overflow-x:auto;line-height:normal;font-family:Menlo,'DejaVu Sans Mono',consolas,'Courier New',monospace\"><span style=\"color: #008080; text-decoration-color: #008080; font-weight: bold\">1990</span>-<span style=\"color: #008080; text-decoration-color: #008080; font-weight: bold\">10</span>-24T<span style=\"color: #00ff00; text-decoration-color: #00ff00; font-weight: bold\">12:00:00</span>Z\r",
       "</pre>\n"
      ],
      "text/plain": [
       "\u001b[1;36m1990\u001b[0m-\u001b[1;36m10\u001b[0m-24T\u001b[1;92m12:00:00\u001b[0mZ\r"
      ]
     },
     "metadata": {},
     "output_type": "display_data"
    },
    {
     "data": {
      "text/html": [
       "<pre style=\"white-space:pre;overflow-x:auto;line-height:normal;font-family:Menlo,'DejaVu Sans Mono',consolas,'Courier New',monospace\"><span style=\"color: #008080; text-decoration-color: #008080; font-weight: bold\">1990</span>-<span style=\"color: #008080; text-decoration-color: #008080; font-weight: bold\">10</span>-25T<span style=\"color: #00ff00; text-decoration-color: #00ff00; font-weight: bold\">12:00:00</span>Z\r",
       "</pre>\n"
      ],
      "text/plain": [
       "\u001b[1;36m1990\u001b[0m-\u001b[1;36m10\u001b[0m-25T\u001b[1;92m12:00:00\u001b[0mZ\r"
      ]
     },
     "metadata": {},
     "output_type": "display_data"
    },
    {
     "data": {
      "text/html": [
       "<pre style=\"white-space:pre;overflow-x:auto;line-height:normal;font-family:Menlo,'DejaVu Sans Mono',consolas,'Courier New',monospace\"><span style=\"color: #008080; text-decoration-color: #008080; font-weight: bold\">1990</span>-<span style=\"color: #008080; text-decoration-color: #008080; font-weight: bold\">10</span>-26T<span style=\"color: #00ff00; text-decoration-color: #00ff00; font-weight: bold\">12:00:00</span>Z\r",
       "</pre>\n"
      ],
      "text/plain": [
       "\u001b[1;36m1990\u001b[0m-\u001b[1;36m10\u001b[0m-26T\u001b[1;92m12:00:00\u001b[0mZ\r"
      ]
     },
     "metadata": {},
     "output_type": "display_data"
    },
    {
     "data": {
      "text/html": [
       "<pre style=\"white-space:pre;overflow-x:auto;line-height:normal;font-family:Menlo,'DejaVu Sans Mono',consolas,'Courier New',monospace\"><span style=\"color: #008080; text-decoration-color: #008080; font-weight: bold\">1990</span>-<span style=\"color: #008080; text-decoration-color: #008080; font-weight: bold\">10</span>-27T<span style=\"color: #00ff00; text-decoration-color: #00ff00; font-weight: bold\">12:00:00</span>Z\r",
       "</pre>\n"
      ],
      "text/plain": [
       "\u001b[1;36m1990\u001b[0m-\u001b[1;36m10\u001b[0m-27T\u001b[1;92m12:00:00\u001b[0mZ\r"
      ]
     },
     "metadata": {},
     "output_type": "display_data"
    },
    {
     "data": {
      "text/html": [
       "<pre style=\"white-space:pre;overflow-x:auto;line-height:normal;font-family:Menlo,'DejaVu Sans Mono',consolas,'Courier New',monospace\"><span style=\"color: #008080; text-decoration-color: #008080; font-weight: bold\">1990</span>-<span style=\"color: #008080; text-decoration-color: #008080; font-weight: bold\">10</span>-28T<span style=\"color: #00ff00; text-decoration-color: #00ff00; font-weight: bold\">12:00:00</span>Z\r",
       "</pre>\n"
      ],
      "text/plain": [
       "\u001b[1;36m1990\u001b[0m-\u001b[1;36m10\u001b[0m-28T\u001b[1;92m12:00:00\u001b[0mZ\r"
      ]
     },
     "metadata": {},
     "output_type": "display_data"
    },
    {
     "data": {
      "text/html": [
       "<pre style=\"white-space:pre;overflow-x:auto;line-height:normal;font-family:Menlo,'DejaVu Sans Mono',consolas,'Courier New',monospace\"><span style=\"color: #008080; text-decoration-color: #008080; font-weight: bold\">1990</span>-<span style=\"color: #008080; text-decoration-color: #008080; font-weight: bold\">10</span>-29T<span style=\"color: #00ff00; text-decoration-color: #00ff00; font-weight: bold\">12:00:00</span>Z\r",
       "</pre>\n"
      ],
      "text/plain": [
       "\u001b[1;36m1990\u001b[0m-\u001b[1;36m10\u001b[0m-29T\u001b[1;92m12:00:00\u001b[0mZ\r"
      ]
     },
     "metadata": {},
     "output_type": "display_data"
    },
    {
     "data": {
      "text/html": [
       "<pre style=\"white-space:pre;overflow-x:auto;line-height:normal;font-family:Menlo,'DejaVu Sans Mono',consolas,'Courier New',monospace\"><span style=\"color: #008080; text-decoration-color: #008080; font-weight: bold\">1990</span>-<span style=\"color: #008080; text-decoration-color: #008080; font-weight: bold\">10</span>-30T<span style=\"color: #00ff00; text-decoration-color: #00ff00; font-weight: bold\">12:00:00</span>Z\r",
       "</pre>\n"
      ],
      "text/plain": [
       "\u001b[1;36m1990\u001b[0m-\u001b[1;36m10\u001b[0m-30T\u001b[1;92m12:00:00\u001b[0mZ\r"
      ]
     },
     "metadata": {},
     "output_type": "display_data"
    },
    {
     "data": {
      "text/html": [
       "<pre style=\"white-space:pre;overflow-x:auto;line-height:normal;font-family:Menlo,'DejaVu Sans Mono',consolas,'Courier New',monospace\"><span style=\"color: #008080; text-decoration-color: #008080; font-weight: bold\">1990</span>-<span style=\"color: #008080; text-decoration-color: #008080; font-weight: bold\">10</span>-31T<span style=\"color: #00ff00; text-decoration-color: #00ff00; font-weight: bold\">12:00:00</span>Z\r",
       "</pre>\n"
      ],
      "text/plain": [
       "\u001b[1;36m1990\u001b[0m-\u001b[1;36m10\u001b[0m-31T\u001b[1;92m12:00:00\u001b[0mZ\r"
      ]
     },
     "metadata": {},
     "output_type": "display_data"
    },
    {
     "data": {
      "text/html": [
       "<pre style=\"white-space:pre;overflow-x:auto;line-height:normal;font-family:Menlo,'DejaVu Sans Mono',consolas,'Courier New',monospace\"><span style=\"color: #008080; text-decoration-color: #008080; font-weight: bold\">1990</span>-<span style=\"color: #008080; text-decoration-color: #008080; font-weight: bold\">11</span>-01T<span style=\"color: #00ff00; text-decoration-color: #00ff00; font-weight: bold\">12:00:00</span>Z\r",
       "</pre>\n"
      ],
      "text/plain": [
       "\u001b[1;36m1990\u001b[0m-\u001b[1;36m11\u001b[0m-01T\u001b[1;92m12:00:00\u001b[0mZ\r"
      ]
     },
     "metadata": {},
     "output_type": "display_data"
    },
    {
     "data": {
      "text/html": [
       "<pre style=\"white-space:pre;overflow-x:auto;line-height:normal;font-family:Menlo,'DejaVu Sans Mono',consolas,'Courier New',monospace\"><span style=\"color: #008080; text-decoration-color: #008080; font-weight: bold\">1990</span>-<span style=\"color: #008080; text-decoration-color: #008080; font-weight: bold\">11</span>-02T<span style=\"color: #00ff00; text-decoration-color: #00ff00; font-weight: bold\">12:00:00</span>Z\r",
       "</pre>\n"
      ],
      "text/plain": [
       "\u001b[1;36m1990\u001b[0m-\u001b[1;36m11\u001b[0m-02T\u001b[1;92m12:00:00\u001b[0mZ\r"
      ]
     },
     "metadata": {},
     "output_type": "display_data"
    },
    {
     "data": {
      "text/html": [
       "<pre style=\"white-space:pre;overflow-x:auto;line-height:normal;font-family:Menlo,'DejaVu Sans Mono',consolas,'Courier New',monospace\"><span style=\"color: #008080; text-decoration-color: #008080; font-weight: bold\">1990</span>-<span style=\"color: #008080; text-decoration-color: #008080; font-weight: bold\">11</span>-03T<span style=\"color: #00ff00; text-decoration-color: #00ff00; font-weight: bold\">12:00:00</span>Z\r",
       "</pre>\n"
      ],
      "text/plain": [
       "\u001b[1;36m1990\u001b[0m-\u001b[1;36m11\u001b[0m-03T\u001b[1;92m12:00:00\u001b[0mZ\r"
      ]
     },
     "metadata": {},
     "output_type": "display_data"
    },
    {
     "data": {
      "text/html": [
       "<pre style=\"white-space:pre;overflow-x:auto;line-height:normal;font-family:Menlo,'DejaVu Sans Mono',consolas,'Courier New',monospace\"><span style=\"color: #008080; text-decoration-color: #008080; font-weight: bold\">1990</span>-<span style=\"color: #008080; text-decoration-color: #008080; font-weight: bold\">11</span>-04T<span style=\"color: #00ff00; text-decoration-color: #00ff00; font-weight: bold\">12:00:00</span>Z\r",
       "</pre>\n"
      ],
      "text/plain": [
       "\u001b[1;36m1990\u001b[0m-\u001b[1;36m11\u001b[0m-04T\u001b[1;92m12:00:00\u001b[0mZ\r"
      ]
     },
     "metadata": {},
     "output_type": "display_data"
    },
    {
     "data": {
      "text/html": [
       "<pre style=\"white-space:pre;overflow-x:auto;line-height:normal;font-family:Menlo,'DejaVu Sans Mono',consolas,'Courier New',monospace\"><span style=\"color: #008080; text-decoration-color: #008080; font-weight: bold\">1990</span>-<span style=\"color: #008080; text-decoration-color: #008080; font-weight: bold\">11</span>-05T<span style=\"color: #00ff00; text-decoration-color: #00ff00; font-weight: bold\">12:00:00</span>Z\r",
       "</pre>\n"
      ],
      "text/plain": [
       "\u001b[1;36m1990\u001b[0m-\u001b[1;36m11\u001b[0m-05T\u001b[1;92m12:00:00\u001b[0mZ\r"
      ]
     },
     "metadata": {},
     "output_type": "display_data"
    },
    {
     "data": {
      "text/html": [
       "<pre style=\"white-space:pre;overflow-x:auto;line-height:normal;font-family:Menlo,'DejaVu Sans Mono',consolas,'Courier New',monospace\"><span style=\"color: #008080; text-decoration-color: #008080; font-weight: bold\">1990</span>-<span style=\"color: #008080; text-decoration-color: #008080; font-weight: bold\">11</span>-06T<span style=\"color: #00ff00; text-decoration-color: #00ff00; font-weight: bold\">12:00:00</span>Z\r",
       "</pre>\n"
      ],
      "text/plain": [
       "\u001b[1;36m1990\u001b[0m-\u001b[1;36m11\u001b[0m-06T\u001b[1;92m12:00:00\u001b[0mZ\r"
      ]
     },
     "metadata": {},
     "output_type": "display_data"
    },
    {
     "data": {
      "text/html": [
       "<pre style=\"white-space:pre;overflow-x:auto;line-height:normal;font-family:Menlo,'DejaVu Sans Mono',consolas,'Courier New',monospace\"><span style=\"color: #008080; text-decoration-color: #008080; font-weight: bold\">1990</span>-<span style=\"color: #008080; text-decoration-color: #008080; font-weight: bold\">11</span>-07T<span style=\"color: #00ff00; text-decoration-color: #00ff00; font-weight: bold\">12:00:00</span>Z\r",
       "</pre>\n"
      ],
      "text/plain": [
       "\u001b[1;36m1990\u001b[0m-\u001b[1;36m11\u001b[0m-07T\u001b[1;92m12:00:00\u001b[0mZ\r"
      ]
     },
     "metadata": {},
     "output_type": "display_data"
    },
    {
     "data": {
      "text/html": [
       "<pre style=\"white-space:pre;overflow-x:auto;line-height:normal;font-family:Menlo,'DejaVu Sans Mono',consolas,'Courier New',monospace\"><span style=\"color: #008080; text-decoration-color: #008080; font-weight: bold\">1990</span>-<span style=\"color: #008080; text-decoration-color: #008080; font-weight: bold\">11</span>-08T<span style=\"color: #00ff00; text-decoration-color: #00ff00; font-weight: bold\">12:00:00</span>Z\r",
       "</pre>\n"
      ],
      "text/plain": [
       "\u001b[1;36m1990\u001b[0m-\u001b[1;36m11\u001b[0m-08T\u001b[1;92m12:00:00\u001b[0mZ\r"
      ]
     },
     "metadata": {},
     "output_type": "display_data"
    },
    {
     "data": {
      "text/html": [
       "<pre style=\"white-space:pre;overflow-x:auto;line-height:normal;font-family:Menlo,'DejaVu Sans Mono',consolas,'Courier New',monospace\"><span style=\"color: #008080; text-decoration-color: #008080; font-weight: bold\">1990</span>-<span style=\"color: #008080; text-decoration-color: #008080; font-weight: bold\">11</span>-09T<span style=\"color: #00ff00; text-decoration-color: #00ff00; font-weight: bold\">12:00:00</span>Z\r",
       "</pre>\n"
      ],
      "text/plain": [
       "\u001b[1;36m1990\u001b[0m-\u001b[1;36m11\u001b[0m-09T\u001b[1;92m12:00:00\u001b[0mZ\r"
      ]
     },
     "metadata": {},
     "output_type": "display_data"
    },
    {
     "data": {
      "text/html": [
       "<pre style=\"white-space:pre;overflow-x:auto;line-height:normal;font-family:Menlo,'DejaVu Sans Mono',consolas,'Courier New',monospace\"><span style=\"color: #008080; text-decoration-color: #008080; font-weight: bold\">1990</span>-<span style=\"color: #008080; text-decoration-color: #008080; font-weight: bold\">11</span>-10T<span style=\"color: #00ff00; text-decoration-color: #00ff00; font-weight: bold\">12:00:00</span>Z\r",
       "</pre>\n"
      ],
      "text/plain": [
       "\u001b[1;36m1990\u001b[0m-\u001b[1;36m11\u001b[0m-10T\u001b[1;92m12:00:00\u001b[0mZ\r"
      ]
     },
     "metadata": {},
     "output_type": "display_data"
    },
    {
     "data": {
      "text/html": [
       "<pre style=\"white-space:pre;overflow-x:auto;line-height:normal;font-family:Menlo,'DejaVu Sans Mono',consolas,'Courier New',monospace\"><span style=\"color: #008080; text-decoration-color: #008080; font-weight: bold\">1990</span>-<span style=\"color: #008080; text-decoration-color: #008080; font-weight: bold\">11</span>-11T<span style=\"color: #00ff00; text-decoration-color: #00ff00; font-weight: bold\">12:00:00</span>Z\r",
       "</pre>\n"
      ],
      "text/plain": [
       "\u001b[1;36m1990\u001b[0m-\u001b[1;36m11\u001b[0m-11T\u001b[1;92m12:00:00\u001b[0mZ\r"
      ]
     },
     "metadata": {},
     "output_type": "display_data"
    },
    {
     "data": {
      "text/html": [
       "<pre style=\"white-space:pre;overflow-x:auto;line-height:normal;font-family:Menlo,'DejaVu Sans Mono',consolas,'Courier New',monospace\"><span style=\"color: #008080; text-decoration-color: #008080; font-weight: bold\">1990</span>-<span style=\"color: #008080; text-decoration-color: #008080; font-weight: bold\">11</span>-12T<span style=\"color: #00ff00; text-decoration-color: #00ff00; font-weight: bold\">12:00:00</span>Z\r",
       "</pre>\n"
      ],
      "text/plain": [
       "\u001b[1;36m1990\u001b[0m-\u001b[1;36m11\u001b[0m-12T\u001b[1;92m12:00:00\u001b[0mZ\r"
      ]
     },
     "metadata": {},
     "output_type": "display_data"
    },
    {
     "data": {
      "text/html": [
       "<pre style=\"white-space:pre;overflow-x:auto;line-height:normal;font-family:Menlo,'DejaVu Sans Mono',consolas,'Courier New',monospace\"><span style=\"color: #008080; text-decoration-color: #008080; font-weight: bold\">1990</span>-<span style=\"color: #008080; text-decoration-color: #008080; font-weight: bold\">11</span>-13T<span style=\"color: #00ff00; text-decoration-color: #00ff00; font-weight: bold\">12:00:00</span>Z\r",
       "</pre>\n"
      ],
      "text/plain": [
       "\u001b[1;36m1990\u001b[0m-\u001b[1;36m11\u001b[0m-13T\u001b[1;92m12:00:00\u001b[0mZ\r"
      ]
     },
     "metadata": {},
     "output_type": "display_data"
    },
    {
     "data": {
      "text/html": [
       "<pre style=\"white-space:pre;overflow-x:auto;line-height:normal;font-family:Menlo,'DejaVu Sans Mono',consolas,'Courier New',monospace\"><span style=\"color: #008080; text-decoration-color: #008080; font-weight: bold\">1990</span>-<span style=\"color: #008080; text-decoration-color: #008080; font-weight: bold\">11</span>-14T<span style=\"color: #00ff00; text-decoration-color: #00ff00; font-weight: bold\">12:00:00</span>Z\r",
       "</pre>\n"
      ],
      "text/plain": [
       "\u001b[1;36m1990\u001b[0m-\u001b[1;36m11\u001b[0m-14T\u001b[1;92m12:00:00\u001b[0mZ\r"
      ]
     },
     "metadata": {},
     "output_type": "display_data"
    },
    {
     "data": {
      "text/html": [
       "<pre style=\"white-space:pre;overflow-x:auto;line-height:normal;font-family:Menlo,'DejaVu Sans Mono',consolas,'Courier New',monospace\"><span style=\"color: #008080; text-decoration-color: #008080; font-weight: bold\">1990</span>-<span style=\"color: #008080; text-decoration-color: #008080; font-weight: bold\">11</span>-15T<span style=\"color: #00ff00; text-decoration-color: #00ff00; font-weight: bold\">12:00:00</span>Z\r",
       "</pre>\n"
      ],
      "text/plain": [
       "\u001b[1;36m1990\u001b[0m-\u001b[1;36m11\u001b[0m-15T\u001b[1;92m12:00:00\u001b[0mZ\r"
      ]
     },
     "metadata": {},
     "output_type": "display_data"
    },
    {
     "data": {
      "text/html": [
       "<pre style=\"white-space:pre;overflow-x:auto;line-height:normal;font-family:Menlo,'DejaVu Sans Mono',consolas,'Courier New',monospace\"><span style=\"color: #008080; text-decoration-color: #008080; font-weight: bold\">1990</span>-<span style=\"color: #008080; text-decoration-color: #008080; font-weight: bold\">11</span>-16T<span style=\"color: #00ff00; text-decoration-color: #00ff00; font-weight: bold\">12:00:00</span>Z\r",
       "</pre>\n"
      ],
      "text/plain": [
       "\u001b[1;36m1990\u001b[0m-\u001b[1;36m11\u001b[0m-16T\u001b[1;92m12:00:00\u001b[0mZ\r"
      ]
     },
     "metadata": {},
     "output_type": "display_data"
    },
    {
     "data": {
      "text/html": [
       "<pre style=\"white-space:pre;overflow-x:auto;line-height:normal;font-family:Menlo,'DejaVu Sans Mono',consolas,'Courier New',monospace\"><span style=\"color: #008080; text-decoration-color: #008080; font-weight: bold\">1990</span>-<span style=\"color: #008080; text-decoration-color: #008080; font-weight: bold\">11</span>-17T<span style=\"color: #00ff00; text-decoration-color: #00ff00; font-weight: bold\">12:00:00</span>Z\r",
       "</pre>\n"
      ],
      "text/plain": [
       "\u001b[1;36m1990\u001b[0m-\u001b[1;36m11\u001b[0m-17T\u001b[1;92m12:00:00\u001b[0mZ\r"
      ]
     },
     "metadata": {},
     "output_type": "display_data"
    },
    {
     "data": {
      "text/html": [
       "<pre style=\"white-space:pre;overflow-x:auto;line-height:normal;font-family:Menlo,'DejaVu Sans Mono',consolas,'Courier New',monospace\"><span style=\"color: #008080; text-decoration-color: #008080; font-weight: bold\">1990</span>-<span style=\"color: #008080; text-decoration-color: #008080; font-weight: bold\">11</span>-18T<span style=\"color: #00ff00; text-decoration-color: #00ff00; font-weight: bold\">12:00:00</span>Z\r",
       "</pre>\n"
      ],
      "text/plain": [
       "\u001b[1;36m1990\u001b[0m-\u001b[1;36m11\u001b[0m-18T\u001b[1;92m12:00:00\u001b[0mZ\r"
      ]
     },
     "metadata": {},
     "output_type": "display_data"
    },
    {
     "data": {
      "text/html": [
       "<pre style=\"white-space:pre;overflow-x:auto;line-height:normal;font-family:Menlo,'DejaVu Sans Mono',consolas,'Courier New',monospace\"><span style=\"color: #008080; text-decoration-color: #008080; font-weight: bold\">1990</span>-<span style=\"color: #008080; text-decoration-color: #008080; font-weight: bold\">11</span>-19T<span style=\"color: #00ff00; text-decoration-color: #00ff00; font-weight: bold\">12:00:00</span>Z\r",
       "</pre>\n"
      ],
      "text/plain": [
       "\u001b[1;36m1990\u001b[0m-\u001b[1;36m11\u001b[0m-19T\u001b[1;92m12:00:00\u001b[0mZ\r"
      ]
     },
     "metadata": {},
     "output_type": "display_data"
    },
    {
     "data": {
      "text/html": [
       "<pre style=\"white-space:pre;overflow-x:auto;line-height:normal;font-family:Menlo,'DejaVu Sans Mono',consolas,'Courier New',monospace\"><span style=\"color: #008080; text-decoration-color: #008080; font-weight: bold\">1990</span>-<span style=\"color: #008080; text-decoration-color: #008080; font-weight: bold\">11</span>-20T<span style=\"color: #00ff00; text-decoration-color: #00ff00; font-weight: bold\">12:00:00</span>Z\r",
       "</pre>\n"
      ],
      "text/plain": [
       "\u001b[1;36m1990\u001b[0m-\u001b[1;36m11\u001b[0m-20T\u001b[1;92m12:00:00\u001b[0mZ\r"
      ]
     },
     "metadata": {},
     "output_type": "display_data"
    },
    {
     "data": {
      "text/html": [
       "<pre style=\"white-space:pre;overflow-x:auto;line-height:normal;font-family:Menlo,'DejaVu Sans Mono',consolas,'Courier New',monospace\"><span style=\"color: #008080; text-decoration-color: #008080; font-weight: bold\">1990</span>-<span style=\"color: #008080; text-decoration-color: #008080; font-weight: bold\">11</span>-21T<span style=\"color: #00ff00; text-decoration-color: #00ff00; font-weight: bold\">12:00:00</span>Z\r",
       "</pre>\n"
      ],
      "text/plain": [
       "\u001b[1;36m1990\u001b[0m-\u001b[1;36m11\u001b[0m-21T\u001b[1;92m12:00:00\u001b[0mZ\r"
      ]
     },
     "metadata": {},
     "output_type": "display_data"
    },
    {
     "data": {
      "text/html": [
       "<pre style=\"white-space:pre;overflow-x:auto;line-height:normal;font-family:Menlo,'DejaVu Sans Mono',consolas,'Courier New',monospace\"><span style=\"color: #008080; text-decoration-color: #008080; font-weight: bold\">1990</span>-<span style=\"color: #008080; text-decoration-color: #008080; font-weight: bold\">11</span>-22T<span style=\"color: #00ff00; text-decoration-color: #00ff00; font-weight: bold\">12:00:00</span>Z\r",
       "</pre>\n"
      ],
      "text/plain": [
       "\u001b[1;36m1990\u001b[0m-\u001b[1;36m11\u001b[0m-22T\u001b[1;92m12:00:00\u001b[0mZ\r"
      ]
     },
     "metadata": {},
     "output_type": "display_data"
    },
    {
     "data": {
      "text/html": [
       "<pre style=\"white-space:pre;overflow-x:auto;line-height:normal;font-family:Menlo,'DejaVu Sans Mono',consolas,'Courier New',monospace\"><span style=\"color: #008080; text-decoration-color: #008080; font-weight: bold\">1990</span>-<span style=\"color: #008080; text-decoration-color: #008080; font-weight: bold\">11</span>-23T<span style=\"color: #00ff00; text-decoration-color: #00ff00; font-weight: bold\">12:00:00</span>Z\r",
       "</pre>\n"
      ],
      "text/plain": [
       "\u001b[1;36m1990\u001b[0m-\u001b[1;36m11\u001b[0m-23T\u001b[1;92m12:00:00\u001b[0mZ\r"
      ]
     },
     "metadata": {},
     "output_type": "display_data"
    },
    {
     "data": {
      "text/html": [
       "<pre style=\"white-space:pre;overflow-x:auto;line-height:normal;font-family:Menlo,'DejaVu Sans Mono',consolas,'Courier New',monospace\"><span style=\"color: #008080; text-decoration-color: #008080; font-weight: bold\">1990</span>-<span style=\"color: #008080; text-decoration-color: #008080; font-weight: bold\">11</span>-24T<span style=\"color: #00ff00; text-decoration-color: #00ff00; font-weight: bold\">12:00:00</span>Z\r",
       "</pre>\n"
      ],
      "text/plain": [
       "\u001b[1;36m1990\u001b[0m-\u001b[1;36m11\u001b[0m-24T\u001b[1;92m12:00:00\u001b[0mZ\r"
      ]
     },
     "metadata": {},
     "output_type": "display_data"
    },
    {
     "data": {
      "text/html": [
       "<pre style=\"white-space:pre;overflow-x:auto;line-height:normal;font-family:Menlo,'DejaVu Sans Mono',consolas,'Courier New',monospace\"><span style=\"color: #008080; text-decoration-color: #008080; font-weight: bold\">1990</span>-<span style=\"color: #008080; text-decoration-color: #008080; font-weight: bold\">11</span>-25T<span style=\"color: #00ff00; text-decoration-color: #00ff00; font-weight: bold\">12:00:00</span>Z\r",
       "</pre>\n"
      ],
      "text/plain": [
       "\u001b[1;36m1990\u001b[0m-\u001b[1;36m11\u001b[0m-25T\u001b[1;92m12:00:00\u001b[0mZ\r"
      ]
     },
     "metadata": {},
     "output_type": "display_data"
    },
    {
     "data": {
      "text/html": [
       "<pre style=\"white-space:pre;overflow-x:auto;line-height:normal;font-family:Menlo,'DejaVu Sans Mono',consolas,'Courier New',monospace\"><span style=\"color: #008080; text-decoration-color: #008080; font-weight: bold\">1990</span>-<span style=\"color: #008080; text-decoration-color: #008080; font-weight: bold\">11</span>-26T<span style=\"color: #00ff00; text-decoration-color: #00ff00; font-weight: bold\">12:00:00</span>Z\r",
       "</pre>\n"
      ],
      "text/plain": [
       "\u001b[1;36m1990\u001b[0m-\u001b[1;36m11\u001b[0m-26T\u001b[1;92m12:00:00\u001b[0mZ\r"
      ]
     },
     "metadata": {},
     "output_type": "display_data"
    },
    {
     "data": {
      "text/html": [
       "<pre style=\"white-space:pre;overflow-x:auto;line-height:normal;font-family:Menlo,'DejaVu Sans Mono',consolas,'Courier New',monospace\"><span style=\"color: #008080; text-decoration-color: #008080; font-weight: bold\">1990</span>-<span style=\"color: #008080; text-decoration-color: #008080; font-weight: bold\">11</span>-27T<span style=\"color: #00ff00; text-decoration-color: #00ff00; font-weight: bold\">12:00:00</span>Z\r",
       "</pre>\n"
      ],
      "text/plain": [
       "\u001b[1;36m1990\u001b[0m-\u001b[1;36m11\u001b[0m-27T\u001b[1;92m12:00:00\u001b[0mZ\r"
      ]
     },
     "metadata": {},
     "output_type": "display_data"
    },
    {
     "data": {
      "text/html": [
       "<pre style=\"white-space:pre;overflow-x:auto;line-height:normal;font-family:Menlo,'DejaVu Sans Mono',consolas,'Courier New',monospace\"><span style=\"color: #008080; text-decoration-color: #008080; font-weight: bold\">1990</span>-<span style=\"color: #008080; text-decoration-color: #008080; font-weight: bold\">11</span>-28T<span style=\"color: #00ff00; text-decoration-color: #00ff00; font-weight: bold\">12:00:00</span>Z\r",
       "</pre>\n"
      ],
      "text/plain": [
       "\u001b[1;36m1990\u001b[0m-\u001b[1;36m11\u001b[0m-28T\u001b[1;92m12:00:00\u001b[0mZ\r"
      ]
     },
     "metadata": {},
     "output_type": "display_data"
    },
    {
     "data": {
      "text/html": [
       "<pre style=\"white-space:pre;overflow-x:auto;line-height:normal;font-family:Menlo,'DejaVu Sans Mono',consolas,'Courier New',monospace\"><span style=\"color: #008080; text-decoration-color: #008080; font-weight: bold\">1990</span>-<span style=\"color: #008080; text-decoration-color: #008080; font-weight: bold\">11</span>-29T<span style=\"color: #00ff00; text-decoration-color: #00ff00; font-weight: bold\">12:00:00</span>Z\r",
       "</pre>\n"
      ],
      "text/plain": [
       "\u001b[1;36m1990\u001b[0m-\u001b[1;36m11\u001b[0m-29T\u001b[1;92m12:00:00\u001b[0mZ\r"
      ]
     },
     "metadata": {},
     "output_type": "display_data"
    },
    {
     "data": {
      "text/html": [
       "<pre style=\"white-space:pre;overflow-x:auto;line-height:normal;font-family:Menlo,'DejaVu Sans Mono',consolas,'Courier New',monospace\"><span style=\"color: #008080; text-decoration-color: #008080; font-weight: bold\">1990</span>-<span style=\"color: #008080; text-decoration-color: #008080; font-weight: bold\">11</span>-30T<span style=\"color: #00ff00; text-decoration-color: #00ff00; font-weight: bold\">12:00:00</span>Z\r",
       "</pre>\n"
      ],
      "text/plain": [
       "\u001b[1;36m1990\u001b[0m-\u001b[1;36m11\u001b[0m-30T\u001b[1;92m12:00:00\u001b[0mZ\r"
      ]
     },
     "metadata": {},
     "output_type": "display_data"
    },
    {
     "data": {
      "text/html": [
       "<pre style=\"white-space:pre;overflow-x:auto;line-height:normal;font-family:Menlo,'DejaVu Sans Mono',consolas,'Courier New',monospace\"><span style=\"color: #008080; text-decoration-color: #008080; font-weight: bold\">1990</span>-<span style=\"color: #008080; text-decoration-color: #008080; font-weight: bold\">12</span>-01T<span style=\"color: #00ff00; text-decoration-color: #00ff00; font-weight: bold\">12:00:00</span>Z\r",
       "</pre>\n"
      ],
      "text/plain": [
       "\u001b[1;36m1990\u001b[0m-\u001b[1;36m12\u001b[0m-01T\u001b[1;92m12:00:00\u001b[0mZ\r"
      ]
     },
     "metadata": {},
     "output_type": "display_data"
    },
    {
     "data": {
      "text/html": [
       "<pre style=\"white-space:pre;overflow-x:auto;line-height:normal;font-family:Menlo,'DejaVu Sans Mono',consolas,'Courier New',monospace\"><span style=\"color: #008080; text-decoration-color: #008080; font-weight: bold\">1990</span>-<span style=\"color: #008080; text-decoration-color: #008080; font-weight: bold\">12</span>-02T<span style=\"color: #00ff00; text-decoration-color: #00ff00; font-weight: bold\">12:00:00</span>Z\r",
       "</pre>\n"
      ],
      "text/plain": [
       "\u001b[1;36m1990\u001b[0m-\u001b[1;36m12\u001b[0m-02T\u001b[1;92m12:00:00\u001b[0mZ\r"
      ]
     },
     "metadata": {},
     "output_type": "display_data"
    },
    {
     "data": {
      "text/html": [
       "<pre style=\"white-space:pre;overflow-x:auto;line-height:normal;font-family:Menlo,'DejaVu Sans Mono',consolas,'Courier New',monospace\"><span style=\"color: #008080; text-decoration-color: #008080; font-weight: bold\">1990</span>-<span style=\"color: #008080; text-decoration-color: #008080; font-weight: bold\">12</span>-03T<span style=\"color: #00ff00; text-decoration-color: #00ff00; font-weight: bold\">12:00:00</span>Z\r",
       "</pre>\n"
      ],
      "text/plain": [
       "\u001b[1;36m1990\u001b[0m-\u001b[1;36m12\u001b[0m-03T\u001b[1;92m12:00:00\u001b[0mZ\r"
      ]
     },
     "metadata": {},
     "output_type": "display_data"
    },
    {
     "data": {
      "text/html": [
       "<pre style=\"white-space:pre;overflow-x:auto;line-height:normal;font-family:Menlo,'DejaVu Sans Mono',consolas,'Courier New',monospace\"><span style=\"color: #008080; text-decoration-color: #008080; font-weight: bold\">1990</span>-<span style=\"color: #008080; text-decoration-color: #008080; font-weight: bold\">12</span>-04T<span style=\"color: #00ff00; text-decoration-color: #00ff00; font-weight: bold\">12:00:00</span>Z\r",
       "</pre>\n"
      ],
      "text/plain": [
       "\u001b[1;36m1990\u001b[0m-\u001b[1;36m12\u001b[0m-04T\u001b[1;92m12:00:00\u001b[0mZ\r"
      ]
     },
     "metadata": {},
     "output_type": "display_data"
    },
    {
     "data": {
      "text/html": [
       "<pre style=\"white-space:pre;overflow-x:auto;line-height:normal;font-family:Menlo,'DejaVu Sans Mono',consolas,'Courier New',monospace\"><span style=\"color: #008080; text-decoration-color: #008080; font-weight: bold\">1990</span>-<span style=\"color: #008080; text-decoration-color: #008080; font-weight: bold\">12</span>-05T<span style=\"color: #00ff00; text-decoration-color: #00ff00; font-weight: bold\">12:00:00</span>Z\r",
       "</pre>\n"
      ],
      "text/plain": [
       "\u001b[1;36m1990\u001b[0m-\u001b[1;36m12\u001b[0m-05T\u001b[1;92m12:00:00\u001b[0mZ\r"
      ]
     },
     "metadata": {},
     "output_type": "display_data"
    },
    {
     "data": {
      "text/html": [
       "<pre style=\"white-space:pre;overflow-x:auto;line-height:normal;font-family:Menlo,'DejaVu Sans Mono',consolas,'Courier New',monospace\"><span style=\"color: #008080; text-decoration-color: #008080; font-weight: bold\">1990</span>-<span style=\"color: #008080; text-decoration-color: #008080; font-weight: bold\">12</span>-06T<span style=\"color: #00ff00; text-decoration-color: #00ff00; font-weight: bold\">12:00:00</span>Z\r",
       "</pre>\n"
      ],
      "text/plain": [
       "\u001b[1;36m1990\u001b[0m-\u001b[1;36m12\u001b[0m-06T\u001b[1;92m12:00:00\u001b[0mZ\r"
      ]
     },
     "metadata": {},
     "output_type": "display_data"
    },
    {
     "data": {
      "text/html": [
       "<pre style=\"white-space:pre;overflow-x:auto;line-height:normal;font-family:Menlo,'DejaVu Sans Mono',consolas,'Courier New',monospace\"><span style=\"color: #008080; text-decoration-color: #008080; font-weight: bold\">1990</span>-<span style=\"color: #008080; text-decoration-color: #008080; font-weight: bold\">12</span>-07T<span style=\"color: #00ff00; text-decoration-color: #00ff00; font-weight: bold\">12:00:00</span>Z\r",
       "</pre>\n"
      ],
      "text/plain": [
       "\u001b[1;36m1990\u001b[0m-\u001b[1;36m12\u001b[0m-07T\u001b[1;92m12:00:00\u001b[0mZ\r"
      ]
     },
     "metadata": {},
     "output_type": "display_data"
    },
    {
     "data": {
      "text/html": [
       "<pre style=\"white-space:pre;overflow-x:auto;line-height:normal;font-family:Menlo,'DejaVu Sans Mono',consolas,'Courier New',monospace\"><span style=\"color: #008080; text-decoration-color: #008080; font-weight: bold\">1990</span>-<span style=\"color: #008080; text-decoration-color: #008080; font-weight: bold\">12</span>-08T<span style=\"color: #00ff00; text-decoration-color: #00ff00; font-weight: bold\">12:00:00</span>Z\r",
       "</pre>\n"
      ],
      "text/plain": [
       "\u001b[1;36m1990\u001b[0m-\u001b[1;36m12\u001b[0m-08T\u001b[1;92m12:00:00\u001b[0mZ\r"
      ]
     },
     "metadata": {},
     "output_type": "display_data"
    },
    {
     "data": {
      "text/html": [
       "<pre style=\"white-space:pre;overflow-x:auto;line-height:normal;font-family:Menlo,'DejaVu Sans Mono',consolas,'Courier New',monospace\"><span style=\"color: #008080; text-decoration-color: #008080; font-weight: bold\">1990</span>-<span style=\"color: #008080; text-decoration-color: #008080; font-weight: bold\">12</span>-09T<span style=\"color: #00ff00; text-decoration-color: #00ff00; font-weight: bold\">12:00:00</span>Z\r",
       "</pre>\n"
      ],
      "text/plain": [
       "\u001b[1;36m1990\u001b[0m-\u001b[1;36m12\u001b[0m-09T\u001b[1;92m12:00:00\u001b[0mZ\r"
      ]
     },
     "metadata": {},
     "output_type": "display_data"
    },
    {
     "data": {
      "text/html": [
       "<pre style=\"white-space:pre;overflow-x:auto;line-height:normal;font-family:Menlo,'DejaVu Sans Mono',consolas,'Courier New',monospace\"><span style=\"color: #008080; text-decoration-color: #008080; font-weight: bold\">1990</span>-<span style=\"color: #008080; text-decoration-color: #008080; font-weight: bold\">12</span>-10T<span style=\"color: #00ff00; text-decoration-color: #00ff00; font-weight: bold\">12:00:00</span>Z\r",
       "</pre>\n"
      ],
      "text/plain": [
       "\u001b[1;36m1990\u001b[0m-\u001b[1;36m12\u001b[0m-10T\u001b[1;92m12:00:00\u001b[0mZ\r"
      ]
     },
     "metadata": {},
     "output_type": "display_data"
    },
    {
     "data": {
      "text/html": [
       "<pre style=\"white-space:pre;overflow-x:auto;line-height:normal;font-family:Menlo,'DejaVu Sans Mono',consolas,'Courier New',monospace\"><span style=\"color: #008080; text-decoration-color: #008080; font-weight: bold\">1990</span>-<span style=\"color: #008080; text-decoration-color: #008080; font-weight: bold\">12</span>-11T<span style=\"color: #00ff00; text-decoration-color: #00ff00; font-weight: bold\">12:00:00</span>Z\r",
       "</pre>\n"
      ],
      "text/plain": [
       "\u001b[1;36m1990\u001b[0m-\u001b[1;36m12\u001b[0m-11T\u001b[1;92m12:00:00\u001b[0mZ\r"
      ]
     },
     "metadata": {},
     "output_type": "display_data"
    },
    {
     "data": {
      "text/html": [
       "<pre style=\"white-space:pre;overflow-x:auto;line-height:normal;font-family:Menlo,'DejaVu Sans Mono',consolas,'Courier New',monospace\"><span style=\"color: #008080; text-decoration-color: #008080; font-weight: bold\">1990</span>-<span style=\"color: #008080; text-decoration-color: #008080; font-weight: bold\">12</span>-12T<span style=\"color: #00ff00; text-decoration-color: #00ff00; font-weight: bold\">12:00:00</span>Z\r",
       "</pre>\n"
      ],
      "text/plain": [
       "\u001b[1;36m1990\u001b[0m-\u001b[1;36m12\u001b[0m-12T\u001b[1;92m12:00:00\u001b[0mZ\r"
      ]
     },
     "metadata": {},
     "output_type": "display_data"
    },
    {
     "data": {
      "text/html": [
       "<pre style=\"white-space:pre;overflow-x:auto;line-height:normal;font-family:Menlo,'DejaVu Sans Mono',consolas,'Courier New',monospace\"><span style=\"color: #008080; text-decoration-color: #008080; font-weight: bold\">1990</span>-<span style=\"color: #008080; text-decoration-color: #008080; font-weight: bold\">12</span>-13T<span style=\"color: #00ff00; text-decoration-color: #00ff00; font-weight: bold\">12:00:00</span>Z\r",
       "</pre>\n"
      ],
      "text/plain": [
       "\u001b[1;36m1990\u001b[0m-\u001b[1;36m12\u001b[0m-13T\u001b[1;92m12:00:00\u001b[0mZ\r"
      ]
     },
     "metadata": {},
     "output_type": "display_data"
    },
    {
     "data": {
      "text/html": [
       "<pre style=\"white-space:pre;overflow-x:auto;line-height:normal;font-family:Menlo,'DejaVu Sans Mono',consolas,'Courier New',monospace\"><span style=\"color: #008080; text-decoration-color: #008080; font-weight: bold\">1990</span>-<span style=\"color: #008080; text-decoration-color: #008080; font-weight: bold\">12</span>-14T<span style=\"color: #00ff00; text-decoration-color: #00ff00; font-weight: bold\">12:00:00</span>Z\r",
       "</pre>\n"
      ],
      "text/plain": [
       "\u001b[1;36m1990\u001b[0m-\u001b[1;36m12\u001b[0m-14T\u001b[1;92m12:00:00\u001b[0mZ\r"
      ]
     },
     "metadata": {},
     "output_type": "display_data"
    },
    {
     "data": {
      "text/html": [
       "<pre style=\"white-space:pre;overflow-x:auto;line-height:normal;font-family:Menlo,'DejaVu Sans Mono',consolas,'Courier New',monospace\"><span style=\"color: #008080; text-decoration-color: #008080; font-weight: bold\">1990</span>-<span style=\"color: #008080; text-decoration-color: #008080; font-weight: bold\">12</span>-15T<span style=\"color: #00ff00; text-decoration-color: #00ff00; font-weight: bold\">12:00:00</span>Z\r",
       "</pre>\n"
      ],
      "text/plain": [
       "\u001b[1;36m1990\u001b[0m-\u001b[1;36m12\u001b[0m-15T\u001b[1;92m12:00:00\u001b[0mZ\r"
      ]
     },
     "metadata": {},
     "output_type": "display_data"
    },
    {
     "data": {
      "text/html": [
       "<pre style=\"white-space:pre;overflow-x:auto;line-height:normal;font-family:Menlo,'DejaVu Sans Mono',consolas,'Courier New',monospace\"><span style=\"color: #008080; text-decoration-color: #008080; font-weight: bold\">1990</span>-<span style=\"color: #008080; text-decoration-color: #008080; font-weight: bold\">12</span>-16T<span style=\"color: #00ff00; text-decoration-color: #00ff00; font-weight: bold\">12:00:00</span>Z\r",
       "</pre>\n"
      ],
      "text/plain": [
       "\u001b[1;36m1990\u001b[0m-\u001b[1;36m12\u001b[0m-16T\u001b[1;92m12:00:00\u001b[0mZ\r"
      ]
     },
     "metadata": {},
     "output_type": "display_data"
    },
    {
     "data": {
      "text/html": [
       "<pre style=\"white-space:pre;overflow-x:auto;line-height:normal;font-family:Menlo,'DejaVu Sans Mono',consolas,'Courier New',monospace\"><span style=\"color: #008080; text-decoration-color: #008080; font-weight: bold\">1990</span>-<span style=\"color: #008080; text-decoration-color: #008080; font-weight: bold\">12</span>-17T<span style=\"color: #00ff00; text-decoration-color: #00ff00; font-weight: bold\">12:00:00</span>Z\r",
       "</pre>\n"
      ],
      "text/plain": [
       "\u001b[1;36m1990\u001b[0m-\u001b[1;36m12\u001b[0m-17T\u001b[1;92m12:00:00\u001b[0mZ\r"
      ]
     },
     "metadata": {},
     "output_type": "display_data"
    },
    {
     "data": {
      "text/html": [
       "<pre style=\"white-space:pre;overflow-x:auto;line-height:normal;font-family:Menlo,'DejaVu Sans Mono',consolas,'Courier New',monospace\"><span style=\"color: #008080; text-decoration-color: #008080; font-weight: bold\">1990</span>-<span style=\"color: #008080; text-decoration-color: #008080; font-weight: bold\">12</span>-18T<span style=\"color: #00ff00; text-decoration-color: #00ff00; font-weight: bold\">12:00:00</span>Z\r",
       "</pre>\n"
      ],
      "text/plain": [
       "\u001b[1;36m1990\u001b[0m-\u001b[1;36m12\u001b[0m-18T\u001b[1;92m12:00:00\u001b[0mZ\r"
      ]
     },
     "metadata": {},
     "output_type": "display_data"
    },
    {
     "data": {
      "text/html": [
       "<pre style=\"white-space:pre;overflow-x:auto;line-height:normal;font-family:Menlo,'DejaVu Sans Mono',consolas,'Courier New',monospace\"><span style=\"color: #008080; text-decoration-color: #008080; font-weight: bold\">1990</span>-<span style=\"color: #008080; text-decoration-color: #008080; font-weight: bold\">12</span>-19T<span style=\"color: #00ff00; text-decoration-color: #00ff00; font-weight: bold\">12:00:00</span>Z\r",
       "</pre>\n"
      ],
      "text/plain": [
       "\u001b[1;36m1990\u001b[0m-\u001b[1;36m12\u001b[0m-19T\u001b[1;92m12:00:00\u001b[0mZ\r"
      ]
     },
     "metadata": {},
     "output_type": "display_data"
    },
    {
     "data": {
      "text/html": [
       "<pre style=\"white-space:pre;overflow-x:auto;line-height:normal;font-family:Menlo,'DejaVu Sans Mono',consolas,'Courier New',monospace\"><span style=\"color: #008080; text-decoration-color: #008080; font-weight: bold\">1990</span>-<span style=\"color: #008080; text-decoration-color: #008080; font-weight: bold\">12</span>-20T<span style=\"color: #00ff00; text-decoration-color: #00ff00; font-weight: bold\">12:00:00</span>Z\r",
       "</pre>\n"
      ],
      "text/plain": [
       "\u001b[1;36m1990\u001b[0m-\u001b[1;36m12\u001b[0m-20T\u001b[1;92m12:00:00\u001b[0mZ\r"
      ]
     },
     "metadata": {},
     "output_type": "display_data"
    },
    {
     "data": {
      "text/html": [
       "<pre style=\"white-space:pre;overflow-x:auto;line-height:normal;font-family:Menlo,'DejaVu Sans Mono',consolas,'Courier New',monospace\"><span style=\"color: #008080; text-decoration-color: #008080; font-weight: bold\">1990</span>-<span style=\"color: #008080; text-decoration-color: #008080; font-weight: bold\">12</span>-21T<span style=\"color: #00ff00; text-decoration-color: #00ff00; font-weight: bold\">12:00:00</span>Z\r",
       "</pre>\n"
      ],
      "text/plain": [
       "\u001b[1;36m1990\u001b[0m-\u001b[1;36m12\u001b[0m-21T\u001b[1;92m12:00:00\u001b[0mZ\r"
      ]
     },
     "metadata": {},
     "output_type": "display_data"
    },
    {
     "data": {
      "text/html": [
       "<pre style=\"white-space:pre;overflow-x:auto;line-height:normal;font-family:Menlo,'DejaVu Sans Mono',consolas,'Courier New',monospace\"><span style=\"color: #008080; text-decoration-color: #008080; font-weight: bold\">1990</span>-<span style=\"color: #008080; text-decoration-color: #008080; font-weight: bold\">12</span>-22T<span style=\"color: #00ff00; text-decoration-color: #00ff00; font-weight: bold\">12:00:00</span>Z\r",
       "</pre>\n"
      ],
      "text/plain": [
       "\u001b[1;36m1990\u001b[0m-\u001b[1;36m12\u001b[0m-22T\u001b[1;92m12:00:00\u001b[0mZ\r"
      ]
     },
     "metadata": {},
     "output_type": "display_data"
    },
    {
     "data": {
      "text/html": [
       "<pre style=\"white-space:pre;overflow-x:auto;line-height:normal;font-family:Menlo,'DejaVu Sans Mono',consolas,'Courier New',monospace\"><span style=\"color: #008080; text-decoration-color: #008080; font-weight: bold\">1990</span>-<span style=\"color: #008080; text-decoration-color: #008080; font-weight: bold\">12</span>-23T<span style=\"color: #00ff00; text-decoration-color: #00ff00; font-weight: bold\">12:00:00</span>Z\r",
       "</pre>\n"
      ],
      "text/plain": [
       "\u001b[1;36m1990\u001b[0m-\u001b[1;36m12\u001b[0m-23T\u001b[1;92m12:00:00\u001b[0mZ\r"
      ]
     },
     "metadata": {},
     "output_type": "display_data"
    },
    {
     "data": {
      "text/html": [
       "<pre style=\"white-space:pre;overflow-x:auto;line-height:normal;font-family:Menlo,'DejaVu Sans Mono',consolas,'Courier New',monospace\"><span style=\"color: #008080; text-decoration-color: #008080; font-weight: bold\">1990</span>-<span style=\"color: #008080; text-decoration-color: #008080; font-weight: bold\">12</span>-24T<span style=\"color: #00ff00; text-decoration-color: #00ff00; font-weight: bold\">12:00:00</span>Z\r",
       "</pre>\n"
      ],
      "text/plain": [
       "\u001b[1;36m1990\u001b[0m-\u001b[1;36m12\u001b[0m-24T\u001b[1;92m12:00:00\u001b[0mZ\r"
      ]
     },
     "metadata": {},
     "output_type": "display_data"
    },
    {
     "data": {
      "text/html": [
       "<pre style=\"white-space:pre;overflow-x:auto;line-height:normal;font-family:Menlo,'DejaVu Sans Mono',consolas,'Courier New',monospace\"><span style=\"color: #008080; text-decoration-color: #008080; font-weight: bold\">1990</span>-<span style=\"color: #008080; text-decoration-color: #008080; font-weight: bold\">12</span>-25T<span style=\"color: #00ff00; text-decoration-color: #00ff00; font-weight: bold\">12:00:00</span>Z\r",
       "</pre>\n"
      ],
      "text/plain": [
       "\u001b[1;36m1990\u001b[0m-\u001b[1;36m12\u001b[0m-25T\u001b[1;92m12:00:00\u001b[0mZ\r"
      ]
     },
     "metadata": {},
     "output_type": "display_data"
    },
    {
     "data": {
      "text/html": [
       "<pre style=\"white-space:pre;overflow-x:auto;line-height:normal;font-family:Menlo,'DejaVu Sans Mono',consolas,'Courier New',monospace\"><span style=\"color: #008080; text-decoration-color: #008080; font-weight: bold\">1990</span>-<span style=\"color: #008080; text-decoration-color: #008080; font-weight: bold\">12</span>-26T<span style=\"color: #00ff00; text-decoration-color: #00ff00; font-weight: bold\">12:00:00</span>Z\r",
       "</pre>\n"
      ],
      "text/plain": [
       "\u001b[1;36m1990\u001b[0m-\u001b[1;36m12\u001b[0m-26T\u001b[1;92m12:00:00\u001b[0mZ\r"
      ]
     },
     "metadata": {},
     "output_type": "display_data"
    },
    {
     "data": {
      "text/html": [
       "<pre style=\"white-space:pre;overflow-x:auto;line-height:normal;font-family:Menlo,'DejaVu Sans Mono',consolas,'Courier New',monospace\"><span style=\"color: #008080; text-decoration-color: #008080; font-weight: bold\">1990</span>-<span style=\"color: #008080; text-decoration-color: #008080; font-weight: bold\">12</span>-27T<span style=\"color: #00ff00; text-decoration-color: #00ff00; font-weight: bold\">12:00:00</span>Z\r",
       "</pre>\n"
      ],
      "text/plain": [
       "\u001b[1;36m1990\u001b[0m-\u001b[1;36m12\u001b[0m-27T\u001b[1;92m12:00:00\u001b[0mZ\r"
      ]
     },
     "metadata": {},
     "output_type": "display_data"
    },
    {
     "data": {
      "text/html": [
       "<pre style=\"white-space:pre;overflow-x:auto;line-height:normal;font-family:Menlo,'DejaVu Sans Mono',consolas,'Courier New',monospace\"><span style=\"color: #008080; text-decoration-color: #008080; font-weight: bold\">1990</span>-<span style=\"color: #008080; text-decoration-color: #008080; font-weight: bold\">12</span>-28T<span style=\"color: #00ff00; text-decoration-color: #00ff00; font-weight: bold\">12:00:00</span>Z\r",
       "</pre>\n"
      ],
      "text/plain": [
       "\u001b[1;36m1990\u001b[0m-\u001b[1;36m12\u001b[0m-28T\u001b[1;92m12:00:00\u001b[0mZ\r"
      ]
     },
     "metadata": {},
     "output_type": "display_data"
    },
    {
     "data": {
      "text/html": [
       "<pre style=\"white-space:pre;overflow-x:auto;line-height:normal;font-family:Menlo,'DejaVu Sans Mono',consolas,'Courier New',monospace\"><span style=\"color: #008080; text-decoration-color: #008080; font-weight: bold\">1990</span>-<span style=\"color: #008080; text-decoration-color: #008080; font-weight: bold\">12</span>-29T<span style=\"color: #00ff00; text-decoration-color: #00ff00; font-weight: bold\">12:00:00</span>Z\r",
       "</pre>\n"
      ],
      "text/plain": [
       "\u001b[1;36m1990\u001b[0m-\u001b[1;36m12\u001b[0m-29T\u001b[1;92m12:00:00\u001b[0mZ\r"
      ]
     },
     "metadata": {},
     "output_type": "display_data"
    },
    {
     "data": {
      "text/html": [
       "<pre style=\"white-space:pre;overflow-x:auto;line-height:normal;font-family:Menlo,'DejaVu Sans Mono',consolas,'Courier New',monospace\"><span style=\"color: #008080; text-decoration-color: #008080; font-weight: bold\">1990</span>-<span style=\"color: #008080; text-decoration-color: #008080; font-weight: bold\">12</span>-30T<span style=\"color: #00ff00; text-decoration-color: #00ff00; font-weight: bold\">12:00:00</span>Z\r",
       "</pre>\n"
      ],
      "text/plain": [
       "\u001b[1;36m1990\u001b[0m-\u001b[1;36m12\u001b[0m-30T\u001b[1;92m12:00:00\u001b[0mZ\r"
      ]
     },
     "metadata": {},
     "output_type": "display_data"
    },
    {
     "data": {
      "text/html": [
       "<pre style=\"white-space:pre;overflow-x:auto;line-height:normal;font-family:Menlo,'DejaVu Sans Mono',consolas,'Courier New',monospace\"><span style=\"color: #008080; text-decoration-color: #008080; font-weight: bold\">1990</span>-<span style=\"color: #008080; text-decoration-color: #008080; font-weight: bold\">12</span>-31T<span style=\"color: #00ff00; text-decoration-color: #00ff00; font-weight: bold\">12:00:00</span>Z\r",
       "</pre>\n"
      ],
      "text/plain": [
       "\u001b[1;36m1990\u001b[0m-\u001b[1;36m12\u001b[0m-31T\u001b[1;92m12:00:00\u001b[0mZ\r"
      ]
     },
     "metadata": {},
     "output_type": "display_data"
    }
   ],
   "source": [
    "discharge = []\n",
    "time_range = []\n",
    "\n",
    "while model.time < model.end_time:\n",
    "    model.update()\n",
    "    # Get Discharge at one location\n",
    "    discharge_at_pixel = model.get_value_at_coords('RiverRunoff', lon=station_lon, lat=station_lat)[0]\n",
    "    discharge.append(discharge_at_pixel)\n",
    "    time_range.append(model.time_as_datetime.date())\n",
    "    print(model.time_as_isostr, end=\"\\r\")"
   ]
  },
  {
   "cell_type": "code",
   "execution_count": 27,
   "metadata": {},
   "outputs": [],
   "source": [
    "# Stop the model\n",
    "model.finalize()"
   ]
  },
  {
   "cell_type": "code",
   "execution_count": 28,
   "metadata": {},
   "outputs": [
    {
     "data": {
      "text/html": [
       "<div>\n",
       "<style scoped>\n",
       "    .dataframe tbody tr th:only-of-type {\n",
       "        vertical-align: middle;\n",
       "    }\n",
       "\n",
       "    .dataframe tbody tr th {\n",
       "        vertical-align: top;\n",
       "    }\n",
       "\n",
       "    .dataframe thead th {\n",
       "        text-align: right;\n",
       "    }\n",
       "</style>\n",
       "<table border=\"1\" class=\"dataframe\">\n",
       "  <thead>\n",
       "    <tr style=\"text-align: right;\">\n",
       "      <th></th>\n",
       "      <th>wflow</th>\n",
       "    </tr>\n",
       "  </thead>\n",
       "  <tbody>\n",
       "    <tr>\n",
       "      <th>1990-01-01</th>\n",
       "      <td>3.931633</td>\n",
       "    </tr>\n",
       "    <tr>\n",
       "      <th>1990-01-02</th>\n",
       "      <td>14.670864</td>\n",
       "    </tr>\n",
       "    <tr>\n",
       "      <th>1990-01-03</th>\n",
       "      <td>144.527100</td>\n",
       "    </tr>\n",
       "    <tr>\n",
       "      <th>1990-01-04</th>\n",
       "      <td>205.447418</td>\n",
       "    </tr>\n",
       "    <tr>\n",
       "      <th>1990-01-05</th>\n",
       "      <td>223.219910</td>\n",
       "    </tr>\n",
       "    <tr>\n",
       "      <th>...</th>\n",
       "      <td>...</td>\n",
       "    </tr>\n",
       "    <tr>\n",
       "      <th>1990-12-27</th>\n",
       "      <td>537.931519</td>\n",
       "    </tr>\n",
       "    <tr>\n",
       "      <th>1990-12-28</th>\n",
       "      <td>403.373627</td>\n",
       "    </tr>\n",
       "    <tr>\n",
       "      <th>1990-12-29</th>\n",
       "      <td>338.140900</td>\n",
       "    </tr>\n",
       "    <tr>\n",
       "      <th>1990-12-30</th>\n",
       "      <td>335.914215</td>\n",
       "    </tr>\n",
       "    <tr>\n",
       "      <th>1990-12-31</th>\n",
       "      <td>461.166199</td>\n",
       "    </tr>\n",
       "  </tbody>\n",
       "</table>\n",
       "<p>365 rows × 1 columns</p>\n",
       "</div>"
      ],
      "text/plain": [
       "                 wflow\n",
       "1990-01-01    3.931633\n",
       "1990-01-02   14.670864\n",
       "1990-01-03  144.527100\n",
       "1990-01-04  205.447418\n",
       "1990-01-05  223.219910\n",
       "...                ...\n",
       "1990-12-27  537.931519\n",
       "1990-12-28  403.373627\n",
       "1990-12-29  338.140900\n",
       "1990-12-30  335.914215\n",
       "1990-12-31  461.166199\n",
       "\n",
       "[365 rows x 1 columns]"
      ]
     },
     "execution_count": 28,
     "metadata": {},
     "output_type": "execute_result"
    }
   ],
   "source": [
    "# Concatenate timeseries\n",
    "wflow = pd.DataFrame({'wflow': discharge}, index=pd.to_datetime(time_range))\n",
    "wflow"
   ]
  },
  {
   "cell_type": "markdown",
   "metadata": {},
   "source": [
    "## Lisflood"
   ]
  },
  {
   "cell_type": "markdown",
   "metadata": {},
   "source": [
    "### Load forcing data\n",
    "Pre-generated lisflood forcing data is available for the year 1990. It is a global file, where all but the Merrimack catchment (and a few others that are irrelevant for this example) are masked."
   ]
  },
  {
   "cell_type": "code",
   "execution_count": 30,
   "metadata": {},
   "outputs": [
    {
     "data": {
      "text/html": [
       "<pre style=\"white-space:pre;overflow-x:auto;line-height:normal;font-family:Menlo,'DejaVu Sans Mono',consolas,'Courier New',monospace\"><span style=\"color: #800080; text-decoration-color: #800080; font-weight: bold\">LisfloodForcing</span><span style=\"font-weight: bold\">(</span>\n",
       "    <span style=\"color: #808000; text-decoration-color: #808000\">start_time</span>=<span style=\"color: #008000; text-decoration-color: #008000\">'1990-01-01T12:00:00Z'</span>,\n",
       "    <span style=\"color: #808000; text-decoration-color: #808000\">end_time</span>=<span style=\"color: #008000; text-decoration-color: #008000\">'1990-12-31T12:00:00Z'</span>,\n",
       "    <span style=\"color: #808000; text-decoration-color: #808000\">directory</span>=<span style=\"color: #800080; text-decoration-color: #800080; font-weight: bold\">PosixPath</span><span style=\"font-weight: bold\">(</span><span style=\"color: #008000; text-decoration-color: #008000\">'/mnt/data/forcing/lisflood_ERA5_1990_global-masked'</span><span style=\"font-weight: bold\">)</span>,\n",
       "    <span style=\"color: #808000; text-decoration-color: #808000\">shape</span>=<span style=\"color: #800080; text-decoration-color: #800080; font-style: italic\">None</span>,\n",
       "    <span style=\"color: #808000; text-decoration-color: #808000\">PrefixPrecipitation</span>=<span style=\"color: #008000; text-decoration-color: #008000\">'lisflood_ERA5_pr_1990_1990.nc'</span>,\n",
       "    <span style=\"color: #808000; text-decoration-color: #808000\">PrefixTavg</span>=<span style=\"color: #008000; text-decoration-color: #008000\">'lisflood_ERA5_tas_1990_1990.nc'</span>,\n",
       "    <span style=\"color: #808000; text-decoration-color: #808000\">PrefixE0</span>=<span style=\"color: #008000; text-decoration-color: #008000\">'lisflood_ERA5_e0_1990_1990.nc'</span>,\n",
       "    <span style=\"color: #808000; text-decoration-color: #808000\">PrefixES0</span>=<span style=\"color: #008000; text-decoration-color: #008000\">'lisflood_ERA5_es0_1990_1990.nc'</span>,\n",
       "    <span style=\"color: #808000; text-decoration-color: #808000\">PrefixET0</span>=<span style=\"color: #008000; text-decoration-color: #008000\">'lisflood_ERA5_et0_1990_1990.nc'</span>\n",
       "<span style=\"font-weight: bold\">)</span>\n",
       "</pre>\n"
      ],
      "text/plain": [
       "\u001b[1;35mLisfloodForcing\u001b[0m\u001b[1m(\u001b[0m\n",
       "    \u001b[33mstart_time\u001b[0m=\u001b[32m'1990-01-01T12:00:00Z'\u001b[0m,\n",
       "    \u001b[33mend_time\u001b[0m=\u001b[32m'1990-12-31T12:00:00Z'\u001b[0m,\n",
       "    \u001b[33mdirectory\u001b[0m=\u001b[1;35mPosixPath\u001b[0m\u001b[1m(\u001b[0m\u001b[32m'/mnt/data/forcing/lisflood_ERA5_1990_global-masked'\u001b[0m\u001b[1m)\u001b[0m,\n",
       "    \u001b[33mshape\u001b[0m=\u001b[3;35mNone\u001b[0m,\n",
       "    \u001b[33mPrefixPrecipitation\u001b[0m=\u001b[32m'lisflood_ERA5_pr_1990_1990.nc'\u001b[0m,\n",
       "    \u001b[33mPrefixTavg\u001b[0m=\u001b[32m'lisflood_ERA5_tas_1990_1990.nc'\u001b[0m,\n",
       "    \u001b[33mPrefixE0\u001b[0m=\u001b[32m'lisflood_ERA5_e0_1990_1990.nc'\u001b[0m,\n",
       "    \u001b[33mPrefixES0\u001b[0m=\u001b[32m'lisflood_ERA5_es0_1990_1990.nc'\u001b[0m,\n",
       "    \u001b[33mPrefixET0\u001b[0m=\u001b[32m'lisflood_ERA5_et0_1990_1990.nc'\u001b[0m\n",
       "\u001b[1m)\u001b[0m\n"
      ]
     },
     "metadata": {},
     "output_type": "display_data"
    }
   ],
   "source": [
    "experiment_forcing_lisflood = ewatercycle.forcing.sources[\"LisfloodForcing\"].load('/mnt/data/forcing/lisflood_ERA5_1990_global-masked')\n",
    "print(experiment_forcing_lisflood)"
   ]
  },
  {
   "cell_type": "markdown",
   "metadata": {},
   "source": [
    "### Load parameter set"
   ]
  },
  {
   "cell_type": "code",
   "execution_count": 33,
   "metadata": {},
   "outputs": [
    {
     "data": {
      "text/html": [
       "<pre style=\"white-space:pre;overflow-x:auto;line-height:normal;font-family:Menlo,'DejaVu Sans Mono',consolas,'Courier New',monospace\"><span style=\"color: #800080; text-decoration-color: #800080; font-weight: bold\">ParameterSet</span><span style=\"font-weight: bold\">(</span>\n",
       "    <span style=\"color: #808000; text-decoration-color: #808000\">name</span>=<span style=\"color: #008000; text-decoration-color: #008000\">'lisflood_global-masked_01degree'</span>,\n",
       "    <span style=\"color: #808000; text-decoration-color: #808000\">directory</span>=<span style=\"color: #800080; text-decoration-color: #800080; font-weight: bold\">PosixPath</span><span style=\"font-weight: bold\">(</span><span style=\"color: #008000; text-decoration-color: #008000\">'/mnt/data/parameter-sets/lisflood_global-masked_01degree'</span><span style=\"font-weight: bold\">)</span>,\n",
       "    <span style=\"color: #808000; text-decoration-color: #808000\">config</span>=<span style=\"color: #800080; text-decoration-color: #800080; font-weight: bold\">PosixPath</span><span style=\"font-weight: bold\">(</span><span style=\"color: #008000; text-decoration-color: #008000\">'/mnt/data/parameter-sets/lisflood_global-masked_01degree/settings_lisflood_ERA5.xml'</span><span style=\"font-weight: bold\">)</span>,\n",
       "    <span style=\"color: #808000; text-decoration-color: #808000\">doi</span>=<span style=\"color: #008000; text-decoration-color: #008000\">'N/A'</span>,\n",
       "    <span style=\"color: #808000; text-decoration-color: #808000\">target_model</span>=<span style=\"color: #008000; text-decoration-color: #008000\">'lisflood'</span>,\n",
       "    <span style=\"color: #808000; text-decoration-color: #808000\">supported_model_versions</span>=<span style=\"font-weight: bold\">{</span><span style=\"color: #008000; text-decoration-color: #008000\">'20.10'</span><span style=\"font-weight: bold\">}</span>,\n",
       "    <span style=\"color: #808000; text-decoration-color: #808000\">downloader</span>=<span style=\"color: #800080; text-decoration-color: #800080; font-style: italic\">None</span>\n",
       "<span style=\"font-weight: bold\">)</span>\n",
       "</pre>\n"
      ],
      "text/plain": [
       "\u001b[1;35mParameterSet\u001b[0m\u001b[1m(\u001b[0m\n",
       "    \u001b[33mname\u001b[0m=\u001b[32m'lisflood_global-masked_01degree'\u001b[0m,\n",
       "    \u001b[33mdirectory\u001b[0m=\u001b[1;35mPosixPath\u001b[0m\u001b[1m(\u001b[0m\u001b[32m'/mnt/data/parameter-sets/lisflood_global-masked_01degree'\u001b[0m\u001b[1m)\u001b[0m,\n",
       "    \u001b[33mconfig\u001b[0m=\u001b[1;35mPosixPath\u001b[0m\u001b[1m(\u001b[0m\u001b[32m'/mnt/data/parameter-sets/lisflood_global-masked_01degree/settings_lisflood_ERA5.xml'\u001b[0m\u001b[1m)\u001b[0m,\n",
       "    \u001b[33mdoi\u001b[0m=\u001b[32m'N/A'\u001b[0m,\n",
       "    \u001b[33mtarget_model\u001b[0m=\u001b[32m'lisflood'\u001b[0m,\n",
       "    \u001b[33msupported_model_versions\u001b[0m=\u001b[1m{\u001b[0m\u001b[32m'20.10'\u001b[0m\u001b[1m}\u001b[0m,\n",
       "    \u001b[33mdownloader\u001b[0m=\u001b[3;35mNone\u001b[0m\n",
       "\u001b[1m)\u001b[0m\n"
      ]
     },
     "metadata": {},
     "output_type": "display_data"
    }
   ],
   "source": [
    "experiment_parameterset_lisflood = ewatercycle.parameter_sets.available_parameter_sets()['lisflood_global-masked_01degree']\n",
    "print(experiment_parameterset_lisflood)"
   ]
  },
  {
   "cell_type": "markdown",
   "metadata": {},
   "source": [
    "### Set up the model"
   ]
  },
  {
   "cell_type": "code",
   "execution_count": 34,
   "metadata": {},
   "outputs": [
    {
     "data": {
      "text/html": [
       "<pre style=\"white-space:pre;overflow-x:auto;line-height:normal;font-family:Menlo,'DejaVu Sans Mono',consolas,'Courier New',monospace\"><span style=\"color: #800080; text-decoration-color: #800080; font-weight: bold\">Lisflood</span><span style=\"font-weight: bold\">(</span>\n",
       "    <span style=\"color: #808000; text-decoration-color: #808000\">parameter_set</span>=<span style=\"color: #800080; text-decoration-color: #800080; font-weight: bold\">ParameterSet</span><span style=\"font-weight: bold\">(</span>\n",
       "        <span style=\"color: #808000; text-decoration-color: #808000\">name</span>=<span style=\"color: #008000; text-decoration-color: #008000\">'lisflood_global-masked_01degree'</span>,\n",
       "        <span style=\"color: #808000; text-decoration-color: #808000\">directory</span>=<span style=\"color: #800080; text-decoration-color: #800080; font-weight: bold\">PosixPath</span><span style=\"font-weight: bold\">(</span><span style=\"color: #008000; text-decoration-color: #008000\">'/mnt/data/parameter-sets/lisflood_global-masked_01degree'</span><span style=\"font-weight: bold\">)</span>,\n",
       "        <span style=\"color: #808000; text-decoration-color: #808000\">config</span>=<span style=\"color: #800080; text-decoration-color: #800080; font-weight: bold\">PosixPath</span><span style=\"font-weight: bold\">(</span><span style=\"color: #008000; text-decoration-color: #008000\">'/mnt/data/parameter-sets/lisflood_global-masked_01degree/settings_lisflood_ERA5.xml'</span><span style=\"font-weight: bold\">)</span>,\n",
       "        <span style=\"color: #808000; text-decoration-color: #808000\">doi</span>=<span style=\"color: #008000; text-decoration-color: #008000\">'N/A'</span>,\n",
       "        <span style=\"color: #808000; text-decoration-color: #808000\">target_model</span>=<span style=\"color: #008000; text-decoration-color: #008000\">'lisflood'</span>,\n",
       "        <span style=\"color: #808000; text-decoration-color: #808000\">supported_model_versions</span>=<span style=\"font-weight: bold\">{</span><span style=\"color: #008000; text-decoration-color: #008000\">'20.10'</span><span style=\"font-weight: bold\">}</span>,\n",
       "        <span style=\"color: #808000; text-decoration-color: #808000\">downloader</span>=<span style=\"color: #800080; text-decoration-color: #800080; font-style: italic\">None</span>\n",
       "    <span style=\"font-weight: bold\">)</span>,\n",
       "    <span style=\"color: #808000; text-decoration-color: #808000\">forcing</span>=<span style=\"color: #800080; text-decoration-color: #800080; font-weight: bold\">LisfloodForcing</span><span style=\"font-weight: bold\">(</span>\n",
       "        <span style=\"color: #808000; text-decoration-color: #808000\">start_time</span>=<span style=\"color: #008000; text-decoration-color: #008000\">'1990-01-01T12:00:00Z'</span>,\n",
       "        <span style=\"color: #808000; text-decoration-color: #808000\">end_time</span>=<span style=\"color: #008000; text-decoration-color: #008000\">'1990-12-31T12:00:00Z'</span>,\n",
       "        <span style=\"color: #808000; text-decoration-color: #808000\">directory</span>=<span style=\"color: #800080; text-decoration-color: #800080; font-weight: bold\">PosixPath</span><span style=\"font-weight: bold\">(</span><span style=\"color: #008000; text-decoration-color: #008000\">'/mnt/data/forcing/lisflood_ERA5_1990_global-masked'</span><span style=\"font-weight: bold\">)</span>,\n",
       "        <span style=\"color: #808000; text-decoration-color: #808000\">shape</span>=<span style=\"color: #800080; text-decoration-color: #800080; font-style: italic\">None</span>,\n",
       "        <span style=\"color: #808000; text-decoration-color: #808000\">PrefixPrecipitation</span>=<span style=\"color: #008000; text-decoration-color: #008000\">'lisflood_ERA5_pr_1990_1990.nc'</span>,\n",
       "        <span style=\"color: #808000; text-decoration-color: #808000\">PrefixTavg</span>=<span style=\"color: #008000; text-decoration-color: #008000\">'lisflood_ERA5_tas_1990_1990.nc'</span>,\n",
       "        <span style=\"color: #808000; text-decoration-color: #808000\">PrefixE0</span>=<span style=\"color: #008000; text-decoration-color: #008000\">'lisflood_ERA5_e0_1990_1990.nc'</span>,\n",
       "        <span style=\"color: #808000; text-decoration-color: #808000\">PrefixES0</span>=<span style=\"color: #008000; text-decoration-color: #008000\">'lisflood_ERA5_es0_1990_1990.nc'</span>,\n",
       "        <span style=\"color: #808000; text-decoration-color: #808000\">PrefixET0</span>=<span style=\"color: #008000; text-decoration-color: #008000\">'lisflood_ERA5_et0_1990_1990.nc'</span>\n",
       "    <span style=\"font-weight: bold\">)</span>\n",
       "<span style=\"font-weight: bold\">)</span>\n",
       "</pre>\n"
      ],
      "text/plain": [
       "\u001b[1;35mLisflood\u001b[0m\u001b[1m(\u001b[0m\n",
       "    \u001b[33mparameter_set\u001b[0m=\u001b[1;35mParameterSet\u001b[0m\u001b[1m(\u001b[0m\n",
       "        \u001b[33mname\u001b[0m=\u001b[32m'lisflood_global-masked_01degree'\u001b[0m,\n",
       "        \u001b[33mdirectory\u001b[0m=\u001b[1;35mPosixPath\u001b[0m\u001b[1m(\u001b[0m\u001b[32m'/mnt/data/parameter-sets/lisflood_global-masked_01degree'\u001b[0m\u001b[1m)\u001b[0m,\n",
       "        \u001b[33mconfig\u001b[0m=\u001b[1;35mPosixPath\u001b[0m\u001b[1m(\u001b[0m\u001b[32m'/mnt/data/parameter-sets/lisflood_global-masked_01degree/settings_lisflood_ERA5.xml'\u001b[0m\u001b[1m)\u001b[0m,\n",
       "        \u001b[33mdoi\u001b[0m=\u001b[32m'N/A'\u001b[0m,\n",
       "        \u001b[33mtarget_model\u001b[0m=\u001b[32m'lisflood'\u001b[0m,\n",
       "        \u001b[33msupported_model_versions\u001b[0m=\u001b[1m{\u001b[0m\u001b[32m'20.10'\u001b[0m\u001b[1m}\u001b[0m,\n",
       "        \u001b[33mdownloader\u001b[0m=\u001b[3;35mNone\u001b[0m\n",
       "    \u001b[1m)\u001b[0m,\n",
       "    \u001b[33mforcing\u001b[0m=\u001b[1;35mLisfloodForcing\u001b[0m\u001b[1m(\u001b[0m\n",
       "        \u001b[33mstart_time\u001b[0m=\u001b[32m'1990-01-01T12:00:00Z'\u001b[0m,\n",
       "        \u001b[33mend_time\u001b[0m=\u001b[32m'1990-12-31T12:00:00Z'\u001b[0m,\n",
       "        \u001b[33mdirectory\u001b[0m=\u001b[1;35mPosixPath\u001b[0m\u001b[1m(\u001b[0m\u001b[32m'/mnt/data/forcing/lisflood_ERA5_1990_global-masked'\u001b[0m\u001b[1m)\u001b[0m,\n",
       "        \u001b[33mshape\u001b[0m=\u001b[3;35mNone\u001b[0m,\n",
       "        \u001b[33mPrefixPrecipitation\u001b[0m=\u001b[32m'lisflood_ERA5_pr_1990_1990.nc'\u001b[0m,\n",
       "        \u001b[33mPrefixTavg\u001b[0m=\u001b[32m'lisflood_ERA5_tas_1990_1990.nc'\u001b[0m,\n",
       "        \u001b[33mPrefixE0\u001b[0m=\u001b[32m'lisflood_ERA5_e0_1990_1990.nc'\u001b[0m,\n",
       "        \u001b[33mPrefixES0\u001b[0m=\u001b[32m'lisflood_ERA5_es0_1990_1990.nc'\u001b[0m,\n",
       "        \u001b[33mPrefixET0\u001b[0m=\u001b[32m'lisflood_ERA5_et0_1990_1990.nc'\u001b[0m\n",
       "    \u001b[1m)\u001b[0m\n",
       "\u001b[1m)\u001b[0m\n"
      ]
     },
     "metadata": {},
     "output_type": "display_data"
    }
   ],
   "source": [
    "model = ewatercycle.models.Lisflood(parameter_set=experiment_parameterset_lisflood, \n",
    "                                    forcing=experiment_forcing_lisflood)\n",
    "print(model)"
   ]
  },
  {
   "cell_type": "code",
   "execution_count": 35,
   "metadata": {},
   "outputs": [
    {
     "data": {
      "text/plain": [
       "'20.10'"
      ]
     },
     "execution_count": 35,
     "metadata": {},
     "output_type": "execute_result"
    }
   ],
   "source": [
    "model.version"
   ]
  },
  {
   "cell_type": "code",
   "execution_count": 36,
   "metadata": {},
   "outputs": [
    {
     "data": {
      "text/html": [
       "<pre style=\"white-space:pre;overflow-x:auto;line-height:normal;font-family:Menlo,'DejaVu Sans Mono',consolas,'Courier New',monospace\"><span style=\"color: #800080; text-decoration-color: #800080\">/home/rhut/technicalPaperExampleNotebooks/lisflood_20240314_121410/</span><span style=\"color: #ff00ff; text-decoration-color: #ff00ff\">lisflood_setting.xml</span>\n",
       "</pre>\n"
      ],
      "text/plain": [
       "\u001b[35m/home/rhut/technicalPaperExampleNotebooks/lisflood_20240314_121410/\u001b[0m\u001b[95mlisflood_setting.xml\u001b[0m\n"
      ]
     },
     "metadata": {},
     "output_type": "display_data"
    },
    {
     "data": {
      "text/html": [
       "<pre style=\"white-space:pre;overflow-x:auto;line-height:normal;font-family:Menlo,'DejaVu Sans Mono',consolas,'Courier New',monospace\"><span style=\"color: #800080; text-decoration-color: #800080\">/home/rhut/technicalPaperExampleNotebooks/</span><span style=\"color: #ff00ff; text-decoration-color: #ff00ff\">lisflood_20240314_121410</span>\n",
       "</pre>\n"
      ],
      "text/plain": [
       "\u001b[35m/home/rhut/technicalPaperExampleNotebooks/\u001b[0m\u001b[95mlisflood_20240314_121410\u001b[0m\n"
      ]
     },
     "metadata": {},
     "output_type": "display_data"
    }
   ],
   "source": [
    "# Lisflood requires a mask map, in this case only the Merrimack is unmasked\n",
    "model_mask = 'settingFiles/lisflood_model_mask.nc'\n",
    "\n",
    "config_file, config_dir = model.setup(end_time=experiment_end_date, MaskMap=model_mask)\n",
    "print(config_file)\n",
    "print(config_dir)"
   ]
  },
  {
   "cell_type": "code",
   "execution_count": 37,
   "metadata": {},
   "outputs": [
    {
     "data": {
      "text/plain": [
       "('Discharge',)"
      ]
     },
     "execution_count": 37,
     "metadata": {},
     "output_type": "execute_result"
    }
   ],
   "source": [
    "# Initialize \n",
    "model.initialize(config_file)\n",
    "\n",
    "# Get metadata\n",
    "model.output_var_names"
   ]
  },
  {
   "cell_type": "markdown",
   "metadata": {},
   "source": [
    "### Run the model\n",
    "\n",
    "The model is masked by the Merrimack catchment shapefile. However, GRDC station (-71.2984, 42.6459) is located outside of the catchment boundary. Therefore, the model returns none value at these coordinates. Here, we use the coordinates (-71.35, 42.65) inside the catchment given by lisflood modelers that is close to the GRDC station."
   ]
  },
  {
   "cell_type": "code",
   "execution_count": 38,
   "metadata": {},
   "outputs": [
    {
     "data": {
      "text/html": [
       "<pre style=\"white-space:pre;overflow-x:auto;line-height:normal;font-family:Menlo,'DejaVu Sans Mono',consolas,'Courier New',monospace\"><span style=\"color: #008080; text-decoration-color: #008080; font-weight: bold\">1990</span>-<span style=\"color: #008080; text-decoration-color: #008080; font-weight: bold\">01</span>-03T<span style=\"color: #00ff00; text-decoration-color: #00ff00; font-weight: bold\">00:00:00</span>Z\r",
       "</pre>\n"
      ],
      "text/plain": [
       "\u001b[1;36m1990\u001b[0m-\u001b[1;36m01\u001b[0m-03T\u001b[1;92m00:00:00\u001b[0mZ\r"
      ]
     },
     "metadata": {},
     "output_type": "display_data"
    },
    {
     "data": {
      "text/html": [
       "<pre style=\"white-space:pre;overflow-x:auto;line-height:normal;font-family:Menlo,'DejaVu Sans Mono',consolas,'Courier New',monospace\"><span style=\"color: #008080; text-decoration-color: #008080; font-weight: bold\">1990</span>-<span style=\"color: #008080; text-decoration-color: #008080; font-weight: bold\">01</span>-04T<span style=\"color: #00ff00; text-decoration-color: #00ff00; font-weight: bold\">00:00:00</span>Z\r",
       "</pre>\n"
      ],
      "text/plain": [
       "\u001b[1;36m1990\u001b[0m-\u001b[1;36m01\u001b[0m-04T\u001b[1;92m00:00:00\u001b[0mZ\r"
      ]
     },
     "metadata": {},
     "output_type": "display_data"
    },
    {
     "data": {
      "text/html": [
       "<pre style=\"white-space:pre;overflow-x:auto;line-height:normal;font-family:Menlo,'DejaVu Sans Mono',consolas,'Courier New',monospace\"><span style=\"color: #008080; text-decoration-color: #008080; font-weight: bold\">1990</span>-<span style=\"color: #008080; text-decoration-color: #008080; font-weight: bold\">01</span>-05T<span style=\"color: #00ff00; text-decoration-color: #00ff00; font-weight: bold\">00:00:00</span>Z\r",
       "</pre>\n"
      ],
      "text/plain": [
       "\u001b[1;36m1990\u001b[0m-\u001b[1;36m01\u001b[0m-05T\u001b[1;92m00:00:00\u001b[0mZ\r"
      ]
     },
     "metadata": {},
     "output_type": "display_data"
    },
    {
     "data": {
      "text/html": [
       "<pre style=\"white-space:pre;overflow-x:auto;line-height:normal;font-family:Menlo,'DejaVu Sans Mono',consolas,'Courier New',monospace\"><span style=\"color: #008080; text-decoration-color: #008080; font-weight: bold\">1990</span>-<span style=\"color: #008080; text-decoration-color: #008080; font-weight: bold\">01</span>-06T<span style=\"color: #00ff00; text-decoration-color: #00ff00; font-weight: bold\">00:00:00</span>Z\r",
       "</pre>\n"
      ],
      "text/plain": [
       "\u001b[1;36m1990\u001b[0m-\u001b[1;36m01\u001b[0m-06T\u001b[1;92m00:00:00\u001b[0mZ\r"
      ]
     },
     "metadata": {},
     "output_type": "display_data"
    },
    {
     "data": {
      "text/html": [
       "<pre style=\"white-space:pre;overflow-x:auto;line-height:normal;font-family:Menlo,'DejaVu Sans Mono',consolas,'Courier New',monospace\"><span style=\"color: #008080; text-decoration-color: #008080; font-weight: bold\">1990</span>-<span style=\"color: #008080; text-decoration-color: #008080; font-weight: bold\">01</span>-07T<span style=\"color: #00ff00; text-decoration-color: #00ff00; font-weight: bold\">00:00:00</span>Z\r",
       "</pre>\n"
      ],
      "text/plain": [
       "\u001b[1;36m1990\u001b[0m-\u001b[1;36m01\u001b[0m-07T\u001b[1;92m00:00:00\u001b[0mZ\r"
      ]
     },
     "metadata": {},
     "output_type": "display_data"
    },
    {
     "data": {
      "text/html": [
       "<pre style=\"white-space:pre;overflow-x:auto;line-height:normal;font-family:Menlo,'DejaVu Sans Mono',consolas,'Courier New',monospace\"><span style=\"color: #008080; text-decoration-color: #008080; font-weight: bold\">1990</span>-<span style=\"color: #008080; text-decoration-color: #008080; font-weight: bold\">01</span>-08T<span style=\"color: #00ff00; text-decoration-color: #00ff00; font-weight: bold\">00:00:00</span>Z\r",
       "</pre>\n"
      ],
      "text/plain": [
       "\u001b[1;36m1990\u001b[0m-\u001b[1;36m01\u001b[0m-08T\u001b[1;92m00:00:00\u001b[0mZ\r"
      ]
     },
     "metadata": {},
     "output_type": "display_data"
    },
    {
     "data": {
      "text/html": [
       "<pre style=\"white-space:pre;overflow-x:auto;line-height:normal;font-family:Menlo,'DejaVu Sans Mono',consolas,'Courier New',monospace\"><span style=\"color: #008080; text-decoration-color: #008080; font-weight: bold\">1990</span>-<span style=\"color: #008080; text-decoration-color: #008080; font-weight: bold\">01</span>-09T<span style=\"color: #00ff00; text-decoration-color: #00ff00; font-weight: bold\">00:00:00</span>Z\r",
       "</pre>\n"
      ],
      "text/plain": [
       "\u001b[1;36m1990\u001b[0m-\u001b[1;36m01\u001b[0m-09T\u001b[1;92m00:00:00\u001b[0mZ\r"
      ]
     },
     "metadata": {},
     "output_type": "display_data"
    },
    {
     "data": {
      "text/html": [
       "<pre style=\"white-space:pre;overflow-x:auto;line-height:normal;font-family:Menlo,'DejaVu Sans Mono',consolas,'Courier New',monospace\"><span style=\"color: #008080; text-decoration-color: #008080; font-weight: bold\">1990</span>-<span style=\"color: #008080; text-decoration-color: #008080; font-weight: bold\">01</span>-10T<span style=\"color: #00ff00; text-decoration-color: #00ff00; font-weight: bold\">00:00:00</span>Z\r",
       "</pre>\n"
      ],
      "text/plain": [
       "\u001b[1;36m1990\u001b[0m-\u001b[1;36m01\u001b[0m-10T\u001b[1;92m00:00:00\u001b[0mZ\r"
      ]
     },
     "metadata": {},
     "output_type": "display_data"
    },
    {
     "data": {
      "text/html": [
       "<pre style=\"white-space:pre;overflow-x:auto;line-height:normal;font-family:Menlo,'DejaVu Sans Mono',consolas,'Courier New',monospace\"><span style=\"color: #008080; text-decoration-color: #008080; font-weight: bold\">1990</span>-<span style=\"color: #008080; text-decoration-color: #008080; font-weight: bold\">01</span>-11T<span style=\"color: #00ff00; text-decoration-color: #00ff00; font-weight: bold\">00:00:00</span>Z\r",
       "</pre>\n"
      ],
      "text/plain": [
       "\u001b[1;36m1990\u001b[0m-\u001b[1;36m01\u001b[0m-11T\u001b[1;92m00:00:00\u001b[0mZ\r"
      ]
     },
     "metadata": {},
     "output_type": "display_data"
    },
    {
     "data": {
      "text/html": [
       "<pre style=\"white-space:pre;overflow-x:auto;line-height:normal;font-family:Menlo,'DejaVu Sans Mono',consolas,'Courier New',monospace\"><span style=\"color: #008080; text-decoration-color: #008080; font-weight: bold\">1990</span>-<span style=\"color: #008080; text-decoration-color: #008080; font-weight: bold\">01</span>-12T<span style=\"color: #00ff00; text-decoration-color: #00ff00; font-weight: bold\">00:00:00</span>Z\r",
       "</pre>\n"
      ],
      "text/plain": [
       "\u001b[1;36m1990\u001b[0m-\u001b[1;36m01\u001b[0m-12T\u001b[1;92m00:00:00\u001b[0mZ\r"
      ]
     },
     "metadata": {},
     "output_type": "display_data"
    },
    {
     "data": {
      "text/html": [
       "<pre style=\"white-space:pre;overflow-x:auto;line-height:normal;font-family:Menlo,'DejaVu Sans Mono',consolas,'Courier New',monospace\"><span style=\"color: #008080; text-decoration-color: #008080; font-weight: bold\">1990</span>-<span style=\"color: #008080; text-decoration-color: #008080; font-weight: bold\">01</span>-13T<span style=\"color: #00ff00; text-decoration-color: #00ff00; font-weight: bold\">00:00:00</span>Z\r",
       "</pre>\n"
      ],
      "text/plain": [
       "\u001b[1;36m1990\u001b[0m-\u001b[1;36m01\u001b[0m-13T\u001b[1;92m00:00:00\u001b[0mZ\r"
      ]
     },
     "metadata": {},
     "output_type": "display_data"
    },
    {
     "data": {
      "text/html": [
       "<pre style=\"white-space:pre;overflow-x:auto;line-height:normal;font-family:Menlo,'DejaVu Sans Mono',consolas,'Courier New',monospace\"><span style=\"color: #008080; text-decoration-color: #008080; font-weight: bold\">1990</span>-<span style=\"color: #008080; text-decoration-color: #008080; font-weight: bold\">01</span>-14T<span style=\"color: #00ff00; text-decoration-color: #00ff00; font-weight: bold\">00:00:00</span>Z\r",
       "</pre>\n"
      ],
      "text/plain": [
       "\u001b[1;36m1990\u001b[0m-\u001b[1;36m01\u001b[0m-14T\u001b[1;92m00:00:00\u001b[0mZ\r"
      ]
     },
     "metadata": {},
     "output_type": "display_data"
    },
    {
     "data": {
      "text/html": [
       "<pre style=\"white-space:pre;overflow-x:auto;line-height:normal;font-family:Menlo,'DejaVu Sans Mono',consolas,'Courier New',monospace\"><span style=\"color: #008080; text-decoration-color: #008080; font-weight: bold\">1990</span>-<span style=\"color: #008080; text-decoration-color: #008080; font-weight: bold\">01</span>-15T<span style=\"color: #00ff00; text-decoration-color: #00ff00; font-weight: bold\">00:00:00</span>Z\r",
       "</pre>\n"
      ],
      "text/plain": [
       "\u001b[1;36m1990\u001b[0m-\u001b[1;36m01\u001b[0m-15T\u001b[1;92m00:00:00\u001b[0mZ\r"
      ]
     },
     "metadata": {},
     "output_type": "display_data"
    },
    {
     "data": {
      "text/html": [
       "<pre style=\"white-space:pre;overflow-x:auto;line-height:normal;font-family:Menlo,'DejaVu Sans Mono',consolas,'Courier New',monospace\"><span style=\"color: #008080; text-decoration-color: #008080; font-weight: bold\">1990</span>-<span style=\"color: #008080; text-decoration-color: #008080; font-weight: bold\">01</span>-16T<span style=\"color: #00ff00; text-decoration-color: #00ff00; font-weight: bold\">00:00:00</span>Z\r",
       "</pre>\n"
      ],
      "text/plain": [
       "\u001b[1;36m1990\u001b[0m-\u001b[1;36m01\u001b[0m-16T\u001b[1;92m00:00:00\u001b[0mZ\r"
      ]
     },
     "metadata": {},
     "output_type": "display_data"
    },
    {
     "data": {
      "text/html": [
       "<pre style=\"white-space:pre;overflow-x:auto;line-height:normal;font-family:Menlo,'DejaVu Sans Mono',consolas,'Courier New',monospace\"><span style=\"color: #008080; text-decoration-color: #008080; font-weight: bold\">1990</span>-<span style=\"color: #008080; text-decoration-color: #008080; font-weight: bold\">01</span>-17T<span style=\"color: #00ff00; text-decoration-color: #00ff00; font-weight: bold\">00:00:00</span>Z\r",
       "</pre>\n"
      ],
      "text/plain": [
       "\u001b[1;36m1990\u001b[0m-\u001b[1;36m01\u001b[0m-17T\u001b[1;92m00:00:00\u001b[0mZ\r"
      ]
     },
     "metadata": {},
     "output_type": "display_data"
    },
    {
     "data": {
      "text/html": [
       "<pre style=\"white-space:pre;overflow-x:auto;line-height:normal;font-family:Menlo,'DejaVu Sans Mono',consolas,'Courier New',monospace\"><span style=\"color: #008080; text-decoration-color: #008080; font-weight: bold\">1990</span>-<span style=\"color: #008080; text-decoration-color: #008080; font-weight: bold\">01</span>-18T<span style=\"color: #00ff00; text-decoration-color: #00ff00; font-weight: bold\">00:00:00</span>Z\r",
       "</pre>\n"
      ],
      "text/plain": [
       "\u001b[1;36m1990\u001b[0m-\u001b[1;36m01\u001b[0m-18T\u001b[1;92m00:00:00\u001b[0mZ\r"
      ]
     },
     "metadata": {},
     "output_type": "display_data"
    },
    {
     "data": {
      "text/html": [
       "<pre style=\"white-space:pre;overflow-x:auto;line-height:normal;font-family:Menlo,'DejaVu Sans Mono',consolas,'Courier New',monospace\"><span style=\"color: #008080; text-decoration-color: #008080; font-weight: bold\">1990</span>-<span style=\"color: #008080; text-decoration-color: #008080; font-weight: bold\">01</span>-19T<span style=\"color: #00ff00; text-decoration-color: #00ff00; font-weight: bold\">00:00:00</span>Z\r",
       "</pre>\n"
      ],
      "text/plain": [
       "\u001b[1;36m1990\u001b[0m-\u001b[1;36m01\u001b[0m-19T\u001b[1;92m00:00:00\u001b[0mZ\r"
      ]
     },
     "metadata": {},
     "output_type": "display_data"
    },
    {
     "data": {
      "text/html": [
       "<pre style=\"white-space:pre;overflow-x:auto;line-height:normal;font-family:Menlo,'DejaVu Sans Mono',consolas,'Courier New',monospace\"><span style=\"color: #008080; text-decoration-color: #008080; font-weight: bold\">1990</span>-<span style=\"color: #008080; text-decoration-color: #008080; font-weight: bold\">01</span>-20T<span style=\"color: #00ff00; text-decoration-color: #00ff00; font-weight: bold\">00:00:00</span>Z\r",
       "</pre>\n"
      ],
      "text/plain": [
       "\u001b[1;36m1990\u001b[0m-\u001b[1;36m01\u001b[0m-20T\u001b[1;92m00:00:00\u001b[0mZ\r"
      ]
     },
     "metadata": {},
     "output_type": "display_data"
    },
    {
     "data": {
      "text/html": [
       "<pre style=\"white-space:pre;overflow-x:auto;line-height:normal;font-family:Menlo,'DejaVu Sans Mono',consolas,'Courier New',monospace\"><span style=\"color: #008080; text-decoration-color: #008080; font-weight: bold\">1990</span>-<span style=\"color: #008080; text-decoration-color: #008080; font-weight: bold\">01</span>-21T<span style=\"color: #00ff00; text-decoration-color: #00ff00; font-weight: bold\">00:00:00</span>Z\r",
       "</pre>\n"
      ],
      "text/plain": [
       "\u001b[1;36m1990\u001b[0m-\u001b[1;36m01\u001b[0m-21T\u001b[1;92m00:00:00\u001b[0mZ\r"
      ]
     },
     "metadata": {},
     "output_type": "display_data"
    },
    {
     "data": {
      "text/html": [
       "<pre style=\"white-space:pre;overflow-x:auto;line-height:normal;font-family:Menlo,'DejaVu Sans Mono',consolas,'Courier New',monospace\"><span style=\"color: #008080; text-decoration-color: #008080; font-weight: bold\">1990</span>-<span style=\"color: #008080; text-decoration-color: #008080; font-weight: bold\">01</span>-22T<span style=\"color: #00ff00; text-decoration-color: #00ff00; font-weight: bold\">00:00:00</span>Z\r",
       "</pre>\n"
      ],
      "text/plain": [
       "\u001b[1;36m1990\u001b[0m-\u001b[1;36m01\u001b[0m-22T\u001b[1;92m00:00:00\u001b[0mZ\r"
      ]
     },
     "metadata": {},
     "output_type": "display_data"
    },
    {
     "data": {
      "text/html": [
       "<pre style=\"white-space:pre;overflow-x:auto;line-height:normal;font-family:Menlo,'DejaVu Sans Mono',consolas,'Courier New',monospace\"><span style=\"color: #008080; text-decoration-color: #008080; font-weight: bold\">1990</span>-<span style=\"color: #008080; text-decoration-color: #008080; font-weight: bold\">01</span>-23T<span style=\"color: #00ff00; text-decoration-color: #00ff00; font-weight: bold\">00:00:00</span>Z\r",
       "</pre>\n"
      ],
      "text/plain": [
       "\u001b[1;36m1990\u001b[0m-\u001b[1;36m01\u001b[0m-23T\u001b[1;92m00:00:00\u001b[0mZ\r"
      ]
     },
     "metadata": {},
     "output_type": "display_data"
    },
    {
     "data": {
      "text/html": [
       "<pre style=\"white-space:pre;overflow-x:auto;line-height:normal;font-family:Menlo,'DejaVu Sans Mono',consolas,'Courier New',monospace\"><span style=\"color: #008080; text-decoration-color: #008080; font-weight: bold\">1990</span>-<span style=\"color: #008080; text-decoration-color: #008080; font-weight: bold\">01</span>-24T<span style=\"color: #00ff00; text-decoration-color: #00ff00; font-weight: bold\">00:00:00</span>Z\r",
       "</pre>\n"
      ],
      "text/plain": [
       "\u001b[1;36m1990\u001b[0m-\u001b[1;36m01\u001b[0m-24T\u001b[1;92m00:00:00\u001b[0mZ\r"
      ]
     },
     "metadata": {},
     "output_type": "display_data"
    },
    {
     "data": {
      "text/html": [
       "<pre style=\"white-space:pre;overflow-x:auto;line-height:normal;font-family:Menlo,'DejaVu Sans Mono',consolas,'Courier New',monospace\"><span style=\"color: #008080; text-decoration-color: #008080; font-weight: bold\">1990</span>-<span style=\"color: #008080; text-decoration-color: #008080; font-weight: bold\">01</span>-25T<span style=\"color: #00ff00; text-decoration-color: #00ff00; font-weight: bold\">00:00:00</span>Z\r",
       "</pre>\n"
      ],
      "text/plain": [
       "\u001b[1;36m1990\u001b[0m-\u001b[1;36m01\u001b[0m-25T\u001b[1;92m00:00:00\u001b[0mZ\r"
      ]
     },
     "metadata": {},
     "output_type": "display_data"
    },
    {
     "data": {
      "text/html": [
       "<pre style=\"white-space:pre;overflow-x:auto;line-height:normal;font-family:Menlo,'DejaVu Sans Mono',consolas,'Courier New',monospace\"><span style=\"color: #008080; text-decoration-color: #008080; font-weight: bold\">1990</span>-<span style=\"color: #008080; text-decoration-color: #008080; font-weight: bold\">01</span>-26T<span style=\"color: #00ff00; text-decoration-color: #00ff00; font-weight: bold\">00:00:00</span>Z\r",
       "</pre>\n"
      ],
      "text/plain": [
       "\u001b[1;36m1990\u001b[0m-\u001b[1;36m01\u001b[0m-26T\u001b[1;92m00:00:00\u001b[0mZ\r"
      ]
     },
     "metadata": {},
     "output_type": "display_data"
    },
    {
     "data": {
      "text/html": [
       "<pre style=\"white-space:pre;overflow-x:auto;line-height:normal;font-family:Menlo,'DejaVu Sans Mono',consolas,'Courier New',monospace\"><span style=\"color: #008080; text-decoration-color: #008080; font-weight: bold\">1990</span>-<span style=\"color: #008080; text-decoration-color: #008080; font-weight: bold\">01</span>-27T<span style=\"color: #00ff00; text-decoration-color: #00ff00; font-weight: bold\">00:00:00</span>Z\r",
       "</pre>\n"
      ],
      "text/plain": [
       "\u001b[1;36m1990\u001b[0m-\u001b[1;36m01\u001b[0m-27T\u001b[1;92m00:00:00\u001b[0mZ\r"
      ]
     },
     "metadata": {},
     "output_type": "display_data"
    },
    {
     "data": {
      "text/html": [
       "<pre style=\"white-space:pre;overflow-x:auto;line-height:normal;font-family:Menlo,'DejaVu Sans Mono',consolas,'Courier New',monospace\"><span style=\"color: #008080; text-decoration-color: #008080; font-weight: bold\">1990</span>-<span style=\"color: #008080; text-decoration-color: #008080; font-weight: bold\">01</span>-28T<span style=\"color: #00ff00; text-decoration-color: #00ff00; font-weight: bold\">00:00:00</span>Z\r",
       "</pre>\n"
      ],
      "text/plain": [
       "\u001b[1;36m1990\u001b[0m-\u001b[1;36m01\u001b[0m-28T\u001b[1;92m00:00:00\u001b[0mZ\r"
      ]
     },
     "metadata": {},
     "output_type": "display_data"
    },
    {
     "data": {
      "text/html": [
       "<pre style=\"white-space:pre;overflow-x:auto;line-height:normal;font-family:Menlo,'DejaVu Sans Mono',consolas,'Courier New',monospace\"><span style=\"color: #008080; text-decoration-color: #008080; font-weight: bold\">1990</span>-<span style=\"color: #008080; text-decoration-color: #008080; font-weight: bold\">01</span>-29T<span style=\"color: #00ff00; text-decoration-color: #00ff00; font-weight: bold\">00:00:00</span>Z\r",
       "</pre>\n"
      ],
      "text/plain": [
       "\u001b[1;36m1990\u001b[0m-\u001b[1;36m01\u001b[0m-29T\u001b[1;92m00:00:00\u001b[0mZ\r"
      ]
     },
     "metadata": {},
     "output_type": "display_data"
    },
    {
     "data": {
      "text/html": [
       "<pre style=\"white-space:pre;overflow-x:auto;line-height:normal;font-family:Menlo,'DejaVu Sans Mono',consolas,'Courier New',monospace\"><span style=\"color: #008080; text-decoration-color: #008080; font-weight: bold\">1990</span>-<span style=\"color: #008080; text-decoration-color: #008080; font-weight: bold\">01</span>-30T<span style=\"color: #00ff00; text-decoration-color: #00ff00; font-weight: bold\">00:00:00</span>Z\r",
       "</pre>\n"
      ],
      "text/plain": [
       "\u001b[1;36m1990\u001b[0m-\u001b[1;36m01\u001b[0m-30T\u001b[1;92m00:00:00\u001b[0mZ\r"
      ]
     },
     "metadata": {},
     "output_type": "display_data"
    },
    {
     "data": {
      "text/html": [
       "<pre style=\"white-space:pre;overflow-x:auto;line-height:normal;font-family:Menlo,'DejaVu Sans Mono',consolas,'Courier New',monospace\"><span style=\"color: #008080; text-decoration-color: #008080; font-weight: bold\">1990</span>-<span style=\"color: #008080; text-decoration-color: #008080; font-weight: bold\">01</span>-31T<span style=\"color: #00ff00; text-decoration-color: #00ff00; font-weight: bold\">00:00:00</span>Z\r",
       "</pre>\n"
      ],
      "text/plain": [
       "\u001b[1;36m1990\u001b[0m-\u001b[1;36m01\u001b[0m-31T\u001b[1;92m00:00:00\u001b[0mZ\r"
      ]
     },
     "metadata": {},
     "output_type": "display_data"
    },
    {
     "data": {
      "text/html": [
       "<pre style=\"white-space:pre;overflow-x:auto;line-height:normal;font-family:Menlo,'DejaVu Sans Mono',consolas,'Courier New',monospace\"><span style=\"color: #008080; text-decoration-color: #008080; font-weight: bold\">1990</span>-<span style=\"color: #008080; text-decoration-color: #008080; font-weight: bold\">02</span>-01T<span style=\"color: #00ff00; text-decoration-color: #00ff00; font-weight: bold\">00:00:00</span>Z\r",
       "</pre>\n"
      ],
      "text/plain": [
       "\u001b[1;36m1990\u001b[0m-\u001b[1;36m02\u001b[0m-01T\u001b[1;92m00:00:00\u001b[0mZ\r"
      ]
     },
     "metadata": {},
     "output_type": "display_data"
    },
    {
     "data": {
      "text/html": [
       "<pre style=\"white-space:pre;overflow-x:auto;line-height:normal;font-family:Menlo,'DejaVu Sans Mono',consolas,'Courier New',monospace\"><span style=\"color: #008080; text-decoration-color: #008080; font-weight: bold\">1990</span>-<span style=\"color: #008080; text-decoration-color: #008080; font-weight: bold\">02</span>-02T<span style=\"color: #00ff00; text-decoration-color: #00ff00; font-weight: bold\">00:00:00</span>Z\r",
       "</pre>\n"
      ],
      "text/plain": [
       "\u001b[1;36m1990\u001b[0m-\u001b[1;36m02\u001b[0m-02T\u001b[1;92m00:00:00\u001b[0mZ\r"
      ]
     },
     "metadata": {},
     "output_type": "display_data"
    },
    {
     "data": {
      "text/html": [
       "<pre style=\"white-space:pre;overflow-x:auto;line-height:normal;font-family:Menlo,'DejaVu Sans Mono',consolas,'Courier New',monospace\"><span style=\"color: #008080; text-decoration-color: #008080; font-weight: bold\">1990</span>-<span style=\"color: #008080; text-decoration-color: #008080; font-weight: bold\">02</span>-03T<span style=\"color: #00ff00; text-decoration-color: #00ff00; font-weight: bold\">00:00:00</span>Z\r",
       "</pre>\n"
      ],
      "text/plain": [
       "\u001b[1;36m1990\u001b[0m-\u001b[1;36m02\u001b[0m-03T\u001b[1;92m00:00:00\u001b[0mZ\r"
      ]
     },
     "metadata": {},
     "output_type": "display_data"
    },
    {
     "data": {
      "text/html": [
       "<pre style=\"white-space:pre;overflow-x:auto;line-height:normal;font-family:Menlo,'DejaVu Sans Mono',consolas,'Courier New',monospace\"><span style=\"color: #008080; text-decoration-color: #008080; font-weight: bold\">1990</span>-<span style=\"color: #008080; text-decoration-color: #008080; font-weight: bold\">02</span>-04T<span style=\"color: #00ff00; text-decoration-color: #00ff00; font-weight: bold\">00:00:00</span>Z\r",
       "</pre>\n"
      ],
      "text/plain": [
       "\u001b[1;36m1990\u001b[0m-\u001b[1;36m02\u001b[0m-04T\u001b[1;92m00:00:00\u001b[0mZ\r"
      ]
     },
     "metadata": {},
     "output_type": "display_data"
    },
    {
     "data": {
      "text/html": [
       "<pre style=\"white-space:pre;overflow-x:auto;line-height:normal;font-family:Menlo,'DejaVu Sans Mono',consolas,'Courier New',monospace\"><span style=\"color: #008080; text-decoration-color: #008080; font-weight: bold\">1990</span>-<span style=\"color: #008080; text-decoration-color: #008080; font-weight: bold\">02</span>-05T<span style=\"color: #00ff00; text-decoration-color: #00ff00; font-weight: bold\">00:00:00</span>Z\r",
       "</pre>\n"
      ],
      "text/plain": [
       "\u001b[1;36m1990\u001b[0m-\u001b[1;36m02\u001b[0m-05T\u001b[1;92m00:00:00\u001b[0mZ\r"
      ]
     },
     "metadata": {},
     "output_type": "display_data"
    },
    {
     "data": {
      "text/html": [
       "<pre style=\"white-space:pre;overflow-x:auto;line-height:normal;font-family:Menlo,'DejaVu Sans Mono',consolas,'Courier New',monospace\"><span style=\"color: #008080; text-decoration-color: #008080; font-weight: bold\">1990</span>-<span style=\"color: #008080; text-decoration-color: #008080; font-weight: bold\">02</span>-06T<span style=\"color: #00ff00; text-decoration-color: #00ff00; font-weight: bold\">00:00:00</span>Z\r",
       "</pre>\n"
      ],
      "text/plain": [
       "\u001b[1;36m1990\u001b[0m-\u001b[1;36m02\u001b[0m-06T\u001b[1;92m00:00:00\u001b[0mZ\r"
      ]
     },
     "metadata": {},
     "output_type": "display_data"
    },
    {
     "data": {
      "text/html": [
       "<pre style=\"white-space:pre;overflow-x:auto;line-height:normal;font-family:Menlo,'DejaVu Sans Mono',consolas,'Courier New',monospace\"><span style=\"color: #008080; text-decoration-color: #008080; font-weight: bold\">1990</span>-<span style=\"color: #008080; text-decoration-color: #008080; font-weight: bold\">02</span>-07T<span style=\"color: #00ff00; text-decoration-color: #00ff00; font-weight: bold\">00:00:00</span>Z\r",
       "</pre>\n"
      ],
      "text/plain": [
       "\u001b[1;36m1990\u001b[0m-\u001b[1;36m02\u001b[0m-07T\u001b[1;92m00:00:00\u001b[0mZ\r"
      ]
     },
     "metadata": {},
     "output_type": "display_data"
    },
    {
     "data": {
      "text/html": [
       "<pre style=\"white-space:pre;overflow-x:auto;line-height:normal;font-family:Menlo,'DejaVu Sans Mono',consolas,'Courier New',monospace\"><span style=\"color: #008080; text-decoration-color: #008080; font-weight: bold\">1990</span>-<span style=\"color: #008080; text-decoration-color: #008080; font-weight: bold\">02</span>-08T<span style=\"color: #00ff00; text-decoration-color: #00ff00; font-weight: bold\">00:00:00</span>Z\r",
       "</pre>\n"
      ],
      "text/plain": [
       "\u001b[1;36m1990\u001b[0m-\u001b[1;36m02\u001b[0m-08T\u001b[1;92m00:00:00\u001b[0mZ\r"
      ]
     },
     "metadata": {},
     "output_type": "display_data"
    },
    {
     "data": {
      "text/html": [
       "<pre style=\"white-space:pre;overflow-x:auto;line-height:normal;font-family:Menlo,'DejaVu Sans Mono',consolas,'Courier New',monospace\"><span style=\"color: #008080; text-decoration-color: #008080; font-weight: bold\">1990</span>-<span style=\"color: #008080; text-decoration-color: #008080; font-weight: bold\">02</span>-09T<span style=\"color: #00ff00; text-decoration-color: #00ff00; font-weight: bold\">00:00:00</span>Z\r",
       "</pre>\n"
      ],
      "text/plain": [
       "\u001b[1;36m1990\u001b[0m-\u001b[1;36m02\u001b[0m-09T\u001b[1;92m00:00:00\u001b[0mZ\r"
      ]
     },
     "metadata": {},
     "output_type": "display_data"
    },
    {
     "data": {
      "text/html": [
       "<pre style=\"white-space:pre;overflow-x:auto;line-height:normal;font-family:Menlo,'DejaVu Sans Mono',consolas,'Courier New',monospace\"><span style=\"color: #008080; text-decoration-color: #008080; font-weight: bold\">1990</span>-<span style=\"color: #008080; text-decoration-color: #008080; font-weight: bold\">02</span>-10T<span style=\"color: #00ff00; text-decoration-color: #00ff00; font-weight: bold\">00:00:00</span>Z\r",
       "</pre>\n"
      ],
      "text/plain": [
       "\u001b[1;36m1990\u001b[0m-\u001b[1;36m02\u001b[0m-10T\u001b[1;92m00:00:00\u001b[0mZ\r"
      ]
     },
     "metadata": {},
     "output_type": "display_data"
    },
    {
     "data": {
      "text/html": [
       "<pre style=\"white-space:pre;overflow-x:auto;line-height:normal;font-family:Menlo,'DejaVu Sans Mono',consolas,'Courier New',monospace\"><span style=\"color: #008080; text-decoration-color: #008080; font-weight: bold\">1990</span>-<span style=\"color: #008080; text-decoration-color: #008080; font-weight: bold\">02</span>-11T<span style=\"color: #00ff00; text-decoration-color: #00ff00; font-weight: bold\">00:00:00</span>Z\r",
       "</pre>\n"
      ],
      "text/plain": [
       "\u001b[1;36m1990\u001b[0m-\u001b[1;36m02\u001b[0m-11T\u001b[1;92m00:00:00\u001b[0mZ\r"
      ]
     },
     "metadata": {},
     "output_type": "display_data"
    },
    {
     "data": {
      "text/html": [
       "<pre style=\"white-space:pre;overflow-x:auto;line-height:normal;font-family:Menlo,'DejaVu Sans Mono',consolas,'Courier New',monospace\"><span style=\"color: #008080; text-decoration-color: #008080; font-weight: bold\">1990</span>-<span style=\"color: #008080; text-decoration-color: #008080; font-weight: bold\">02</span>-12T<span style=\"color: #00ff00; text-decoration-color: #00ff00; font-weight: bold\">00:00:00</span>Z\r",
       "</pre>\n"
      ],
      "text/plain": [
       "\u001b[1;36m1990\u001b[0m-\u001b[1;36m02\u001b[0m-12T\u001b[1;92m00:00:00\u001b[0mZ\r"
      ]
     },
     "metadata": {},
     "output_type": "display_data"
    },
    {
     "data": {
      "text/html": [
       "<pre style=\"white-space:pre;overflow-x:auto;line-height:normal;font-family:Menlo,'DejaVu Sans Mono',consolas,'Courier New',monospace\"><span style=\"color: #008080; text-decoration-color: #008080; font-weight: bold\">1990</span>-<span style=\"color: #008080; text-decoration-color: #008080; font-weight: bold\">02</span>-13T<span style=\"color: #00ff00; text-decoration-color: #00ff00; font-weight: bold\">00:00:00</span>Z\r",
       "</pre>\n"
      ],
      "text/plain": [
       "\u001b[1;36m1990\u001b[0m-\u001b[1;36m02\u001b[0m-13T\u001b[1;92m00:00:00\u001b[0mZ\r"
      ]
     },
     "metadata": {},
     "output_type": "display_data"
    },
    {
     "data": {
      "text/html": [
       "<pre style=\"white-space:pre;overflow-x:auto;line-height:normal;font-family:Menlo,'DejaVu Sans Mono',consolas,'Courier New',monospace\"><span style=\"color: #008080; text-decoration-color: #008080; font-weight: bold\">1990</span>-<span style=\"color: #008080; text-decoration-color: #008080; font-weight: bold\">02</span>-14T<span style=\"color: #00ff00; text-decoration-color: #00ff00; font-weight: bold\">00:00:00</span>Z\r",
       "</pre>\n"
      ],
      "text/plain": [
       "\u001b[1;36m1990\u001b[0m-\u001b[1;36m02\u001b[0m-14T\u001b[1;92m00:00:00\u001b[0mZ\r"
      ]
     },
     "metadata": {},
     "output_type": "display_data"
    },
    {
     "data": {
      "text/html": [
       "<pre style=\"white-space:pre;overflow-x:auto;line-height:normal;font-family:Menlo,'DejaVu Sans Mono',consolas,'Courier New',monospace\"><span style=\"color: #008080; text-decoration-color: #008080; font-weight: bold\">1990</span>-<span style=\"color: #008080; text-decoration-color: #008080; font-weight: bold\">02</span>-15T<span style=\"color: #00ff00; text-decoration-color: #00ff00; font-weight: bold\">00:00:00</span>Z\r",
       "</pre>\n"
      ],
      "text/plain": [
       "\u001b[1;36m1990\u001b[0m-\u001b[1;36m02\u001b[0m-15T\u001b[1;92m00:00:00\u001b[0mZ\r"
      ]
     },
     "metadata": {},
     "output_type": "display_data"
    },
    {
     "data": {
      "text/html": [
       "<pre style=\"white-space:pre;overflow-x:auto;line-height:normal;font-family:Menlo,'DejaVu Sans Mono',consolas,'Courier New',monospace\"><span style=\"color: #008080; text-decoration-color: #008080; font-weight: bold\">1990</span>-<span style=\"color: #008080; text-decoration-color: #008080; font-weight: bold\">02</span>-16T<span style=\"color: #00ff00; text-decoration-color: #00ff00; font-weight: bold\">00:00:00</span>Z\r",
       "</pre>\n"
      ],
      "text/plain": [
       "\u001b[1;36m1990\u001b[0m-\u001b[1;36m02\u001b[0m-16T\u001b[1;92m00:00:00\u001b[0mZ\r"
      ]
     },
     "metadata": {},
     "output_type": "display_data"
    },
    {
     "data": {
      "text/html": [
       "<pre style=\"white-space:pre;overflow-x:auto;line-height:normal;font-family:Menlo,'DejaVu Sans Mono',consolas,'Courier New',monospace\"><span style=\"color: #008080; text-decoration-color: #008080; font-weight: bold\">1990</span>-<span style=\"color: #008080; text-decoration-color: #008080; font-weight: bold\">02</span>-17T<span style=\"color: #00ff00; text-decoration-color: #00ff00; font-weight: bold\">00:00:00</span>Z\r",
       "</pre>\n"
      ],
      "text/plain": [
       "\u001b[1;36m1990\u001b[0m-\u001b[1;36m02\u001b[0m-17T\u001b[1;92m00:00:00\u001b[0mZ\r"
      ]
     },
     "metadata": {},
     "output_type": "display_data"
    },
    {
     "data": {
      "text/html": [
       "<pre style=\"white-space:pre;overflow-x:auto;line-height:normal;font-family:Menlo,'DejaVu Sans Mono',consolas,'Courier New',monospace\"><span style=\"color: #008080; text-decoration-color: #008080; font-weight: bold\">1990</span>-<span style=\"color: #008080; text-decoration-color: #008080; font-weight: bold\">02</span>-18T<span style=\"color: #00ff00; text-decoration-color: #00ff00; font-weight: bold\">00:00:00</span>Z\r",
       "</pre>\n"
      ],
      "text/plain": [
       "\u001b[1;36m1990\u001b[0m-\u001b[1;36m02\u001b[0m-18T\u001b[1;92m00:00:00\u001b[0mZ\r"
      ]
     },
     "metadata": {},
     "output_type": "display_data"
    },
    {
     "data": {
      "text/html": [
       "<pre style=\"white-space:pre;overflow-x:auto;line-height:normal;font-family:Menlo,'DejaVu Sans Mono',consolas,'Courier New',monospace\"><span style=\"color: #008080; text-decoration-color: #008080; font-weight: bold\">1990</span>-<span style=\"color: #008080; text-decoration-color: #008080; font-weight: bold\">02</span>-19T<span style=\"color: #00ff00; text-decoration-color: #00ff00; font-weight: bold\">00:00:00</span>Z\r",
       "</pre>\n"
      ],
      "text/plain": [
       "\u001b[1;36m1990\u001b[0m-\u001b[1;36m02\u001b[0m-19T\u001b[1;92m00:00:00\u001b[0mZ\r"
      ]
     },
     "metadata": {},
     "output_type": "display_data"
    },
    {
     "data": {
      "text/html": [
       "<pre style=\"white-space:pre;overflow-x:auto;line-height:normal;font-family:Menlo,'DejaVu Sans Mono',consolas,'Courier New',monospace\"><span style=\"color: #008080; text-decoration-color: #008080; font-weight: bold\">1990</span>-<span style=\"color: #008080; text-decoration-color: #008080; font-weight: bold\">02</span>-20T<span style=\"color: #00ff00; text-decoration-color: #00ff00; font-weight: bold\">00:00:00</span>Z\r",
       "</pre>\n"
      ],
      "text/plain": [
       "\u001b[1;36m1990\u001b[0m-\u001b[1;36m02\u001b[0m-20T\u001b[1;92m00:00:00\u001b[0mZ\r"
      ]
     },
     "metadata": {},
     "output_type": "display_data"
    },
    {
     "data": {
      "text/html": [
       "<pre style=\"white-space:pre;overflow-x:auto;line-height:normal;font-family:Menlo,'DejaVu Sans Mono',consolas,'Courier New',monospace\"><span style=\"color: #008080; text-decoration-color: #008080; font-weight: bold\">1990</span>-<span style=\"color: #008080; text-decoration-color: #008080; font-weight: bold\">02</span>-21T<span style=\"color: #00ff00; text-decoration-color: #00ff00; font-weight: bold\">00:00:00</span>Z\r",
       "</pre>\n"
      ],
      "text/plain": [
       "\u001b[1;36m1990\u001b[0m-\u001b[1;36m02\u001b[0m-21T\u001b[1;92m00:00:00\u001b[0mZ\r"
      ]
     },
     "metadata": {},
     "output_type": "display_data"
    },
    {
     "data": {
      "text/html": [
       "<pre style=\"white-space:pre;overflow-x:auto;line-height:normal;font-family:Menlo,'DejaVu Sans Mono',consolas,'Courier New',monospace\"><span style=\"color: #008080; text-decoration-color: #008080; font-weight: bold\">1990</span>-<span style=\"color: #008080; text-decoration-color: #008080; font-weight: bold\">02</span>-22T<span style=\"color: #00ff00; text-decoration-color: #00ff00; font-weight: bold\">00:00:00</span>Z\r",
       "</pre>\n"
      ],
      "text/plain": [
       "\u001b[1;36m1990\u001b[0m-\u001b[1;36m02\u001b[0m-22T\u001b[1;92m00:00:00\u001b[0mZ\r"
      ]
     },
     "metadata": {},
     "output_type": "display_data"
    },
    {
     "data": {
      "text/html": [
       "<pre style=\"white-space:pre;overflow-x:auto;line-height:normal;font-family:Menlo,'DejaVu Sans Mono',consolas,'Courier New',monospace\"><span style=\"color: #008080; text-decoration-color: #008080; font-weight: bold\">1990</span>-<span style=\"color: #008080; text-decoration-color: #008080; font-weight: bold\">02</span>-23T<span style=\"color: #00ff00; text-decoration-color: #00ff00; font-weight: bold\">00:00:00</span>Z\r",
       "</pre>\n"
      ],
      "text/plain": [
       "\u001b[1;36m1990\u001b[0m-\u001b[1;36m02\u001b[0m-23T\u001b[1;92m00:00:00\u001b[0mZ\r"
      ]
     },
     "metadata": {},
     "output_type": "display_data"
    },
    {
     "data": {
      "text/html": [
       "<pre style=\"white-space:pre;overflow-x:auto;line-height:normal;font-family:Menlo,'DejaVu Sans Mono',consolas,'Courier New',monospace\"><span style=\"color: #008080; text-decoration-color: #008080; font-weight: bold\">1990</span>-<span style=\"color: #008080; text-decoration-color: #008080; font-weight: bold\">02</span>-24T<span style=\"color: #00ff00; text-decoration-color: #00ff00; font-weight: bold\">00:00:00</span>Z\r",
       "</pre>\n"
      ],
      "text/plain": [
       "\u001b[1;36m1990\u001b[0m-\u001b[1;36m02\u001b[0m-24T\u001b[1;92m00:00:00\u001b[0mZ\r"
      ]
     },
     "metadata": {},
     "output_type": "display_data"
    },
    {
     "data": {
      "text/html": [
       "<pre style=\"white-space:pre;overflow-x:auto;line-height:normal;font-family:Menlo,'DejaVu Sans Mono',consolas,'Courier New',monospace\"><span style=\"color: #008080; text-decoration-color: #008080; font-weight: bold\">1990</span>-<span style=\"color: #008080; text-decoration-color: #008080; font-weight: bold\">02</span>-25T<span style=\"color: #00ff00; text-decoration-color: #00ff00; font-weight: bold\">00:00:00</span>Z\r",
       "</pre>\n"
      ],
      "text/plain": [
       "\u001b[1;36m1990\u001b[0m-\u001b[1;36m02\u001b[0m-25T\u001b[1;92m00:00:00\u001b[0mZ\r"
      ]
     },
     "metadata": {},
     "output_type": "display_data"
    },
    {
     "data": {
      "text/html": [
       "<pre style=\"white-space:pre;overflow-x:auto;line-height:normal;font-family:Menlo,'DejaVu Sans Mono',consolas,'Courier New',monospace\"><span style=\"color: #008080; text-decoration-color: #008080; font-weight: bold\">1990</span>-<span style=\"color: #008080; text-decoration-color: #008080; font-weight: bold\">02</span>-26T<span style=\"color: #00ff00; text-decoration-color: #00ff00; font-weight: bold\">00:00:00</span>Z\r",
       "</pre>\n"
      ],
      "text/plain": [
       "\u001b[1;36m1990\u001b[0m-\u001b[1;36m02\u001b[0m-26T\u001b[1;92m00:00:00\u001b[0mZ\r"
      ]
     },
     "metadata": {},
     "output_type": "display_data"
    },
    {
     "data": {
      "text/html": [
       "<pre style=\"white-space:pre;overflow-x:auto;line-height:normal;font-family:Menlo,'DejaVu Sans Mono',consolas,'Courier New',monospace\"><span style=\"color: #008080; text-decoration-color: #008080; font-weight: bold\">1990</span>-<span style=\"color: #008080; text-decoration-color: #008080; font-weight: bold\">02</span>-27T<span style=\"color: #00ff00; text-decoration-color: #00ff00; font-weight: bold\">00:00:00</span>Z\r",
       "</pre>\n"
      ],
      "text/plain": [
       "\u001b[1;36m1990\u001b[0m-\u001b[1;36m02\u001b[0m-27T\u001b[1;92m00:00:00\u001b[0mZ\r"
      ]
     },
     "metadata": {},
     "output_type": "display_data"
    },
    {
     "data": {
      "text/html": [
       "<pre style=\"white-space:pre;overflow-x:auto;line-height:normal;font-family:Menlo,'DejaVu Sans Mono',consolas,'Courier New',monospace\"><span style=\"color: #008080; text-decoration-color: #008080; font-weight: bold\">1990</span>-<span style=\"color: #008080; text-decoration-color: #008080; font-weight: bold\">02</span>-28T<span style=\"color: #00ff00; text-decoration-color: #00ff00; font-weight: bold\">00:00:00</span>Z\r",
       "</pre>\n"
      ],
      "text/plain": [
       "\u001b[1;36m1990\u001b[0m-\u001b[1;36m02\u001b[0m-28T\u001b[1;92m00:00:00\u001b[0mZ\r"
      ]
     },
     "metadata": {},
     "output_type": "display_data"
    },
    {
     "data": {
      "text/html": [
       "<pre style=\"white-space:pre;overflow-x:auto;line-height:normal;font-family:Menlo,'DejaVu Sans Mono',consolas,'Courier New',monospace\"><span style=\"color: #008080; text-decoration-color: #008080; font-weight: bold\">1990</span>-<span style=\"color: #008080; text-decoration-color: #008080; font-weight: bold\">03</span>-01T<span style=\"color: #00ff00; text-decoration-color: #00ff00; font-weight: bold\">00:00:00</span>Z\r",
       "</pre>\n"
      ],
      "text/plain": [
       "\u001b[1;36m1990\u001b[0m-\u001b[1;36m03\u001b[0m-01T\u001b[1;92m00:00:00\u001b[0mZ\r"
      ]
     },
     "metadata": {},
     "output_type": "display_data"
    },
    {
     "data": {
      "text/html": [
       "<pre style=\"white-space:pre;overflow-x:auto;line-height:normal;font-family:Menlo,'DejaVu Sans Mono',consolas,'Courier New',monospace\"><span style=\"color: #008080; text-decoration-color: #008080; font-weight: bold\">1990</span>-<span style=\"color: #008080; text-decoration-color: #008080; font-weight: bold\">03</span>-02T<span style=\"color: #00ff00; text-decoration-color: #00ff00; font-weight: bold\">00:00:00</span>Z\r",
       "</pre>\n"
      ],
      "text/plain": [
       "\u001b[1;36m1990\u001b[0m-\u001b[1;36m03\u001b[0m-02T\u001b[1;92m00:00:00\u001b[0mZ\r"
      ]
     },
     "metadata": {},
     "output_type": "display_data"
    },
    {
     "data": {
      "text/html": [
       "<pre style=\"white-space:pre;overflow-x:auto;line-height:normal;font-family:Menlo,'DejaVu Sans Mono',consolas,'Courier New',monospace\"><span style=\"color: #008080; text-decoration-color: #008080; font-weight: bold\">1990</span>-<span style=\"color: #008080; text-decoration-color: #008080; font-weight: bold\">03</span>-03T<span style=\"color: #00ff00; text-decoration-color: #00ff00; font-weight: bold\">00:00:00</span>Z\r",
       "</pre>\n"
      ],
      "text/plain": [
       "\u001b[1;36m1990\u001b[0m-\u001b[1;36m03\u001b[0m-03T\u001b[1;92m00:00:00\u001b[0mZ\r"
      ]
     },
     "metadata": {},
     "output_type": "display_data"
    },
    {
     "data": {
      "text/html": [
       "<pre style=\"white-space:pre;overflow-x:auto;line-height:normal;font-family:Menlo,'DejaVu Sans Mono',consolas,'Courier New',monospace\"><span style=\"color: #008080; text-decoration-color: #008080; font-weight: bold\">1990</span>-<span style=\"color: #008080; text-decoration-color: #008080; font-weight: bold\">03</span>-04T<span style=\"color: #00ff00; text-decoration-color: #00ff00; font-weight: bold\">00:00:00</span>Z\r",
       "</pre>\n"
      ],
      "text/plain": [
       "\u001b[1;36m1990\u001b[0m-\u001b[1;36m03\u001b[0m-04T\u001b[1;92m00:00:00\u001b[0mZ\r"
      ]
     },
     "metadata": {},
     "output_type": "display_data"
    },
    {
     "data": {
      "text/html": [
       "<pre style=\"white-space:pre;overflow-x:auto;line-height:normal;font-family:Menlo,'DejaVu Sans Mono',consolas,'Courier New',monospace\"><span style=\"color: #008080; text-decoration-color: #008080; font-weight: bold\">1990</span>-<span style=\"color: #008080; text-decoration-color: #008080; font-weight: bold\">03</span>-05T<span style=\"color: #00ff00; text-decoration-color: #00ff00; font-weight: bold\">00:00:00</span>Z\r",
       "</pre>\n"
      ],
      "text/plain": [
       "\u001b[1;36m1990\u001b[0m-\u001b[1;36m03\u001b[0m-05T\u001b[1;92m00:00:00\u001b[0mZ\r"
      ]
     },
     "metadata": {},
     "output_type": "display_data"
    },
    {
     "data": {
      "text/html": [
       "<pre style=\"white-space:pre;overflow-x:auto;line-height:normal;font-family:Menlo,'DejaVu Sans Mono',consolas,'Courier New',monospace\"><span style=\"color: #008080; text-decoration-color: #008080; font-weight: bold\">1990</span>-<span style=\"color: #008080; text-decoration-color: #008080; font-weight: bold\">03</span>-06T<span style=\"color: #00ff00; text-decoration-color: #00ff00; font-weight: bold\">00:00:00</span>Z\r",
       "</pre>\n"
      ],
      "text/plain": [
       "\u001b[1;36m1990\u001b[0m-\u001b[1;36m03\u001b[0m-06T\u001b[1;92m00:00:00\u001b[0mZ\r"
      ]
     },
     "metadata": {},
     "output_type": "display_data"
    },
    {
     "data": {
      "text/html": [
       "<pre style=\"white-space:pre;overflow-x:auto;line-height:normal;font-family:Menlo,'DejaVu Sans Mono',consolas,'Courier New',monospace\"><span style=\"color: #008080; text-decoration-color: #008080; font-weight: bold\">1990</span>-<span style=\"color: #008080; text-decoration-color: #008080; font-weight: bold\">03</span>-07T<span style=\"color: #00ff00; text-decoration-color: #00ff00; font-weight: bold\">00:00:00</span>Z\r",
       "</pre>\n"
      ],
      "text/plain": [
       "\u001b[1;36m1990\u001b[0m-\u001b[1;36m03\u001b[0m-07T\u001b[1;92m00:00:00\u001b[0mZ\r"
      ]
     },
     "metadata": {},
     "output_type": "display_data"
    },
    {
     "data": {
      "text/html": [
       "<pre style=\"white-space:pre;overflow-x:auto;line-height:normal;font-family:Menlo,'DejaVu Sans Mono',consolas,'Courier New',monospace\"><span style=\"color: #008080; text-decoration-color: #008080; font-weight: bold\">1990</span>-<span style=\"color: #008080; text-decoration-color: #008080; font-weight: bold\">03</span>-08T<span style=\"color: #00ff00; text-decoration-color: #00ff00; font-weight: bold\">00:00:00</span>Z\r",
       "</pre>\n"
      ],
      "text/plain": [
       "\u001b[1;36m1990\u001b[0m-\u001b[1;36m03\u001b[0m-08T\u001b[1;92m00:00:00\u001b[0mZ\r"
      ]
     },
     "metadata": {},
     "output_type": "display_data"
    },
    {
     "data": {
      "text/html": [
       "<pre style=\"white-space:pre;overflow-x:auto;line-height:normal;font-family:Menlo,'DejaVu Sans Mono',consolas,'Courier New',monospace\"><span style=\"color: #008080; text-decoration-color: #008080; font-weight: bold\">1990</span>-<span style=\"color: #008080; text-decoration-color: #008080; font-weight: bold\">03</span>-09T<span style=\"color: #00ff00; text-decoration-color: #00ff00; font-weight: bold\">00:00:00</span>Z\r",
       "</pre>\n"
      ],
      "text/plain": [
       "\u001b[1;36m1990\u001b[0m-\u001b[1;36m03\u001b[0m-09T\u001b[1;92m00:00:00\u001b[0mZ\r"
      ]
     },
     "metadata": {},
     "output_type": "display_data"
    },
    {
     "data": {
      "text/html": [
       "<pre style=\"white-space:pre;overflow-x:auto;line-height:normal;font-family:Menlo,'DejaVu Sans Mono',consolas,'Courier New',monospace\"><span style=\"color: #008080; text-decoration-color: #008080; font-weight: bold\">1990</span>-<span style=\"color: #008080; text-decoration-color: #008080; font-weight: bold\">03</span>-10T<span style=\"color: #00ff00; text-decoration-color: #00ff00; font-weight: bold\">00:00:00</span>Z\r",
       "</pre>\n"
      ],
      "text/plain": [
       "\u001b[1;36m1990\u001b[0m-\u001b[1;36m03\u001b[0m-10T\u001b[1;92m00:00:00\u001b[0mZ\r"
      ]
     },
     "metadata": {},
     "output_type": "display_data"
    },
    {
     "data": {
      "text/html": [
       "<pre style=\"white-space:pre;overflow-x:auto;line-height:normal;font-family:Menlo,'DejaVu Sans Mono',consolas,'Courier New',monospace\"><span style=\"color: #008080; text-decoration-color: #008080; font-weight: bold\">1990</span>-<span style=\"color: #008080; text-decoration-color: #008080; font-weight: bold\">03</span>-11T<span style=\"color: #00ff00; text-decoration-color: #00ff00; font-weight: bold\">00:00:00</span>Z\r",
       "</pre>\n"
      ],
      "text/plain": [
       "\u001b[1;36m1990\u001b[0m-\u001b[1;36m03\u001b[0m-11T\u001b[1;92m00:00:00\u001b[0mZ\r"
      ]
     },
     "metadata": {},
     "output_type": "display_data"
    },
    {
     "data": {
      "text/html": [
       "<pre style=\"white-space:pre;overflow-x:auto;line-height:normal;font-family:Menlo,'DejaVu Sans Mono',consolas,'Courier New',monospace\"><span style=\"color: #008080; text-decoration-color: #008080; font-weight: bold\">1990</span>-<span style=\"color: #008080; text-decoration-color: #008080; font-weight: bold\">03</span>-12T<span style=\"color: #00ff00; text-decoration-color: #00ff00; font-weight: bold\">00:00:00</span>Z\r",
       "</pre>\n"
      ],
      "text/plain": [
       "\u001b[1;36m1990\u001b[0m-\u001b[1;36m03\u001b[0m-12T\u001b[1;92m00:00:00\u001b[0mZ\r"
      ]
     },
     "metadata": {},
     "output_type": "display_data"
    },
    {
     "data": {
      "text/html": [
       "<pre style=\"white-space:pre;overflow-x:auto;line-height:normal;font-family:Menlo,'DejaVu Sans Mono',consolas,'Courier New',monospace\"><span style=\"color: #008080; text-decoration-color: #008080; font-weight: bold\">1990</span>-<span style=\"color: #008080; text-decoration-color: #008080; font-weight: bold\">03</span>-13T<span style=\"color: #00ff00; text-decoration-color: #00ff00; font-weight: bold\">00:00:00</span>Z\r",
       "</pre>\n"
      ],
      "text/plain": [
       "\u001b[1;36m1990\u001b[0m-\u001b[1;36m03\u001b[0m-13T\u001b[1;92m00:00:00\u001b[0mZ\r"
      ]
     },
     "metadata": {},
     "output_type": "display_data"
    },
    {
     "data": {
      "text/html": [
       "<pre style=\"white-space:pre;overflow-x:auto;line-height:normal;font-family:Menlo,'DejaVu Sans Mono',consolas,'Courier New',monospace\"><span style=\"color: #008080; text-decoration-color: #008080; font-weight: bold\">1990</span>-<span style=\"color: #008080; text-decoration-color: #008080; font-weight: bold\">03</span>-14T<span style=\"color: #00ff00; text-decoration-color: #00ff00; font-weight: bold\">00:00:00</span>Z\r",
       "</pre>\n"
      ],
      "text/plain": [
       "\u001b[1;36m1990\u001b[0m-\u001b[1;36m03\u001b[0m-14T\u001b[1;92m00:00:00\u001b[0mZ\r"
      ]
     },
     "metadata": {},
     "output_type": "display_data"
    },
    {
     "data": {
      "text/html": [
       "<pre style=\"white-space:pre;overflow-x:auto;line-height:normal;font-family:Menlo,'DejaVu Sans Mono',consolas,'Courier New',monospace\"><span style=\"color: #008080; text-decoration-color: #008080; font-weight: bold\">1990</span>-<span style=\"color: #008080; text-decoration-color: #008080; font-weight: bold\">03</span>-15T<span style=\"color: #00ff00; text-decoration-color: #00ff00; font-weight: bold\">00:00:00</span>Z\r",
       "</pre>\n"
      ],
      "text/plain": [
       "\u001b[1;36m1990\u001b[0m-\u001b[1;36m03\u001b[0m-15T\u001b[1;92m00:00:00\u001b[0mZ\r"
      ]
     },
     "metadata": {},
     "output_type": "display_data"
    },
    {
     "data": {
      "text/html": [
       "<pre style=\"white-space:pre;overflow-x:auto;line-height:normal;font-family:Menlo,'DejaVu Sans Mono',consolas,'Courier New',monospace\"><span style=\"color: #008080; text-decoration-color: #008080; font-weight: bold\">1990</span>-<span style=\"color: #008080; text-decoration-color: #008080; font-weight: bold\">03</span>-16T<span style=\"color: #00ff00; text-decoration-color: #00ff00; font-weight: bold\">00:00:00</span>Z\r",
       "</pre>\n"
      ],
      "text/plain": [
       "\u001b[1;36m1990\u001b[0m-\u001b[1;36m03\u001b[0m-16T\u001b[1;92m00:00:00\u001b[0mZ\r"
      ]
     },
     "metadata": {},
     "output_type": "display_data"
    },
    {
     "data": {
      "text/html": [
       "<pre style=\"white-space:pre;overflow-x:auto;line-height:normal;font-family:Menlo,'DejaVu Sans Mono',consolas,'Courier New',monospace\"><span style=\"color: #008080; text-decoration-color: #008080; font-weight: bold\">1990</span>-<span style=\"color: #008080; text-decoration-color: #008080; font-weight: bold\">03</span>-17T<span style=\"color: #00ff00; text-decoration-color: #00ff00; font-weight: bold\">00:00:00</span>Z\r",
       "</pre>\n"
      ],
      "text/plain": [
       "\u001b[1;36m1990\u001b[0m-\u001b[1;36m03\u001b[0m-17T\u001b[1;92m00:00:00\u001b[0mZ\r"
      ]
     },
     "metadata": {},
     "output_type": "display_data"
    },
    {
     "data": {
      "text/html": [
       "<pre style=\"white-space:pre;overflow-x:auto;line-height:normal;font-family:Menlo,'DejaVu Sans Mono',consolas,'Courier New',monospace\"><span style=\"color: #008080; text-decoration-color: #008080; font-weight: bold\">1990</span>-<span style=\"color: #008080; text-decoration-color: #008080; font-weight: bold\">03</span>-18T<span style=\"color: #00ff00; text-decoration-color: #00ff00; font-weight: bold\">00:00:00</span>Z\r",
       "</pre>\n"
      ],
      "text/plain": [
       "\u001b[1;36m1990\u001b[0m-\u001b[1;36m03\u001b[0m-18T\u001b[1;92m00:00:00\u001b[0mZ\r"
      ]
     },
     "metadata": {},
     "output_type": "display_data"
    },
    {
     "data": {
      "text/html": [
       "<pre style=\"white-space:pre;overflow-x:auto;line-height:normal;font-family:Menlo,'DejaVu Sans Mono',consolas,'Courier New',monospace\"><span style=\"color: #008080; text-decoration-color: #008080; font-weight: bold\">1990</span>-<span style=\"color: #008080; text-decoration-color: #008080; font-weight: bold\">03</span>-19T<span style=\"color: #00ff00; text-decoration-color: #00ff00; font-weight: bold\">00:00:00</span>Z\r",
       "</pre>\n"
      ],
      "text/plain": [
       "\u001b[1;36m1990\u001b[0m-\u001b[1;36m03\u001b[0m-19T\u001b[1;92m00:00:00\u001b[0mZ\r"
      ]
     },
     "metadata": {},
     "output_type": "display_data"
    },
    {
     "data": {
      "text/html": [
       "<pre style=\"white-space:pre;overflow-x:auto;line-height:normal;font-family:Menlo,'DejaVu Sans Mono',consolas,'Courier New',monospace\"><span style=\"color: #008080; text-decoration-color: #008080; font-weight: bold\">1990</span>-<span style=\"color: #008080; text-decoration-color: #008080; font-weight: bold\">03</span>-20T<span style=\"color: #00ff00; text-decoration-color: #00ff00; font-weight: bold\">00:00:00</span>Z\r",
       "</pre>\n"
      ],
      "text/plain": [
       "\u001b[1;36m1990\u001b[0m-\u001b[1;36m03\u001b[0m-20T\u001b[1;92m00:00:00\u001b[0mZ\r"
      ]
     },
     "metadata": {},
     "output_type": "display_data"
    },
    {
     "data": {
      "text/html": [
       "<pre style=\"white-space:pre;overflow-x:auto;line-height:normal;font-family:Menlo,'DejaVu Sans Mono',consolas,'Courier New',monospace\"><span style=\"color: #008080; text-decoration-color: #008080; font-weight: bold\">1990</span>-<span style=\"color: #008080; text-decoration-color: #008080; font-weight: bold\">03</span>-21T<span style=\"color: #00ff00; text-decoration-color: #00ff00; font-weight: bold\">00:00:00</span>Z\r",
       "</pre>\n"
      ],
      "text/plain": [
       "\u001b[1;36m1990\u001b[0m-\u001b[1;36m03\u001b[0m-21T\u001b[1;92m00:00:00\u001b[0mZ\r"
      ]
     },
     "metadata": {},
     "output_type": "display_data"
    },
    {
     "data": {
      "text/html": [
       "<pre style=\"white-space:pre;overflow-x:auto;line-height:normal;font-family:Menlo,'DejaVu Sans Mono',consolas,'Courier New',monospace\"><span style=\"color: #008080; text-decoration-color: #008080; font-weight: bold\">1990</span>-<span style=\"color: #008080; text-decoration-color: #008080; font-weight: bold\">03</span>-22T<span style=\"color: #00ff00; text-decoration-color: #00ff00; font-weight: bold\">00:00:00</span>Z\r",
       "</pre>\n"
      ],
      "text/plain": [
       "\u001b[1;36m1990\u001b[0m-\u001b[1;36m03\u001b[0m-22T\u001b[1;92m00:00:00\u001b[0mZ\r"
      ]
     },
     "metadata": {},
     "output_type": "display_data"
    },
    {
     "data": {
      "text/html": [
       "<pre style=\"white-space:pre;overflow-x:auto;line-height:normal;font-family:Menlo,'DejaVu Sans Mono',consolas,'Courier New',monospace\"><span style=\"color: #008080; text-decoration-color: #008080; font-weight: bold\">1990</span>-<span style=\"color: #008080; text-decoration-color: #008080; font-weight: bold\">03</span>-23T<span style=\"color: #00ff00; text-decoration-color: #00ff00; font-weight: bold\">00:00:00</span>Z\r",
       "</pre>\n"
      ],
      "text/plain": [
       "\u001b[1;36m1990\u001b[0m-\u001b[1;36m03\u001b[0m-23T\u001b[1;92m00:00:00\u001b[0mZ\r"
      ]
     },
     "metadata": {},
     "output_type": "display_data"
    },
    {
     "data": {
      "text/html": [
       "<pre style=\"white-space:pre;overflow-x:auto;line-height:normal;font-family:Menlo,'DejaVu Sans Mono',consolas,'Courier New',monospace\"><span style=\"color: #008080; text-decoration-color: #008080; font-weight: bold\">1990</span>-<span style=\"color: #008080; text-decoration-color: #008080; font-weight: bold\">03</span>-24T<span style=\"color: #00ff00; text-decoration-color: #00ff00; font-weight: bold\">00:00:00</span>Z\r",
       "</pre>\n"
      ],
      "text/plain": [
       "\u001b[1;36m1990\u001b[0m-\u001b[1;36m03\u001b[0m-24T\u001b[1;92m00:00:00\u001b[0mZ\r"
      ]
     },
     "metadata": {},
     "output_type": "display_data"
    },
    {
     "data": {
      "text/html": [
       "<pre style=\"white-space:pre;overflow-x:auto;line-height:normal;font-family:Menlo,'DejaVu Sans Mono',consolas,'Courier New',monospace\"><span style=\"color: #008080; text-decoration-color: #008080; font-weight: bold\">1990</span>-<span style=\"color: #008080; text-decoration-color: #008080; font-weight: bold\">03</span>-25T<span style=\"color: #00ff00; text-decoration-color: #00ff00; font-weight: bold\">00:00:00</span>Z\r",
       "</pre>\n"
      ],
      "text/plain": [
       "\u001b[1;36m1990\u001b[0m-\u001b[1;36m03\u001b[0m-25T\u001b[1;92m00:00:00\u001b[0mZ\r"
      ]
     },
     "metadata": {},
     "output_type": "display_data"
    },
    {
     "data": {
      "text/html": [
       "<pre style=\"white-space:pre;overflow-x:auto;line-height:normal;font-family:Menlo,'DejaVu Sans Mono',consolas,'Courier New',monospace\"><span style=\"color: #008080; text-decoration-color: #008080; font-weight: bold\">1990</span>-<span style=\"color: #008080; text-decoration-color: #008080; font-weight: bold\">03</span>-26T<span style=\"color: #00ff00; text-decoration-color: #00ff00; font-weight: bold\">00:00:00</span>Z\r",
       "</pre>\n"
      ],
      "text/plain": [
       "\u001b[1;36m1990\u001b[0m-\u001b[1;36m03\u001b[0m-26T\u001b[1;92m00:00:00\u001b[0mZ\r"
      ]
     },
     "metadata": {},
     "output_type": "display_data"
    },
    {
     "data": {
      "text/html": [
       "<pre style=\"white-space:pre;overflow-x:auto;line-height:normal;font-family:Menlo,'DejaVu Sans Mono',consolas,'Courier New',monospace\"><span style=\"color: #008080; text-decoration-color: #008080; font-weight: bold\">1990</span>-<span style=\"color: #008080; text-decoration-color: #008080; font-weight: bold\">03</span>-27T<span style=\"color: #00ff00; text-decoration-color: #00ff00; font-weight: bold\">00:00:00</span>Z\r",
       "</pre>\n"
      ],
      "text/plain": [
       "\u001b[1;36m1990\u001b[0m-\u001b[1;36m03\u001b[0m-27T\u001b[1;92m00:00:00\u001b[0mZ\r"
      ]
     },
     "metadata": {},
     "output_type": "display_data"
    },
    {
     "data": {
      "text/html": [
       "<pre style=\"white-space:pre;overflow-x:auto;line-height:normal;font-family:Menlo,'DejaVu Sans Mono',consolas,'Courier New',monospace\"><span style=\"color: #008080; text-decoration-color: #008080; font-weight: bold\">1990</span>-<span style=\"color: #008080; text-decoration-color: #008080; font-weight: bold\">03</span>-28T<span style=\"color: #00ff00; text-decoration-color: #00ff00; font-weight: bold\">00:00:00</span>Z\r",
       "</pre>\n"
      ],
      "text/plain": [
       "\u001b[1;36m1990\u001b[0m-\u001b[1;36m03\u001b[0m-28T\u001b[1;92m00:00:00\u001b[0mZ\r"
      ]
     },
     "metadata": {},
     "output_type": "display_data"
    },
    {
     "data": {
      "text/html": [
       "<pre style=\"white-space:pre;overflow-x:auto;line-height:normal;font-family:Menlo,'DejaVu Sans Mono',consolas,'Courier New',monospace\"><span style=\"color: #008080; text-decoration-color: #008080; font-weight: bold\">1990</span>-<span style=\"color: #008080; text-decoration-color: #008080; font-weight: bold\">03</span>-29T<span style=\"color: #00ff00; text-decoration-color: #00ff00; font-weight: bold\">00:00:00</span>Z\r",
       "</pre>\n"
      ],
      "text/plain": [
       "\u001b[1;36m1990\u001b[0m-\u001b[1;36m03\u001b[0m-29T\u001b[1;92m00:00:00\u001b[0mZ\r"
      ]
     },
     "metadata": {},
     "output_type": "display_data"
    },
    {
     "data": {
      "text/html": [
       "<pre style=\"white-space:pre;overflow-x:auto;line-height:normal;font-family:Menlo,'DejaVu Sans Mono',consolas,'Courier New',monospace\"><span style=\"color: #008080; text-decoration-color: #008080; font-weight: bold\">1990</span>-<span style=\"color: #008080; text-decoration-color: #008080; font-weight: bold\">03</span>-30T<span style=\"color: #00ff00; text-decoration-color: #00ff00; font-weight: bold\">00:00:00</span>Z\r",
       "</pre>\n"
      ],
      "text/plain": [
       "\u001b[1;36m1990\u001b[0m-\u001b[1;36m03\u001b[0m-30T\u001b[1;92m00:00:00\u001b[0mZ\r"
      ]
     },
     "metadata": {},
     "output_type": "display_data"
    },
    {
     "data": {
      "text/html": [
       "<pre style=\"white-space:pre;overflow-x:auto;line-height:normal;font-family:Menlo,'DejaVu Sans Mono',consolas,'Courier New',monospace\"><span style=\"color: #008080; text-decoration-color: #008080; font-weight: bold\">1990</span>-<span style=\"color: #008080; text-decoration-color: #008080; font-weight: bold\">03</span>-31T<span style=\"color: #00ff00; text-decoration-color: #00ff00; font-weight: bold\">00:00:00</span>Z\r",
       "</pre>\n"
      ],
      "text/plain": [
       "\u001b[1;36m1990\u001b[0m-\u001b[1;36m03\u001b[0m-31T\u001b[1;92m00:00:00\u001b[0mZ\r"
      ]
     },
     "metadata": {},
     "output_type": "display_data"
    },
    {
     "data": {
      "text/html": [
       "<pre style=\"white-space:pre;overflow-x:auto;line-height:normal;font-family:Menlo,'DejaVu Sans Mono',consolas,'Courier New',monospace\"><span style=\"color: #008080; text-decoration-color: #008080; font-weight: bold\">1990</span>-<span style=\"color: #008080; text-decoration-color: #008080; font-weight: bold\">04</span>-01T<span style=\"color: #00ff00; text-decoration-color: #00ff00; font-weight: bold\">00:00:00</span>Z\r",
       "</pre>\n"
      ],
      "text/plain": [
       "\u001b[1;36m1990\u001b[0m-\u001b[1;36m04\u001b[0m-01T\u001b[1;92m00:00:00\u001b[0mZ\r"
      ]
     },
     "metadata": {},
     "output_type": "display_data"
    },
    {
     "data": {
      "text/html": [
       "<pre style=\"white-space:pre;overflow-x:auto;line-height:normal;font-family:Menlo,'DejaVu Sans Mono',consolas,'Courier New',monospace\"><span style=\"color: #008080; text-decoration-color: #008080; font-weight: bold\">1990</span>-<span style=\"color: #008080; text-decoration-color: #008080; font-weight: bold\">04</span>-02T<span style=\"color: #00ff00; text-decoration-color: #00ff00; font-weight: bold\">00:00:00</span>Z\r",
       "</pre>\n"
      ],
      "text/plain": [
       "\u001b[1;36m1990\u001b[0m-\u001b[1;36m04\u001b[0m-02T\u001b[1;92m00:00:00\u001b[0mZ\r"
      ]
     },
     "metadata": {},
     "output_type": "display_data"
    },
    {
     "data": {
      "text/html": [
       "<pre style=\"white-space:pre;overflow-x:auto;line-height:normal;font-family:Menlo,'DejaVu Sans Mono',consolas,'Courier New',monospace\"><span style=\"color: #008080; text-decoration-color: #008080; font-weight: bold\">1990</span>-<span style=\"color: #008080; text-decoration-color: #008080; font-weight: bold\">04</span>-03T<span style=\"color: #00ff00; text-decoration-color: #00ff00; font-weight: bold\">00:00:00</span>Z\r",
       "</pre>\n"
      ],
      "text/plain": [
       "\u001b[1;36m1990\u001b[0m-\u001b[1;36m04\u001b[0m-03T\u001b[1;92m00:00:00\u001b[0mZ\r"
      ]
     },
     "metadata": {},
     "output_type": "display_data"
    },
    {
     "data": {
      "text/html": [
       "<pre style=\"white-space:pre;overflow-x:auto;line-height:normal;font-family:Menlo,'DejaVu Sans Mono',consolas,'Courier New',monospace\"><span style=\"color: #008080; text-decoration-color: #008080; font-weight: bold\">1990</span>-<span style=\"color: #008080; text-decoration-color: #008080; font-weight: bold\">04</span>-04T<span style=\"color: #00ff00; text-decoration-color: #00ff00; font-weight: bold\">00:00:00</span>Z\r",
       "</pre>\n"
      ],
      "text/plain": [
       "\u001b[1;36m1990\u001b[0m-\u001b[1;36m04\u001b[0m-04T\u001b[1;92m00:00:00\u001b[0mZ\r"
      ]
     },
     "metadata": {},
     "output_type": "display_data"
    },
    {
     "data": {
      "text/html": [
       "<pre style=\"white-space:pre;overflow-x:auto;line-height:normal;font-family:Menlo,'DejaVu Sans Mono',consolas,'Courier New',monospace\"><span style=\"color: #008080; text-decoration-color: #008080; font-weight: bold\">1990</span>-<span style=\"color: #008080; text-decoration-color: #008080; font-weight: bold\">04</span>-05T<span style=\"color: #00ff00; text-decoration-color: #00ff00; font-weight: bold\">00:00:00</span>Z\r",
       "</pre>\n"
      ],
      "text/plain": [
       "\u001b[1;36m1990\u001b[0m-\u001b[1;36m04\u001b[0m-05T\u001b[1;92m00:00:00\u001b[0mZ\r"
      ]
     },
     "metadata": {},
     "output_type": "display_data"
    },
    {
     "data": {
      "text/html": [
       "<pre style=\"white-space:pre;overflow-x:auto;line-height:normal;font-family:Menlo,'DejaVu Sans Mono',consolas,'Courier New',monospace\"><span style=\"color: #008080; text-decoration-color: #008080; font-weight: bold\">1990</span>-<span style=\"color: #008080; text-decoration-color: #008080; font-weight: bold\">04</span>-06T<span style=\"color: #00ff00; text-decoration-color: #00ff00; font-weight: bold\">00:00:00</span>Z\r",
       "</pre>\n"
      ],
      "text/plain": [
       "\u001b[1;36m1990\u001b[0m-\u001b[1;36m04\u001b[0m-06T\u001b[1;92m00:00:00\u001b[0mZ\r"
      ]
     },
     "metadata": {},
     "output_type": "display_data"
    },
    {
     "data": {
      "text/html": [
       "<pre style=\"white-space:pre;overflow-x:auto;line-height:normal;font-family:Menlo,'DejaVu Sans Mono',consolas,'Courier New',monospace\"><span style=\"color: #008080; text-decoration-color: #008080; font-weight: bold\">1990</span>-<span style=\"color: #008080; text-decoration-color: #008080; font-weight: bold\">04</span>-07T<span style=\"color: #00ff00; text-decoration-color: #00ff00; font-weight: bold\">00:00:00</span>Z\r",
       "</pre>\n"
      ],
      "text/plain": [
       "\u001b[1;36m1990\u001b[0m-\u001b[1;36m04\u001b[0m-07T\u001b[1;92m00:00:00\u001b[0mZ\r"
      ]
     },
     "metadata": {},
     "output_type": "display_data"
    },
    {
     "data": {
      "text/html": [
       "<pre style=\"white-space:pre;overflow-x:auto;line-height:normal;font-family:Menlo,'DejaVu Sans Mono',consolas,'Courier New',monospace\"><span style=\"color: #008080; text-decoration-color: #008080; font-weight: bold\">1990</span>-<span style=\"color: #008080; text-decoration-color: #008080; font-weight: bold\">04</span>-08T<span style=\"color: #00ff00; text-decoration-color: #00ff00; font-weight: bold\">00:00:00</span>Z\r",
       "</pre>\n"
      ],
      "text/plain": [
       "\u001b[1;36m1990\u001b[0m-\u001b[1;36m04\u001b[0m-08T\u001b[1;92m00:00:00\u001b[0mZ\r"
      ]
     },
     "metadata": {},
     "output_type": "display_data"
    },
    {
     "data": {
      "text/html": [
       "<pre style=\"white-space:pre;overflow-x:auto;line-height:normal;font-family:Menlo,'DejaVu Sans Mono',consolas,'Courier New',monospace\"><span style=\"color: #008080; text-decoration-color: #008080; font-weight: bold\">1990</span>-<span style=\"color: #008080; text-decoration-color: #008080; font-weight: bold\">04</span>-09T<span style=\"color: #00ff00; text-decoration-color: #00ff00; font-weight: bold\">00:00:00</span>Z\r",
       "</pre>\n"
      ],
      "text/plain": [
       "\u001b[1;36m1990\u001b[0m-\u001b[1;36m04\u001b[0m-09T\u001b[1;92m00:00:00\u001b[0mZ\r"
      ]
     },
     "metadata": {},
     "output_type": "display_data"
    },
    {
     "data": {
      "text/html": [
       "<pre style=\"white-space:pre;overflow-x:auto;line-height:normal;font-family:Menlo,'DejaVu Sans Mono',consolas,'Courier New',monospace\"><span style=\"color: #008080; text-decoration-color: #008080; font-weight: bold\">1990</span>-<span style=\"color: #008080; text-decoration-color: #008080; font-weight: bold\">04</span>-10T<span style=\"color: #00ff00; text-decoration-color: #00ff00; font-weight: bold\">00:00:00</span>Z\r",
       "</pre>\n"
      ],
      "text/plain": [
       "\u001b[1;36m1990\u001b[0m-\u001b[1;36m04\u001b[0m-10T\u001b[1;92m00:00:00\u001b[0mZ\r"
      ]
     },
     "metadata": {},
     "output_type": "display_data"
    },
    {
     "data": {
      "text/html": [
       "<pre style=\"white-space:pre;overflow-x:auto;line-height:normal;font-family:Menlo,'DejaVu Sans Mono',consolas,'Courier New',monospace\"><span style=\"color: #008080; text-decoration-color: #008080; font-weight: bold\">1990</span>-<span style=\"color: #008080; text-decoration-color: #008080; font-weight: bold\">04</span>-11T<span style=\"color: #00ff00; text-decoration-color: #00ff00; font-weight: bold\">00:00:00</span>Z\r",
       "</pre>\n"
      ],
      "text/plain": [
       "\u001b[1;36m1990\u001b[0m-\u001b[1;36m04\u001b[0m-11T\u001b[1;92m00:00:00\u001b[0mZ\r"
      ]
     },
     "metadata": {},
     "output_type": "display_data"
    },
    {
     "data": {
      "text/html": [
       "<pre style=\"white-space:pre;overflow-x:auto;line-height:normal;font-family:Menlo,'DejaVu Sans Mono',consolas,'Courier New',monospace\"><span style=\"color: #008080; text-decoration-color: #008080; font-weight: bold\">1990</span>-<span style=\"color: #008080; text-decoration-color: #008080; font-weight: bold\">04</span>-12T<span style=\"color: #00ff00; text-decoration-color: #00ff00; font-weight: bold\">00:00:00</span>Z\r",
       "</pre>\n"
      ],
      "text/plain": [
       "\u001b[1;36m1990\u001b[0m-\u001b[1;36m04\u001b[0m-12T\u001b[1;92m00:00:00\u001b[0mZ\r"
      ]
     },
     "metadata": {},
     "output_type": "display_data"
    },
    {
     "data": {
      "text/html": [
       "<pre style=\"white-space:pre;overflow-x:auto;line-height:normal;font-family:Menlo,'DejaVu Sans Mono',consolas,'Courier New',monospace\"><span style=\"color: #008080; text-decoration-color: #008080; font-weight: bold\">1990</span>-<span style=\"color: #008080; text-decoration-color: #008080; font-weight: bold\">04</span>-13T<span style=\"color: #00ff00; text-decoration-color: #00ff00; font-weight: bold\">00:00:00</span>Z\r",
       "</pre>\n"
      ],
      "text/plain": [
       "\u001b[1;36m1990\u001b[0m-\u001b[1;36m04\u001b[0m-13T\u001b[1;92m00:00:00\u001b[0mZ\r"
      ]
     },
     "metadata": {},
     "output_type": "display_data"
    },
    {
     "data": {
      "text/html": [
       "<pre style=\"white-space:pre;overflow-x:auto;line-height:normal;font-family:Menlo,'DejaVu Sans Mono',consolas,'Courier New',monospace\"><span style=\"color: #008080; text-decoration-color: #008080; font-weight: bold\">1990</span>-<span style=\"color: #008080; text-decoration-color: #008080; font-weight: bold\">04</span>-14T<span style=\"color: #00ff00; text-decoration-color: #00ff00; font-weight: bold\">00:00:00</span>Z\r",
       "</pre>\n"
      ],
      "text/plain": [
       "\u001b[1;36m1990\u001b[0m-\u001b[1;36m04\u001b[0m-14T\u001b[1;92m00:00:00\u001b[0mZ\r"
      ]
     },
     "metadata": {},
     "output_type": "display_data"
    },
    {
     "data": {
      "text/html": [
       "<pre style=\"white-space:pre;overflow-x:auto;line-height:normal;font-family:Menlo,'DejaVu Sans Mono',consolas,'Courier New',monospace\"><span style=\"color: #008080; text-decoration-color: #008080; font-weight: bold\">1990</span>-<span style=\"color: #008080; text-decoration-color: #008080; font-weight: bold\">04</span>-15T<span style=\"color: #00ff00; text-decoration-color: #00ff00; font-weight: bold\">00:00:00</span>Z\r",
       "</pre>\n"
      ],
      "text/plain": [
       "\u001b[1;36m1990\u001b[0m-\u001b[1;36m04\u001b[0m-15T\u001b[1;92m00:00:00\u001b[0mZ\r"
      ]
     },
     "metadata": {},
     "output_type": "display_data"
    },
    {
     "data": {
      "text/html": [
       "<pre style=\"white-space:pre;overflow-x:auto;line-height:normal;font-family:Menlo,'DejaVu Sans Mono',consolas,'Courier New',monospace\"><span style=\"color: #008080; text-decoration-color: #008080; font-weight: bold\">1990</span>-<span style=\"color: #008080; text-decoration-color: #008080; font-weight: bold\">04</span>-16T<span style=\"color: #00ff00; text-decoration-color: #00ff00; font-weight: bold\">00:00:00</span>Z\r",
       "</pre>\n"
      ],
      "text/plain": [
       "\u001b[1;36m1990\u001b[0m-\u001b[1;36m04\u001b[0m-16T\u001b[1;92m00:00:00\u001b[0mZ\r"
      ]
     },
     "metadata": {},
     "output_type": "display_data"
    },
    {
     "data": {
      "text/html": [
       "<pre style=\"white-space:pre;overflow-x:auto;line-height:normal;font-family:Menlo,'DejaVu Sans Mono',consolas,'Courier New',monospace\"><span style=\"color: #008080; text-decoration-color: #008080; font-weight: bold\">1990</span>-<span style=\"color: #008080; text-decoration-color: #008080; font-weight: bold\">04</span>-17T<span style=\"color: #00ff00; text-decoration-color: #00ff00; font-weight: bold\">00:00:00</span>Z\r",
       "</pre>\n"
      ],
      "text/plain": [
       "\u001b[1;36m1990\u001b[0m-\u001b[1;36m04\u001b[0m-17T\u001b[1;92m00:00:00\u001b[0mZ\r"
      ]
     },
     "metadata": {},
     "output_type": "display_data"
    },
    {
     "data": {
      "text/html": [
       "<pre style=\"white-space:pre;overflow-x:auto;line-height:normal;font-family:Menlo,'DejaVu Sans Mono',consolas,'Courier New',monospace\"><span style=\"color: #008080; text-decoration-color: #008080; font-weight: bold\">1990</span>-<span style=\"color: #008080; text-decoration-color: #008080; font-weight: bold\">04</span>-18T<span style=\"color: #00ff00; text-decoration-color: #00ff00; font-weight: bold\">00:00:00</span>Z\r",
       "</pre>\n"
      ],
      "text/plain": [
       "\u001b[1;36m1990\u001b[0m-\u001b[1;36m04\u001b[0m-18T\u001b[1;92m00:00:00\u001b[0mZ\r"
      ]
     },
     "metadata": {},
     "output_type": "display_data"
    },
    {
     "data": {
      "text/html": [
       "<pre style=\"white-space:pre;overflow-x:auto;line-height:normal;font-family:Menlo,'DejaVu Sans Mono',consolas,'Courier New',monospace\"><span style=\"color: #008080; text-decoration-color: #008080; font-weight: bold\">1990</span>-<span style=\"color: #008080; text-decoration-color: #008080; font-weight: bold\">04</span>-19T<span style=\"color: #00ff00; text-decoration-color: #00ff00; font-weight: bold\">00:00:00</span>Z\r",
       "</pre>\n"
      ],
      "text/plain": [
       "\u001b[1;36m1990\u001b[0m-\u001b[1;36m04\u001b[0m-19T\u001b[1;92m00:00:00\u001b[0mZ\r"
      ]
     },
     "metadata": {},
     "output_type": "display_data"
    },
    {
     "data": {
      "text/html": [
       "<pre style=\"white-space:pre;overflow-x:auto;line-height:normal;font-family:Menlo,'DejaVu Sans Mono',consolas,'Courier New',monospace\"><span style=\"color: #008080; text-decoration-color: #008080; font-weight: bold\">1990</span>-<span style=\"color: #008080; text-decoration-color: #008080; font-weight: bold\">04</span>-20T<span style=\"color: #00ff00; text-decoration-color: #00ff00; font-weight: bold\">00:00:00</span>Z\r",
       "</pre>\n"
      ],
      "text/plain": [
       "\u001b[1;36m1990\u001b[0m-\u001b[1;36m04\u001b[0m-20T\u001b[1;92m00:00:00\u001b[0mZ\r"
      ]
     },
     "metadata": {},
     "output_type": "display_data"
    },
    {
     "data": {
      "text/html": [
       "<pre style=\"white-space:pre;overflow-x:auto;line-height:normal;font-family:Menlo,'DejaVu Sans Mono',consolas,'Courier New',monospace\"><span style=\"color: #008080; text-decoration-color: #008080; font-weight: bold\">1990</span>-<span style=\"color: #008080; text-decoration-color: #008080; font-weight: bold\">04</span>-21T<span style=\"color: #00ff00; text-decoration-color: #00ff00; font-weight: bold\">00:00:00</span>Z\r",
       "</pre>\n"
      ],
      "text/plain": [
       "\u001b[1;36m1990\u001b[0m-\u001b[1;36m04\u001b[0m-21T\u001b[1;92m00:00:00\u001b[0mZ\r"
      ]
     },
     "metadata": {},
     "output_type": "display_data"
    },
    {
     "data": {
      "text/html": [
       "<pre style=\"white-space:pre;overflow-x:auto;line-height:normal;font-family:Menlo,'DejaVu Sans Mono',consolas,'Courier New',monospace\"><span style=\"color: #008080; text-decoration-color: #008080; font-weight: bold\">1990</span>-<span style=\"color: #008080; text-decoration-color: #008080; font-weight: bold\">04</span>-22T<span style=\"color: #00ff00; text-decoration-color: #00ff00; font-weight: bold\">00:00:00</span>Z\r",
       "</pre>\n"
      ],
      "text/plain": [
       "\u001b[1;36m1990\u001b[0m-\u001b[1;36m04\u001b[0m-22T\u001b[1;92m00:00:00\u001b[0mZ\r"
      ]
     },
     "metadata": {},
     "output_type": "display_data"
    },
    {
     "data": {
      "text/html": [
       "<pre style=\"white-space:pre;overflow-x:auto;line-height:normal;font-family:Menlo,'DejaVu Sans Mono',consolas,'Courier New',monospace\"><span style=\"color: #008080; text-decoration-color: #008080; font-weight: bold\">1990</span>-<span style=\"color: #008080; text-decoration-color: #008080; font-weight: bold\">04</span>-23T<span style=\"color: #00ff00; text-decoration-color: #00ff00; font-weight: bold\">00:00:00</span>Z\r",
       "</pre>\n"
      ],
      "text/plain": [
       "\u001b[1;36m1990\u001b[0m-\u001b[1;36m04\u001b[0m-23T\u001b[1;92m00:00:00\u001b[0mZ\r"
      ]
     },
     "metadata": {},
     "output_type": "display_data"
    },
    {
     "data": {
      "text/html": [
       "<pre style=\"white-space:pre;overflow-x:auto;line-height:normal;font-family:Menlo,'DejaVu Sans Mono',consolas,'Courier New',monospace\"><span style=\"color: #008080; text-decoration-color: #008080; font-weight: bold\">1990</span>-<span style=\"color: #008080; text-decoration-color: #008080; font-weight: bold\">04</span>-24T<span style=\"color: #00ff00; text-decoration-color: #00ff00; font-weight: bold\">00:00:00</span>Z\r",
       "</pre>\n"
      ],
      "text/plain": [
       "\u001b[1;36m1990\u001b[0m-\u001b[1;36m04\u001b[0m-24T\u001b[1;92m00:00:00\u001b[0mZ\r"
      ]
     },
     "metadata": {},
     "output_type": "display_data"
    },
    {
     "data": {
      "text/html": [
       "<pre style=\"white-space:pre;overflow-x:auto;line-height:normal;font-family:Menlo,'DejaVu Sans Mono',consolas,'Courier New',monospace\"><span style=\"color: #008080; text-decoration-color: #008080; font-weight: bold\">1990</span>-<span style=\"color: #008080; text-decoration-color: #008080; font-weight: bold\">04</span>-25T<span style=\"color: #00ff00; text-decoration-color: #00ff00; font-weight: bold\">00:00:00</span>Z\r",
       "</pre>\n"
      ],
      "text/plain": [
       "\u001b[1;36m1990\u001b[0m-\u001b[1;36m04\u001b[0m-25T\u001b[1;92m00:00:00\u001b[0mZ\r"
      ]
     },
     "metadata": {},
     "output_type": "display_data"
    },
    {
     "data": {
      "text/html": [
       "<pre style=\"white-space:pre;overflow-x:auto;line-height:normal;font-family:Menlo,'DejaVu Sans Mono',consolas,'Courier New',monospace\"><span style=\"color: #008080; text-decoration-color: #008080; font-weight: bold\">1990</span>-<span style=\"color: #008080; text-decoration-color: #008080; font-weight: bold\">04</span>-26T<span style=\"color: #00ff00; text-decoration-color: #00ff00; font-weight: bold\">00:00:00</span>Z\r",
       "</pre>\n"
      ],
      "text/plain": [
       "\u001b[1;36m1990\u001b[0m-\u001b[1;36m04\u001b[0m-26T\u001b[1;92m00:00:00\u001b[0mZ\r"
      ]
     },
     "metadata": {},
     "output_type": "display_data"
    },
    {
     "data": {
      "text/html": [
       "<pre style=\"white-space:pre;overflow-x:auto;line-height:normal;font-family:Menlo,'DejaVu Sans Mono',consolas,'Courier New',monospace\"><span style=\"color: #008080; text-decoration-color: #008080; font-weight: bold\">1990</span>-<span style=\"color: #008080; text-decoration-color: #008080; font-weight: bold\">04</span>-27T<span style=\"color: #00ff00; text-decoration-color: #00ff00; font-weight: bold\">00:00:00</span>Z\r",
       "</pre>\n"
      ],
      "text/plain": [
       "\u001b[1;36m1990\u001b[0m-\u001b[1;36m04\u001b[0m-27T\u001b[1;92m00:00:00\u001b[0mZ\r"
      ]
     },
     "metadata": {},
     "output_type": "display_data"
    },
    {
     "data": {
      "text/html": [
       "<pre style=\"white-space:pre;overflow-x:auto;line-height:normal;font-family:Menlo,'DejaVu Sans Mono',consolas,'Courier New',monospace\"><span style=\"color: #008080; text-decoration-color: #008080; font-weight: bold\">1990</span>-<span style=\"color: #008080; text-decoration-color: #008080; font-weight: bold\">04</span>-28T<span style=\"color: #00ff00; text-decoration-color: #00ff00; font-weight: bold\">00:00:00</span>Z\r",
       "</pre>\n"
      ],
      "text/plain": [
       "\u001b[1;36m1990\u001b[0m-\u001b[1;36m04\u001b[0m-28T\u001b[1;92m00:00:00\u001b[0mZ\r"
      ]
     },
     "metadata": {},
     "output_type": "display_data"
    },
    {
     "data": {
      "text/html": [
       "<pre style=\"white-space:pre;overflow-x:auto;line-height:normal;font-family:Menlo,'DejaVu Sans Mono',consolas,'Courier New',monospace\"><span style=\"color: #008080; text-decoration-color: #008080; font-weight: bold\">1990</span>-<span style=\"color: #008080; text-decoration-color: #008080; font-weight: bold\">04</span>-29T<span style=\"color: #00ff00; text-decoration-color: #00ff00; font-weight: bold\">00:00:00</span>Z\r",
       "</pre>\n"
      ],
      "text/plain": [
       "\u001b[1;36m1990\u001b[0m-\u001b[1;36m04\u001b[0m-29T\u001b[1;92m00:00:00\u001b[0mZ\r"
      ]
     },
     "metadata": {},
     "output_type": "display_data"
    },
    {
     "data": {
      "text/html": [
       "<pre style=\"white-space:pre;overflow-x:auto;line-height:normal;font-family:Menlo,'DejaVu Sans Mono',consolas,'Courier New',monospace\"><span style=\"color: #008080; text-decoration-color: #008080; font-weight: bold\">1990</span>-<span style=\"color: #008080; text-decoration-color: #008080; font-weight: bold\">04</span>-30T<span style=\"color: #00ff00; text-decoration-color: #00ff00; font-weight: bold\">00:00:00</span>Z\r",
       "</pre>\n"
      ],
      "text/plain": [
       "\u001b[1;36m1990\u001b[0m-\u001b[1;36m04\u001b[0m-30T\u001b[1;92m00:00:00\u001b[0mZ\r"
      ]
     },
     "metadata": {},
     "output_type": "display_data"
    },
    {
     "data": {
      "text/html": [
       "<pre style=\"white-space:pre;overflow-x:auto;line-height:normal;font-family:Menlo,'DejaVu Sans Mono',consolas,'Courier New',monospace\"><span style=\"color: #008080; text-decoration-color: #008080; font-weight: bold\">1990</span>-<span style=\"color: #008080; text-decoration-color: #008080; font-weight: bold\">05</span>-01T<span style=\"color: #00ff00; text-decoration-color: #00ff00; font-weight: bold\">00:00:00</span>Z\r",
       "</pre>\n"
      ],
      "text/plain": [
       "\u001b[1;36m1990\u001b[0m-\u001b[1;36m05\u001b[0m-01T\u001b[1;92m00:00:00\u001b[0mZ\r"
      ]
     },
     "metadata": {},
     "output_type": "display_data"
    },
    {
     "data": {
      "text/html": [
       "<pre style=\"white-space:pre;overflow-x:auto;line-height:normal;font-family:Menlo,'DejaVu Sans Mono',consolas,'Courier New',monospace\"><span style=\"color: #008080; text-decoration-color: #008080; font-weight: bold\">1990</span>-<span style=\"color: #008080; text-decoration-color: #008080; font-weight: bold\">05</span>-02T<span style=\"color: #00ff00; text-decoration-color: #00ff00; font-weight: bold\">00:00:00</span>Z\r",
       "</pre>\n"
      ],
      "text/plain": [
       "\u001b[1;36m1990\u001b[0m-\u001b[1;36m05\u001b[0m-02T\u001b[1;92m00:00:00\u001b[0mZ\r"
      ]
     },
     "metadata": {},
     "output_type": "display_data"
    },
    {
     "data": {
      "text/html": [
       "<pre style=\"white-space:pre;overflow-x:auto;line-height:normal;font-family:Menlo,'DejaVu Sans Mono',consolas,'Courier New',monospace\"><span style=\"color: #008080; text-decoration-color: #008080; font-weight: bold\">1990</span>-<span style=\"color: #008080; text-decoration-color: #008080; font-weight: bold\">05</span>-03T<span style=\"color: #00ff00; text-decoration-color: #00ff00; font-weight: bold\">00:00:00</span>Z\r",
       "</pre>\n"
      ],
      "text/plain": [
       "\u001b[1;36m1990\u001b[0m-\u001b[1;36m05\u001b[0m-03T\u001b[1;92m00:00:00\u001b[0mZ\r"
      ]
     },
     "metadata": {},
     "output_type": "display_data"
    },
    {
     "data": {
      "text/html": [
       "<pre style=\"white-space:pre;overflow-x:auto;line-height:normal;font-family:Menlo,'DejaVu Sans Mono',consolas,'Courier New',monospace\"><span style=\"color: #008080; text-decoration-color: #008080; font-weight: bold\">1990</span>-<span style=\"color: #008080; text-decoration-color: #008080; font-weight: bold\">05</span>-04T<span style=\"color: #00ff00; text-decoration-color: #00ff00; font-weight: bold\">00:00:00</span>Z\r",
       "</pre>\n"
      ],
      "text/plain": [
       "\u001b[1;36m1990\u001b[0m-\u001b[1;36m05\u001b[0m-04T\u001b[1;92m00:00:00\u001b[0mZ\r"
      ]
     },
     "metadata": {},
     "output_type": "display_data"
    },
    {
     "data": {
      "text/html": [
       "<pre style=\"white-space:pre;overflow-x:auto;line-height:normal;font-family:Menlo,'DejaVu Sans Mono',consolas,'Courier New',monospace\"><span style=\"color: #008080; text-decoration-color: #008080; font-weight: bold\">1990</span>-<span style=\"color: #008080; text-decoration-color: #008080; font-weight: bold\">05</span>-05T<span style=\"color: #00ff00; text-decoration-color: #00ff00; font-weight: bold\">00:00:00</span>Z\r",
       "</pre>\n"
      ],
      "text/plain": [
       "\u001b[1;36m1990\u001b[0m-\u001b[1;36m05\u001b[0m-05T\u001b[1;92m00:00:00\u001b[0mZ\r"
      ]
     },
     "metadata": {},
     "output_type": "display_data"
    },
    {
     "data": {
      "text/html": [
       "<pre style=\"white-space:pre;overflow-x:auto;line-height:normal;font-family:Menlo,'DejaVu Sans Mono',consolas,'Courier New',monospace\"><span style=\"color: #008080; text-decoration-color: #008080; font-weight: bold\">1990</span>-<span style=\"color: #008080; text-decoration-color: #008080; font-weight: bold\">05</span>-06T<span style=\"color: #00ff00; text-decoration-color: #00ff00; font-weight: bold\">00:00:00</span>Z\r",
       "</pre>\n"
      ],
      "text/plain": [
       "\u001b[1;36m1990\u001b[0m-\u001b[1;36m05\u001b[0m-06T\u001b[1;92m00:00:00\u001b[0mZ\r"
      ]
     },
     "metadata": {},
     "output_type": "display_data"
    },
    {
     "data": {
      "text/html": [
       "<pre style=\"white-space:pre;overflow-x:auto;line-height:normal;font-family:Menlo,'DejaVu Sans Mono',consolas,'Courier New',monospace\"><span style=\"color: #008080; text-decoration-color: #008080; font-weight: bold\">1990</span>-<span style=\"color: #008080; text-decoration-color: #008080; font-weight: bold\">05</span>-07T<span style=\"color: #00ff00; text-decoration-color: #00ff00; font-weight: bold\">00:00:00</span>Z\r",
       "</pre>\n"
      ],
      "text/plain": [
       "\u001b[1;36m1990\u001b[0m-\u001b[1;36m05\u001b[0m-07T\u001b[1;92m00:00:00\u001b[0mZ\r"
      ]
     },
     "metadata": {},
     "output_type": "display_data"
    },
    {
     "data": {
      "text/html": [
       "<pre style=\"white-space:pre;overflow-x:auto;line-height:normal;font-family:Menlo,'DejaVu Sans Mono',consolas,'Courier New',monospace\"><span style=\"color: #008080; text-decoration-color: #008080; font-weight: bold\">1990</span>-<span style=\"color: #008080; text-decoration-color: #008080; font-weight: bold\">05</span>-08T<span style=\"color: #00ff00; text-decoration-color: #00ff00; font-weight: bold\">00:00:00</span>Z\r",
       "</pre>\n"
      ],
      "text/plain": [
       "\u001b[1;36m1990\u001b[0m-\u001b[1;36m05\u001b[0m-08T\u001b[1;92m00:00:00\u001b[0mZ\r"
      ]
     },
     "metadata": {},
     "output_type": "display_data"
    },
    {
     "data": {
      "text/html": [
       "<pre style=\"white-space:pre;overflow-x:auto;line-height:normal;font-family:Menlo,'DejaVu Sans Mono',consolas,'Courier New',monospace\"><span style=\"color: #008080; text-decoration-color: #008080; font-weight: bold\">1990</span>-<span style=\"color: #008080; text-decoration-color: #008080; font-weight: bold\">05</span>-09T<span style=\"color: #00ff00; text-decoration-color: #00ff00; font-weight: bold\">00:00:00</span>Z\r",
       "</pre>\n"
      ],
      "text/plain": [
       "\u001b[1;36m1990\u001b[0m-\u001b[1;36m05\u001b[0m-09T\u001b[1;92m00:00:00\u001b[0mZ\r"
      ]
     },
     "metadata": {},
     "output_type": "display_data"
    },
    {
     "data": {
      "text/html": [
       "<pre style=\"white-space:pre;overflow-x:auto;line-height:normal;font-family:Menlo,'DejaVu Sans Mono',consolas,'Courier New',monospace\"><span style=\"color: #008080; text-decoration-color: #008080; font-weight: bold\">1990</span>-<span style=\"color: #008080; text-decoration-color: #008080; font-weight: bold\">05</span>-10T<span style=\"color: #00ff00; text-decoration-color: #00ff00; font-weight: bold\">00:00:00</span>Z\r",
       "</pre>\n"
      ],
      "text/plain": [
       "\u001b[1;36m1990\u001b[0m-\u001b[1;36m05\u001b[0m-10T\u001b[1;92m00:00:00\u001b[0mZ\r"
      ]
     },
     "metadata": {},
     "output_type": "display_data"
    },
    {
     "data": {
      "text/html": [
       "<pre style=\"white-space:pre;overflow-x:auto;line-height:normal;font-family:Menlo,'DejaVu Sans Mono',consolas,'Courier New',monospace\"><span style=\"color: #008080; text-decoration-color: #008080; font-weight: bold\">1990</span>-<span style=\"color: #008080; text-decoration-color: #008080; font-weight: bold\">05</span>-11T<span style=\"color: #00ff00; text-decoration-color: #00ff00; font-weight: bold\">00:00:00</span>Z\r",
       "</pre>\n"
      ],
      "text/plain": [
       "\u001b[1;36m1990\u001b[0m-\u001b[1;36m05\u001b[0m-11T\u001b[1;92m00:00:00\u001b[0mZ\r"
      ]
     },
     "metadata": {},
     "output_type": "display_data"
    },
    {
     "data": {
      "text/html": [
       "<pre style=\"white-space:pre;overflow-x:auto;line-height:normal;font-family:Menlo,'DejaVu Sans Mono',consolas,'Courier New',monospace\"><span style=\"color: #008080; text-decoration-color: #008080; font-weight: bold\">1990</span>-<span style=\"color: #008080; text-decoration-color: #008080; font-weight: bold\">05</span>-12T<span style=\"color: #00ff00; text-decoration-color: #00ff00; font-weight: bold\">00:00:00</span>Z\r",
       "</pre>\n"
      ],
      "text/plain": [
       "\u001b[1;36m1990\u001b[0m-\u001b[1;36m05\u001b[0m-12T\u001b[1;92m00:00:00\u001b[0mZ\r"
      ]
     },
     "metadata": {},
     "output_type": "display_data"
    },
    {
     "data": {
      "text/html": [
       "<pre style=\"white-space:pre;overflow-x:auto;line-height:normal;font-family:Menlo,'DejaVu Sans Mono',consolas,'Courier New',monospace\"><span style=\"color: #008080; text-decoration-color: #008080; font-weight: bold\">1990</span>-<span style=\"color: #008080; text-decoration-color: #008080; font-weight: bold\">05</span>-13T<span style=\"color: #00ff00; text-decoration-color: #00ff00; font-weight: bold\">00:00:00</span>Z\r",
       "</pre>\n"
      ],
      "text/plain": [
       "\u001b[1;36m1990\u001b[0m-\u001b[1;36m05\u001b[0m-13T\u001b[1;92m00:00:00\u001b[0mZ\r"
      ]
     },
     "metadata": {},
     "output_type": "display_data"
    },
    {
     "data": {
      "text/html": [
       "<pre style=\"white-space:pre;overflow-x:auto;line-height:normal;font-family:Menlo,'DejaVu Sans Mono',consolas,'Courier New',monospace\"><span style=\"color: #008080; text-decoration-color: #008080; font-weight: bold\">1990</span>-<span style=\"color: #008080; text-decoration-color: #008080; font-weight: bold\">05</span>-14T<span style=\"color: #00ff00; text-decoration-color: #00ff00; font-weight: bold\">00:00:00</span>Z\r",
       "</pre>\n"
      ],
      "text/plain": [
       "\u001b[1;36m1990\u001b[0m-\u001b[1;36m05\u001b[0m-14T\u001b[1;92m00:00:00\u001b[0mZ\r"
      ]
     },
     "metadata": {},
     "output_type": "display_data"
    },
    {
     "data": {
      "text/html": [
       "<pre style=\"white-space:pre;overflow-x:auto;line-height:normal;font-family:Menlo,'DejaVu Sans Mono',consolas,'Courier New',monospace\"><span style=\"color: #008080; text-decoration-color: #008080; font-weight: bold\">1990</span>-<span style=\"color: #008080; text-decoration-color: #008080; font-weight: bold\">05</span>-15T<span style=\"color: #00ff00; text-decoration-color: #00ff00; font-weight: bold\">00:00:00</span>Z\r",
       "</pre>\n"
      ],
      "text/plain": [
       "\u001b[1;36m1990\u001b[0m-\u001b[1;36m05\u001b[0m-15T\u001b[1;92m00:00:00\u001b[0mZ\r"
      ]
     },
     "metadata": {},
     "output_type": "display_data"
    },
    {
     "data": {
      "text/html": [
       "<pre style=\"white-space:pre;overflow-x:auto;line-height:normal;font-family:Menlo,'DejaVu Sans Mono',consolas,'Courier New',monospace\"><span style=\"color: #008080; text-decoration-color: #008080; font-weight: bold\">1990</span>-<span style=\"color: #008080; text-decoration-color: #008080; font-weight: bold\">05</span>-16T<span style=\"color: #00ff00; text-decoration-color: #00ff00; font-weight: bold\">00:00:00</span>Z\r",
       "</pre>\n"
      ],
      "text/plain": [
       "\u001b[1;36m1990\u001b[0m-\u001b[1;36m05\u001b[0m-16T\u001b[1;92m00:00:00\u001b[0mZ\r"
      ]
     },
     "metadata": {},
     "output_type": "display_data"
    },
    {
     "data": {
      "text/html": [
       "<pre style=\"white-space:pre;overflow-x:auto;line-height:normal;font-family:Menlo,'DejaVu Sans Mono',consolas,'Courier New',monospace\"><span style=\"color: #008080; text-decoration-color: #008080; font-weight: bold\">1990</span>-<span style=\"color: #008080; text-decoration-color: #008080; font-weight: bold\">05</span>-17T<span style=\"color: #00ff00; text-decoration-color: #00ff00; font-weight: bold\">00:00:00</span>Z\r",
       "</pre>\n"
      ],
      "text/plain": [
       "\u001b[1;36m1990\u001b[0m-\u001b[1;36m05\u001b[0m-17T\u001b[1;92m00:00:00\u001b[0mZ\r"
      ]
     },
     "metadata": {},
     "output_type": "display_data"
    },
    {
     "data": {
      "text/html": [
       "<pre style=\"white-space:pre;overflow-x:auto;line-height:normal;font-family:Menlo,'DejaVu Sans Mono',consolas,'Courier New',monospace\"><span style=\"color: #008080; text-decoration-color: #008080; font-weight: bold\">1990</span>-<span style=\"color: #008080; text-decoration-color: #008080; font-weight: bold\">05</span>-18T<span style=\"color: #00ff00; text-decoration-color: #00ff00; font-weight: bold\">00:00:00</span>Z\r",
       "</pre>\n"
      ],
      "text/plain": [
       "\u001b[1;36m1990\u001b[0m-\u001b[1;36m05\u001b[0m-18T\u001b[1;92m00:00:00\u001b[0mZ\r"
      ]
     },
     "metadata": {},
     "output_type": "display_data"
    },
    {
     "data": {
      "text/html": [
       "<pre style=\"white-space:pre;overflow-x:auto;line-height:normal;font-family:Menlo,'DejaVu Sans Mono',consolas,'Courier New',monospace\"><span style=\"color: #008080; text-decoration-color: #008080; font-weight: bold\">1990</span>-<span style=\"color: #008080; text-decoration-color: #008080; font-weight: bold\">05</span>-19T<span style=\"color: #00ff00; text-decoration-color: #00ff00; font-weight: bold\">00:00:00</span>Z\r",
       "</pre>\n"
      ],
      "text/plain": [
       "\u001b[1;36m1990\u001b[0m-\u001b[1;36m05\u001b[0m-19T\u001b[1;92m00:00:00\u001b[0mZ\r"
      ]
     },
     "metadata": {},
     "output_type": "display_data"
    },
    {
     "data": {
      "text/html": [
       "<pre style=\"white-space:pre;overflow-x:auto;line-height:normal;font-family:Menlo,'DejaVu Sans Mono',consolas,'Courier New',monospace\"><span style=\"color: #008080; text-decoration-color: #008080; font-weight: bold\">1990</span>-<span style=\"color: #008080; text-decoration-color: #008080; font-weight: bold\">05</span>-20T<span style=\"color: #00ff00; text-decoration-color: #00ff00; font-weight: bold\">00:00:00</span>Z\r",
       "</pre>\n"
      ],
      "text/plain": [
       "\u001b[1;36m1990\u001b[0m-\u001b[1;36m05\u001b[0m-20T\u001b[1;92m00:00:00\u001b[0mZ\r"
      ]
     },
     "metadata": {},
     "output_type": "display_data"
    },
    {
     "data": {
      "text/html": [
       "<pre style=\"white-space:pre;overflow-x:auto;line-height:normal;font-family:Menlo,'DejaVu Sans Mono',consolas,'Courier New',monospace\"><span style=\"color: #008080; text-decoration-color: #008080; font-weight: bold\">1990</span>-<span style=\"color: #008080; text-decoration-color: #008080; font-weight: bold\">05</span>-21T<span style=\"color: #00ff00; text-decoration-color: #00ff00; font-weight: bold\">00:00:00</span>Z\r",
       "</pre>\n"
      ],
      "text/plain": [
       "\u001b[1;36m1990\u001b[0m-\u001b[1;36m05\u001b[0m-21T\u001b[1;92m00:00:00\u001b[0mZ\r"
      ]
     },
     "metadata": {},
     "output_type": "display_data"
    },
    {
     "data": {
      "text/html": [
       "<pre style=\"white-space:pre;overflow-x:auto;line-height:normal;font-family:Menlo,'DejaVu Sans Mono',consolas,'Courier New',monospace\"><span style=\"color: #008080; text-decoration-color: #008080; font-weight: bold\">1990</span>-<span style=\"color: #008080; text-decoration-color: #008080; font-weight: bold\">05</span>-22T<span style=\"color: #00ff00; text-decoration-color: #00ff00; font-weight: bold\">00:00:00</span>Z\r",
       "</pre>\n"
      ],
      "text/plain": [
       "\u001b[1;36m1990\u001b[0m-\u001b[1;36m05\u001b[0m-22T\u001b[1;92m00:00:00\u001b[0mZ\r"
      ]
     },
     "metadata": {},
     "output_type": "display_data"
    },
    {
     "data": {
      "text/html": [
       "<pre style=\"white-space:pre;overflow-x:auto;line-height:normal;font-family:Menlo,'DejaVu Sans Mono',consolas,'Courier New',monospace\"><span style=\"color: #008080; text-decoration-color: #008080; font-weight: bold\">1990</span>-<span style=\"color: #008080; text-decoration-color: #008080; font-weight: bold\">05</span>-23T<span style=\"color: #00ff00; text-decoration-color: #00ff00; font-weight: bold\">00:00:00</span>Z\r",
       "</pre>\n"
      ],
      "text/plain": [
       "\u001b[1;36m1990\u001b[0m-\u001b[1;36m05\u001b[0m-23T\u001b[1;92m00:00:00\u001b[0mZ\r"
      ]
     },
     "metadata": {},
     "output_type": "display_data"
    },
    {
     "data": {
      "text/html": [
       "<pre style=\"white-space:pre;overflow-x:auto;line-height:normal;font-family:Menlo,'DejaVu Sans Mono',consolas,'Courier New',monospace\"><span style=\"color: #008080; text-decoration-color: #008080; font-weight: bold\">1990</span>-<span style=\"color: #008080; text-decoration-color: #008080; font-weight: bold\">05</span>-24T<span style=\"color: #00ff00; text-decoration-color: #00ff00; font-weight: bold\">00:00:00</span>Z\r",
       "</pre>\n"
      ],
      "text/plain": [
       "\u001b[1;36m1990\u001b[0m-\u001b[1;36m05\u001b[0m-24T\u001b[1;92m00:00:00\u001b[0mZ\r"
      ]
     },
     "metadata": {},
     "output_type": "display_data"
    },
    {
     "data": {
      "text/html": [
       "<pre style=\"white-space:pre;overflow-x:auto;line-height:normal;font-family:Menlo,'DejaVu Sans Mono',consolas,'Courier New',monospace\"><span style=\"color: #008080; text-decoration-color: #008080; font-weight: bold\">1990</span>-<span style=\"color: #008080; text-decoration-color: #008080; font-weight: bold\">05</span>-25T<span style=\"color: #00ff00; text-decoration-color: #00ff00; font-weight: bold\">00:00:00</span>Z\r",
       "</pre>\n"
      ],
      "text/plain": [
       "\u001b[1;36m1990\u001b[0m-\u001b[1;36m05\u001b[0m-25T\u001b[1;92m00:00:00\u001b[0mZ\r"
      ]
     },
     "metadata": {},
     "output_type": "display_data"
    },
    {
     "data": {
      "text/html": [
       "<pre style=\"white-space:pre;overflow-x:auto;line-height:normal;font-family:Menlo,'DejaVu Sans Mono',consolas,'Courier New',monospace\"><span style=\"color: #008080; text-decoration-color: #008080; font-weight: bold\">1990</span>-<span style=\"color: #008080; text-decoration-color: #008080; font-weight: bold\">05</span>-26T<span style=\"color: #00ff00; text-decoration-color: #00ff00; font-weight: bold\">00:00:00</span>Z\r",
       "</pre>\n"
      ],
      "text/plain": [
       "\u001b[1;36m1990\u001b[0m-\u001b[1;36m05\u001b[0m-26T\u001b[1;92m00:00:00\u001b[0mZ\r"
      ]
     },
     "metadata": {},
     "output_type": "display_data"
    },
    {
     "data": {
      "text/html": [
       "<pre style=\"white-space:pre;overflow-x:auto;line-height:normal;font-family:Menlo,'DejaVu Sans Mono',consolas,'Courier New',monospace\"><span style=\"color: #008080; text-decoration-color: #008080; font-weight: bold\">1990</span>-<span style=\"color: #008080; text-decoration-color: #008080; font-weight: bold\">05</span>-27T<span style=\"color: #00ff00; text-decoration-color: #00ff00; font-weight: bold\">00:00:00</span>Z\r",
       "</pre>\n"
      ],
      "text/plain": [
       "\u001b[1;36m1990\u001b[0m-\u001b[1;36m05\u001b[0m-27T\u001b[1;92m00:00:00\u001b[0mZ\r"
      ]
     },
     "metadata": {},
     "output_type": "display_data"
    },
    {
     "data": {
      "text/html": [
       "<pre style=\"white-space:pre;overflow-x:auto;line-height:normal;font-family:Menlo,'DejaVu Sans Mono',consolas,'Courier New',monospace\"><span style=\"color: #008080; text-decoration-color: #008080; font-weight: bold\">1990</span>-<span style=\"color: #008080; text-decoration-color: #008080; font-weight: bold\">05</span>-28T<span style=\"color: #00ff00; text-decoration-color: #00ff00; font-weight: bold\">00:00:00</span>Z\r",
       "</pre>\n"
      ],
      "text/plain": [
       "\u001b[1;36m1990\u001b[0m-\u001b[1;36m05\u001b[0m-28T\u001b[1;92m00:00:00\u001b[0mZ\r"
      ]
     },
     "metadata": {},
     "output_type": "display_data"
    },
    {
     "data": {
      "text/html": [
       "<pre style=\"white-space:pre;overflow-x:auto;line-height:normal;font-family:Menlo,'DejaVu Sans Mono',consolas,'Courier New',monospace\"><span style=\"color: #008080; text-decoration-color: #008080; font-weight: bold\">1990</span>-<span style=\"color: #008080; text-decoration-color: #008080; font-weight: bold\">05</span>-29T<span style=\"color: #00ff00; text-decoration-color: #00ff00; font-weight: bold\">00:00:00</span>Z\r",
       "</pre>\n"
      ],
      "text/plain": [
       "\u001b[1;36m1990\u001b[0m-\u001b[1;36m05\u001b[0m-29T\u001b[1;92m00:00:00\u001b[0mZ\r"
      ]
     },
     "metadata": {},
     "output_type": "display_data"
    },
    {
     "data": {
      "text/html": [
       "<pre style=\"white-space:pre;overflow-x:auto;line-height:normal;font-family:Menlo,'DejaVu Sans Mono',consolas,'Courier New',monospace\"><span style=\"color: #008080; text-decoration-color: #008080; font-weight: bold\">1990</span>-<span style=\"color: #008080; text-decoration-color: #008080; font-weight: bold\">05</span>-30T<span style=\"color: #00ff00; text-decoration-color: #00ff00; font-weight: bold\">00:00:00</span>Z\r",
       "</pre>\n"
      ],
      "text/plain": [
       "\u001b[1;36m1990\u001b[0m-\u001b[1;36m05\u001b[0m-30T\u001b[1;92m00:00:00\u001b[0mZ\r"
      ]
     },
     "metadata": {},
     "output_type": "display_data"
    },
    {
     "data": {
      "text/html": [
       "<pre style=\"white-space:pre;overflow-x:auto;line-height:normal;font-family:Menlo,'DejaVu Sans Mono',consolas,'Courier New',monospace\"><span style=\"color: #008080; text-decoration-color: #008080; font-weight: bold\">1990</span>-<span style=\"color: #008080; text-decoration-color: #008080; font-weight: bold\">05</span>-31T<span style=\"color: #00ff00; text-decoration-color: #00ff00; font-weight: bold\">00:00:00</span>Z\r",
       "</pre>\n"
      ],
      "text/plain": [
       "\u001b[1;36m1990\u001b[0m-\u001b[1;36m05\u001b[0m-31T\u001b[1;92m00:00:00\u001b[0mZ\r"
      ]
     },
     "metadata": {},
     "output_type": "display_data"
    },
    {
     "data": {
      "text/html": [
       "<pre style=\"white-space:pre;overflow-x:auto;line-height:normal;font-family:Menlo,'DejaVu Sans Mono',consolas,'Courier New',monospace\"><span style=\"color: #008080; text-decoration-color: #008080; font-weight: bold\">1990</span>-<span style=\"color: #008080; text-decoration-color: #008080; font-weight: bold\">06</span>-01T<span style=\"color: #00ff00; text-decoration-color: #00ff00; font-weight: bold\">00:00:00</span>Z\r",
       "</pre>\n"
      ],
      "text/plain": [
       "\u001b[1;36m1990\u001b[0m-\u001b[1;36m06\u001b[0m-01T\u001b[1;92m00:00:00\u001b[0mZ\r"
      ]
     },
     "metadata": {},
     "output_type": "display_data"
    },
    {
     "data": {
      "text/html": [
       "<pre style=\"white-space:pre;overflow-x:auto;line-height:normal;font-family:Menlo,'DejaVu Sans Mono',consolas,'Courier New',monospace\"><span style=\"color: #008080; text-decoration-color: #008080; font-weight: bold\">1990</span>-<span style=\"color: #008080; text-decoration-color: #008080; font-weight: bold\">06</span>-02T<span style=\"color: #00ff00; text-decoration-color: #00ff00; font-weight: bold\">00:00:00</span>Z\r",
       "</pre>\n"
      ],
      "text/plain": [
       "\u001b[1;36m1990\u001b[0m-\u001b[1;36m06\u001b[0m-02T\u001b[1;92m00:00:00\u001b[0mZ\r"
      ]
     },
     "metadata": {},
     "output_type": "display_data"
    },
    {
     "data": {
      "text/html": [
       "<pre style=\"white-space:pre;overflow-x:auto;line-height:normal;font-family:Menlo,'DejaVu Sans Mono',consolas,'Courier New',monospace\"><span style=\"color: #008080; text-decoration-color: #008080; font-weight: bold\">1990</span>-<span style=\"color: #008080; text-decoration-color: #008080; font-weight: bold\">06</span>-03T<span style=\"color: #00ff00; text-decoration-color: #00ff00; font-weight: bold\">00:00:00</span>Z\r",
       "</pre>\n"
      ],
      "text/plain": [
       "\u001b[1;36m1990\u001b[0m-\u001b[1;36m06\u001b[0m-03T\u001b[1;92m00:00:00\u001b[0mZ\r"
      ]
     },
     "metadata": {},
     "output_type": "display_data"
    },
    {
     "data": {
      "text/html": [
       "<pre style=\"white-space:pre;overflow-x:auto;line-height:normal;font-family:Menlo,'DejaVu Sans Mono',consolas,'Courier New',monospace\"><span style=\"color: #008080; text-decoration-color: #008080; font-weight: bold\">1990</span>-<span style=\"color: #008080; text-decoration-color: #008080; font-weight: bold\">06</span>-04T<span style=\"color: #00ff00; text-decoration-color: #00ff00; font-weight: bold\">00:00:00</span>Z\r",
       "</pre>\n"
      ],
      "text/plain": [
       "\u001b[1;36m1990\u001b[0m-\u001b[1;36m06\u001b[0m-04T\u001b[1;92m00:00:00\u001b[0mZ\r"
      ]
     },
     "metadata": {},
     "output_type": "display_data"
    },
    {
     "data": {
      "text/html": [
       "<pre style=\"white-space:pre;overflow-x:auto;line-height:normal;font-family:Menlo,'DejaVu Sans Mono',consolas,'Courier New',monospace\"><span style=\"color: #008080; text-decoration-color: #008080; font-weight: bold\">1990</span>-<span style=\"color: #008080; text-decoration-color: #008080; font-weight: bold\">06</span>-05T<span style=\"color: #00ff00; text-decoration-color: #00ff00; font-weight: bold\">00:00:00</span>Z\r",
       "</pre>\n"
      ],
      "text/plain": [
       "\u001b[1;36m1990\u001b[0m-\u001b[1;36m06\u001b[0m-05T\u001b[1;92m00:00:00\u001b[0mZ\r"
      ]
     },
     "metadata": {},
     "output_type": "display_data"
    },
    {
     "data": {
      "text/html": [
       "<pre style=\"white-space:pre;overflow-x:auto;line-height:normal;font-family:Menlo,'DejaVu Sans Mono',consolas,'Courier New',monospace\"><span style=\"color: #008080; text-decoration-color: #008080; font-weight: bold\">1990</span>-<span style=\"color: #008080; text-decoration-color: #008080; font-weight: bold\">06</span>-06T<span style=\"color: #00ff00; text-decoration-color: #00ff00; font-weight: bold\">00:00:00</span>Z\r",
       "</pre>\n"
      ],
      "text/plain": [
       "\u001b[1;36m1990\u001b[0m-\u001b[1;36m06\u001b[0m-06T\u001b[1;92m00:00:00\u001b[0mZ\r"
      ]
     },
     "metadata": {},
     "output_type": "display_data"
    },
    {
     "data": {
      "text/html": [
       "<pre style=\"white-space:pre;overflow-x:auto;line-height:normal;font-family:Menlo,'DejaVu Sans Mono',consolas,'Courier New',monospace\"><span style=\"color: #008080; text-decoration-color: #008080; font-weight: bold\">1990</span>-<span style=\"color: #008080; text-decoration-color: #008080; font-weight: bold\">06</span>-07T<span style=\"color: #00ff00; text-decoration-color: #00ff00; font-weight: bold\">00:00:00</span>Z\r",
       "</pre>\n"
      ],
      "text/plain": [
       "\u001b[1;36m1990\u001b[0m-\u001b[1;36m06\u001b[0m-07T\u001b[1;92m00:00:00\u001b[0mZ\r"
      ]
     },
     "metadata": {},
     "output_type": "display_data"
    },
    {
     "data": {
      "text/html": [
       "<pre style=\"white-space:pre;overflow-x:auto;line-height:normal;font-family:Menlo,'DejaVu Sans Mono',consolas,'Courier New',monospace\"><span style=\"color: #008080; text-decoration-color: #008080; font-weight: bold\">1990</span>-<span style=\"color: #008080; text-decoration-color: #008080; font-weight: bold\">06</span>-08T<span style=\"color: #00ff00; text-decoration-color: #00ff00; font-weight: bold\">00:00:00</span>Z\r",
       "</pre>\n"
      ],
      "text/plain": [
       "\u001b[1;36m1990\u001b[0m-\u001b[1;36m06\u001b[0m-08T\u001b[1;92m00:00:00\u001b[0mZ\r"
      ]
     },
     "metadata": {},
     "output_type": "display_data"
    },
    {
     "data": {
      "text/html": [
       "<pre style=\"white-space:pre;overflow-x:auto;line-height:normal;font-family:Menlo,'DejaVu Sans Mono',consolas,'Courier New',monospace\"><span style=\"color: #008080; text-decoration-color: #008080; font-weight: bold\">1990</span>-<span style=\"color: #008080; text-decoration-color: #008080; font-weight: bold\">06</span>-09T<span style=\"color: #00ff00; text-decoration-color: #00ff00; font-weight: bold\">00:00:00</span>Z\r",
       "</pre>\n"
      ],
      "text/plain": [
       "\u001b[1;36m1990\u001b[0m-\u001b[1;36m06\u001b[0m-09T\u001b[1;92m00:00:00\u001b[0mZ\r"
      ]
     },
     "metadata": {},
     "output_type": "display_data"
    },
    {
     "data": {
      "text/html": [
       "<pre style=\"white-space:pre;overflow-x:auto;line-height:normal;font-family:Menlo,'DejaVu Sans Mono',consolas,'Courier New',monospace\"><span style=\"color: #008080; text-decoration-color: #008080; font-weight: bold\">1990</span>-<span style=\"color: #008080; text-decoration-color: #008080; font-weight: bold\">06</span>-10T<span style=\"color: #00ff00; text-decoration-color: #00ff00; font-weight: bold\">00:00:00</span>Z\r",
       "</pre>\n"
      ],
      "text/plain": [
       "\u001b[1;36m1990\u001b[0m-\u001b[1;36m06\u001b[0m-10T\u001b[1;92m00:00:00\u001b[0mZ\r"
      ]
     },
     "metadata": {},
     "output_type": "display_data"
    },
    {
     "data": {
      "text/html": [
       "<pre style=\"white-space:pre;overflow-x:auto;line-height:normal;font-family:Menlo,'DejaVu Sans Mono',consolas,'Courier New',monospace\"><span style=\"color: #008080; text-decoration-color: #008080; font-weight: bold\">1990</span>-<span style=\"color: #008080; text-decoration-color: #008080; font-weight: bold\">06</span>-11T<span style=\"color: #00ff00; text-decoration-color: #00ff00; font-weight: bold\">00:00:00</span>Z\r",
       "</pre>\n"
      ],
      "text/plain": [
       "\u001b[1;36m1990\u001b[0m-\u001b[1;36m06\u001b[0m-11T\u001b[1;92m00:00:00\u001b[0mZ\r"
      ]
     },
     "metadata": {},
     "output_type": "display_data"
    },
    {
     "data": {
      "text/html": [
       "<pre style=\"white-space:pre;overflow-x:auto;line-height:normal;font-family:Menlo,'DejaVu Sans Mono',consolas,'Courier New',monospace\"><span style=\"color: #008080; text-decoration-color: #008080; font-weight: bold\">1990</span>-<span style=\"color: #008080; text-decoration-color: #008080; font-weight: bold\">06</span>-12T<span style=\"color: #00ff00; text-decoration-color: #00ff00; font-weight: bold\">00:00:00</span>Z\r",
       "</pre>\n"
      ],
      "text/plain": [
       "\u001b[1;36m1990\u001b[0m-\u001b[1;36m06\u001b[0m-12T\u001b[1;92m00:00:00\u001b[0mZ\r"
      ]
     },
     "metadata": {},
     "output_type": "display_data"
    },
    {
     "data": {
      "text/html": [
       "<pre style=\"white-space:pre;overflow-x:auto;line-height:normal;font-family:Menlo,'DejaVu Sans Mono',consolas,'Courier New',monospace\"><span style=\"color: #008080; text-decoration-color: #008080; font-weight: bold\">1990</span>-<span style=\"color: #008080; text-decoration-color: #008080; font-weight: bold\">06</span>-13T<span style=\"color: #00ff00; text-decoration-color: #00ff00; font-weight: bold\">00:00:00</span>Z\r",
       "</pre>\n"
      ],
      "text/plain": [
       "\u001b[1;36m1990\u001b[0m-\u001b[1;36m06\u001b[0m-13T\u001b[1;92m00:00:00\u001b[0mZ\r"
      ]
     },
     "metadata": {},
     "output_type": "display_data"
    },
    {
     "data": {
      "text/html": [
       "<pre style=\"white-space:pre;overflow-x:auto;line-height:normal;font-family:Menlo,'DejaVu Sans Mono',consolas,'Courier New',monospace\"><span style=\"color: #008080; text-decoration-color: #008080; font-weight: bold\">1990</span>-<span style=\"color: #008080; text-decoration-color: #008080; font-weight: bold\">06</span>-14T<span style=\"color: #00ff00; text-decoration-color: #00ff00; font-weight: bold\">00:00:00</span>Z\r",
       "</pre>\n"
      ],
      "text/plain": [
       "\u001b[1;36m1990\u001b[0m-\u001b[1;36m06\u001b[0m-14T\u001b[1;92m00:00:00\u001b[0mZ\r"
      ]
     },
     "metadata": {},
     "output_type": "display_data"
    },
    {
     "data": {
      "text/html": [
       "<pre style=\"white-space:pre;overflow-x:auto;line-height:normal;font-family:Menlo,'DejaVu Sans Mono',consolas,'Courier New',monospace\"><span style=\"color: #008080; text-decoration-color: #008080; font-weight: bold\">1990</span>-<span style=\"color: #008080; text-decoration-color: #008080; font-weight: bold\">06</span>-15T<span style=\"color: #00ff00; text-decoration-color: #00ff00; font-weight: bold\">00:00:00</span>Z\r",
       "</pre>\n"
      ],
      "text/plain": [
       "\u001b[1;36m1990\u001b[0m-\u001b[1;36m06\u001b[0m-15T\u001b[1;92m00:00:00\u001b[0mZ\r"
      ]
     },
     "metadata": {},
     "output_type": "display_data"
    },
    {
     "data": {
      "text/html": [
       "<pre style=\"white-space:pre;overflow-x:auto;line-height:normal;font-family:Menlo,'DejaVu Sans Mono',consolas,'Courier New',monospace\"><span style=\"color: #008080; text-decoration-color: #008080; font-weight: bold\">1990</span>-<span style=\"color: #008080; text-decoration-color: #008080; font-weight: bold\">06</span>-16T<span style=\"color: #00ff00; text-decoration-color: #00ff00; font-weight: bold\">00:00:00</span>Z\r",
       "</pre>\n"
      ],
      "text/plain": [
       "\u001b[1;36m1990\u001b[0m-\u001b[1;36m06\u001b[0m-16T\u001b[1;92m00:00:00\u001b[0mZ\r"
      ]
     },
     "metadata": {},
     "output_type": "display_data"
    },
    {
     "data": {
      "text/html": [
       "<pre style=\"white-space:pre;overflow-x:auto;line-height:normal;font-family:Menlo,'DejaVu Sans Mono',consolas,'Courier New',monospace\"><span style=\"color: #008080; text-decoration-color: #008080; font-weight: bold\">1990</span>-<span style=\"color: #008080; text-decoration-color: #008080; font-weight: bold\">06</span>-17T<span style=\"color: #00ff00; text-decoration-color: #00ff00; font-weight: bold\">00:00:00</span>Z\r",
       "</pre>\n"
      ],
      "text/plain": [
       "\u001b[1;36m1990\u001b[0m-\u001b[1;36m06\u001b[0m-17T\u001b[1;92m00:00:00\u001b[0mZ\r"
      ]
     },
     "metadata": {},
     "output_type": "display_data"
    },
    {
     "data": {
      "text/html": [
       "<pre style=\"white-space:pre;overflow-x:auto;line-height:normal;font-family:Menlo,'DejaVu Sans Mono',consolas,'Courier New',monospace\"><span style=\"color: #008080; text-decoration-color: #008080; font-weight: bold\">1990</span>-<span style=\"color: #008080; text-decoration-color: #008080; font-weight: bold\">06</span>-18T<span style=\"color: #00ff00; text-decoration-color: #00ff00; font-weight: bold\">00:00:00</span>Z\r",
       "</pre>\n"
      ],
      "text/plain": [
       "\u001b[1;36m1990\u001b[0m-\u001b[1;36m06\u001b[0m-18T\u001b[1;92m00:00:00\u001b[0mZ\r"
      ]
     },
     "metadata": {},
     "output_type": "display_data"
    },
    {
     "data": {
      "text/html": [
       "<pre style=\"white-space:pre;overflow-x:auto;line-height:normal;font-family:Menlo,'DejaVu Sans Mono',consolas,'Courier New',monospace\"><span style=\"color: #008080; text-decoration-color: #008080; font-weight: bold\">1990</span>-<span style=\"color: #008080; text-decoration-color: #008080; font-weight: bold\">06</span>-19T<span style=\"color: #00ff00; text-decoration-color: #00ff00; font-weight: bold\">00:00:00</span>Z\r",
       "</pre>\n"
      ],
      "text/plain": [
       "\u001b[1;36m1990\u001b[0m-\u001b[1;36m06\u001b[0m-19T\u001b[1;92m00:00:00\u001b[0mZ\r"
      ]
     },
     "metadata": {},
     "output_type": "display_data"
    },
    {
     "data": {
      "text/html": [
       "<pre style=\"white-space:pre;overflow-x:auto;line-height:normal;font-family:Menlo,'DejaVu Sans Mono',consolas,'Courier New',monospace\"><span style=\"color: #008080; text-decoration-color: #008080; font-weight: bold\">1990</span>-<span style=\"color: #008080; text-decoration-color: #008080; font-weight: bold\">06</span>-20T<span style=\"color: #00ff00; text-decoration-color: #00ff00; font-weight: bold\">00:00:00</span>Z\r",
       "</pre>\n"
      ],
      "text/plain": [
       "\u001b[1;36m1990\u001b[0m-\u001b[1;36m06\u001b[0m-20T\u001b[1;92m00:00:00\u001b[0mZ\r"
      ]
     },
     "metadata": {},
     "output_type": "display_data"
    },
    {
     "data": {
      "text/html": [
       "<pre style=\"white-space:pre;overflow-x:auto;line-height:normal;font-family:Menlo,'DejaVu Sans Mono',consolas,'Courier New',monospace\"><span style=\"color: #008080; text-decoration-color: #008080; font-weight: bold\">1990</span>-<span style=\"color: #008080; text-decoration-color: #008080; font-weight: bold\">06</span>-21T<span style=\"color: #00ff00; text-decoration-color: #00ff00; font-weight: bold\">00:00:00</span>Z\r",
       "</pre>\n"
      ],
      "text/plain": [
       "\u001b[1;36m1990\u001b[0m-\u001b[1;36m06\u001b[0m-21T\u001b[1;92m00:00:00\u001b[0mZ\r"
      ]
     },
     "metadata": {},
     "output_type": "display_data"
    },
    {
     "data": {
      "text/html": [
       "<pre style=\"white-space:pre;overflow-x:auto;line-height:normal;font-family:Menlo,'DejaVu Sans Mono',consolas,'Courier New',monospace\"><span style=\"color: #008080; text-decoration-color: #008080; font-weight: bold\">1990</span>-<span style=\"color: #008080; text-decoration-color: #008080; font-weight: bold\">06</span>-22T<span style=\"color: #00ff00; text-decoration-color: #00ff00; font-weight: bold\">00:00:00</span>Z\r",
       "</pre>\n"
      ],
      "text/plain": [
       "\u001b[1;36m1990\u001b[0m-\u001b[1;36m06\u001b[0m-22T\u001b[1;92m00:00:00\u001b[0mZ\r"
      ]
     },
     "metadata": {},
     "output_type": "display_data"
    },
    {
     "data": {
      "text/html": [
       "<pre style=\"white-space:pre;overflow-x:auto;line-height:normal;font-family:Menlo,'DejaVu Sans Mono',consolas,'Courier New',monospace\"><span style=\"color: #008080; text-decoration-color: #008080; font-weight: bold\">1990</span>-<span style=\"color: #008080; text-decoration-color: #008080; font-weight: bold\">06</span>-23T<span style=\"color: #00ff00; text-decoration-color: #00ff00; font-weight: bold\">00:00:00</span>Z\r",
       "</pre>\n"
      ],
      "text/plain": [
       "\u001b[1;36m1990\u001b[0m-\u001b[1;36m06\u001b[0m-23T\u001b[1;92m00:00:00\u001b[0mZ\r"
      ]
     },
     "metadata": {},
     "output_type": "display_data"
    },
    {
     "data": {
      "text/html": [
       "<pre style=\"white-space:pre;overflow-x:auto;line-height:normal;font-family:Menlo,'DejaVu Sans Mono',consolas,'Courier New',monospace\"><span style=\"color: #008080; text-decoration-color: #008080; font-weight: bold\">1990</span>-<span style=\"color: #008080; text-decoration-color: #008080; font-weight: bold\">06</span>-24T<span style=\"color: #00ff00; text-decoration-color: #00ff00; font-weight: bold\">00:00:00</span>Z\r",
       "</pre>\n"
      ],
      "text/plain": [
       "\u001b[1;36m1990\u001b[0m-\u001b[1;36m06\u001b[0m-24T\u001b[1;92m00:00:00\u001b[0mZ\r"
      ]
     },
     "metadata": {},
     "output_type": "display_data"
    },
    {
     "data": {
      "text/html": [
       "<pre style=\"white-space:pre;overflow-x:auto;line-height:normal;font-family:Menlo,'DejaVu Sans Mono',consolas,'Courier New',monospace\"><span style=\"color: #008080; text-decoration-color: #008080; font-weight: bold\">1990</span>-<span style=\"color: #008080; text-decoration-color: #008080; font-weight: bold\">06</span>-25T<span style=\"color: #00ff00; text-decoration-color: #00ff00; font-weight: bold\">00:00:00</span>Z\r",
       "</pre>\n"
      ],
      "text/plain": [
       "\u001b[1;36m1990\u001b[0m-\u001b[1;36m06\u001b[0m-25T\u001b[1;92m00:00:00\u001b[0mZ\r"
      ]
     },
     "metadata": {},
     "output_type": "display_data"
    },
    {
     "data": {
      "text/html": [
       "<pre style=\"white-space:pre;overflow-x:auto;line-height:normal;font-family:Menlo,'DejaVu Sans Mono',consolas,'Courier New',monospace\"><span style=\"color: #008080; text-decoration-color: #008080; font-weight: bold\">1990</span>-<span style=\"color: #008080; text-decoration-color: #008080; font-weight: bold\">06</span>-26T<span style=\"color: #00ff00; text-decoration-color: #00ff00; font-weight: bold\">00:00:00</span>Z\r",
       "</pre>\n"
      ],
      "text/plain": [
       "\u001b[1;36m1990\u001b[0m-\u001b[1;36m06\u001b[0m-26T\u001b[1;92m00:00:00\u001b[0mZ\r"
      ]
     },
     "metadata": {},
     "output_type": "display_data"
    },
    {
     "data": {
      "text/html": [
       "<pre style=\"white-space:pre;overflow-x:auto;line-height:normal;font-family:Menlo,'DejaVu Sans Mono',consolas,'Courier New',monospace\"><span style=\"color: #008080; text-decoration-color: #008080; font-weight: bold\">1990</span>-<span style=\"color: #008080; text-decoration-color: #008080; font-weight: bold\">06</span>-27T<span style=\"color: #00ff00; text-decoration-color: #00ff00; font-weight: bold\">00:00:00</span>Z\r",
       "</pre>\n"
      ],
      "text/plain": [
       "\u001b[1;36m1990\u001b[0m-\u001b[1;36m06\u001b[0m-27T\u001b[1;92m00:00:00\u001b[0mZ\r"
      ]
     },
     "metadata": {},
     "output_type": "display_data"
    },
    {
     "data": {
      "text/html": [
       "<pre style=\"white-space:pre;overflow-x:auto;line-height:normal;font-family:Menlo,'DejaVu Sans Mono',consolas,'Courier New',monospace\"><span style=\"color: #008080; text-decoration-color: #008080; font-weight: bold\">1990</span>-<span style=\"color: #008080; text-decoration-color: #008080; font-weight: bold\">06</span>-28T<span style=\"color: #00ff00; text-decoration-color: #00ff00; font-weight: bold\">00:00:00</span>Z\r",
       "</pre>\n"
      ],
      "text/plain": [
       "\u001b[1;36m1990\u001b[0m-\u001b[1;36m06\u001b[0m-28T\u001b[1;92m00:00:00\u001b[0mZ\r"
      ]
     },
     "metadata": {},
     "output_type": "display_data"
    },
    {
     "data": {
      "text/html": [
       "<pre style=\"white-space:pre;overflow-x:auto;line-height:normal;font-family:Menlo,'DejaVu Sans Mono',consolas,'Courier New',monospace\"><span style=\"color: #008080; text-decoration-color: #008080; font-weight: bold\">1990</span>-<span style=\"color: #008080; text-decoration-color: #008080; font-weight: bold\">06</span>-29T<span style=\"color: #00ff00; text-decoration-color: #00ff00; font-weight: bold\">00:00:00</span>Z\r",
       "</pre>\n"
      ],
      "text/plain": [
       "\u001b[1;36m1990\u001b[0m-\u001b[1;36m06\u001b[0m-29T\u001b[1;92m00:00:00\u001b[0mZ\r"
      ]
     },
     "metadata": {},
     "output_type": "display_data"
    },
    {
     "data": {
      "text/html": [
       "<pre style=\"white-space:pre;overflow-x:auto;line-height:normal;font-family:Menlo,'DejaVu Sans Mono',consolas,'Courier New',monospace\"><span style=\"color: #008080; text-decoration-color: #008080; font-weight: bold\">1990</span>-<span style=\"color: #008080; text-decoration-color: #008080; font-weight: bold\">06</span>-30T<span style=\"color: #00ff00; text-decoration-color: #00ff00; font-weight: bold\">00:00:00</span>Z\r",
       "</pre>\n"
      ],
      "text/plain": [
       "\u001b[1;36m1990\u001b[0m-\u001b[1;36m06\u001b[0m-30T\u001b[1;92m00:00:00\u001b[0mZ\r"
      ]
     },
     "metadata": {},
     "output_type": "display_data"
    },
    {
     "data": {
      "text/html": [
       "<pre style=\"white-space:pre;overflow-x:auto;line-height:normal;font-family:Menlo,'DejaVu Sans Mono',consolas,'Courier New',monospace\"><span style=\"color: #008080; text-decoration-color: #008080; font-weight: bold\">1990</span>-<span style=\"color: #008080; text-decoration-color: #008080; font-weight: bold\">07</span>-01T<span style=\"color: #00ff00; text-decoration-color: #00ff00; font-weight: bold\">00:00:00</span>Z\r",
       "</pre>\n"
      ],
      "text/plain": [
       "\u001b[1;36m1990\u001b[0m-\u001b[1;36m07\u001b[0m-01T\u001b[1;92m00:00:00\u001b[0mZ\r"
      ]
     },
     "metadata": {},
     "output_type": "display_data"
    },
    {
     "data": {
      "text/html": [
       "<pre style=\"white-space:pre;overflow-x:auto;line-height:normal;font-family:Menlo,'DejaVu Sans Mono',consolas,'Courier New',monospace\"><span style=\"color: #008080; text-decoration-color: #008080; font-weight: bold\">1990</span>-<span style=\"color: #008080; text-decoration-color: #008080; font-weight: bold\">07</span>-02T<span style=\"color: #00ff00; text-decoration-color: #00ff00; font-weight: bold\">00:00:00</span>Z\r",
       "</pre>\n"
      ],
      "text/plain": [
       "\u001b[1;36m1990\u001b[0m-\u001b[1;36m07\u001b[0m-02T\u001b[1;92m00:00:00\u001b[0mZ\r"
      ]
     },
     "metadata": {},
     "output_type": "display_data"
    },
    {
     "data": {
      "text/html": [
       "<pre style=\"white-space:pre;overflow-x:auto;line-height:normal;font-family:Menlo,'DejaVu Sans Mono',consolas,'Courier New',monospace\"><span style=\"color: #008080; text-decoration-color: #008080; font-weight: bold\">1990</span>-<span style=\"color: #008080; text-decoration-color: #008080; font-weight: bold\">07</span>-03T<span style=\"color: #00ff00; text-decoration-color: #00ff00; font-weight: bold\">00:00:00</span>Z\r",
       "</pre>\n"
      ],
      "text/plain": [
       "\u001b[1;36m1990\u001b[0m-\u001b[1;36m07\u001b[0m-03T\u001b[1;92m00:00:00\u001b[0mZ\r"
      ]
     },
     "metadata": {},
     "output_type": "display_data"
    },
    {
     "data": {
      "text/html": [
       "<pre style=\"white-space:pre;overflow-x:auto;line-height:normal;font-family:Menlo,'DejaVu Sans Mono',consolas,'Courier New',monospace\"><span style=\"color: #008080; text-decoration-color: #008080; font-weight: bold\">1990</span>-<span style=\"color: #008080; text-decoration-color: #008080; font-weight: bold\">07</span>-04T<span style=\"color: #00ff00; text-decoration-color: #00ff00; font-weight: bold\">00:00:00</span>Z\r",
       "</pre>\n"
      ],
      "text/plain": [
       "\u001b[1;36m1990\u001b[0m-\u001b[1;36m07\u001b[0m-04T\u001b[1;92m00:00:00\u001b[0mZ\r"
      ]
     },
     "metadata": {},
     "output_type": "display_data"
    },
    {
     "data": {
      "text/html": [
       "<pre style=\"white-space:pre;overflow-x:auto;line-height:normal;font-family:Menlo,'DejaVu Sans Mono',consolas,'Courier New',monospace\"><span style=\"color: #008080; text-decoration-color: #008080; font-weight: bold\">1990</span>-<span style=\"color: #008080; text-decoration-color: #008080; font-weight: bold\">07</span>-05T<span style=\"color: #00ff00; text-decoration-color: #00ff00; font-weight: bold\">00:00:00</span>Z\r",
       "</pre>\n"
      ],
      "text/plain": [
       "\u001b[1;36m1990\u001b[0m-\u001b[1;36m07\u001b[0m-05T\u001b[1;92m00:00:00\u001b[0mZ\r"
      ]
     },
     "metadata": {},
     "output_type": "display_data"
    },
    {
     "data": {
      "text/html": [
       "<pre style=\"white-space:pre;overflow-x:auto;line-height:normal;font-family:Menlo,'DejaVu Sans Mono',consolas,'Courier New',monospace\"><span style=\"color: #008080; text-decoration-color: #008080; font-weight: bold\">1990</span>-<span style=\"color: #008080; text-decoration-color: #008080; font-weight: bold\">07</span>-06T<span style=\"color: #00ff00; text-decoration-color: #00ff00; font-weight: bold\">00:00:00</span>Z\r",
       "</pre>\n"
      ],
      "text/plain": [
       "\u001b[1;36m1990\u001b[0m-\u001b[1;36m07\u001b[0m-06T\u001b[1;92m00:00:00\u001b[0mZ\r"
      ]
     },
     "metadata": {},
     "output_type": "display_data"
    },
    {
     "data": {
      "text/html": [
       "<pre style=\"white-space:pre;overflow-x:auto;line-height:normal;font-family:Menlo,'DejaVu Sans Mono',consolas,'Courier New',monospace\"><span style=\"color: #008080; text-decoration-color: #008080; font-weight: bold\">1990</span>-<span style=\"color: #008080; text-decoration-color: #008080; font-weight: bold\">07</span>-07T<span style=\"color: #00ff00; text-decoration-color: #00ff00; font-weight: bold\">00:00:00</span>Z\r",
       "</pre>\n"
      ],
      "text/plain": [
       "\u001b[1;36m1990\u001b[0m-\u001b[1;36m07\u001b[0m-07T\u001b[1;92m00:00:00\u001b[0mZ\r"
      ]
     },
     "metadata": {},
     "output_type": "display_data"
    },
    {
     "data": {
      "text/html": [
       "<pre style=\"white-space:pre;overflow-x:auto;line-height:normal;font-family:Menlo,'DejaVu Sans Mono',consolas,'Courier New',monospace\"><span style=\"color: #008080; text-decoration-color: #008080; font-weight: bold\">1990</span>-<span style=\"color: #008080; text-decoration-color: #008080; font-weight: bold\">07</span>-08T<span style=\"color: #00ff00; text-decoration-color: #00ff00; font-weight: bold\">00:00:00</span>Z\r",
       "</pre>\n"
      ],
      "text/plain": [
       "\u001b[1;36m1990\u001b[0m-\u001b[1;36m07\u001b[0m-08T\u001b[1;92m00:00:00\u001b[0mZ\r"
      ]
     },
     "metadata": {},
     "output_type": "display_data"
    },
    {
     "data": {
      "text/html": [
       "<pre style=\"white-space:pre;overflow-x:auto;line-height:normal;font-family:Menlo,'DejaVu Sans Mono',consolas,'Courier New',monospace\"><span style=\"color: #008080; text-decoration-color: #008080; font-weight: bold\">1990</span>-<span style=\"color: #008080; text-decoration-color: #008080; font-weight: bold\">07</span>-09T<span style=\"color: #00ff00; text-decoration-color: #00ff00; font-weight: bold\">00:00:00</span>Z\r",
       "</pre>\n"
      ],
      "text/plain": [
       "\u001b[1;36m1990\u001b[0m-\u001b[1;36m07\u001b[0m-09T\u001b[1;92m00:00:00\u001b[0mZ\r"
      ]
     },
     "metadata": {},
     "output_type": "display_data"
    },
    {
     "data": {
      "text/html": [
       "<pre style=\"white-space:pre;overflow-x:auto;line-height:normal;font-family:Menlo,'DejaVu Sans Mono',consolas,'Courier New',monospace\"><span style=\"color: #008080; text-decoration-color: #008080; font-weight: bold\">1990</span>-<span style=\"color: #008080; text-decoration-color: #008080; font-weight: bold\">07</span>-10T<span style=\"color: #00ff00; text-decoration-color: #00ff00; font-weight: bold\">00:00:00</span>Z\r",
       "</pre>\n"
      ],
      "text/plain": [
       "\u001b[1;36m1990\u001b[0m-\u001b[1;36m07\u001b[0m-10T\u001b[1;92m00:00:00\u001b[0mZ\r"
      ]
     },
     "metadata": {},
     "output_type": "display_data"
    },
    {
     "data": {
      "text/html": [
       "<pre style=\"white-space:pre;overflow-x:auto;line-height:normal;font-family:Menlo,'DejaVu Sans Mono',consolas,'Courier New',monospace\"><span style=\"color: #008080; text-decoration-color: #008080; font-weight: bold\">1990</span>-<span style=\"color: #008080; text-decoration-color: #008080; font-weight: bold\">07</span>-11T<span style=\"color: #00ff00; text-decoration-color: #00ff00; font-weight: bold\">00:00:00</span>Z\r",
       "</pre>\n"
      ],
      "text/plain": [
       "\u001b[1;36m1990\u001b[0m-\u001b[1;36m07\u001b[0m-11T\u001b[1;92m00:00:00\u001b[0mZ\r"
      ]
     },
     "metadata": {},
     "output_type": "display_data"
    },
    {
     "data": {
      "text/html": [
       "<pre style=\"white-space:pre;overflow-x:auto;line-height:normal;font-family:Menlo,'DejaVu Sans Mono',consolas,'Courier New',monospace\"><span style=\"color: #008080; text-decoration-color: #008080; font-weight: bold\">1990</span>-<span style=\"color: #008080; text-decoration-color: #008080; font-weight: bold\">07</span>-12T<span style=\"color: #00ff00; text-decoration-color: #00ff00; font-weight: bold\">00:00:00</span>Z\r",
       "</pre>\n"
      ],
      "text/plain": [
       "\u001b[1;36m1990\u001b[0m-\u001b[1;36m07\u001b[0m-12T\u001b[1;92m00:00:00\u001b[0mZ\r"
      ]
     },
     "metadata": {},
     "output_type": "display_data"
    },
    {
     "data": {
      "text/html": [
       "<pre style=\"white-space:pre;overflow-x:auto;line-height:normal;font-family:Menlo,'DejaVu Sans Mono',consolas,'Courier New',monospace\"><span style=\"color: #008080; text-decoration-color: #008080; font-weight: bold\">1990</span>-<span style=\"color: #008080; text-decoration-color: #008080; font-weight: bold\">07</span>-13T<span style=\"color: #00ff00; text-decoration-color: #00ff00; font-weight: bold\">00:00:00</span>Z\r",
       "</pre>\n"
      ],
      "text/plain": [
       "\u001b[1;36m1990\u001b[0m-\u001b[1;36m07\u001b[0m-13T\u001b[1;92m00:00:00\u001b[0mZ\r"
      ]
     },
     "metadata": {},
     "output_type": "display_data"
    },
    {
     "data": {
      "text/html": [
       "<pre style=\"white-space:pre;overflow-x:auto;line-height:normal;font-family:Menlo,'DejaVu Sans Mono',consolas,'Courier New',monospace\"><span style=\"color: #008080; text-decoration-color: #008080; font-weight: bold\">1990</span>-<span style=\"color: #008080; text-decoration-color: #008080; font-weight: bold\">07</span>-14T<span style=\"color: #00ff00; text-decoration-color: #00ff00; font-weight: bold\">00:00:00</span>Z\r",
       "</pre>\n"
      ],
      "text/plain": [
       "\u001b[1;36m1990\u001b[0m-\u001b[1;36m07\u001b[0m-14T\u001b[1;92m00:00:00\u001b[0mZ\r"
      ]
     },
     "metadata": {},
     "output_type": "display_data"
    },
    {
     "data": {
      "text/html": [
       "<pre style=\"white-space:pre;overflow-x:auto;line-height:normal;font-family:Menlo,'DejaVu Sans Mono',consolas,'Courier New',monospace\"><span style=\"color: #008080; text-decoration-color: #008080; font-weight: bold\">1990</span>-<span style=\"color: #008080; text-decoration-color: #008080; font-weight: bold\">07</span>-15T<span style=\"color: #00ff00; text-decoration-color: #00ff00; font-weight: bold\">00:00:00</span>Z\r",
       "</pre>\n"
      ],
      "text/plain": [
       "\u001b[1;36m1990\u001b[0m-\u001b[1;36m07\u001b[0m-15T\u001b[1;92m00:00:00\u001b[0mZ\r"
      ]
     },
     "metadata": {},
     "output_type": "display_data"
    },
    {
     "data": {
      "text/html": [
       "<pre style=\"white-space:pre;overflow-x:auto;line-height:normal;font-family:Menlo,'DejaVu Sans Mono',consolas,'Courier New',monospace\"><span style=\"color: #008080; text-decoration-color: #008080; font-weight: bold\">1990</span>-<span style=\"color: #008080; text-decoration-color: #008080; font-weight: bold\">07</span>-16T<span style=\"color: #00ff00; text-decoration-color: #00ff00; font-weight: bold\">00:00:00</span>Z\r",
       "</pre>\n"
      ],
      "text/plain": [
       "\u001b[1;36m1990\u001b[0m-\u001b[1;36m07\u001b[0m-16T\u001b[1;92m00:00:00\u001b[0mZ\r"
      ]
     },
     "metadata": {},
     "output_type": "display_data"
    },
    {
     "data": {
      "text/html": [
       "<pre style=\"white-space:pre;overflow-x:auto;line-height:normal;font-family:Menlo,'DejaVu Sans Mono',consolas,'Courier New',monospace\"><span style=\"color: #008080; text-decoration-color: #008080; font-weight: bold\">1990</span>-<span style=\"color: #008080; text-decoration-color: #008080; font-weight: bold\">07</span>-17T<span style=\"color: #00ff00; text-decoration-color: #00ff00; font-weight: bold\">00:00:00</span>Z\r",
       "</pre>\n"
      ],
      "text/plain": [
       "\u001b[1;36m1990\u001b[0m-\u001b[1;36m07\u001b[0m-17T\u001b[1;92m00:00:00\u001b[0mZ\r"
      ]
     },
     "metadata": {},
     "output_type": "display_data"
    },
    {
     "data": {
      "text/html": [
       "<pre style=\"white-space:pre;overflow-x:auto;line-height:normal;font-family:Menlo,'DejaVu Sans Mono',consolas,'Courier New',monospace\"><span style=\"color: #008080; text-decoration-color: #008080; font-weight: bold\">1990</span>-<span style=\"color: #008080; text-decoration-color: #008080; font-weight: bold\">07</span>-18T<span style=\"color: #00ff00; text-decoration-color: #00ff00; font-weight: bold\">00:00:00</span>Z\r",
       "</pre>\n"
      ],
      "text/plain": [
       "\u001b[1;36m1990\u001b[0m-\u001b[1;36m07\u001b[0m-18T\u001b[1;92m00:00:00\u001b[0mZ\r"
      ]
     },
     "metadata": {},
     "output_type": "display_data"
    },
    {
     "data": {
      "text/html": [
       "<pre style=\"white-space:pre;overflow-x:auto;line-height:normal;font-family:Menlo,'DejaVu Sans Mono',consolas,'Courier New',monospace\"><span style=\"color: #008080; text-decoration-color: #008080; font-weight: bold\">1990</span>-<span style=\"color: #008080; text-decoration-color: #008080; font-weight: bold\">07</span>-19T<span style=\"color: #00ff00; text-decoration-color: #00ff00; font-weight: bold\">00:00:00</span>Z\r",
       "</pre>\n"
      ],
      "text/plain": [
       "\u001b[1;36m1990\u001b[0m-\u001b[1;36m07\u001b[0m-19T\u001b[1;92m00:00:00\u001b[0mZ\r"
      ]
     },
     "metadata": {},
     "output_type": "display_data"
    },
    {
     "data": {
      "text/html": [
       "<pre style=\"white-space:pre;overflow-x:auto;line-height:normal;font-family:Menlo,'DejaVu Sans Mono',consolas,'Courier New',monospace\"><span style=\"color: #008080; text-decoration-color: #008080; font-weight: bold\">1990</span>-<span style=\"color: #008080; text-decoration-color: #008080; font-weight: bold\">07</span>-20T<span style=\"color: #00ff00; text-decoration-color: #00ff00; font-weight: bold\">00:00:00</span>Z\r",
       "</pre>\n"
      ],
      "text/plain": [
       "\u001b[1;36m1990\u001b[0m-\u001b[1;36m07\u001b[0m-20T\u001b[1;92m00:00:00\u001b[0mZ\r"
      ]
     },
     "metadata": {},
     "output_type": "display_data"
    },
    {
     "data": {
      "text/html": [
       "<pre style=\"white-space:pre;overflow-x:auto;line-height:normal;font-family:Menlo,'DejaVu Sans Mono',consolas,'Courier New',monospace\"><span style=\"color: #008080; text-decoration-color: #008080; font-weight: bold\">1990</span>-<span style=\"color: #008080; text-decoration-color: #008080; font-weight: bold\">07</span>-21T<span style=\"color: #00ff00; text-decoration-color: #00ff00; font-weight: bold\">00:00:00</span>Z\r",
       "</pre>\n"
      ],
      "text/plain": [
       "\u001b[1;36m1990\u001b[0m-\u001b[1;36m07\u001b[0m-21T\u001b[1;92m00:00:00\u001b[0mZ\r"
      ]
     },
     "metadata": {},
     "output_type": "display_data"
    },
    {
     "data": {
      "text/html": [
       "<pre style=\"white-space:pre;overflow-x:auto;line-height:normal;font-family:Menlo,'DejaVu Sans Mono',consolas,'Courier New',monospace\"><span style=\"color: #008080; text-decoration-color: #008080; font-weight: bold\">1990</span>-<span style=\"color: #008080; text-decoration-color: #008080; font-weight: bold\">07</span>-22T<span style=\"color: #00ff00; text-decoration-color: #00ff00; font-weight: bold\">00:00:00</span>Z\r",
       "</pre>\n"
      ],
      "text/plain": [
       "\u001b[1;36m1990\u001b[0m-\u001b[1;36m07\u001b[0m-22T\u001b[1;92m00:00:00\u001b[0mZ\r"
      ]
     },
     "metadata": {},
     "output_type": "display_data"
    },
    {
     "data": {
      "text/html": [
       "<pre style=\"white-space:pre;overflow-x:auto;line-height:normal;font-family:Menlo,'DejaVu Sans Mono',consolas,'Courier New',monospace\"><span style=\"color: #008080; text-decoration-color: #008080; font-weight: bold\">1990</span>-<span style=\"color: #008080; text-decoration-color: #008080; font-weight: bold\">07</span>-23T<span style=\"color: #00ff00; text-decoration-color: #00ff00; font-weight: bold\">00:00:00</span>Z\r",
       "</pre>\n"
      ],
      "text/plain": [
       "\u001b[1;36m1990\u001b[0m-\u001b[1;36m07\u001b[0m-23T\u001b[1;92m00:00:00\u001b[0mZ\r"
      ]
     },
     "metadata": {},
     "output_type": "display_data"
    },
    {
     "data": {
      "text/html": [
       "<pre style=\"white-space:pre;overflow-x:auto;line-height:normal;font-family:Menlo,'DejaVu Sans Mono',consolas,'Courier New',monospace\"><span style=\"color: #008080; text-decoration-color: #008080; font-weight: bold\">1990</span>-<span style=\"color: #008080; text-decoration-color: #008080; font-weight: bold\">07</span>-24T<span style=\"color: #00ff00; text-decoration-color: #00ff00; font-weight: bold\">00:00:00</span>Z\r",
       "</pre>\n"
      ],
      "text/plain": [
       "\u001b[1;36m1990\u001b[0m-\u001b[1;36m07\u001b[0m-24T\u001b[1;92m00:00:00\u001b[0mZ\r"
      ]
     },
     "metadata": {},
     "output_type": "display_data"
    },
    {
     "data": {
      "text/html": [
       "<pre style=\"white-space:pre;overflow-x:auto;line-height:normal;font-family:Menlo,'DejaVu Sans Mono',consolas,'Courier New',monospace\"><span style=\"color: #008080; text-decoration-color: #008080; font-weight: bold\">1990</span>-<span style=\"color: #008080; text-decoration-color: #008080; font-weight: bold\">07</span>-25T<span style=\"color: #00ff00; text-decoration-color: #00ff00; font-weight: bold\">00:00:00</span>Z\r",
       "</pre>\n"
      ],
      "text/plain": [
       "\u001b[1;36m1990\u001b[0m-\u001b[1;36m07\u001b[0m-25T\u001b[1;92m00:00:00\u001b[0mZ\r"
      ]
     },
     "metadata": {},
     "output_type": "display_data"
    },
    {
     "data": {
      "text/html": [
       "<pre style=\"white-space:pre;overflow-x:auto;line-height:normal;font-family:Menlo,'DejaVu Sans Mono',consolas,'Courier New',monospace\"><span style=\"color: #008080; text-decoration-color: #008080; font-weight: bold\">1990</span>-<span style=\"color: #008080; text-decoration-color: #008080; font-weight: bold\">07</span>-26T<span style=\"color: #00ff00; text-decoration-color: #00ff00; font-weight: bold\">00:00:00</span>Z\r",
       "</pre>\n"
      ],
      "text/plain": [
       "\u001b[1;36m1990\u001b[0m-\u001b[1;36m07\u001b[0m-26T\u001b[1;92m00:00:00\u001b[0mZ\r"
      ]
     },
     "metadata": {},
     "output_type": "display_data"
    },
    {
     "data": {
      "text/html": [
       "<pre style=\"white-space:pre;overflow-x:auto;line-height:normal;font-family:Menlo,'DejaVu Sans Mono',consolas,'Courier New',monospace\"><span style=\"color: #008080; text-decoration-color: #008080; font-weight: bold\">1990</span>-<span style=\"color: #008080; text-decoration-color: #008080; font-weight: bold\">07</span>-27T<span style=\"color: #00ff00; text-decoration-color: #00ff00; font-weight: bold\">00:00:00</span>Z\r",
       "</pre>\n"
      ],
      "text/plain": [
       "\u001b[1;36m1990\u001b[0m-\u001b[1;36m07\u001b[0m-27T\u001b[1;92m00:00:00\u001b[0mZ\r"
      ]
     },
     "metadata": {},
     "output_type": "display_data"
    },
    {
     "data": {
      "text/html": [
       "<pre style=\"white-space:pre;overflow-x:auto;line-height:normal;font-family:Menlo,'DejaVu Sans Mono',consolas,'Courier New',monospace\"><span style=\"color: #008080; text-decoration-color: #008080; font-weight: bold\">1990</span>-<span style=\"color: #008080; text-decoration-color: #008080; font-weight: bold\">07</span>-28T<span style=\"color: #00ff00; text-decoration-color: #00ff00; font-weight: bold\">00:00:00</span>Z\r",
       "</pre>\n"
      ],
      "text/plain": [
       "\u001b[1;36m1990\u001b[0m-\u001b[1;36m07\u001b[0m-28T\u001b[1;92m00:00:00\u001b[0mZ\r"
      ]
     },
     "metadata": {},
     "output_type": "display_data"
    },
    {
     "data": {
      "text/html": [
       "<pre style=\"white-space:pre;overflow-x:auto;line-height:normal;font-family:Menlo,'DejaVu Sans Mono',consolas,'Courier New',monospace\"><span style=\"color: #008080; text-decoration-color: #008080; font-weight: bold\">1990</span>-<span style=\"color: #008080; text-decoration-color: #008080; font-weight: bold\">07</span>-29T<span style=\"color: #00ff00; text-decoration-color: #00ff00; font-weight: bold\">00:00:00</span>Z\r",
       "</pre>\n"
      ],
      "text/plain": [
       "\u001b[1;36m1990\u001b[0m-\u001b[1;36m07\u001b[0m-29T\u001b[1;92m00:00:00\u001b[0mZ\r"
      ]
     },
     "metadata": {},
     "output_type": "display_data"
    },
    {
     "data": {
      "text/html": [
       "<pre style=\"white-space:pre;overflow-x:auto;line-height:normal;font-family:Menlo,'DejaVu Sans Mono',consolas,'Courier New',monospace\"><span style=\"color: #008080; text-decoration-color: #008080; font-weight: bold\">1990</span>-<span style=\"color: #008080; text-decoration-color: #008080; font-weight: bold\">07</span>-30T<span style=\"color: #00ff00; text-decoration-color: #00ff00; font-weight: bold\">00:00:00</span>Z\r",
       "</pre>\n"
      ],
      "text/plain": [
       "\u001b[1;36m1990\u001b[0m-\u001b[1;36m07\u001b[0m-30T\u001b[1;92m00:00:00\u001b[0mZ\r"
      ]
     },
     "metadata": {},
     "output_type": "display_data"
    },
    {
     "data": {
      "text/html": [
       "<pre style=\"white-space:pre;overflow-x:auto;line-height:normal;font-family:Menlo,'DejaVu Sans Mono',consolas,'Courier New',monospace\"><span style=\"color: #008080; text-decoration-color: #008080; font-weight: bold\">1990</span>-<span style=\"color: #008080; text-decoration-color: #008080; font-weight: bold\">07</span>-31T<span style=\"color: #00ff00; text-decoration-color: #00ff00; font-weight: bold\">00:00:00</span>Z\r",
       "</pre>\n"
      ],
      "text/plain": [
       "\u001b[1;36m1990\u001b[0m-\u001b[1;36m07\u001b[0m-31T\u001b[1;92m00:00:00\u001b[0mZ\r"
      ]
     },
     "metadata": {},
     "output_type": "display_data"
    },
    {
     "data": {
      "text/html": [
       "<pre style=\"white-space:pre;overflow-x:auto;line-height:normal;font-family:Menlo,'DejaVu Sans Mono',consolas,'Courier New',monospace\"><span style=\"color: #008080; text-decoration-color: #008080; font-weight: bold\">1990</span>-<span style=\"color: #008080; text-decoration-color: #008080; font-weight: bold\">08</span>-01T<span style=\"color: #00ff00; text-decoration-color: #00ff00; font-weight: bold\">00:00:00</span>Z\r",
       "</pre>\n"
      ],
      "text/plain": [
       "\u001b[1;36m1990\u001b[0m-\u001b[1;36m08\u001b[0m-01T\u001b[1;92m00:00:00\u001b[0mZ\r"
      ]
     },
     "metadata": {},
     "output_type": "display_data"
    },
    {
     "data": {
      "text/html": [
       "<pre style=\"white-space:pre;overflow-x:auto;line-height:normal;font-family:Menlo,'DejaVu Sans Mono',consolas,'Courier New',monospace\"><span style=\"color: #008080; text-decoration-color: #008080; font-weight: bold\">1990</span>-<span style=\"color: #008080; text-decoration-color: #008080; font-weight: bold\">08</span>-02T<span style=\"color: #00ff00; text-decoration-color: #00ff00; font-weight: bold\">00:00:00</span>Z\r",
       "</pre>\n"
      ],
      "text/plain": [
       "\u001b[1;36m1990\u001b[0m-\u001b[1;36m08\u001b[0m-02T\u001b[1;92m00:00:00\u001b[0mZ\r"
      ]
     },
     "metadata": {},
     "output_type": "display_data"
    },
    {
     "data": {
      "text/html": [
       "<pre style=\"white-space:pre;overflow-x:auto;line-height:normal;font-family:Menlo,'DejaVu Sans Mono',consolas,'Courier New',monospace\"><span style=\"color: #008080; text-decoration-color: #008080; font-weight: bold\">1990</span>-<span style=\"color: #008080; text-decoration-color: #008080; font-weight: bold\">08</span>-03T<span style=\"color: #00ff00; text-decoration-color: #00ff00; font-weight: bold\">00:00:00</span>Z\r",
       "</pre>\n"
      ],
      "text/plain": [
       "\u001b[1;36m1990\u001b[0m-\u001b[1;36m08\u001b[0m-03T\u001b[1;92m00:00:00\u001b[0mZ\r"
      ]
     },
     "metadata": {},
     "output_type": "display_data"
    },
    {
     "data": {
      "text/html": [
       "<pre style=\"white-space:pre;overflow-x:auto;line-height:normal;font-family:Menlo,'DejaVu Sans Mono',consolas,'Courier New',monospace\"><span style=\"color: #008080; text-decoration-color: #008080; font-weight: bold\">1990</span>-<span style=\"color: #008080; text-decoration-color: #008080; font-weight: bold\">08</span>-04T<span style=\"color: #00ff00; text-decoration-color: #00ff00; font-weight: bold\">00:00:00</span>Z\r",
       "</pre>\n"
      ],
      "text/plain": [
       "\u001b[1;36m1990\u001b[0m-\u001b[1;36m08\u001b[0m-04T\u001b[1;92m00:00:00\u001b[0mZ\r"
      ]
     },
     "metadata": {},
     "output_type": "display_data"
    },
    {
     "data": {
      "text/html": [
       "<pre style=\"white-space:pre;overflow-x:auto;line-height:normal;font-family:Menlo,'DejaVu Sans Mono',consolas,'Courier New',monospace\"><span style=\"color: #008080; text-decoration-color: #008080; font-weight: bold\">1990</span>-<span style=\"color: #008080; text-decoration-color: #008080; font-weight: bold\">08</span>-05T<span style=\"color: #00ff00; text-decoration-color: #00ff00; font-weight: bold\">00:00:00</span>Z\r",
       "</pre>\n"
      ],
      "text/plain": [
       "\u001b[1;36m1990\u001b[0m-\u001b[1;36m08\u001b[0m-05T\u001b[1;92m00:00:00\u001b[0mZ\r"
      ]
     },
     "metadata": {},
     "output_type": "display_data"
    },
    {
     "data": {
      "text/html": [
       "<pre style=\"white-space:pre;overflow-x:auto;line-height:normal;font-family:Menlo,'DejaVu Sans Mono',consolas,'Courier New',monospace\"><span style=\"color: #008080; text-decoration-color: #008080; font-weight: bold\">1990</span>-<span style=\"color: #008080; text-decoration-color: #008080; font-weight: bold\">08</span>-06T<span style=\"color: #00ff00; text-decoration-color: #00ff00; font-weight: bold\">00:00:00</span>Z\r",
       "</pre>\n"
      ],
      "text/plain": [
       "\u001b[1;36m1990\u001b[0m-\u001b[1;36m08\u001b[0m-06T\u001b[1;92m00:00:00\u001b[0mZ\r"
      ]
     },
     "metadata": {},
     "output_type": "display_data"
    },
    {
     "data": {
      "text/html": [
       "<pre style=\"white-space:pre;overflow-x:auto;line-height:normal;font-family:Menlo,'DejaVu Sans Mono',consolas,'Courier New',monospace\"><span style=\"color: #008080; text-decoration-color: #008080; font-weight: bold\">1990</span>-<span style=\"color: #008080; text-decoration-color: #008080; font-weight: bold\">08</span>-07T<span style=\"color: #00ff00; text-decoration-color: #00ff00; font-weight: bold\">00:00:00</span>Z\r",
       "</pre>\n"
      ],
      "text/plain": [
       "\u001b[1;36m1990\u001b[0m-\u001b[1;36m08\u001b[0m-07T\u001b[1;92m00:00:00\u001b[0mZ\r"
      ]
     },
     "metadata": {},
     "output_type": "display_data"
    },
    {
     "data": {
      "text/html": [
       "<pre style=\"white-space:pre;overflow-x:auto;line-height:normal;font-family:Menlo,'DejaVu Sans Mono',consolas,'Courier New',monospace\"><span style=\"color: #008080; text-decoration-color: #008080; font-weight: bold\">1990</span>-<span style=\"color: #008080; text-decoration-color: #008080; font-weight: bold\">08</span>-08T<span style=\"color: #00ff00; text-decoration-color: #00ff00; font-weight: bold\">00:00:00</span>Z\r",
       "</pre>\n"
      ],
      "text/plain": [
       "\u001b[1;36m1990\u001b[0m-\u001b[1;36m08\u001b[0m-08T\u001b[1;92m00:00:00\u001b[0mZ\r"
      ]
     },
     "metadata": {},
     "output_type": "display_data"
    },
    {
     "data": {
      "text/html": [
       "<pre style=\"white-space:pre;overflow-x:auto;line-height:normal;font-family:Menlo,'DejaVu Sans Mono',consolas,'Courier New',monospace\"><span style=\"color: #008080; text-decoration-color: #008080; font-weight: bold\">1990</span>-<span style=\"color: #008080; text-decoration-color: #008080; font-weight: bold\">08</span>-09T<span style=\"color: #00ff00; text-decoration-color: #00ff00; font-weight: bold\">00:00:00</span>Z\r",
       "</pre>\n"
      ],
      "text/plain": [
       "\u001b[1;36m1990\u001b[0m-\u001b[1;36m08\u001b[0m-09T\u001b[1;92m00:00:00\u001b[0mZ\r"
      ]
     },
     "metadata": {},
     "output_type": "display_data"
    },
    {
     "data": {
      "text/html": [
       "<pre style=\"white-space:pre;overflow-x:auto;line-height:normal;font-family:Menlo,'DejaVu Sans Mono',consolas,'Courier New',monospace\"><span style=\"color: #008080; text-decoration-color: #008080; font-weight: bold\">1990</span>-<span style=\"color: #008080; text-decoration-color: #008080; font-weight: bold\">08</span>-10T<span style=\"color: #00ff00; text-decoration-color: #00ff00; font-weight: bold\">00:00:00</span>Z\r",
       "</pre>\n"
      ],
      "text/plain": [
       "\u001b[1;36m1990\u001b[0m-\u001b[1;36m08\u001b[0m-10T\u001b[1;92m00:00:00\u001b[0mZ\r"
      ]
     },
     "metadata": {},
     "output_type": "display_data"
    },
    {
     "data": {
      "text/html": [
       "<pre style=\"white-space:pre;overflow-x:auto;line-height:normal;font-family:Menlo,'DejaVu Sans Mono',consolas,'Courier New',monospace\"><span style=\"color: #008080; text-decoration-color: #008080; font-weight: bold\">1990</span>-<span style=\"color: #008080; text-decoration-color: #008080; font-weight: bold\">08</span>-11T<span style=\"color: #00ff00; text-decoration-color: #00ff00; font-weight: bold\">00:00:00</span>Z\r",
       "</pre>\n"
      ],
      "text/plain": [
       "\u001b[1;36m1990\u001b[0m-\u001b[1;36m08\u001b[0m-11T\u001b[1;92m00:00:00\u001b[0mZ\r"
      ]
     },
     "metadata": {},
     "output_type": "display_data"
    },
    {
     "data": {
      "text/html": [
       "<pre style=\"white-space:pre;overflow-x:auto;line-height:normal;font-family:Menlo,'DejaVu Sans Mono',consolas,'Courier New',monospace\"><span style=\"color: #008080; text-decoration-color: #008080; font-weight: bold\">1990</span>-<span style=\"color: #008080; text-decoration-color: #008080; font-weight: bold\">08</span>-12T<span style=\"color: #00ff00; text-decoration-color: #00ff00; font-weight: bold\">00:00:00</span>Z\r",
       "</pre>\n"
      ],
      "text/plain": [
       "\u001b[1;36m1990\u001b[0m-\u001b[1;36m08\u001b[0m-12T\u001b[1;92m00:00:00\u001b[0mZ\r"
      ]
     },
     "metadata": {},
     "output_type": "display_data"
    },
    {
     "data": {
      "text/html": [
       "<pre style=\"white-space:pre;overflow-x:auto;line-height:normal;font-family:Menlo,'DejaVu Sans Mono',consolas,'Courier New',monospace\"><span style=\"color: #008080; text-decoration-color: #008080; font-weight: bold\">1990</span>-<span style=\"color: #008080; text-decoration-color: #008080; font-weight: bold\">08</span>-13T<span style=\"color: #00ff00; text-decoration-color: #00ff00; font-weight: bold\">00:00:00</span>Z\r",
       "</pre>\n"
      ],
      "text/plain": [
       "\u001b[1;36m1990\u001b[0m-\u001b[1;36m08\u001b[0m-13T\u001b[1;92m00:00:00\u001b[0mZ\r"
      ]
     },
     "metadata": {},
     "output_type": "display_data"
    },
    {
     "data": {
      "text/html": [
       "<pre style=\"white-space:pre;overflow-x:auto;line-height:normal;font-family:Menlo,'DejaVu Sans Mono',consolas,'Courier New',monospace\"><span style=\"color: #008080; text-decoration-color: #008080; font-weight: bold\">1990</span>-<span style=\"color: #008080; text-decoration-color: #008080; font-weight: bold\">08</span>-14T<span style=\"color: #00ff00; text-decoration-color: #00ff00; font-weight: bold\">00:00:00</span>Z\r",
       "</pre>\n"
      ],
      "text/plain": [
       "\u001b[1;36m1990\u001b[0m-\u001b[1;36m08\u001b[0m-14T\u001b[1;92m00:00:00\u001b[0mZ\r"
      ]
     },
     "metadata": {},
     "output_type": "display_data"
    },
    {
     "data": {
      "text/html": [
       "<pre style=\"white-space:pre;overflow-x:auto;line-height:normal;font-family:Menlo,'DejaVu Sans Mono',consolas,'Courier New',monospace\"><span style=\"color: #008080; text-decoration-color: #008080; font-weight: bold\">1990</span>-<span style=\"color: #008080; text-decoration-color: #008080; font-weight: bold\">08</span>-15T<span style=\"color: #00ff00; text-decoration-color: #00ff00; font-weight: bold\">00:00:00</span>Z\r",
       "</pre>\n"
      ],
      "text/plain": [
       "\u001b[1;36m1990\u001b[0m-\u001b[1;36m08\u001b[0m-15T\u001b[1;92m00:00:00\u001b[0mZ\r"
      ]
     },
     "metadata": {},
     "output_type": "display_data"
    },
    {
     "data": {
      "text/html": [
       "<pre style=\"white-space:pre;overflow-x:auto;line-height:normal;font-family:Menlo,'DejaVu Sans Mono',consolas,'Courier New',monospace\"><span style=\"color: #008080; text-decoration-color: #008080; font-weight: bold\">1990</span>-<span style=\"color: #008080; text-decoration-color: #008080; font-weight: bold\">08</span>-16T<span style=\"color: #00ff00; text-decoration-color: #00ff00; font-weight: bold\">00:00:00</span>Z\r",
       "</pre>\n"
      ],
      "text/plain": [
       "\u001b[1;36m1990\u001b[0m-\u001b[1;36m08\u001b[0m-16T\u001b[1;92m00:00:00\u001b[0mZ\r"
      ]
     },
     "metadata": {},
     "output_type": "display_data"
    },
    {
     "data": {
      "text/html": [
       "<pre style=\"white-space:pre;overflow-x:auto;line-height:normal;font-family:Menlo,'DejaVu Sans Mono',consolas,'Courier New',monospace\"><span style=\"color: #008080; text-decoration-color: #008080; font-weight: bold\">1990</span>-<span style=\"color: #008080; text-decoration-color: #008080; font-weight: bold\">08</span>-17T<span style=\"color: #00ff00; text-decoration-color: #00ff00; font-weight: bold\">00:00:00</span>Z\r",
       "</pre>\n"
      ],
      "text/plain": [
       "\u001b[1;36m1990\u001b[0m-\u001b[1;36m08\u001b[0m-17T\u001b[1;92m00:00:00\u001b[0mZ\r"
      ]
     },
     "metadata": {},
     "output_type": "display_data"
    },
    {
     "data": {
      "text/html": [
       "<pre style=\"white-space:pre;overflow-x:auto;line-height:normal;font-family:Menlo,'DejaVu Sans Mono',consolas,'Courier New',monospace\"><span style=\"color: #008080; text-decoration-color: #008080; font-weight: bold\">1990</span>-<span style=\"color: #008080; text-decoration-color: #008080; font-weight: bold\">08</span>-18T<span style=\"color: #00ff00; text-decoration-color: #00ff00; font-weight: bold\">00:00:00</span>Z\r",
       "</pre>\n"
      ],
      "text/plain": [
       "\u001b[1;36m1990\u001b[0m-\u001b[1;36m08\u001b[0m-18T\u001b[1;92m00:00:00\u001b[0mZ\r"
      ]
     },
     "metadata": {},
     "output_type": "display_data"
    },
    {
     "data": {
      "text/html": [
       "<pre style=\"white-space:pre;overflow-x:auto;line-height:normal;font-family:Menlo,'DejaVu Sans Mono',consolas,'Courier New',monospace\"><span style=\"color: #008080; text-decoration-color: #008080; font-weight: bold\">1990</span>-<span style=\"color: #008080; text-decoration-color: #008080; font-weight: bold\">08</span>-19T<span style=\"color: #00ff00; text-decoration-color: #00ff00; font-weight: bold\">00:00:00</span>Z\r",
       "</pre>\n"
      ],
      "text/plain": [
       "\u001b[1;36m1990\u001b[0m-\u001b[1;36m08\u001b[0m-19T\u001b[1;92m00:00:00\u001b[0mZ\r"
      ]
     },
     "metadata": {},
     "output_type": "display_data"
    },
    {
     "data": {
      "text/html": [
       "<pre style=\"white-space:pre;overflow-x:auto;line-height:normal;font-family:Menlo,'DejaVu Sans Mono',consolas,'Courier New',monospace\"><span style=\"color: #008080; text-decoration-color: #008080; font-weight: bold\">1990</span>-<span style=\"color: #008080; text-decoration-color: #008080; font-weight: bold\">08</span>-20T<span style=\"color: #00ff00; text-decoration-color: #00ff00; font-weight: bold\">00:00:00</span>Z\r",
       "</pre>\n"
      ],
      "text/plain": [
       "\u001b[1;36m1990\u001b[0m-\u001b[1;36m08\u001b[0m-20T\u001b[1;92m00:00:00\u001b[0mZ\r"
      ]
     },
     "metadata": {},
     "output_type": "display_data"
    },
    {
     "data": {
      "text/html": [
       "<pre style=\"white-space:pre;overflow-x:auto;line-height:normal;font-family:Menlo,'DejaVu Sans Mono',consolas,'Courier New',monospace\"><span style=\"color: #008080; text-decoration-color: #008080; font-weight: bold\">1990</span>-<span style=\"color: #008080; text-decoration-color: #008080; font-weight: bold\">08</span>-21T<span style=\"color: #00ff00; text-decoration-color: #00ff00; font-weight: bold\">00:00:00</span>Z\r",
       "</pre>\n"
      ],
      "text/plain": [
       "\u001b[1;36m1990\u001b[0m-\u001b[1;36m08\u001b[0m-21T\u001b[1;92m00:00:00\u001b[0mZ\r"
      ]
     },
     "metadata": {},
     "output_type": "display_data"
    },
    {
     "data": {
      "text/html": [
       "<pre style=\"white-space:pre;overflow-x:auto;line-height:normal;font-family:Menlo,'DejaVu Sans Mono',consolas,'Courier New',monospace\"><span style=\"color: #008080; text-decoration-color: #008080; font-weight: bold\">1990</span>-<span style=\"color: #008080; text-decoration-color: #008080; font-weight: bold\">08</span>-22T<span style=\"color: #00ff00; text-decoration-color: #00ff00; font-weight: bold\">00:00:00</span>Z\r",
       "</pre>\n"
      ],
      "text/plain": [
       "\u001b[1;36m1990\u001b[0m-\u001b[1;36m08\u001b[0m-22T\u001b[1;92m00:00:00\u001b[0mZ\r"
      ]
     },
     "metadata": {},
     "output_type": "display_data"
    },
    {
     "data": {
      "text/html": [
       "<pre style=\"white-space:pre;overflow-x:auto;line-height:normal;font-family:Menlo,'DejaVu Sans Mono',consolas,'Courier New',monospace\"><span style=\"color: #008080; text-decoration-color: #008080; font-weight: bold\">1990</span>-<span style=\"color: #008080; text-decoration-color: #008080; font-weight: bold\">08</span>-23T<span style=\"color: #00ff00; text-decoration-color: #00ff00; font-weight: bold\">00:00:00</span>Z\r",
       "</pre>\n"
      ],
      "text/plain": [
       "\u001b[1;36m1990\u001b[0m-\u001b[1;36m08\u001b[0m-23T\u001b[1;92m00:00:00\u001b[0mZ\r"
      ]
     },
     "metadata": {},
     "output_type": "display_data"
    },
    {
     "data": {
      "text/html": [
       "<pre style=\"white-space:pre;overflow-x:auto;line-height:normal;font-family:Menlo,'DejaVu Sans Mono',consolas,'Courier New',monospace\"><span style=\"color: #008080; text-decoration-color: #008080; font-weight: bold\">1990</span>-<span style=\"color: #008080; text-decoration-color: #008080; font-weight: bold\">08</span>-24T<span style=\"color: #00ff00; text-decoration-color: #00ff00; font-weight: bold\">00:00:00</span>Z\r",
       "</pre>\n"
      ],
      "text/plain": [
       "\u001b[1;36m1990\u001b[0m-\u001b[1;36m08\u001b[0m-24T\u001b[1;92m00:00:00\u001b[0mZ\r"
      ]
     },
     "metadata": {},
     "output_type": "display_data"
    },
    {
     "data": {
      "text/html": [
       "<pre style=\"white-space:pre;overflow-x:auto;line-height:normal;font-family:Menlo,'DejaVu Sans Mono',consolas,'Courier New',monospace\"><span style=\"color: #008080; text-decoration-color: #008080; font-weight: bold\">1990</span>-<span style=\"color: #008080; text-decoration-color: #008080; font-weight: bold\">08</span>-25T<span style=\"color: #00ff00; text-decoration-color: #00ff00; font-weight: bold\">00:00:00</span>Z\r",
       "</pre>\n"
      ],
      "text/plain": [
       "\u001b[1;36m1990\u001b[0m-\u001b[1;36m08\u001b[0m-25T\u001b[1;92m00:00:00\u001b[0mZ\r"
      ]
     },
     "metadata": {},
     "output_type": "display_data"
    },
    {
     "data": {
      "text/html": [
       "<pre style=\"white-space:pre;overflow-x:auto;line-height:normal;font-family:Menlo,'DejaVu Sans Mono',consolas,'Courier New',monospace\"><span style=\"color: #008080; text-decoration-color: #008080; font-weight: bold\">1990</span>-<span style=\"color: #008080; text-decoration-color: #008080; font-weight: bold\">08</span>-26T<span style=\"color: #00ff00; text-decoration-color: #00ff00; font-weight: bold\">00:00:00</span>Z\r",
       "</pre>\n"
      ],
      "text/plain": [
       "\u001b[1;36m1990\u001b[0m-\u001b[1;36m08\u001b[0m-26T\u001b[1;92m00:00:00\u001b[0mZ\r"
      ]
     },
     "metadata": {},
     "output_type": "display_data"
    },
    {
     "data": {
      "text/html": [
       "<pre style=\"white-space:pre;overflow-x:auto;line-height:normal;font-family:Menlo,'DejaVu Sans Mono',consolas,'Courier New',monospace\"><span style=\"color: #008080; text-decoration-color: #008080; font-weight: bold\">1990</span>-<span style=\"color: #008080; text-decoration-color: #008080; font-weight: bold\">08</span>-27T<span style=\"color: #00ff00; text-decoration-color: #00ff00; font-weight: bold\">00:00:00</span>Z\r",
       "</pre>\n"
      ],
      "text/plain": [
       "\u001b[1;36m1990\u001b[0m-\u001b[1;36m08\u001b[0m-27T\u001b[1;92m00:00:00\u001b[0mZ\r"
      ]
     },
     "metadata": {},
     "output_type": "display_data"
    },
    {
     "data": {
      "text/html": [
       "<pre style=\"white-space:pre;overflow-x:auto;line-height:normal;font-family:Menlo,'DejaVu Sans Mono',consolas,'Courier New',monospace\"><span style=\"color: #008080; text-decoration-color: #008080; font-weight: bold\">1990</span>-<span style=\"color: #008080; text-decoration-color: #008080; font-weight: bold\">08</span>-28T<span style=\"color: #00ff00; text-decoration-color: #00ff00; font-weight: bold\">00:00:00</span>Z\r",
       "</pre>\n"
      ],
      "text/plain": [
       "\u001b[1;36m1990\u001b[0m-\u001b[1;36m08\u001b[0m-28T\u001b[1;92m00:00:00\u001b[0mZ\r"
      ]
     },
     "metadata": {},
     "output_type": "display_data"
    },
    {
     "data": {
      "text/html": [
       "<pre style=\"white-space:pre;overflow-x:auto;line-height:normal;font-family:Menlo,'DejaVu Sans Mono',consolas,'Courier New',monospace\"><span style=\"color: #008080; text-decoration-color: #008080; font-weight: bold\">1990</span>-<span style=\"color: #008080; text-decoration-color: #008080; font-weight: bold\">08</span>-29T<span style=\"color: #00ff00; text-decoration-color: #00ff00; font-weight: bold\">00:00:00</span>Z\r",
       "</pre>\n"
      ],
      "text/plain": [
       "\u001b[1;36m1990\u001b[0m-\u001b[1;36m08\u001b[0m-29T\u001b[1;92m00:00:00\u001b[0mZ\r"
      ]
     },
     "metadata": {},
     "output_type": "display_data"
    },
    {
     "data": {
      "text/html": [
       "<pre style=\"white-space:pre;overflow-x:auto;line-height:normal;font-family:Menlo,'DejaVu Sans Mono',consolas,'Courier New',monospace\"><span style=\"color: #008080; text-decoration-color: #008080; font-weight: bold\">1990</span>-<span style=\"color: #008080; text-decoration-color: #008080; font-weight: bold\">08</span>-30T<span style=\"color: #00ff00; text-decoration-color: #00ff00; font-weight: bold\">00:00:00</span>Z\r",
       "</pre>\n"
      ],
      "text/plain": [
       "\u001b[1;36m1990\u001b[0m-\u001b[1;36m08\u001b[0m-30T\u001b[1;92m00:00:00\u001b[0mZ\r"
      ]
     },
     "metadata": {},
     "output_type": "display_data"
    },
    {
     "data": {
      "text/html": [
       "<pre style=\"white-space:pre;overflow-x:auto;line-height:normal;font-family:Menlo,'DejaVu Sans Mono',consolas,'Courier New',monospace\"><span style=\"color: #008080; text-decoration-color: #008080; font-weight: bold\">1990</span>-<span style=\"color: #008080; text-decoration-color: #008080; font-weight: bold\">08</span>-31T<span style=\"color: #00ff00; text-decoration-color: #00ff00; font-weight: bold\">00:00:00</span>Z\r",
       "</pre>\n"
      ],
      "text/plain": [
       "\u001b[1;36m1990\u001b[0m-\u001b[1;36m08\u001b[0m-31T\u001b[1;92m00:00:00\u001b[0mZ\r"
      ]
     },
     "metadata": {},
     "output_type": "display_data"
    },
    {
     "data": {
      "text/html": [
       "<pre style=\"white-space:pre;overflow-x:auto;line-height:normal;font-family:Menlo,'DejaVu Sans Mono',consolas,'Courier New',monospace\"><span style=\"color: #008080; text-decoration-color: #008080; font-weight: bold\">1990</span>-<span style=\"color: #008080; text-decoration-color: #008080; font-weight: bold\">09</span>-01T<span style=\"color: #00ff00; text-decoration-color: #00ff00; font-weight: bold\">00:00:00</span>Z\r",
       "</pre>\n"
      ],
      "text/plain": [
       "\u001b[1;36m1990\u001b[0m-\u001b[1;36m09\u001b[0m-01T\u001b[1;92m00:00:00\u001b[0mZ\r"
      ]
     },
     "metadata": {},
     "output_type": "display_data"
    },
    {
     "data": {
      "text/html": [
       "<pre style=\"white-space:pre;overflow-x:auto;line-height:normal;font-family:Menlo,'DejaVu Sans Mono',consolas,'Courier New',monospace\"><span style=\"color: #008080; text-decoration-color: #008080; font-weight: bold\">1990</span>-<span style=\"color: #008080; text-decoration-color: #008080; font-weight: bold\">09</span>-02T<span style=\"color: #00ff00; text-decoration-color: #00ff00; font-weight: bold\">00:00:00</span>Z\r",
       "</pre>\n"
      ],
      "text/plain": [
       "\u001b[1;36m1990\u001b[0m-\u001b[1;36m09\u001b[0m-02T\u001b[1;92m00:00:00\u001b[0mZ\r"
      ]
     },
     "metadata": {},
     "output_type": "display_data"
    },
    {
     "data": {
      "text/html": [
       "<pre style=\"white-space:pre;overflow-x:auto;line-height:normal;font-family:Menlo,'DejaVu Sans Mono',consolas,'Courier New',monospace\"><span style=\"color: #008080; text-decoration-color: #008080; font-weight: bold\">1990</span>-<span style=\"color: #008080; text-decoration-color: #008080; font-weight: bold\">09</span>-03T<span style=\"color: #00ff00; text-decoration-color: #00ff00; font-weight: bold\">00:00:00</span>Z\r",
       "</pre>\n"
      ],
      "text/plain": [
       "\u001b[1;36m1990\u001b[0m-\u001b[1;36m09\u001b[0m-03T\u001b[1;92m00:00:00\u001b[0mZ\r"
      ]
     },
     "metadata": {},
     "output_type": "display_data"
    },
    {
     "data": {
      "text/html": [
       "<pre style=\"white-space:pre;overflow-x:auto;line-height:normal;font-family:Menlo,'DejaVu Sans Mono',consolas,'Courier New',monospace\"><span style=\"color: #008080; text-decoration-color: #008080; font-weight: bold\">1990</span>-<span style=\"color: #008080; text-decoration-color: #008080; font-weight: bold\">09</span>-04T<span style=\"color: #00ff00; text-decoration-color: #00ff00; font-weight: bold\">00:00:00</span>Z\r",
       "</pre>\n"
      ],
      "text/plain": [
       "\u001b[1;36m1990\u001b[0m-\u001b[1;36m09\u001b[0m-04T\u001b[1;92m00:00:00\u001b[0mZ\r"
      ]
     },
     "metadata": {},
     "output_type": "display_data"
    },
    {
     "data": {
      "text/html": [
       "<pre style=\"white-space:pre;overflow-x:auto;line-height:normal;font-family:Menlo,'DejaVu Sans Mono',consolas,'Courier New',monospace\"><span style=\"color: #008080; text-decoration-color: #008080; font-weight: bold\">1990</span>-<span style=\"color: #008080; text-decoration-color: #008080; font-weight: bold\">09</span>-05T<span style=\"color: #00ff00; text-decoration-color: #00ff00; font-weight: bold\">00:00:00</span>Z\r",
       "</pre>\n"
      ],
      "text/plain": [
       "\u001b[1;36m1990\u001b[0m-\u001b[1;36m09\u001b[0m-05T\u001b[1;92m00:00:00\u001b[0mZ\r"
      ]
     },
     "metadata": {},
     "output_type": "display_data"
    },
    {
     "data": {
      "text/html": [
       "<pre style=\"white-space:pre;overflow-x:auto;line-height:normal;font-family:Menlo,'DejaVu Sans Mono',consolas,'Courier New',monospace\"><span style=\"color: #008080; text-decoration-color: #008080; font-weight: bold\">1990</span>-<span style=\"color: #008080; text-decoration-color: #008080; font-weight: bold\">09</span>-06T<span style=\"color: #00ff00; text-decoration-color: #00ff00; font-weight: bold\">00:00:00</span>Z\r",
       "</pre>\n"
      ],
      "text/plain": [
       "\u001b[1;36m1990\u001b[0m-\u001b[1;36m09\u001b[0m-06T\u001b[1;92m00:00:00\u001b[0mZ\r"
      ]
     },
     "metadata": {},
     "output_type": "display_data"
    },
    {
     "data": {
      "text/html": [
       "<pre style=\"white-space:pre;overflow-x:auto;line-height:normal;font-family:Menlo,'DejaVu Sans Mono',consolas,'Courier New',monospace\"><span style=\"color: #008080; text-decoration-color: #008080; font-weight: bold\">1990</span>-<span style=\"color: #008080; text-decoration-color: #008080; font-weight: bold\">09</span>-07T<span style=\"color: #00ff00; text-decoration-color: #00ff00; font-weight: bold\">00:00:00</span>Z\r",
       "</pre>\n"
      ],
      "text/plain": [
       "\u001b[1;36m1990\u001b[0m-\u001b[1;36m09\u001b[0m-07T\u001b[1;92m00:00:00\u001b[0mZ\r"
      ]
     },
     "metadata": {},
     "output_type": "display_data"
    },
    {
     "data": {
      "text/html": [
       "<pre style=\"white-space:pre;overflow-x:auto;line-height:normal;font-family:Menlo,'DejaVu Sans Mono',consolas,'Courier New',monospace\"><span style=\"color: #008080; text-decoration-color: #008080; font-weight: bold\">1990</span>-<span style=\"color: #008080; text-decoration-color: #008080; font-weight: bold\">09</span>-08T<span style=\"color: #00ff00; text-decoration-color: #00ff00; font-weight: bold\">00:00:00</span>Z\r",
       "</pre>\n"
      ],
      "text/plain": [
       "\u001b[1;36m1990\u001b[0m-\u001b[1;36m09\u001b[0m-08T\u001b[1;92m00:00:00\u001b[0mZ\r"
      ]
     },
     "metadata": {},
     "output_type": "display_data"
    },
    {
     "data": {
      "text/html": [
       "<pre style=\"white-space:pre;overflow-x:auto;line-height:normal;font-family:Menlo,'DejaVu Sans Mono',consolas,'Courier New',monospace\"><span style=\"color: #008080; text-decoration-color: #008080; font-weight: bold\">1990</span>-<span style=\"color: #008080; text-decoration-color: #008080; font-weight: bold\">09</span>-09T<span style=\"color: #00ff00; text-decoration-color: #00ff00; font-weight: bold\">00:00:00</span>Z\r",
       "</pre>\n"
      ],
      "text/plain": [
       "\u001b[1;36m1990\u001b[0m-\u001b[1;36m09\u001b[0m-09T\u001b[1;92m00:00:00\u001b[0mZ\r"
      ]
     },
     "metadata": {},
     "output_type": "display_data"
    },
    {
     "data": {
      "text/html": [
       "<pre style=\"white-space:pre;overflow-x:auto;line-height:normal;font-family:Menlo,'DejaVu Sans Mono',consolas,'Courier New',monospace\"><span style=\"color: #008080; text-decoration-color: #008080; font-weight: bold\">1990</span>-<span style=\"color: #008080; text-decoration-color: #008080; font-weight: bold\">09</span>-10T<span style=\"color: #00ff00; text-decoration-color: #00ff00; font-weight: bold\">00:00:00</span>Z\r",
       "</pre>\n"
      ],
      "text/plain": [
       "\u001b[1;36m1990\u001b[0m-\u001b[1;36m09\u001b[0m-10T\u001b[1;92m00:00:00\u001b[0mZ\r"
      ]
     },
     "metadata": {},
     "output_type": "display_data"
    },
    {
     "data": {
      "text/html": [
       "<pre style=\"white-space:pre;overflow-x:auto;line-height:normal;font-family:Menlo,'DejaVu Sans Mono',consolas,'Courier New',monospace\"><span style=\"color: #008080; text-decoration-color: #008080; font-weight: bold\">1990</span>-<span style=\"color: #008080; text-decoration-color: #008080; font-weight: bold\">09</span>-11T<span style=\"color: #00ff00; text-decoration-color: #00ff00; font-weight: bold\">00:00:00</span>Z\r",
       "</pre>\n"
      ],
      "text/plain": [
       "\u001b[1;36m1990\u001b[0m-\u001b[1;36m09\u001b[0m-11T\u001b[1;92m00:00:00\u001b[0mZ\r"
      ]
     },
     "metadata": {},
     "output_type": "display_data"
    },
    {
     "data": {
      "text/html": [
       "<pre style=\"white-space:pre;overflow-x:auto;line-height:normal;font-family:Menlo,'DejaVu Sans Mono',consolas,'Courier New',monospace\"><span style=\"color: #008080; text-decoration-color: #008080; font-weight: bold\">1990</span>-<span style=\"color: #008080; text-decoration-color: #008080; font-weight: bold\">09</span>-12T<span style=\"color: #00ff00; text-decoration-color: #00ff00; font-weight: bold\">00:00:00</span>Z\r",
       "</pre>\n"
      ],
      "text/plain": [
       "\u001b[1;36m1990\u001b[0m-\u001b[1;36m09\u001b[0m-12T\u001b[1;92m00:00:00\u001b[0mZ\r"
      ]
     },
     "metadata": {},
     "output_type": "display_data"
    },
    {
     "data": {
      "text/html": [
       "<pre style=\"white-space:pre;overflow-x:auto;line-height:normal;font-family:Menlo,'DejaVu Sans Mono',consolas,'Courier New',monospace\"><span style=\"color: #008080; text-decoration-color: #008080; font-weight: bold\">1990</span>-<span style=\"color: #008080; text-decoration-color: #008080; font-weight: bold\">09</span>-13T<span style=\"color: #00ff00; text-decoration-color: #00ff00; font-weight: bold\">00:00:00</span>Z\r",
       "</pre>\n"
      ],
      "text/plain": [
       "\u001b[1;36m1990\u001b[0m-\u001b[1;36m09\u001b[0m-13T\u001b[1;92m00:00:00\u001b[0mZ\r"
      ]
     },
     "metadata": {},
     "output_type": "display_data"
    },
    {
     "data": {
      "text/html": [
       "<pre style=\"white-space:pre;overflow-x:auto;line-height:normal;font-family:Menlo,'DejaVu Sans Mono',consolas,'Courier New',monospace\"><span style=\"color: #008080; text-decoration-color: #008080; font-weight: bold\">1990</span>-<span style=\"color: #008080; text-decoration-color: #008080; font-weight: bold\">09</span>-14T<span style=\"color: #00ff00; text-decoration-color: #00ff00; font-weight: bold\">00:00:00</span>Z\r",
       "</pre>\n"
      ],
      "text/plain": [
       "\u001b[1;36m1990\u001b[0m-\u001b[1;36m09\u001b[0m-14T\u001b[1;92m00:00:00\u001b[0mZ\r"
      ]
     },
     "metadata": {},
     "output_type": "display_data"
    },
    {
     "data": {
      "text/html": [
       "<pre style=\"white-space:pre;overflow-x:auto;line-height:normal;font-family:Menlo,'DejaVu Sans Mono',consolas,'Courier New',monospace\"><span style=\"color: #008080; text-decoration-color: #008080; font-weight: bold\">1990</span>-<span style=\"color: #008080; text-decoration-color: #008080; font-weight: bold\">09</span>-15T<span style=\"color: #00ff00; text-decoration-color: #00ff00; font-weight: bold\">00:00:00</span>Z\r",
       "</pre>\n"
      ],
      "text/plain": [
       "\u001b[1;36m1990\u001b[0m-\u001b[1;36m09\u001b[0m-15T\u001b[1;92m00:00:00\u001b[0mZ\r"
      ]
     },
     "metadata": {},
     "output_type": "display_data"
    },
    {
     "data": {
      "text/html": [
       "<pre style=\"white-space:pre;overflow-x:auto;line-height:normal;font-family:Menlo,'DejaVu Sans Mono',consolas,'Courier New',monospace\"><span style=\"color: #008080; text-decoration-color: #008080; font-weight: bold\">1990</span>-<span style=\"color: #008080; text-decoration-color: #008080; font-weight: bold\">09</span>-16T<span style=\"color: #00ff00; text-decoration-color: #00ff00; font-weight: bold\">00:00:00</span>Z\r",
       "</pre>\n"
      ],
      "text/plain": [
       "\u001b[1;36m1990\u001b[0m-\u001b[1;36m09\u001b[0m-16T\u001b[1;92m00:00:00\u001b[0mZ\r"
      ]
     },
     "metadata": {},
     "output_type": "display_data"
    },
    {
     "data": {
      "text/html": [
       "<pre style=\"white-space:pre;overflow-x:auto;line-height:normal;font-family:Menlo,'DejaVu Sans Mono',consolas,'Courier New',monospace\"><span style=\"color: #008080; text-decoration-color: #008080; font-weight: bold\">1990</span>-<span style=\"color: #008080; text-decoration-color: #008080; font-weight: bold\">09</span>-17T<span style=\"color: #00ff00; text-decoration-color: #00ff00; font-weight: bold\">00:00:00</span>Z\r",
       "</pre>\n"
      ],
      "text/plain": [
       "\u001b[1;36m1990\u001b[0m-\u001b[1;36m09\u001b[0m-17T\u001b[1;92m00:00:00\u001b[0mZ\r"
      ]
     },
     "metadata": {},
     "output_type": "display_data"
    },
    {
     "data": {
      "text/html": [
       "<pre style=\"white-space:pre;overflow-x:auto;line-height:normal;font-family:Menlo,'DejaVu Sans Mono',consolas,'Courier New',monospace\"><span style=\"color: #008080; text-decoration-color: #008080; font-weight: bold\">1990</span>-<span style=\"color: #008080; text-decoration-color: #008080; font-weight: bold\">09</span>-18T<span style=\"color: #00ff00; text-decoration-color: #00ff00; font-weight: bold\">00:00:00</span>Z\r",
       "</pre>\n"
      ],
      "text/plain": [
       "\u001b[1;36m1990\u001b[0m-\u001b[1;36m09\u001b[0m-18T\u001b[1;92m00:00:00\u001b[0mZ\r"
      ]
     },
     "metadata": {},
     "output_type": "display_data"
    },
    {
     "data": {
      "text/html": [
       "<pre style=\"white-space:pre;overflow-x:auto;line-height:normal;font-family:Menlo,'DejaVu Sans Mono',consolas,'Courier New',monospace\"><span style=\"color: #008080; text-decoration-color: #008080; font-weight: bold\">1990</span>-<span style=\"color: #008080; text-decoration-color: #008080; font-weight: bold\">09</span>-19T<span style=\"color: #00ff00; text-decoration-color: #00ff00; font-weight: bold\">00:00:00</span>Z\r",
       "</pre>\n"
      ],
      "text/plain": [
       "\u001b[1;36m1990\u001b[0m-\u001b[1;36m09\u001b[0m-19T\u001b[1;92m00:00:00\u001b[0mZ\r"
      ]
     },
     "metadata": {},
     "output_type": "display_data"
    },
    {
     "data": {
      "text/html": [
       "<pre style=\"white-space:pre;overflow-x:auto;line-height:normal;font-family:Menlo,'DejaVu Sans Mono',consolas,'Courier New',monospace\"><span style=\"color: #008080; text-decoration-color: #008080; font-weight: bold\">1990</span>-<span style=\"color: #008080; text-decoration-color: #008080; font-weight: bold\">09</span>-20T<span style=\"color: #00ff00; text-decoration-color: #00ff00; font-weight: bold\">00:00:00</span>Z\r",
       "</pre>\n"
      ],
      "text/plain": [
       "\u001b[1;36m1990\u001b[0m-\u001b[1;36m09\u001b[0m-20T\u001b[1;92m00:00:00\u001b[0mZ\r"
      ]
     },
     "metadata": {},
     "output_type": "display_data"
    },
    {
     "data": {
      "text/html": [
       "<pre style=\"white-space:pre;overflow-x:auto;line-height:normal;font-family:Menlo,'DejaVu Sans Mono',consolas,'Courier New',monospace\"><span style=\"color: #008080; text-decoration-color: #008080; font-weight: bold\">1990</span>-<span style=\"color: #008080; text-decoration-color: #008080; font-weight: bold\">09</span>-21T<span style=\"color: #00ff00; text-decoration-color: #00ff00; font-weight: bold\">00:00:00</span>Z\r",
       "</pre>\n"
      ],
      "text/plain": [
       "\u001b[1;36m1990\u001b[0m-\u001b[1;36m09\u001b[0m-21T\u001b[1;92m00:00:00\u001b[0mZ\r"
      ]
     },
     "metadata": {},
     "output_type": "display_data"
    },
    {
     "data": {
      "text/html": [
       "<pre style=\"white-space:pre;overflow-x:auto;line-height:normal;font-family:Menlo,'DejaVu Sans Mono',consolas,'Courier New',monospace\"><span style=\"color: #008080; text-decoration-color: #008080; font-weight: bold\">1990</span>-<span style=\"color: #008080; text-decoration-color: #008080; font-weight: bold\">09</span>-22T<span style=\"color: #00ff00; text-decoration-color: #00ff00; font-weight: bold\">00:00:00</span>Z\r",
       "</pre>\n"
      ],
      "text/plain": [
       "\u001b[1;36m1990\u001b[0m-\u001b[1;36m09\u001b[0m-22T\u001b[1;92m00:00:00\u001b[0mZ\r"
      ]
     },
     "metadata": {},
     "output_type": "display_data"
    },
    {
     "data": {
      "text/html": [
       "<pre style=\"white-space:pre;overflow-x:auto;line-height:normal;font-family:Menlo,'DejaVu Sans Mono',consolas,'Courier New',monospace\"><span style=\"color: #008080; text-decoration-color: #008080; font-weight: bold\">1990</span>-<span style=\"color: #008080; text-decoration-color: #008080; font-weight: bold\">09</span>-23T<span style=\"color: #00ff00; text-decoration-color: #00ff00; font-weight: bold\">00:00:00</span>Z\r",
       "</pre>\n"
      ],
      "text/plain": [
       "\u001b[1;36m1990\u001b[0m-\u001b[1;36m09\u001b[0m-23T\u001b[1;92m00:00:00\u001b[0mZ\r"
      ]
     },
     "metadata": {},
     "output_type": "display_data"
    },
    {
     "data": {
      "text/html": [
       "<pre style=\"white-space:pre;overflow-x:auto;line-height:normal;font-family:Menlo,'DejaVu Sans Mono',consolas,'Courier New',monospace\"><span style=\"color: #008080; text-decoration-color: #008080; font-weight: bold\">1990</span>-<span style=\"color: #008080; text-decoration-color: #008080; font-weight: bold\">09</span>-24T<span style=\"color: #00ff00; text-decoration-color: #00ff00; font-weight: bold\">00:00:00</span>Z\r",
       "</pre>\n"
      ],
      "text/plain": [
       "\u001b[1;36m1990\u001b[0m-\u001b[1;36m09\u001b[0m-24T\u001b[1;92m00:00:00\u001b[0mZ\r"
      ]
     },
     "metadata": {},
     "output_type": "display_data"
    },
    {
     "data": {
      "text/html": [
       "<pre style=\"white-space:pre;overflow-x:auto;line-height:normal;font-family:Menlo,'DejaVu Sans Mono',consolas,'Courier New',monospace\"><span style=\"color: #008080; text-decoration-color: #008080; font-weight: bold\">1990</span>-<span style=\"color: #008080; text-decoration-color: #008080; font-weight: bold\">09</span>-25T<span style=\"color: #00ff00; text-decoration-color: #00ff00; font-weight: bold\">00:00:00</span>Z\r",
       "</pre>\n"
      ],
      "text/plain": [
       "\u001b[1;36m1990\u001b[0m-\u001b[1;36m09\u001b[0m-25T\u001b[1;92m00:00:00\u001b[0mZ\r"
      ]
     },
     "metadata": {},
     "output_type": "display_data"
    },
    {
     "data": {
      "text/html": [
       "<pre style=\"white-space:pre;overflow-x:auto;line-height:normal;font-family:Menlo,'DejaVu Sans Mono',consolas,'Courier New',monospace\"><span style=\"color: #008080; text-decoration-color: #008080; font-weight: bold\">1990</span>-<span style=\"color: #008080; text-decoration-color: #008080; font-weight: bold\">09</span>-26T<span style=\"color: #00ff00; text-decoration-color: #00ff00; font-weight: bold\">00:00:00</span>Z\r",
       "</pre>\n"
      ],
      "text/plain": [
       "\u001b[1;36m1990\u001b[0m-\u001b[1;36m09\u001b[0m-26T\u001b[1;92m00:00:00\u001b[0mZ\r"
      ]
     },
     "metadata": {},
     "output_type": "display_data"
    },
    {
     "data": {
      "text/html": [
       "<pre style=\"white-space:pre;overflow-x:auto;line-height:normal;font-family:Menlo,'DejaVu Sans Mono',consolas,'Courier New',monospace\"><span style=\"color: #008080; text-decoration-color: #008080; font-weight: bold\">1990</span>-<span style=\"color: #008080; text-decoration-color: #008080; font-weight: bold\">09</span>-27T<span style=\"color: #00ff00; text-decoration-color: #00ff00; font-weight: bold\">00:00:00</span>Z\r",
       "</pre>\n"
      ],
      "text/plain": [
       "\u001b[1;36m1990\u001b[0m-\u001b[1;36m09\u001b[0m-27T\u001b[1;92m00:00:00\u001b[0mZ\r"
      ]
     },
     "metadata": {},
     "output_type": "display_data"
    },
    {
     "data": {
      "text/html": [
       "<pre style=\"white-space:pre;overflow-x:auto;line-height:normal;font-family:Menlo,'DejaVu Sans Mono',consolas,'Courier New',monospace\"><span style=\"color: #008080; text-decoration-color: #008080; font-weight: bold\">1990</span>-<span style=\"color: #008080; text-decoration-color: #008080; font-weight: bold\">09</span>-28T<span style=\"color: #00ff00; text-decoration-color: #00ff00; font-weight: bold\">00:00:00</span>Z\r",
       "</pre>\n"
      ],
      "text/plain": [
       "\u001b[1;36m1990\u001b[0m-\u001b[1;36m09\u001b[0m-28T\u001b[1;92m00:00:00\u001b[0mZ\r"
      ]
     },
     "metadata": {},
     "output_type": "display_data"
    },
    {
     "data": {
      "text/html": [
       "<pre style=\"white-space:pre;overflow-x:auto;line-height:normal;font-family:Menlo,'DejaVu Sans Mono',consolas,'Courier New',monospace\"><span style=\"color: #008080; text-decoration-color: #008080; font-weight: bold\">1990</span>-<span style=\"color: #008080; text-decoration-color: #008080; font-weight: bold\">09</span>-29T<span style=\"color: #00ff00; text-decoration-color: #00ff00; font-weight: bold\">00:00:00</span>Z\r",
       "</pre>\n"
      ],
      "text/plain": [
       "\u001b[1;36m1990\u001b[0m-\u001b[1;36m09\u001b[0m-29T\u001b[1;92m00:00:00\u001b[0mZ\r"
      ]
     },
     "metadata": {},
     "output_type": "display_data"
    },
    {
     "data": {
      "text/html": [
       "<pre style=\"white-space:pre;overflow-x:auto;line-height:normal;font-family:Menlo,'DejaVu Sans Mono',consolas,'Courier New',monospace\"><span style=\"color: #008080; text-decoration-color: #008080; font-weight: bold\">1990</span>-<span style=\"color: #008080; text-decoration-color: #008080; font-weight: bold\">09</span>-30T<span style=\"color: #00ff00; text-decoration-color: #00ff00; font-weight: bold\">00:00:00</span>Z\r",
       "</pre>\n"
      ],
      "text/plain": [
       "\u001b[1;36m1990\u001b[0m-\u001b[1;36m09\u001b[0m-30T\u001b[1;92m00:00:00\u001b[0mZ\r"
      ]
     },
     "metadata": {},
     "output_type": "display_data"
    },
    {
     "data": {
      "text/html": [
       "<pre style=\"white-space:pre;overflow-x:auto;line-height:normal;font-family:Menlo,'DejaVu Sans Mono',consolas,'Courier New',monospace\"><span style=\"color: #008080; text-decoration-color: #008080; font-weight: bold\">1990</span>-<span style=\"color: #008080; text-decoration-color: #008080; font-weight: bold\">10</span>-01T<span style=\"color: #00ff00; text-decoration-color: #00ff00; font-weight: bold\">00:00:00</span>Z\r",
       "</pre>\n"
      ],
      "text/plain": [
       "\u001b[1;36m1990\u001b[0m-\u001b[1;36m10\u001b[0m-01T\u001b[1;92m00:00:00\u001b[0mZ\r"
      ]
     },
     "metadata": {},
     "output_type": "display_data"
    },
    {
     "data": {
      "text/html": [
       "<pre style=\"white-space:pre;overflow-x:auto;line-height:normal;font-family:Menlo,'DejaVu Sans Mono',consolas,'Courier New',monospace\"><span style=\"color: #008080; text-decoration-color: #008080; font-weight: bold\">1990</span>-<span style=\"color: #008080; text-decoration-color: #008080; font-weight: bold\">10</span>-02T<span style=\"color: #00ff00; text-decoration-color: #00ff00; font-weight: bold\">00:00:00</span>Z\r",
       "</pre>\n"
      ],
      "text/plain": [
       "\u001b[1;36m1990\u001b[0m-\u001b[1;36m10\u001b[0m-02T\u001b[1;92m00:00:00\u001b[0mZ\r"
      ]
     },
     "metadata": {},
     "output_type": "display_data"
    },
    {
     "data": {
      "text/html": [
       "<pre style=\"white-space:pre;overflow-x:auto;line-height:normal;font-family:Menlo,'DejaVu Sans Mono',consolas,'Courier New',monospace\"><span style=\"color: #008080; text-decoration-color: #008080; font-weight: bold\">1990</span>-<span style=\"color: #008080; text-decoration-color: #008080; font-weight: bold\">10</span>-03T<span style=\"color: #00ff00; text-decoration-color: #00ff00; font-weight: bold\">00:00:00</span>Z\r",
       "</pre>\n"
      ],
      "text/plain": [
       "\u001b[1;36m1990\u001b[0m-\u001b[1;36m10\u001b[0m-03T\u001b[1;92m00:00:00\u001b[0mZ\r"
      ]
     },
     "metadata": {},
     "output_type": "display_data"
    },
    {
     "data": {
      "text/html": [
       "<pre style=\"white-space:pre;overflow-x:auto;line-height:normal;font-family:Menlo,'DejaVu Sans Mono',consolas,'Courier New',monospace\"><span style=\"color: #008080; text-decoration-color: #008080; font-weight: bold\">1990</span>-<span style=\"color: #008080; text-decoration-color: #008080; font-weight: bold\">10</span>-04T<span style=\"color: #00ff00; text-decoration-color: #00ff00; font-weight: bold\">00:00:00</span>Z\r",
       "</pre>\n"
      ],
      "text/plain": [
       "\u001b[1;36m1990\u001b[0m-\u001b[1;36m10\u001b[0m-04T\u001b[1;92m00:00:00\u001b[0mZ\r"
      ]
     },
     "metadata": {},
     "output_type": "display_data"
    },
    {
     "data": {
      "text/html": [
       "<pre style=\"white-space:pre;overflow-x:auto;line-height:normal;font-family:Menlo,'DejaVu Sans Mono',consolas,'Courier New',monospace\"><span style=\"color: #008080; text-decoration-color: #008080; font-weight: bold\">1990</span>-<span style=\"color: #008080; text-decoration-color: #008080; font-weight: bold\">10</span>-05T<span style=\"color: #00ff00; text-decoration-color: #00ff00; font-weight: bold\">00:00:00</span>Z\r",
       "</pre>\n"
      ],
      "text/plain": [
       "\u001b[1;36m1990\u001b[0m-\u001b[1;36m10\u001b[0m-05T\u001b[1;92m00:00:00\u001b[0mZ\r"
      ]
     },
     "metadata": {},
     "output_type": "display_data"
    },
    {
     "data": {
      "text/html": [
       "<pre style=\"white-space:pre;overflow-x:auto;line-height:normal;font-family:Menlo,'DejaVu Sans Mono',consolas,'Courier New',monospace\"><span style=\"color: #008080; text-decoration-color: #008080; font-weight: bold\">1990</span>-<span style=\"color: #008080; text-decoration-color: #008080; font-weight: bold\">10</span>-06T<span style=\"color: #00ff00; text-decoration-color: #00ff00; font-weight: bold\">00:00:00</span>Z\r",
       "</pre>\n"
      ],
      "text/plain": [
       "\u001b[1;36m1990\u001b[0m-\u001b[1;36m10\u001b[0m-06T\u001b[1;92m00:00:00\u001b[0mZ\r"
      ]
     },
     "metadata": {},
     "output_type": "display_data"
    },
    {
     "data": {
      "text/html": [
       "<pre style=\"white-space:pre;overflow-x:auto;line-height:normal;font-family:Menlo,'DejaVu Sans Mono',consolas,'Courier New',monospace\"><span style=\"color: #008080; text-decoration-color: #008080; font-weight: bold\">1990</span>-<span style=\"color: #008080; text-decoration-color: #008080; font-weight: bold\">10</span>-07T<span style=\"color: #00ff00; text-decoration-color: #00ff00; font-weight: bold\">00:00:00</span>Z\r",
       "</pre>\n"
      ],
      "text/plain": [
       "\u001b[1;36m1990\u001b[0m-\u001b[1;36m10\u001b[0m-07T\u001b[1;92m00:00:00\u001b[0mZ\r"
      ]
     },
     "metadata": {},
     "output_type": "display_data"
    },
    {
     "data": {
      "text/html": [
       "<pre style=\"white-space:pre;overflow-x:auto;line-height:normal;font-family:Menlo,'DejaVu Sans Mono',consolas,'Courier New',monospace\"><span style=\"color: #008080; text-decoration-color: #008080; font-weight: bold\">1990</span>-<span style=\"color: #008080; text-decoration-color: #008080; font-weight: bold\">10</span>-08T<span style=\"color: #00ff00; text-decoration-color: #00ff00; font-weight: bold\">00:00:00</span>Z\r",
       "</pre>\n"
      ],
      "text/plain": [
       "\u001b[1;36m1990\u001b[0m-\u001b[1;36m10\u001b[0m-08T\u001b[1;92m00:00:00\u001b[0mZ\r"
      ]
     },
     "metadata": {},
     "output_type": "display_data"
    },
    {
     "data": {
      "text/html": [
       "<pre style=\"white-space:pre;overflow-x:auto;line-height:normal;font-family:Menlo,'DejaVu Sans Mono',consolas,'Courier New',monospace\"><span style=\"color: #008080; text-decoration-color: #008080; font-weight: bold\">1990</span>-<span style=\"color: #008080; text-decoration-color: #008080; font-weight: bold\">10</span>-09T<span style=\"color: #00ff00; text-decoration-color: #00ff00; font-weight: bold\">00:00:00</span>Z\r",
       "</pre>\n"
      ],
      "text/plain": [
       "\u001b[1;36m1990\u001b[0m-\u001b[1;36m10\u001b[0m-09T\u001b[1;92m00:00:00\u001b[0mZ\r"
      ]
     },
     "metadata": {},
     "output_type": "display_data"
    },
    {
     "data": {
      "text/html": [
       "<pre style=\"white-space:pre;overflow-x:auto;line-height:normal;font-family:Menlo,'DejaVu Sans Mono',consolas,'Courier New',monospace\"><span style=\"color: #008080; text-decoration-color: #008080; font-weight: bold\">1990</span>-<span style=\"color: #008080; text-decoration-color: #008080; font-weight: bold\">10</span>-10T<span style=\"color: #00ff00; text-decoration-color: #00ff00; font-weight: bold\">00:00:00</span>Z\r",
       "</pre>\n"
      ],
      "text/plain": [
       "\u001b[1;36m1990\u001b[0m-\u001b[1;36m10\u001b[0m-10T\u001b[1;92m00:00:00\u001b[0mZ\r"
      ]
     },
     "metadata": {},
     "output_type": "display_data"
    },
    {
     "data": {
      "text/html": [
       "<pre style=\"white-space:pre;overflow-x:auto;line-height:normal;font-family:Menlo,'DejaVu Sans Mono',consolas,'Courier New',monospace\"><span style=\"color: #008080; text-decoration-color: #008080; font-weight: bold\">1990</span>-<span style=\"color: #008080; text-decoration-color: #008080; font-weight: bold\">10</span>-11T<span style=\"color: #00ff00; text-decoration-color: #00ff00; font-weight: bold\">00:00:00</span>Z\r",
       "</pre>\n"
      ],
      "text/plain": [
       "\u001b[1;36m1990\u001b[0m-\u001b[1;36m10\u001b[0m-11T\u001b[1;92m00:00:00\u001b[0mZ\r"
      ]
     },
     "metadata": {},
     "output_type": "display_data"
    },
    {
     "data": {
      "text/html": [
       "<pre style=\"white-space:pre;overflow-x:auto;line-height:normal;font-family:Menlo,'DejaVu Sans Mono',consolas,'Courier New',monospace\"><span style=\"color: #008080; text-decoration-color: #008080; font-weight: bold\">1990</span>-<span style=\"color: #008080; text-decoration-color: #008080; font-weight: bold\">10</span>-12T<span style=\"color: #00ff00; text-decoration-color: #00ff00; font-weight: bold\">00:00:00</span>Z\r",
       "</pre>\n"
      ],
      "text/plain": [
       "\u001b[1;36m1990\u001b[0m-\u001b[1;36m10\u001b[0m-12T\u001b[1;92m00:00:00\u001b[0mZ\r"
      ]
     },
     "metadata": {},
     "output_type": "display_data"
    },
    {
     "data": {
      "text/html": [
       "<pre style=\"white-space:pre;overflow-x:auto;line-height:normal;font-family:Menlo,'DejaVu Sans Mono',consolas,'Courier New',monospace\"><span style=\"color: #008080; text-decoration-color: #008080; font-weight: bold\">1990</span>-<span style=\"color: #008080; text-decoration-color: #008080; font-weight: bold\">10</span>-13T<span style=\"color: #00ff00; text-decoration-color: #00ff00; font-weight: bold\">00:00:00</span>Z\r",
       "</pre>\n"
      ],
      "text/plain": [
       "\u001b[1;36m1990\u001b[0m-\u001b[1;36m10\u001b[0m-13T\u001b[1;92m00:00:00\u001b[0mZ\r"
      ]
     },
     "metadata": {},
     "output_type": "display_data"
    },
    {
     "data": {
      "text/html": [
       "<pre style=\"white-space:pre;overflow-x:auto;line-height:normal;font-family:Menlo,'DejaVu Sans Mono',consolas,'Courier New',monospace\"><span style=\"color: #008080; text-decoration-color: #008080; font-weight: bold\">1990</span>-<span style=\"color: #008080; text-decoration-color: #008080; font-weight: bold\">10</span>-14T<span style=\"color: #00ff00; text-decoration-color: #00ff00; font-weight: bold\">00:00:00</span>Z\r",
       "</pre>\n"
      ],
      "text/plain": [
       "\u001b[1;36m1990\u001b[0m-\u001b[1;36m10\u001b[0m-14T\u001b[1;92m00:00:00\u001b[0mZ\r"
      ]
     },
     "metadata": {},
     "output_type": "display_data"
    },
    {
     "data": {
      "text/html": [
       "<pre style=\"white-space:pre;overflow-x:auto;line-height:normal;font-family:Menlo,'DejaVu Sans Mono',consolas,'Courier New',monospace\"><span style=\"color: #008080; text-decoration-color: #008080; font-weight: bold\">1990</span>-<span style=\"color: #008080; text-decoration-color: #008080; font-weight: bold\">10</span>-15T<span style=\"color: #00ff00; text-decoration-color: #00ff00; font-weight: bold\">00:00:00</span>Z\r",
       "</pre>\n"
      ],
      "text/plain": [
       "\u001b[1;36m1990\u001b[0m-\u001b[1;36m10\u001b[0m-15T\u001b[1;92m00:00:00\u001b[0mZ\r"
      ]
     },
     "metadata": {},
     "output_type": "display_data"
    },
    {
     "data": {
      "text/html": [
       "<pre style=\"white-space:pre;overflow-x:auto;line-height:normal;font-family:Menlo,'DejaVu Sans Mono',consolas,'Courier New',monospace\"><span style=\"color: #008080; text-decoration-color: #008080; font-weight: bold\">1990</span>-<span style=\"color: #008080; text-decoration-color: #008080; font-weight: bold\">10</span>-16T<span style=\"color: #00ff00; text-decoration-color: #00ff00; font-weight: bold\">00:00:00</span>Z\r",
       "</pre>\n"
      ],
      "text/plain": [
       "\u001b[1;36m1990\u001b[0m-\u001b[1;36m10\u001b[0m-16T\u001b[1;92m00:00:00\u001b[0mZ\r"
      ]
     },
     "metadata": {},
     "output_type": "display_data"
    },
    {
     "data": {
      "text/html": [
       "<pre style=\"white-space:pre;overflow-x:auto;line-height:normal;font-family:Menlo,'DejaVu Sans Mono',consolas,'Courier New',monospace\"><span style=\"color: #008080; text-decoration-color: #008080; font-weight: bold\">1990</span>-<span style=\"color: #008080; text-decoration-color: #008080; font-weight: bold\">10</span>-17T<span style=\"color: #00ff00; text-decoration-color: #00ff00; font-weight: bold\">00:00:00</span>Z\r",
       "</pre>\n"
      ],
      "text/plain": [
       "\u001b[1;36m1990\u001b[0m-\u001b[1;36m10\u001b[0m-17T\u001b[1;92m00:00:00\u001b[0mZ\r"
      ]
     },
     "metadata": {},
     "output_type": "display_data"
    },
    {
     "data": {
      "text/html": [
       "<pre style=\"white-space:pre;overflow-x:auto;line-height:normal;font-family:Menlo,'DejaVu Sans Mono',consolas,'Courier New',monospace\"><span style=\"color: #008080; text-decoration-color: #008080; font-weight: bold\">1990</span>-<span style=\"color: #008080; text-decoration-color: #008080; font-weight: bold\">10</span>-18T<span style=\"color: #00ff00; text-decoration-color: #00ff00; font-weight: bold\">00:00:00</span>Z\r",
       "</pre>\n"
      ],
      "text/plain": [
       "\u001b[1;36m1990\u001b[0m-\u001b[1;36m10\u001b[0m-18T\u001b[1;92m00:00:00\u001b[0mZ\r"
      ]
     },
     "metadata": {},
     "output_type": "display_data"
    },
    {
     "data": {
      "text/html": [
       "<pre style=\"white-space:pre;overflow-x:auto;line-height:normal;font-family:Menlo,'DejaVu Sans Mono',consolas,'Courier New',monospace\"><span style=\"color: #008080; text-decoration-color: #008080; font-weight: bold\">1990</span>-<span style=\"color: #008080; text-decoration-color: #008080; font-weight: bold\">10</span>-19T<span style=\"color: #00ff00; text-decoration-color: #00ff00; font-weight: bold\">00:00:00</span>Z\r",
       "</pre>\n"
      ],
      "text/plain": [
       "\u001b[1;36m1990\u001b[0m-\u001b[1;36m10\u001b[0m-19T\u001b[1;92m00:00:00\u001b[0mZ\r"
      ]
     },
     "metadata": {},
     "output_type": "display_data"
    },
    {
     "data": {
      "text/html": [
       "<pre style=\"white-space:pre;overflow-x:auto;line-height:normal;font-family:Menlo,'DejaVu Sans Mono',consolas,'Courier New',monospace\"><span style=\"color: #008080; text-decoration-color: #008080; font-weight: bold\">1990</span>-<span style=\"color: #008080; text-decoration-color: #008080; font-weight: bold\">10</span>-20T<span style=\"color: #00ff00; text-decoration-color: #00ff00; font-weight: bold\">00:00:00</span>Z\r",
       "</pre>\n"
      ],
      "text/plain": [
       "\u001b[1;36m1990\u001b[0m-\u001b[1;36m10\u001b[0m-20T\u001b[1;92m00:00:00\u001b[0mZ\r"
      ]
     },
     "metadata": {},
     "output_type": "display_data"
    },
    {
     "data": {
      "text/html": [
       "<pre style=\"white-space:pre;overflow-x:auto;line-height:normal;font-family:Menlo,'DejaVu Sans Mono',consolas,'Courier New',monospace\"><span style=\"color: #008080; text-decoration-color: #008080; font-weight: bold\">1990</span>-<span style=\"color: #008080; text-decoration-color: #008080; font-weight: bold\">10</span>-21T<span style=\"color: #00ff00; text-decoration-color: #00ff00; font-weight: bold\">00:00:00</span>Z\r",
       "</pre>\n"
      ],
      "text/plain": [
       "\u001b[1;36m1990\u001b[0m-\u001b[1;36m10\u001b[0m-21T\u001b[1;92m00:00:00\u001b[0mZ\r"
      ]
     },
     "metadata": {},
     "output_type": "display_data"
    },
    {
     "data": {
      "text/html": [
       "<pre style=\"white-space:pre;overflow-x:auto;line-height:normal;font-family:Menlo,'DejaVu Sans Mono',consolas,'Courier New',monospace\"><span style=\"color: #008080; text-decoration-color: #008080; font-weight: bold\">1990</span>-<span style=\"color: #008080; text-decoration-color: #008080; font-weight: bold\">10</span>-22T<span style=\"color: #00ff00; text-decoration-color: #00ff00; font-weight: bold\">00:00:00</span>Z\r",
       "</pre>\n"
      ],
      "text/plain": [
       "\u001b[1;36m1990\u001b[0m-\u001b[1;36m10\u001b[0m-22T\u001b[1;92m00:00:00\u001b[0mZ\r"
      ]
     },
     "metadata": {},
     "output_type": "display_data"
    },
    {
     "data": {
      "text/html": [
       "<pre style=\"white-space:pre;overflow-x:auto;line-height:normal;font-family:Menlo,'DejaVu Sans Mono',consolas,'Courier New',monospace\"><span style=\"color: #008080; text-decoration-color: #008080; font-weight: bold\">1990</span>-<span style=\"color: #008080; text-decoration-color: #008080; font-weight: bold\">10</span>-23T<span style=\"color: #00ff00; text-decoration-color: #00ff00; font-weight: bold\">00:00:00</span>Z\r",
       "</pre>\n"
      ],
      "text/plain": [
       "\u001b[1;36m1990\u001b[0m-\u001b[1;36m10\u001b[0m-23T\u001b[1;92m00:00:00\u001b[0mZ\r"
      ]
     },
     "metadata": {},
     "output_type": "display_data"
    },
    {
     "data": {
      "text/html": [
       "<pre style=\"white-space:pre;overflow-x:auto;line-height:normal;font-family:Menlo,'DejaVu Sans Mono',consolas,'Courier New',monospace\"><span style=\"color: #008080; text-decoration-color: #008080; font-weight: bold\">1990</span>-<span style=\"color: #008080; text-decoration-color: #008080; font-weight: bold\">10</span>-24T<span style=\"color: #00ff00; text-decoration-color: #00ff00; font-weight: bold\">00:00:00</span>Z\r",
       "</pre>\n"
      ],
      "text/plain": [
       "\u001b[1;36m1990\u001b[0m-\u001b[1;36m10\u001b[0m-24T\u001b[1;92m00:00:00\u001b[0mZ\r"
      ]
     },
     "metadata": {},
     "output_type": "display_data"
    },
    {
     "data": {
      "text/html": [
       "<pre style=\"white-space:pre;overflow-x:auto;line-height:normal;font-family:Menlo,'DejaVu Sans Mono',consolas,'Courier New',monospace\"><span style=\"color: #008080; text-decoration-color: #008080; font-weight: bold\">1990</span>-<span style=\"color: #008080; text-decoration-color: #008080; font-weight: bold\">10</span>-25T<span style=\"color: #00ff00; text-decoration-color: #00ff00; font-weight: bold\">00:00:00</span>Z\r",
       "</pre>\n"
      ],
      "text/plain": [
       "\u001b[1;36m1990\u001b[0m-\u001b[1;36m10\u001b[0m-25T\u001b[1;92m00:00:00\u001b[0mZ\r"
      ]
     },
     "metadata": {},
     "output_type": "display_data"
    },
    {
     "data": {
      "text/html": [
       "<pre style=\"white-space:pre;overflow-x:auto;line-height:normal;font-family:Menlo,'DejaVu Sans Mono',consolas,'Courier New',monospace\"><span style=\"color: #008080; text-decoration-color: #008080; font-weight: bold\">1990</span>-<span style=\"color: #008080; text-decoration-color: #008080; font-weight: bold\">10</span>-26T<span style=\"color: #00ff00; text-decoration-color: #00ff00; font-weight: bold\">00:00:00</span>Z\r",
       "</pre>\n"
      ],
      "text/plain": [
       "\u001b[1;36m1990\u001b[0m-\u001b[1;36m10\u001b[0m-26T\u001b[1;92m00:00:00\u001b[0mZ\r"
      ]
     },
     "metadata": {},
     "output_type": "display_data"
    },
    {
     "data": {
      "text/html": [
       "<pre style=\"white-space:pre;overflow-x:auto;line-height:normal;font-family:Menlo,'DejaVu Sans Mono',consolas,'Courier New',monospace\"><span style=\"color: #008080; text-decoration-color: #008080; font-weight: bold\">1990</span>-<span style=\"color: #008080; text-decoration-color: #008080; font-weight: bold\">10</span>-27T<span style=\"color: #00ff00; text-decoration-color: #00ff00; font-weight: bold\">00:00:00</span>Z\r",
       "</pre>\n"
      ],
      "text/plain": [
       "\u001b[1;36m1990\u001b[0m-\u001b[1;36m10\u001b[0m-27T\u001b[1;92m00:00:00\u001b[0mZ\r"
      ]
     },
     "metadata": {},
     "output_type": "display_data"
    },
    {
     "data": {
      "text/html": [
       "<pre style=\"white-space:pre;overflow-x:auto;line-height:normal;font-family:Menlo,'DejaVu Sans Mono',consolas,'Courier New',monospace\"><span style=\"color: #008080; text-decoration-color: #008080; font-weight: bold\">1990</span>-<span style=\"color: #008080; text-decoration-color: #008080; font-weight: bold\">10</span>-28T<span style=\"color: #00ff00; text-decoration-color: #00ff00; font-weight: bold\">00:00:00</span>Z\r",
       "</pre>\n"
      ],
      "text/plain": [
       "\u001b[1;36m1990\u001b[0m-\u001b[1;36m10\u001b[0m-28T\u001b[1;92m00:00:00\u001b[0mZ\r"
      ]
     },
     "metadata": {},
     "output_type": "display_data"
    },
    {
     "data": {
      "text/html": [
       "<pre style=\"white-space:pre;overflow-x:auto;line-height:normal;font-family:Menlo,'DejaVu Sans Mono',consolas,'Courier New',monospace\"><span style=\"color: #008080; text-decoration-color: #008080; font-weight: bold\">1990</span>-<span style=\"color: #008080; text-decoration-color: #008080; font-weight: bold\">10</span>-29T<span style=\"color: #00ff00; text-decoration-color: #00ff00; font-weight: bold\">00:00:00</span>Z\r",
       "</pre>\n"
      ],
      "text/plain": [
       "\u001b[1;36m1990\u001b[0m-\u001b[1;36m10\u001b[0m-29T\u001b[1;92m00:00:00\u001b[0mZ\r"
      ]
     },
     "metadata": {},
     "output_type": "display_data"
    },
    {
     "data": {
      "text/html": [
       "<pre style=\"white-space:pre;overflow-x:auto;line-height:normal;font-family:Menlo,'DejaVu Sans Mono',consolas,'Courier New',monospace\"><span style=\"color: #008080; text-decoration-color: #008080; font-weight: bold\">1990</span>-<span style=\"color: #008080; text-decoration-color: #008080; font-weight: bold\">10</span>-30T<span style=\"color: #00ff00; text-decoration-color: #00ff00; font-weight: bold\">00:00:00</span>Z\r",
       "</pre>\n"
      ],
      "text/plain": [
       "\u001b[1;36m1990\u001b[0m-\u001b[1;36m10\u001b[0m-30T\u001b[1;92m00:00:00\u001b[0mZ\r"
      ]
     },
     "metadata": {},
     "output_type": "display_data"
    },
    {
     "data": {
      "text/html": [
       "<pre style=\"white-space:pre;overflow-x:auto;line-height:normal;font-family:Menlo,'DejaVu Sans Mono',consolas,'Courier New',monospace\"><span style=\"color: #008080; text-decoration-color: #008080; font-weight: bold\">1990</span>-<span style=\"color: #008080; text-decoration-color: #008080; font-weight: bold\">10</span>-31T<span style=\"color: #00ff00; text-decoration-color: #00ff00; font-weight: bold\">00:00:00</span>Z\r",
       "</pre>\n"
      ],
      "text/plain": [
       "\u001b[1;36m1990\u001b[0m-\u001b[1;36m10\u001b[0m-31T\u001b[1;92m00:00:00\u001b[0mZ\r"
      ]
     },
     "metadata": {},
     "output_type": "display_data"
    },
    {
     "data": {
      "text/html": [
       "<pre style=\"white-space:pre;overflow-x:auto;line-height:normal;font-family:Menlo,'DejaVu Sans Mono',consolas,'Courier New',monospace\"><span style=\"color: #008080; text-decoration-color: #008080; font-weight: bold\">1990</span>-<span style=\"color: #008080; text-decoration-color: #008080; font-weight: bold\">11</span>-01T<span style=\"color: #00ff00; text-decoration-color: #00ff00; font-weight: bold\">00:00:00</span>Z\r",
       "</pre>\n"
      ],
      "text/plain": [
       "\u001b[1;36m1990\u001b[0m-\u001b[1;36m11\u001b[0m-01T\u001b[1;92m00:00:00\u001b[0mZ\r"
      ]
     },
     "metadata": {},
     "output_type": "display_data"
    },
    {
     "data": {
      "text/html": [
       "<pre style=\"white-space:pre;overflow-x:auto;line-height:normal;font-family:Menlo,'DejaVu Sans Mono',consolas,'Courier New',monospace\"><span style=\"color: #008080; text-decoration-color: #008080; font-weight: bold\">1990</span>-<span style=\"color: #008080; text-decoration-color: #008080; font-weight: bold\">11</span>-02T<span style=\"color: #00ff00; text-decoration-color: #00ff00; font-weight: bold\">00:00:00</span>Z\r",
       "</pre>\n"
      ],
      "text/plain": [
       "\u001b[1;36m1990\u001b[0m-\u001b[1;36m11\u001b[0m-02T\u001b[1;92m00:00:00\u001b[0mZ\r"
      ]
     },
     "metadata": {},
     "output_type": "display_data"
    },
    {
     "data": {
      "text/html": [
       "<pre style=\"white-space:pre;overflow-x:auto;line-height:normal;font-family:Menlo,'DejaVu Sans Mono',consolas,'Courier New',monospace\"><span style=\"color: #008080; text-decoration-color: #008080; font-weight: bold\">1990</span>-<span style=\"color: #008080; text-decoration-color: #008080; font-weight: bold\">11</span>-03T<span style=\"color: #00ff00; text-decoration-color: #00ff00; font-weight: bold\">00:00:00</span>Z\r",
       "</pre>\n"
      ],
      "text/plain": [
       "\u001b[1;36m1990\u001b[0m-\u001b[1;36m11\u001b[0m-03T\u001b[1;92m00:00:00\u001b[0mZ\r"
      ]
     },
     "metadata": {},
     "output_type": "display_data"
    },
    {
     "data": {
      "text/html": [
       "<pre style=\"white-space:pre;overflow-x:auto;line-height:normal;font-family:Menlo,'DejaVu Sans Mono',consolas,'Courier New',monospace\"><span style=\"color: #008080; text-decoration-color: #008080; font-weight: bold\">1990</span>-<span style=\"color: #008080; text-decoration-color: #008080; font-weight: bold\">11</span>-04T<span style=\"color: #00ff00; text-decoration-color: #00ff00; font-weight: bold\">00:00:00</span>Z\r",
       "</pre>\n"
      ],
      "text/plain": [
       "\u001b[1;36m1990\u001b[0m-\u001b[1;36m11\u001b[0m-04T\u001b[1;92m00:00:00\u001b[0mZ\r"
      ]
     },
     "metadata": {},
     "output_type": "display_data"
    },
    {
     "data": {
      "text/html": [
       "<pre style=\"white-space:pre;overflow-x:auto;line-height:normal;font-family:Menlo,'DejaVu Sans Mono',consolas,'Courier New',monospace\"><span style=\"color: #008080; text-decoration-color: #008080; font-weight: bold\">1990</span>-<span style=\"color: #008080; text-decoration-color: #008080; font-weight: bold\">11</span>-05T<span style=\"color: #00ff00; text-decoration-color: #00ff00; font-weight: bold\">00:00:00</span>Z\r",
       "</pre>\n"
      ],
      "text/plain": [
       "\u001b[1;36m1990\u001b[0m-\u001b[1;36m11\u001b[0m-05T\u001b[1;92m00:00:00\u001b[0mZ\r"
      ]
     },
     "metadata": {},
     "output_type": "display_data"
    },
    {
     "data": {
      "text/html": [
       "<pre style=\"white-space:pre;overflow-x:auto;line-height:normal;font-family:Menlo,'DejaVu Sans Mono',consolas,'Courier New',monospace\"><span style=\"color: #008080; text-decoration-color: #008080; font-weight: bold\">1990</span>-<span style=\"color: #008080; text-decoration-color: #008080; font-weight: bold\">11</span>-06T<span style=\"color: #00ff00; text-decoration-color: #00ff00; font-weight: bold\">00:00:00</span>Z\r",
       "</pre>\n"
      ],
      "text/plain": [
       "\u001b[1;36m1990\u001b[0m-\u001b[1;36m11\u001b[0m-06T\u001b[1;92m00:00:00\u001b[0mZ\r"
      ]
     },
     "metadata": {},
     "output_type": "display_data"
    },
    {
     "data": {
      "text/html": [
       "<pre style=\"white-space:pre;overflow-x:auto;line-height:normal;font-family:Menlo,'DejaVu Sans Mono',consolas,'Courier New',monospace\"><span style=\"color: #008080; text-decoration-color: #008080; font-weight: bold\">1990</span>-<span style=\"color: #008080; text-decoration-color: #008080; font-weight: bold\">11</span>-07T<span style=\"color: #00ff00; text-decoration-color: #00ff00; font-weight: bold\">00:00:00</span>Z\r",
       "</pre>\n"
      ],
      "text/plain": [
       "\u001b[1;36m1990\u001b[0m-\u001b[1;36m11\u001b[0m-07T\u001b[1;92m00:00:00\u001b[0mZ\r"
      ]
     },
     "metadata": {},
     "output_type": "display_data"
    },
    {
     "data": {
      "text/html": [
       "<pre style=\"white-space:pre;overflow-x:auto;line-height:normal;font-family:Menlo,'DejaVu Sans Mono',consolas,'Courier New',monospace\"><span style=\"color: #008080; text-decoration-color: #008080; font-weight: bold\">1990</span>-<span style=\"color: #008080; text-decoration-color: #008080; font-weight: bold\">11</span>-08T<span style=\"color: #00ff00; text-decoration-color: #00ff00; font-weight: bold\">00:00:00</span>Z\r",
       "</pre>\n"
      ],
      "text/plain": [
       "\u001b[1;36m1990\u001b[0m-\u001b[1;36m11\u001b[0m-08T\u001b[1;92m00:00:00\u001b[0mZ\r"
      ]
     },
     "metadata": {},
     "output_type": "display_data"
    },
    {
     "data": {
      "text/html": [
       "<pre style=\"white-space:pre;overflow-x:auto;line-height:normal;font-family:Menlo,'DejaVu Sans Mono',consolas,'Courier New',monospace\"><span style=\"color: #008080; text-decoration-color: #008080; font-weight: bold\">1990</span>-<span style=\"color: #008080; text-decoration-color: #008080; font-weight: bold\">11</span>-09T<span style=\"color: #00ff00; text-decoration-color: #00ff00; font-weight: bold\">00:00:00</span>Z\r",
       "</pre>\n"
      ],
      "text/plain": [
       "\u001b[1;36m1990\u001b[0m-\u001b[1;36m11\u001b[0m-09T\u001b[1;92m00:00:00\u001b[0mZ\r"
      ]
     },
     "metadata": {},
     "output_type": "display_data"
    },
    {
     "data": {
      "text/html": [
       "<pre style=\"white-space:pre;overflow-x:auto;line-height:normal;font-family:Menlo,'DejaVu Sans Mono',consolas,'Courier New',monospace\"><span style=\"color: #008080; text-decoration-color: #008080; font-weight: bold\">1990</span>-<span style=\"color: #008080; text-decoration-color: #008080; font-weight: bold\">11</span>-10T<span style=\"color: #00ff00; text-decoration-color: #00ff00; font-weight: bold\">00:00:00</span>Z\r",
       "</pre>\n"
      ],
      "text/plain": [
       "\u001b[1;36m1990\u001b[0m-\u001b[1;36m11\u001b[0m-10T\u001b[1;92m00:00:00\u001b[0mZ\r"
      ]
     },
     "metadata": {},
     "output_type": "display_data"
    },
    {
     "data": {
      "text/html": [
       "<pre style=\"white-space:pre;overflow-x:auto;line-height:normal;font-family:Menlo,'DejaVu Sans Mono',consolas,'Courier New',monospace\"><span style=\"color: #008080; text-decoration-color: #008080; font-weight: bold\">1990</span>-<span style=\"color: #008080; text-decoration-color: #008080; font-weight: bold\">11</span>-11T<span style=\"color: #00ff00; text-decoration-color: #00ff00; font-weight: bold\">00:00:00</span>Z\r",
       "</pre>\n"
      ],
      "text/plain": [
       "\u001b[1;36m1990\u001b[0m-\u001b[1;36m11\u001b[0m-11T\u001b[1;92m00:00:00\u001b[0mZ\r"
      ]
     },
     "metadata": {},
     "output_type": "display_data"
    },
    {
     "data": {
      "text/html": [
       "<pre style=\"white-space:pre;overflow-x:auto;line-height:normal;font-family:Menlo,'DejaVu Sans Mono',consolas,'Courier New',monospace\"><span style=\"color: #008080; text-decoration-color: #008080; font-weight: bold\">1990</span>-<span style=\"color: #008080; text-decoration-color: #008080; font-weight: bold\">11</span>-12T<span style=\"color: #00ff00; text-decoration-color: #00ff00; font-weight: bold\">00:00:00</span>Z\r",
       "</pre>\n"
      ],
      "text/plain": [
       "\u001b[1;36m1990\u001b[0m-\u001b[1;36m11\u001b[0m-12T\u001b[1;92m00:00:00\u001b[0mZ\r"
      ]
     },
     "metadata": {},
     "output_type": "display_data"
    },
    {
     "data": {
      "text/html": [
       "<pre style=\"white-space:pre;overflow-x:auto;line-height:normal;font-family:Menlo,'DejaVu Sans Mono',consolas,'Courier New',monospace\"><span style=\"color: #008080; text-decoration-color: #008080; font-weight: bold\">1990</span>-<span style=\"color: #008080; text-decoration-color: #008080; font-weight: bold\">11</span>-13T<span style=\"color: #00ff00; text-decoration-color: #00ff00; font-weight: bold\">00:00:00</span>Z\r",
       "</pre>\n"
      ],
      "text/plain": [
       "\u001b[1;36m1990\u001b[0m-\u001b[1;36m11\u001b[0m-13T\u001b[1;92m00:00:00\u001b[0mZ\r"
      ]
     },
     "metadata": {},
     "output_type": "display_data"
    },
    {
     "data": {
      "text/html": [
       "<pre style=\"white-space:pre;overflow-x:auto;line-height:normal;font-family:Menlo,'DejaVu Sans Mono',consolas,'Courier New',monospace\"><span style=\"color: #008080; text-decoration-color: #008080; font-weight: bold\">1990</span>-<span style=\"color: #008080; text-decoration-color: #008080; font-weight: bold\">11</span>-14T<span style=\"color: #00ff00; text-decoration-color: #00ff00; font-weight: bold\">00:00:00</span>Z\r",
       "</pre>\n"
      ],
      "text/plain": [
       "\u001b[1;36m1990\u001b[0m-\u001b[1;36m11\u001b[0m-14T\u001b[1;92m00:00:00\u001b[0mZ\r"
      ]
     },
     "metadata": {},
     "output_type": "display_data"
    },
    {
     "data": {
      "text/html": [
       "<pre style=\"white-space:pre;overflow-x:auto;line-height:normal;font-family:Menlo,'DejaVu Sans Mono',consolas,'Courier New',monospace\"><span style=\"color: #008080; text-decoration-color: #008080; font-weight: bold\">1990</span>-<span style=\"color: #008080; text-decoration-color: #008080; font-weight: bold\">11</span>-15T<span style=\"color: #00ff00; text-decoration-color: #00ff00; font-weight: bold\">00:00:00</span>Z\r",
       "</pre>\n"
      ],
      "text/plain": [
       "\u001b[1;36m1990\u001b[0m-\u001b[1;36m11\u001b[0m-15T\u001b[1;92m00:00:00\u001b[0mZ\r"
      ]
     },
     "metadata": {},
     "output_type": "display_data"
    },
    {
     "data": {
      "text/html": [
       "<pre style=\"white-space:pre;overflow-x:auto;line-height:normal;font-family:Menlo,'DejaVu Sans Mono',consolas,'Courier New',monospace\"><span style=\"color: #008080; text-decoration-color: #008080; font-weight: bold\">1990</span>-<span style=\"color: #008080; text-decoration-color: #008080; font-weight: bold\">11</span>-16T<span style=\"color: #00ff00; text-decoration-color: #00ff00; font-weight: bold\">00:00:00</span>Z\r",
       "</pre>\n"
      ],
      "text/plain": [
       "\u001b[1;36m1990\u001b[0m-\u001b[1;36m11\u001b[0m-16T\u001b[1;92m00:00:00\u001b[0mZ\r"
      ]
     },
     "metadata": {},
     "output_type": "display_data"
    },
    {
     "data": {
      "text/html": [
       "<pre style=\"white-space:pre;overflow-x:auto;line-height:normal;font-family:Menlo,'DejaVu Sans Mono',consolas,'Courier New',monospace\"><span style=\"color: #008080; text-decoration-color: #008080; font-weight: bold\">1990</span>-<span style=\"color: #008080; text-decoration-color: #008080; font-weight: bold\">11</span>-17T<span style=\"color: #00ff00; text-decoration-color: #00ff00; font-weight: bold\">00:00:00</span>Z\r",
       "</pre>\n"
      ],
      "text/plain": [
       "\u001b[1;36m1990\u001b[0m-\u001b[1;36m11\u001b[0m-17T\u001b[1;92m00:00:00\u001b[0mZ\r"
      ]
     },
     "metadata": {},
     "output_type": "display_data"
    },
    {
     "data": {
      "text/html": [
       "<pre style=\"white-space:pre;overflow-x:auto;line-height:normal;font-family:Menlo,'DejaVu Sans Mono',consolas,'Courier New',monospace\"><span style=\"color: #008080; text-decoration-color: #008080; font-weight: bold\">1990</span>-<span style=\"color: #008080; text-decoration-color: #008080; font-weight: bold\">11</span>-18T<span style=\"color: #00ff00; text-decoration-color: #00ff00; font-weight: bold\">00:00:00</span>Z\r",
       "</pre>\n"
      ],
      "text/plain": [
       "\u001b[1;36m1990\u001b[0m-\u001b[1;36m11\u001b[0m-18T\u001b[1;92m00:00:00\u001b[0mZ\r"
      ]
     },
     "metadata": {},
     "output_type": "display_data"
    },
    {
     "data": {
      "text/html": [
       "<pre style=\"white-space:pre;overflow-x:auto;line-height:normal;font-family:Menlo,'DejaVu Sans Mono',consolas,'Courier New',monospace\"><span style=\"color: #008080; text-decoration-color: #008080; font-weight: bold\">1990</span>-<span style=\"color: #008080; text-decoration-color: #008080; font-weight: bold\">11</span>-19T<span style=\"color: #00ff00; text-decoration-color: #00ff00; font-weight: bold\">00:00:00</span>Z\r",
       "</pre>\n"
      ],
      "text/plain": [
       "\u001b[1;36m1990\u001b[0m-\u001b[1;36m11\u001b[0m-19T\u001b[1;92m00:00:00\u001b[0mZ\r"
      ]
     },
     "metadata": {},
     "output_type": "display_data"
    },
    {
     "data": {
      "text/html": [
       "<pre style=\"white-space:pre;overflow-x:auto;line-height:normal;font-family:Menlo,'DejaVu Sans Mono',consolas,'Courier New',monospace\"><span style=\"color: #008080; text-decoration-color: #008080; font-weight: bold\">1990</span>-<span style=\"color: #008080; text-decoration-color: #008080; font-weight: bold\">11</span>-20T<span style=\"color: #00ff00; text-decoration-color: #00ff00; font-weight: bold\">00:00:00</span>Z\r",
       "</pre>\n"
      ],
      "text/plain": [
       "\u001b[1;36m1990\u001b[0m-\u001b[1;36m11\u001b[0m-20T\u001b[1;92m00:00:00\u001b[0mZ\r"
      ]
     },
     "metadata": {},
     "output_type": "display_data"
    },
    {
     "data": {
      "text/html": [
       "<pre style=\"white-space:pre;overflow-x:auto;line-height:normal;font-family:Menlo,'DejaVu Sans Mono',consolas,'Courier New',monospace\"><span style=\"color: #008080; text-decoration-color: #008080; font-weight: bold\">1990</span>-<span style=\"color: #008080; text-decoration-color: #008080; font-weight: bold\">11</span>-21T<span style=\"color: #00ff00; text-decoration-color: #00ff00; font-weight: bold\">00:00:00</span>Z\r",
       "</pre>\n"
      ],
      "text/plain": [
       "\u001b[1;36m1990\u001b[0m-\u001b[1;36m11\u001b[0m-21T\u001b[1;92m00:00:00\u001b[0mZ\r"
      ]
     },
     "metadata": {},
     "output_type": "display_data"
    },
    {
     "data": {
      "text/html": [
       "<pre style=\"white-space:pre;overflow-x:auto;line-height:normal;font-family:Menlo,'DejaVu Sans Mono',consolas,'Courier New',monospace\"><span style=\"color: #008080; text-decoration-color: #008080; font-weight: bold\">1990</span>-<span style=\"color: #008080; text-decoration-color: #008080; font-weight: bold\">11</span>-22T<span style=\"color: #00ff00; text-decoration-color: #00ff00; font-weight: bold\">00:00:00</span>Z\r",
       "</pre>\n"
      ],
      "text/plain": [
       "\u001b[1;36m1990\u001b[0m-\u001b[1;36m11\u001b[0m-22T\u001b[1;92m00:00:00\u001b[0mZ\r"
      ]
     },
     "metadata": {},
     "output_type": "display_data"
    },
    {
     "data": {
      "text/html": [
       "<pre style=\"white-space:pre;overflow-x:auto;line-height:normal;font-family:Menlo,'DejaVu Sans Mono',consolas,'Courier New',monospace\"><span style=\"color: #008080; text-decoration-color: #008080; font-weight: bold\">1990</span>-<span style=\"color: #008080; text-decoration-color: #008080; font-weight: bold\">11</span>-23T<span style=\"color: #00ff00; text-decoration-color: #00ff00; font-weight: bold\">00:00:00</span>Z\r",
       "</pre>\n"
      ],
      "text/plain": [
       "\u001b[1;36m1990\u001b[0m-\u001b[1;36m11\u001b[0m-23T\u001b[1;92m00:00:00\u001b[0mZ\r"
      ]
     },
     "metadata": {},
     "output_type": "display_data"
    },
    {
     "data": {
      "text/html": [
       "<pre style=\"white-space:pre;overflow-x:auto;line-height:normal;font-family:Menlo,'DejaVu Sans Mono',consolas,'Courier New',monospace\"><span style=\"color: #008080; text-decoration-color: #008080; font-weight: bold\">1990</span>-<span style=\"color: #008080; text-decoration-color: #008080; font-weight: bold\">11</span>-24T<span style=\"color: #00ff00; text-decoration-color: #00ff00; font-weight: bold\">00:00:00</span>Z\r",
       "</pre>\n"
      ],
      "text/plain": [
       "\u001b[1;36m1990\u001b[0m-\u001b[1;36m11\u001b[0m-24T\u001b[1;92m00:00:00\u001b[0mZ\r"
      ]
     },
     "metadata": {},
     "output_type": "display_data"
    },
    {
     "data": {
      "text/html": [
       "<pre style=\"white-space:pre;overflow-x:auto;line-height:normal;font-family:Menlo,'DejaVu Sans Mono',consolas,'Courier New',monospace\"><span style=\"color: #008080; text-decoration-color: #008080; font-weight: bold\">1990</span>-<span style=\"color: #008080; text-decoration-color: #008080; font-weight: bold\">11</span>-25T<span style=\"color: #00ff00; text-decoration-color: #00ff00; font-weight: bold\">00:00:00</span>Z\r",
       "</pre>\n"
      ],
      "text/plain": [
       "\u001b[1;36m1990\u001b[0m-\u001b[1;36m11\u001b[0m-25T\u001b[1;92m00:00:00\u001b[0mZ\r"
      ]
     },
     "metadata": {},
     "output_type": "display_data"
    },
    {
     "data": {
      "text/html": [
       "<pre style=\"white-space:pre;overflow-x:auto;line-height:normal;font-family:Menlo,'DejaVu Sans Mono',consolas,'Courier New',monospace\"><span style=\"color: #008080; text-decoration-color: #008080; font-weight: bold\">1990</span>-<span style=\"color: #008080; text-decoration-color: #008080; font-weight: bold\">11</span>-26T<span style=\"color: #00ff00; text-decoration-color: #00ff00; font-weight: bold\">00:00:00</span>Z\r",
       "</pre>\n"
      ],
      "text/plain": [
       "\u001b[1;36m1990\u001b[0m-\u001b[1;36m11\u001b[0m-26T\u001b[1;92m00:00:00\u001b[0mZ\r"
      ]
     },
     "metadata": {},
     "output_type": "display_data"
    },
    {
     "data": {
      "text/html": [
       "<pre style=\"white-space:pre;overflow-x:auto;line-height:normal;font-family:Menlo,'DejaVu Sans Mono',consolas,'Courier New',monospace\"><span style=\"color: #008080; text-decoration-color: #008080; font-weight: bold\">1990</span>-<span style=\"color: #008080; text-decoration-color: #008080; font-weight: bold\">11</span>-27T<span style=\"color: #00ff00; text-decoration-color: #00ff00; font-weight: bold\">00:00:00</span>Z\r",
       "</pre>\n"
      ],
      "text/plain": [
       "\u001b[1;36m1990\u001b[0m-\u001b[1;36m11\u001b[0m-27T\u001b[1;92m00:00:00\u001b[0mZ\r"
      ]
     },
     "metadata": {},
     "output_type": "display_data"
    },
    {
     "data": {
      "text/html": [
       "<pre style=\"white-space:pre;overflow-x:auto;line-height:normal;font-family:Menlo,'DejaVu Sans Mono',consolas,'Courier New',monospace\"><span style=\"color: #008080; text-decoration-color: #008080; font-weight: bold\">1990</span>-<span style=\"color: #008080; text-decoration-color: #008080; font-weight: bold\">11</span>-28T<span style=\"color: #00ff00; text-decoration-color: #00ff00; font-weight: bold\">00:00:00</span>Z\r",
       "</pre>\n"
      ],
      "text/plain": [
       "\u001b[1;36m1990\u001b[0m-\u001b[1;36m11\u001b[0m-28T\u001b[1;92m00:00:00\u001b[0mZ\r"
      ]
     },
     "metadata": {},
     "output_type": "display_data"
    },
    {
     "data": {
      "text/html": [
       "<pre style=\"white-space:pre;overflow-x:auto;line-height:normal;font-family:Menlo,'DejaVu Sans Mono',consolas,'Courier New',monospace\"><span style=\"color: #008080; text-decoration-color: #008080; font-weight: bold\">1990</span>-<span style=\"color: #008080; text-decoration-color: #008080; font-weight: bold\">11</span>-29T<span style=\"color: #00ff00; text-decoration-color: #00ff00; font-weight: bold\">00:00:00</span>Z\r",
       "</pre>\n"
      ],
      "text/plain": [
       "\u001b[1;36m1990\u001b[0m-\u001b[1;36m11\u001b[0m-29T\u001b[1;92m00:00:00\u001b[0mZ\r"
      ]
     },
     "metadata": {},
     "output_type": "display_data"
    },
    {
     "data": {
      "text/html": [
       "<pre style=\"white-space:pre;overflow-x:auto;line-height:normal;font-family:Menlo,'DejaVu Sans Mono',consolas,'Courier New',monospace\"><span style=\"color: #008080; text-decoration-color: #008080; font-weight: bold\">1990</span>-<span style=\"color: #008080; text-decoration-color: #008080; font-weight: bold\">11</span>-30T<span style=\"color: #00ff00; text-decoration-color: #00ff00; font-weight: bold\">00:00:00</span>Z\r",
       "</pre>\n"
      ],
      "text/plain": [
       "\u001b[1;36m1990\u001b[0m-\u001b[1;36m11\u001b[0m-30T\u001b[1;92m00:00:00\u001b[0mZ\r"
      ]
     },
     "metadata": {},
     "output_type": "display_data"
    },
    {
     "data": {
      "text/html": [
       "<pre style=\"white-space:pre;overflow-x:auto;line-height:normal;font-family:Menlo,'DejaVu Sans Mono',consolas,'Courier New',monospace\"><span style=\"color: #008080; text-decoration-color: #008080; font-weight: bold\">1990</span>-<span style=\"color: #008080; text-decoration-color: #008080; font-weight: bold\">12</span>-01T<span style=\"color: #00ff00; text-decoration-color: #00ff00; font-weight: bold\">00:00:00</span>Z\r",
       "</pre>\n"
      ],
      "text/plain": [
       "\u001b[1;36m1990\u001b[0m-\u001b[1;36m12\u001b[0m-01T\u001b[1;92m00:00:00\u001b[0mZ\r"
      ]
     },
     "metadata": {},
     "output_type": "display_data"
    },
    {
     "data": {
      "text/html": [
       "<pre style=\"white-space:pre;overflow-x:auto;line-height:normal;font-family:Menlo,'DejaVu Sans Mono',consolas,'Courier New',monospace\"><span style=\"color: #008080; text-decoration-color: #008080; font-weight: bold\">1990</span>-<span style=\"color: #008080; text-decoration-color: #008080; font-weight: bold\">12</span>-02T<span style=\"color: #00ff00; text-decoration-color: #00ff00; font-weight: bold\">00:00:00</span>Z\r",
       "</pre>\n"
      ],
      "text/plain": [
       "\u001b[1;36m1990\u001b[0m-\u001b[1;36m12\u001b[0m-02T\u001b[1;92m00:00:00\u001b[0mZ\r"
      ]
     },
     "metadata": {},
     "output_type": "display_data"
    },
    {
     "data": {
      "text/html": [
       "<pre style=\"white-space:pre;overflow-x:auto;line-height:normal;font-family:Menlo,'DejaVu Sans Mono',consolas,'Courier New',monospace\"><span style=\"color: #008080; text-decoration-color: #008080; font-weight: bold\">1990</span>-<span style=\"color: #008080; text-decoration-color: #008080; font-weight: bold\">12</span>-03T<span style=\"color: #00ff00; text-decoration-color: #00ff00; font-weight: bold\">00:00:00</span>Z\r",
       "</pre>\n"
      ],
      "text/plain": [
       "\u001b[1;36m1990\u001b[0m-\u001b[1;36m12\u001b[0m-03T\u001b[1;92m00:00:00\u001b[0mZ\r"
      ]
     },
     "metadata": {},
     "output_type": "display_data"
    },
    {
     "data": {
      "text/html": [
       "<pre style=\"white-space:pre;overflow-x:auto;line-height:normal;font-family:Menlo,'DejaVu Sans Mono',consolas,'Courier New',monospace\"><span style=\"color: #008080; text-decoration-color: #008080; font-weight: bold\">1990</span>-<span style=\"color: #008080; text-decoration-color: #008080; font-weight: bold\">12</span>-04T<span style=\"color: #00ff00; text-decoration-color: #00ff00; font-weight: bold\">00:00:00</span>Z\r",
       "</pre>\n"
      ],
      "text/plain": [
       "\u001b[1;36m1990\u001b[0m-\u001b[1;36m12\u001b[0m-04T\u001b[1;92m00:00:00\u001b[0mZ\r"
      ]
     },
     "metadata": {},
     "output_type": "display_data"
    },
    {
     "data": {
      "text/html": [
       "<pre style=\"white-space:pre;overflow-x:auto;line-height:normal;font-family:Menlo,'DejaVu Sans Mono',consolas,'Courier New',monospace\"><span style=\"color: #008080; text-decoration-color: #008080; font-weight: bold\">1990</span>-<span style=\"color: #008080; text-decoration-color: #008080; font-weight: bold\">12</span>-05T<span style=\"color: #00ff00; text-decoration-color: #00ff00; font-weight: bold\">00:00:00</span>Z\r",
       "</pre>\n"
      ],
      "text/plain": [
       "\u001b[1;36m1990\u001b[0m-\u001b[1;36m12\u001b[0m-05T\u001b[1;92m00:00:00\u001b[0mZ\r"
      ]
     },
     "metadata": {},
     "output_type": "display_data"
    },
    {
     "data": {
      "text/html": [
       "<pre style=\"white-space:pre;overflow-x:auto;line-height:normal;font-family:Menlo,'DejaVu Sans Mono',consolas,'Courier New',monospace\"><span style=\"color: #008080; text-decoration-color: #008080; font-weight: bold\">1990</span>-<span style=\"color: #008080; text-decoration-color: #008080; font-weight: bold\">12</span>-06T<span style=\"color: #00ff00; text-decoration-color: #00ff00; font-weight: bold\">00:00:00</span>Z\r",
       "</pre>\n"
      ],
      "text/plain": [
       "\u001b[1;36m1990\u001b[0m-\u001b[1;36m12\u001b[0m-06T\u001b[1;92m00:00:00\u001b[0mZ\r"
      ]
     },
     "metadata": {},
     "output_type": "display_data"
    },
    {
     "data": {
      "text/html": [
       "<pre style=\"white-space:pre;overflow-x:auto;line-height:normal;font-family:Menlo,'DejaVu Sans Mono',consolas,'Courier New',monospace\"><span style=\"color: #008080; text-decoration-color: #008080; font-weight: bold\">1990</span>-<span style=\"color: #008080; text-decoration-color: #008080; font-weight: bold\">12</span>-07T<span style=\"color: #00ff00; text-decoration-color: #00ff00; font-weight: bold\">00:00:00</span>Z\r",
       "</pre>\n"
      ],
      "text/plain": [
       "\u001b[1;36m1990\u001b[0m-\u001b[1;36m12\u001b[0m-07T\u001b[1;92m00:00:00\u001b[0mZ\r"
      ]
     },
     "metadata": {},
     "output_type": "display_data"
    },
    {
     "data": {
      "text/html": [
       "<pre style=\"white-space:pre;overflow-x:auto;line-height:normal;font-family:Menlo,'DejaVu Sans Mono',consolas,'Courier New',monospace\"><span style=\"color: #008080; text-decoration-color: #008080; font-weight: bold\">1990</span>-<span style=\"color: #008080; text-decoration-color: #008080; font-weight: bold\">12</span>-08T<span style=\"color: #00ff00; text-decoration-color: #00ff00; font-weight: bold\">00:00:00</span>Z\r",
       "</pre>\n"
      ],
      "text/plain": [
       "\u001b[1;36m1990\u001b[0m-\u001b[1;36m12\u001b[0m-08T\u001b[1;92m00:00:00\u001b[0mZ\r"
      ]
     },
     "metadata": {},
     "output_type": "display_data"
    },
    {
     "data": {
      "text/html": [
       "<pre style=\"white-space:pre;overflow-x:auto;line-height:normal;font-family:Menlo,'DejaVu Sans Mono',consolas,'Courier New',monospace\"><span style=\"color: #008080; text-decoration-color: #008080; font-weight: bold\">1990</span>-<span style=\"color: #008080; text-decoration-color: #008080; font-weight: bold\">12</span>-09T<span style=\"color: #00ff00; text-decoration-color: #00ff00; font-weight: bold\">00:00:00</span>Z\r",
       "</pre>\n"
      ],
      "text/plain": [
       "\u001b[1;36m1990\u001b[0m-\u001b[1;36m12\u001b[0m-09T\u001b[1;92m00:00:00\u001b[0mZ\r"
      ]
     },
     "metadata": {},
     "output_type": "display_data"
    },
    {
     "data": {
      "text/html": [
       "<pre style=\"white-space:pre;overflow-x:auto;line-height:normal;font-family:Menlo,'DejaVu Sans Mono',consolas,'Courier New',monospace\"><span style=\"color: #008080; text-decoration-color: #008080; font-weight: bold\">1990</span>-<span style=\"color: #008080; text-decoration-color: #008080; font-weight: bold\">12</span>-10T<span style=\"color: #00ff00; text-decoration-color: #00ff00; font-weight: bold\">00:00:00</span>Z\r",
       "</pre>\n"
      ],
      "text/plain": [
       "\u001b[1;36m1990\u001b[0m-\u001b[1;36m12\u001b[0m-10T\u001b[1;92m00:00:00\u001b[0mZ\r"
      ]
     },
     "metadata": {},
     "output_type": "display_data"
    },
    {
     "data": {
      "text/html": [
       "<pre style=\"white-space:pre;overflow-x:auto;line-height:normal;font-family:Menlo,'DejaVu Sans Mono',consolas,'Courier New',monospace\"><span style=\"color: #008080; text-decoration-color: #008080; font-weight: bold\">1990</span>-<span style=\"color: #008080; text-decoration-color: #008080; font-weight: bold\">12</span>-11T<span style=\"color: #00ff00; text-decoration-color: #00ff00; font-weight: bold\">00:00:00</span>Z\r",
       "</pre>\n"
      ],
      "text/plain": [
       "\u001b[1;36m1990\u001b[0m-\u001b[1;36m12\u001b[0m-11T\u001b[1;92m00:00:00\u001b[0mZ\r"
      ]
     },
     "metadata": {},
     "output_type": "display_data"
    },
    {
     "data": {
      "text/html": [
       "<pre style=\"white-space:pre;overflow-x:auto;line-height:normal;font-family:Menlo,'DejaVu Sans Mono',consolas,'Courier New',monospace\"><span style=\"color: #008080; text-decoration-color: #008080; font-weight: bold\">1990</span>-<span style=\"color: #008080; text-decoration-color: #008080; font-weight: bold\">12</span>-12T<span style=\"color: #00ff00; text-decoration-color: #00ff00; font-weight: bold\">00:00:00</span>Z\r",
       "</pre>\n"
      ],
      "text/plain": [
       "\u001b[1;36m1990\u001b[0m-\u001b[1;36m12\u001b[0m-12T\u001b[1;92m00:00:00\u001b[0mZ\r"
      ]
     },
     "metadata": {},
     "output_type": "display_data"
    },
    {
     "data": {
      "text/html": [
       "<pre style=\"white-space:pre;overflow-x:auto;line-height:normal;font-family:Menlo,'DejaVu Sans Mono',consolas,'Courier New',monospace\"><span style=\"color: #008080; text-decoration-color: #008080; font-weight: bold\">1990</span>-<span style=\"color: #008080; text-decoration-color: #008080; font-weight: bold\">12</span>-13T<span style=\"color: #00ff00; text-decoration-color: #00ff00; font-weight: bold\">00:00:00</span>Z\r",
       "</pre>\n"
      ],
      "text/plain": [
       "\u001b[1;36m1990\u001b[0m-\u001b[1;36m12\u001b[0m-13T\u001b[1;92m00:00:00\u001b[0mZ\r"
      ]
     },
     "metadata": {},
     "output_type": "display_data"
    },
    {
     "data": {
      "text/html": [
       "<pre style=\"white-space:pre;overflow-x:auto;line-height:normal;font-family:Menlo,'DejaVu Sans Mono',consolas,'Courier New',monospace\"><span style=\"color: #008080; text-decoration-color: #008080; font-weight: bold\">1990</span>-<span style=\"color: #008080; text-decoration-color: #008080; font-weight: bold\">12</span>-14T<span style=\"color: #00ff00; text-decoration-color: #00ff00; font-weight: bold\">00:00:00</span>Z\r",
       "</pre>\n"
      ],
      "text/plain": [
       "\u001b[1;36m1990\u001b[0m-\u001b[1;36m12\u001b[0m-14T\u001b[1;92m00:00:00\u001b[0mZ\r"
      ]
     },
     "metadata": {},
     "output_type": "display_data"
    },
    {
     "data": {
      "text/html": [
       "<pre style=\"white-space:pre;overflow-x:auto;line-height:normal;font-family:Menlo,'DejaVu Sans Mono',consolas,'Courier New',monospace\"><span style=\"color: #008080; text-decoration-color: #008080; font-weight: bold\">1990</span>-<span style=\"color: #008080; text-decoration-color: #008080; font-weight: bold\">12</span>-15T<span style=\"color: #00ff00; text-decoration-color: #00ff00; font-weight: bold\">00:00:00</span>Z\r",
       "</pre>\n"
      ],
      "text/plain": [
       "\u001b[1;36m1990\u001b[0m-\u001b[1;36m12\u001b[0m-15T\u001b[1;92m00:00:00\u001b[0mZ\r"
      ]
     },
     "metadata": {},
     "output_type": "display_data"
    },
    {
     "data": {
      "text/html": [
       "<pre style=\"white-space:pre;overflow-x:auto;line-height:normal;font-family:Menlo,'DejaVu Sans Mono',consolas,'Courier New',monospace\"><span style=\"color: #008080; text-decoration-color: #008080; font-weight: bold\">1990</span>-<span style=\"color: #008080; text-decoration-color: #008080; font-weight: bold\">12</span>-16T<span style=\"color: #00ff00; text-decoration-color: #00ff00; font-weight: bold\">00:00:00</span>Z\r",
       "</pre>\n"
      ],
      "text/plain": [
       "\u001b[1;36m1990\u001b[0m-\u001b[1;36m12\u001b[0m-16T\u001b[1;92m00:00:00\u001b[0mZ\r"
      ]
     },
     "metadata": {},
     "output_type": "display_data"
    },
    {
     "data": {
      "text/html": [
       "<pre style=\"white-space:pre;overflow-x:auto;line-height:normal;font-family:Menlo,'DejaVu Sans Mono',consolas,'Courier New',monospace\"><span style=\"color: #008080; text-decoration-color: #008080; font-weight: bold\">1990</span>-<span style=\"color: #008080; text-decoration-color: #008080; font-weight: bold\">12</span>-17T<span style=\"color: #00ff00; text-decoration-color: #00ff00; font-weight: bold\">00:00:00</span>Z\r",
       "</pre>\n"
      ],
      "text/plain": [
       "\u001b[1;36m1990\u001b[0m-\u001b[1;36m12\u001b[0m-17T\u001b[1;92m00:00:00\u001b[0mZ\r"
      ]
     },
     "metadata": {},
     "output_type": "display_data"
    },
    {
     "data": {
      "text/html": [
       "<pre style=\"white-space:pre;overflow-x:auto;line-height:normal;font-family:Menlo,'DejaVu Sans Mono',consolas,'Courier New',monospace\"><span style=\"color: #008080; text-decoration-color: #008080; font-weight: bold\">1990</span>-<span style=\"color: #008080; text-decoration-color: #008080; font-weight: bold\">12</span>-18T<span style=\"color: #00ff00; text-decoration-color: #00ff00; font-weight: bold\">00:00:00</span>Z\r",
       "</pre>\n"
      ],
      "text/plain": [
       "\u001b[1;36m1990\u001b[0m-\u001b[1;36m12\u001b[0m-18T\u001b[1;92m00:00:00\u001b[0mZ\r"
      ]
     },
     "metadata": {},
     "output_type": "display_data"
    },
    {
     "data": {
      "text/html": [
       "<pre style=\"white-space:pre;overflow-x:auto;line-height:normal;font-family:Menlo,'DejaVu Sans Mono',consolas,'Courier New',monospace\"><span style=\"color: #008080; text-decoration-color: #008080; font-weight: bold\">1990</span>-<span style=\"color: #008080; text-decoration-color: #008080; font-weight: bold\">12</span>-19T<span style=\"color: #00ff00; text-decoration-color: #00ff00; font-weight: bold\">00:00:00</span>Z\r",
       "</pre>\n"
      ],
      "text/plain": [
       "\u001b[1;36m1990\u001b[0m-\u001b[1;36m12\u001b[0m-19T\u001b[1;92m00:00:00\u001b[0mZ\r"
      ]
     },
     "metadata": {},
     "output_type": "display_data"
    },
    {
     "data": {
      "text/html": [
       "<pre style=\"white-space:pre;overflow-x:auto;line-height:normal;font-family:Menlo,'DejaVu Sans Mono',consolas,'Courier New',monospace\"><span style=\"color: #008080; text-decoration-color: #008080; font-weight: bold\">1990</span>-<span style=\"color: #008080; text-decoration-color: #008080; font-weight: bold\">12</span>-20T<span style=\"color: #00ff00; text-decoration-color: #00ff00; font-weight: bold\">00:00:00</span>Z\r",
       "</pre>\n"
      ],
      "text/plain": [
       "\u001b[1;36m1990\u001b[0m-\u001b[1;36m12\u001b[0m-20T\u001b[1;92m00:00:00\u001b[0mZ\r"
      ]
     },
     "metadata": {},
     "output_type": "display_data"
    },
    {
     "data": {
      "text/html": [
       "<pre style=\"white-space:pre;overflow-x:auto;line-height:normal;font-family:Menlo,'DejaVu Sans Mono',consolas,'Courier New',monospace\"><span style=\"color: #008080; text-decoration-color: #008080; font-weight: bold\">1990</span>-<span style=\"color: #008080; text-decoration-color: #008080; font-weight: bold\">12</span>-21T<span style=\"color: #00ff00; text-decoration-color: #00ff00; font-weight: bold\">00:00:00</span>Z\r",
       "</pre>\n"
      ],
      "text/plain": [
       "\u001b[1;36m1990\u001b[0m-\u001b[1;36m12\u001b[0m-21T\u001b[1;92m00:00:00\u001b[0mZ\r"
      ]
     },
     "metadata": {},
     "output_type": "display_data"
    },
    {
     "data": {
      "text/html": [
       "<pre style=\"white-space:pre;overflow-x:auto;line-height:normal;font-family:Menlo,'DejaVu Sans Mono',consolas,'Courier New',monospace\"><span style=\"color: #008080; text-decoration-color: #008080; font-weight: bold\">1990</span>-<span style=\"color: #008080; text-decoration-color: #008080; font-weight: bold\">12</span>-22T<span style=\"color: #00ff00; text-decoration-color: #00ff00; font-weight: bold\">00:00:00</span>Z\r",
       "</pre>\n"
      ],
      "text/plain": [
       "\u001b[1;36m1990\u001b[0m-\u001b[1;36m12\u001b[0m-22T\u001b[1;92m00:00:00\u001b[0mZ\r"
      ]
     },
     "metadata": {},
     "output_type": "display_data"
    },
    {
     "data": {
      "text/html": [
       "<pre style=\"white-space:pre;overflow-x:auto;line-height:normal;font-family:Menlo,'DejaVu Sans Mono',consolas,'Courier New',monospace\"><span style=\"color: #008080; text-decoration-color: #008080; font-weight: bold\">1990</span>-<span style=\"color: #008080; text-decoration-color: #008080; font-weight: bold\">12</span>-23T<span style=\"color: #00ff00; text-decoration-color: #00ff00; font-weight: bold\">00:00:00</span>Z\r",
       "</pre>\n"
      ],
      "text/plain": [
       "\u001b[1;36m1990\u001b[0m-\u001b[1;36m12\u001b[0m-23T\u001b[1;92m00:00:00\u001b[0mZ\r"
      ]
     },
     "metadata": {},
     "output_type": "display_data"
    },
    {
     "data": {
      "text/html": [
       "<pre style=\"white-space:pre;overflow-x:auto;line-height:normal;font-family:Menlo,'DejaVu Sans Mono',consolas,'Courier New',monospace\"><span style=\"color: #008080; text-decoration-color: #008080; font-weight: bold\">1990</span>-<span style=\"color: #008080; text-decoration-color: #008080; font-weight: bold\">12</span>-24T<span style=\"color: #00ff00; text-decoration-color: #00ff00; font-weight: bold\">00:00:00</span>Z\r",
       "</pre>\n"
      ],
      "text/plain": [
       "\u001b[1;36m1990\u001b[0m-\u001b[1;36m12\u001b[0m-24T\u001b[1;92m00:00:00\u001b[0mZ\r"
      ]
     },
     "metadata": {},
     "output_type": "display_data"
    },
    {
     "data": {
      "text/html": [
       "<pre style=\"white-space:pre;overflow-x:auto;line-height:normal;font-family:Menlo,'DejaVu Sans Mono',consolas,'Courier New',monospace\"><span style=\"color: #008080; text-decoration-color: #008080; font-weight: bold\">1990</span>-<span style=\"color: #008080; text-decoration-color: #008080; font-weight: bold\">12</span>-25T<span style=\"color: #00ff00; text-decoration-color: #00ff00; font-weight: bold\">00:00:00</span>Z\r",
       "</pre>\n"
      ],
      "text/plain": [
       "\u001b[1;36m1990\u001b[0m-\u001b[1;36m12\u001b[0m-25T\u001b[1;92m00:00:00\u001b[0mZ\r"
      ]
     },
     "metadata": {},
     "output_type": "display_data"
    },
    {
     "data": {
      "text/html": [
       "<pre style=\"white-space:pre;overflow-x:auto;line-height:normal;font-family:Menlo,'DejaVu Sans Mono',consolas,'Courier New',monospace\"><span style=\"color: #008080; text-decoration-color: #008080; font-weight: bold\">1990</span>-<span style=\"color: #008080; text-decoration-color: #008080; font-weight: bold\">12</span>-26T<span style=\"color: #00ff00; text-decoration-color: #00ff00; font-weight: bold\">00:00:00</span>Z\r",
       "</pre>\n"
      ],
      "text/plain": [
       "\u001b[1;36m1990\u001b[0m-\u001b[1;36m12\u001b[0m-26T\u001b[1;92m00:00:00\u001b[0mZ\r"
      ]
     },
     "metadata": {},
     "output_type": "display_data"
    },
    {
     "data": {
      "text/html": [
       "<pre style=\"white-space:pre;overflow-x:auto;line-height:normal;font-family:Menlo,'DejaVu Sans Mono',consolas,'Courier New',monospace\"><span style=\"color: #008080; text-decoration-color: #008080; font-weight: bold\">1990</span>-<span style=\"color: #008080; text-decoration-color: #008080; font-weight: bold\">12</span>-27T<span style=\"color: #00ff00; text-decoration-color: #00ff00; font-weight: bold\">00:00:00</span>Z\r",
       "</pre>\n"
      ],
      "text/plain": [
       "\u001b[1;36m1990\u001b[0m-\u001b[1;36m12\u001b[0m-27T\u001b[1;92m00:00:00\u001b[0mZ\r"
      ]
     },
     "metadata": {},
     "output_type": "display_data"
    },
    {
     "data": {
      "text/html": [
       "<pre style=\"white-space:pre;overflow-x:auto;line-height:normal;font-family:Menlo,'DejaVu Sans Mono',consolas,'Courier New',monospace\"><span style=\"color: #008080; text-decoration-color: #008080; font-weight: bold\">1990</span>-<span style=\"color: #008080; text-decoration-color: #008080; font-weight: bold\">12</span>-28T<span style=\"color: #00ff00; text-decoration-color: #00ff00; font-weight: bold\">00:00:00</span>Z\r",
       "</pre>\n"
      ],
      "text/plain": [
       "\u001b[1;36m1990\u001b[0m-\u001b[1;36m12\u001b[0m-28T\u001b[1;92m00:00:00\u001b[0mZ\r"
      ]
     },
     "metadata": {},
     "output_type": "display_data"
    },
    {
     "data": {
      "text/html": [
       "<pre style=\"white-space:pre;overflow-x:auto;line-height:normal;font-family:Menlo,'DejaVu Sans Mono',consolas,'Courier New',monospace\"><span style=\"color: #008080; text-decoration-color: #008080; font-weight: bold\">1990</span>-<span style=\"color: #008080; text-decoration-color: #008080; font-weight: bold\">12</span>-29T<span style=\"color: #00ff00; text-decoration-color: #00ff00; font-weight: bold\">00:00:00</span>Z\r",
       "</pre>\n"
      ],
      "text/plain": [
       "\u001b[1;36m1990\u001b[0m-\u001b[1;36m12\u001b[0m-29T\u001b[1;92m00:00:00\u001b[0mZ\r"
      ]
     },
     "metadata": {},
     "output_type": "display_data"
    },
    {
     "data": {
      "text/html": [
       "<pre style=\"white-space:pre;overflow-x:auto;line-height:normal;font-family:Menlo,'DejaVu Sans Mono',consolas,'Courier New',monospace\"><span style=\"color: #008080; text-decoration-color: #008080; font-weight: bold\">1990</span>-<span style=\"color: #008080; text-decoration-color: #008080; font-weight: bold\">12</span>-30T<span style=\"color: #00ff00; text-decoration-color: #00ff00; font-weight: bold\">00:00:00</span>Z\r",
       "</pre>\n"
      ],
      "text/plain": [
       "\u001b[1;36m1990\u001b[0m-\u001b[1;36m12\u001b[0m-30T\u001b[1;92m00:00:00\u001b[0mZ\r"
      ]
     },
     "metadata": {},
     "output_type": "display_data"
    }
   ],
   "source": [
    "model_lon = [-71.35]\n",
    "model_lat = [42.65]\n",
    "discharge = []\n",
    "time_range = []\n",
    "\n",
    "while model.time < model.end_time:\n",
    "    model.update()\n",
    "    # Get Discharge at one location\n",
    "    discharge_at_pixel = model.get_value_at_coords('Discharge', lon=model_lon, lat=model_lat)[0]\n",
    "    discharge.append(discharge_at_pixel)\n",
    "    time_range.append(model.time_as_datetime.date())\n",
    "    print(model.time_as_isostr, end=\"\\r\")"
   ]
  },
  {
   "cell_type": "code",
   "execution_count": 39,
   "metadata": {},
   "outputs": [],
   "source": [
    "# Stop the model\n",
    "model.finalize()"
   ]
  },
  {
   "cell_type": "code",
   "execution_count": 40,
   "metadata": {},
   "outputs": [
    {
     "data": {
      "text/html": [
       "<div>\n",
       "<style scoped>\n",
       "    .dataframe tbody tr th:only-of-type {\n",
       "        vertical-align: middle;\n",
       "    }\n",
       "\n",
       "    .dataframe tbody tr th {\n",
       "        vertical-align: top;\n",
       "    }\n",
       "\n",
       "    .dataframe thead th {\n",
       "        text-align: right;\n",
       "    }\n",
       "</style>\n",
       "<table border=\"1\" class=\"dataframe\">\n",
       "  <thead>\n",
       "    <tr style=\"text-align: right;\">\n",
       "      <th></th>\n",
       "      <th>lisflood</th>\n",
       "    </tr>\n",
       "  </thead>\n",
       "  <tbody>\n",
       "    <tr>\n",
       "      <th>1990-01-03</th>\n",
       "      <td>7.764288</td>\n",
       "    </tr>\n",
       "    <tr>\n",
       "      <th>1990-01-04</th>\n",
       "      <td>11.425317</td>\n",
       "    </tr>\n",
       "    <tr>\n",
       "      <th>1990-01-05</th>\n",
       "      <td>26.182222</td>\n",
       "    </tr>\n",
       "    <tr>\n",
       "      <th>1990-01-06</th>\n",
       "      <td>39.708483</td>\n",
       "    </tr>\n",
       "    <tr>\n",
       "      <th>1990-01-07</th>\n",
       "      <td>54.171164</td>\n",
       "    </tr>\n",
       "    <tr>\n",
       "      <th>...</th>\n",
       "      <td>...</td>\n",
       "    </tr>\n",
       "    <tr>\n",
       "      <th>1990-12-26</th>\n",
       "      <td>251.665387</td>\n",
       "    </tr>\n",
       "    <tr>\n",
       "      <th>1990-12-27</th>\n",
       "      <td>315.881516</td>\n",
       "    </tr>\n",
       "    <tr>\n",
       "      <th>1990-12-28</th>\n",
       "      <td>503.744117</td>\n",
       "    </tr>\n",
       "    <tr>\n",
       "      <th>1990-12-29</th>\n",
       "      <td>665.990283</td>\n",
       "    </tr>\n",
       "    <tr>\n",
       "      <th>1990-12-30</th>\n",
       "      <td>639.824128</td>\n",
       "    </tr>\n",
       "  </tbody>\n",
       "</table>\n",
       "<p>362 rows × 1 columns</p>\n",
       "</div>"
      ],
      "text/plain": [
       "              lisflood\n",
       "1990-01-03    7.764288\n",
       "1990-01-04   11.425317\n",
       "1990-01-05   26.182222\n",
       "1990-01-06   39.708483\n",
       "1990-01-07   54.171164\n",
       "...                ...\n",
       "1990-12-26  251.665387\n",
       "1990-12-27  315.881516\n",
       "1990-12-28  503.744117\n",
       "1990-12-29  665.990283\n",
       "1990-12-30  639.824128\n",
       "\n",
       "[362 rows x 1 columns]"
      ]
     },
     "execution_count": 40,
     "metadata": {},
     "output_type": "execute_result"
    }
   ],
   "source": [
    "lisflood = pd.DataFrame({'lisflood': discharge}, index=pd.to_datetime(time_range))\n",
    "lisflood"
   ]
  },
  {
   "cell_type": "markdown",
   "metadata": {},
   "source": [
    "## Hydrograph"
   ]
  },
  {
   "cell_type": "code",
   "execution_count": 41,
   "metadata": {},
   "outputs": [
    {
     "data": {
      "text/plain": [
       "(<Figure size 1000x1000 with 2 Axes>,\n",
       " (<Axes: title={'center': 'Hydrograph'}, ylabel='Discharge (m$^3$ s$^{-1}$)'>,\n",
       "  <Axes: >))"
      ]
     },
     "execution_count": 41,
     "metadata": {},
     "output_type": "execute_result"
    },
    {
     "data": {
      "image/png": "[encoded data removed]",
      "text/plain": [
       "<Figure size 1000x1000 with 2 Axes>"
      ]
     },
     "metadata": {},
     "output_type": "display_data"
    }
   ],
   "source": [
    "# Combine simulated and observed values to one dataframe according to time axis\n",
    "hydro_data = pd.concat([wflow, lisflood, observations], axis=1)\n",
    "\n",
    "# Plot hydrograph and show metrics\n",
    "ewatercycle.analysis.hydrograph(hydro_data, reference='GRDC', filename = 'figures/case2_HelloWorldsHydrograph.png')"
   ]
  }
 ],
 "metadata": {
  "kernelspec": {
   "display_name": "Python 3 (ipykernel)",
   "language": "python",
   "name": "python3"
  },
  "language_info": {
   "codemirror_mode": {
    "name": "ipython",
    "version": 3
   },
   "file_extension": ".py",
   "mimetype": "text/x-python",
   "name": "python",
   "nbconvert_exporter": "python",
   "pygments_lexer": "ipython3",
   "version": "3.10.13"
  }
 },
 "nbformat": 4,
 "nbformat_minor": 4
}
