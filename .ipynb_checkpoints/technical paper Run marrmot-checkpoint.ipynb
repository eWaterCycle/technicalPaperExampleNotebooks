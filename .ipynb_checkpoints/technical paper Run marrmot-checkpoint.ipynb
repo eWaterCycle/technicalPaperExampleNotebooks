{
 "cells": [
  {
   "cell_type": "markdown",
   "metadata": {},
   "source": [
    "![image](https://www.ewatercycle.org/img/logo.png)"
   ]
  },
  {
   "cell_type": "markdown",
   "metadata": {},
   "source": [
    "# MARRMoT-m01 - a test notebook for running the MARRMoT-m01 model with known parameters (ie. already calibrated)\n",
    "This notebooks runs the MARRMoT-m01 model for a single catchment and a single forcing dataset. The output cannot be trusted AT ALL because this testrun is meant to illustrate the workflow.\n",
    "\n",
    "Specific settings for this test run include the catchment, corresponding station ID, forcing dataset, a calibrated parameter and the number of days to spinup and run the model instead of the full period."
   ]
  },
  {
   "cell_type": "markdown",
   "metadata": {},
   "source": [
    "## Import statements\n",
    "We'll be using the following modules:"
   ]
  },
  {
   "cell_type": "code",
   "execution_count": 1,
   "metadata": {},
   "outputs": [],
   "source": [
    "from os import environ, remove\n",
    "import os\n",
    "import time\n",
    "from datetime import datetime\n",
    "from pathlib import Path\n",
    "\n",
    "import hydrostats.metrics as hm\n",
    "import hydrostats.visual as hv\n",
    "import matplotlib.pyplot as plt\n",
    "import numpy as np\n",
    "import pandas as pd\n",
    "import scipy.io as sio\n",
    "import xarray as xr\n",
    "from cartopy.io import shapereader\n",
    "from cftime import num2date\n",
    "from ewatercycle.observation.grdc import get_grdc_data\n",
    "from grpc4bmi.bmi_client_docker import BmiClientDocker\n",
    "from scipy import optimize\n",
    "from tqdm import tqdm"
   ]
  },
  {
   "cell_type": "markdown",
   "metadata": {},
   "source": [
    "## General settings\n",
    "The cell below defines all the settings for this example, including locations of files and folders needed. \n",
    "\n",
    "TODO: rename ALL CAPS to normal variables: no global variables please.\n",
    "TODO: make everything camelCase, or under_score style, but not mixed."
   ]
  },
  {
   "cell_type": "code",
   "execution_count": 2,
   "metadata": {},
   "outputs": [],
   "source": [
    "# The project home directory where data lives and output should be written\n",
    "PROJECT_HOME = Path(os.path.abspath(\"/mnt/home/user42\"))\n",
    "DATA_HOME = Path(os.path.abspath(\"/mnt/data/examples/technical_paper\"))\n",
    "\n",
    "# The location where this notebook will put a timestamped temp dir\n",
    "TEMP_LOC = PROJECT_HOME / \"temp\"\n",
    "\n",
    "# forcing dataset and directory\n",
    "FORCING_DIR = DATA_HOME / \"marrmot\" / \"marrmotForcing\" / \"validation\"\n",
    "forcing_file = \"marrmot_ERA5_Moselle_2001_2016.mat\"\n",
    "\n",
    "#these two folders will be known inside the model-container as /data/input and /data/output\n",
    "containerIn = PROJECT_HOME / 'inputMarrmot'\n",
    "containerOut = PROJECT_HOME / 'outputMarrmot'\n",
    "\n",
    "# this file will be created in 'containerIn' and contains the config setting for the model run. \n",
    "config_file_name = 'config.mat'"
   ]
  },
  {
   "cell_type": "code",
   "execution_count": 3,
   "metadata": {},
   "outputs": [],
   "source": [
    "# test period for both validation and calibration (Year, Month, Date)\n",
    "period = {\n",
    "    \"spinup\": datetime(2001, 1, 1),\n",
    "    \"start\": datetime(2001, 2, 1),\n",
    "    \"end\": datetime(2001, 12, 31),\n",
    "}"
   ]
  },
  {
   "cell_type": "code",
   "execution_count": 4,
   "metadata": {},
   "outputs": [],
   "source": [
    "# variable of interest to get out of the model\n",
    "variable = \"flux_out_Q\"\n",
    "\n",
    "# flux_out_Q unit conversion factor from mm/day to m3/s\n",
    "conversion = 1 / (1000 * 86400)\n",
    "\n",
    "# parameters, in this case max soil moisture storage (in mm), ranging between 100 en 2000\n",
    "# https://github.com/wknoben/MARRMoT/blob/dev-docker-BMI/MARRMoT/Models/Parameter%20range%20files\n",
    "parameters = [float(1500)]"
   ]
  },
  {
   "cell_type": "code",
   "execution_count": 5,
   "metadata": {},
   "outputs": [],
   "source": [
    "#location of GRDC data on jupyter.ewatercycle.org\n",
    "environ['GRDC_DATA_HOME']= '/mnt/data/grdc/dailies' \n",
    "catchment = \"Moselle\"\n",
    "station_id = \"6335020\" #This is the RHINE!!! Moselle not available \n"
   ]
  },
  {
   "cell_type": "markdown",
   "metadata": {},
   "source": [
    "## Functions and created directories needed"
   ]
  },
  {
   "cell_type": "code",
   "execution_count": 8,
   "metadata": {},
   "outputs": [
    {
     "name": "stdout",
     "output_type": "stream",
     "text": [
      "/mnt/home/user42/temp/marrmot-m01_20210122_153633\n"
     ]
    }
   ],
   "source": [
    "# add a timestamped directory to the main tempdir\n",
    "TEMP_DIR = TEMP_LOC / f\"marrmot-m01_{time.strftime('%Y%m%d_%H%M%S')}\"\n",
    "TEMP_DIR.mkdir(parents=True, exist_ok=True)"
   ]
  },
  {
   "cell_type": "code",
   "execution_count": 13,
   "metadata": {},
   "outputs": [],
   "source": [
    "#TODO this should be named marrmot specific\n",
    "#changed to accept a filename instead of constructing it\n",
    "#changed to get passed variables instead of using globals\n",
    "\n",
    "def write_marrmot_config(parameters, catchment, period, forcing_file_loc, \n",
    "            config_file_loc , model_name=\"m_01_collie1_1p_1s\", \n",
    "            solver={\n",
    "                \"name\": \"createOdeApprox_IE\",  # IE:Implicit Euler.\n",
    "                \"resnorm_tolerance\": float(0.1),\n",
    "                \"resnorm_maxiter\": float(6),\n",
    "            }, store_ini=float(1500) ):\n",
    "    \"\"\"Write model configuration file.\n",
    "\n",
    "    Adds the model parameters to forcing file for the given period\n",
    "    and catchment including the spinup year and writes this information\n",
    "    to a model configuration file.\n",
    "    \"\"\"\n",
    "    # get the forcing that was created with ESMValTool\n",
    "    #forcing_file = f\"marrmot-m01_{forcing}_{catchment}_{PERIOD['spinup'].year}_{PERIOD['end'].year}.mat\"\n",
    "    forcing_data = sio.loadmat(forcing_file_loc, mat_dtype=True)\n",
    "\n",
    "    # select forcing data\n",
    "    forcing_data[\"time_end\"][0][0:3] = [\n",
    "        period[\"end\"].year,\n",
    "        period[\"end\"].month,\n",
    "        period[\"end\"].day,\n",
    "    ]\n",
    "\n",
    "    # combine forcing and model parameters\n",
    "    forcing_data.update(\n",
    "        model_name=model_name,\n",
    "        parameters=parameters,\n",
    "        solver=solver,\n",
    "        store_ini=store_ini,\n",
    "    )\n",
    "    \n",
    "    #The following few lines were from the original function used in the comparison\n",
    "    #the config file name was generated here from the other settings. For this example\n",
    "    #the name of the config file to be writen is given as argument to the function\n",
    "    \n",
    "    # save as new configuration file\n",
    "    #config_file = TEMP_DIR / (\n",
    "    #    f\"config_marrmot-m01_{forcing}_{catchment}_{PERIOD['spinup'].year}_{PERIOD['end'].year}.mat\"\n",
    "    #)\n",
    "    \n",
    "    sio.savemat(config_file_loc, forcing_data)"
   ]
  },
  {
   "cell_type": "markdown",
   "metadata": {},
   "source": [
    "## Create the model object"
   ]
  },
  {
   "cell_type": "code",
   "execution_count": 14,
   "metadata": {},
   "outputs": [
    {
     "name": "stdout",
     "output_type": "stream",
     "text": [
      "{'__header__': b'MATLAB 5.0 MAT-file Platform: posix, Created on: Mon Dec  7 12:07:53 2020', '__version__': '1.0', '__globals__': [], 'forcing': array([[(array([[6.13529479e+00, 5.24500583e+00, 3.62553535e+00, ...,\n",
      "        6.89622668e-05, 1.44152071e-03, 5.98480642e-02]]), array([[ 2.22063159,  7.84898522,  5.39363844, ..., -0.8531769 ,\n",
      "        -1.95181752, -3.6148096 ]]), array([[0.60968456, 0.39508887, 0.45284958, ..., 0.3918489 , 0.41423344,\n",
      "        0.4625683 ]]), array([[1.]]), array(['day'], dtype='<U3'))]],\n",
      "      dtype=[('precip', 'O'), ('temp', 'O'), ('pet', 'O'), ('delta_t_days', 'O'), ('time_unit', 'O')]), 'time_start': array([[2.001e+03, 1.000e+00, 1.000e+00, 1.200e+01, 0.000e+00, 0.000e+00]]), 'time_end': array([[2001.,   12.,   31.,   12.,    0.,    0.]]), 'data_origin': array([[49.125,  6.625]]), 'model_name': 'm_01_collie1_1p_1s', 'parameters': [1500.0], 'solver': {'name': 'createOdeApprox_IE', 'resnorm_tolerance': 0.1, 'resnorm_maxiter': 6.0}, 'store_ini': 1500.0}\n"
     ]
    }
   ],
   "source": [
    "#create config file and write to containerIn directory\n",
    "write_marrmot_config(parameters, catchment, period, FORCING_DIR / forcing_file, containerIn / config_file_name)"
   ]
  },
  {
   "cell_type": "code",
   "execution_count": 15,
   "metadata": {},
   "outputs": [],
   "source": [
    "#start up the container and initialize using the created config\n",
    "model = BmiClientDocker(\n",
    "    image=\"ewatercycle/marrmot-grpc4bmi:latest\", image_port=55555, input_dir=containerIn, output_dir=containerOut\n",
    ")\n",
    "model.initialize(config_file_name)"
   ]
  },
  {
   "cell_type": "code",
   "execution_count": 16,
   "metadata": {},
   "outputs": [],
   "source": [
    "# Get time information\n",
    "time_units = model.get_time_units()\n",
    "spinup = num2date(model.get_start_time(), time_units)\n",
    "end = num2date(model.get_end_time(), time_units)\n",
    "\n",
    "# Get space information\n",
    "grid = model.get_var_grid(variable)\n",
    "lat = model.get_grid_x(grid)[0]\n",
    "lon = model.get_grid_y(grid)[0]\n",
    "\n",
    "time_range = pd.date_range(\n",
    "    spinup.strftime(\"%Y-%m-%d\"), end.strftime(\"%Y-%m-%d\")\n",
    ")"
   ]
  },
  {
   "cell_type": "markdown",
   "metadata": {},
   "source": [
    "# Run the model"
   ]
  },
  {
   "cell_type": "code",
   "execution_count": 17,
   "metadata": {},
   "outputs": [
    {
     "name": "stderr",
     "output_type": "stream",
     "text": [
      "Running with parameters:[1500.0]:   8%|▊         | 31/365 [00:01<00:19, 16.87it/s]"
     ]
    },
    {
     "name": "stdout",
     "output_type": "stream",
     "text": [
      "[0.09391829]\n",
      "[0.12666126]\n"
     ]
    },
    {
     "name": "stderr",
     "output_type": "stream",
     "text": [
      "Running with parameters:[1500.0]:   9%|▉         | 33/365 [00:02<00:27, 12.12it/s]"
     ]
    },
    {
     "name": "stdout",
     "output_type": "stream",
     "text": [
      "[5.39002763]\n",
      "[9.37928289]\n"
     ]
    },
    {
     "name": "stderr",
     "output_type": "stream",
     "text": [
      "Running with parameters:[1500.0]:  10%|▉         | 35/365 [00:02<00:32, 10.10it/s]"
     ]
    },
    {
     "name": "stdout",
     "output_type": "stream",
     "text": [
      "[7.04893214]\n",
      "[10.19752558]\n"
     ]
    },
    {
     "name": "stderr",
     "output_type": "stream",
     "text": [
      "Running with parameters:[1500.0]:  10%|█         | 37/365 [00:02<00:36,  9.09it/s]"
     ]
    },
    {
     "name": "stdout",
     "output_type": "stream",
     "text": [
      "[3.27318119]\n",
      "[4.7772189]\n"
     ]
    },
    {
     "name": "stderr",
     "output_type": "stream",
     "text": [
      "Running with parameters:[1500.0]:  11%|█         | 40/365 [00:03<00:42,  7.64it/s]"
     ]
    },
    {
     "name": "stdout",
     "output_type": "stream",
     "text": [
      "[1.42298356]\n",
      "[2.55423613]\n"
     ]
    },
    {
     "name": "stderr",
     "output_type": "stream",
     "text": [
      "Running with parameters:[1500.0]:  12%|█▏        | 43/365 [00:03<00:42,  7.61it/s]"
     ]
    },
    {
     "name": "stdout",
     "output_type": "stream",
     "text": [
      "[0.00740346]\n",
      "[0.04012238]\n"
     ]
    },
    {
     "name": "stderr",
     "output_type": "stream",
     "text": [
      "Running with parameters:[1500.0]:  12%|█▏        | 44/365 [00:03<00:41,  7.77it/s]"
     ]
    },
    {
     "name": "stdout",
     "output_type": "stream",
     "text": [
      "[2.46797029]\n",
      "[2.33404428]\n"
     ]
    },
    {
     "name": "stderr",
     "output_type": "stream",
     "text": [
      "Running with parameters:[1500.0]:  13%|█▎        | 46/365 [00:03<00:44,  7.22it/s]"
     ]
    },
    {
     "name": "stdout",
     "output_type": "stream",
     "text": [
      "[0.01130481]\n",
      "[0.]\n"
     ]
    },
    {
     "name": "stderr",
     "output_type": "stream",
     "text": [
      "Running with parameters:[1500.0]:  13%|█▎        | 48/365 [00:04<00:45,  7.04it/s]"
     ]
    },
    {
     "name": "stdout",
     "output_type": "stream",
     "text": [
      "[0.73315935]\n",
      "[3.12418014]\n"
     ]
    },
    {
     "name": "stderr",
     "output_type": "stream",
     "text": [
      "Running with parameters:[1500.0]:  14%|█▎        | 50/365 [00:04<00:46,  6.82it/s]"
     ]
    },
    {
     "name": "stdout",
     "output_type": "stream",
     "text": [
      "[0.02848867]\n",
      "[0.05647372]\n"
     ]
    },
    {
     "name": "stderr",
     "output_type": "stream",
     "text": [
      "Running with parameters:[1500.0]:  14%|█▍        | 52/365 [00:04<00:47,  6.56it/s]"
     ]
    },
    {
     "name": "stdout",
     "output_type": "stream",
     "text": [
      "[0.32023677]\n",
      "[1.62245189]\n"
     ]
    },
    {
     "name": "stderr",
     "output_type": "stream",
     "text": [
      "Running with parameters:[1500.0]:  15%|█▍        | 54/365 [00:05<00:47,  6.56it/s]"
     ]
    },
    {
     "name": "stdout",
     "output_type": "stream",
     "text": [
      "[4.2896493]\n",
      "[5.65937402]\n"
     ]
    },
    {
     "name": "stderr",
     "output_type": "stream",
     "text": [
      "Running with parameters:[1500.0]:  16%|█▌        | 57/365 [00:05<00:43,  7.05it/s]"
     ]
    },
    {
     "name": "stdout",
     "output_type": "stream",
     "text": [
      "[1.58625934]\n",
      "[0.20924606]\n"
     ]
    },
    {
     "name": "stderr",
     "output_type": "stream",
     "text": [
      "Running with parameters:[1500.0]:  16%|█▌        | 59/365 [00:05<00:40,  7.55it/s]"
     ]
    },
    {
     "name": "stdout",
     "output_type": "stream",
     "text": [
      "[0.85516393]\n",
      "[0.30378052]\n"
     ]
    },
    {
     "name": "stderr",
     "output_type": "stream",
     "text": [
      "Running with parameters:[1500.0]:  17%|█▋        | 61/365 [00:05<00:37,  8.00it/s]"
     ]
    },
    {
     "name": "stdout",
     "output_type": "stream",
     "text": [
      "[0.89616225]\n",
      "[3.43900096]\n"
     ]
    },
    {
     "name": "stderr",
     "output_type": "stream",
     "text": [
      "Running with parameters:[1500.0]:  17%|█▋        | 63/365 [00:06<00:34,  8.67it/s]"
     ]
    },
    {
     "name": "stdout",
     "output_type": "stream",
     "text": [
      "[1.62853003]\n",
      "[8.5324384]\n"
     ]
    },
    {
     "name": "stderr",
     "output_type": "stream",
     "text": [
      "Running with parameters:[1500.0]:  18%|█▊        | 64/365 [00:06<00:36,  8.19it/s]"
     ]
    },
    {
     "name": "stdout",
     "output_type": "stream",
     "text": [
      "[6.00222942]\n",
      "[0.09960318]\n"
     ]
    },
    {
     "name": "stderr",
     "output_type": "stream",
     "text": [
      "Running with parameters:[1500.0]:  18%|█▊        | 66/365 [00:06<00:39,  7.56it/s]"
     ]
    },
    {
     "name": "stdout",
     "output_type": "stream",
     "text": [
      "[0.]\n",
      "[4.65653756]\n"
     ]
    },
    {
     "name": "stderr",
     "output_type": "stream",
     "text": [
      "Running with parameters:[1500.0]:  19%|█▊        | 68/365 [00:06<00:38,  7.65it/s]"
     ]
    },
    {
     "name": "stdout",
     "output_type": "stream",
     "text": [
      "[4.73500765]\n",
      "[2.53105667]\n"
     ]
    },
    {
     "name": "stderr",
     "output_type": "stream",
     "text": [
      "Running with parameters:[1500.0]:  19%|█▉        | 70/365 [00:07<00:40,  7.20it/s]"
     ]
    },
    {
     "name": "stdout",
     "output_type": "stream",
     "text": [
      "[4.94904922]\n",
      "[7.76262316]\n"
     ]
    },
    {
     "name": "stderr",
     "output_type": "stream",
     "text": [
      "Running with parameters:[1500.0]:  20%|█▉        | 72/365 [00:07<00:41,  7.10it/s]"
     ]
    },
    {
     "name": "stdout",
     "output_type": "stream",
     "text": [
      "[12.74898623]\n",
      "[5.85064437]\n"
     ]
    },
    {
     "name": "stderr",
     "output_type": "stream",
     "text": [
      "Running with parameters:[1500.0]:  20%|██        | 74/365 [00:07<00:41,  7.00it/s]"
     ]
    },
    {
     "name": "stdout",
     "output_type": "stream",
     "text": [
      "[4.69921135]\n",
      "[8.80495453]\n"
     ]
    },
    {
     "name": "stderr",
     "output_type": "stream",
     "text": [
      "Running with parameters:[1500.0]:  21%|██        | 76/365 [00:08<00:40,  7.07it/s]"
     ]
    },
    {
     "name": "stdout",
     "output_type": "stream",
     "text": [
      "[0.28857579]\n",
      "[6.7594165]\n"
     ]
    },
    {
     "name": "stderr",
     "output_type": "stream",
     "text": [
      "Running with parameters:[1500.0]:  21%|██▏       | 78/365 [00:08<00:40,  7.04it/s]"
     ]
    },
    {
     "name": "stdout",
     "output_type": "stream",
     "text": [
      "[6.99053733]\n",
      "[1.42288962]\n"
     ]
    },
    {
     "name": "stderr",
     "output_type": "stream",
     "text": [
      "Running with parameters:[1500.0]:  22%|██▏       | 81/365 [00:08<00:36,  7.69it/s]"
     ]
    },
    {
     "name": "stdout",
     "output_type": "stream",
     "text": [
      "[9.96453756]\n",
      "[9.15177588]\n"
     ]
    },
    {
     "name": "stderr",
     "output_type": "stream",
     "text": [
      "Running with parameters:[1500.0]:  23%|██▎       | 83/365 [00:08<00:35,  7.96it/s]"
     ]
    },
    {
     "name": "stdout",
     "output_type": "stream",
     "text": [
      "[12.10021788]\n",
      "[6.4760445]\n"
     ]
    },
    {
     "name": "stderr",
     "output_type": "stream",
     "text": [
      "Running with parameters:[1500.0]:  23%|██▎       | 85/365 [00:09<00:33,  8.31it/s]"
     ]
    },
    {
     "name": "stdout",
     "output_type": "stream",
     "text": [
      "[7.95733311]\n",
      "[4.71483421]\n"
     ]
    },
    {
     "name": "stderr",
     "output_type": "stream",
     "text": [
      "Running with parameters:[1500.0]:  24%|██▎       | 86/365 [00:09<00:32,  8.50it/s]"
     ]
    },
    {
     "name": "stdout",
     "output_type": "stream",
     "text": [
      "[0.22172592]\n",
      "[0.06111819]\n"
     ]
    },
    {
     "name": "stderr",
     "output_type": "stream",
     "text": [
      "Running with parameters:[1500.0]:  24%|██▍       | 88/365 [00:09<00:31,  8.89it/s]"
     ]
    },
    {
     "name": "stdout",
     "output_type": "stream",
     "text": [
      "[6.64654102]\n",
      "[5.69866409]\n",
      "[1.03748606]"
     ]
    },
    {
     "name": "stderr",
     "output_type": "stream",
     "text": [
      "Running with parameters:[1500.0]:  25%|██▍       | 91/365 [00:09<00:29,  9.23it/s]"
     ]
    },
    {
     "name": "stdout",
     "output_type": "stream",
     "text": [
      "\n",
      "[0.00085649]\n"
     ]
    },
    {
     "name": "stderr",
     "output_type": "stream",
     "text": [
      "Running with parameters:[1500.0]:  25%|██▌       | 93/365 [00:09<00:28,  9.60it/s]"
     ]
    },
    {
     "name": "stdout",
     "output_type": "stream",
     "text": [
      "[0.00079712]\n",
      "[0.00724063]\n",
      "[1.58921214]\n"
     ]
    },
    {
     "name": "stderr",
     "output_type": "stream",
     "text": [
      "Running with parameters:[1500.0]:  26%|██▋       | 96/365 [00:10<00:27,  9.80it/s]"
     ]
    },
    {
     "name": "stdout",
     "output_type": "stream",
     "text": [
      "[5.36487576]\n",
      "[1.79565678]\n"
     ]
    },
    {
     "name": "stderr",
     "output_type": "stream",
     "text": [
      "Running with parameters:[1500.0]:  27%|██▋       | 97/365 [00:10<00:27,  9.85it/s]"
     ]
    },
    {
     "name": "stdout",
     "output_type": "stream",
     "text": [
      "[4.88326402]\n",
      "[2.65644716]\n",
      "[2.27348669]\n"
     ]
    },
    {
     "name": "stderr",
     "output_type": "stream",
     "text": [
      "Running with parameters:[1500.0]:  27%|██▋       | 100/365 [00:10<00:31,  8.47it/s]"
     ]
    },
    {
     "name": "stdout",
     "output_type": "stream",
     "text": [
      "[7.57437042]\n",
      "[5.01855955]\n"
     ]
    },
    {
     "name": "stderr",
     "output_type": "stream",
     "text": [
      "Running with parameters:[1500.0]:  28%|██▊       | 103/365 [00:11<00:32,  7.94it/s]"
     ]
    },
    {
     "name": "stdout",
     "output_type": "stream",
     "text": [
      "[2.62373288]\n",
      "[0.1344518]\n"
     ]
    },
    {
     "name": "stderr",
     "output_type": "stream",
     "text": [
      "Running with parameters:[1500.0]:  28%|██▊       | 104/365 [00:11<00:30,  8.45it/s]"
     ]
    },
    {
     "name": "stdout",
     "output_type": "stream",
     "text": [
      "[0.29039556]\n",
      "[1.7680051]\n"
     ]
    },
    {
     "name": "stderr",
     "output_type": "stream",
     "text": [
      "Running with parameters:[1500.0]:  29%|██▉       | 106/365 [00:11<00:34,  7.50it/s]"
     ]
    },
    {
     "name": "stdout",
     "output_type": "stream",
     "text": [
      "[12.22940139]\n",
      "[2.46801414]\n"
     ]
    },
    {
     "name": "stderr",
     "output_type": "stream",
     "text": [
      "Running with parameters:[1500.0]:  30%|██▉       | 108/365 [00:11<00:36,  7.00it/s]"
     ]
    },
    {
     "name": "stdout",
     "output_type": "stream",
     "text": [
      "[0.87594412]\n",
      "[3.32501193]\n"
     ]
    },
    {
     "name": "stderr",
     "output_type": "stream",
     "text": [
      "Running with parameters:[1500.0]:  30%|███       | 110/365 [00:12<00:37,  6.82it/s]"
     ]
    },
    {
     "name": "stdout",
     "output_type": "stream",
     "text": [
      "[0.90011317]\n",
      "[1.42029953]\n"
     ]
    },
    {
     "name": "stderr",
     "output_type": "stream",
     "text": [
      "Running with parameters:[1500.0]:  31%|███       | 112/365 [00:12<00:36,  6.98it/s]"
     ]
    },
    {
     "name": "stdout",
     "output_type": "stream",
     "text": [
      "[1.10434208]\n",
      "[0.32987334]\n"
     ]
    },
    {
     "name": "stderr",
     "output_type": "stream",
     "text": [
      "Running with parameters:[1500.0]:  31%|███       | 114/365 [00:12<00:37,  6.70it/s]"
     ]
    },
    {
     "name": "stdout",
     "output_type": "stream",
     "text": [
      "[0.16265428]\n",
      "[2.22437331]\n"
     ]
    },
    {
     "name": "stderr",
     "output_type": "stream",
     "text": [
      "Running with parameters:[1500.0]:  32%|███▏      | 116/365 [00:13<00:36,  6.83it/s]"
     ]
    },
    {
     "name": "stdout",
     "output_type": "stream",
     "text": [
      "[6.10167328]\n",
      "[2.09047708]\n"
     ]
    },
    {
     "name": "stderr",
     "output_type": "stream",
     "text": [
      "Running with parameters:[1500.0]:  32%|███▏      | 118/365 [00:13<00:36,  6.86it/s]"
     ]
    },
    {
     "name": "stdout",
     "output_type": "stream",
     "text": [
      "[2.76369044]\n",
      "[3.00685423]\n"
     ]
    },
    {
     "name": "stderr",
     "output_type": "stream",
     "text": [
      "Running with parameters:[1500.0]:  33%|███▎      | 120/365 [00:13<00:34,  7.09it/s]"
     ]
    },
    {
     "name": "stdout",
     "output_type": "stream",
     "text": [
      "[6.21899726]\n",
      "[1.31762615]\n"
     ]
    },
    {
     "name": "stderr",
     "output_type": "stream",
     "text": [
      "Running with parameters:[1500.0]:  34%|███▎      | 123/365 [00:13<00:31,  7.57it/s]"
     ]
    },
    {
     "name": "stdout",
     "output_type": "stream",
     "text": [
      "[0.06129521]\n",
      "[1.36844502]\n"
     ]
    },
    {
     "name": "stderr",
     "output_type": "stream",
     "text": [
      "Running with parameters:[1500.0]:  34%|███▍      | 124/365 [00:14<00:32,  7.37it/s]"
     ]
    },
    {
     "name": "stdout",
     "output_type": "stream",
     "text": [
      "[0.18075693]\n",
      "[1.31032442]\n"
     ]
    },
    {
     "name": "stderr",
     "output_type": "stream",
     "text": [
      "Running with parameters:[1500.0]:  35%|███▍      | 127/365 [00:14<00:30,  7.80it/s]"
     ]
    },
    {
     "name": "stdout",
     "output_type": "stream",
     "text": [
      "[1.2500587]\n",
      "[0.32202405]\n"
     ]
    },
    {
     "name": "stderr",
     "output_type": "stream",
     "text": [
      "Running with parameters:[1500.0]:  35%|███▌      | 128/365 [00:14<00:31,  7.57it/s]"
     ]
    },
    {
     "name": "stdout",
     "output_type": "stream",
     "text": [
      "[0.01183259]\n",
      "[0.07059232]\n"
     ]
    },
    {
     "name": "stderr",
     "output_type": "stream",
     "text": [
      "Running with parameters:[1500.0]:  36%|███▌      | 130/365 [00:14<00:31,  7.52it/s]"
     ]
    },
    {
     "name": "stdout",
     "output_type": "stream",
     "text": [
      "[0.16502911]\n",
      "[0.01749685]\n"
     ]
    },
    {
     "name": "stderr",
     "output_type": "stream",
     "text": [
      "Running with parameters:[1500.0]:  36%|███▌      | 132/365 [00:15<00:32,  7.25it/s]"
     ]
    },
    {
     "name": "stdout",
     "output_type": "stream",
     "text": [
      "[0.00048765]\n",
      "[0.]\n"
     ]
    },
    {
     "name": "stderr",
     "output_type": "stream",
     "text": [
      "Running with parameters:[1500.0]:  37%|███▋      | 134/365 [00:15<00:33,  6.98it/s]"
     ]
    },
    {
     "name": "stdout",
     "output_type": "stream",
     "text": [
      "[0.00459722]\n",
      "[0.21595437]\n"
     ]
    },
    {
     "name": "stderr",
     "output_type": "stream",
     "text": [
      "Running with parameters:[1500.0]:  37%|███▋      | 136/365 [00:15<00:33,  6.91it/s]"
     ]
    },
    {
     "name": "stdout",
     "output_type": "stream",
     "text": [
      "[0.57670456]\n",
      "[1.44190953]\n"
     ]
    },
    {
     "name": "stderr",
     "output_type": "stream",
     "text": [
      "Running with parameters:[1500.0]:  38%|███▊      | 138/365 [00:16<00:33,  6.73it/s]"
     ]
    },
    {
     "name": "stdout",
     "output_type": "stream",
     "text": [
      "[1.74855552]\n",
      "[0.68510239]\n"
     ]
    },
    {
     "name": "stderr",
     "output_type": "stream",
     "text": [
      "Running with parameters:[1500.0]:  38%|███▊      | 140/365 [00:16<00:33,  6.67it/s]"
     ]
    },
    {
     "name": "stdout",
     "output_type": "stream",
     "text": [
      "[0.02229358]\n",
      "[6.59828401e-06]\n"
     ]
    },
    {
     "name": "stderr",
     "output_type": "stream",
     "text": [
      "Running with parameters:[1500.0]:  39%|███▉      | 142/365 [00:16<00:33,  6.75it/s]"
     ]
    },
    {
     "name": "stdout",
     "output_type": "stream",
     "text": [
      "[0.]\n",
      "[8.62036391e-06]\n"
     ]
    },
    {
     "name": "stderr",
     "output_type": "stream",
     "text": [
      "Running with parameters:[1500.0]:  39%|███▉      | 144/365 [00:16<00:31,  6.95it/s]"
     ]
    },
    {
     "name": "stdout",
     "output_type": "stream",
     "text": [
      "[0.00073978]\n",
      "[0.00387533]\n"
     ]
    },
    {
     "name": "stderr",
     "output_type": "stream",
     "text": [
      "Running with parameters:[1500.0]:  40%|████      | 146/365 [00:17<00:30,  7.12it/s]"
     ]
    },
    {
     "name": "stdout",
     "output_type": "stream",
     "text": [
      "[0.00063883]\n",
      "[0.0010178]\n"
     ]
    },
    {
     "name": "stderr",
     "output_type": "stream",
     "text": [
      "Running with parameters:[1500.0]:  41%|████      | 148/365 [00:17<00:31,  6.94it/s]"
     ]
    },
    {
     "name": "stdout",
     "output_type": "stream",
     "text": [
      "[0.00706379]\n",
      "[1.63134479e-05]\n"
     ]
    },
    {
     "name": "stderr",
     "output_type": "stream",
     "text": [
      "Running with parameters:[1500.0]:  41%|████▏     | 151/365 [00:17<00:28,  7.51it/s]"
     ]
    },
    {
     "name": "stdout",
     "output_type": "stream",
     "text": [
      "[0.00067361]\n",
      "[0.00049036]\n"
     ]
    },
    {
     "name": "stderr",
     "output_type": "stream",
     "text": [
      "Running with parameters:[1500.0]:  42%|████▏     | 153/365 [00:18<00:26,  7.98it/s]"
     ]
    },
    {
     "name": "stdout",
     "output_type": "stream",
     "text": [
      "[0.01458537]\n",
      "[0.00621544]\n"
     ]
    },
    {
     "name": "stderr",
     "output_type": "stream",
     "text": [
      "Running with parameters:[1500.0]:  42%|████▏     | 155/365 [00:18<00:25,  8.29it/s]"
     ]
    },
    {
     "name": "stdout",
     "output_type": "stream",
     "text": [
      "[0.16508709]\n",
      "[0.04930906]\n"
     ]
    },
    {
     "name": "stderr",
     "output_type": "stream",
     "text": [
      "Running with parameters:[1500.0]:  43%|████▎     | 156/365 [00:18<00:25,  8.23it/s]"
     ]
    },
    {
     "name": "stdout",
     "output_type": "stream",
     "text": [
      "[0.00577407]\n",
      "[0.00647787]\n"
     ]
    },
    {
     "name": "stderr",
     "output_type": "stream",
     "text": [
      "Running with parameters:[1500.0]:  43%|████▎     | 158/365 [00:18<00:27,  7.57it/s]"
     ]
    },
    {
     "name": "stdout",
     "output_type": "stream",
     "text": [
      "[0.04964601]\n",
      "[0.04959614]\n"
     ]
    },
    {
     "name": "stderr",
     "output_type": "stream",
     "text": [
      "Running with parameters:[1500.0]:  44%|████▍     | 160/365 [00:19<00:28,  7.08it/s]"
     ]
    },
    {
     "name": "stdout",
     "output_type": "stream",
     "text": [
      "[0.11963831]\n",
      "[0.06183995]\n"
     ]
    },
    {
     "name": "stderr",
     "output_type": "stream",
     "text": [
      "Running with parameters:[1500.0]:  44%|████▍     | 162/365 [00:19<00:28,  7.02it/s]"
     ]
    },
    {
     "name": "stdout",
     "output_type": "stream",
     "text": [
      "[0.02941198]\n",
      "[0.03381213]\n"
     ]
    },
    {
     "name": "stderr",
     "output_type": "stream",
     "text": [
      "Running with parameters:[1500.0]:  45%|████▍     | 164/365 [00:19<00:29,  6.93it/s]"
     ]
    },
    {
     "name": "stdout",
     "output_type": "stream",
     "text": [
      "[3.57797791e-05]\n",
      "[0.00726118]\n"
     ]
    },
    {
     "name": "stderr",
     "output_type": "stream",
     "text": [
      "Running with parameters:[1500.0]:  45%|████▌     | 166/365 [00:19<00:28,  6.93it/s]"
     ]
    },
    {
     "name": "stdout",
     "output_type": "stream",
     "text": [
      "[0.00882554]\n",
      "[0.06229787]\n"
     ]
    },
    {
     "name": "stderr",
     "output_type": "stream",
     "text": [
      "Running with parameters:[1500.0]:  46%|████▌     | 168/365 [00:20<00:28,  6.89it/s]"
     ]
    },
    {
     "name": "stdout",
     "output_type": "stream",
     "text": [
      "[0.07838049]\n",
      "[0.16659851]\n"
     ]
    },
    {
     "name": "stderr",
     "output_type": "stream",
     "text": [
      "Running with parameters:[1500.0]:  47%|████▋     | 170/365 [00:20<00:27,  7.01it/s]"
     ]
    },
    {
     "name": "stdout",
     "output_type": "stream",
     "text": [
      "[0.10223253]\n",
      "[0.00449326]\n"
     ]
    },
    {
     "name": "stderr",
     "output_type": "stream",
     "text": [
      "Running with parameters:[1500.0]:  47%|████▋     | 173/365 [00:20<00:25,  7.54it/s]"
     ]
    },
    {
     "name": "stdout",
     "output_type": "stream",
     "text": [
      "[0.]\n",
      "[0.00096665]\n"
     ]
    },
    {
     "name": "stderr",
     "output_type": "stream",
     "text": [
      "Running with parameters:[1500.0]:  48%|████▊     | 174/365 [00:21<00:24,  7.80it/s]"
     ]
    },
    {
     "name": "stdout",
     "output_type": "stream",
     "text": [
      "[0.00121751]\n",
      "[3.22374522e-06]\n"
     ]
    },
    {
     "name": "stderr",
     "output_type": "stream",
     "text": [
      "Running with parameters:[1500.0]:  48%|████▊     | 176/365 [00:21<00:23,  7.90it/s]"
     ]
    },
    {
     "name": "stdout",
     "output_type": "stream",
     "text": [
      "[9.98129844e-05]\n",
      "[9.79265685e-06]\n"
     ]
    },
    {
     "name": "stderr",
     "output_type": "stream",
     "text": [
      "Running with parameters:[1500.0]:  49%|████▉     | 179/365 [00:21<00:23,  7.97it/s]"
     ]
    },
    {
     "name": "stdout",
     "output_type": "stream",
     "text": [
      "[0.]\n",
      "[0.03502243]\n"
     ]
    },
    {
     "name": "stderr",
     "output_type": "stream",
     "text": [
      "Running with parameters:[1500.0]:  49%|████▉     | 180/365 [00:21<00:23,  8.02it/s]"
     ]
    },
    {
     "name": "stdout",
     "output_type": "stream",
     "text": [
      "[0.00331039]\n",
      "[0.00102967]\n"
     ]
    },
    {
     "name": "stderr",
     "output_type": "stream",
     "text": [
      "Running with parameters:[1500.0]:  50%|████▉     | 182/365 [00:22<00:23,  7.65it/s]"
     ]
    },
    {
     "name": "stdout",
     "output_type": "stream",
     "text": [
      "[0.01367967]\n",
      "[0.00109498]\n"
     ]
    },
    {
     "name": "stderr",
     "output_type": "stream",
     "text": [
      "Running with parameters:[1500.0]:  50%|█████     | 184/365 [00:22<00:24,  7.48it/s]"
     ]
    },
    {
     "name": "stdout",
     "output_type": "stream",
     "text": [
      "[3.7210318e-05]\n",
      "[0.]\n"
     ]
    },
    {
     "name": "stderr",
     "output_type": "stream",
     "text": [
      "Running with parameters:[1500.0]:  51%|█████     | 186/365 [00:22<00:25,  7.01it/s]"
     ]
    },
    {
     "name": "stdout",
     "output_type": "stream",
     "text": [
      "[5.76744425e-05]\n",
      "[0.00010415]\n"
     ]
    },
    {
     "name": "stderr",
     "output_type": "stream",
     "text": [
      "Running with parameters:[1500.0]:  52%|█████▏    | 188/365 [00:22<00:25,  6.93it/s]"
     ]
    },
    {
     "name": "stdout",
     "output_type": "stream",
     "text": [
      "[0.02290222]\n",
      "[0.00422836]\n"
     ]
    },
    {
     "name": "stderr",
     "output_type": "stream",
     "text": [
      "Running with parameters:[1500.0]:  52%|█████▏    | 190/365 [00:23<00:25,  6.77it/s]"
     ]
    },
    {
     "name": "stdout",
     "output_type": "stream",
     "text": [
      "[0.00345345]\n",
      "[0.00044295]\n"
     ]
    },
    {
     "name": "stderr",
     "output_type": "stream",
     "text": [
      "Running with parameters:[1500.0]:  53%|█████▎    | 192/365 [00:23<00:25,  6.91it/s]"
     ]
    },
    {
     "name": "stdout",
     "output_type": "stream",
     "text": [
      "[0.0016363]\n",
      "[0.00182973]\n"
     ]
    },
    {
     "name": "stderr",
     "output_type": "stream",
     "text": [
      "Running with parameters:[1500.0]:  53%|█████▎    | 194/365 [00:23<00:23,  7.23it/s]"
     ]
    },
    {
     "name": "stdout",
     "output_type": "stream",
     "text": [
      "[0.01148587]\n",
      "[0.02116082]\n"
     ]
    },
    {
     "name": "stderr",
     "output_type": "stream",
     "text": [
      "Running with parameters:[1500.0]:  54%|█████▎    | 196/365 [00:24<00:23,  7.27it/s]"
     ]
    },
    {
     "name": "stdout",
     "output_type": "stream",
     "text": [
      "[0.06183407]\n",
      "[0.02994898]\n"
     ]
    },
    {
     "name": "stderr",
     "output_type": "stream",
     "text": [
      "Running with parameters:[1500.0]:  55%|█████▍    | 199/365 [00:24<00:22,  7.52it/s]"
     ]
    },
    {
     "name": "stdout",
     "output_type": "stream",
     "text": [
      "[0.03085609]\n",
      "[0.02919746]\n"
     ]
    },
    {
     "name": "stderr",
     "output_type": "stream",
     "text": [
      "Running with parameters:[1500.0]:  55%|█████▍    | 200/365 [00:24<00:22,  7.49it/s]"
     ]
    },
    {
     "name": "stdout",
     "output_type": "stream",
     "text": [
      "[0.03619406]\n",
      "[0.08463629]\n"
     ]
    },
    {
     "name": "stderr",
     "output_type": "stream",
     "text": [
      "Running with parameters:[1500.0]:  55%|█████▌    | 202/365 [00:24<00:21,  7.42it/s]"
     ]
    },
    {
     "name": "stdout",
     "output_type": "stream",
     "text": [
      "[0.01985819]\n",
      "[0.00025466]\n"
     ]
    },
    {
     "name": "stderr",
     "output_type": "stream",
     "text": [
      "Running with parameters:[1500.0]:  56%|█████▌    | 204/365 [00:25<00:21,  7.45it/s]"
     ]
    },
    {
     "name": "stdout",
     "output_type": "stream",
     "text": [
      "[7.24112971e-05]\n",
      "[0.02256652]\n"
     ]
    },
    {
     "name": "stderr",
     "output_type": "stream",
     "text": [
      "Running with parameters:[1500.0]:  56%|█████▋    | 206/365 [00:25<00:20,  7.63it/s]"
     ]
    },
    {
     "name": "stdout",
     "output_type": "stream",
     "text": [
      "[0.02014569]\n",
      "[0.00171248]\n"
     ]
    },
    {
     "name": "stderr",
     "output_type": "stream",
     "text": [
      "Running with parameters:[1500.0]:  57%|█████▋    | 208/365 [00:25<00:21,  7.36it/s]"
     ]
    },
    {
     "name": "stdout",
     "output_type": "stream",
     "text": [
      "[0.00148257]\n",
      "[0.00106232]\n"
     ]
    },
    {
     "name": "stderr",
     "output_type": "stream",
     "text": [
      "Running with parameters:[1500.0]:  58%|█████▊    | 210/365 [00:25<00:21,  7.26it/s]"
     ]
    },
    {
     "name": "stdout",
     "output_type": "stream",
     "text": [
      "[0.00270999]\n",
      "[0.00079432]\n"
     ]
    },
    {
     "name": "stderr",
     "output_type": "stream",
     "text": [
      "Running with parameters:[1500.0]:  58%|█████▊    | 212/365 [00:26<00:22,  6.75it/s]"
     ]
    },
    {
     "name": "stdout",
     "output_type": "stream",
     "text": [
      "[7.27447104e-08]\n",
      "[0.0001122]\n"
     ]
    },
    {
     "name": "stderr",
     "output_type": "stream",
     "text": [
      "Running with parameters:[1500.0]:  59%|█████▊    | 214/365 [00:26<00:21,  6.87it/s]"
     ]
    },
    {
     "name": "stdout",
     "output_type": "stream",
     "text": [
      "[3.19310457e-06]\n",
      "[0.00069417]\n"
     ]
    },
    {
     "name": "stderr",
     "output_type": "stream",
     "text": [
      "Running with parameters:[1500.0]:  59%|█████▉    | 216/365 [00:26<00:21,  6.84it/s]"
     ]
    },
    {
     "name": "stdout",
     "output_type": "stream",
     "text": [
      "[0.00575252]\n",
      "[0.00724121]\n"
     ]
    },
    {
     "name": "stderr",
     "output_type": "stream",
     "text": [
      "Running with parameters:[1500.0]:  60%|█████▉    | 218/365 [00:27<00:21,  6.81it/s]"
     ]
    },
    {
     "name": "stdout",
     "output_type": "stream",
     "text": [
      "[0.00223407]\n",
      "[0.00810023]\n"
     ]
    },
    {
     "name": "stderr",
     "output_type": "stream",
     "text": [
      "Running with parameters:[1500.0]:  61%|██████    | 221/365 [00:27<00:18,  7.93it/s]"
     ]
    },
    {
     "name": "stdout",
     "output_type": "stream",
     "text": [
      "[0.02187893]\n",
      "[0.01829466]\n"
     ]
    },
    {
     "name": "stderr",
     "output_type": "stream",
     "text": [
      "Running with parameters:[1500.0]:  61%|██████    | 223/365 [00:27<00:16,  8.76it/s]"
     ]
    },
    {
     "name": "stdout",
     "output_type": "stream",
     "text": [
      "[0.00286384]\n",
      "[0.00329784]\n"
     ]
    },
    {
     "name": "stderr",
     "output_type": "stream",
     "text": [
      "Running with parameters:[1500.0]:  62%|██████▏   | 225/365 [00:27<00:15,  9.23it/s]"
     ]
    },
    {
     "name": "stdout",
     "output_type": "stream",
     "text": [
      "[0.00024906]\n",
      "[1.87263427e-07]\n"
     ]
    },
    {
     "name": "stderr",
     "output_type": "stream",
     "text": [
      "Running with parameters:[1500.0]:  62%|██████▏   | 226/365 [00:28<00:16,  8.61it/s]"
     ]
    },
    {
     "name": "stdout",
     "output_type": "stream",
     "text": [
      "[6.66841319e-06]\n",
      "[0.]\n"
     ]
    },
    {
     "name": "stderr",
     "output_type": "stream",
     "text": [
      "Running with parameters:[1500.0]:  62%|██████▏   | 228/365 [00:28<00:17,  8.00it/s]"
     ]
    },
    {
     "name": "stdout",
     "output_type": "stream",
     "text": [
      "[8.06736358e-05]\n",
      "[0.00366005]\n"
     ]
    },
    {
     "name": "stderr",
     "output_type": "stream",
     "text": [
      "Running with parameters:[1500.0]:  63%|██████▎   | 230/365 [00:28<00:18,  7.46it/s]"
     ]
    },
    {
     "name": "stdout",
     "output_type": "stream",
     "text": [
      "[0.00269812]\n",
      "[0.00196886]\n"
     ]
    },
    {
     "name": "stderr",
     "output_type": "stream",
     "text": [
      "Running with parameters:[1500.0]:  64%|██████▎   | 232/365 [00:28<00:18,  7.18it/s]"
     ]
    },
    {
     "name": "stdout",
     "output_type": "stream",
     "text": [
      "[0.00605736]\n",
      "[0.00849485]\n"
     ]
    },
    {
     "name": "stderr",
     "output_type": "stream",
     "text": [
      "Running with parameters:[1500.0]:  64%|██████▍   | 234/365 [00:29<00:18,  7.04it/s]"
     ]
    },
    {
     "name": "stdout",
     "output_type": "stream",
     "text": [
      "[0.00032156]\n",
      "[2.14722696e-06]\n"
     ]
    },
    {
     "name": "stderr",
     "output_type": "stream",
     "text": [
      "Running with parameters:[1500.0]:  65%|██████▍   | 236/365 [00:29<00:18,  6.80it/s]"
     ]
    },
    {
     "name": "stdout",
     "output_type": "stream",
     "text": [
      "[1.03192917e-05]\n",
      "[4.1850738e-06]\n"
     ]
    },
    {
     "name": "stderr",
     "output_type": "stream",
     "text": [
      "Running with parameters:[1500.0]:  65%|██████▌   | 238/365 [00:29<00:18,  6.78it/s]"
     ]
    },
    {
     "name": "stdout",
     "output_type": "stream",
     "text": [
      "[7.56882644e-06]\n",
      "[3.30364432e-07]\n"
     ]
    },
    {
     "name": "stderr",
     "output_type": "stream",
     "text": [
      "Running with parameters:[1500.0]:  66%|██████▌   | 240/365 [00:30<00:18,  6.76it/s]"
     ]
    },
    {
     "name": "stdout",
     "output_type": "stream",
     "text": [
      "[0.00016803]\n",
      "[5.02222932e-07]\n"
     ]
    },
    {
     "name": "stderr",
     "output_type": "stream",
     "text": [
      "Running with parameters:[1500.0]:  67%|██████▋   | 243/365 [00:30<00:16,  7.30it/s]"
     ]
    },
    {
     "name": "stdout",
     "output_type": "stream",
     "text": [
      "[3.66841013e-07]\n",
      "[0.00166422]\n"
     ]
    },
    {
     "name": "stderr",
     "output_type": "stream",
     "text": [
      "Running with parameters:[1500.0]:  67%|██████▋   | 244/365 [00:30<00:17,  7.07it/s]"
     ]
    },
    {
     "name": "stdout",
     "output_type": "stream",
     "text": [
      "[0.00308604]\n",
      "[0.00056821]\n"
     ]
    },
    {
     "name": "stderr",
     "output_type": "stream",
     "text": [
      "Running with parameters:[1500.0]:  67%|██████▋   | 246/365 [00:30<00:16,  7.04it/s]"
     ]
    },
    {
     "name": "stdout",
     "output_type": "stream",
     "text": [
      "[0.00027717]\n",
      "[0.00155033]\n"
     ]
    },
    {
     "name": "stderr",
     "output_type": "stream",
     "text": [
      "Running with parameters:[1500.0]:  68%|██████▊   | 248/365 [00:31<00:17,  6.80it/s]"
     ]
    },
    {
     "name": "stdout",
     "output_type": "stream",
     "text": [
      "[0.0122036]\n",
      "[0.00130338]\n"
     ]
    },
    {
     "name": "stderr",
     "output_type": "stream",
     "text": [
      "Running with parameters:[1500.0]:  69%|██████▉   | 251/365 [00:31<00:15,  7.53it/s]"
     ]
    },
    {
     "name": "stdout",
     "output_type": "stream",
     "text": [
      "[0.02274076]\n",
      "[0.00206058]\n"
     ]
    },
    {
     "name": "stderr",
     "output_type": "stream",
     "text": [
      "Running with parameters:[1500.0]:  69%|██████▉   | 252/365 [00:31<00:15,  7.32it/s]"
     ]
    },
    {
     "name": "stdout",
     "output_type": "stream",
     "text": [
      "[0.03711695]\n",
      "[0.00904077]\n"
     ]
    },
    {
     "name": "stderr",
     "output_type": "stream",
     "text": [
      "Running with parameters:[1500.0]:  70%|██████▉   | 254/365 [00:31<00:15,  7.21it/s]"
     ]
    },
    {
     "name": "stdout",
     "output_type": "stream",
     "text": [
      "[0.01115291]\n",
      "[0.00361437]\n"
     ]
    },
    {
     "name": "stderr",
     "output_type": "stream",
     "text": [
      "Running with parameters:[1500.0]:  70%|███████   | 256/365 [00:32<00:15,  7.00it/s]"
     ]
    },
    {
     "name": "stdout",
     "output_type": "stream",
     "text": [
      "[0.00611732]\n",
      "[0.08032106]\n"
     ]
    },
    {
     "name": "stderr",
     "output_type": "stream",
     "text": [
      "Running with parameters:[1500.0]:  71%|███████   | 258/365 [00:32<00:15,  6.80it/s]"
     ]
    },
    {
     "name": "stdout",
     "output_type": "stream",
     "text": [
      "[0.02444236]\n",
      "[0.04055542]\n"
     ]
    },
    {
     "name": "stderr",
     "output_type": "stream",
     "text": [
      "Running with parameters:[1500.0]:  71%|███████   | 260/365 [00:32<00:15,  6.80it/s]"
     ]
    },
    {
     "name": "stdout",
     "output_type": "stream",
     "text": [
      "[0.11546724]\n",
      "[0.03112706]\n"
     ]
    },
    {
     "name": "stderr",
     "output_type": "stream",
     "text": [
      "Running with parameters:[1500.0]:  72%|███████▏  | 262/365 [00:33<00:15,  6.71it/s]"
     ]
    },
    {
     "name": "stdout",
     "output_type": "stream",
     "text": [
      "[0.00882814]\n",
      "[0.58186018]\n"
     ]
    },
    {
     "name": "stderr",
     "output_type": "stream",
     "text": [
      "Running with parameters:[1500.0]:  72%|███████▏  | 264/365 [00:33<00:15,  6.70it/s]"
     ]
    },
    {
     "name": "stdout",
     "output_type": "stream",
     "text": [
      "[0.93845759]\n",
      "[0.09775035]\n"
     ]
    },
    {
     "name": "stderr",
     "output_type": "stream",
     "text": [
      "Running with parameters:[1500.0]:  73%|███████▎  | 267/365 [00:33<00:13,  7.28it/s]"
     ]
    },
    {
     "name": "stdout",
     "output_type": "stream",
     "text": [
      "[0.00254387]\n",
      "[0.00628138]\n"
     ]
    },
    {
     "name": "stderr",
     "output_type": "stream",
     "text": [
      "Running with parameters:[1500.0]:  73%|███████▎  | 268/365 [00:34<00:13,  7.37it/s]"
     ]
    },
    {
     "name": "stdout",
     "output_type": "stream",
     "text": [
      "[0.05388398]\n",
      "[0.03494011]\n"
     ]
    },
    {
     "name": "stderr",
     "output_type": "stream",
     "text": [
      "Running with parameters:[1500.0]:  74%|███████▍  | 271/365 [00:34<00:11,  8.00it/s]"
     ]
    },
    {
     "name": "stdout",
     "output_type": "stream",
     "text": [
      "[0.25165778]\n",
      "[0.04031023]\n"
     ]
    },
    {
     "name": "stderr",
     "output_type": "stream",
     "text": [
      "Running with parameters:[1500.0]:  75%|███████▍  | 272/365 [00:34<00:12,  7.52it/s]"
     ]
    },
    {
     "name": "stdout",
     "output_type": "stream",
     "text": [
      "[0.00011413]\n",
      "[0.29305051]\n"
     ]
    },
    {
     "name": "stderr",
     "output_type": "stream",
     "text": [
      "Running with parameters:[1500.0]:  75%|███████▌  | 274/365 [00:34<00:13,  6.95it/s]"
     ]
    },
    {
     "name": "stdout",
     "output_type": "stream",
     "text": [
      "[0.04523319]\n",
      "[0.81262288]\n"
     ]
    },
    {
     "name": "stderr",
     "output_type": "stream",
     "text": [
      "Running with parameters:[1500.0]:  76%|███████▌  | 276/365 [00:35<00:12,  7.22it/s]"
     ]
    },
    {
     "name": "stdout",
     "output_type": "stream",
     "text": [
      "[0.11405778]\n",
      "[2.25134622]\n"
     ]
    },
    {
     "name": "stderr",
     "output_type": "stream",
     "text": [
      "Running with parameters:[1500.0]:  76%|███████▋  | 279/365 [00:35<00:10,  8.50it/s]"
     ]
    },
    {
     "name": "stdout",
     "output_type": "stream",
     "text": [
      "[0.12771682]\n",
      "[0.00647633]\n"
     ]
    },
    {
     "name": "stderr",
     "output_type": "stream",
     "text": [
      "Running with parameters:[1500.0]:  77%|███████▋  | 280/365 [00:35<00:10,  7.94it/s]"
     ]
    },
    {
     "name": "stdout",
     "output_type": "stream",
     "text": [
      "[0.66670254]\n",
      "[0.5348518]\n"
     ]
    },
    {
     "name": "stderr",
     "output_type": "stream",
     "text": [
      "Running with parameters:[1500.0]:  77%|███████▋  | 282/365 [00:35<00:11,  7.47it/s]"
     ]
    },
    {
     "name": "stdout",
     "output_type": "stream",
     "text": [
      "[1.08625912]\n",
      "[0.10076477]\n"
     ]
    },
    {
     "name": "stderr",
     "output_type": "stream",
     "text": [
      "Running with parameters:[1500.0]:  78%|███████▊  | 284/365 [00:36<00:11,  7.22it/s]"
     ]
    },
    {
     "name": "stdout",
     "output_type": "stream",
     "text": [
      "[0.00222637]\n",
      "[3.64601475e-06]\n"
     ]
    },
    {
     "name": "stderr",
     "output_type": "stream",
     "text": [
      "Running with parameters:[1500.0]:  78%|███████▊  | 286/365 [00:36<00:10,  7.42it/s]"
     ]
    },
    {
     "name": "stdout",
     "output_type": "stream",
     "text": [
      "[0.00061453]\n",
      "[3.2384312e-06]\n"
     ]
    },
    {
     "name": "stderr",
     "output_type": "stream",
     "text": [
      "Running with parameters:[1500.0]:  79%|███████▉  | 288/365 [00:36<00:10,  7.28it/s]"
     ]
    },
    {
     "name": "stdout",
     "output_type": "stream",
     "text": [
      "[0.04314449]\n",
      "[0.01620826]\n"
     ]
    },
    {
     "name": "stderr",
     "output_type": "stream",
     "text": [
      "Running with parameters:[1500.0]:  79%|███████▉  | 290/365 [00:36<00:10,  7.22it/s]"
     ]
    },
    {
     "name": "stdout",
     "output_type": "stream",
     "text": [
      "[0.00037453]\n",
      "[0.00054538]\n"
     ]
    },
    {
     "name": "stderr",
     "output_type": "stream",
     "text": [
      "Running with parameters:[1500.0]:  80%|████████  | 292/365 [00:37<00:10,  6.89it/s]"
     ]
    },
    {
     "name": "stdout",
     "output_type": "stream",
     "text": [
      "[0.22013909]\n",
      "[0.00361477]\n"
     ]
    },
    {
     "name": "stderr",
     "output_type": "stream",
     "text": [
      "Running with parameters:[1500.0]:  81%|████████  | 294/365 [00:37<00:10,  7.01it/s]"
     ]
    },
    {
     "name": "stdout",
     "output_type": "stream",
     "text": [
      "[0.13356149]\n",
      "[0.13271546]\n"
     ]
    },
    {
     "name": "stderr",
     "output_type": "stream",
     "text": [
      "Running with parameters:[1500.0]:  81%|████████  | 296/365 [00:37<00:09,  7.16it/s]"
     ]
    },
    {
     "name": "stdout",
     "output_type": "stream",
     "text": [
      "[0.16294767]\n",
      "[0.68477168]\n"
     ]
    },
    {
     "name": "stderr",
     "output_type": "stream",
     "text": [
      "Running with parameters:[1500.0]:  82%|████████▏ | 299/365 [00:38<00:08,  7.70it/s]"
     ]
    },
    {
     "name": "stdout",
     "output_type": "stream",
     "text": [
      "[0.60386402]\n",
      "[0.49403751]\n"
     ]
    },
    {
     "name": "stderr",
     "output_type": "stream",
     "text": [
      "Running with parameters:[1500.0]:  82%|████████▏ | 300/365 [00:38<00:08,  7.88it/s]"
     ]
    },
    {
     "name": "stdout",
     "output_type": "stream",
     "text": [
      "[0.0043624]\n",
      "[0.21323771]\n"
     ]
    },
    {
     "name": "stderr",
     "output_type": "stream",
     "text": [
      "Running with parameters:[1500.0]:  83%|████████▎ | 302/365 [00:38<00:08,  7.34it/s]"
     ]
    },
    {
     "name": "stdout",
     "output_type": "stream",
     "text": [
      "[0.07183455]\n",
      "[0.04920285]\n"
     ]
    },
    {
     "name": "stderr",
     "output_type": "stream",
     "text": [
      "Running with parameters:[1500.0]:  83%|████████▎ | 304/365 [00:38<00:08,  7.01it/s]"
     ]
    },
    {
     "name": "stdout",
     "output_type": "stream",
     "text": [
      "[0.0029457]\n",
      "[0.44803082]\n"
     ]
    },
    {
     "name": "stderr",
     "output_type": "stream",
     "text": [
      "Running with parameters:[1500.0]:  84%|████████▍ | 306/365 [00:39<00:08,  6.90it/s]"
     ]
    },
    {
     "name": "stdout",
     "output_type": "stream",
     "text": [
      "[0.00998704]\n",
      "[0.]\n"
     ]
    },
    {
     "name": "stderr",
     "output_type": "stream",
     "text": [
      "Running with parameters:[1500.0]:  84%|████████▍ | 308/365 [00:39<00:08,  7.09it/s]"
     ]
    },
    {
     "name": "stdout",
     "output_type": "stream",
     "text": [
      "[1.22187938e-05]\n",
      "[0.00877028]\n"
     ]
    },
    {
     "name": "stderr",
     "output_type": "stream",
     "text": [
      "Running with parameters:[1500.0]:  85%|████████▍ | 310/365 [00:39<00:07,  7.52it/s]"
     ]
    },
    {
     "name": "stdout",
     "output_type": "stream",
     "text": [
      "[0.0125442]\n",
      "[0.6413456]\n",
      "[3.14400188]\n"
     ]
    },
    {
     "name": "stderr",
     "output_type": "stream",
     "text": [
      "Running with parameters:[1500.0]:  86%|████████▌ | 313/365 [00:40<00:06,  7.66it/s]"
     ]
    },
    {
     "name": "stdout",
     "output_type": "stream",
     "text": [
      "[6.16127251]\n",
      "[0.29707433]\n"
     ]
    },
    {
     "name": "stderr",
     "output_type": "stream",
     "text": [
      "Running with parameters:[1500.0]:  86%|████████▋ | 315/365 [00:40<00:06,  7.37it/s]"
     ]
    },
    {
     "name": "stdout",
     "output_type": "stream",
     "text": [
      "[0.00010848]\n",
      "[0.00049367]\n"
     ]
    },
    {
     "name": "stderr",
     "output_type": "stream",
     "text": [
      "Running with parameters:[1500.0]:  87%|████████▋ | 318/365 [00:40<00:05,  7.98it/s]"
     ]
    },
    {
     "name": "stdout",
     "output_type": "stream",
     "text": [
      "[0.8555223]\n",
      "[1.23586998]\n"
     ]
    },
    {
     "name": "stderr",
     "output_type": "stream",
     "text": [
      "Running with parameters:[1500.0]:  88%|████████▊ | 320/365 [00:40<00:05,  8.68it/s]"
     ]
    },
    {
     "name": "stdout",
     "output_type": "stream",
     "text": [
      "[0.24193887]\n",
      "[0.]\n"
     ]
    },
    {
     "name": "stderr",
     "output_type": "stream",
     "text": [
      "Running with parameters:[1500.0]:  88%|████████▊ | 322/365 [00:41<00:04,  9.07it/s]"
     ]
    },
    {
     "name": "stdout",
     "output_type": "stream",
     "text": [
      "[0.03207289]\n",
      "[0.01803229]\n"
     ]
    },
    {
     "name": "stderr",
     "output_type": "stream",
     "text": [
      "Running with parameters:[1500.0]:  89%|████████▉ | 324/365 [00:41<00:04,  9.06it/s]"
     ]
    },
    {
     "name": "stdout",
     "output_type": "stream",
     "text": [
      "[0.01283275]\n",
      "[0.07654289]\n"
     ]
    },
    {
     "name": "stderr",
     "output_type": "stream",
     "text": [
      "Running with parameters:[1500.0]:  89%|████████▉ | 326/365 [00:41<00:04,  8.71it/s]"
     ]
    },
    {
     "name": "stdout",
     "output_type": "stream",
     "text": [
      "[0.09914987]\n",
      "[0.01668358]\n"
     ]
    },
    {
     "name": "stderr",
     "output_type": "stream",
     "text": [
      "Running with parameters:[1500.0]:  90%|████████▉ | 327/365 [00:41<00:04,  8.51it/s]"
     ]
    },
    {
     "name": "stdout",
     "output_type": "stream",
     "text": [
      "[2.79585165]\n",
      "[0.25425403]\n"
     ]
    },
    {
     "name": "stderr",
     "output_type": "stream",
     "text": [
      "Running with parameters:[1500.0]:  90%|█████████ | 329/365 [00:41<00:04,  8.15it/s]"
     ]
    },
    {
     "name": "stdout",
     "output_type": "stream",
     "text": [
      "[1.95906232]\n",
      "[0.56620768]\n"
     ]
    },
    {
     "name": "stderr",
     "output_type": "stream",
     "text": [
      "Running with parameters:[1500.0]:  91%|█████████ | 332/365 [00:42<00:04,  8.10it/s]"
     ]
    },
    {
     "name": "stdout",
     "output_type": "stream",
     "text": [
      "[3.63054221]\n",
      "[1.0715423]\n"
     ]
    },
    {
     "name": "stderr",
     "output_type": "stream",
     "text": [
      "Running with parameters:[1500.0]:  91%|█████████ | 333/365 [00:42<00:03,  8.09it/s]"
     ]
    },
    {
     "name": "stdout",
     "output_type": "stream",
     "text": [
      "[3.04385983]\n",
      "[5.24225348]\n"
     ]
    },
    {
     "name": "stderr",
     "output_type": "stream",
     "text": [
      "Running with parameters:[1500.0]:  92%|█████████▏| 335/365 [00:42<00:04,  7.25it/s]"
     ]
    },
    {
     "name": "stdout",
     "output_type": "stream",
     "text": [
      "[8.46427421]\n",
      "[1.67323133]\n"
     ]
    },
    {
     "name": "stderr",
     "output_type": "stream",
     "text": [
      "Running with parameters:[1500.0]:  92%|█████████▏| 337/365 [00:43<00:03,  7.00it/s]"
     ]
    },
    {
     "name": "stdout",
     "output_type": "stream",
     "text": [
      "[0.48381535]\n",
      "[0.44200687]\n"
     ]
    },
    {
     "name": "stderr",
     "output_type": "stream",
     "text": [
      "Running with parameters:[1500.0]:  93%|█████████▎| 339/365 [00:43<00:03,  6.74it/s]"
     ]
    },
    {
     "name": "stdout",
     "output_type": "stream",
     "text": [
      "[3.62269671]\n",
      "[2.50227957]\n"
     ]
    },
    {
     "name": "stderr",
     "output_type": "stream",
     "text": [
      "Running with parameters:[1500.0]:  93%|█████████▎| 341/365 [00:43<00:03,  6.80it/s]"
     ]
    },
    {
     "name": "stdout",
     "output_type": "stream",
     "text": [
      "[0.53033165]\n",
      "[0.00112443]\n"
     ]
    },
    {
     "name": "stderr",
     "output_type": "stream",
     "text": [
      "Running with parameters:[1500.0]:  94%|█████████▍| 344/365 [00:44<00:02,  7.96it/s]"
     ]
    },
    {
     "name": "stdout",
     "output_type": "stream",
     "text": [
      "[0.00230048]\n",
      "[0.]\n"
     ]
    },
    {
     "name": "stderr",
     "output_type": "stream",
     "text": [
      "Running with parameters:[1500.0]:  95%|█████████▍| 345/365 [00:44<00:02,  7.73it/s]"
     ]
    },
    {
     "name": "stdout",
     "output_type": "stream",
     "text": [
      "[0.]\n",
      "[0.10717043]\n"
     ]
    },
    {
     "name": "stderr",
     "output_type": "stream",
     "text": [
      "Running with parameters:[1500.0]:  95%|█████████▌| 347/365 [00:44<00:02,  7.39it/s]"
     ]
    },
    {
     "name": "stdout",
     "output_type": "stream",
     "text": [
      "[0.12901181]\n",
      "[0.04504139]\n"
     ]
    },
    {
     "name": "stderr",
     "output_type": "stream",
     "text": [
      "Running with parameters:[1500.0]:  96%|█████████▌| 349/365 [00:44<00:02,  7.34it/s]"
     ]
    },
    {
     "name": "stdout",
     "output_type": "stream",
     "text": [
      "[0.]\n",
      "[0.00306112]\n"
     ]
    },
    {
     "name": "stderr",
     "output_type": "stream",
     "text": [
      "Running with parameters:[1500.0]:  96%|█████████▋| 352/365 [00:45<00:01,  8.09it/s]"
     ]
    },
    {
     "name": "stdout",
     "output_type": "stream",
     "text": [
      "[0.00666633]\n",
      "[0.15086456]\n"
     ]
    },
    {
     "name": "stderr",
     "output_type": "stream",
     "text": [
      "Running with parameters:[1500.0]:  97%|█████████▋| 353/365 [00:45<00:01,  8.26it/s]"
     ]
    },
    {
     "name": "stdout",
     "output_type": "stream",
     "text": [
      "[0.05661596]\n",
      "[0.42716257]\n"
     ]
    },
    {
     "name": "stderr",
     "output_type": "stream",
     "text": [
      "Running with parameters:[1500.0]:  97%|█████████▋| 355/365 [00:45<00:01,  8.36it/s]"
     ]
    },
    {
     "name": "stdout",
     "output_type": "stream",
     "text": [
      "[0.79826457]\n",
      "[3.34637483]\n"
     ]
    },
    {
     "name": "stderr",
     "output_type": "stream",
     "text": [
      "Running with parameters:[1500.0]:  98%|█████████▊| 357/365 [00:45<00:01,  7.55it/s]"
     ]
    },
    {
     "name": "stdout",
     "output_type": "stream",
     "text": [
      "[2.83928846]\n",
      "[0.33831495]\n"
     ]
    },
    {
     "name": "stderr",
     "output_type": "stream",
     "text": [
      "Running with parameters:[1500.0]:  99%|█████████▊| 360/365 [00:46<00:00,  8.18it/s]"
     ]
    },
    {
     "name": "stdout",
     "output_type": "stream",
     "text": [
      "[1.93377722]\n",
      "[10.1667069]\n"
     ]
    },
    {
     "name": "stderr",
     "output_type": "stream",
     "text": [
      "Running with parameters:[1500.0]:  99%|█████████▉| 362/365 [00:46<00:00,  8.50it/s]"
     ]
    },
    {
     "name": "stdout",
     "output_type": "stream",
     "text": [
      "[2.3248022]\n",
      "[3.59202939]\n"
     ]
    },
    {
     "name": "stderr",
     "output_type": "stream",
     "text": [
      "Running with parameters:[1500.0]:  99%|█████████▉| 363/365 [00:46<00:00,  7.95it/s]"
     ]
    },
    {
     "name": "stdout",
     "output_type": "stream",
     "text": [
      "[7.43644249]\n",
      "[24.1949944]\n"
     ]
    },
    {
     "name": "stderr",
     "output_type": "stream",
     "text": [
      "Running with parameters:[1500.0]: 100%|██████████| 365/365 [00:46<00:00,  7.81it/s]"
     ]
    },
    {
     "name": "stdout",
     "output_type": "stream",
     "text": [
      "[0.5778181]\n"
     ]
    },
    {
     "name": "stderr",
     "output_type": "stream",
     "text": [
      "\n"
     ]
    }
   ],
   "source": [
    "desc = f\"Running with parameters:{parameters}\"\n",
    "variable_overtime = []\n",
    "variable_time = []\n",
    "for current_time in tqdm(time_range, desc=desc):\n",
    "    \n",
    "    # Store model time and variable output after the spin up period\n",
    "    if current_time >= period[\"start\"]:\n",
    "        \n",
    "        #store current time of model into variable_time\n",
    "        now = num2date(\n",
    "            model.get_current_time(),\n",
    "            time_units,\n",
    "            only_use_cftime_datetimes=False\n",
    "        )\n",
    "        variable_time.append(now) #.append(now.strftime(\"%Y-%m-%d\"))\n",
    "        \n",
    "        #store value (discharge) of model in variable_overtime\n",
    "        value = model.get_value(variable)[0]\n",
    "        variable_overtime.append(value)\n",
    "    \n",
    "    #update the model a single timestep\n",
    "    model.update()\n",
    "    "
   ]
  },
  {
   "cell_type": "code",
   "execution_count": 18,
   "metadata": {},
   "outputs": [],
   "source": [
    "# convert model output to xArray data array\n",
    "da = xr.DataArray(\n",
    "    np.array(variable_overtime),\n",
    "    coords={\n",
    "        \"longitude\": lon,\n",
    "        \"latitude\": lat,\n",
    "        \"time\": np.array(variable_time)\n",
    "    },\n",
    "    dims=[\"time\"],\n",
    "    name=variable,\n",
    "    attrs={\"units\": model.get_var_units(variable)},\n",
    ")\n"
   ]
  },
  {
   "cell_type": "code",
   "execution_count": 19,
   "metadata": {},
   "outputs": [
    {
     "name": "stdout",
     "output_type": "stream",
     "text": [
      "flux_out_Q\n"
     ]
    }
   ],
   "source": [
    "print(variable)"
   ]
  },
  {
   "cell_type": "code",
   "execution_count": 20,
   "metadata": {},
   "outputs": [],
   "source": [
    "#clear up the model object, including shutting down the container\n",
    "model.finalize()\n",
    "del model"
   ]
  },
  {
   "cell_type": "markdown",
   "metadata": {},
   "source": [
    "## Get the catchment area in m2 to be used "
   ]
  },
  {
   "cell_type": "code",
   "execution_count": 21,
   "metadata": {},
   "outputs": [
    {
     "name": "stdout",
     "output_type": "stream",
     "text": [
      "The catchment area is: 28101200000.0\n"
     ]
    }
   ],
   "source": [
    "# project directories for model input i.e. shape files and forcing\n",
    "shapefile = DATA_HOME / \"marrmot\"/ \"marrmotForcing\" / f\"Moselle.shp\"\n",
    "shape = shapereader.Reader(shapefile)\n",
    "attr = next(shape.records())\n",
    "area = attr.attributes[\"SUB_AREA\"] * 1e6\n",
    "print(\"The catchment area is:\", area)"
   ]
  },
  {
   "cell_type": "markdown",
   "metadata": {},
   "source": [
    "## Get GRDC observation data to be used in calibration and comparison"
   ]
  },
  {
   "cell_type": "code",
   "execution_count": 22,
   "metadata": {},
   "outputs": [],
   "source": [
    "# add GRDC directory to environment variables\n",
    "\n",
    "\n",
    "\n",
    "observations = get_grdc_data(station_id, start_date=period['start'].strftime('%Y-%m-%d'), end_date=period['end'].strftime('%Y-%m-%d'))\n",
    "grdc_obs = observations.to_dataframe().rename(columns = {'streamflow': 'GRDC'})\n",
    "grdc_lon = observations.attrs['grdc_longitude_in_arc_degree']\n",
    "grdc_lat = observations.attrs['grdc_latitude_in_arc_degree']\n",
    "\n"
   ]
  },
  {
   "cell_type": "markdown",
   "metadata": {},
   "source": [
    "## Compare with observation at grdc station"
   ]
  },
  {
   "cell_type": "code",
   "execution_count": 23,
   "metadata": {},
   "outputs": [],
   "source": [
    "# convert simulated streamflow to same units as observation\n",
    "simulations = da.values * area * conversion\n",
    "\n",
    "# Convert model simulations to DataFrame\n",
    "simulations = pd.DataFrame(simulations).rename(columns={0:\"marrmot\"})\n",
    "simulations.index = pd.to_datetime(da.time.values)\n",
    "simulations.index = simulations.index.date\n",
    "simulations.index.name = \"time\"\n",
    "\n",
    "# Convert grdc observations to DataFrame\n",
    "#observations = observations_ds.to_dataframe().rename(columns={\"streamflow\": \"GRDC\"})\n",
    "#observations.index = observations.index.date\n",
    "#observations.index.name = \"time\"\n",
    "\n",
    "discharge = pd.concat([simulations, grdc_obs], axis=1, sort=False)"
   ]
  },
  {
   "cell_type": "code",
   "execution_count": 24,
   "metadata": {},
   "outputs": [
    {
     "data": {
      "image/png": "[encoded data removed]",
      "text/plain": [
       "<Figure size 720x432 with 1 Axes>"
      ]
     },
     "metadata": {},
     "output_type": "display_data"
    }
   ],
   "source": [
    "hv.plot(\n",
    "    discharge[[\"marrmot\", \"GRDC\"]],\n",
    "    title=f\"Daily hydrograph of {catchment}\",\n",
    "    linestyles=[\"r-\", \"k-\"],\n",
    "    legend=(\"Simulated\", \"Observed\"),\n",
    "    labels=[\"Date\", \"Streamflow $\\\\left(m^{3} s^{-1}\\\\right)$\"],\n",
    "    metrics=[\"ME\", \"NSE\", \"SA\"],\n",
    "    grid=True,\n",
    ")\n",
    "plt.show()"
   ]
  }
 ],
 "metadata": {
  "anaconda-cloud": {},
  "kernelspec": {
   "display_name": "Python 3",
   "language": "python",
   "name": "python3"
  },
  "language_info": {
   "codemirror_mode": {
    "name": "ipython",
    "version": 3
   },
   "file_extension": ".py",
   "mimetype": "text/x-python",
   "name": "python",
   "nbconvert_exporter": "python",
   "pygments_lexer": "ipython3",
   "version": "3.7.7"
  }
 },
 "nbformat": 4,
 "nbformat_minor": 4
}
