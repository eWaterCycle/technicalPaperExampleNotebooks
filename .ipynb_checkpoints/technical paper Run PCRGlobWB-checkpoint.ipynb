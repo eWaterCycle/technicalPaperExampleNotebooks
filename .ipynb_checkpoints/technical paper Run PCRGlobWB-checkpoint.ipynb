{
 "cells": [
  {
   "cell_type": "markdown",
   "metadata": {},
   "source": [
    "## Stuff needed to get things going\n",
    "### TODO This should reduce to a few lines of common imports"
   ]
  },
  {
   "cell_type": "code",
   "execution_count": 1,
   "metadata": {},
   "outputs": [],
   "source": [
    "from os import environ, remove\n",
    "from configparser import ConfigParser\n",
    "from glob import glob\n",
    "from pathlib import Path\n",
    "\n",
    "import numpy as np\n",
    "import pandas as pd\n",
    "import xarray as xr\n",
    "import matplotlib.pyplot as plt\n",
    "from cartopy import crs\n",
    "from cftime import num2date\n",
    "\n",
    "import hydrostats.metrics as hm\n",
    "\n",
    "import pickle\n",
    "\n",
    "from grpc4bmi.bmi_client_docker import BmiClientDocker\n",
    "from ewatercycle.observation.grdc import get_grdc_data"
   ]
  },
  {
   "cell_type": "markdown",
   "metadata": {},
   "source": [
    "### TODO functions needed to port data from one format / library to another. This should become part of the imports above"
   ]
  },
  {
   "cell_type": "code",
   "execution_count": 2,
   "metadata": {},
   "outputs": [],
   "source": [
    "def var_to_xarray(model, variable):\n",
    "    # Get grid properties from model (x = latitude !!)\n",
    "    # could be speedup, lots of bmi calls are done here that dont change between updates\n",
    "    shape = model.get_grid_shape(model.get_var_grid(variable))\n",
    "    lat = model.get_grid_x(model.get_var_grid(variable))\n",
    "    lon = model.get_grid_y(model.get_var_grid(variable))\n",
    "    time = num2date(model.get_current_time(), model.get_time_units())\n",
    "\n",
    "    # Get model data for variable at current timestep\n",
    "    data = model.get_value(variable)\n",
    "    data = np.reshape(data, shape)\n",
    "\n",
    "    # Create xarray object\n",
    "    da = xr.DataArray(data, \n",
    "                      coords = {'longitude': lon, 'latitude': lat, 'time': time}, \n",
    "                      dims = ['latitude', 'longitude'],\n",
    "                      name = variable,\n",
    "                      attrs = {'units': model.get_var_units(variable)}\n",
    "                     )\n",
    "\n",
    "    # Masked invalid values on return array:\n",
    "    return da.where(da != -999)"
   ]
  },
  {
   "cell_type": "markdown",
   "metadata": {
    "tags": [
     "parameters"
    ]
   },
   "source": [
    "# **Settings for GRDC station for final comparison of streamflow**\n",
    "\n",
    "### TODO start and end time should be set for the experiment, currently double in model configuration file and here."
   ]
  },
  {
   "cell_type": "code",
   "execution_count": 3,
   "metadata": {
    "tags": [
     "parameters"
    ]
   },
   "outputs": [],
   "source": [
    "# Settings\n",
    "dstart = '2002-01-01'\n",
    "dend = '2002-12-31'\n",
    "station_id = '6335020' # GRDC station ID\n",
    "basin_name = 'Rhine'"
   ]
  },
  {
   "cell_type": "markdown",
   "metadata": {},
   "source": [
    "# **Pcrglobwb config file settings**\n",
    "Set the pcrglobwb output directory in working directory.                                                                                                                - \n",
    "- outputDir    = ./output\n",
    "\n",
    "Set the input directory map in an absolute path.                                                                                                                      The input forcing and parameter directories and files will be relative to this.\n",
    "- inputDir     = /mnt/data/examples/technical_paper/pcr-globwb/input/\n",
    "\n",
    "### TODO check if forcing_dir is actually used"
   ]
  },
  {
   "cell_type": "code",
   "execution_count": 5,
   "metadata": {
    "tags": [
     "parameters"
    ]
   },
   "outputs": [],
   "source": [
    "# currently global data are available on cartesius\n",
    "input_dir='/mnt/data/examples/technical_paper/pcr-globwb/input/'\n",
    "output_dir='/mnt/home/user42/output'\n",
    "forcing_dir = '/mnt/data/examples/technical_paper/pcr-globwb/input/'\n",
    "\n",
    "setting_file = '/mnt/data/examples/technical_paper/pcr-globwb/input/rhine_05min_era5.ini'\n"
   ]
  },
  {
   "cell_type": "markdown",
   "metadata": {},
   "source": [
    "## Some info on files that must be provided for PCRGlobWB\n",
    "Map of clone (must be provided in PCRaster maps) \n",
    "- Spatial resolution and coverage are based on this map:  \n",
    "cloneMap     = global_05min/cloneMaps/rhine_05min.map\n",
    "\n",
    "The area/landmask of interest: \n",
    "If None, area/landmask is limited for cells with ldd value. \n",
    "- landmask     = global_05min/cloneMaps/rhine_05min.map\n",
    "\n",
    "- startTime = 2002-01-01 endTime   = 2002-12-31  Format: YYYY-MM-DD ; The model runs on daily time step. "
   ]
  },
  {
   "cell_type": "markdown",
   "metadata": {},
   "source": [
    "## Experiment starts now: initializing and Running the model\n",
    "First cell creates the model object and starts the container. It also passes the configuration file through the initialize command."
   ]
  },
  {
   "cell_type": "code",
   "execution_count": 6,
   "metadata": {},
   "outputs": [],
   "source": [
    "model = BmiClientDocker(image='ewatercycle/pcrg-grpc4bmi:setters', image_port=55555,\n",
    "\n",
    "                   input_dir=input_dir,\n",
    "\n",
    "                   output_dir=output_dir)\n",
    "\n",
    " \n",
    "\n",
    "model.initialize(setting_file)"
   ]
  },
  {
   "cell_type": "markdown",
   "metadata": {},
   "source": [
    "### Running the model\n",
    "every timestep, the \"discarge\" variable is stored in \"output\". Since PCRGlobWB is a distributed model, discharge is a map, so xArray is used as data type for storing the output. "
   ]
  },
  {
   "cell_type": "code",
   "execution_count": null,
   "metadata": {},
   "outputs": [
    {
     "name": "stdout",
     "output_type": "stream",
     "text": [
      "Running pcrglobwb\n",
      "Current time: 2002-01-23 00:00:00\r"
     ]
    }
   ],
   "source": [
    "output = []\n",
    "time_units = model.get_time_units()\n",
    "print(f'Running pcrglobwb', flush=True)\n",
    "while model.get_current_time() < model.get_end_time():\n",
    "    time = num2date(model.get_current_time(), time_units)\n",
    "    print(f'Current time: {time}', end=\"\\r\")\n",
    "    model.update()\n",
    "    output.append(var_to_xarray(model, variable=\"discharge\"))\n",
    "print('')\n"
   ]
  },
  {
   "cell_type": "markdown",
   "metadata": {},
   "source": [
    "### cleanup after the model run\n",
    "After the model has run and the output of the experiment is stored, the container should be shut down properly, using the finalize command. \n",
    "\n",
    "### TODO: remove pickle and run entire notebook when done for publication"
   ]
  },
  {
   "cell_type": "code",
   "execution_count": null,
   "metadata": {},
   "outputs": [],
   "source": [
    "model.finalize()\n",
    "del model"
   ]
  },
  {
   "cell_type": "code",
   "execution_count": null,
   "metadata": {},
   "outputs": [],
   "source": [
    "data  = xr.concat(output, dim='time')"
   ]
  },
  {
   "cell_type": "code",
   "execution_count": null,
   "metadata": {},
   "outputs": [],
   "source": [
    "f = open('modelrunOutputTemp.pckl', 'wb')\n",
    "pickle.dump(data,f)\n"
   ]
  },
  {
   "cell_type": "code",
   "execution_count": null,
   "metadata": {},
   "outputs": [],
   "source": [
    "f.close()"
   ]
  },
  {
   "cell_type": "markdown",
   "metadata": {},
   "source": [
    "# **Import GRDC observations**\n",
    "\n",
    "Read the GRDC data for the period of the experiment, for the station given above. \n",
    "If you are not on jupyter.ewatercycle.org or cartesius, download the GRDC https://www.bafg.de/GRDC/EN/02_srvcs/21_tmsrs/riverdischarge_node.html and set the directory below in GRDC_DATA_HOME env var.\n",
    "\n",
    "### TODO the four lines at the end of the cell should become part of the get_grdc_data function, which (I think) should return a dict."
   ]
  },
  {
   "cell_type": "code",
   "execution_count": null,
   "metadata": {},
   "outputs": [],
   "source": [
    "#on Cartesius:\n",
    "#environ['GRDC_DATA_HOME']= '/projects/0/wtrcycle/GRDC/GRDC_GCOSGTN-H_27_03_2019'\n",
    "\n",
    "#on jupyter.ewatercycle.org\n",
    "environ['GRDC_DATA_HOME']= '/mnt/data/grdc/dailies' \n",
    "\n",
    "observations = get_grdc_data(station_id, start_date=dstart, end_date=dend)\n",
    "grdc_obs = observations.to_dataframe().rename(columns = {'streamflow': 'GRDC'})\n",
    "grdc_lon = observations.attrs['grdc_longitude_in_arc_degree']\n",
    "grdc_lat = observations.attrs['grdc_latitude_in_arc_degree']"
   ]
  },
  {
   "cell_type": "markdown",
   "metadata": {},
   "source": [
    "# Plot the results"
   ]
  },
  {
   "cell_type": "code",
   "execution_count": null,
   "metadata": {},
   "outputs": [],
   "source": [
    "f = open('modelrunOutputTemp.pckl', 'rb')\n",
    "data = pickle.load(f)\n",
    "f.close()"
   ]
  },
  {
   "cell_type": "code",
   "execution_count": null,
   "metadata": {},
   "outputs": [],
   "source": [
    "fig, axs = plt.subplots(1, 1, figsize=(10, 10), dpi=120)\n",
    "\n",
    "data.isel(time=-1).plot(ax=axs, cmap='YlGnBu', robust=True)\n",
    "axs.set_title('test')\n",
    "plt.tight_layout()\n",
    "fig.savefig(f'pcrglobwb_RolfTestRhine_discharge_map', bbox_inches='tight', dpi=300)"
   ]
  },
  {
   "cell_type": "code",
   "execution_count": null,
   "metadata": {},
   "outputs": [],
   "source": [
    "pad=.2\n",
    "\n",
    "# Write data for model output at GRDC location to pandas series,\n",
    "# Use padding and max to correct for GRDC station location error\n",
    "dataAtGRDCLocation = data.sel(longitude=slice(grdc_lon-pad, grdc_lon+pad), \n",
    "                         latitude=slice(grdc_lat-pad, grdc_lat+pad)\n",
    "                        ).max(['longitude', 'latitude']\n",
    "                        ).rename('ERA5'\n",
    "                        ).to_dataframe()\n",
    "\n",
    "dataAtGRDCLocation.index=dataAtGRDCLocation.index.to_datetimeindex()\n"
   ]
  },
  {
   "cell_type": "code",
   "execution_count": null,
   "metadata": {},
   "outputs": [],
   "source": [
    "# Combine timeseries of ERA-Interim, ERA5 and GRDC observations in a pandas dataframe\n",
    "df = pd.concat([dataAtGRDCLocation, grdc_obs],axis = 1)\n",
    "\n",
    "# Note: the data come at different time stamps\n",
    "print(df.head())\n",
    "\n",
    "# For now, interpolating to get similar sets:\n",
    "df = df.fillna(method='ffill').dropna()\n",
    "print(df.head())"
   ]
  },
  {
   "cell_type": "code",
   "execution_count": null,
   "metadata": {},
   "outputs": [],
   "source": [
    "fig, ax = plt.subplots(dpi=120)\n",
    "df.plot(ax=ax)\n",
    "ax.set_ylim(0, df.GRDC.max())\n",
    "ax.set_ylabel('Streamflow (m$^3$ s$^{-1}$)')\n",
    "ax.legend(['PCRGlobWB forced with ERA5','Observations from GRDC'])\n",
    "\n",
    "dataset='ERA5'\n",
    "yloc=0.6\n",
    "ax.text(1.02, yloc, f\"{dataset}:\\n\"\n",
    "        f\"NSE: {hm.nse(df[dataset], df['GRDC']):.2f} \\n\"\n",
    "        f\"KGE (2009): {hm.kge_2009(df[dataset], df['GRDC']):.2f}\\n\"\n",
    "        f\"SA: {hm.sa(df[dataset], df['GRDC']):.2f}\\n\"\n",
    "        f\"ME: {hm.me(df[dataset], df['GRDC']):.2f}\",\n",
    "        transform=ax.transAxes, va='top')\n",
    "\n",
    "fig.savefig(f'pcrglobwb_{basin_name}_hydrograph', bbox_inches='tight', dpi=300)\n"
   ]
  }
 ],
 "metadata": {
  "kernelspec": {
   "display_name": "Python 3",
   "language": "python",
   "name": "python3"
  },
  "language_info": {
   "codemirror_mode": {
    "name": "ipython",
    "version": 3
   },
   "file_extension": ".py",
   "mimetype": "text/x-python",
   "name": "python",
   "nbconvert_exporter": "python",
   "pygments_lexer": "ipython3",
   "version": "3.7.7"
  }
 },
 "nbformat": 4,
 "nbformat_minor": 4
}
