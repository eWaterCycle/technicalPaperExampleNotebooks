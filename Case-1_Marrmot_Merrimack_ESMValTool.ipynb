{
 "cells": [
  {
   "cell_type": "markdown",
   "id": "3f55cf2e",
   "metadata": {},
   "source": [
    "![image](https://github.com/eWaterCycle/ewatercycle/raw/main/docs/examples/logo.png)"
   ]
  },
  {
   "cell_type": "markdown",
   "id": "3d68247b",
   "metadata": {},
   "source": [
    "# Case study -1: Hello world. Generate forcings and run Marrmot model\n",
    "\n",
    "This notebook demostractes how to use a model in eWatercycle by showing how to run a model on a catchment and forcing data (ERA5). This notebook also contains the steps for the preprocessing of the forcing data into model specific datasets using ESMValTool.\n",
    "\n",
    "The model used in this notebook is:\n",
    "\n",
    "* [MARRMoT](https://github.com/wknoben/MARRMoT) M01 Collie River 1 (traditional bucket)\n"
   ]
  },
  {
   "cell_type": "markdown",
   "id": "3d71e7fd",
   "metadata": {},
   "source": [
    "### Import statements\n",
    "We'll be using the following modules"
   ]
  },
  {
   "cell_type": "code",
   "execution_count": 1,
   "id": "2cee2123-404f-4efb-9452-4810ab7e33a9",
   "metadata": {},
   "outputs": [],
   "source": [
    "import warnings\n",
    "warnings.filterwarnings(\"ignore\", category=UserWarning)\n",
    "\n",
    "import logging\n",
    "logger_esmvalcore = logging.getLogger('esmvalcore')\n",
    "logger_esmvalcore.setLevel(logging.WARNING)\n",
    "\n",
    "import pandas as pd\n",
    "from cartopy.io import shapereader\n",
    "\n",
    "import ewatercycle.forcing\n",
    "import ewatercycle.models\n",
    "import ewatercycle.analysis\n",
    "import ewatercycle.observation.grdc"
   ]
  },
  {
   "cell_type": "markdown",
   "id": "88e47db0",
   "metadata": {},
   "source": [
    "### System configuration\n",
    "\n",
    "This notebook was run on cartesius.surfsara.nl as it has a big subset of ERA5 data files, GRDC data and can run models in Singularity containers. The following configuration files are available on that cluster:\n",
    "\n",
    "* ~/.esmvaltool/config-user.yml, tells where ESMValTool can find raw ERA5 data files and shape files\n",
    "* ~/.config/ewatercycle/ewatercycle.yaml, tells ewatercycle Python package where to find GRDC data and which container image to use\n",
    "\n",
    "More information about data, configuration and installation instructions can be found in the [System setup](https://ewatercycle.readthedocs.io/en/latest/system_setup.html) in the eWaterCycle documentation."
   ]
  },
  {
   "cell_type": "markdown",
   "id": "96b1eb3e",
   "metadata": {},
   "source": [
    "### Experiment settings\n",
    "\n",
    "Discharge of the Merrimack river will be modelled for 2002."
   ]
  },
  {
   "cell_type": "code",
   "execution_count": 6,
   "id": "87ef7c19",
   "metadata": {},
   "outputs": [],
   "source": [
    "dataset = \"ERA5\"\n",
    "spinup_start_date = \"2001-01-01T00:00:00Z\"\n",
    "spinup_end_time = \"2001-12-31T00:00:00Z\"\n",
    "start_date = \"2002-01-01T00:00:00Z\"\n",
    "end_date = \"2002-12-31T00:00:00Z\"\n",
    "shapefile = \"/projects/0/wtrcycle/comparison/recipes_auxiliary_datasets/Lorentz_Basin_Shapefiles/Merrimack/Merrimack.shp\"\n",
    "\n",
    "# GRDC observation station for Merrimack river\n",
    "grdc_station_id = \"4147380\""
   ]
  },
  {
   "cell_type": "markdown",
   "id": "782657ee",
   "metadata": {},
   "source": [
    "### Model specific settings"
   ]
  },
  {
   "cell_type": "code",
   "execution_count": 3,
   "id": "78deeafd",
   "metadata": {},
   "outputs": [],
   "source": [
    "# Values based on previous calibration\n",
    "maximum_soil_moisture_storage = 1999.0\n",
    "initial_soil_moisture_storage = 0.9 * maximum_soil_moisture_storage\n",
    "\n",
    "discharge_variable = \"flux_out_Q\"\n",
    "# flux_out_Q unit conversion factor from mm/day to m3/s\n",
    "conversion_mmday2m3s = 1 / (1000 * 86400)"
   ]
  },
  {
   "cell_type": "markdown",
   "id": "2b7c873c",
   "metadata": {},
   "source": [
    "### Pre processing model forcing using ESMValTool"
   ]
  },
  {
   "cell_type": "code",
   "execution_count": 4,
   "id": "4948aba1",
   "metadata": {
    "tags": []
   },
   "outputs": [
    {
     "name": "stdout",
     "output_type": "stream",
     "text": [
      "{'auxiliary_data_dir': PosixPath('/projects/0/wtrcycle/comparison/recipes_auxiliary_datasets/Lorentz_Basin_Shapefiles'),\n",
      " 'compress_netcdf': False,\n",
      " 'config_developer_file': None,\n",
      " 'config_file': PosixPath('/home/fakhereh/.esmvaltool/config-user.yml'),\n",
      " 'drs': {'CMIP5': 'default', 'CMIP6': 'default'},\n",
      " 'exit_on_warning': False,\n",
      " 'log_level': 'info',\n",
      " 'max_parallel_tasks': 1,\n",
      " 'output_dir': PosixPath('/scratch-shared/ewatercycle/case-1'),\n",
      " 'output_file_type': 'png',\n",
      " 'plot_dir': PosixPath('/scratch-shared/ewatercycle/case-1/recipe_marrmot_20210720_093954/plots'),\n",
      " 'preproc_dir': PosixPath('/scratch-shared/ewatercycle/case-1/recipe_marrmot_20210720_093954/preproc'),\n",
      " 'profile_diagnostic': False,\n",
      " 'remove_preproc_dir': True,\n",
      " 'rootpath': {'OBS6': [PosixPath('/lustre1/0/wtrcycle/comparison/obs6')]},\n",
      " 'run_dir': PosixPath('/scratch-shared/ewatercycle/case-1/recipe_marrmot_20210720_093954/run'),\n",
      " 'save_intermediary_cubes': False,\n",
      " 'work_dir': PosixPath('/scratch-shared/ewatercycle/case-1/recipe_marrmot_20210720_093954/work'),\n",
      " 'write_netcdf': True,\n",
      " 'write_plots': True}\n",
      "Shapefile /lustre1/0/wtrcycle/comparison/recipes_auxiliary_datasets/Lorentz_Basin_Shapefiles/Merrimack/Merrimack.shp is not in forcing directory /scratch/shared/ewatercycle/case-1/recipe_marrmot_20210720_093954/work/diagnostic_daily/script. So, it won't be saved in /scratch/shared/ewatercycle/case-1/recipe_marrmot_20210720_093954/work/diagnostic_daily/script/ewatercycle_forcing.yaml.\n"
     ]
    }
   ],
   "source": [
    "forcing = ewatercycle.forcing.generate(\n",
    "    target_model='marrmot', \n",
    "    dataset=dataset, \n",
    "    start_time=spinup_start_date,\n",
    "    end_time=end_date, \n",
    "    shape=shapefile,\n",
    ")"
   ]
  },
  {
   "cell_type": "markdown",
   "id": "ca5ee205",
   "metadata": {
    "tags": []
   },
   "source": [
    "Forcing is written in a single Matlab file"
   ]
  },
  {
   "cell_type": "code",
   "execution_count": 6,
   "id": "1c6872d4-ead1-45b3-9cb6-80d63122f07e",
   "metadata": {},
   "outputs": [
    {
     "name": "stdout",
     "output_type": "stream",
     "text": [
      "eWaterCycle forcing\n",
      "-------------------\n",
      "start_time=2001-01-01T00:00:00Z\n",
      "end_time=2002-12-31T00:00:00Z\n",
      "directory=/scratch/shared/ewatercycle/case-1/recipe_marrmot_20210714_145315/work/diagnostic_daily/script\n",
      "shape=/lustre1/0/wtrcycle/comparison/recipes_auxiliary_datasets/Lorentz_Basin_Shapefiles/Merrimack/Merrimack.shp\n",
      "forcing_file=marrmot_ERA5_Merrimack_2001_2002.mat\n"
     ]
    }
   ],
   "source": [
    "print(forcing)"
   ]
  },
  {
   "cell_type": "markdown",
   "id": "8d33184e",
   "metadata": {},
   "source": [
    "### Derived constants"
   ]
  },
  {
   "cell_type": "code",
   "execution_count": 5,
   "id": "8cc33db0",
   "metadata": {},
   "outputs": [
    {
     "name": "stdout",
     "output_type": "stream",
     "text": [
      "The catchment area is: 13016500000.0\n"
     ]
    }
   ],
   "source": [
    "shape = shapereader.Reader(forcing.shape)\n",
    "record = next(shape.records())\n",
    "merrimack_area = record.attributes[\"SUB_AREA\"] * 1e6\n",
    "print(\"The catchment area is:\", merrimack_area)"
   ]
  },
  {
   "cell_type": "markdown",
   "id": "9e2abebe",
   "metadata": {},
   "source": [
    "### Setting up the model object\n",
    "\n",
    "To use a hydrological model, supported by ewatercycle, an object from its class must be instantiated."
   ]
  },
  {
   "cell_type": "code",
   "execution_count": 7,
   "id": "4364debc-4720-44a1-993e-0e1dc69d043e",
   "metadata": {},
   "outputs": [
    {
     "data": {
      "text/plain": [
       "('2020.11',)"
      ]
     },
     "execution_count": 7,
     "metadata": {},
     "output_type": "execute_result"
    }
   ],
   "source": [
    "ewatercycle.models.MarrmotM01.available_versions"
   ]
  },
  {
   "cell_type": "code",
   "execution_count": 8,
   "id": "e940ae2c-39c9-4fb1-846c-2a41db307817",
   "metadata": {},
   "outputs": [
    {
     "name": "stdout",
     "output_type": "stream",
     "text": [
      "eWaterCycle MarrmotM01\n",
      "-------------------\n",
      "Version = 2020.11\n",
      "Parameter set = \n",
      "  None\n",
      "Forcing = \n",
      "  eWaterCycle forcing\n",
      "  -------------------\n",
      "  start_time=2001-01-01T00:00:00Z\n",
      "  end_time=2002-12-31T00:00:00Z\n",
      "  directory=/scratch/shared/ewatercycle/case-1/recipe_marrmot_20210720_093954/work/diagnostic_daily/script\n",
      "  shape=/lustre1/0/wtrcycle/comparison/recipes_auxiliary_datasets/Lorentz_Basin_Shapefiles/Merrimack/Merrimack.shp\n",
      "  forcing_file=marrmot_ERA5_Merrimack_2001_2002.mat\n"
     ]
    }
   ],
   "source": [
    "model = ewatercycle.models.MarrmotM01(version='2020.11', forcing=forcing)\n",
    "print(model)"
   ]
  },
  {
   "cell_type": "markdown",
   "id": "0d35ec9b",
   "metadata": {},
   "source": [
    "Create config file and start up container for Marrmot"
   ]
  },
  {
   "cell_type": "code",
   "execution_count": 9,
   "id": "7ff332ee",
   "metadata": {},
   "outputs": [
    {
     "name": "stdout",
     "output_type": "stream",
     "text": [
      "Running /scratch/shared/ewatercycle/case-1/ewatercycle-marrmot-grpc4bmi_2020.11.sif singularity container on port 43096\n",
      "/scratch/shared/ewatercycle/case-1/marrmot_20210720_094311/marrmot-m01_config.mat\n",
      "/scratch/shared/ewatercycle/case-1/marrmot_20210720_094311\n"
     ]
    }
   ],
   "source": [
    "cfg_file, cfg_dir = model.setup(\n",
    "    # No need to specifiy start and end date, using dates from forcing\n",
    "    maximum_soil_moisture_storage=maximum_soil_moisture_storage,\n",
    "    initial_soil_moisture_storage=initial_soil_moisture_storage,\n",
    ")\n",
    "print(cfg_file)\n",
    "print(cfg_dir)"
   ]
  },
  {
   "cell_type": "code",
   "execution_count": 10,
   "id": "8b955946",
   "metadata": {},
   "outputs": [],
   "source": [
    "model.initialize(cfg_file)"
   ]
  },
  {
   "cell_type": "markdown",
   "id": "a269bbcb-1a13-421d-b2f2-941a5967f6c3",
   "metadata": {},
   "source": [
    "Spin up for a year"
   ]
  },
  {
   "cell_type": "code",
   "execution_count": 11,
   "id": "e20e538a",
   "metadata": {},
   "outputs": [],
   "source": [
    "while (model.time_as_isostr < spinup_end_time):\n",
    "    model.update()"
   ]
  },
  {
   "cell_type": "markdown",
   "id": "cacfb61b",
   "metadata": {},
   "source": [
    "### Run model & capture discharge"
   ]
  },
  {
   "cell_type": "code",
   "execution_count": 12,
   "id": "461e1f4e",
   "metadata": {},
   "outputs": [],
   "source": [
    "simulated_discharge = []\n",
    "timestamps = []\n",
    "end_time = model.end_time\n",
    "\n",
    "while (model.time < end_time):\n",
    "    model.update()\n",
    "    timestamps.append(model.time_as_datetime.date())\n",
    "    # Marrmot M01 is a lumped model, so only single value is returned\n",
    "    value_in_mmday = model.get_value(discharge_variable)[0]\n",
    "    # Convert from mm/day to m3/s\n",
    "    value = value_in_mmday * merrimack_area * conversion_mmday2m3s\n",
    "    simulated_discharge.append(value)"
   ]
  },
  {
   "cell_type": "markdown",
   "id": "42a07ebf-fd99-4723-a918-8ddd5f7d61fd",
   "metadata": {},
   "source": [
    "The `timestamps` and `simulated_discharge` variables are now filled with datetime values and discharges for each simulated day."
   ]
  },
  {
   "cell_type": "markdown",
   "id": "3e493fcd",
   "metadata": {},
   "source": [
    "### Clean up after the model run\n",
    "The models have to be 'finalized', which deletes any temporary files and the containers have to be shut down."
   ]
  },
  {
   "cell_type": "code",
   "execution_count": 13,
   "id": "eff0bf72",
   "metadata": {},
   "outputs": [],
   "source": [
    "model.finalize()"
   ]
  },
  {
   "cell_type": "markdown",
   "id": "efff53d0",
   "metadata": {},
   "source": [
    "### Import GRDC observations\n",
    "\n",
    "Read the GRDC data for the period of the experiment, for the station given above. \n",
    "If you are not on jupyter.ewatercycle.org or Cartesius, download the GRDC https://www.bafg.de/GRDC/EN/02_srvcs/21_tmsrs/riverdischarge_node.html and set the `grdc_location` field in `~/.config/.ewatercycle/ewatercycle.yaml` to your download location."
   ]
  },
  {
   "cell_type": "code",
   "execution_count": 14,
   "id": "7a890d69",
   "metadata": {},
   "outputs": [
    {
     "name": "stdout",
     "output_type": "stream",
     "text": [
      "GRDC station 4147380 is selected. The river name is: MERRIMACK RIVER.The coordinates are: (42.6459, -71.2984).The catchment area in km2 is: 12004.7. There are 0 missing values during 2002-01-01T00:00:00Z_2002-12-31T00:00:00Z at this station. See the metadata for more information.\n"
     ]
    },
    {
     "data": {
      "text/html": [
       "<div>\n",
       "<style scoped>\n",
       "    .dataframe tbody tr th:only-of-type {\n",
       "        vertical-align: middle;\n",
       "    }\n",
       "\n",
       "    .dataframe tbody tr th {\n",
       "        vertical-align: top;\n",
       "    }\n",
       "\n",
       "    .dataframe thead th {\n",
       "        text-align: right;\n",
       "    }\n",
       "</style>\n",
       "<table border=\"1\" class=\"dataframe\">\n",
       "  <thead>\n",
       "    <tr style=\"text-align: right;\">\n",
       "      <th></th>\n",
       "      <th>streamflow</th>\n",
       "    </tr>\n",
       "    <tr>\n",
       "      <th>time</th>\n",
       "      <th></th>\n",
       "    </tr>\n",
       "  </thead>\n",
       "  <tbody>\n",
       "    <tr>\n",
       "      <th>2002-01-01</th>\n",
       "      <td>56.067</td>\n",
       "    </tr>\n",
       "    <tr>\n",
       "      <th>2002-01-02</th>\n",
       "      <td>54.085</td>\n",
       "    </tr>\n",
       "    <tr>\n",
       "      <th>2002-01-03</th>\n",
       "      <td>48.988</td>\n",
       "    </tr>\n",
       "    <tr>\n",
       "      <th>2002-01-04</th>\n",
       "      <td>50.121</td>\n",
       "    </tr>\n",
       "    <tr>\n",
       "      <th>2002-01-05</th>\n",
       "      <td>47.572</td>\n",
       "    </tr>\n",
       "    <tr>\n",
       "      <th>...</th>\n",
       "      <td>...</td>\n",
       "    </tr>\n",
       "    <tr>\n",
       "      <th>2002-12-27</th>\n",
       "      <td>222.853</td>\n",
       "    </tr>\n",
       "    <tr>\n",
       "      <th>2002-12-28</th>\n",
       "      <td>228.800</td>\n",
       "    </tr>\n",
       "    <tr>\n",
       "      <th>2002-12-29</th>\n",
       "      <td>218.039</td>\n",
       "    </tr>\n",
       "    <tr>\n",
       "      <th>2002-12-30</th>\n",
       "      <td>203.031</td>\n",
       "    </tr>\n",
       "    <tr>\n",
       "      <th>2002-12-31</th>\n",
       "      <td>195.952</td>\n",
       "    </tr>\n",
       "  </tbody>\n",
       "</table>\n",
       "<p>365 rows × 1 columns</p>\n",
       "</div>"
      ],
      "text/plain": [
       "            streamflow\n",
       "time                  \n",
       "2002-01-01      56.067\n",
       "2002-01-02      54.085\n",
       "2002-01-03      48.988\n",
       "2002-01-04      50.121\n",
       "2002-01-05      47.572\n",
       "...                ...\n",
       "2002-12-27     222.853\n",
       "2002-12-28     228.800\n",
       "2002-12-29     218.039\n",
       "2002-12-30     203.031\n",
       "2002-12-31     195.952\n",
       "\n",
       "[365 rows x 1 columns]"
      ]
     },
     "execution_count": 14,
     "metadata": {},
     "output_type": "execute_result"
    }
   ],
   "source": [
    "observations, metadata = ewatercycle.observation.grdc.get_grdc_data(\n",
    "    station_id=grdc_station_id,\n",
    "    start_time=start_date,\n",
    "    end_time=end_date,\n",
    ")\n",
    "observations"
   ]
  },
  {
   "cell_type": "markdown",
   "id": "ce2a7c04",
   "metadata": {},
   "source": [
    "### Plot the results\n",
    "\n",
    "Combine simulated and observated discharge into a single dataframe"
   ]
  },
  {
   "cell_type": "code",
   "execution_count": 15,
   "id": "c8543f1b-ef6b-497e-9408-87e36fe64a06",
   "metadata": {},
   "outputs": [
    {
     "data": {
      "text/html": [
       "<div>\n",
       "<style scoped>\n",
       "    .dataframe tbody tr th:only-of-type {\n",
       "        vertical-align: middle;\n",
       "    }\n",
       "\n",
       "    .dataframe tbody tr th {\n",
       "        vertical-align: top;\n",
       "    }\n",
       "\n",
       "    .dataframe thead th {\n",
       "        text-align: right;\n",
       "    }\n",
       "</style>\n",
       "<table border=\"1\" class=\"dataframe\">\n",
       "  <thead>\n",
       "    <tr style=\"text-align: right;\">\n",
       "      <th></th>\n",
       "      <th>simulation</th>\n",
       "      <th>observation</th>\n",
       "    </tr>\n",
       "  </thead>\n",
       "  <tbody>\n",
       "    <tr>\n",
       "      <th>2002-01-01</th>\n",
       "      <td>0.060043</td>\n",
       "      <td>56.067</td>\n",
       "    </tr>\n",
       "    <tr>\n",
       "      <th>2002-01-02</th>\n",
       "      <td>0.072991</td>\n",
       "      <td>54.085</td>\n",
       "    </tr>\n",
       "    <tr>\n",
       "      <th>2002-01-03</th>\n",
       "      <td>0.028182</td>\n",
       "      <td>48.988</td>\n",
       "    </tr>\n",
       "    <tr>\n",
       "      <th>2002-01-04</th>\n",
       "      <td>0.050347</td>\n",
       "      <td>50.121</td>\n",
       "    </tr>\n",
       "    <tr>\n",
       "      <th>2002-01-05</th>\n",
       "      <td>0.002331</td>\n",
       "      <td>47.572</td>\n",
       "    </tr>\n",
       "    <tr>\n",
       "      <th>...</th>\n",
       "      <td>...</td>\n",
       "      <td>...</td>\n",
       "    </tr>\n",
       "    <tr>\n",
       "      <th>2002-12-27</th>\n",
       "      <td>2153.037396</td>\n",
       "      <td>222.853</td>\n",
       "    </tr>\n",
       "    <tr>\n",
       "      <th>2002-12-28</th>\n",
       "      <td>1.905574</td>\n",
       "      <td>228.800</td>\n",
       "    </tr>\n",
       "    <tr>\n",
       "      <th>2002-12-29</th>\n",
       "      <td>0.319505</td>\n",
       "      <td>218.039</td>\n",
       "    </tr>\n",
       "    <tr>\n",
       "      <th>2002-12-30</th>\n",
       "      <td>7.983492</td>\n",
       "      <td>203.031</td>\n",
       "    </tr>\n",
       "    <tr>\n",
       "      <th>2002-12-31</th>\n",
       "      <td>0.346050</td>\n",
       "      <td>195.952</td>\n",
       "    </tr>\n",
       "  </tbody>\n",
       "</table>\n",
       "<p>365 rows × 2 columns</p>\n",
       "</div>"
      ],
      "text/plain": [
       "             simulation  observation\n",
       "2002-01-01     0.060043       56.067\n",
       "2002-01-02     0.072991       54.085\n",
       "2002-01-03     0.028182       48.988\n",
       "2002-01-04     0.050347       50.121\n",
       "2002-01-05     0.002331       47.572\n",
       "...                 ...          ...\n",
       "2002-12-27  2153.037396      222.853\n",
       "2002-12-28     1.905574      228.800\n",
       "2002-12-29     0.319505      218.039\n",
       "2002-12-30     7.983492      203.031\n",
       "2002-12-31     0.346050      195.952\n",
       "\n",
       "[365 rows x 2 columns]"
      ]
     },
     "execution_count": 15,
     "metadata": {},
     "output_type": "execute_result"
    }
   ],
   "source": [
    "simulated_discharge_df = pd.DataFrame(\n",
    "    {'simulation': simulated_discharge}, index=pd.to_datetime(timestamps)\n",
    ")\n",
    "observations_df = observations.rename(\n",
    "    columns={'streamflow': 'observation'}\n",
    ")\n",
    "discharge = simulated_discharge_df.join(observations_df)\n",
    "discharge"
   ]
  },
  {
   "cell_type": "code",
   "execution_count": 16,
   "id": "0de89d10",
   "metadata": {},
   "outputs": [
    {
     "data": {
      "text/plain": [
       "(<Figure size 720x720 with 2 Axes>,\n",
       " (<AxesSubplot:title={'center':'Hydrograph'}, ylabel='Discharge (m$^3$ s$^{-1}$)'>,\n",
       "  <AxesSubplot:>))"
      ]
     },
     "execution_count": 16,
     "metadata": {},
     "output_type": "execute_result"
    },
    {
     "data": {
      "image/png": "[encoded data removed]",
      "text/plain": [
       "<Figure size 720x720 with 2 Axes>"
      ]
     },
     "metadata": {
      "needs_background": "light"
     },
     "output_type": "display_data"
    }
   ],
   "source": [
    "ewatercycle.analysis.hydrograph(\n",
    "    discharge=discharge,\n",
    "    reference='observation',\n",
    ")"
   ]
  },
  {
   "cell_type": "code",
   "execution_count": null,
   "id": "5e4cca88-c196-4fea-9bd8-6cb62705b05a",
   "metadata": {},
   "outputs": [],
   "source": []
  }
 ],
 "metadata": {
  "kernelspec": {
   "display_name": "Python 3 (ipykernel)",
   "language": "python",
   "name": "python3"
  },
  "language_info": {
   "codemirror_mode": {
    "name": "ipython",
    "version": 3
   },
   "file_extension": ".py",
   "mimetype": "text/x-python",
   "name": "python",
   "nbconvert_exporter": "python",
   "pygments_lexer": "ipython3",
   "version": "3.9.5"
  }
 },
 "nbformat": 4,
 "nbformat_minor": 5
}
