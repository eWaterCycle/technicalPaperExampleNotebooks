{
 "cells": [
  {
   "cell_type": "markdown",
   "id": "7e4cd83c",
   "metadata": {},
   "source": [
    "![image](https://www.ewatercycle.org/assets/logo.png)"
   ]
  },
  {
   "cell_type": "markdown",
   "id": "491e2ba5",
   "metadata": {},
   "source": [
    "# Case study -1: Hellow world. Generate forcings and run Marrmot model\n",
    "\n",
    "This notebook demostractes how to use a model in eWatercycle by showing how to run a model on a region and forcing data (ERA5). This notebook also contains the steps for the preprocessing of the forcing data into model specific datasets using ESMValTool.\n",
    "\n",
    "The model used in this notebook is:\n",
    "\n",
    "* Marrmot M01 Collie River 1 (traditional bucket)\n"
   ]
  },
  {
   "cell_type": "markdown",
   "id": "9cfb4543",
   "metadata": {},
   "source": [
    "## Import statements\n",
    "We'll be using the following modules"
   ]
  },
  {
   "cell_type": "code",
   "execution_count": null,
   "id": "e391273a",
   "metadata": {},
   "outputs": [],
   "source": [
    "from datetime import datetime\n",
    "\n",
    "from ewatercycle import forcing\n",
    "from ewatercycle.models import MarrmotM01\n",
    "from ewatercycle.observation.grdc import get_grdc_data\n",
    "from ewatercycle.analysis import hydrograph"
   ]
  },
  {
   "cell_type": "markdown",
   "id": "398637d4",
   "metadata": {},
   "source": [
    "### Directory settings"
   ]
  },
  {
   "cell_type": "markdown",
   "id": "2ff5a7c5",
   "metadata": {},
   "source": [
    "### Experiment settings"
   ]
  },
  {
   "cell_type": "code",
   "execution_count": null,
   "id": "5c114d57",
   "metadata": {},
   "outputs": [],
   "source": [
    "dataset = \"ERA5\"\n",
    "PERIOD = {\"start\": datetime(2001, 1, 1), \"end\": datetime(2002, 1, 15)}"
   ]
  },
  {
   "cell_type": "markdown",
   "id": "6f5f5dd5",
   "metadata": {},
   "source": [
    "### Model specific settings"
   ]
  },
  {
   "cell_type": "markdown",
   "id": "3364d997",
   "metadata": {},
   "source": [
    "### Pre processing model forcing using ESMValTool"
   ]
  },
  {
   "cell_type": "markdown",
   "id": "a0b32c3e",
   "metadata": {},
   "source": [
    "### Generate Model containers"
   ]
  },
  {
   "cell_type": "markdown",
   "id": "92cdb7a5",
   "metadata": {},
   "source": [
    "### Run model & capture discharge"
   ]
  },
  {
   "cell_type": "markdown",
   "id": "322820cf",
   "metadata": {},
   "source": [
    "### Load observations"
   ]
  },
  {
   "cell_type": "markdown",
   "id": "5f1ada5b",
   "metadata": {},
   "source": [
    "### Plot hydrograph"
   ]
  },
  {
   "cell_type": "code",
   "execution_count": null,
   "id": "0052b3f4",
   "metadata": {},
   "outputs": [],
   "source": []
  },
  {
   "cell_type": "code",
   "execution_count": null,
   "id": "f0911725",
   "metadata": {},
   "outputs": [],
   "source": []
  }
 ],
 "metadata": {
  "kernelspec": {
   "display_name": "Python 3",
   "language": "python",
   "name": "python3"
  },
  "language_info": {
   "codemirror_mode": {
    "name": "ipython",
    "version": 3
   },
   "file_extension": ".py",
   "mimetype": "text/x-python",
   "name": "python",
   "nbconvert_exporter": "python",
   "pygments_lexer": "ipython3",
   "version": "3.9.2"
  }
 },
 "nbformat": 4,
 "nbformat_minor": 5
}
