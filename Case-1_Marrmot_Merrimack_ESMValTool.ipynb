{
 "cells": [
  {
   "cell_type": "markdown",
   "id": "fd45e2f2",
   "metadata": {},
   "source": [
    "![image](https://www.ewatercycle.org/assets/logo.png)"
   ]
  },
  {
   "cell_type": "markdown",
   "id": "9dcb244b",
   "metadata": {},
   "source": [
    "# Case study -1: Hellow world. Generate forcings and run Marrmot model\n",
    "\n",
    "This notebook demostractes how to use a model in eWatercycle by showing how to run a model on a catchment and forcing data (ERA5). This notebook also contains the steps for the preprocessing of the forcing data into model specific datasets using ESMValTool.\n",
    "\n",
    "The model used in this notebook is:\n",
    "\n",
    "* Marrmot M01 Collie River 1 (traditional bucket)\n"
   ]
  },
  {
   "cell_type": "markdown",
   "id": "ca37e43c",
   "metadata": {},
   "source": [
    "## Import statements\n",
    "We'll be using the following modules"
   ]
  },
  {
   "cell_type": "code",
   "execution_count": null,
   "id": "d8388cea",
   "metadata": {},
   "outputs": [],
   "source": [
    "from datetime import datetime\n",
    "\n",
    "from cftime import num2date\n",
    "\n",
    "from ewatercycle import forcing\n",
    "from ewatercycle.models import MarrmotM01\n",
    "from ewatercycle.observation.grdc import get_grdc_data\n",
    "from ewatercycle.analysis import hydrograph"
   ]
  },
  {
   "cell_type": "markdown",
   "id": "1be3bcf6",
   "metadata": {},
   "source": [
    "### Directory settings"
   ]
  },
  {
   "cell_type": "code",
   "execution_count": null,
   "id": "5e244f89",
   "metadata": {},
   "outputs": [],
   "source": []
  },
  {
   "cell_type": "markdown",
   "id": "7d506492",
   "metadata": {},
   "source": [
    "### Experiment settings"
   ]
  },
  {
   "cell_type": "code",
   "execution_count": null,
   "id": "2b174de9",
   "metadata": {},
   "outputs": [],
   "source": [
    "dataset = \"ERA5\"\n",
    "start_date = datetime(2001, 1, 1)\n",
    "end_date = datetime(2002, 1, 15)\n",
    "shapefile = \"Merrimack/Merrimack.shp\"\n",
    "\n",
    "# For observations & hydrograph\n",
    "grdc_station_id = \"4147380\""
   ]
  },
  {
   "cell_type": "markdown",
   "id": "d9b6d198",
   "metadata": {},
   "source": [
    "### Model specific settings"
   ]
  },
  {
   "cell_type": "code",
   "execution_count": null,
   "id": "76e01d09",
   "metadata": {},
   "outputs": [],
   "source": [
    "# Values based on existing calibration\n",
    "maximum_soil_moisture_storage = 1999.0\n",
    "initial_soil_moisture_storage = 0.9 * maximum_soil_moisture_storage\n",
    "discharge_variable = \"flux_out_Q\"\n",
    "# flux_out_Q unit conversion factor from mm/day to m3/s\n",
    "conversion_mmday2m3s = 1 / (1000 * 86400)"
   ]
  },
  {
   "cell_type": "markdown",
   "id": "f74104e3",
   "metadata": {},
   "source": [
    "## Derived constants"
   ]
  },
  {
   "cell_type": "code",
   "execution_count": null,
   "id": "698723f0",
   "metadata": {},
   "outputs": [],
   "source": [
    "# project directories for model input i.e. shape files and forcing\n",
    "shape = shapereader.Reader(shapefile)\n",
    "attr = next(shape.records())\n",
    "merrimack_area = attr.attributes[\"SUB_AREA\"] * 1e6\n",
    "print(\"The catchment area is:\", merrimack_area)"
   ]
  },
  {
   "cell_type": "markdown",
   "id": "a844885d",
   "metadata": {},
   "source": [
    "### Pre processing model forcing using ESMValTool"
   ]
  },
  {
   "cell_type": "code",
   "execution_count": null,
   "id": "42bed2f2",
   "metadata": {},
   "outputs": [],
   "source": [
    "forcing_output = forcing.generate(\n",
    "    model='marrmot',\n",
    "    dataset=dataset,\n",
    "    startyear=start_date.year,\n",
    "    endyear=end_date.year,\n",
    "    shapefile=shapefile\n",
    ")\n",
    "forcing_output"
   ]
  },
  {
   "cell_type": "markdown",
   "id": "4d01ef67",
   "metadata": {},
   "source": [
    "### Generate Model container"
   ]
  },
  {
   "cell_type": "code",
   "execution_count": null,
   "id": "1fb7f19b",
   "metadata": {},
   "outputs": [],
   "source": [
    "model = MarrmotM01()\n",
    "cfg_file, cfg_dir = model.setup(\n",
    "    forcing=forcing_output,\n",
    "    maximum_soil_moisture_storage=maximum_soil_moisture_storage,\n",
    "    initial_soil_moisture_storage=initial_soil_moisture_storage,\n",
    ")\n",
    "cfg_file, cfg_dir"
   ]
  },
  {
   "cell_type": "markdown",
   "id": "dbae5e1c",
   "metadata": {},
   "source": [
    "### Run model & capture discharge"
   ]
  },
  {
   "cell_type": "code",
   "execution_count": null,
   "id": "de531bbe",
   "metadata": {},
   "outputs": [],
   "source": [
    "model.initialize(str(cfg_file))"
   ]
  },
  {
   "cell_type": "code",
   "execution_count": null,
   "id": "61e7ab1f",
   "metadata": {},
   "outputs": [],
   "source": [
    "time_units = model.get_time_units()\n",
    "output = {\"time\": [], discharge_variable: []}\n",
    "while (model.get_current_time() < model.get_end_time()):\n",
    "        model.update()\n",
    "        current_time = num2date(\n",
    "            model.get_current_time(),\n",
    "            time_units,\n",
    "            only_use_cftime_datetimes=False\n",
    "        )\n",
    "        output[\"time\"].append(current_time)\n",
    "        value = model.get_value(discharge_variable)\n",
    "        # Marrmot M01 is a lumped model, so only single value is returned\n",
    "        output[discharge_variable].append(value[0])\n"
   ]
  },
  {
   "cell_type": "code",
   "execution_count": null,
   "id": "6ef467b8",
   "metadata": {},
   "outputs": [],
   "source": [
    "# TODO convert flux_out_Q from mm/day to m3/s\n",
    "area = ????"
   ]
  },
  {
   "cell_type": "code",
   "execution_count": null,
   "id": "e2dcd0cf",
   "metadata": {},
   "outputs": [],
   "source": [
    "# Last 10 values\n",
    "output[-10:]"
   ]
  },
  {
   "cell_type": "markdown",
   "id": "9e9e8468",
   "metadata": {},
   "source": [
    "### Load observations"
   ]
  },
  {
   "cell_type": "code",
   "execution_count": null,
   "id": "442b4bfe",
   "metadata": {},
   "outputs": [],
   "source": [
    "observations = get_grdc_data(\n",
    "    station_id=grdc_station_id,\n",
    "    start_date=start_date.strftime(\"%Y-%m-%d\"),\n",
    "    end_date=end_date.strftime(\"%Y-%m-%d\"),\n",
    ")\n",
    "observations"
   ]
  },
  {
   "cell_type": "markdown",
   "id": "31b0f82c",
   "metadata": {},
   "source": [
    "### Plot hydrograph"
   ]
  },
  {
   "cell_type": "code",
   "execution_count": 3,
   "id": "e8ca2609",
   "metadata": {},
   "outputs": [],
   "source": [
    "# TODO combine model output and observations into single dataframe\n",
    "discharge = ???"
   ]
  },
  {
   "cell_type": "code",
   "execution_count": null,
   "id": "4176462d",
   "metadata": {},
   "outputs": [],
   "source": [
    "hydrograph(\n",
    "    discharge=discharge,\n",
    "    reference='observation',\n",
    ")"
   ]
  }
 ],
 "metadata": {
  "kernelspec": {
   "display_name": "Python 3",
   "language": "python",
   "name": "python3"
  },
  "language_info": {
   "codemirror_mode": {
    "name": "ipython",
    "version": 3
   },
   "file_extension": ".py",
   "mimetype": "text/x-python",
   "name": "python",
   "nbconvert_exporter": "python",
   "pygments_lexer": "ipython3",
   "version": "3.9.2"
  }
 },
 "nbformat": 4,
 "nbformat_minor": 5
}
