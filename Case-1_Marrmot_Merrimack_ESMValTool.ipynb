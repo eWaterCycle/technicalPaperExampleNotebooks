{
 "cells": [
  {
   "cell_type": "markdown",
   "id": "3f55cf2e",
   "metadata": {},
   "source": [
    "![image](https://www.ewatercycle.org/assets/logo.png)"
   ]
  },
  {
   "cell_type": "markdown",
   "id": "3d68247b",
   "metadata": {},
   "source": [
    "# Case study -1: Hello world. Generate forcings and run Marrmot model\n",
    "\n",
    "This notebook demostractes how to use a model in eWatercycle by showing how to run a model on a catchment and forcing data (ERA5). This notebook also contains the steps for the preprocessing of the forcing data into model specific datasets using ESMValTool.\n",
    "\n",
    "The model used in this notebook is:\n",
    "\n",
    "* Marrmot M01 Collie River 1 (traditional bucket)\n"
   ]
  },
  {
   "cell_type": "markdown",
   "id": "3d71e7fd",
   "metadata": {},
   "source": [
    "### Import statements\n",
    "We'll be using the following modules"
   ]
  },
  {
   "cell_type": "code",
   "execution_count": 1,
   "id": "169184d2",
   "metadata": {},
   "outputs": [
    {
     "name": "stderr",
     "output_type": "stream",
     "text": [
      "/home/verhoes/conda/envs/ewatercycle2/lib/python3.9/site-packages/esmvalcore/experimental/_warnings.py:18: UserWarning: \n",
      "  Thank you for trying out the new ESMValCore API.\n",
      "  Note that this API is experimental and may be subject to change.\n",
      "  More info: https://github.com/ESMValGroup/ESMValCore/issues/498\n",
      "/home/verhoes/conda/envs/ewatercycle2/lib/python3.9/site-packages/esmvalcore/experimental/config/_config_validators.py:254: ESMValToolDeprecationWarning: `write_plots` will be removed in 2.4.0.\n",
      "/home/verhoes/conda/envs/ewatercycle2/lib/python3.9/site-packages/esmvalcore/experimental/config/_config_validators.py:255: ESMValToolDeprecationWarning: `write_netcdf` will be removed in 2.4.0.\n"
     ]
    }
   ],
   "source": [
    "from datetime import datetime\n",
    "\n",
    "from cftime import num2date\n",
    "from esmvalcore.experimental import CFG as ESMVALTOOL_CFG\n",
    "import pandas as pd\n",
    "from cartopy.io import shapereader\n",
    "\n",
    "from ewatercycle import CFG\n",
    "from ewatercycle import forcing\n",
    "from ewatercycle.models import MarrmotM01\n",
    "from ewatercycle.observation.grdc import get_grdc_data\n",
    "from ewatercycle.analysis import hydrograph"
   ]
  },
  {
   "cell_type": "markdown",
   "id": "88e47db0",
   "metadata": {},
   "source": [
    "### System configuration\n",
    "\n",
    "This notebook was run on cartesius.surfsara.nl as it has a big subset of ERA5 data files and can run models in Singularity containers. The following configuration files are available on that cluster:\n",
    "\n",
    "* ~/.esmvaltool/config-user.yml, tells where ESMValTool can find raw ERA5 data files and shape files\n",
    "* ~/.config/.ewatercycle/ewatercycle.yaml, tells ewatercycle Python package where to find GRDC data and which container image to use\n",
    "\n"
   ]
  },
  {
   "cell_type": "markdown",
   "id": "96b1eb3e",
   "metadata": {},
   "source": [
    "### Experiment settings"
   ]
  },
  {
   "cell_type": "code",
   "execution_count": 2,
   "id": "87ef7c19",
   "metadata": {},
   "outputs": [],
   "source": [
    "dataset = \"ERA5\"\n",
    "start_date = datetime(2002, 1, 1)\n",
    "end_date = datetime(2002, 12, 31)\n",
    "shapefile = \"Lorentz_Basin_Shapefiles/Merrimack/Merrimack.shp\"\n",
    "\n",
    "# GRDC station for Merrimack river\n",
    "grdc_station_id = \"4147380\""
   ]
  },
  {
   "cell_type": "markdown",
   "id": "782657ee",
   "metadata": {},
   "source": [
    "### Model specific settings"
   ]
  },
  {
   "cell_type": "code",
   "execution_count": 3,
   "id": "78deeafd",
   "metadata": {},
   "outputs": [],
   "source": [
    "# Values based on previous calibration\n",
    "maximum_soil_moisture_storage = 1999.0\n",
    "initial_soil_moisture_storage = 0.9 * maximum_soil_moisture_storage\n",
    "\n",
    "discharge_variable = \"flux_out_Q\"\n",
    "# flux_out_Q unit conversion factor from mm/day to m3/s\n",
    "conversion_mmday2m3s = 1 / (1000 * 86400)"
   ]
  },
  {
   "cell_type": "markdown",
   "id": "8d33184e",
   "metadata": {},
   "source": [
    "### Derived constants"
   ]
  },
  {
   "cell_type": "code",
   "execution_count": 4,
   "id": "8cc33db0",
   "metadata": {},
   "outputs": [
    {
     "name": "stdout",
     "output_type": "stream",
     "text": [
      "The catchment area is: 13016500000.0\n"
     ]
    }
   ],
   "source": [
    "shape = shapereader.Reader(\n",
    "    ESMVALTOOL_CFG[\"auxiliary_data_dir\"] /shapefile\n",
    ")\n",
    "attr = next(shape.records())\n",
    "merrimack_area = attr.attributes[\"SUB_AREA\"] * 1e6\n",
    "print(\"The catchment area is:\", merrimack_area)"
   ]
  },
  {
   "cell_type": "markdown",
   "id": "2b7c873c",
   "metadata": {},
   "source": [
    "### Pre processing model forcing using ESMValTool"
   ]
  },
  {
   "cell_type": "code",
   "execution_count": 5,
   "id": "a4665574",
   "metadata": {},
   "outputs": [
    {
     "name": "stdout",
     "output_type": "stream",
     "text": [
      "{'auxiliary_data_dir': PosixPath('/projects/0/wtrcycle/comparison/recipes_auxiliary_datasets'),\n",
      " 'compress_netcdf': False,\n",
      " 'config_developer_file': None,\n",
      " 'config_file': PosixPath('/home/verhoes/.esmvaltool/config-user.yml'),\n",
      " 'drs': {'CMIP5': 'default', 'CMIP6': 'default'},\n",
      " 'exit_on_warning': False,\n",
      " 'log_level': 'info',\n",
      " 'max_parallel_tasks': 1,\n",
      " 'output_dir': PosixPath('/scratch-shared/ewatercycle'),\n",
      " 'output_file_type': 'png',\n",
      " 'plot_dir': PosixPath('/scratch-shared/ewatercycle/recipe_marrmot_20210422_110629/plots'),\n",
      " 'preproc_dir': PosixPath('/scratch-shared/ewatercycle/recipe_marrmot_20210422_110629/preproc'),\n",
      " 'profile_diagnostic': False,\n",
      " 'remove_preproc_dir': True,\n",
      " 'rootpath': {'CMIP5': [PosixPath('/home/verhoes/cmip5_inputpath1'),\n",
      "                        PosixPath('/home/verhoes/cmip5_inputpath2')],\n",
      "              'CMIP6': [PosixPath('/home/verhoes/cmip6_inputpath1'),\n",
      "                        PosixPath('/home/verhoes/cmip6_inputpath2')],\n",
      "              'OBS6': [PosixPath('/lustre1/0/wtrcycle/comparison/obs6')],\n",
      "              'RAWOBS': [PosixPath('/lustre1/0/wtrcycle/comparison/rawobs')],\n",
      "              'default': [PosixPath('/lustre1/0/wtrcycle/comparison')]},\n",
      " 'run_dir': PosixPath('/scratch-shared/ewatercycle/recipe_marrmot_20210422_110629/run'),\n",
      " 'save_intermediary_cubes': False,\n",
      " 'work_dir': PosixPath('/scratch-shared/ewatercycle/recipe_marrmot_20210422_110629/work'),\n",
      " 'write_netcdf': True,\n",
      " 'write_plots': True}\n",
      "Creating tasks from recipe\n",
      "Creating tasks for diagnostic diagnostic_daily\n",
      "Creating preprocessor task diagnostic_daily/tas\n",
      "Creating preprocessor 'daily' task for variable 'tas'\n",
      "Using input files for variable tas of dataset ERA5:\n",
      "/lustre1/0/wtrcycle/comparison/obs6/Tier3/ERA5/OBS6_ERA5_reanaly_1_day_tas_2002-2002.nc\n",
      "PreprocessingTask diagnostic_daily/tas created. It will create the files:\n",
      "/scratch-shared/ewatercycle/recipe_marrmot_20210422_110629/preproc/diagnostic_daily/tas/OBS6_ERA5_reanaly_1_day_tas_2002-2002.nc\n",
      "Creating preprocessor task diagnostic_daily/pr\n",
      "Creating preprocessor 'daily' task for variable 'pr'\n",
      "Using input files for variable pr of dataset ERA5:\n",
      "/lustre1/0/wtrcycle/comparison/obs6/Tier3/ERA5/OBS6_ERA5_reanaly_1_day_pr_2002-2002.nc\n",
      "PreprocessingTask diagnostic_daily/pr created. It will create the files:\n",
      "/scratch-shared/ewatercycle/recipe_marrmot_20210422_110629/preproc/diagnostic_daily/pr/OBS6_ERA5_reanaly_1_day_pr_2002-2002.nc\n",
      "Creating preprocessor task diagnostic_daily/psl\n",
      "Creating preprocessor 'daily' task for variable 'psl'\n",
      "Using input files for variable psl of dataset ERA5:\n",
      "/lustre1/0/wtrcycle/comparison/obs6/Tier3/ERA5/OBS6_ERA5_reanaly_1_day_psl_2002-2002.nc\n",
      "PreprocessingTask diagnostic_daily/psl created. It will create the files:\n",
      "/scratch-shared/ewatercycle/recipe_marrmot_20210422_110629/preproc/diagnostic_daily/psl/OBS6_ERA5_reanaly_1_day_psl_2002-2002.nc\n",
      "Creating preprocessor task diagnostic_daily/rsds\n",
      "Creating preprocessor 'daily' task for variable 'rsds'\n",
      "Using input files for variable rsds of dataset ERA5:\n",
      "/lustre1/0/wtrcycle/comparison/obs6/Tier3/ERA5/OBS6_ERA5_reanaly_1_day_rsds_2002-2002.nc\n",
      "PreprocessingTask diagnostic_daily/rsds created. It will create the files:\n",
      "/scratch-shared/ewatercycle/recipe_marrmot_20210422_110629/preproc/diagnostic_daily/rsds/OBS6_ERA5_reanaly_1_day_rsds_2002-2002.nc\n",
      "Creating preprocessor task diagnostic_daily/rsdt\n",
      "Creating preprocessor 'daily' task for variable 'rsdt'\n",
      "Using input files for variable rsdt of dataset ERA5:\n",
      "/lustre1/0/wtrcycle/comparison/obs6/Tier3/ERA5/OBS6_ERA5_reanaly_1_CFday_rsdt_2002-2002.nc\n",
      "PreprocessingTask diagnostic_daily/rsdt created. It will create the files:\n",
      "/scratch-shared/ewatercycle/recipe_marrmot_20210422_110629/preproc/diagnostic_daily/rsdt/OBS6_ERA5_reanaly_1_CFday_rsdt_2002-2002.nc\n",
      "Creating diagnostic task diagnostic_daily/script\n",
      "These tasks will be executed: diagnostic_daily/pr, diagnostic_daily/tas, diagnostic_daily/rsds, diagnostic_daily/script, diagnostic_daily/rsdt, diagnostic_daily/psl\n",
      "Running 6 tasks sequentially\n",
      "Starting task diagnostic_daily/tas in process [31209]\n",
      "Successfully completed task diagnostic_daily/tas (priority 0) in 0:00:06.161574\n",
      "Starting task diagnostic_daily/pr in process [31209]\n",
      "Successfully completed task diagnostic_daily/pr (priority 1) in 0:00:05.993822\n",
      "Starting task diagnostic_daily/psl in process [31209]\n",
      "Successfully completed task diagnostic_daily/psl (priority 2) in 0:00:05.083166\n",
      "Starting task diagnostic_daily/rsds in process [31209]\n",
      "Successfully completed task diagnostic_daily/rsds (priority 3) in 0:00:05.016989\n",
      "Starting task diagnostic_daily/rsdt in process [31209]\n",
      "Successfully completed task diagnostic_daily/rsdt (priority 4) in 0:00:04.827357\n",
      "Starting task diagnostic_daily/script in process [31209]\n",
      "Running command ['/home/verhoes/conda/envs/ewatercycle2/bin/python3.9', '/home/verhoes/conda/envs/ewatercycle2/lib/python3.9/site-packages/esmvaltool/diag_scripts/hydrology/marrmot.py', '/scratch-shared/ewatercycle/recipe_marrmot_20210422_110629/run/diagnostic_daily/script/settings.yml']\n",
      "Writing output to /scratch-shared/ewatercycle/recipe_marrmot_20210422_110629/work/diagnostic_daily/script\n",
      "Writing plots to /scratch-shared/ewatercycle/recipe_marrmot_20210422_110629/plots/diagnostic_daily/script\n",
      "Writing log to /scratch-shared/ewatercycle/recipe_marrmot_20210422_110629/run/diagnostic_daily/script/log.txt\n",
      "To re-run this diagnostic script, run:\n",
      "cd /scratch-shared/ewatercycle/recipe_marrmot_20210422_110629/run/diagnostic_daily/script; MPLBACKEND=\"Agg\" /home/verhoes/conda/envs/ewatercycle2/bin/python3.9 /home/verhoes/conda/envs/ewatercycle2/lib/python3.9/site-packages/esmvaltool/diag_scripts/hydrology/marrmot.py /scratch-shared/ewatercycle/recipe_marrmot_20210422_110629/run/diagnostic_daily/script/settings.yml\n",
      "Maximum memory used (estimate): 0.2 GB\n",
      "Sampled every second. It may be inaccurate if short but high spikes in memory consumption occur.\n",
      "Successfully completed task diagnostic_daily/script (priority 5) in 0:00:03.282417\n"
     ]
    }
   ],
   "source": [
    "forcing_output = forcing.generate(\n",
    "    model='marrmot',\n",
    "    dataset=dataset,\n",
    "    startyear=start_date.year,\n",
    "    endyear=end_date.year,\n",
    "    shapefile=shapefile\n",
    ")\n"
   ]
  },
  {
   "cell_type": "markdown",
   "id": "ca5ee205",
   "metadata": {},
   "source": [
    "Forcing is written in a single Matlab file"
   ]
  },
  {
   "cell_type": "code",
   "execution_count": 6,
   "id": "dc9fbe8c",
   "metadata": {},
   "outputs": [
    {
     "data": {
      "text/plain": [
       "diagnostic_daily/script:\n",
       "  OutputFile('marrmot_ERA5_Merrimack_2002_2002.mat')"
      ]
     },
     "execution_count": 6,
     "metadata": {},
     "output_type": "execute_result"
    }
   ],
   "source": [
    "forcing_output.recipe_output"
   ]
  },
  {
   "cell_type": "markdown",
   "id": "9e2abebe",
   "metadata": {},
   "source": [
    "### Setting up the model object\n",
    "\n",
    "To use a hydrological model, supported by ewatercycle, an object from its class must be instantiated."
   ]
  },
  {
   "cell_type": "code",
   "execution_count": 7,
   "id": "a316d57e",
   "metadata": {},
   "outputs": [],
   "source": [
    "model = MarrmotM01()"
   ]
  },
  {
   "cell_type": "markdown",
   "id": "0d35ec9b",
   "metadata": {},
   "source": [
    "Create config file and start up container for Marrmot"
   ]
  },
  {
   "cell_type": "code",
   "execution_count": 8,
   "id": "7ff332ee",
   "metadata": {},
   "outputs": [
    {
     "name": "stdout",
     "output_type": "stream",
     "text": [
      "Running docker://ewatercycle/marrmot-grpc4bmi:2020.11 singularity container on port 35607\n"
     ]
    },
    {
     "data": {
      "text/plain": [
       "(PosixPath('/scratch/shared/ewatercycle/marrmot_20210422_130759/marrmot-m01_config.mat'),\n",
       " PosixPath('/scratch/shared/ewatercycle/marrmot_20210422_130759'))"
      ]
     },
     "execution_count": 8,
     "metadata": {},
     "output_type": "execute_result"
    }
   ],
   "source": [
    "cfg_file, cfg_dir = model.setup(\n",
    "    forcing=forcing_output,\n",
    "    # No need to specifiy start and end date, using dates from forcing_output\n",
    "    maximum_soil_moisture_storage=maximum_soil_moisture_storage,\n",
    "    initial_soil_moisture_storage=initial_soil_moisture_storage,\n",
    ")\n",
    "cfg_file, cfg_dir"
   ]
  },
  {
   "cell_type": "code",
   "execution_count": 9,
   "id": "8b955946",
   "metadata": {},
   "outputs": [],
   "source": [
    "model.initialize(str(cfg_file))"
   ]
  },
  {
   "cell_type": "code",
   "execution_count": 10,
   "id": "e20e538a",
   "metadata": {},
   "outputs": [],
   "source": [
    "# TODO do we need a spinup period?"
   ]
  },
  {
   "cell_type": "markdown",
   "id": "cacfb61b",
   "metadata": {},
   "source": [
    "### Run model & capture discharge"
   ]
  },
  {
   "cell_type": "code",
   "execution_count": 11,
   "id": "a28f34df",
   "metadata": {},
   "outputs": [],
   "source": [
    "time_units = model.time_units\n",
    "timestamps = []\n",
    "output = []"
   ]
  },
  {
   "cell_type": "code",
   "execution_count": 12,
   "id": "461e1f4e",
   "metadata": {},
   "outputs": [],
   "source": [
    "while (model.time < model.end_time):\n",
    "    model.update()\n",
    "    current_time = num2date(\n",
    "        model.time,\n",
    "        time_units,\n",
    "        only_use_cftime_datetimes=False\n",
    "    )\n",
    "    timestamps.append(current_time)\n",
    "    # Marrmot M01 is a lumped model, so only single value is returned\n",
    "    value_in_mmday = model.get_value(discharge_variable)[0]\n",
    "    # Convert from mm/day to m3/s\n",
    "    value = value_in_mmday * merrimack_area * conversion_mmday2m3s\n",
    "    output.append(value)"
   ]
  },
  {
   "cell_type": "code",
   "execution_count": 13,
   "id": "c08084f7",
   "metadata": {},
   "outputs": [
    {
     "data": {
      "text/plain": [
       "[(real_datetime(2002, 12, 22, 12, 0), 69.05376465291486),\n",
       " (real_datetime(2002, 12, 23, 12, 0), 0.822844041308693),\n",
       " (real_datetime(2002, 12, 24, 12, 0), 13.277225331666173),\n",
       " (real_datetime(2002, 12, 25, 12, 0), 16.49548820760157),\n",
       " (real_datetime(2002, 12, 26, 12, 0), 1413.2490989815572),\n",
       " (real_datetime(2002, 12, 27, 12, 0), 2153.0799211969747),\n",
       " (real_datetime(2002, 12, 28, 12, 0), 1.9056120960823832),\n",
       " (real_datetime(2002, 12, 29, 12, 0), 0.31951122146162075),\n",
       " (real_datetime(2002, 12, 30, 12, 0), 7.983660039276574),\n",
       " (real_datetime(2002, 12, 31, 12, 0), 0.34605716184305396)]"
      ]
     },
     "execution_count": 13,
     "metadata": {},
     "output_type": "execute_result"
    }
   ],
   "source": [
    "# Show last 10 values\n",
    "list(zip(timestamps, output))[-10:]"
   ]
  },
  {
   "cell_type": "markdown",
   "id": "3e493fcd",
   "metadata": {},
   "source": [
    "### Clean up after the model run\n",
    "The models have to be 'finalized', which deletes any temporary files and the containers have to be shut down."
   ]
  },
  {
   "cell_type": "code",
   "execution_count": 14,
   "id": "eff0bf72",
   "metadata": {},
   "outputs": [],
   "source": [
    "model.finalize()\n",
    "del model.bmi"
   ]
  },
  {
   "cell_type": "markdown",
   "id": "efff53d0",
   "metadata": {},
   "source": [
    "### Import GRDC observations\n",
    "\n",
    "Read the GRDC data for the period of the experiment, for the station given above. \n",
    "If you are not on jupyter.ewatercycle.org or Cartesius, download the GRDC https://www.bafg.de/GRDC/EN/02_srvcs/21_tmsrs/riverdischarge_node.html and set the `grdc_location` field in `~/.config/.ewatercycle/ewatercycle.yaml` to your download location."
   ]
  },
  {
   "cell_type": "code",
   "execution_count": 15,
   "id": "7a890d69",
   "metadata": {},
   "outputs": [
    {
     "data": {
      "text/html": [
       "<div><svg style=\"position: absolute; width: 0; height: 0; overflow: hidden\">\n",
       "<defs>\n",
       "<symbol id=\"icon-database\" viewBox=\"0 0 32 32\">\n",
       "<path d=\"M16 0c-8.837 0-16 2.239-16 5v4c0 2.761 7.163 5 16 5s16-2.239 16-5v-4c0-2.761-7.163-5-16-5z\"></path>\n",
       "<path d=\"M16 17c-8.837 0-16-2.239-16-5v6c0 2.761 7.163 5 16 5s16-2.239 16-5v-6c0 2.761-7.163 5-16 5z\"></path>\n",
       "<path d=\"M16 26c-8.837 0-16-2.239-16-5v6c0 2.761 7.163 5 16 5s16-2.239 16-5v-6c0 2.761-7.163 5-16 5z\"></path>\n",
       "</symbol>\n",
       "<symbol id=\"icon-file-text2\" viewBox=\"0 0 32 32\">\n",
       "<path d=\"M28.681 7.159c-0.694-0.947-1.662-2.053-2.724-3.116s-2.169-2.030-3.116-2.724c-1.612-1.182-2.393-1.319-2.841-1.319h-15.5c-1.378 0-2.5 1.121-2.5 2.5v27c0 1.378 1.122 2.5 2.5 2.5h23c1.378 0 2.5-1.122 2.5-2.5v-19.5c0-0.448-0.137-1.23-1.319-2.841zM24.543 5.457c0.959 0.959 1.712 1.825 2.268 2.543h-4.811v-4.811c0.718 0.556 1.584 1.309 2.543 2.268zM28 29.5c0 0.271-0.229 0.5-0.5 0.5h-23c-0.271 0-0.5-0.229-0.5-0.5v-27c0-0.271 0.229-0.5 0.5-0.5 0 0 15.499-0 15.5 0v7c0 0.552 0.448 1 1 1h7v19.5z\"></path>\n",
       "<path d=\"M23 26h-14c-0.552 0-1-0.448-1-1s0.448-1 1-1h14c0.552 0 1 0.448 1 1s-0.448 1-1 1z\"></path>\n",
       "<path d=\"M23 22h-14c-0.552 0-1-0.448-1-1s0.448-1 1-1h14c0.552 0 1 0.448 1 1s-0.448 1-1 1z\"></path>\n",
       "<path d=\"M23 18h-14c-0.552 0-1-0.448-1-1s0.448-1 1-1h14c0.552 0 1 0.448 1 1s-0.448 1-1 1z\"></path>\n",
       "</symbol>\n",
       "</defs>\n",
       "</svg>\n",
       "<style>/* CSS stylesheet for displaying xarray objects in jupyterlab.\n",
       " *\n",
       " */\n",
       "\n",
       ":root {\n",
       "  --xr-font-color0: var(--jp-content-font-color0, rgba(0, 0, 0, 1));\n",
       "  --xr-font-color2: var(--jp-content-font-color2, rgba(0, 0, 0, 0.54));\n",
       "  --xr-font-color3: var(--jp-content-font-color3, rgba(0, 0, 0, 0.38));\n",
       "  --xr-border-color: var(--jp-border-color2, #e0e0e0);\n",
       "  --xr-disabled-color: var(--jp-layout-color3, #bdbdbd);\n",
       "  --xr-background-color: var(--jp-layout-color0, white);\n",
       "  --xr-background-color-row-even: var(--jp-layout-color1, white);\n",
       "  --xr-background-color-row-odd: var(--jp-layout-color2, #eeeeee);\n",
       "}\n",
       "\n",
       "html[theme=dark],\n",
       "body.vscode-dark {\n",
       "  --xr-font-color0: rgba(255, 255, 255, 1);\n",
       "  --xr-font-color2: rgba(255, 255, 255, 0.54);\n",
       "  --xr-font-color3: rgba(255, 255, 255, 0.38);\n",
       "  --xr-border-color: #1F1F1F;\n",
       "  --xr-disabled-color: #515151;\n",
       "  --xr-background-color: #111111;\n",
       "  --xr-background-color-row-even: #111111;\n",
       "  --xr-background-color-row-odd: #313131;\n",
       "}\n",
       "\n",
       ".xr-wrap {\n",
       "  display: block;\n",
       "  min-width: 300px;\n",
       "  max-width: 700px;\n",
       "}\n",
       "\n",
       ".xr-text-repr-fallback {\n",
       "  /* fallback to plain text repr when CSS is not injected (untrusted notebook) */\n",
       "  display: none;\n",
       "}\n",
       "\n",
       ".xr-header {\n",
       "  padding-top: 6px;\n",
       "  padding-bottom: 6px;\n",
       "  margin-bottom: 4px;\n",
       "  border-bottom: solid 1px var(--xr-border-color);\n",
       "}\n",
       "\n",
       ".xr-header > div,\n",
       ".xr-header > ul {\n",
       "  display: inline;\n",
       "  margin-top: 0;\n",
       "  margin-bottom: 0;\n",
       "}\n",
       "\n",
       ".xr-obj-type,\n",
       ".xr-array-name {\n",
       "  margin-left: 2px;\n",
       "  margin-right: 10px;\n",
       "}\n",
       "\n",
       ".xr-obj-type {\n",
       "  color: var(--xr-font-color2);\n",
       "}\n",
       "\n",
       ".xr-sections {\n",
       "  padding-left: 0 !important;\n",
       "  display: grid;\n",
       "  grid-template-columns: 150px auto auto 1fr 20px 20px;\n",
       "}\n",
       "\n",
       ".xr-section-item {\n",
       "  display: contents;\n",
       "}\n",
       "\n",
       ".xr-section-item input {\n",
       "  display: none;\n",
       "}\n",
       "\n",
       ".xr-section-item input + label {\n",
       "  color: var(--xr-disabled-color);\n",
       "}\n",
       "\n",
       ".xr-section-item input:enabled + label {\n",
       "  cursor: pointer;\n",
       "  color: var(--xr-font-color2);\n",
       "}\n",
       "\n",
       ".xr-section-item input:enabled + label:hover {\n",
       "  color: var(--xr-font-color0);\n",
       "}\n",
       "\n",
       ".xr-section-summary {\n",
       "  grid-column: 1;\n",
       "  color: var(--xr-font-color2);\n",
       "  font-weight: 500;\n",
       "}\n",
       "\n",
       ".xr-section-summary > span {\n",
       "  display: inline-block;\n",
       "  padding-left: 0.5em;\n",
       "}\n",
       "\n",
       ".xr-section-summary-in:disabled + label {\n",
       "  color: var(--xr-font-color2);\n",
       "}\n",
       "\n",
       ".xr-section-summary-in + label:before {\n",
       "  display: inline-block;\n",
       "  content: '►';\n",
       "  font-size: 11px;\n",
       "  width: 15px;\n",
       "  text-align: center;\n",
       "}\n",
       "\n",
       ".xr-section-summary-in:disabled + label:before {\n",
       "  color: var(--xr-disabled-color);\n",
       "}\n",
       "\n",
       ".xr-section-summary-in:checked + label:before {\n",
       "  content: '▼';\n",
       "}\n",
       "\n",
       ".xr-section-summary-in:checked + label > span {\n",
       "  display: none;\n",
       "}\n",
       "\n",
       ".xr-section-summary,\n",
       ".xr-section-inline-details {\n",
       "  padding-top: 4px;\n",
       "  padding-bottom: 4px;\n",
       "}\n",
       "\n",
       ".xr-section-inline-details {\n",
       "  grid-column: 2 / -1;\n",
       "}\n",
       "\n",
       ".xr-section-details {\n",
       "  display: none;\n",
       "  grid-column: 1 / -1;\n",
       "  margin-bottom: 5px;\n",
       "}\n",
       "\n",
       ".xr-section-summary-in:checked ~ .xr-section-details {\n",
       "  display: contents;\n",
       "}\n",
       "\n",
       ".xr-array-wrap {\n",
       "  grid-column: 1 / -1;\n",
       "  display: grid;\n",
       "  grid-template-columns: 20px auto;\n",
       "}\n",
       "\n",
       ".xr-array-wrap > label {\n",
       "  grid-column: 1;\n",
       "  vertical-align: top;\n",
       "}\n",
       "\n",
       ".xr-preview {\n",
       "  color: var(--xr-font-color3);\n",
       "}\n",
       "\n",
       ".xr-array-preview,\n",
       ".xr-array-data {\n",
       "  padding: 0 5px !important;\n",
       "  grid-column: 2;\n",
       "}\n",
       "\n",
       ".xr-array-data,\n",
       ".xr-array-in:checked ~ .xr-array-preview {\n",
       "  display: none;\n",
       "}\n",
       "\n",
       ".xr-array-in:checked ~ .xr-array-data,\n",
       ".xr-array-preview {\n",
       "  display: inline-block;\n",
       "}\n",
       "\n",
       ".xr-dim-list {\n",
       "  display: inline-block !important;\n",
       "  list-style: none;\n",
       "  padding: 0 !important;\n",
       "  margin: 0;\n",
       "}\n",
       "\n",
       ".xr-dim-list li {\n",
       "  display: inline-block;\n",
       "  padding: 0;\n",
       "  margin: 0;\n",
       "}\n",
       "\n",
       ".xr-dim-list:before {\n",
       "  content: '(';\n",
       "}\n",
       "\n",
       ".xr-dim-list:after {\n",
       "  content: ')';\n",
       "}\n",
       "\n",
       ".xr-dim-list li:not(:last-child):after {\n",
       "  content: ',';\n",
       "  padding-right: 5px;\n",
       "}\n",
       "\n",
       ".xr-has-index {\n",
       "  font-weight: bold;\n",
       "}\n",
       "\n",
       ".xr-var-list,\n",
       ".xr-var-item {\n",
       "  display: contents;\n",
       "}\n",
       "\n",
       ".xr-var-item > div,\n",
       ".xr-var-item label,\n",
       ".xr-var-item > .xr-var-name span {\n",
       "  background-color: var(--xr-background-color-row-even);\n",
       "  margin-bottom: 0;\n",
       "}\n",
       "\n",
       ".xr-var-item > .xr-var-name:hover span {\n",
       "  padding-right: 5px;\n",
       "}\n",
       "\n",
       ".xr-var-list > li:nth-child(odd) > div,\n",
       ".xr-var-list > li:nth-child(odd) > label,\n",
       ".xr-var-list > li:nth-child(odd) > .xr-var-name span {\n",
       "  background-color: var(--xr-background-color-row-odd);\n",
       "}\n",
       "\n",
       ".xr-var-name {\n",
       "  grid-column: 1;\n",
       "}\n",
       "\n",
       ".xr-var-dims {\n",
       "  grid-column: 2;\n",
       "}\n",
       "\n",
       ".xr-var-dtype {\n",
       "  grid-column: 3;\n",
       "  text-align: right;\n",
       "  color: var(--xr-font-color2);\n",
       "}\n",
       "\n",
       ".xr-var-preview {\n",
       "  grid-column: 4;\n",
       "}\n",
       "\n",
       ".xr-var-name,\n",
       ".xr-var-dims,\n",
       ".xr-var-dtype,\n",
       ".xr-preview,\n",
       ".xr-attrs dt {\n",
       "  white-space: nowrap;\n",
       "  overflow: hidden;\n",
       "  text-overflow: ellipsis;\n",
       "  padding-right: 10px;\n",
       "}\n",
       "\n",
       ".xr-var-name:hover,\n",
       ".xr-var-dims:hover,\n",
       ".xr-var-dtype:hover,\n",
       ".xr-attrs dt:hover {\n",
       "  overflow: visible;\n",
       "  width: auto;\n",
       "  z-index: 1;\n",
       "}\n",
       "\n",
       ".xr-var-attrs,\n",
       ".xr-var-data {\n",
       "  display: none;\n",
       "  background-color: var(--xr-background-color) !important;\n",
       "  padding-bottom: 5px !important;\n",
       "}\n",
       "\n",
       ".xr-var-attrs-in:checked ~ .xr-var-attrs,\n",
       ".xr-var-data-in:checked ~ .xr-var-data {\n",
       "  display: block;\n",
       "}\n",
       "\n",
       ".xr-var-data > table {\n",
       "  float: right;\n",
       "}\n",
       "\n",
       ".xr-var-name span,\n",
       ".xr-var-data,\n",
       ".xr-attrs {\n",
       "  padding-left: 25px !important;\n",
       "}\n",
       "\n",
       ".xr-attrs,\n",
       ".xr-var-attrs,\n",
       ".xr-var-data {\n",
       "  grid-column: 1 / -1;\n",
       "}\n",
       "\n",
       "dl.xr-attrs {\n",
       "  padding: 0;\n",
       "  margin: 0;\n",
       "  display: grid;\n",
       "  grid-template-columns: 125px auto;\n",
       "}\n",
       "\n",
       ".xr-attrs dt,\n",
       ".xr-attrs dd {\n",
       "  padding: 0;\n",
       "  margin: 0;\n",
       "  float: left;\n",
       "  padding-right: 10px;\n",
       "  width: auto;\n",
       "}\n",
       "\n",
       ".xr-attrs dt {\n",
       "  font-weight: normal;\n",
       "  grid-column: 1;\n",
       "}\n",
       "\n",
       ".xr-attrs dt:hover span {\n",
       "  display: inline-block;\n",
       "  background: var(--xr-background-color);\n",
       "  padding-right: 10px;\n",
       "}\n",
       "\n",
       ".xr-attrs dd {\n",
       "  grid-column: 2;\n",
       "  white-space: pre-wrap;\n",
       "  word-break: break-all;\n",
       "}\n",
       "\n",
       ".xr-icon-database,\n",
       ".xr-icon-file-text2 {\n",
       "  display: inline-block;\n",
       "  vertical-align: middle;\n",
       "  width: 1em;\n",
       "  height: 1.5em !important;\n",
       "  stroke-width: 0;\n",
       "  stroke: currentColor;\n",
       "  fill: currentColor;\n",
       "}\n",
       "</style><pre class='xr-text-repr-fallback'>&lt;xarray.Dataset&gt;\n",
       "Dimensions:     (time: 365)\n",
       "Coordinates:\n",
       "  * time        (time) datetime64[ns] 2002-01-01 2002-01-02 ... 2002-12-31\n",
       "Data variables:\n",
       "    streamflow  (time) float64 56.07 54.09 48.99 50.12 ... 218.0 203.0 196.0\n",
       "Attributes: (12/16)\n",
       "    grdc_file_name:                /projects/0/wtrcycle/GRDC/GRDC_GCOSGTN-H_2...\n",
       "    id_from_grdc:                  4147380\n",
       "    file_generation_date:          2019-03-27\n",
       "    river_name:                    MERRIMACK RIVER\n",
       "    station_name:                  BELOW CONCORD RIVER AT LOWELL, MA\n",
       "    country_code:                  US\n",
       "    ...                            ...\n",
       "    dataSetContent:                MEAN DAILY DISCHARGE (Q)\n",
       "    units:                         m/s\n",
       "    time_series:                   1923-06 - 2018-04\n",
       "    no_of_years:                   96\n",
       "    last_update:                   2018-09-07\n",
       "    nrMeasurements:                NA</pre><div class='xr-wrap' hidden><div class='xr-header'><div class='xr-obj-type'>xarray.Dataset</div></div><ul class='xr-sections'><li class='xr-section-item'><input id='section-96ddf850-0681-4505-8dd2-ab2398d8a363' class='xr-section-summary-in' type='checkbox' disabled ><label for='section-96ddf850-0681-4505-8dd2-ab2398d8a363' class='xr-section-summary'  title='Expand/collapse section'>Dimensions:</label><div class='xr-section-inline-details'><ul class='xr-dim-list'><li><span class='xr-has-index'>time</span>: 365</li></ul></div><div class='xr-section-details'></div></li><li class='xr-section-item'><input id='section-1c4938bf-24bc-4155-92de-ac6d55dc711a' class='xr-section-summary-in' type='checkbox'  checked><label for='section-1c4938bf-24bc-4155-92de-ac6d55dc711a' class='xr-section-summary' >Coordinates: <span>(1)</span></label><div class='xr-section-inline-details'></div><div class='xr-section-details'><ul class='xr-var-list'><li class='xr-var-item'><div class='xr-var-name'><span class='xr-has-index'>time</span></div><div class='xr-var-dims'>(time)</div><div class='xr-var-dtype'>datetime64[ns]</div><div class='xr-var-preview xr-preview'>2002-01-01 ... 2002-12-31</div><input id='attrs-1071659e-701c-422f-b551-09d778733dc2' class='xr-var-attrs-in' type='checkbox' disabled><label for='attrs-1071659e-701c-422f-b551-09d778733dc2' title='Show/Hide attributes'><svg class='icon xr-icon-file-text2'><use xlink:href='#icon-file-text2'></use></svg></label><input id='data-abecd585-a835-4951-b8a6-d3811fde0e5e' class='xr-var-data-in' type='checkbox'><label for='data-abecd585-a835-4951-b8a6-d3811fde0e5e' title='Show/Hide data repr'><svg class='icon xr-icon-database'><use xlink:href='#icon-database'></use></svg></label><div class='xr-var-attrs'><dl class='xr-attrs'></dl></div><div class='xr-var-data'><pre>array([&#x27;2002-01-01T00:00:00.000000000&#x27;, &#x27;2002-01-02T00:00:00.000000000&#x27;,\n",
       "       &#x27;2002-01-03T00:00:00.000000000&#x27;, ..., &#x27;2002-12-29T00:00:00.000000000&#x27;,\n",
       "       &#x27;2002-12-30T00:00:00.000000000&#x27;, &#x27;2002-12-31T00:00:00.000000000&#x27;],\n",
       "      dtype=&#x27;datetime64[ns]&#x27;)</pre></div></li></ul></div></li><li class='xr-section-item'><input id='section-4fa24437-d1c3-4530-87ff-07d28f721812' class='xr-section-summary-in' type='checkbox'  checked><label for='section-4fa24437-d1c3-4530-87ff-07d28f721812' class='xr-section-summary' >Data variables: <span>(1)</span></label><div class='xr-section-inline-details'></div><div class='xr-section-details'><ul class='xr-var-list'><li class='xr-var-item'><div class='xr-var-name'><span>streamflow</span></div><div class='xr-var-dims'>(time)</div><div class='xr-var-dtype'>float64</div><div class='xr-var-preview xr-preview'>56.07 54.09 48.99 ... 203.0 196.0</div><input id='attrs-b9ef5ff5-e194-4088-8815-106c66afdcd5' class='xr-var-attrs-in' type='checkbox' disabled><label for='attrs-b9ef5ff5-e194-4088-8815-106c66afdcd5' title='Show/Hide attributes'><svg class='icon xr-icon-file-text2'><use xlink:href='#icon-file-text2'></use></svg></label><input id='data-af46f325-16ca-4f6f-997b-b405cd6b33ce' class='xr-var-data-in' type='checkbox'><label for='data-af46f325-16ca-4f6f-997b-b405cd6b33ce' title='Show/Hide data repr'><svg class='icon xr-icon-database'><use xlink:href='#icon-database'></use></svg></label><div class='xr-var-attrs'><dl class='xr-attrs'></dl></div><div class='xr-var-data'><pre>array([ 56.067,  54.085,  48.988,  50.121,  47.572,  46.723,  54.651,\n",
       "        49.554,  56.35 ,  55.501,  57.2  ,  56.067,  64.279,  59.465,\n",
       "        59.748,  61.731,  67.111,  63.713,  52.952,  57.2  ,  52.669,\n",
       "        58.049,  46.156,  53.802,  62.863,  59.182,  74.473,  75.889,\n",
       "        71.925,  83.818,  82.685,  90.331,  99.958,  86.933,  96.56 ,\n",
       "        91.746,  80.42 ,  72.491,  75.606,  67.677,  59.182,  86.933,\n",
       "        84.384, 119.497, 107.038, 102.224,  94.012,  99.675,  92.879,\n",
       "        85.517,  82.119, 103.356, 123.461, 143.566, 150.362, 143.283,\n",
       "       125.727, 136.204, 146.964, 159.424, 143.566, 153.194, 196.802,\n",
       "       220.588, 218.606, 186.041, 162.822, 143.283, 164.237, 214.925,\n",
       "       277.221, 249.754, 214.641, 196.235, 208.128, 195.952, 173.865,\n",
       "       167.069, 152.061, 174.431, 178.113, 167.919, 153.194, 170.467,\n",
       "       125.727, 260.231, 272.124, 294.495, 291.663, 300.158, 382.277,\n",
       "       512.534, 555.009, 526.692, 506.871, 458.732, 362.455, 319.98 ,\n",
       "       291.663, 247.489, 248.905, 291.663, 266.744, 263.629, 351.128,\n",
       "       566.336, 603.148, 526.692, 455.9  , 379.445, 311.485, 270.709,\n",
       "       227.95 , 212.942, 177.83 , 182.077, 218.039, 220.305, 249.471,\n",
       "       269.293, 288.831, 314.316, 322.812, 370.95 , 356.792, 311.485,\n",
       "       262.214, 238.427, 227.95 , 208.695, 164.804, 194.82 , 223.42 ,\n",
       "       376.613, 685.267, 671.108, 549.346, 481.386, 506.871, 521.029,\n",
       "...\n",
       "        25.4  ,  25.06 ,  22.625,  26.42 ,  26.108,  27.099,  27.184,\n",
       "        26.08 ,  26.788,  28.09 ,  35.962,  33.697,  30.865,  32.281,\n",
       "        37.661,  35.679,  40.776,  33.697,  30.582,  29.166,  31.432,\n",
       "        32.281,  30.016,  30.016,  30.865,  23.786,  23.984,  43.891,\n",
       "        33.98 ,  34.83 ,  44.741,  42.758,  36.529,  33.131,  41.909,\n",
       "        34.546,  33.697,  36.812,  34.83 ,  47.006,  39.927,  42.475,\n",
       "        48.422,  45.307,  43.608,  37.661,  32.847,  31.998,  34.263,\n",
       "        42.758,  37.945,  37.378,  36.529,  41.059,  45.024,  52.669,\n",
       "        49.554,  56.917, 108.737, 108.737, 112.418,  93.445, 112.984,\n",
       "        57.2  ,  72.208,  72.208,  70.226,  82.402,  79.287, 101.94 ,\n",
       "       111.002,  95.711,  88.065,  89.481,  80.137,  77.022,  59.748,\n",
       "        51.253,  76.455,  86.083,  92.879,  97.976,  78.154,  96.843,\n",
       "       109.303, 188.307, 206.146, 218.606, 191.422, 180.661, 199.633,\n",
       "       229.366, 231.348, 204.164, 207.845, 215.774, 286.   , 322.812,\n",
       "       288.831, 246.639, 213.792, 190.572, 177.263, 177.546, 162.538,\n",
       "       146.681, 111.568, 122.329, 114.117, 120.63 , 127.426, 112.418,\n",
       "        88.915, 103.073, 116.099, 120.063, 168.202, 261.93 , 305.821,\n",
       "       311.485, 242.958, 221.154, 228.517, 294.495, 328.475, 356.792,\n",
       "       322.812, 271.275, 220.305, 222.853, 228.8  , 218.039, 203.031,\n",
       "       195.952])</pre></div></li></ul></div></li><li class='xr-section-item'><input id='section-48f725cd-19fe-4b30-b9b0-de550dc82264' class='xr-section-summary-in' type='checkbox'  ><label for='section-48f725cd-19fe-4b30-b9b0-de550dc82264' class='xr-section-summary' >Attributes: <span>(16)</span></label><div class='xr-section-inline-details'></div><div class='xr-section-details'><dl class='xr-attrs'><dt><span>grdc_file_name :</span></dt><dd>/projects/0/wtrcycle/GRDC/GRDC_GCOSGTN-H_27_03_2019/4147380_Q_Day.Cmd.txt</dd><dt><span>id_from_grdc :</span></dt><dd>4147380</dd><dt><span>file_generation_date :</span></dt><dd>2019-03-27</dd><dt><span>river_name :</span></dt><dd>MERRIMACK RIVER</dd><dt><span>station_name :</span></dt><dd>BELOW CONCORD RIVER AT LOWELL, MA</dd><dt><span>country_code :</span></dt><dd>US</dd><dt><span>grdc_latitude_in_arc_degree :</span></dt><dd>42.6459</dd><dt><span>grdc_longitude_in_arc_degree :</span></dt><dd>-71.2984</dd><dt><span>grdc_catchment_area_in_km2 :</span></dt><dd>12004.7</dd><dt><span>altitude_masl :</span></dt><dd>1.58</dd><dt><span>dataSetContent :</span></dt><dd>MEAN DAILY DISCHARGE (Q)</dd><dt><span>units :</span></dt><dd>m/s</dd><dt><span>time_series :</span></dt><dd>1923-06 - 2018-04</dd><dt><span>no_of_years :</span></dt><dd>96</dd><dt><span>last_update :</span></dt><dd>2018-09-07</dd><dt><span>nrMeasurements :</span></dt><dd>NA</dd></dl></div></li></ul></div></div>"
      ],
      "text/plain": [
       "<xarray.Dataset>\n",
       "Dimensions:     (time: 365)\n",
       "Coordinates:\n",
       "  * time        (time) datetime64[ns] 2002-01-01 2002-01-02 ... 2002-12-31\n",
       "Data variables:\n",
       "    streamflow  (time) float64 56.07 54.09 48.99 50.12 ... 218.0 203.0 196.0\n",
       "Attributes: (12/16)\n",
       "    grdc_file_name:                /projects/0/wtrcycle/GRDC/GRDC_GCOSGTN-H_2...\n",
       "    id_from_grdc:                  4147380\n",
       "    file_generation_date:          2019-03-27\n",
       "    river_name:                    MERRIMACK RIVER\n",
       "    station_name:                  BELOW CONCORD RIVER AT LOWELL, MA\n",
       "    country_code:                  US\n",
       "    ...                            ...\n",
       "    dataSetContent:                MEAN DAILY DISCHARGE (Q)\n",
       "    units:                         m/s\n",
       "    time_series:                   1923-06 - 2018-04\n",
       "    no_of_years:                   96\n",
       "    last_update:                   2018-09-07\n",
       "    nrMeasurements:                NA"
      ]
     },
     "execution_count": 15,
     "metadata": {},
     "output_type": "execute_result"
    }
   ],
   "source": [
    "observations = get_grdc_data(\n",
    "    station_id=grdc_station_id,\n",
    "    start_date=start_date.strftime(\"%Y-%m-%d\"),\n",
    "    end_date=end_date.strftime(\"%Y-%m-%d\"),\n",
    "    data_home=CFG[\"grdc_location\"]\n",
    ")\n",
    "observations"
   ]
  },
  {
   "cell_type": "markdown",
   "id": "ce2a7c04",
   "metadata": {},
   "source": [
    "### Plot the results"
   ]
  },
  {
   "cell_type": "code",
   "execution_count": 17,
   "id": "6f92b356",
   "metadata": {},
   "outputs": [],
   "source": [
    "# TODO combine model output and observations into single dataframe\n",
    "discharge = pd.DataFrame({'observation': observations.streamflow[1:], \n",
    "                          'simulated': output}, \n",
    "                         index=timestamps)"
   ]
  },
  {
   "cell_type": "code",
   "execution_count": 18,
   "id": "0de89d10",
   "metadata": {},
   "outputs": [
    {
     "data": {
      "text/plain": [
       "(<Figure size 720x720 with 2 Axes>,\n",
       " (<AxesSubplot:title={'center':'Hydrograph'}, ylabel='Discharge (m$^3$ s$^{-1}$)'>,\n",
       "  <AxesSubplot:>))"
      ]
     },
     "execution_count": 18,
     "metadata": {},
     "output_type": "execute_result"
    },
    {
     "data": {
      "image/png": "[encoded data removed]",
      "text/plain": [
       "<Figure size 720x720 with 2 Axes>"
      ]
     },
     "metadata": {
      "needs_background": "light"
     },
     "output_type": "display_data"
    }
   ],
   "source": [
    "hydrograph(\n",
    "    discharge=discharge,\n",
    "    reference='observation',\n",
    ")"
   ]
  },
  {
   "cell_type": "code",
   "execution_count": null,
   "id": "5e4cca88-c196-4fea-9bd8-6cb62705b05a",
   "metadata": {},
   "outputs": [],
   "source": []
  }
 ],
 "metadata": {
  "kernelspec": {
   "display_name": "Python 3",
   "language": "python",
   "name": "python3"
  },
  "language_info": {
   "codemirror_mode": {
    "name": "ipython",
    "version": 3
   },
   "file_extension": ".py",
   "mimetype": "text/x-python",
   "name": "python",
   "nbconvert_exporter": "python",
   "pygments_lexer": "ipython3",
   "version": "3.9.2"
  }
 },
 "nbformat": 4,
 "nbformat_minor": 5
}
