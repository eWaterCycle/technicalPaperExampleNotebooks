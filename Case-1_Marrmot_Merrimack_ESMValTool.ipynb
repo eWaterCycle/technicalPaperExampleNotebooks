{
 "cells": [
  {
   "cell_type": "markdown",
   "id": "9aa4b892",
   "metadata": {},
   "source": [
    "![image](https://www.ewatercycle.org/assets/logo.png)"
   ]
  },
  {
   "cell_type": "markdown",
   "id": "d6b7ffe4",
   "metadata": {},
   "source": [
    "# Case study -1: Hellow world. Generate forcings and run Marrmot model\n",
    "\n",
    "This notebook demostractes how to use a model in eWatercycle by showing how to run a model on a catchment and forcing data (ERA5). This notebook also contains the steps for the preprocessing of the forcing data into model specific datasets using ESMValTool.\n",
    "\n",
    "The model used in this notebook is:\n",
    "\n",
    "* Marrmot M01 Collie River 1 (traditional bucket)\n"
   ]
  },
  {
   "cell_type": "markdown",
   "id": "3e318040",
   "metadata": {},
   "source": [
    "## Import statements\n",
    "We'll be using the following modules"
   ]
  },
  {
   "cell_type": "code",
   "execution_count": null,
   "id": "31f81999",
   "metadata": {},
   "outputs": [],
   "source": [
    "from datetime import datetime\n",
    "\n",
    "from cftime import num2date\n",
    "\n",
    "from ewatercycle import forcing\n",
    "from ewatercycle.models import MarrmotM01\n",
    "from ewatercycle.observation.grdc import get_grdc_data\n",
    "from ewatercycle.analysis import hydrograph"
   ]
  },
  {
   "cell_type": "markdown",
   "id": "e4aa3a85",
   "metadata": {},
   "source": [
    "### Directory settings"
   ]
  },
  {
   "cell_type": "code",
   "execution_count": null,
   "id": "82cb9cef",
   "metadata": {},
   "outputs": [],
   "source": []
  },
  {
   "cell_type": "markdown",
   "id": "dbeca6b8",
   "metadata": {},
   "source": [
    "### Experiment settings"
   ]
  },
  {
   "cell_type": "code",
   "execution_count": null,
   "id": "eeb59639",
   "metadata": {},
   "outputs": [],
   "source": [
    "dataset = \"ERA5\"\n",
    "start_date = datetime(2001, 1, 1)\n",
    "end_date = datetime(2002, 1, 15)\n",
    "shapefile = \"Merrimack/Merrimack.shp\"\n",
    "\n",
    "# GRDC station for Merrimack river\n",
    "grdc_station_id = \"4147380\""
   ]
  },
  {
   "cell_type": "markdown",
   "id": "27be1db2",
   "metadata": {},
   "source": [
    "### Model specific settings"
   ]
  },
  {
   "cell_type": "code",
   "execution_count": null,
   "id": "0654409f",
   "metadata": {},
   "outputs": [],
   "source": [
    "# Values based on previous calibration\n",
    "maximum_soil_moisture_storage = 1999.0\n",
    "initial_soil_moisture_storage = 0.9 * maximum_soil_moisture_storage\n",
    "\n",
    "discharge_variable = \"flux_out_Q\"\n",
    "# flux_out_Q unit conversion factor from mm/day to m3/s\n",
    "conversion_mmday2m3s = 1 / (1000 * 86400)"
   ]
  },
  {
   "cell_type": "markdown",
   "id": "73b622e1",
   "metadata": {},
   "source": [
    "## Derived constants"
   ]
  },
  {
   "cell_type": "code",
   "execution_count": null,
   "id": "470c7df0",
   "metadata": {},
   "outputs": [],
   "source": [
    "# project directories for model input i.e. shape files and forcing\n",
    "shape = shapereader.Reader(shapefile)\n",
    "attr = next(shape.records())\n",
    "merrimack_area = attr.attributes[\"SUB_AREA\"] * 1e6\n",
    "print(\"The catchment area is:\", merrimack_area)"
   ]
  },
  {
   "cell_type": "markdown",
   "id": "b4700f3a",
   "metadata": {},
   "source": [
    "### Pre processing model forcing using ESMValTool"
   ]
  },
  {
   "cell_type": "code",
   "execution_count": null,
   "id": "67bfffa8",
   "metadata": {},
   "outputs": [],
   "source": [
    "forcing_output = forcing.generate(\n",
    "    model='marrmot',\n",
    "    dataset=dataset,\n",
    "    startyear=start_date.year,\n",
    "    endyear=end_date.year,\n",
    "    shapefile=shapefile\n",
    ")\n",
    "forcing_output"
   ]
  },
  {
   "cell_type": "markdown",
   "id": "19bb57d7",
   "metadata": {},
   "source": [
    "### Setting up the model object"
   ]
  },
  {
   "cell_type": "code",
   "execution_count": null,
   "id": "d315b8fc",
   "metadata": {},
   "outputs": [],
   "source": [
    "model = MarrmotM01()"
   ]
  },
  {
   "cell_type": "code",
   "execution_count": null,
   "id": "04886cba",
   "metadata": {},
   "outputs": [],
   "source": [
    "cfg_file, cfg_dir = model.setup(\n",
    "    forcing=forcing_output,\n",
    "    maximum_soil_moisture_storage=maximum_soil_moisture_storage,\n",
    "    initial_soil_moisture_storage=initial_soil_moisture_storage,\n",
    ")\n",
    "cfg_file, cfg_dir"
   ]
  },
  {
   "cell_type": "code",
   "execution_count": null,
   "id": "28b105fb",
   "metadata": {},
   "outputs": [],
   "source": [
    "model.initialize(str(cfg_file))"
   ]
  },
  {
   "cell_type": "markdown",
   "id": "02a16f0c",
   "metadata": {},
   "source": [
    "### Run model & capture discharge"
   ]
  },
  {
   "cell_type": "code",
   "execution_count": null,
   "id": "55f08ccc",
   "metadata": {},
   "outputs": [],
   "source": [
    "time_units = model.get_time_units()\n",
    "timestamps = []\n",
    "output = []"
   ]
  },
  {
   "cell_type": "code",
   "execution_count": null,
   "id": "93b91bc4",
   "metadata": {},
   "outputs": [],
   "source": [
    "while (model.get_current_time() < model.get_end_time()):\n",
    "    model.update()\n",
    "    current_time = num2date(\n",
    "        model.get_current_time(),\n",
    "        time_units,\n",
    "        only_use_cftime_datetimes=False\n",
    "    )\n",
    "    timestamps.append(current_time)\n",
    "    # Marrmot M01 is a lumped model, so only single value is returned\n",
    "    value_in_mmday = model.get_value(discharge_variable)[0]\n",
    "    # Convert from mm/day to m3/s\n",
    "    value = value_in_mmday * merrimack_area * conversion_mmday2m3s\n",
    "    output.append(value)"
   ]
  },
  {
   "cell_type": "code",
   "execution_count": null,
   "id": "d75b765b",
   "metadata": {},
   "outputs": [],
   "source": [
    "# Show last 10 values\n",
    "zip(timestamps, output)[-10:]"
   ]
  },
  {
   "cell_type": "markdown",
   "id": "40e3038a",
   "metadata": {},
   "source": [
    "### Load observations"
   ]
  },
  {
   "cell_type": "code",
   "execution_count": null,
   "id": "66ef6ca9",
   "metadata": {},
   "outputs": [],
   "source": [
    "observations = get_grdc_data(\n",
    "    station_id=grdc_station_id,\n",
    "    start_date=start_date.strftime(\"%Y-%m-%d\"),\n",
    "    end_date=end_date.strftime(\"%Y-%m-%d\"),\n",
    ")\n",
    "observations"
   ]
  },
  {
   "cell_type": "markdown",
   "id": "20b6289f",
   "metadata": {},
   "source": [
    "### Plot hydrograph"
   ]
  },
  {
   "cell_type": "code",
   "execution_count": 3,
   "id": "49e9a590",
   "metadata": {},
   "outputs": [],
   "source": [
    "# TODO combine model output and observations into single dataframe\n",
    "discharge = ???"
   ]
  },
  {
   "cell_type": "code",
   "execution_count": null,
   "id": "1d403c4f",
   "metadata": {},
   "outputs": [],
   "source": [
    "hydrograph(\n",
    "    discharge=discharge,\n",
    "    reference='observation',\n",
    ")"
   ]
  }
 ],
 "metadata": {
  "kernelspec": {
   "display_name": "Python 3",
   "language": "python",
   "name": "python3"
  },
  "language_info": {
   "codemirror_mode": {
    "name": "ipython",
    "version": 3
   },
   "file_extension": ".py",
   "mimetype": "text/x-python",
   "name": "python",
   "nbconvert_exporter": "python",
   "pygments_lexer": "ipython3",
   "version": "3.9.2"
  }
 },
 "nbformat": 4,
 "nbformat_minor": 5
}
