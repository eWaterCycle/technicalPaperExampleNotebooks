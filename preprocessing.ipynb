{
 "cells": [
  {
   "cell_type": "code",
   "execution_count": 1,
   "metadata": {},
   "outputs": [],
   "source": [
    "%load_ext autoreload\n",
    "%autoreload 2"
   ]
  },
  {
   "cell_type": "markdown",
   "metadata": {},
   "source": [
    "## Ewatercycle preprocessing\n",
    "\n",
    "\n",
    "As an eWaterCycle user  \n",
    "I want an example of a notebook doing pre-processing  \n",
    "So I can use this to base my own experiments on  \n",
    "\n",
    "The interface to forcing should be something along the lines of \n",
    "\n",
    "```python\n",
    "import forcing\n",
    "forcing.generate(\n",
    "    forcing='ERA5', \n",
    "    model='Marrmot', \n",
    "    startyear=2012, \n",
    "    endyear=2020, \n",
    "    catchment='/some/file.shp'\n",
    ")\n",
    "```\n",
    "\n",
    "which first generates a recipe, runs the recipe, and returns the result"
   ]
  },
  {
   "cell_type": "code",
   "execution_count": 2,
   "metadata": {},
   "outputs": [],
   "source": [
    "from forcing import generate"
   ]
  },
  {
   "cell_type": "code",
   "execution_count": 8,
   "metadata": {},
   "outputs": [
    {
     "name": "stderr",
     "output_type": "stream",
     "text": [
      "[autoreload of forcing failed: Traceback (most recent call last):\n",
      "  File \"/home/stef/miniconda3/envs/esmvaltool/lib/python3.8/site-packages/IPython/extensions/autoreload.py\", line 245, in check\n",
      "    superreload(m, reload, self.old_objects)\n",
      "  File \"/home/stef/miniconda3/envs/esmvaltool/lib/python3.8/site-packages/IPython/extensions/autoreload.py\", line 394, in superreload\n",
      "    module = reload(module)\n",
      "  File \"/home/stef/miniconda3/envs/esmvaltool/lib/python3.8/imp.py\", line 314, in reload\n",
      "    return importlib.reload(module)\n",
      "  File \"/home/stef/miniconda3/envs/esmvaltool/lib/python3.8/importlib/__init__.py\", line 169, in reload\n",
      "    _bootstrap._exec(spec, module)\n",
      "  File \"<frozen importlib._bootstrap>\", line 604, in _exec\n",
      "  File \"<frozen importlib._bootstrap_external>\", line 779, in exec_module\n",
      "  File \"<frozen importlib._bootstrap_external>\", line 916, in get_code\n",
      "  File \"<frozen importlib._bootstrap_external>\", line 846, in source_to_code\n",
      "  File \"<frozen importlib._bootstrap>\", line 219, in _call_with_frames_removed\n",
      "  File \"/home/stef/r/technicalpaperexamplenotebooks/forcing/__init__.py\", line 1\n",
      "    def generate(\\,\n",
      "                   ^\n",
      "SyntaxError: unexpected character after line continuation character\n",
      "]\n"
     ]
    },
    {
     "ename": "TypeError",
     "evalue": "generate() missing 4 required keyword-only arguments: 'model', 'startyear', 'endyear', and 'catchment'",
     "output_type": "error",
     "traceback": [
      "\u001b[0;31m---------------------------------------------------------------------------\u001b[0m",
      "\u001b[0;31mTypeError\u001b[0m                                 Traceback (most recent call last)",
      "\u001b[0;32m<ipython-input-8-33d93fc0d3a3>\u001b[0m in \u001b[0;36m<module>\u001b[0;34m\u001b[0m\n\u001b[0;32m----> 1\u001b[0;31m \u001b[0mgenerate\u001b[0m\u001b[0;34m(\u001b[0m\u001b[0mforcing\u001b[0m\u001b[0;34m=\u001b[0m\u001b[0;34m'rawr'\u001b[0m\u001b[0;34m)\u001b[0m\u001b[0;34m\u001b[0m\u001b[0;34m\u001b[0m\u001b[0m\n\u001b[0m",
      "\u001b[0;31mTypeError\u001b[0m: generate() missing 4 required keyword-only arguments: 'model', 'startyear', 'endyear', and 'catchment'"
     ]
    }
   ],
   "source": [
    "generate(forcing='rawr')"
   ]
  },
  {
   "cell_type": "code",
   "execution_count": null,
   "metadata": {},
   "outputs": [],
   "source": []
  }
 ],
 "metadata": {
  "kernelspec": {
   "display_name": "esmvaltool",
   "language": "python",
   "name": "esmvaltool"
  },
  "language_info": {
   "codemirror_mode": {
    "name": "ipython",
    "version": 3
   },
   "file_extension": ".py",
   "mimetype": "text/x-python",
   "name": "python",
   "nbconvert_exporter": "python",
   "pygments_lexer": "ipython3",
   "version": "3.8.6"
  }
 },
 "nbformat": 4,
 "nbformat_minor": 4
}
