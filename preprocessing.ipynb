{
 "cells": [
  {
   "cell_type": "code",
   "execution_count": null,
   "metadata": {},
   "outputs": [],
   "source": [
    "%load_ext autoreload\n",
    "%autoreload 2"
   ]
  },
  {
   "cell_type": "markdown",
   "metadata": {},
   "source": [
    "## Ewatercycle preprocessing\n",
    "\n",
    "\n",
    "As an eWaterCycle user  \n",
    "I want an example of a notebook doing pre-processing  \n",
    "So I can use this to base my own experiments on  \n",
    "\n",
    "The interface to forcing should be something along the lines of \n",
    "\n",
    "```python\n",
    "import forcing\n",
    "forcing.generate(\n",
    "    forcing='ERA5', \n",
    "    model='Marrmot', \n",
    "    startyear=2012, \n",
    "    endyear=2020, \n",
    "    catchment='/some/file.shp'\n",
    ")\n",
    "```\n",
    "\n",
    "which first generates a recipe, runs the recipe, and returns the result"
   ]
  },
  {
   "cell_type": "code",
   "execution_count": null,
   "metadata": {},
   "outputs": [],
   "source": [
    "from forcing import forcing"
   ]
  },
  {
   "cell_type": "markdown",
   "metadata": {},
   "source": [
    "## Marrmot"
   ]
  },
  {
   "cell_type": "code",
   "execution_count": null,
   "metadata": {},
   "outputs": [],
   "source": [
    "output = forcing.generate(\n",
    "    model='marrmot', \n",
    "    forcings=['ERA-Interim', 'ERA5'], \n",
    "    startyear=1990, \n",
    "    endyear=2018, \n",
    "    shapefile='Meuse/Meuse.shp',\n",
    ")"
   ]
  },
  {
   "cell_type": "markdown",
   "metadata": {},
   "source": [
    "## Lisflood"
   ]
  },
  {
   "cell_type": "code",
   "execution_count": null,
   "metadata": {},
   "outputs": [],
   "source": [
    "output = forcing.generate(\n",
    "    model='lisflood', \n",
    "    forcings=['ERA-Interim', 'ERA5'], \n",
    "    startyear=1990, \n",
    "    endyear=1990, \n",
    "    shapefile='Lorentz_Basin_Shapefiles/Meuse/Meuse.shp',\n",
    "    extract_region={\n",
    "        'start_longitude': 0,\n",
    "        'end_longitude': 9,\n",
    "        'start_latitude': 45,\n",
    "        'end_latitude': 54,\n",
    "    }\n",
    ")"
   ]
  },
  {
   "cell_type": "markdown",
   "metadata": {},
   "source": [
    "## Hype"
   ]
  },
  {
   "cell_type": "code",
   "execution_count": null,
   "metadata": {},
   "outputs": [],
   "source": [
    "output = forcing.generate(\n",
    "    model='hype', \n",
    "    forcings=['ERA-Interim', 'ERA5'], \n",
    "    startyear=1979, \n",
    "    endyear=1979, \n",
    "    shapefile='Meuse_HYPE.shp',\n",
    ")"
   ]
  },
  {
   "cell_type": "markdown",
   "metadata": {},
   "source": [
    "## Wflow"
   ]
  },
  {
   "cell_type": "code",
   "execution_count": null,
   "metadata": {},
   "outputs": [],
   "source": [
    "output = forcing.generate(\n",
    "    model='wflow', \n",
    "    forcings=['ERA-Interim', 'ERA5'], \n",
    "    startyear=1990, \n",
    "    endyear=1990, \n",
    "    dem_file='wflow/wflow_dem_Meuse.nc',\n",
    "    extract_region={\n",
    "            'start_longitude': 0,\n",
    "            'end_longitude': 6.75,\n",
    "            'start_latitude': 47.25,\n",
    "            'end_latitude': 52.5,\n",
    "    },\n",
    ")"
   ]
  },
  {
   "cell_type": "markdown",
   "metadata": {},
   "source": [
    "## Pcrglobwb"
   ]
  },
  {
   "cell_type": "code",
   "execution_count": null,
   "metadata": {},
   "outputs": [],
   "source": [
    "output = forcing.generate(\n",
    "    model='pcrglobwb', \n",
    "    forcings=['ERA-Interim', 'ERA5'], \n",
    "    startyear=2002,\n",
    "    endyear=2016,\n",
    "    startyear_climatology=1990,\n",
    "    endyear_climatology=2002,\n",
    "    basin='rhine',\n",
    "    extract_region={\n",
    "        'start_longitude': 3,\n",
    "        'end_longitude': 13.5,\n",
    "        'start_latitude': 45,\n",
    "        'end_latitude': 54,\n",
    "    },\n",
    ")"
   ]
  },
  {
   "cell_type": "code",
   "execution_count": null,
   "metadata": {},
   "outputs": [],
   "source": []
  }
 ],
 "metadata": {
  "kernelspec": {
   "display_name": "esmvaltool",
   "language": "python",
   "name": "esmvaltool"
  },
  "language_info": {
   "codemirror_mode": {
    "name": "ipython",
    "version": 3
   },
   "file_extension": ".py",
   "mimetype": "text/x-python",
   "name": "python",
   "nbconvert_exporter": "python",
   "pygments_lexer": "ipython3",
   "version": "3.8.6"
  }
 },
 "nbformat": 4,
 "nbformat_minor": 4
}
