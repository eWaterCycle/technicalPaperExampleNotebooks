{
 "cells": [
  {
   "cell_type": "code",
   "execution_count": null,
   "metadata": {},
   "outputs": [],
   "source": [
    "%load_ext autoreload\n",
    "%autoreload 2"
   ]
  },
  {
   "cell_type": "markdown",
   "metadata": {},
   "source": [
    "## Ewatercycle preprocessing\n",
    "\n",
    "\n",
    "As an eWaterCycle user  \n",
    "I want an example of a notebook doing pre-processing  \n",
    "So I can use this to base my own experiments on  \n",
    "\n",
    "The interface to forcing should be something along the lines of \n",
    "\n",
    "```python\n",
    "import forcing\n",
    "forcing.generate(\n",
    "    forcing='ERA5', \n",
    "    model='Marrmot', \n",
    "    startyear=2012, \n",
    "    endyear=2020, \n",
    "    catchment='/some/file.shp'\n",
    ")\n",
    "```\n",
    "\n",
    "which first generates a recipe, runs the recipe, and returns the result"
   ]
  },
  {
   "cell_type": "code",
   "execution_count": null,
   "metadata": {},
   "outputs": [],
   "source": [
    "import forcing"
   ]
  },
  {
   "cell_type": "code",
   "execution_count": null,
   "metadata": {
    "scrolled": false
   },
   "outputs": [],
   "source": [
    "output = forcing.generate(\n",
    "    model='marrmot', \n",
    "    forcings=['ERA5'], \n",
    "    startyear=2012, \n",
    "    endyear=2020, \n",
    "    basin='Meuse',\n",
    ")"
   ]
  },
  {
   "cell_type": "code",
   "execution_count": null,
   "metadata": {},
   "outputs": [],
   "source": []
  }
 ],
 "metadata": {
  "kernelspec": {
   "display_name": "esmvaltool",
   "language": "python",
   "name": "esmvaltool"
  },
  "language_info": {
   "codemirror_mode": {
    "name": "ipython",
    "version": 3
   },
   "file_extension": ".py",
   "mimetype": "text/x-python",
   "name": "python",
   "nbconvert_exporter": "python",
   "pygments_lexer": "ipython3",
   "version": "3.8.6"
  }
 },
 "nbformat": 4,
 "nbformat_minor": 4
}
