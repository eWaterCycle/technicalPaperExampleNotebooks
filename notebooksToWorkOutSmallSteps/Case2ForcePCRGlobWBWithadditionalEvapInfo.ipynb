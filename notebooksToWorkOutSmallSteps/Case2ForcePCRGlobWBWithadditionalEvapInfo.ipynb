{
 "cells": [
  {
   "cell_type": "markdown",
   "metadata": {},
   "source": [
    "![image](https://www.ewatercycle.org/img/logo.png)"
   ]
  },
  {
   "cell_type": "markdown",
   "metadata": {},
   "source": [
    "# Case study 3: replace internal evaporation module of PCRGlobWB2.0 with external data source\n",
    "This notebooks demonstrates how to use eWaterCycle to 'interfere' in a model. Every timestep, the evaporation of PCRGlobWB is 'corrected' to reflect the evaporation as calucalated by ERA5. In this way, the model is forced by both precipitation and evaporation from ERA5. "
   ]
  },
  {
   "cell_type": "markdown",
   "metadata": {},
   "source": [
    "## Import statements\n",
    "We'll be using the following modules"
   ]
  },
  {
   "cell_type": "code",
   "execution_count": 1,
   "metadata": {},
   "outputs": [],
   "source": [
    "# TODO: clean up code to consistently use the same convention! This is now a mess of \n",
    "# double imports because this notebook is constructed from two example notebooks \n",
    "# written by different team members at different times in the project.\n",
    "\n",
    "#OS related \n",
    "from os import environ, remove\n",
    "from os.path import abspath\n",
    "import os\n",
    "from pathlib import Path\n",
    "from glob import glob\n",
    "from configparser import ConfigParser\n",
    "\n",
    "#Time and time object related\n",
    "import time\n",
    "from datetime import datetime\n",
    "from cftime import num2date\n",
    "\n",
    "#calculations and plotting\n",
    "import matplotlib.pyplot as plt\n",
    "import numpy as np\n",
    "import pandas as pd\n",
    "import scipy.io as sio\n",
    "import xarray as xr\n",
    "from scipy import optimize\n",
    "from tqdm import tqdm\n",
    "\n",
    "#cartography (drawing maps)\n",
    "from cartopy.io import shapereader\n",
    "from cartopy import crs\n",
    "\n",
    "#hydrological specific non eWaterCycle\n",
    "import hydrostats.metrics as hm\n",
    "import hydrostats.visual as hv\n",
    "\n",
    "#eWaterCycle specific\n",
    "from ewatercycle.observation.grdc import get_grdc_data\n",
    "from grpc4bmi.bmi_client_docker import BmiClientDocker"
   ]
  },
  {
   "cell_type": "code",
   "execution_count": 2,
   "metadata": {},
   "outputs": [],
   "source": [
    "import pickle"
   ]
  },
  {
   "cell_type": "markdown",
   "metadata": {},
   "source": [
    "## functions needed\n",
    "\n",
    "The following functions are needed for this experiment.\n",
    "\n",
    "TO DO: all of these need to become part of libraries, or at least be moved to a supporting .py file that is imported above"
   ]
  },
  {
   "cell_type": "code",
   "execution_count": 3,
   "metadata": {},
   "outputs": [],
   "source": [
    "# This function takes an BMI model object, extracts variable and stores it \n",
    "# as an xarray object. For this to work, the variable does need to have a propper\n",
    "# setup grid. See the BMI documentation on grids.\n",
    "\n",
    "def var_to_xarray(model, variable):\n",
    "    # Get grid properties from model (x = latitude !!)\n",
    "    # could be speedup, lots of bmi calls are done here that dont change between updates\n",
    "    shape = model.get_grid_shape(model.get_var_grid(variable))\n",
    "    lat = model.get_grid_x(model.get_var_grid(variable))\n",
    "    lon = model.get_grid_y(model.get_var_grid(variable))\n",
    "    time = num2date(model.get_current_time(), model.get_time_units())\n",
    "\n",
    "    # Get model data for variable at current timestep\n",
    "    data = model.get_value(variable)\n",
    "    data = np.reshape(data, shape)\n",
    "\n",
    "    # Create xarray object\n",
    "    da = xr.DataArray(data, \n",
    "                      coords = {'longitude': lon, 'latitude': lat, 'time': time}, \n",
    "                      dims = ['latitude', 'longitude'],\n",
    "                      name = variable,\n",
    "                      attrs = {'units': model.get_var_units(variable)}\n",
    "                     )\n",
    "\n",
    "    # Masked invalid values on return array:\n",
    "    return da.where(da != -999)"
   ]
  },
  {
   "cell_type": "code",
   "execution_count": 4,
   "metadata": {},
   "outputs": [],
   "source": [
    "# The following two functions translate lat,lon coordinates into BMI model \n",
    "# indices, which are used to get and set variable values.\n",
    "\n",
    "def lat_lon_to_closest_variable_indices(model, variable, lats, lons):\n",
    "    \n",
    "    #get shape of model grid and lat-lon coordinates of grid\n",
    "    shape = model.get_grid_shape(model.get_var_grid(variable))\n",
    "    latModel = model.get_grid_x(model.get_var_grid(variable))\n",
    "    lonModel = model.get_grid_y(model.get_var_grid(variable))\n",
    "    nx = len(latModel)\n",
    "    \n",
    "    #for each coordinate given, determine where in the grid they fall and \n",
    "    #calculate 1D indeces\n",
    "    if len(lats) == 1:\n",
    "        idx = np.abs(latModel - lats).argmin()\n",
    "        idy = np.abs(lonModel - lons).argmin()\n",
    "        output = idx+nx*idy\n",
    "    else:\n",
    "        output=[]\n",
    "        for [lat,lon] in [lats,lons]:\n",
    "            idx = np.abs(latModel - lat).argmin()\n",
    "            idy = np.abs(lonModel - lon).argmin()\n",
    "            output.append(idx+nx*idy) \n",
    "\n",
    "    return np.array(output)\n",
    "\n",
    "def lat_lon_boundingbox_to_variable_indices(model, variable, latMin, latMax, lonMin, lonMax):\n",
    "    #get shape of model grid and lat-lon coordinates of grid\n",
    "    shape = model.get_grid_shape(model.get_var_grid(variable))\n",
    "    latModel = model.get_grid_x(model.get_var_grid(variable))\n",
    "    lonModel = model.get_grid_y(model.get_var_grid(variable))\n",
    "    nx = len(latModel)\n",
    "\n",
    "    idx = [i for i,v in enumerate(latModel) if ((v > latMin) and (v < latMax))]\n",
    "    idy = [i for i,v in enumerate(lonModel) if ((v > lonMin) and (v < lonMax))]\n",
    "    \n",
    "    output = []\n",
    "    for x in idx:\n",
    "        for y in idy:\n",
    "            output.append(x + nx*y)\n",
    "    \n",
    "    return np.array(output)"
   ]
  },
  {
   "cell_type": "markdown",
   "metadata": {},
   "source": [
    "## List of files created for this experiment\n",
    "\n",
    "### for PCRGlobWB2.0\n",
    "\n",
    "- `rhine_05min_era5.ini` This file is identical to the file with the same name used in the big comparison study. The only difference is that the time period (variables startTime and endTime) have been set to 2002-01-01 and 2002-12-31 respectivly. \n",
    "\n"
   ]
  },
  {
   "cell_type": "markdown",
   "metadata": {},
   "source": [
    "## Settings and parameters to run this experiment\n",
    "The settings below are seperated in settings that 'belong' to the experiment, those that belong to PCRGlobWB or those that belong with MARRMoT"
   ]
  },
  {
   "cell_type": "code",
   "execution_count": 5,
   "metadata": {},
   "outputs": [],
   "source": [
    "#Settings for this experiment\n",
    "\n",
    "# The project home directory where data lives and output should be written\n",
    "PROJECT_HOME = Path(os.path.abspath(\"/mnt/home/user42\"))\n",
    "DATA_HOME = Path(os.path.abspath(\"/mnt/data/examples/technical_paper\"))\n",
    "\n",
    "# Settings for GRDC station for final comparison of streamflow\n",
    "dstart = '2002-01-01'\n",
    "dend = '2002-12-31'\n",
    "station_id = '6335020' # GRDC station ID\n",
    "basin_name = 'Rhine'\n",
    "\n"
   ]
  },
  {
   "cell_type": "code",
   "execution_count": 6,
   "metadata": {},
   "outputs": [],
   "source": [
    "#Settings for PCRGlobWB2.0\n",
    "PCRGlob_input_dir=str(DATA_HOME / 'pcr-globwb' / 'input')\n",
    "PCRGlob_Ref_output_dir=str(PROJECT_HOME / 'case2' / 'PCRGlobREFOutput')\n",
    "PCRGlob_Exp_output_dir=str(PROJECT_HOME / 'case2' / 'PCRGlobExpOutput')\n",
    "#forcing_dir = '/mnt/data/examples/technical_paper/pcr-globwb/input/'\n",
    "\n",
    "PCRGlob_setting_file = str(PROJECT_HOME / 'technicalPaperExampleNotebooks' / 'settingFiles' \n",
    "                           / 'merrimack_05min_era5.ini')\n"
   ]
  },
  {
   "cell_type": "markdown",
   "metadata": {},
   "source": [
    "## Setting up the model objects"
   ]
  },
  {
   "cell_type": "code",
   "execution_count": 7,
   "metadata": {},
   "outputs": [],
   "source": [
    "# start up a container for PCRGlob for the reference run \n",
    "# and initialize using the setting file\n",
    "PCRGlob_Ref_model = BmiClientDocker(image='ewatercycle/pcrg-grpc4bmi:latest', image_port=55555,\n",
    "\n",
    "                   input_dir=PCRGlob_input_dir,\n",
    "\n",
    "                   output_dir=PCRGlob_Ref_output_dir)\n",
    "\n",
    " \n",
    "\n",
    "PCRGlob_Ref_model.initialize(PCRGlob_setting_file)"
   ]
  },
  {
   "cell_type": "code",
   "execution_count": 8,
   "metadata": {},
   "outputs": [],
   "source": [
    "# start up a container for PCRGlob for the reference run \n",
    "# and initialize using the setting file\n",
    "PCRGlob_Exp_model = BmiClientDocker(image='ewatercycle/pcrg-grpc4bmi:latest', image_port=55555,\n",
    "\n",
    "                   input_dir=PCRGlob_input_dir,\n",
    "\n",
    "                   output_dir=PCRGlob_Exp_output_dir)\n",
    "\n",
    " \n",
    "\n",
    "PCRGlob_Exp_model.initialize(PCRGlob_setting_file)"
   ]
  },
  {
   "cell_type": "code",
   "execution_count": 9,
   "metadata": {},
   "outputs": [],
   "source": [
    "#finally, create variables needed during the experiment run\n",
    "PCRGlob_Ref_output = []\n",
    "PCRGlob_Exp_output = []\n",
    "\n",
    "PCRGlob_time_units = PCRGlob_Exp_model.get_time_units()"
   ]
  },
  {
   "cell_type": "markdown",
   "metadata": {},
   "source": [
    "# importaing evaporation data from Fluxnet"
   ]
  },
  {
   "cell_type": "code",
   "execution_count": 12,
   "metadata": {},
   "outputs": [],
   "source": [
    "#read the csv file downloaded from [TODO]\n",
    "fluxnetData = pd.read_csv('FLX_US-Ha1_FLUXNET2015_SUBSET_DD_1991-2012_1-4.csv') #Read fluxnet data from exel\n",
    "fluxnetData['Datetime']=pd.to_datetime(fluxnetData['TIMESTAMP'],format='%Y%m%d')\n",
    "fluxnetData = fluxnetData.set_index('Datetime')\n",
    "\n",
    "#Select evaporation measured as latent heat flux from fluxnetdata\n",
    "#and rewrite evaporation from latent heat flux to m/day\n",
    "fluxnetEvaporation = fluxnetData['LE_F_MDS'] / (2.43 * 1000000) * 6772 ** 2 / (3600 * 24) \n"
   ]
  },
  {
   "cell_type": "code",
   "execution_count": 17,
   "metadata": {},
   "outputs": [
    {
     "data": {
      "text/plain": [
       "'days since 1901-01-01'"
      ]
     },
     "execution_count": 17,
     "metadata": {},
     "output_type": "execute_result"
    }
   ],
   "source": [
    "PCRGlob_time_units"
   ]
  },
  {
   "cell_type": "code",
   "execution_count": 27,
   "metadata": {},
   "outputs": [],
   "source": [
    "modelTimeAsDateTime = pd.to_datetime(num2date(PCRGlob_Ref_model.get_current_time(),PCRGlob_time_units).strftime())"
   ]
  },
  {
   "cell_type": "code",
   "execution_count": 28,
   "metadata": {},
   "outputs": [
    {
     "data": {
      "text/plain": [
       "-0.00040943761911675045"
      ]
     },
     "execution_count": 28,
     "metadata": {},
     "output_type": "execute_result"
    }
   ],
   "source": [
    "fluxnetEvaporation[modelTimeAsDateTime]"
   ]
  },
  {
   "cell_type": "code",
   "execution_count": 32,
   "metadata": {},
   "outputs": [
    {
     "name": "stderr",
     "output_type": "stream",
     "text": [
      "/mnt/apps/conda/envs/ewatercycle/lib/python3.7/site-packages/ipykernel_launcher.py:1: RuntimeWarning: divide by zero encountered in true_divide\n",
      "  \"\"\"Entry point for launching an IPython kernel.\n",
      "/mnt/apps/conda/envs/ewatercycle/lib/python3.7/site-packages/ipykernel_launcher.py:1: RuntimeWarning: invalid value encountered in multiply\n",
      "  \"\"\"Entry point for launching an IPython kernel.\n",
      "/mnt/apps/conda/envs/ewatercycle/lib/python3.7/site-packages/ipykernel_launcher.py:5: RuntimeWarning: divide by zero encountered in double_scalars\n",
      "  \"\"\"\n",
      "/mnt/apps/conda/envs/ewatercycle/lib/python3.7/site-packages/ipykernel_launcher.py:10: RuntimeWarning: invalid value encountered in multiply\n",
      "  # Remove the CWD from sys.path while we load stuff.\n"
     ]
    }
   ],
   "source": [
    "muss =  1 / PCRGlob_Exp_model.get_value('upper_soil_saturation_degree') * PCRGlob_Exp_model.get_value('upper_soil_storage') # maximum storage value of the upper soil layer\n",
    "#     print(muss)\n",
    "lse = PCRGlob_Exp_model.get_value('land_surface_evaporation')\n",
    "mlse = np.nanmean(lse) # Mean land surface evaporation will be compared with the fluxnet measured evaporation\n",
    "flse = fluxnetEvaporation[modelTimeAsDateTime] / mlse\n",
    "#aflse[i] = flse\n",
    "\n",
    "uss = PCRGlob_Exp_model.get_value('upper_soil_storage')\n",
    "bse = PCRGlob_Exp_model.get_value('bare_soil_evaporation') # Bare soil evaporation\n",
    "abse = bse * flse # \"Actual\" bare soil evaporation\n",
    "#aabse.append(abse)\n",
    "cbse = abse - bse # correction bare soil evaporation\n",
    "cs = PCRGlob_Exp_model.get_value('channel_storage') # channel storage\n"
   ]
  },
  {
   "cell_type": "code",
   "execution_count": 35,
   "metadata": {},
   "outputs": [
    {
     "data": {
      "text/plain": [
       "array([0.       , 0.       , 0.       , ..., 0.46875  , 0.9453125,\n",
       "       0.671875 ])"
      ]
     },
     "execution_count": 35,
     "metadata": {},
     "output_type": "execute_result"
    }
   ],
   "source": [
    "cs"
   ]
  },
  {
   "cell_type": "markdown",
   "metadata": {},
   "source": [
    "## Running the experiment\n",
    "With all pieces in place, we can now start to run the actual experiment. Since both models (reference and epxeriment) do not interact, they can be run in seperate loops and (ideally) this should be done in parallel."
   ]
  },
  {
   "cell_type": "code",
   "execution_count": 10,
   "metadata": {},
   "outputs": [
    {
     "name": "stdout",
     "output_type": "stream",
     "text": [
      "Running Reference Model Run\n",
      "Current time: 2002-12-30 00:00:00\n"
     ]
    }
   ],
   "source": [
    "print(f'Running Reference Model Run', flush=True)\n",
    "\n",
    "#the experiment model is used as central 'time keeper'\n",
    "while PCRGlob_Ref_model.get_current_time() < PCRGlob_Ref_model.get_end_time():\n",
    "    \n",
    "    #get the current time to print\n",
    "    time = num2date(PCRGlob_Ref_model.get_current_time(), PCRGlob_time_units)\n",
    "    print(f'Current time: {time}', end=\"\\r\")\n",
    "\n",
    "    #run the reference model for one timestep, store the output\n",
    "    PCRGlob_Ref_model.update()\n",
    "    PCRGlob_Ref_output.append(var_to_xarray(PCRGlob_Ref_model, variable=\"discharge\"))\n",
    "\n",
    "print('')"
   ]
  },
  {
   "cell_type": "code",
   "execution_count": 36,
   "metadata": {},
   "outputs": [
    {
     "name": "stdout",
     "output_type": "stream",
     "text": [
      "Running Experiment\n",
      "Current time: 2001-12-31 00:00:00\r"
     ]
    },
    {
     "name": "stderr",
     "output_type": "stream",
     "text": [
      "/mnt/apps/conda/envs/ewatercycle/lib/python3.7/site-packages/ipykernel_launcher.py:10: RuntimeWarning: divide by zero encountered in true_divide\n",
      "  # Remove the CWD from sys.path while we load stuff.\n",
      "/mnt/apps/conda/envs/ewatercycle/lib/python3.7/site-packages/ipykernel_launcher.py:10: RuntimeWarning: invalid value encountered in multiply\n",
      "  # Remove the CWD from sys.path while we load stuff.\n",
      "/mnt/apps/conda/envs/ewatercycle/lib/python3.7/site-packages/ipykernel_launcher.py:14: RuntimeWarning: divide by zero encountered in double_scalars\n",
      "  \n",
      "/mnt/apps/conda/envs/ewatercycle/lib/python3.7/site-packages/ipykernel_launcher.py:19: RuntimeWarning: invalid value encountered in multiply\n"
     ]
    },
    {
     "ename": "_InactiveRpcError",
     "evalue": "<_InactiveRpcError of RPC that terminated with:\n\tstatus = StatusCode.UNKNOWN\n\tdetails = \"Exception calling application: 'LandSurface' object has no attribute 'satDegUpp'\"\n\tdebug_error_string = \"{\"created\":\"@1614703602.013980152\",\"description\":\"Error received from peer ipv6:[::1]:56761\",\"file\":\"src/core/lib/surface/call.cc\",\"file_line\":1055,\"grpc_message\":\"Exception calling application: 'LandSurface' object has no attribute 'satDegUpp'\",\"grpc_status\":2}\"\n>",
     "output_type": "error",
     "traceback": [
      "\u001b[0;31m---------------------------------------------------------------------------\u001b[0m",
      "\u001b[0;31m_InactiveRpcError\u001b[0m                         Traceback (most recent call last)",
      "\u001b[0;32m<ipython-input-36-e73733db23e6>\u001b[0m in \u001b[0;36m<module>\u001b[0;34m\u001b[0m\n\u001b[1;32m     45\u001b[0m     \u001b[0mcussd\u001b[0m \u001b[0;34m=\u001b[0m \u001b[0muss\u001b[0m \u001b[0;34m/\u001b[0m \u001b[0mmuss\u001b[0m \u001b[0;31m# Corrected upper soil saturation degree\u001b[0m\u001b[0;34m\u001b[0m\u001b[0;34m\u001b[0m\u001b[0m\n\u001b[1;32m     46\u001b[0m \u001b[0;34m\u001b[0m\u001b[0m\n\u001b[0;32m---> 47\u001b[0;31m     \u001b[0mPCRGlob_Exp_model\u001b[0m\u001b[0;34m.\u001b[0m\u001b[0mset_value\u001b[0m\u001b[0;34m(\u001b[0m\u001b[0;34m'upper_soil_saturation_degree'\u001b[0m\u001b[0;34m,\u001b[0m \u001b[0mcussd\u001b[0m\u001b[0;34m)\u001b[0m \u001b[0;31m#After all the pixels have been corrected add the new saturation degrees to the model\u001b[0m\u001b[0;34m\u001b[0m\u001b[0;34m\u001b[0m\u001b[0m\n\u001b[0m\u001b[1;32m     48\u001b[0m     \u001b[0mPCRGlob_Exp_model\u001b[0m\u001b[0;34m.\u001b[0m\u001b[0mset_value\u001b[0m\u001b[0;34m(\u001b[0m\u001b[0;34m'channel_storage'\u001b[0m\u001b[0;34m,\u001b[0m \u001b[0mcs\u001b[0m\u001b[0;34m)\u001b[0m \u001b[0;31m#After all the pixels have been corrected add the new channel storage to the model\u001b[0m\u001b[0;34m\u001b[0m\u001b[0;34m\u001b[0m\u001b[0m\n\u001b[1;32m     49\u001b[0m \u001b[0;34m\u001b[0m\u001b[0m\n",
      "\u001b[0;32m/mnt/apps/conda/envs/ewatercycle/lib/python3.7/site-packages/grpc4bmi/bmi_grpc_client.py\u001b[0m in \u001b[0;36mset_value\u001b[0;34m(self, var_name, src)\u001b[0m\n\u001b[1;32m    170\u001b[0m         \u001b[0;32melse\u001b[0m\u001b[0;34m:\u001b[0m\u001b[0;34m\u001b[0m\u001b[0;34m\u001b[0m\u001b[0m\n\u001b[1;32m    171\u001b[0m             \u001b[0;32mraise\u001b[0m \u001b[0mNotImplementedError\u001b[0m\u001b[0;34m(\u001b[0m\u001b[0;34m\"Arrays with type %s cannot be transmitted through this GRPC channel\"\u001b[0m \u001b[0;34m%\u001b[0m \u001b[0msrc\u001b[0m\u001b[0;34m.\u001b[0m\u001b[0mdtype\u001b[0m\u001b[0;34m)\u001b[0m\u001b[0;34m\u001b[0m\u001b[0;34m\u001b[0m\u001b[0m\n\u001b[0;32m--> 172\u001b[0;31m         \u001b[0mself\u001b[0m\u001b[0;34m.\u001b[0m\u001b[0mstub\u001b[0m\u001b[0;34m.\u001b[0m\u001b[0msetValue\u001b[0m\u001b[0;34m(\u001b[0m\u001b[0mrequest\u001b[0m\u001b[0;34m)\u001b[0m\u001b[0;34m\u001b[0m\u001b[0;34m\u001b[0m\u001b[0m\n\u001b[0m\u001b[1;32m    173\u001b[0m \u001b[0;34m\u001b[0m\u001b[0m\n\u001b[1;32m    174\u001b[0m     \u001b[0;32mdef\u001b[0m \u001b[0mset_value_at_indices\u001b[0m\u001b[0;34m(\u001b[0m\u001b[0mself\u001b[0m\u001b[0;34m,\u001b[0m \u001b[0mvar_name\u001b[0m\u001b[0;34m,\u001b[0m \u001b[0mindices\u001b[0m\u001b[0;34m,\u001b[0m \u001b[0msrc\u001b[0m\u001b[0;34m)\u001b[0m\u001b[0;34m:\u001b[0m\u001b[0;34m\u001b[0m\u001b[0;34m\u001b[0m\u001b[0m\n",
      "\u001b[0;32m/mnt/apps/conda/envs/ewatercycle/lib/python3.7/site-packages/grpc/_channel.py\u001b[0m in \u001b[0;36m__call__\u001b[0;34m(self, request, timeout, metadata, credentials, wait_for_ready, compression)\u001b[0m\n\u001b[1;32m    824\u001b[0m         state, call, = self._blocking(request, timeout, metadata, credentials,\n\u001b[1;32m    825\u001b[0m                                       wait_for_ready, compression)\n\u001b[0;32m--> 826\u001b[0;31m         \u001b[0;32mreturn\u001b[0m \u001b[0m_end_unary_response_blocking\u001b[0m\u001b[0;34m(\u001b[0m\u001b[0mstate\u001b[0m\u001b[0;34m,\u001b[0m \u001b[0mcall\u001b[0m\u001b[0;34m,\u001b[0m \u001b[0;32mFalse\u001b[0m\u001b[0;34m,\u001b[0m \u001b[0;32mNone\u001b[0m\u001b[0;34m)\u001b[0m\u001b[0;34m\u001b[0m\u001b[0;34m\u001b[0m\u001b[0m\n\u001b[0m\u001b[1;32m    827\u001b[0m \u001b[0;34m\u001b[0m\u001b[0m\n\u001b[1;32m    828\u001b[0m     def with_call(self,\n",
      "\u001b[0;32m/mnt/apps/conda/envs/ewatercycle/lib/python3.7/site-packages/grpc/_channel.py\u001b[0m in \u001b[0;36m_end_unary_response_blocking\u001b[0;34m(state, call, with_call, deadline)\u001b[0m\n\u001b[1;32m    727\u001b[0m             \u001b[0;32mreturn\u001b[0m \u001b[0mstate\u001b[0m\u001b[0;34m.\u001b[0m\u001b[0mresponse\u001b[0m\u001b[0;34m\u001b[0m\u001b[0;34m\u001b[0m\u001b[0m\n\u001b[1;32m    728\u001b[0m     \u001b[0;32melse\u001b[0m\u001b[0;34m:\u001b[0m\u001b[0;34m\u001b[0m\u001b[0;34m\u001b[0m\u001b[0m\n\u001b[0;32m--> 729\u001b[0;31m         \u001b[0;32mraise\u001b[0m \u001b[0m_InactiveRpcError\u001b[0m\u001b[0;34m(\u001b[0m\u001b[0mstate\u001b[0m\u001b[0;34m)\u001b[0m\u001b[0;34m\u001b[0m\u001b[0;34m\u001b[0m\u001b[0m\n\u001b[0m\u001b[1;32m    730\u001b[0m \u001b[0;34m\u001b[0m\u001b[0m\n\u001b[1;32m    731\u001b[0m \u001b[0;34m\u001b[0m\u001b[0m\n",
      "\u001b[0;31m_InactiveRpcError\u001b[0m: <_InactiveRpcError of RPC that terminated with:\n\tstatus = StatusCode.UNKNOWN\n\tdetails = \"Exception calling application: 'LandSurface' object has no attribute 'satDegUpp'\"\n\tdebug_error_string = \"{\"created\":\"@1614703602.013980152\",\"description\":\"Error received from peer ipv6:[::1]:56761\",\"file\":\"src/core/lib/surface/call.cc\",\"file_line\":1055,\"grpc_message\":\"Exception calling application: 'LandSurface' object has no attribute 'satDegUpp'\",\"grpc_status\":2}\"\n>"
     ]
    }
   ],
   "source": [
    "print(f'Running Experiment', flush=True)\n",
    "\n",
    "#the experiment model is used as central 'time keeper'\n",
    "while PCRGlob_Exp_model.get_current_time() < PCRGlob_Exp_model.get_end_time():\n",
    "    \n",
    "    #get the current time to print\n",
    "    time = num2date(PCRGlob_Exp_model.get_current_time(), PCRGlob_time_units)\n",
    "    print(f'Current time: {time}', end=\"\\r\")\n",
    "\n",
    "    muss =  1 / PCRGlob_Exp_model.get_value('upper_soil_saturation_degree') * PCRGlob_Exp_model.get_value('upper_soil_storage') # maximum storage value of the upper soil layer\n",
    "    #     print(muss)\n",
    "    lse = PCRGlob_Exp_model.get_value('land_surface_evaporation')\n",
    "    mlse = np.nanmean(lse) # Mean land surface evaporation will be compared with the fluxnet measured evaporation\n",
    "    flse = fluxnetEvaporation[modelTimeAsDateTime] / mlse\n",
    "    #aflse[i] = flse\n",
    "\n",
    "    uss = PCRGlob_Exp_model.get_value('upper_soil_storage')\n",
    "    bse = PCRGlob_Exp_model.get_value('bare_soil_evaporation') # Bare soil evaporation\n",
    "    abse = bse * flse # \"Actual\" bare soil evaporation\n",
    "    #aabse.append(abse)\n",
    "    cbse = abse - bse # correction bare soil evaporation\n",
    "    cs = PCRGlob_Exp_model.get_value('channel_storage') # channel storage   \n",
    "\n",
    "    for j in range(len(uss)):\n",
    "        if uss[j] + cbse[j] > muss[j]:\n",
    "            # The correction addition exeeds the maximum storage capacity in the upper soil layer for pixel j. \n",
    "            # The additional water is redirected to the channel storage.\n",
    "            acs = (uss[j] + cbse[j]) - muss[j] # aditional channel storage\n",
    "            cs[j] = cs[j] + acs #Edit the channel storage in pixel j\n",
    "            uss[j] = muss[j] # Set the uppers soil storage for pixel j to maximum (the layer is full)\n",
    "\n",
    "        elif uss[j] + cbse[j] < 0:\n",
    "            # The correction addition reduces the storage capacity in the uppers soil layer to below zero.\n",
    "            # A negative storage value is not possible therefore the (remaining) water deficit is taken from the channel storage.\n",
    "            rfcs = (uss[j] + cbse[j]) # required from channel storage\n",
    "            cs[j] = cs[j] + rfcs #Edit the channel storage for pixel j\n",
    "            uss[j] = 0 #Edit the upper soil storage for pixel j to zero (the layer is empty)\n",
    "           \n",
    "        else:\n",
    "            # If the correction additon does not put the value of the soil storage above or below its limits the correction flux is just added.\n",
    "            uss[j] = uss[j] + cbse[j]\n",
    "            cussd = uss / muss # Current upper soil saturation degree\n",
    "\n",
    "    \n",
    "    cussd = uss / muss # Corrected upper soil saturation degree\n",
    "    \n",
    "    PCRGlob_Exp_model.set_value('upper_soil_saturation_degree', cussd) #After all the pixels have been corrected add the new saturation degrees to the model\n",
    "    PCRGlob_Exp_model.set_value('channel_storage', cs) #After all the pixels have been corrected add the new channel storage to the model\n",
    "    \n",
    "    #Run the experiment PCRGlobWB model one timestep, store the output\n",
    "    PCRGlob_Exp_model.update()\n",
    "    PCRGlob_Exp_output.append(var_to_xarray(PCRGlob_Exp_model, variable=\"discharge\"))\n",
    "    \n",
    "\n",
    "print('')"
   ]
  },
  {
   "cell_type": "code",
   "execution_count": 39,
   "metadata": {},
   "outputs": [
    {
     "ename": "_InactiveRpcError",
     "evalue": "<_InactiveRpcError of RPC that terminated with:\n\tstatus = StatusCode.UNKNOWN\n\tdetails = \"Exception calling application: 'LandSurface' object has no attribute 'satDegUpp'\"\n\tdebug_error_string = \"{\"created\":\"@1614703775.293206054\",\"description\":\"Error received from peer ipv6:[::1]:56761\",\"file\":\"src/core/lib/surface/call.cc\",\"file_line\":1055,\"grpc_message\":\"Exception calling application: 'LandSurface' object has no attribute 'satDegUpp'\",\"grpc_status\":2}\"\n>",
     "output_type": "error",
     "traceback": [
      "\u001b[0;31m---------------------------------------------------------------------------\u001b[0m",
      "\u001b[0;31m_InactiveRpcError\u001b[0m                         Traceback (most recent call last)",
      "\u001b[0;32m<ipython-input-39-603e8c10bb1e>\u001b[0m in \u001b[0;36m<module>\u001b[0;34m\u001b[0m\n\u001b[0;32m----> 1\u001b[0;31m \u001b[0mPCRGlob_Exp_model\u001b[0m\u001b[0;34m.\u001b[0m\u001b[0mset_value\u001b[0m\u001b[0;34m(\u001b[0m\u001b[0;34m'upper_soil_saturation_degree'\u001b[0m\u001b[0;34m,\u001b[0m\u001b[0mcs\u001b[0m\u001b[0;34m)\u001b[0m\u001b[0;34m\u001b[0m\u001b[0;34m\u001b[0m\u001b[0m\n\u001b[0m",
      "\u001b[0;32m/mnt/apps/conda/envs/ewatercycle/lib/python3.7/site-packages/grpc4bmi/bmi_grpc_client.py\u001b[0m in \u001b[0;36mset_value\u001b[0;34m(self, var_name, src)\u001b[0m\n\u001b[1;32m    170\u001b[0m         \u001b[0;32melse\u001b[0m\u001b[0;34m:\u001b[0m\u001b[0;34m\u001b[0m\u001b[0;34m\u001b[0m\u001b[0m\n\u001b[1;32m    171\u001b[0m             \u001b[0;32mraise\u001b[0m \u001b[0mNotImplementedError\u001b[0m\u001b[0;34m(\u001b[0m\u001b[0;34m\"Arrays with type %s cannot be transmitted through this GRPC channel\"\u001b[0m \u001b[0;34m%\u001b[0m \u001b[0msrc\u001b[0m\u001b[0;34m.\u001b[0m\u001b[0mdtype\u001b[0m\u001b[0;34m)\u001b[0m\u001b[0;34m\u001b[0m\u001b[0;34m\u001b[0m\u001b[0m\n\u001b[0;32m--> 172\u001b[0;31m         \u001b[0mself\u001b[0m\u001b[0;34m.\u001b[0m\u001b[0mstub\u001b[0m\u001b[0;34m.\u001b[0m\u001b[0msetValue\u001b[0m\u001b[0;34m(\u001b[0m\u001b[0mrequest\u001b[0m\u001b[0;34m)\u001b[0m\u001b[0;34m\u001b[0m\u001b[0;34m\u001b[0m\u001b[0m\n\u001b[0m\u001b[1;32m    173\u001b[0m \u001b[0;34m\u001b[0m\u001b[0m\n\u001b[1;32m    174\u001b[0m     \u001b[0;32mdef\u001b[0m \u001b[0mset_value_at_indices\u001b[0m\u001b[0;34m(\u001b[0m\u001b[0mself\u001b[0m\u001b[0;34m,\u001b[0m \u001b[0mvar_name\u001b[0m\u001b[0;34m,\u001b[0m \u001b[0mindices\u001b[0m\u001b[0;34m,\u001b[0m \u001b[0msrc\u001b[0m\u001b[0;34m)\u001b[0m\u001b[0;34m:\u001b[0m\u001b[0;34m\u001b[0m\u001b[0;34m\u001b[0m\u001b[0m\n",
      "\u001b[0;32m/mnt/apps/conda/envs/ewatercycle/lib/python3.7/site-packages/grpc/_channel.py\u001b[0m in \u001b[0;36m__call__\u001b[0;34m(self, request, timeout, metadata, credentials, wait_for_ready, compression)\u001b[0m\n\u001b[1;32m    824\u001b[0m         state, call, = self._blocking(request, timeout, metadata, credentials,\n\u001b[1;32m    825\u001b[0m                                       wait_for_ready, compression)\n\u001b[0;32m--> 826\u001b[0;31m         \u001b[0;32mreturn\u001b[0m \u001b[0m_end_unary_response_blocking\u001b[0m\u001b[0;34m(\u001b[0m\u001b[0mstate\u001b[0m\u001b[0;34m,\u001b[0m \u001b[0mcall\u001b[0m\u001b[0;34m,\u001b[0m \u001b[0;32mFalse\u001b[0m\u001b[0;34m,\u001b[0m \u001b[0;32mNone\u001b[0m\u001b[0;34m)\u001b[0m\u001b[0;34m\u001b[0m\u001b[0;34m\u001b[0m\u001b[0m\n\u001b[0m\u001b[1;32m    827\u001b[0m \u001b[0;34m\u001b[0m\u001b[0m\n\u001b[1;32m    828\u001b[0m     def with_call(self,\n",
      "\u001b[0;32m/mnt/apps/conda/envs/ewatercycle/lib/python3.7/site-packages/grpc/_channel.py\u001b[0m in \u001b[0;36m_end_unary_response_blocking\u001b[0;34m(state, call, with_call, deadline)\u001b[0m\n\u001b[1;32m    727\u001b[0m             \u001b[0;32mreturn\u001b[0m \u001b[0mstate\u001b[0m\u001b[0;34m.\u001b[0m\u001b[0mresponse\u001b[0m\u001b[0;34m\u001b[0m\u001b[0;34m\u001b[0m\u001b[0m\n\u001b[1;32m    728\u001b[0m     \u001b[0;32melse\u001b[0m\u001b[0;34m:\u001b[0m\u001b[0;34m\u001b[0m\u001b[0;34m\u001b[0m\u001b[0m\n\u001b[0;32m--> 729\u001b[0;31m         \u001b[0;32mraise\u001b[0m \u001b[0m_InactiveRpcError\u001b[0m\u001b[0;34m(\u001b[0m\u001b[0mstate\u001b[0m\u001b[0;34m)\u001b[0m\u001b[0;34m\u001b[0m\u001b[0;34m\u001b[0m\u001b[0m\n\u001b[0m\u001b[1;32m    730\u001b[0m \u001b[0;34m\u001b[0m\u001b[0m\n\u001b[1;32m    731\u001b[0m \u001b[0;34m\u001b[0m\u001b[0m\n",
      "\u001b[0;31m_InactiveRpcError\u001b[0m: <_InactiveRpcError of RPC that terminated with:\n\tstatus = StatusCode.UNKNOWN\n\tdetails = \"Exception calling application: 'LandSurface' object has no attribute 'satDegUpp'\"\n\tdebug_error_string = \"{\"created\":\"@1614703775.293206054\",\"description\":\"Error received from peer ipv6:[::1]:56761\",\"file\":\"src/core/lib/surface/call.cc\",\"file_line\":1055,\"grpc_message\":\"Exception calling application: 'LandSurface' object has no attribute 'satDegUpp'\",\"grpc_status\":2}\"\n>"
     ]
    }
   ],
   "source": [
    "PCRGlob_Exp_model.set_value('upper_soil_saturation_degree',cs)"
   ]
  },
  {
   "cell_type": "markdown",
   "metadata": {},
   "source": [
    "### clean up after the model run\n",
    "The models have to be 'finalized', which deletes any temporary files and the containers have to be shut down."
   ]
  },
  {
   "cell_type": "code",
   "execution_count": null,
   "metadata": {},
   "outputs": [],
   "source": [
    "PCRGlob_Ref_model.finalize()\n",
    "#PCRGlob_Exp_model.finalize()\n",
    "\n",
    "\n",
    "#del PCRGlob_Exp_model\n",
    "del PCRGlob_Ref_model\n"
   ]
  },
  {
   "cell_type": "code",
   "execution_count": null,
   "metadata": {},
   "outputs": [],
   "source": [
    "f = open('.\\..\\modelrunFull.pckl', 'wb')\n",
    "pickle.dump([PCRGlob_Ref_output, PCRGlob_Exp_output, MARRMot_output],f)\n",
    "f.close()\n",
    "del f"
   ]
  },
  {
   "cell_type": "markdown",
   "metadata": {},
   "source": [
    "## Import GRDC observations\n",
    "\n",
    "Read the GRDC data for the period of the experiment, for the station given above. \n",
    "If you are not on jupyter.ewatercycle.org or cartesius, download the GRDC https://www.bafg.de/GRDC/EN/02_srvcs/21_tmsrs/riverdischarge_node.html and set the directory below in GRDC_DATA_HOME env var.\n",
    "\n",
    "### TODO the four lines at the end of the cell should become part of the get_grdc_data function, which (I think) should return a dict."
   ]
  },
  {
   "cell_type": "code",
   "execution_count": null,
   "metadata": {},
   "outputs": [],
   "source": [
    "#on Cartesius:\n",
    "#environ['GRDC_DATA_HOME']= '/projects/0/wtrcycle/GRDC/GRDC_GCOSGTN-H_27_03_2019'\n",
    "\n",
    "#on jupyter.ewatercycle.org\n",
    "environ['GRDC_DATA_HOME']= '/mnt/data/grdc/dailies' \n",
    "\n",
    "observations = get_grdc_data(station_id, start_date=dstart, end_date=dend)\n",
    "grdc_obs = observations.to_dataframe().rename(columns = {'streamflow': 'GRDC'})\n",
    "grdc_lon = observations.attrs['grdc_longitude_in_arc_degree']\n",
    "grdc_lat = observations.attrs['grdc_latitude_in_arc_degree']"
   ]
  },
  {
   "cell_type": "markdown",
   "metadata": {},
   "source": [
    "## Plot the results"
   ]
  },
  {
   "cell_type": "code",
   "execution_count": null,
   "metadata": {},
   "outputs": [],
   "source": [
    "#f = open('.\\..\\modelrunFull.pckl', 'rb')\n",
    "#data = pickle.load(f)\n",
    "#f.close()\n",
    "#del f"
   ]
  },
  {
   "cell_type": "code",
   "execution_count": null,
   "metadata": {},
   "outputs": [],
   "source": [
    "dataExp  = xr.concat(PCRGlob_Exp_output, dim='time')\n",
    "dataRef  = xr.concat(PCRGlob_Ref_output, dim='time')"
   ]
  },
  {
   "cell_type": "code",
   "execution_count": null,
   "metadata": {},
   "outputs": [],
   "source": [
    "fig, axs = plt.subplots(1, 1, figsize=(10, 10), dpi=120)\n",
    "\n",
    "dataExp.isel(time=-1).plot(ax=axs, cmap='YlGnBu', robust=True)\n",
    "axs.set_title('test')\n",
    "plt.tight_layout()\n",
    "fig.savefig(f'pcrglobwb_RolfTestRhine_discharge_map', bbox_inches='tight', dpi=300)"
   ]
  },
  {
   "cell_type": "code",
   "execution_count": null,
   "metadata": {},
   "outputs": [],
   "source": [
    "pad=.2\n",
    "\n",
    "# Write data for model output at GRDC location to pandas series,\n",
    "# Use padding and max to correct for GRDC station location error\n",
    "dataExpAtGRDCLocation = dataExp.sel(longitude=slice(grdc_lon-pad, grdc_lon+pad), \n",
    "                         latitude=slice(grdc_lat-pad, grdc_lat+pad)\n",
    "                        ).max(['longitude', 'latitude']\n",
    "                        ).rename('ERA5Exp'\n",
    "                        ).to_dataframe()\n",
    "\n",
    "dataExpAtGRDCLocation.index=dataExpAtGRDCLocation.index.to_datetimeindex()\n",
    "\n",
    "dataRefAtGRDCLocation = dataRef.sel(longitude=slice(grdc_lon-pad, grdc_lon+pad), \n",
    "                         latitude=slice(grdc_lat-pad, grdc_lat+pad)\n",
    "                        ).max(['longitude', 'latitude']\n",
    "                        ).rename('ERA5Ref'\n",
    "                        ).to_dataframe()\n",
    "\n",
    "dataRefAtGRDCLocation.index=dataRefAtGRDCLocation.index.to_datetimeindex()\n",
    "\n"
   ]
  },
  {
   "cell_type": "code",
   "execution_count": null,
   "metadata": {},
   "outputs": [],
   "source": [
    "# Combine timeseries of ERA-Interim, ERA5 and GRDC observations in a pandas dataframe\n",
    "df = pd.concat([dataExpAtGRDCLocation, dataRefAtGRDCLocation, grdc_obs],axis = 1)\n",
    "\n",
    "# Note: the data come at different time stamps\n",
    "print(df.head())\n",
    "\n",
    "# For now, interpolating to get similar sets:\n",
    "df = df.fillna(method='ffill').dropna()\n",
    "print(df.head())"
   ]
  },
  {
   "cell_type": "code",
   "execution_count": null,
   "metadata": {},
   "outputs": [],
   "source": [
    "fig, ax = plt.subplots(dpi=120)\n",
    "df.plot(ax=ax)\n",
    "ax.set_ylim(1000, 10000)\n",
    "ax.set_ylabel('Streamflow (m$^3$ s$^{-1}$)')\n",
    "ax.legend(['PCRGlobWB Moselle replaced by MARRMoT-m01','PCRGlobWB normal','Observations from GRDC'])\n",
    "\n",
    "dataset='ERA5Ref'\n",
    "yloc=0.6\n",
    "ax.text(1.02, yloc, f\"{dataset}:\\n\"\n",
    "        f\"NSE: {hm.nse(df[dataset], df['GRDC']):.2f} \\n\"\n",
    "        f\"KGE (2009): {hm.kge_2009(df[dataset], df['GRDC']):.2f}\\n\"\n",
    "        f\"SA: {hm.sa(df[dataset], df['GRDC']):.2f}\\n\"\n",
    "        f\"ME: {hm.me(df[dataset], df['GRDC']):.2f}\",\n",
    "        transform=ax.transAxes, va='top')\n",
    "\n",
    "fig.savefig(f'pcrglobwb_{basin_name}_hydrograph', bbox_inches='tight', dpi=300)\n"
   ]
  }
 ],
 "metadata": {
  "kernelspec": {
   "display_name": "Python 3",
   "language": "python",
   "name": "python3"
  },
  "language_info": {
   "codemirror_mode": {
    "name": "ipython",
    "version": 3
   },
   "file_extension": ".py",
   "mimetype": "text/x-python",
   "name": "python",
   "nbconvert_exporter": "python",
   "pygments_lexer": "ipython3",
   "version": "3.7.7"
  }
 },
 "nbformat": 4,
 "nbformat_minor": 4
}
