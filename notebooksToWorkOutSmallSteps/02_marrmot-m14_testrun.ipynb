{
 "cells": [
  {
   "cell_type": "markdown",
   "metadata": {},
   "source": [
    "![image](https://www.ewatercycle.org/img/logo.png)"
   ]
  },
  {
   "cell_type": "markdown",
   "metadata": {},
   "source": [
    "# MARRMoT-m14 TOPMODEL - a test notebook for calibration and running\n",
    "This notebooks calibrates and runs the MARRMoT-m14 model for a single catchment and a single forcing dataset. The output cannot be trusted because this testrun is meant to illustrate the workflow.\n",
    "Specific settings for this test run include the catchment, corresponding station ID, forcing dataset, a parameter range with large step size and the number of days to spinup and run the model instead of the full period.\n",
    "\n",
    "More detailed information about the specific setup required to reproduce this analysis is available in the [ReadMe](https://github.com/eWaterCycle/era5-comparison/blob/master/marrmot-m14/README.md)."
   ]
  },
  {
   "cell_type": "markdown",
   "metadata": {},
   "source": [
    "## Import statements\n",
    "We'll be using the following modules:"
   ]
  },
  {
   "cell_type": "code",
   "execution_count": 10,
   "metadata": {},
   "outputs": [],
   "source": [
    "import os\n",
    "import time\n",
    "from datetime import datetime\n",
    "from pathlib import Path\n",
    "\n",
    "import hydrostats.metrics as hm\n",
    "import hydrostats.visual as hv\n",
    "import matplotlib.pyplot as plt\n",
    "import numpy as np\n",
    "import pandas as pd\n",
    "import scipy.io as sio\n",
    "import xarray as xr\n",
    "from cartopy.io import shapereader\n",
    "from cftime import num2date\n",
    "from ewatercycle.observation.grdc import get_grdc_data\n",
    "from grpc4bmi.bmi_client_singularity import BmiClientSingularity\n",
    "from tqdm import tqdm\n",
    "import cma"
   ]
  },
  {
   "cell_type": "markdown",
   "metadata": {},
   "source": [
    "## General settings\n",
    "The cell below defines all the settings for the comparison study. Note that we use capitals for 'global' variables. This is not strictly necessary, but it makes them very recognizable later on in the notebook. Particularly, we sometimes reference these variables from inside functions, without passing them explicitly as function arguments."
   ]
  },
  {
   "cell_type": "code",
   "execution_count": 11,
   "metadata": {},
   "outputs": [],
   "source": [
    "# The project home directory where data lives and output should be written\n",
    "PROJECT_HOME = Path(\"/projects/0/wtrcycle/comparison/\")\n",
    "\n",
    "# The location where this notebook will put a timestamped temp dir\n",
    "TEMP_LOC = Path(\"/scratch/shared/ewatercycle/\")\n",
    "\n",
    "# forcing dataset and directory\n",
    "# Note: forcing data are the same for different marrmot models\n",
    "FORCING_DIR = PROJECT_HOME / \"forcing\" / \"marrmot-m01\"\n",
    "\n",
    "# catchments and corresponding GRDC station ID\n",
    "dataset = \"ERA-Interim\"\n",
    "catchment = \"Rhine\"\n",
    "station_id = \"6335020\"\n",
    "\n",
    "# test period for both validation and calibration (Year, Month, Date)\n",
    "PERIOD = {\n",
    "    \"spinup\": datetime(2001, 1, 1),\n",
    "    \"start\": datetime(2001, 2, 1),\n",
    "    \"end\": datetime(2001, 12, 31),\n",
    "}\n",
    "\n",
    "# flux_out_Q unit conversion factor from mm/day to m3/s\n",
    "conversion = 1 / (1000 * 86400)"
   ]
  },
  {
   "cell_type": "code",
   "execution_count": 12,
   "metadata": {},
   "outputs": [
    {
     "name": "stdout",
     "output_type": "stream",
     "text": [
      "/scratch/shared/ewatercycle/marrmot-m14_20210128_134835\n"
     ]
    }
   ],
   "source": [
    "# add a timestamped directory to the main tempdir\n",
    "TEMP_DIR = TEMP_LOC / f\"marrmot-m14_{time.strftime('%Y%m%d_%H%M%S')}\"\n",
    "TEMP_DIR.mkdir(parents=True, exist_ok=True)\n",
    "print(TEMP_DIR)"
   ]
  },
  {
   "cell_type": "markdown",
   "metadata": {},
   "source": [
    "## Functions for the model run and calibration\n",
    "\n",
    "To calibrate the model, we need to run the model several times, with different parameter settings. To do so, we defined some functions for: writing a specific config file, initializing a singularity image and running the model for given period.\n",
    "\n",
    "The function `objective_function()` can be used as first argument to the optimization methods. As optimization metric we use that Nash–Sutcliffe model efficiency coefficient (NSE), comparing the model output with GRDC data. NSE values range between `-inf < NSE < 1` with close to 1 indicating a good match, while the optimization expects the closer to zero the better. Therefore we use the value `1 - nse_value` as objective function."
   ]
  },
  {
   "cell_type": "code",
   "execution_count": 13,
   "metadata": {},
   "outputs": [],
   "source": [
    "def write_config(parameters, catchment, forcing):\n",
    "    \"\"\"Write model configuration file.\n",
    "\n",
    "    Adds the model parameters to forcing file for the given period\n",
    "    and catchment including the spinup year and writes this information\n",
    "    to a model configuration file.\n",
    "    \"\"\"\n",
    "    # get the forcing that was created with ESMValTool\n",
    "    forcing_file = f\"marrmot-m01_{forcing}_{catchment}_{PERIOD['spinup'].year}_{PERIOD['end'].year}.mat\"\n",
    "    forcing_data = sio.loadmat(FORCING_DIR / forcing_file, mat_dtype=True)\n",
    "\n",
    "    # select forcing data\n",
    "    forcing_data[\"time_end\"][0][0:3] = [\n",
    "        PERIOD[\"end\"].year,\n",
    "        PERIOD[\"end\"].month,\n",
    "        PERIOD[\"end\"].day,\n",
    "    ]\n",
    "\n",
    "    suzmax = parameters[0]\n",
    "    # combine forcing and model parameters\n",
    "    forcing_data.update(\n",
    "        model_name=\"m_14_topmodel_7p_2s\",\n",
    "        parameters=parameters,\n",
    "        solver={\n",
    "            \"name\": \"createOdeApprox_IE\",  # IE:Implicit Euler.\n",
    "            \"resnorm_tolerance\": float(0.1),\n",
    "            \"resnorm_maxiter\": float(6),\n",
    "        },\n",
    "        store_ini=[0.9 * suzmax, 0.9 * suzmax],  # 90% of suzmax\n",
    "    )\n",
    "\n",
    "    # save as new configuration file\n",
    "    config_file = TEMP_DIR / (\n",
    "        f\"config_marrmot-m01_{forcing}_{catchment}_{PERIOD['spinup'].year}_{PERIOD['end'].year}.mat\"\n",
    "    )\n",
    "    sio.savemat(config_file, forcing_data)\n",
    "    return config_file\n",
    "\n",
    "\n",
    "def run_model(parameters, catchment, forcing, variable, test=False):\n",
    "    \"\"\"Run model using Singularity image.\"\"\"\n",
    "    config_name = write_config(parameters, catchment, forcing)\n",
    "    model = BmiClientSingularity(\n",
    "        image=\"ewatercycle-marrmot-grpc4bmi.sif\", input_dir=\".\", output_dir=\".\"\n",
    "    )\n",
    "    model.initialize(config_name)\n",
    "\n",
    "    # Check available variables\n",
    "    if test:\n",
    "        print(\"Model variable names:\", model.get_output_var_names())\n",
    "\n",
    "    # Get time information\n",
    "    time_units = model.get_time_units()\n",
    "    spinup = num2date(model.get_start_time(), time_units)\n",
    "    end = num2date(model.get_end_time(), time_units)\n",
    "\n",
    "    # Get space information\n",
    "    grid = model.get_var_grid(variable)\n",
    "    lat = model.get_grid_x(grid)[0]\n",
    "    lon = model.get_grid_y(grid)[0]\n",
    "\n",
    "    time_range = pd.date_range(\n",
    "        spinup.strftime(\"%Y-%m-%d\"), end.strftime(\"%Y-%m-%d\")\n",
    "    )\n",
    "    desc = f\"Running with parameters:{parameters}\"\n",
    "    variable_overtime = []\n",
    "    variable_time = []\n",
    "    for current_time in tqdm(time_range, desc=desc):\n",
    "        # Store model time and variable output after the spin up period\n",
    "        if current_time >= PERIOD[\"start\"]:\n",
    "            now = num2date(\n",
    "                model.get_current_time(),\n",
    "                time_units,\n",
    "                only_use_cftime_datetimes=False\n",
    "            )\n",
    "            value = model.get_value(variable)[0]\n",
    "            variable_overtime.append(value)\n",
    "            variable_time.append(now.strftime(\"%Y-%m-%d\"))\n",
    "        model.update()\n",
    "    model.finalize()\n",
    "    # Store output as a data array\n",
    "    da = xr.DataArray(\n",
    "        np.array(variable_overtime),\n",
    "        coords={\n",
    "            \"longitude\": lon,\n",
    "            \"latitude\": lat,\n",
    "            \"time\": np.array(variable_time)\n",
    "        },\n",
    "        dims=[\"time\"],\n",
    "        name=variable,\n",
    "        attrs={\"units\": model.get_var_units(variable)},\n",
    "    )\n",
    "    del model\n",
    "    return da\n",
    "\n",
    "\n",
    "def objective_function(parameters, catchment, forcing, observations, area, conversion):\n",
    "    \"\"\"Calculate objective function.\n",
    "\n",
    "    Runs the model, converts the output to GRDC streamflow units\n",
    "    and calculates NSE from simulation data with observation data.\n",
    "    This is the function that is going to be optimized by scipy.brute.\n",
    "    \"\"\"\n",
    "    simulations = run_model(parameters, catchment, forcing, \"flux_out_Q\")\n",
    "\n",
    "    # convert simulated streamflow to same units as observation\n",
    "    simulations = simulations.values * area * conversion\n",
    "    nse_value = hm.nse(simulations, observations)\n",
    "    print(f\"-----objective function value (1-NSE): {1 - nse_value}-----\")\n",
    "    return 1 - nse_value\n"
   ]
  },
  {
   "cell_type": "markdown",
   "metadata": {},
   "source": [
    "## Run the model for a couple of time steps (before calibration)"
   ]
  },
  {
   "cell_type": "code",
   "execution_count": 14,
   "metadata": {},
   "outputs": [
    {
     "name": "stderr",
     "output_type": "stream",
     "text": [
      "Running with parameters:[100.0, 0.05, 0.0, 0.1, 0.0, 1.0, 0.1]:   0%|          | 0/365 [00:00<?, ?it/s]"
     ]
    },
    {
     "name": "stdout",
     "output_type": "stream",
     "text": [
      "Model variable names: ('P', 'T', 'Ep', 'S(t)', 'par', 'sol_resnorm_tolerance', 'sol_resnorm_maxiter', 'flux_out_Q', 'flux_out_Ea', 'wb')\n"
     ]
    },
    {
     "name": "stderr",
     "output_type": "stream",
     "text": [
      "Running with parameters:[100.0, 0.05, 0.0, 0.1, 0.0, 1.0, 0.1]: 100%|██████████| 365/365 [00:39<00:00,  9.32it/s]\n"
     ]
    }
   ],
   "source": [
    "# Let's analyse discharge\n",
    "variable = \"flux_out_Q\"\n",
    "\n",
    "# ranges can be found at:\n",
    "# https://github.com/wknoben/MARRMoT/blob/dev-docker-BMI/MARRMoT/Models/Parameter%20range%20files\n",
    "parameters = [float(100.0),  # suzmax, Maximum soil moisture storage in unsatured zone [mm]\n",
    "              float(0.05),  # st, Threshold for flow generation and evap change as fraction of suzmax [-]\n",
    "              float(0.0),   # kd, Leakage to saturated zone flow coefficient [mm/d]\n",
    "              float(0.1),   # q0, Zero deficit base flow speed [mm/d]\n",
    "              float(0.0),   # m, Baseflow coefficient [mm-1]\n",
    "              float(1.0),   # chi, Gamma distribution parameter [-]\n",
    "              float(0.1)]   # phi, Gamma distribution parameter [-]\n",
    "\n",
    "\n",
    "# when test is true, it prints the model variable names\n",
    "simulations = run_model(parameters, catchment, dataset, variable, test=True)"
   ]
  },
  {
   "cell_type": "markdown",
   "metadata": {},
   "source": [
    "## Get the catchment area in m2 to be used in calibration and comparison"
   ]
  },
  {
   "cell_type": "code",
   "execution_count": 15,
   "metadata": {},
   "outputs": [
    {
     "name": "stdout",
     "output_type": "stream",
     "text": [
      "The catchment area is: 163122500000.0\n"
     ]
    }
   ],
   "source": [
    "# project directories for model input i.e. shape files and forcing\n",
    "SHAPE_DIR = (\n",
    "    PROJECT_HOME / \"recipes_auxiliary_datasets\" / \"Lorentz_Basin_Shapefiles\"\n",
    ")\n",
    "shapefile = SHAPE_DIR / catchment / f\"{catchment}.shp\"\n",
    "shape = shapereader.Reader(shapefile)\n",
    "attr = next(shape.records())\n",
    "area = attr.attributes[\"SUB_AREA\"] * 1e6\n",
    "print(\"The catchment area is:\", area)"
   ]
  },
  {
   "cell_type": "markdown",
   "metadata": {},
   "source": [
    "## Get GRDC observation data to be used in calibration and comparison"
   ]
  },
  {
   "cell_type": "code",
   "execution_count": 16,
   "metadata": {},
   "outputs": [],
   "source": [
    "# add GRDC directory to environment variables\n",
    "os.environ[\"GRDC_DATA_HOME\"] = str(\n",
    "    PROJECT_HOME / \"GRDC\" / \"GRDC_GCOSGTN-H_27_03_2019\"\n",
    ")\n",
    "\n",
    "observations_ds = get_grdc_data(\n",
    "    station_id,\n",
    "    PERIOD['start'].strftime('%Y-%m-%d'),\n",
    "    PERIOD['end'].strftime('%Y-%m-%d'),\n",
    ")"
   ]
  },
  {
   "cell_type": "markdown",
   "metadata": {},
   "source": [
    "## Calibration\n",
    "\n",
    "We use the [CMA Evolution Strategy (CMA-ES) algorithm](https://github.com/CMA-ES/pycma) package.\n",
    "The CMA-ES is initialized with:\n",
    "\n",
    " - initial value (mean) x0 = 7 * [5], here 7 is the number of variables, 5 is the mean value in range [0, 10].\n",
    " - initial step size (standard deviation) sigma0=0.1.\n",
    " - options\n",
    "\n",
    "The values for `bounds: [0,10]` and  `sigma0=0.1` are chosen based on the guides in\n",
    "[practical hints](http://cma.gforge.inria.fr/cmaes_sourcecode_page.html#practical),\n",
    "see sections **Encoding of Variables** and **Initial Values**.\n",
    "The `bounds` are used to make the `transform` function, see below.\n",
    "\n",
    "PARAMETERS_BOUNDS are copied from\n",
    "https://github.com/wknoben/MARRMoT/blob/dev-docker-BMI/MARRMoT/Models/Parameter%20range%20files.\n",
    "\n",
    "- suzmax, Maximum soil moisture storage in unsatured zone [mm]:(1, 2000)\n",
    "- st, Threshold for flow generation and evap change as fraction of suzmax [-]: (0.05, 0.95)\n",
    "- kd, Leakage to saturated zone flow coefficient [mm/d]: (0, 1)\n",
    "- q0, Zero deficit base flow speed [mm/d]: (0.1, 200)\n",
    "- m, Baseflow coefficient [mm-1]: (0, 1)\n",
    "- chi, Gamma distribution parameter [-]: (1, 7.5)\n",
    "- phi, Gamma distribution parameter [-]: (0.1, 5)"
   ]
  },
  {
   "cell_type": "code",
   "execution_count": 17,
   "metadata": {},
   "outputs": [],
   "source": [
    "# Set some options for optimization\n",
    "options = cma.CMAOptions()\n",
    "options.set({\n",
    "    'bounds': [0, 10],  # for scaled parameters\n",
    "    'maxiter': 3,\n",
    "    'seed': 1234,  # set a seed to reproduce results\n",
    "#     'tolfun': 1e-1,\n",
    "#     'tolfunrel': 1e-2,\n",
    "#     'tolx': 1e-2,\n",
    "})\n",
    "\n",
    "# M14 parameter bounds\n",
    "PARAMETERS_BOUNDS = [[1.0, 2000.0],  # suzmax, Maximum soil moisture storage in unsatured zone [mm]\n",
    "                     [0.05, 0.95],  # st, Threshold for flow generation and evap change as fraction of suzmax [-]\n",
    "                     [0.0, 1.0],   # kd, Leakage to saturated zone flow coefficient [mm/d]\n",
    "                     [0.1, 200.0],   # q0, Zero deficit base flow speed [mm/d]\n",
    "                     [0.0, 1.0],   # m, Baseflow coefficient [mm-1]\n",
    "                     [1.0, 7.5],   # chi, Gamma distribution parameter [-]\n",
    "                     [0.1, 5.0]]   # phi, Gamma distribution parameter [-]\n",
    "\n",
    "no_of_variables = len(PARAMETERS_BOUNDS)\n",
    "x0 = 5.0  # initial mean value\n",
    "sigma0 = 0.1  # initial standard deviation\n",
    "\n",
    "# Input arguments of the objective function\n",
    "args = (catchment, dataset, observations_ds[\"streamflow\"], area, conversion)"
   ]
  },
  {
   "cell_type": "markdown",
   "metadata": {},
   "source": [
    "### Functions used by CMA-ES"
   ]
  },
  {
   "cell_type": "code",
   "execution_count": 18,
   "metadata": {},
   "outputs": [],
   "source": [
    "def transform(scaled_parameters):\n",
    "    \"\"\"Transforms the scaled_parameter to parameter.\n",
    "\n",
    "    if x = scaled_parameter and y = parameter,\n",
    "    then x is in the range [0, 10] and y is in the range [a, b].\n",
    "    To map the values [0, 10] into [a, b], we use the transformations a + (b-a) * x/10.\n",
    "    For more information on this transformation,\n",
    "    please see http://cma.gforge.inria.fr/cmaes_sourcecode_page.html#practical\n",
    "    \"\"\"\n",
    "    parameters = []\n",
    "    for scaled_parameter, bound in zip(scaled_parameters, PARAMETERS_BOUNDS):\n",
    "        parameter = bound[0] + ((bound[1] - bound[0]) * (scaled_parameter / 10))\n",
    "        parameters.append(parameter)\n",
    "    return parameters\n",
    "\n",
    "\n",
    "def wrapped_objective_function(scaled_parameters, *args):\n",
    "    \"\"\"A wrapper around the objective function.\n",
    "\n",
    "    The wrapper transforms the scaled_parameters before the actual function call.\n",
    "    \"\"\"\n",
    "    parameters = transform(scaled_parameters)\n",
    "    return objective_function(parameters, *args)"
   ]
  },
  {
   "cell_type": "markdown",
   "metadata": {},
   "source": [
    "### A test run of CMA-ES optimization method"
   ]
  },
  {
   "cell_type": "code",
   "execution_count": 19,
   "metadata": {},
   "outputs": [
    {
     "name": "stdout",
     "output_type": "stream",
     "text": [
      "(4_w,9)-aCMA-ES (mu_w=2.8,w_1=49%) in dimension 7 (seed=1234, Thu Jan 28 13:53:15 2021)\n"
     ]
    },
    {
     "name": "stderr",
     "output_type": "stream",
     "text": [
      "Running with parameters:[1009.9239889230125, 0.4892811421846451, 0.514327274358147, 99.42499546690188, 0.49279390678091345, 4.307667650642177, 2.5921216374465046]: 100%|██████████| 365/365 [00:30<00:00, 12.09it/s]\n"
     ]
    },
    {
     "name": "stdout",
     "output_type": "stream",
     "text": [
      "-----objective function value (1-NSE): 4.593690325431944-----\n"
     ]
    },
    {
     "name": "stderr",
     "output_type": "stream",
     "text": [
      "Running with parameters:[987.7758951466973, 0.5001412683580859, 0.47757283007229256, 102.34897067684446, 0.5099197436406249, 4.311968281440697, 2.450954269084366]: 100%|██████████| 365/365 [00:29<00:00, 12.20it/s]\n"
     ]
    },
    {
     "name": "stdout",
     "output_type": "stream",
     "text": [
      "-----objective function value (1-NSE): 4.6876848176998305-----\n"
     ]
    },
    {
     "name": "stderr",
     "output_type": "stream",
     "text": [
      "Running with parameters:[993.8217934574961, 0.5000190654183324, 0.5040545920380316, 100.62790717361155, 0.5132119594004556, 4.149447547945225, 2.5400699045267694]: 100%|██████████| 365/365 [00:30<00:00, 12.11it/s]\n"
     ]
    },
    {
     "name": "stdout",
     "output_type": "stream",
     "text": [
      "-----objective function value (1-NSE): 4.628707797117966-----\n"
     ]
    },
    {
     "name": "stderr",
     "output_type": "stream",
     "text": [
      "Running with parameters:[987.3871728106628, 0.501740804822509, 0.5055344681728338, 102.68504142137442, 0.49530681306380125, 4.2939125838115135, 2.4609618500581374]: 100%|██████████| 365/365 [00:30<00:00, 12.04it/s]\n"
     ]
    },
    {
     "name": "stdout",
     "output_type": "stream",
     "text": [
      "-----objective function value (1-NSE): 4.632888617986894-----\n"
     ]
    },
    {
     "name": "stderr",
     "output_type": "stream",
     "text": [
      "Running with parameters:[996.8396602818219, 0.5095307907649742, 0.49602154088327577, 100.72455232411214, 0.5104760850413668, 4.317988414730108, 2.5923239611377378]: 100%|██████████| 365/365 [00:29<00:00, 12.25it/s]\n"
     ]
    },
    {
     "name": "stdout",
     "output_type": "stream",
     "text": [
      "-----objective function value (1-NSE): 4.6464410470722886-----\n"
     ]
    },
    {
     "name": "stderr",
     "output_type": "stream",
     "text": [
      "Running with parameters:[998.0593894187949, 0.5011224246012038, 0.496772005830044, 101.73254380540308, 0.5239102882959653, 4.25495315010448, 2.522242959845273]: 100%|██████████| 365/365 [00:28<00:00, 12.72it/s]\n"
     ]
    },
    {
     "name": "stdout",
     "output_type": "stream",
     "text": [
      "-----objective function value (1-NSE): 4.638592464626087-----\n"
     ]
    },
    {
     "name": "stderr",
     "output_type": "stream",
     "text": [
      "Running with parameters:[1001.2224773143147, 0.48132506820189613, 0.5024779573966239, 98.25654515714159, 0.4986320125825901, 4.251188839895509, 2.587016871540866]: 100%|██████████| 365/365 [00:29<00:00, 12.21it/s]\n"
     ]
    },
    {
     "name": "stdout",
     "output_type": "stream",
     "text": [
      "-----objective function value (1-NSE): 4.615602193748815-----\n"
     ]
    },
    {
     "name": "stderr",
     "output_type": "stream",
     "text": [
      "Running with parameters:[1004.8032189335792, 0.5075691332194266, 0.4855416926837849, 97.24739535510945, 0.49899078916632755, 4.214362968074441, 2.542913340382425]: 100%|██████████| 365/365 [00:29<00:00, 12.30it/s]\n"
     ]
    },
    {
     "name": "stdout",
     "output_type": "stream",
     "text": [
      "-----objective function value (1-NSE): 4.658762925819338-----\n"
     ]
    },
    {
     "name": "stderr",
     "output_type": "stream",
     "text": [
      "Running with parameters:[1007.5768664406629, 0.4996803804895083, 0.5056574638809612, 103.13983816055482, 0.49025735830511213, 4.2454274196847095, 2.5650911206540408]: 100%|██████████| 365/365 [00:29<00:00, 12.26it/s]\n"
     ]
    },
    {
     "name": "stdout",
     "output_type": "stream",
     "text": [
      "-----objective function value (1-NSE): 4.613700652780933-----\n",
      "Iterat #Fevals   function value  axis ratio  sigma  min&max std  t[m:s]\n",
      "    1      9 4.593690325431944e+00 1.0e+00 9.57e-02  9e-02  1e-01 5:20.9\n"
     ]
    },
    {
     "name": "stderr",
     "output_type": "stream",
     "text": [
      "Running with parameters:[983.6725465684921, 0.5098563074684377, 0.49769382351197544, 98.53732165371473, 0.4896542162786872, 4.3890714512564575, 2.603731015975923]: 100%|██████████| 365/365 [00:28<00:00, 12.75it/s]\n"
     ]
    },
    {
     "name": "stdout",
     "output_type": "stream",
     "text": [
      "-----objective function value (1-NSE): 4.655893680197556-----\n"
     ]
    },
    {
     "name": "stderr",
     "output_type": "stream",
     "text": [
      "Running with parameters:[979.2678329288823, 0.49177164546277163, 0.5184499971502734, 98.61348719747113, 0.5070919949240168, 4.311772122569997, 2.547104218996112]: 100%|██████████| 365/365 [00:29<00:00, 12.51it/s]\n"
     ]
    },
    {
     "name": "stdout",
     "output_type": "stream",
     "text": [
      "-----objective function value (1-NSE): 4.614475135469166-----\n"
     ]
    },
    {
     "name": "stderr",
     "output_type": "stream",
     "text": [
      "Running with parameters:[998.6684046570928, 0.5038907449627629, 0.5240404120808286, 97.97903252491339, 0.5034016164976018, 4.4239583055101885, 2.4958458233876417]: 100%|██████████| 365/365 [00:28<00:00, 12.62it/s]\n"
     ]
    },
    {
     "name": "stdout",
     "output_type": "stream",
     "text": [
      "-----objective function value (1-NSE): 4.5952560537291145-----\n"
     ]
    },
    {
     "name": "stderr",
     "output_type": "stream",
     "text": [
      "Running with parameters:[976.0650653475954, 0.4862427185267883, 0.5131235484499032, 99.14848416382964, 0.49506755249607365, 4.249050610197896, 2.5645988083386815]: 100%|██████████| 365/365 [00:29<00:00, 12.22it/s]\n"
     ]
    },
    {
     "name": "stdout",
     "output_type": "stream",
     "text": [
      "-----objective function value (1-NSE): 4.622824016910891-----\n"
     ]
    },
    {
     "name": "stderr",
     "output_type": "stream",
     "text": [
      "Running with parameters:[996.4833017062806, 0.49383038818772174, 0.5000051404972294, 100.93023573154095, 0.4877542499936244, 4.285840999466485, 2.543780005536867]: 100%|██████████| 365/365 [00:29<00:00, 12.55it/s]\n"
     ]
    },
    {
     "name": "stdout",
     "output_type": "stream",
     "text": [
      "-----objective function value (1-NSE): 4.630035496405791-----\n"
     ]
    },
    {
     "name": "stderr",
     "output_type": "stream",
     "text": [
      "Running with parameters:[987.3381529857178, 0.4892065978513976, 0.5047903709792074, 101.66220675722151, 0.4978361659088469, 4.269025171705042, 2.5554292985930207]: 100%|██████████| 365/365 [00:29<00:00, 12.36it/s]\n"
     ]
    },
    {
     "name": "stdout",
     "output_type": "stream",
     "text": [
      "-----objective function value (1-NSE): 4.627608629542087-----\n"
     ]
    },
    {
     "name": "stderr",
     "output_type": "stream",
     "text": [
      "Running with parameters:[1000.2106803951151, 0.48452136201549845, 0.5162131208518207, 96.62553033431763, 0.4782282171911635, 4.348692331868522, 2.5741329435024167]: 100%|██████████| 365/365 [00:30<00:00, 11.97it/s]\n"
     ]
    },
    {
     "name": "stdout",
     "output_type": "stream",
     "text": [
      "-----objective function value (1-NSE): 4.5971661923255605-----\n"
     ]
    },
    {
     "name": "stderr",
     "output_type": "stream",
     "text": [
      "Running with parameters:[1021.4988548025897, 0.4963535554784408, 0.5057327094304174, 103.46867559701002, 0.4916600006891657, 4.270619968790682, 2.624462713854661]: 100%|██████████| 365/365 [00:30<00:00, 12.00it/s]\n"
     ]
    },
    {
     "name": "stdout",
     "output_type": "stream",
     "text": [
      "-----objective function value (1-NSE): 4.600095559693888-----\n"
     ]
    },
    {
     "name": "stderr",
     "output_type": "stream",
     "text": [
      "Running with parameters:[1031.5796900086432, 0.49651637708887975, 0.5011860921235701, 102.01422903241956, 0.487642038992958, 4.233471873118017, 2.590657008139872]: 100%|██████████| 365/365 [00:29<00:00, 12.25it/s]\n"
     ]
    },
    {
     "name": "stdout",
     "output_type": "stream",
     "text": [
      "-----objective function value (1-NSE): 4.599055929228163-----\n",
      "    2     18 4.595256053729114e+00 1.2e+00 1.02e-01  1e-01  1e-01 10:40.1\n"
     ]
    },
    {
     "name": "stderr",
     "output_type": "stream",
     "text": [
      "Running with parameters:[1018.1991326131035, 0.4928868188031771, 0.523634253688787, 97.98396854638784, 0.49960142003336366, 4.419886624618609, 2.539084309215864]: 100%|██████████| 365/365 [00:29<00:00, 12.38it/s]\n"
     ]
    },
    {
     "name": "stdout",
     "output_type": "stream",
     "text": [
      "-----objective function value (1-NSE): 4.575800882229328-----\n"
     ]
    },
    {
     "name": "stderr",
     "output_type": "stream",
     "text": [
      "Running with parameters:[943.6321480342649, 0.5059758169553372, 0.5144667659784313, 94.27963624881686, 0.496375888104886, 4.395081334572577, 2.464433884222239]: 100%|██████████| 365/365 [00:29<00:00, 12.31it/s]\n"
     ]
    },
    {
     "name": "stdout",
     "output_type": "stream",
     "text": [
      "-----objective function value (1-NSE): 4.660630364637775-----\n"
     ]
    },
    {
     "name": "stderr",
     "output_type": "stream",
     "text": [
      "Running with parameters:[975.9347094989952, 0.4950670140000526, 0.5193691309056724, 97.44281296223556, 0.5034339723889263, 4.407564614840783, 2.5216012247178594]: 100%|██████████| 365/365 [00:29<00:00, 12.23it/s]\n"
     ]
    },
    {
     "name": "stdout",
     "output_type": "stream",
     "text": [
      "-----objective function value (1-NSE): 4.617431661179221-----\n"
     ]
    },
    {
     "name": "stderr",
     "output_type": "stream",
     "text": [
      "Running with parameters:[997.5191264427814, 0.4966159438199433, 0.5107276834436453, 99.81524980835015, 0.5149169523789153, 4.43636744824145, 2.5613487635679273]: 100%|██████████| 365/365 [00:30<00:00, 12.15it/s]\n"
     ]
    },
    {
     "name": "stdout",
     "output_type": "stream",
     "text": [
      "-----objective function value (1-NSE): 4.612695391681565-----\n"
     ]
    },
    {
     "name": "stderr",
     "output_type": "stream",
     "text": [
      "Running with parameters:[996.7190440261717, 0.49334647500920364, 0.5167124380888682, 99.06930546020091, 0.472434217987274, 4.3711726863384275, 2.4559708651596353]: 100%|██████████| 365/365 [00:29<00:00, 12.18it/s]\n"
     ]
    },
    {
     "name": "stdout",
     "output_type": "stream",
     "text": [
      "-----objective function value (1-NSE): 4.602863127980939-----\n"
     ]
    },
    {
     "name": "stderr",
     "output_type": "stream",
     "text": [
      "Running with parameters:[998.0395563838506, 0.49072470775032895, 0.5243250951825681, 97.42538951745132, 0.48437784575374526, 4.323377710973583, 2.5485801077386063]: 100%|██████████| 365/365 [00:29<00:00, 12.17it/s]\n"
     ]
    },
    {
     "name": "stdout",
     "output_type": "stream",
     "text": [
      "-----objective function value (1-NSE): 4.59025800184366-----\n"
     ]
    },
    {
     "name": "stderr",
     "output_type": "stream",
     "text": [
      "Running with parameters:[993.5090035387781, 0.5140930215830646, 0.5148498605032381, 99.24066778837255, 0.49016180249403485, 4.385435473540147, 2.5167451968136128]: 100%|██████████| 365/365 [00:29<00:00, 12.31it/s]\n"
     ]
    },
    {
     "name": "stdout",
     "output_type": "stream",
     "text": [
      "-----objective function value (1-NSE): 4.618584716141258-----\n"
     ]
    },
    {
     "name": "stderr",
     "output_type": "stream",
     "text": [
      "Running with parameters:[975.2613418792375, 0.5180338157033365, 0.5047733017511538, 96.04888729744714, 0.5061353930869417, 4.247443727154635, 2.5822836847930772]: 100%|██████████| 365/365 [00:29<00:00, 12.21it/s]\n"
     ]
    },
    {
     "name": "stdout",
     "output_type": "stream",
     "text": [
      "-----objective function value (1-NSE): 4.655889022942493-----\n"
     ]
    },
    {
     "name": "stderr",
     "output_type": "stream",
     "text": [
      "Running with parameters:[982.8352595608126, 0.5073847734609039, 0.5228235484863311, 101.73054889851736, 0.49542642580513296, 4.359288630871857, 2.57071927850019]: 100%|██████████| 365/365 [00:30<00:00, 11.87it/s]\n"
     ]
    },
    {
     "name": "stdout",
     "output_type": "stream",
     "text": [
      "-----objective function value (1-NSE): 4.612000704895243-----\n",
      "    3     27 4.575800882229328e+00 1.4e+00 1.04e-01  9e-02  1e-01 16:01.4\n",
      "Calibration completed in 961.4333384037018 seconds\n",
      "----------------------------------\n",
      "optimum scaled parameters: [5.08853993 4.92096465 5.23634254 4.89664675 4.9960142  5.26136404\n",
      " 4.97772308], its objective value (1-NSE): 4.575800882229328\n",
      "optimum parameters: [1018.1991326131035, 0.4928868188031771, 0.523634253688787, 97.98396854638784, 0.49960142003336366, 4.419886624618609, 2.539084309215864]\n"
     ]
    }
   ],
   "source": [
    "# Initialize the CMA-ES\n",
    "cma_es = cma.CMAEvolutionStrategy(no_of_variables * [x0], sigma0, options)\n",
    "\n",
    "exec_start_time = time.time()\n",
    "# Run the optimization\n",
    "# Below, in each iteration, the objective function is evaluated 9 times.\n",
    "# Here, 9 is the population size = 4+np.floor(3*np.log(no_of_variables=7))\n",
    "optimization = cma_es.optimize(wrapped_objective_function, args=args)\n",
    "print(f\"Calibration completed in {time.time() - exec_start_time} seconds\")\n",
    "print(\"----------------------------------\")\n",
    "\n",
    "# Return the optimum scaled parameters and its objective value\n",
    "print(f\"optimum scaled parameters: {optimization.result.xbest}, its objective value (1-NSE): {optimization.result.fbest}\")\n",
    "\n",
    "# Return the optimum parameters\n",
    "parameters = transform(optimization.result.xbest)\n",
    "print(f\"optimum parameters: {parameters}\")"
   ]
  },
  {
   "cell_type": "markdown",
   "metadata": {},
   "source": [
    "### A test run of CMA-ES optimization method storing each iteration"
   ]
  },
  {
   "cell_type": "code",
   "execution_count": 20,
   "metadata": {},
   "outputs": [
    {
     "name": "stdout",
     "output_type": "stream",
     "text": [
      "(4_w,9)-aCMA-ES (mu_w=2.8,w_1=49%) in dimension 7 (seed=1234, Thu Jan 28 14:14:40 2021)\n"
     ]
    },
    {
     "name": "stderr",
     "output_type": "stream",
     "text": [
      "Running with parameters:[1009.9239889230125, 0.4892811421846451, 0.514327274358147, 99.42499546690188, 0.49279390678091345, 4.307667650642177, 2.5921216374465046]: 100%|██████████| 365/365 [00:29<00:00, 12.30it/s]\n"
     ]
    },
    {
     "name": "stdout",
     "output_type": "stream",
     "text": [
      "-----objective function value (1-NSE): 4.593690325431944-----\n"
     ]
    },
    {
     "name": "stderr",
     "output_type": "stream",
     "text": [
      "Running with parameters:[987.7758951466973, 0.5001412683580859, 0.47757283007229256, 102.34897067684446, 0.5099197436406249, 4.311968281440697, 2.450954269084366]: 100%|██████████| 365/365 [00:29<00:00, 12.31it/s]\n"
     ]
    },
    {
     "name": "stdout",
     "output_type": "stream",
     "text": [
      "-----objective function value (1-NSE): 4.6876848176998305-----\n"
     ]
    },
    {
     "name": "stderr",
     "output_type": "stream",
     "text": [
      "Running with parameters:[993.8217934574961, 0.5000190654183324, 0.5040545920380316, 100.62790717361155, 0.5132119594004556, 4.149447547945225, 2.5400699045267694]: 100%|██████████| 365/365 [00:29<00:00, 12.27it/s]\n"
     ]
    },
    {
     "name": "stdout",
     "output_type": "stream",
     "text": [
      "-----objective function value (1-NSE): 4.628707797117966-----\n"
     ]
    },
    {
     "name": "stderr",
     "output_type": "stream",
     "text": [
      "Running with parameters:[987.3871728106628, 0.501740804822509, 0.5055344681728338, 102.68504142137442, 0.49530681306380125, 4.2939125838115135, 2.4609618500581374]: 100%|██████████| 365/365 [00:29<00:00, 12.29it/s]\n"
     ]
    },
    {
     "name": "stdout",
     "output_type": "stream",
     "text": [
      "-----objective function value (1-NSE): 4.632888617986894-----\n"
     ]
    },
    {
     "name": "stderr",
     "output_type": "stream",
     "text": [
      "Running with parameters:[996.8396602818219, 0.5095307907649742, 0.49602154088327577, 100.72455232411214, 0.5104760850413668, 4.317988414730108, 2.5923239611377378]: 100%|██████████| 365/365 [00:30<00:00, 12.13it/s]\n"
     ]
    },
    {
     "name": "stdout",
     "output_type": "stream",
     "text": [
      "-----objective function value (1-NSE): 4.6464410470722886-----\n"
     ]
    },
    {
     "name": "stderr",
     "output_type": "stream",
     "text": [
      "Running with parameters:[998.0593894187949, 0.5011224246012038, 0.496772005830044, 101.73254380540308, 0.5239102882959653, 4.25495315010448, 2.522242959845273]: 100%|██████████| 365/365 [00:30<00:00, 12.16it/s]\n"
     ]
    },
    {
     "name": "stdout",
     "output_type": "stream",
     "text": [
      "-----objective function value (1-NSE): 4.638592464626087-----\n"
     ]
    },
    {
     "name": "stderr",
     "output_type": "stream",
     "text": [
      "Running with parameters:[1001.2224773143147, 0.48132506820189613, 0.5024779573966239, 98.25654515714159, 0.4986320125825901, 4.251188839895509, 2.587016871540866]: 100%|██████████| 365/365 [00:29<00:00, 12.29it/s]\n"
     ]
    },
    {
     "name": "stdout",
     "output_type": "stream",
     "text": [
      "-----objective function value (1-NSE): 4.615602193748815-----\n"
     ]
    },
    {
     "name": "stderr",
     "output_type": "stream",
     "text": [
      "Running with parameters:[1004.8032189335792, 0.5075691332194266, 0.4855416926837849, 97.24739535510945, 0.49899078916632755, 4.214362968074441, 2.542913340382425]: 100%|██████████| 365/365 [00:29<00:00, 12.17it/s]\n"
     ]
    },
    {
     "name": "stdout",
     "output_type": "stream",
     "text": [
      "-----objective function value (1-NSE): 4.658762925819338-----\n"
     ]
    },
    {
     "name": "stderr",
     "output_type": "stream",
     "text": [
      "Running with parameters:[1007.5768664406629, 0.4996803804895083, 0.5056574638809612, 103.13983816055482, 0.49025735830511213, 4.2454274196847095, 2.5650911206540408]: 100%|██████████| 365/365 [00:29<00:00, 12.38it/s]\n"
     ]
    },
    {
     "name": "stdout",
     "output_type": "stream",
     "text": [
      "-----objective function value (1-NSE): 4.613700652780933-----\n"
     ]
    },
    {
     "name": "stderr",
     "output_type": "stream",
     "text": [
      "Running with parameters:[983.6725465684921, 0.5098563074684377, 0.49769382351197544, 98.53732165371473, 0.4896542162786872, 4.3890714512564575, 2.603731015975923]: 100%|██████████| 365/365 [00:29<00:00, 12.24it/s]\n"
     ]
    },
    {
     "name": "stdout",
     "output_type": "stream",
     "text": [
      "-----objective function value (1-NSE): 4.655893680197556-----\n"
     ]
    },
    {
     "name": "stderr",
     "output_type": "stream",
     "text": [
      "Running with parameters:[979.2678329288823, 0.49177164546277163, 0.5184499971502734, 98.61348719747113, 0.5070919949240168, 4.311772122569997, 2.547104218996112]: 100%|██████████| 365/365 [00:29<00:00, 12.24it/s]\n"
     ]
    },
    {
     "name": "stdout",
     "output_type": "stream",
     "text": [
      "-----objective function value (1-NSE): 4.614475135469166-----\n"
     ]
    },
    {
     "name": "stderr",
     "output_type": "stream",
     "text": [
      "Running with parameters:[998.6684046570928, 0.5038907449627629, 0.5240404120808286, 97.97903252491339, 0.5034016164976018, 4.4239583055101885, 2.4958458233876417]: 100%|██████████| 365/365 [00:29<00:00, 12.27it/s]\n"
     ]
    },
    {
     "name": "stdout",
     "output_type": "stream",
     "text": [
      "-----objective function value (1-NSE): 4.5952560537291145-----\n"
     ]
    },
    {
     "name": "stderr",
     "output_type": "stream",
     "text": [
      "Running with parameters:[976.0650653475954, 0.4862427185267883, 0.5131235484499032, 99.14848416382964, 0.49506755249607365, 4.249050610197896, 2.5645988083386815]: 100%|██████████| 365/365 [00:29<00:00, 12.24it/s]\n"
     ]
    },
    {
     "name": "stdout",
     "output_type": "stream",
     "text": [
      "-----objective function value (1-NSE): 4.622824016910891-----\n"
     ]
    },
    {
     "name": "stderr",
     "output_type": "stream",
     "text": [
      "Running with parameters:[996.4833017062806, 0.49383038818772174, 0.5000051404972294, 100.93023573154095, 0.4877542499936244, 4.285840999466485, 2.543780005536867]: 100%|██████████| 365/365 [00:29<00:00, 12.24it/s]\n"
     ]
    },
    {
     "name": "stdout",
     "output_type": "stream",
     "text": [
      "-----objective function value (1-NSE): 4.630035496405791-----\n"
     ]
    },
    {
     "name": "stderr",
     "output_type": "stream",
     "text": [
      "Running with parameters:[987.3381529857178, 0.4892065978513976, 0.5047903709792074, 101.66220675722151, 0.4978361659088469, 4.269025171705042, 2.5554292985930207]: 100%|██████████| 365/365 [00:29<00:00, 12.37it/s]\n"
     ]
    },
    {
     "name": "stdout",
     "output_type": "stream",
     "text": [
      "-----objective function value (1-NSE): 4.627608629542087-----\n"
     ]
    },
    {
     "name": "stderr",
     "output_type": "stream",
     "text": [
      "Running with parameters:[1000.2106803951151, 0.48452136201549845, 0.5162131208518207, 96.62553033431763, 0.4782282171911635, 4.348692331868522, 2.5741329435024167]: 100%|██████████| 365/365 [00:29<00:00, 12.27it/s]\n"
     ]
    },
    {
     "name": "stdout",
     "output_type": "stream",
     "text": [
      "-----objective function value (1-NSE): 4.5971661923255605-----\n"
     ]
    },
    {
     "name": "stderr",
     "output_type": "stream",
     "text": [
      "Running with parameters:[1021.4988548025897, 0.4963535554784408, 0.5057327094304174, 103.46867559701002, 0.4916600006891657, 4.270619968790682, 2.624462713854661]: 100%|██████████| 365/365 [00:29<00:00, 12.25it/s]\n"
     ]
    },
    {
     "name": "stdout",
     "output_type": "stream",
     "text": [
      "-----objective function value (1-NSE): 4.600095559693888-----\n"
     ]
    },
    {
     "name": "stderr",
     "output_type": "stream",
     "text": [
      "Running with parameters:[1031.5796900086432, 0.49651637708887975, 0.5011860921235701, 102.01422903241956, 0.487642038992958, 4.233471873118017, 2.590657008139872]: 100%|██████████| 365/365 [00:30<00:00, 12.12it/s]\n"
     ]
    },
    {
     "name": "stdout",
     "output_type": "stream",
     "text": [
      "-----objective function value (1-NSE): 4.599055929228163-----\n"
     ]
    },
    {
     "name": "stderr",
     "output_type": "stream",
     "text": [
      "Running with parameters:[1018.1991326131035, 0.4928868188031771, 0.523634253688787, 97.98396854638784, 0.49960142003336366, 4.419886624618609, 2.539084309215864]: 100%|██████████| 365/365 [00:29<00:00, 12.45it/s]\n"
     ]
    },
    {
     "name": "stdout",
     "output_type": "stream",
     "text": [
      "-----objective function value (1-NSE): 4.575800882229328-----\n"
     ]
    },
    {
     "name": "stderr",
     "output_type": "stream",
     "text": [
      "Running with parameters:[943.6321480342649, 0.5059758169553372, 0.5144667659784313, 94.27963624881686, 0.496375888104886, 4.395081334572577, 2.464433884222239]: 100%|██████████| 365/365 [00:29<00:00, 12.18it/s]\n"
     ]
    },
    {
     "name": "stdout",
     "output_type": "stream",
     "text": [
      "-----objective function value (1-NSE): 4.660630364637775-----\n"
     ]
    },
    {
     "name": "stderr",
     "output_type": "stream",
     "text": [
      "Running with parameters:[975.9347094989952, 0.4950670140000526, 0.5193691309056724, 97.44281296223556, 0.5034339723889263, 4.407564614840783, 2.5216012247178594]: 100%|██████████| 365/365 [00:30<00:00, 12.09it/s]\n"
     ]
    },
    {
     "name": "stdout",
     "output_type": "stream",
     "text": [
      "-----objective function value (1-NSE): 4.617431661179221-----\n"
     ]
    },
    {
     "name": "stderr",
     "output_type": "stream",
     "text": [
      "Running with parameters:[997.5191264427814, 0.4966159438199433, 0.5107276834436453, 99.81524980835015, 0.5149169523789153, 4.43636744824145, 2.5613487635679273]: 100%|██████████| 365/365 [00:29<00:00, 12.17it/s]\n"
     ]
    },
    {
     "name": "stdout",
     "output_type": "stream",
     "text": [
      "-----objective function value (1-NSE): 4.612695391681565-----\n"
     ]
    },
    {
     "name": "stderr",
     "output_type": "stream",
     "text": [
      "Running with parameters:[996.7190440261717, 0.49334647500920364, 0.5167124380888682, 99.06930546020091, 0.472434217987274, 4.3711726863384275, 2.4559708651596353]: 100%|██████████| 365/365 [00:29<00:00, 12.35it/s]\n"
     ]
    },
    {
     "name": "stdout",
     "output_type": "stream",
     "text": [
      "-----objective function value (1-NSE): 4.602863127980939-----\n"
     ]
    },
    {
     "name": "stderr",
     "output_type": "stream",
     "text": [
      "Running with parameters:[998.0395563838506, 0.49072470775032895, 0.5243250951825681, 97.42538951745132, 0.48437784575374526, 4.323377710973583, 2.5485801077386063]: 100%|██████████| 365/365 [00:29<00:00, 12.17it/s]\n"
     ]
    },
    {
     "name": "stdout",
     "output_type": "stream",
     "text": [
      "-----objective function value (1-NSE): 4.59025800184366-----\n"
     ]
    },
    {
     "name": "stderr",
     "output_type": "stream",
     "text": [
      "Running with parameters:[993.5090035387781, 0.5140930215830646, 0.5148498605032381, 99.24066778837255, 0.49016180249403485, 4.385435473540147, 2.5167451968136128]: 100%|██████████| 365/365 [00:29<00:00, 12.23it/s]\n"
     ]
    },
    {
     "name": "stdout",
     "output_type": "stream",
     "text": [
      "-----objective function value (1-NSE): 4.618584716141258-----\n"
     ]
    },
    {
     "name": "stderr",
     "output_type": "stream",
     "text": [
      "Running with parameters:[975.2613418792375, 0.5180338157033365, 0.5047733017511538, 96.04888729744714, 0.5061353930869417, 4.247443727154635, 2.5822836847930772]: 100%|██████████| 365/365 [00:29<00:00, 12.32it/s]\n"
     ]
    },
    {
     "name": "stdout",
     "output_type": "stream",
     "text": [
      "-----objective function value (1-NSE): 4.655889022942493-----\n"
     ]
    },
    {
     "name": "stderr",
     "output_type": "stream",
     "text": [
      "Running with parameters:[982.8352595608126, 0.5073847734609039, 0.5228235484863311, 101.73054889851736, 0.49542642580513296, 4.359288630871857, 2.57071927850019]: 100%|██████████| 365/365 [00:29<00:00, 12.34it/s]\n"
     ]
    },
    {
     "name": "stdout",
     "output_type": "stream",
     "text": [
      "-----objective function value (1-NSE): 4.612000704895243-----\n",
      "Calibration completed in 962.4438002109528 seconds\n",
      "----------------------------------\n",
      "[[(4.593690325431944, array([5.04714352, 4.88090158, 5.14327274, 4.96873414, 4.92793907,\n",
      "       5.08871946, 5.08596253]))], [(4.5952560537291145, array([4.99083744, 5.0432305 , 5.24040412, 4.89639983, 5.03401616,\n",
      "       5.26762816, 4.88948127]))], [(4.575800882229328, array([5.08853993, 4.92096465, 5.23634254, 4.89664675, 4.9960142 ,\n",
      "       5.26136404, 4.97772308]))]]\n",
      "optimum scaled parameters: [5.08853993 4.92096465 5.23634254 4.89664675 4.9960142  5.26136404\n",
      " 4.97772308], its objective value (1-NSE): 4.575800882229328\n",
      "optimum parameters: [1018.1991326131035, 0.4928868188031771, 0.523634253688787, 97.98396854638784, 0.49960142003336366, 4.419886624618609, 2.539084309215864]\n"
     ]
    }
   ],
   "source": [
    "# Initialize the CMA-ES\n",
    "cma_es = cma.CMAEvolutionStrategy(no_of_variables * [x0], sigma0, options)\n",
    "\n",
    "# Store the results of each iteration\n",
    "optimization_full_output = []\n",
    "\n",
    "exec_start_time = time.time()\n",
    "# Use ask-and-tell interface, see an example at https://pypi.org/project/cma/\n",
    "while not cma_es.stop():\n",
    "    solutions = cma_es.ask()\n",
    "    evaluations = [wrapped_objective_function(x, *args) for x in solutions]\n",
    "    cma_es.tell(solutions, evaluations)\n",
    "    optimization_full_output.append([(cma_es.best.last.f, cma_es.best.last.x)])\n",
    "print(f\"Calibration completed in {time.time() - exec_start_time} seconds\")\n",
    "print(\"----------------------------------\")\n",
    "\n",
    "print(optimization_full_output)\n",
    "\n",
    "# Return the optimum scaled parameters and its objective value\n",
    "print(f\"optimum scaled parameters: {cma_es.result.xbest}, its objective value (1-NSE): {cma_es.result.fbest}\")\n",
    "\n",
    "# Return the optimum parameters\n",
    "parameters = transform(cma_es.result.xbest)\n",
    "print(f\"optimum parameters: {parameters}\")"
   ]
  },
  {
   "cell_type": "markdown",
   "metadata": {},
   "source": [
    "### Some features of CMA-ES\n",
    "\n",
    "Some features of CMA-ES are shown below that might be useful,\n",
    "see some examples [here](https://pypi.org/project/cma/).\n",
    "\n",
    "Note that by default the CMA-ES creates the folder `outcmaes` in the working directory and writes data.\n",
    "The output directory for this folder can be set in the `cma.CMAOptions()`.\n",
    "However, it is not possible to disable this option.\n",
    "To run the commands below, uncomment them."
   ]
  },
  {
   "cell_type": "code",
   "execution_count": 21,
   "metadata": {},
   "outputs": [],
   "source": [
    "# # Print the results of the optimnization\n",
    "# cma_es.result_pretty()\n",
    "\n",
    "# # Load the data from the folder outcmaes\n",
    "# cma_es.logger.load()\n",
    "\n",
    "# # Print data\n",
    "# cma_es.logger.data\n",
    "\n",
    "# Create some plots; you will get a MatplotlibDeprecationWarning\n",
    "# cma_es.logger.plot()"
   ]
  },
  {
   "cell_type": "markdown",
   "metadata": {},
   "source": [
    "## Run the model with a calibrated parameter"
   ]
  },
  {
   "cell_type": "code",
   "execution_count": 22,
   "metadata": {},
   "outputs": [
    {
     "name": "stderr",
     "output_type": "stream",
     "text": [
      "Running with parameters:[1018.1991326131035, 0.4928868188031771, 0.523634253688787, 97.98396854638784, 0.49960142003336366, 4.419886624618609, 2.539084309215864]: 100%|██████████| 365/365 [00:29<00:00, 12.49it/s]\n"
     ]
    }
   ],
   "source": [
    "# The calibrated parameter is the first value in parameters\n",
    "simulations_array = run_model(parameters, catchment, dataset, variable)"
   ]
  },
  {
   "cell_type": "markdown",
   "metadata": {},
   "source": [
    "## Compare with observation at grdc station"
   ]
  },
  {
   "cell_type": "code",
   "execution_count": 23,
   "metadata": {},
   "outputs": [
    {
     "data": {
      "text/html": [
       "<div>\n",
       "<style scoped>\n",
       "    .dataframe tbody tr th:only-of-type {\n",
       "        vertical-align: middle;\n",
       "    }\n",
       "\n",
       "    .dataframe tbody tr th {\n",
       "        vertical-align: top;\n",
       "    }\n",
       "\n",
       "    .dataframe thead th {\n",
       "        text-align: right;\n",
       "    }\n",
       "</style>\n",
       "<table border=\"1\" class=\"dataframe\">\n",
       "  <thead>\n",
       "    <tr style=\"text-align: right;\">\n",
       "      <th></th>\n",
       "      <th>ERA-Interim</th>\n",
       "      <th>GRDC</th>\n",
       "    </tr>\n",
       "    <tr>\n",
       "      <th>time</th>\n",
       "      <th></th>\n",
       "      <th></th>\n",
       "    </tr>\n",
       "  </thead>\n",
       "  <tbody>\n",
       "    <tr>\n",
       "      <th>2001-02-01</th>\n",
       "      <td>107.244423</td>\n",
       "      <td>3250.0</td>\n",
       "    </tr>\n",
       "    <tr>\n",
       "      <th>2001-02-02</th>\n",
       "      <td>303.168018</td>\n",
       "      <td>2930.0</td>\n",
       "    </tr>\n",
       "    <tr>\n",
       "      <th>2001-02-03</th>\n",
       "      <td>2070.659037</td>\n",
       "      <td>2720.0</td>\n",
       "    </tr>\n",
       "    <tr>\n",
       "      <th>2001-02-04</th>\n",
       "      <td>7756.239045</td>\n",
       "      <td>2610.0</td>\n",
       "    </tr>\n",
       "    <tr>\n",
       "      <th>2001-02-05</th>\n",
       "      <td>6728.567314</td>\n",
       "      <td>2740.0</td>\n",
       "    </tr>\n",
       "    <tr>\n",
       "      <th>...</th>\n",
       "      <td>...</td>\n",
       "      <td>...</td>\n",
       "    </tr>\n",
       "    <tr>\n",
       "      <th>2001-12-27</th>\n",
       "      <td>139.899906</td>\n",
       "      <td>2010.0</td>\n",
       "    </tr>\n",
       "    <tr>\n",
       "      <th>2001-12-28</th>\n",
       "      <td>176.522836</td>\n",
       "      <td>2130.0</td>\n",
       "    </tr>\n",
       "    <tr>\n",
       "      <th>2001-12-29</th>\n",
       "      <td>507.268559</td>\n",
       "      <td>2270.0</td>\n",
       "    </tr>\n",
       "    <tr>\n",
       "      <th>2001-12-30</th>\n",
       "      <td>5912.282612</td>\n",
       "      <td>2440.0</td>\n",
       "    </tr>\n",
       "    <tr>\n",
       "      <th>2001-12-31</th>\n",
       "      <td>827.041935</td>\n",
       "      <td>3070.0</td>\n",
       "    </tr>\n",
       "  </tbody>\n",
       "</table>\n",
       "<p>334 rows × 2 columns</p>\n",
       "</div>"
      ],
      "text/plain": [
       "            ERA-Interim    GRDC\n",
       "time                           \n",
       "2001-02-01   107.244423  3250.0\n",
       "2001-02-02   303.168018  2930.0\n",
       "2001-02-03  2070.659037  2720.0\n",
       "2001-02-04  7756.239045  2610.0\n",
       "2001-02-05  6728.567314  2740.0\n",
       "...                 ...     ...\n",
       "2001-12-27   139.899906  2010.0\n",
       "2001-12-28   176.522836  2130.0\n",
       "2001-12-29   507.268559  2270.0\n",
       "2001-12-30  5912.282612  2440.0\n",
       "2001-12-31   827.041935  3070.0\n",
       "\n",
       "[334 rows x 2 columns]"
      ]
     },
     "execution_count": 23,
     "metadata": {},
     "output_type": "execute_result"
    }
   ],
   "source": [
    "# convert simulated streamflow to same units as observation\n",
    "simulations = simulations_array.values * area * conversion\n",
    "\n",
    "# Convert model simulations to DataFrame\n",
    "simulations = pd.DataFrame(simulations, columns=[dataset])\n",
    "simulations.index = pd.to_datetime(simulations_array.time.values)\n",
    "simulations.index = simulations.index.date\n",
    "simulations.index.name = \"time\"\n",
    "\n",
    "# Convert grdc observations to DataFrame\n",
    "observations = observations_ds.to_dataframe().rename(columns={\"streamflow\": \"GRDC\"})\n",
    "observations.index = observations.index.date\n",
    "observations.index.name = \"time\"\n",
    "\n",
    "discharge = pd.concat([simulations, observations], axis=1, sort=False)\n",
    "discharge"
   ]
  },
  {
   "cell_type": "code",
   "execution_count": 24,
   "metadata": {},
   "outputs": [
    {
     "data": {
      "image/png": "[encoded data removed]",
      "text/plain": [
       "<Figure size 720x432 with 1 Axes>"
      ]
     },
     "metadata": {},
     "output_type": "display_data"
    }
   ],
   "source": [
    "hv.plot(\n",
    "    discharge[[dataset, \"GRDC\"]],\n",
    "    title=f\"Daily hydrograph of {catchment}\",\n",
    "    linestyles=[\"r-\", \"k-\"],\n",
    "    legend=(\"Simulated\", \"Observed\"),\n",
    "    labels=[\"Date\", \"Streamflow $\\\\left(m^{3} s^{-1}\\\\right)$\"],\n",
    "    metrics=[\"ME\", \"NSE\", \"SA\"],\n",
    "    grid=True,\n",
    ")\n",
    "plt.show()"
   ]
  },
  {
   "cell_type": "code",
   "execution_count": null,
   "metadata": {},
   "outputs": [],
   "source": []
  }
 ],
 "metadata": {
  "anaconda-cloud": {},
  "kernelspec": {
   "display_name": "Python 3",
   "language": "python",
   "name": "python3"
  },
  "language_info": {
   "codemirror_mode": {
    "name": "ipython",
    "version": 3
   },
   "file_extension": ".py",
   "mimetype": "text/x-python",
   "name": "python",
   "nbconvert_exporter": "python",
   "pygments_lexer": "ipython3",
   "version": "3.7.7"
  }
 },
 "nbformat": 4,
 "nbformat_minor": 4
}
