{
 "cells": [
  {
   "cell_type": "markdown",
   "metadata": {},
   "source": [
    "![image](https://www.ewatercycle.org/img/logo.png)\n",
    "\n",
    "# Running wflow using forcing data from ESMValTool"
   ]
  },
  {
   "cell_type": "markdown",
   "metadata": {},
   "source": [
    "Below are some basic steps that should get the model to work. Single catchment, single forcing dataset.\n",
    "Perhaps, eventually, this can be a basic example/tutorial notebook.\n",
    "\n",
    "More detailed information about the specific setup required to reproduce this analysis is available in the [ReadMe](https://github.com/eWaterCycle/era5-comparison/blob/master/wflow/README.md)."
   ]
  },
  {
   "cell_type": "code",
   "execution_count": 3,
   "metadata": {},
   "outputs": [],
   "source": [
    "import os\n",
    "import time\n",
    "from datetime import datetime\n",
    "import shutil\n",
    "from configparser import ConfigParser\n",
    "from glob import glob\n",
    "from pathlib import Path\n",
    "\n",
    "import matplotlib.pyplot as plt\n",
    "import numpy as np\n",
    "import xarray as xr\n",
    "from cftime import num2date\n",
    "from grpc4bmi.bmi_client_singularity import BmiClientSingularity"
   ]
  },
  {
   "cell_type": "markdown",
   "metadata": {},
   "source": [
    "# Settings"
   ]
  },
  {
   "cell_type": "code",
   "execution_count": 4,
   "metadata": {},
   "outputs": [],
   "source": [
    "dataset = \"ERA5\"\n",
    "catchment = \"Meuse\"\n",
    "PERIOD = {\"start\": datetime(2001, 1, 1), \"end\": datetime(2001, 1, 15)}\n",
    "\n",
    "# Cartesius setup\n",
    "PROJECT_HOME = Path(\"/projects/0/wtrcycle/comparison\")\n",
    "SCRATCH = Path(\"/scratch/shared/ewatercycle\")\n",
    "\n",
    "# relative data path to PROJECT_HOME\n",
    "INPUT_DIR = PROJECT_HOME / \"wflow_parameterset\" / \"calibrated_parameterset\" / catchment.lower()\n",
    "FORCING_DIR = PROJECT_HOME / \"forcing\" / \"wflow\""
   ]
  },
  {
   "cell_type": "code",
   "execution_count": 5,
   "metadata": {},
   "outputs": [
    {
     "name": "stdout",
     "output_type": "stream",
     "text": [
      "/scratch/shared/ewatercycle/wflow_20201026_130635\n"
     ]
    }
   ],
   "source": [
    "# add a timestamped directory to the main tempdir\n",
    "TEMP_DIR = SCRATCH / f\"wflow_{time.strftime('%Y%m%d_%H%M%S')}\"\n",
    "TEMP_DIR.mkdir(parents=True, exist_ok=True)\n",
    "print(TEMP_DIR)"
   ]
  },
  {
   "cell_type": "markdown",
   "metadata": {},
   "source": [
    "## Copy input data to temp dir"
   ]
  },
  {
   "cell_type": "code",
   "execution_count": 6,
   "metadata": {},
   "outputs": [
    {
     "data": {
      "text/plain": [
       "PosixPath('/scratch/shared/ewatercycle/wflow_20201026_130635/intbl')"
      ]
     },
     "execution_count": 6,
     "metadata": {},
     "output_type": "execute_result"
    }
   ],
   "source": [
    "# Time to read forcing files\n",
    "start_year = PERIOD[\"start\"].year\n",
    "end_year = PERIOD[\"end\"].year\n",
    "\n",
    "# Find forcing from esmvaltool and copy to temp dir\n",
    "forcing = glob(f\"{FORCING_DIR}/wflow_{dataset}_{catchment}_{start_year}_{end_year}.nc\")[0]\n",
    "shutil.copy(forcing, dst=f\"{TEMP_DIR}/\")\n",
    "\n",
    "# Copy config file from input dir to temp dir\n",
    "config_file = f\"{INPUT_DIR}/wflow_sbm_{dataset.lower()}_warmup.ini\"  # reinit=1\n",
    "shutil.copy(config_file, dst=f\"{TEMP_DIR}/\")\n",
    "\n",
    "# Copy parameter sets from input dir to temp dir\n",
    "shutil.copytree(src=INPUT_DIR / \"staticmaps\", dst=TEMP_DIR/\"staticmaps\")\n",
    "shutil.copytree(src=INPUT_DIR / \"intbl\", dst=TEMP_DIR/\"intbl\")"
   ]
  },
  {
   "cell_type": "markdown",
   "metadata": {},
   "source": [
    "## Update config file"
   ]
  },
  {
   "cell_type": "code",
   "execution_count": 7,
   "metadata": {},
   "outputs": [],
   "source": [
    "# Open default config file\n",
    "cfg = ConfigParser()\n",
    "cfg.optionxform = lambda x: x\n",
    "cfg.read(f\"{TEMP_DIR}/wflow_sbm_{dataset.lower()}_warmup.ini\")  # reinit=1\n",
    "\n",
    "# Modify settings\n",
    "start = PERIOD[\"start\"].strftime(\"%Y-%m-%d\")\n",
    "end = PERIOD[\"end\"].strftime(\"%Y-%m-%d\")\n",
    "cfg.set(\"framework\", \"netcdfinput\", Path(forcing).name)\n",
    "cfg.set(\"run\", \"starttime\", f\"{start} 12:00:00 GMT\")\n",
    "cfg.set(\"run\", \"endtime\", f\"{end} 12:00:00 GMT\")\n",
    "cfg.set(\"inputmapstacks\", \"Precipitation\", \"/pr\")\n",
    "cfg.set(\"inputmapstacks\", \"EvapoTranspiration\", \"/pet\")\n",
    "cfg.set(\"inputmapstacks\", \"Temperature\", \"/tas\")\n",
    "\n",
    "# Add API fields to the config file\n",
    "cfg[\"API\"] = {\n",
    "    \"RiverRunoff\": \"2, m^3/s\",\n",
    "}\n",
    "\n",
    "# Remove sections/options that break the BMI\n",
    "cfg.remove_option(\"framework\", \"netcdfoutput\")\n",
    "cfg.remove_section(\"outputcsv_0\")\n",
    "cfg.remove_section(\"outputcsv_1\")\n",
    "cfg.remove_section(\"outputcsv_2\")\n",
    "cfg.remove_section(\"outputcsv_3\")\n",
    "cfg.remove_section(\"outputtss_0\")\n",
    "\n",
    "# Write to new config file\n",
    "cfg_file = TEMP_DIR / f\"wflow_sbm_{catchment}_{dataset}_warmup.ini\"\n",
    "with open(cfg_file, \"w\") as file:\n",
    "    cfg.write(file)"
   ]
  },
  {
   "cell_type": "code",
   "execution_count": 8,
   "metadata": {},
   "outputs": [
    {
     "data": {
      "text/plain": [
       "'/scratch/shared/ewatercycle/wflow_20201026_130635/staticmaps/wflow_demmin.map'"
      ]
     },
     "execution_count": 8,
     "metadata": {},
     "output_type": "execute_result"
    }
   ],
   "source": [
    "# Workaround for missing soil maps (a dummy file, all values set to 1):\n",
    "subcatch = f\"{TEMP_DIR}/staticmaps/wflow_subcatch.map\"\n",
    "soilmap = f\"{TEMP_DIR}/staticmaps/wflow_soil.map\"\n",
    "shutil.copy(subcatch, soilmap)\n",
    "\n",
    "# Workaround for missing demmax and demmin\n",
    "dem = f\"{TEMP_DIR}/staticmaps/wflow_dem.map\"\n",
    "demmax = f\"{TEMP_DIR}/staticmaps/wflow_demmax.map\"\n",
    "demmin = f\"{TEMP_DIR}/staticmaps/wflow_demmin.map\"\n",
    "shutil.copy(dem, demmax)\n",
    "shutil.copy(dem, demmin)"
   ]
  },
  {
   "cell_type": "markdown",
   "metadata": {},
   "source": [
    "## Start the model inside the container"
   ]
  },
  {
   "cell_type": "code",
   "execution_count": 9,
   "metadata": {},
   "outputs": [
    {
     "data": {
      "text/plain": [
       "('RiverRunoff',)"
      ]
     },
     "execution_count": 9,
     "metadata": {},
     "output_type": "execute_result"
    }
   ],
   "source": [
    "# Initialize the singularity container with this specific configuration\n",
    "model = BmiClientSingularity(\n",
    "    image=\"ewatercycle-wflow-grpc4bmi.sif\",\n",
    "    input_dir=str(TEMP_DIR)\n",
    ")\n",
    "model.initialize(str(cfg_file))\n",
    "\n",
    "# Check available variables\n",
    "model.get_output_var_names()"
   ]
  },
  {
   "cell_type": "markdown",
   "metadata": {},
   "source": [
    "## Get model fields via grpc4bmi"
   ]
  },
  {
   "cell_type": "code",
   "execution_count": 10,
   "metadata": {},
   "outputs": [
    {
     "data": {
      "image/png": "[encoded data removed]",
      "text/plain": [
       "<Figure size 432x288 with 2 Axes>"
      ]
     },
     "metadata": {
      "needs_background": "light"
     },
     "output_type": "display_data"
    }
   ],
   "source": [
    "# Let's analyse runoff\n",
    "variable = \"RiverRunoff\"\n",
    "\n",
    "# Get time information\n",
    "time_units = model.get_time_units()\n",
    "now = num2date(model.get_current_time(), time_units)\n",
    "\n",
    "# Get data (and convert to something that's nice in xarray)\n",
    "grid = model.get_var_grid(variable)\n",
    "\n",
    "# Get the model's internal configuration\n",
    "lat = model.get_grid_x(grid)\n",
    "lon = model.get_grid_y(grid)\n",
    "shape = model.get_grid_shape(grid)\n",
    "\n",
    "# Extract the data and store it in an xarray DataArray\n",
    "data = np.reshape(model.get_value(variable), shape)\n",
    "da = xr.DataArray(\n",
    "    data,\n",
    "    coords={\"longitude\": lon, \"latitude\": lat, \"time\": now},\n",
    "    dims=[\"latitude\", \"longitude\"],\n",
    "    name=variable,\n",
    "    attrs={\"units\": model.get_var_units(variable)},\n",
    ")\n",
    "da.plot()\n",
    "plt.show()"
   ]
  },
  {
   "cell_type": "markdown",
   "metadata": {},
   "source": [
    "Note that grid points outside the catchment get values of -999. We can fix this with:"
   ]
  },
  {
   "cell_type": "code",
   "execution_count": 11,
   "metadata": {},
   "outputs": [
    {
     "data": {
      "image/png": "[encoded data removed]",
      "text/plain": [
       "<Figure size 432x288 with 2 Axes>"
      ]
     },
     "metadata": {
      "needs_background": "light"
     },
     "output_type": "display_data"
    }
   ],
   "source": [
    "da.where(da != -999).plot()\n",
    "plt.show()"
   ]
  },
  {
   "cell_type": "markdown",
   "metadata": {},
   "source": [
    "## Run the model for a couple of time steps"
   ]
  },
  {
   "cell_type": "code",
   "execution_count": 12,
   "metadata": {},
   "outputs": [
    {
     "name": "stdout",
     "output_type": "stream",
     "text": [
      "2001-01-01 12:00:00\n",
      "2001-01-02 12:00:00\n",
      "2001-01-03 12:00:00\n",
      "2001-01-04 12:00:00\n",
      "2001-01-05 12:00:00\n",
      "2001-01-06 12:00:00\n",
      "2001-01-07 12:00:00\n",
      "2001-01-08 12:00:00\n",
      "2001-01-09 12:00:00\n",
      "2001-01-10 12:00:00\n"
     ]
    }
   ],
   "source": [
    "for i in range(10):\n",
    "    model.update()\n",
    "    now = num2date(model.get_current_time(), time_units)\n",
    "    print(now)"
   ]
  },
  {
   "cell_type": "code",
   "execution_count": 13,
   "metadata": {},
   "outputs": [
    {
     "data": {
      "image/png": "[encoded data removed]",
      "text/plain": [
       "<Figure size 432x288 with 2 Axes>"
      ]
     },
     "metadata": {
      "needs_background": "light"
     },
     "output_type": "display_data"
    }
   ],
   "source": [
    "# Check the figure again\n",
    "da.data = np.reshape(model.get_value(variable), shape)\n",
    "da.time.values = num2date(model.get_current_time(), time_units)\n",
    "da.where(da != -999).plot()\n",
    "plt.show()"
   ]
  },
  {
   "cell_type": "markdown",
   "metadata": {},
   "source": [
    "## Finalize model and stop docker"
   ]
  },
  {
   "cell_type": "code",
   "execution_count": 14,
   "metadata": {},
   "outputs": [],
   "source": [
    "# Clean up the container, python env and working directory\n",
    "model.finalize()\n",
    "del model"
   ]
  },
  {
   "cell_type": "markdown",
   "metadata": {},
   "source": [
    "## Model output\n",
    "The run_default folder is created by the model in TEMP_DIR."
   ]
  },
  {
   "cell_type": "code",
   "execution_count": 15,
   "metadata": {},
   "outputs": [
    {
     "name": "stdout",
     "output_type": "stream",
     "text": [
      "/scratch/shared/ewatercycle/wflow_20201026_130635\n",
      "/scratch/shared/ewatercycle/wflow_20201026_130635/intbl\n",
      "/scratch/shared/ewatercycle/wflow_20201026_130635/run_default\n",
      "/scratch/shared/ewatercycle/wflow_20201026_130635/run_default/outmaps\n",
      "/scratch/shared/ewatercycle/wflow_20201026_130635/run_default/intbl\n",
      "/scratch/shared/ewatercycle/wflow_20201026_130635/run_default/outsum\n",
      "/scratch/shared/ewatercycle/wflow_20201026_130635/run_default/outstate\n",
      "/scratch/shared/ewatercycle/wflow_20201026_130635/run_default/runinfo\n",
      "/scratch/shared/ewatercycle/wflow_20201026_130635/staticmaps\n",
      "/scratch/shared/ewatercycle/wflow_20201026_130635/staticmaps/clim\n"
     ]
    }
   ],
   "source": [
    "for root, dirs, files in os.walk(str(TEMP_DIR)):\n",
    "    print(root)"
   ]
  },
  {
   "cell_type": "code",
   "execution_count": null,
   "metadata": {},
   "outputs": [],
   "source": []
  }
 ],
 "metadata": {
  "anaconda-cloud": {},
  "kernelspec": {
   "display_name": "Python 3",
   "language": "python",
   "name": "python3"
  },
  "language_info": {
   "codemirror_mode": {
    "name": "ipython",
    "version": 3
   },
   "file_extension": ".py",
   "mimetype": "text/x-python",
   "name": "python",
   "nbconvert_exporter": "python",
   "pygments_lexer": "ipython3",
   "version": "3.7.7"
  }
 },
 "nbformat": 4,
 "nbformat_minor": 4
}
