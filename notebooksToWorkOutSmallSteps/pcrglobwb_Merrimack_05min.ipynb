{
 "cells": [
  {
   "cell_type": "markdown",
   "metadata": {},
   "source": [
    "Run model and write output netcdf files that are specified in the .ini file. The output files can be specified in the [reportingOptions] section of the .ini file (e.g. setup_05_non-natural.ini)."
   ]
  },
  {
   "cell_type": "markdown",
   "metadata": {},
   "source": [
    "In the first codecells the packages required for the simulation and analysis are imported the pcrglobwb model is imported and initialised as a test to see if the model is working as it should all the output values and modeltimestep information is retrieved to see if the model is initialsed correctly."
   ]
  },
  {
   "cell_type": "code",
   "execution_count": 3,
   "metadata": {},
   "outputs": [],
   "source": [
    "#Import docker and set client\n",
    "import docker\n",
    "client = docker.from_env()"
   ]
  },
  {
   "cell_type": "code",
   "execution_count": 4,
   "metadata": {},
   "outputs": [],
   "source": [
    "#Packages required for the simulation and analysis \n",
    "import os\n",
    "import time\n",
    "import datetime\n",
    "import cftime\n",
    "from datetime import datetime\n",
    "from datetime import timedelta\n",
    "\n",
    "import numpy\n",
    "import numpy.ma as ma\n",
    "import pandas as pd\n",
    "import xarray as xr\n",
    "\n",
    "import hydrostats.data as hd\n",
    "import hydrostats.visual as hv\n",
    "import matplotlib.pyplot as plt\n",
    "\n",
    "import HydroErr as he\n",
    "import numpy as np\n",
    "\n",
    "from ewatercycle.parametersetdb import build_from_urls\n",
    "from ewatercycle.observation.grdc import get_grdc_data\n"
   ]
  },
  {
   "cell_type": "code",
   "execution_count": 5,
   "metadata": {},
   "outputs": [],
   "source": [
    "#Run docker container that contains model\n",
    "from grpc4bmi.bmi_client_docker import BmiClientDocker\n",
    "pcrg = BmiClientDocker(image='ewatercycle/pcrg-grpc4bmi:latest', image_port=55555, \n",
    "                       input_dir=\"/mnt/home/user35/pcrglob/input\", \n",
    "                       output_dir=\"/mnt/home/user35/pcrglob/output\")"
   ]
  },
  {
   "cell_type": "code",
   "execution_count": 6,
   "metadata": {},
   "outputs": [
    {
     "data": {
      "text/plain": [
       "'pcrglobwb'"
      ]
     },
     "execution_count": 6,
     "metadata": {},
     "output_type": "execute_result"
    }
   ],
   "source": [
    "pcrg.get_component_name()"
   ]
  },
  {
   "cell_type": "code",
   "execution_count": 7,
   "metadata": {},
   "outputs": [
    {
     "name": "stdout",
     "output_type": "stream",
     "text": [
      "CPU times: user 9.71 ms, sys: 4.08 ms, total: 13.8 ms\n",
      "Wall time: 31.6 s\n"
     ]
    }
   ],
   "source": [
    "#Read the .ini file and initialize the model\n",
    "%time pcrg.initialize('pcrglob_05min_Merrimack.ini')"
   ]
  },
  {
   "cell_type": "code",
   "execution_count": 8,
   "metadata": {
    "scrolled": true
   },
   "outputs": [
    {
     "data": {
      "text/plain": [
       "('groundwater_recharge',\n",
       " 'lake_and_reservoir_storage',\n",
       " 'domesticWaterConsumptionVolume',\n",
       " 'land_surface_actual_evaporation',\n",
       " 'groundwater_storage',\n",
       " 'snow_melt',\n",
       " 'totalPotentialMaximumGrossDemand',\n",
       " 'interception_evaporation',\n",
       " 'flood_innundation_depth',\n",
       " 'total_groundwater_abstraction',\n",
       " 'water_body_actual_evaporation',\n",
       " 'interflow',\n",
       " 'consumptive_water_use_for_irrigation_demand',\n",
       " 'non_irrigation_gross_demand_volume',\n",
       " 'accumulated_total_surface_runoff',\n",
       " 'livestock_water_withdrawal',\n",
       " 'land_surface_potential_evaporation',\n",
       " 'total_groundwater_storage',\n",
       " 'bare_soil_evaporation',\n",
       " 'top_water_layer_evaporation',\n",
       " 'transpiration_from_irrigation',\n",
       " 'total_thickness_of_active_water_storage',\n",
       " 'domestic_water_withdrawal',\n",
       " 'netLqWaterToSoil_at_irrigation_volume',\n",
       " 'interception_storage',\n",
       " 'non_irrigation_gross_demand',\n",
       " 'livestockWaterConsumptionVolume',\n",
       " 'groundwater_depth_for_top_layer',\n",
       " 'surface_water_storage',\n",
       " 'irrigation_gross_demand_volume',\n",
       " 'return_flow_from_irrigation_demand_withdrawal',\n",
       " 'upper_soil_storage',\n",
       " 'desalination_source_abstraction_volume',\n",
       " 'snow_free_water_evaporation',\n",
       " 'surface_water_abstraction',\n",
       " 'industryWaterConsumptionVolume',\n",
       " 'fossil_groundwater_storage',\n",
       " 'evaporation_from_irrigation_volume',\n",
       " 'total_evaporation_fraction',\n",
       " 'evaporation_from_irrigation',\n",
       " 'direct_runoff',\n",
       " 'accumulated_land_surface_baseflow',\n",
       " 'snow_free_water',\n",
       " 'total_thickness_of_water_storage',\n",
       " 'precipitation',\n",
       " 'industryWaterWithdrawalVolume',\n",
       " 'net_liquid_water_to_soil',\n",
       " 'baseflow',\n",
       " 'return_flow_from_groundwater_abstraction',\n",
       " 'bottom_elevation_of_lowermost_layer',\n",
       " 'groundwater_head_for_layer_1',\n",
       " 'return_flow_from_non_irrigation_demand_withdrawal',\n",
       " 'domesticWaterWithdrawalVolume',\n",
       " 'top_water_layer',\n",
       " 'transpiration_from_irrigation_volume',\n",
       " 'total_gross_demand_volume',\n",
       " 'top_elevation_of_uppermost_layer',\n",
       " 'fraction_of_surface_water_allocation',\n",
       " 'total_groundwater_abstraction_volume',\n",
       " 'total_transpiration',\n",
       " 'precipitation_at_irrigation_volume',\n",
       " 'lower_soil_storage',\n",
       " 'land_surface_water_balance',\n",
       " 'water_body_potential_evaporation',\n",
       " 'netLqWaterToSoil_at_irrigation',\n",
       " 'groundwater_head_for_top_layer',\n",
       " 'fraction_of_other_water_source_allocation',\n",
       " 'infiltration',\n",
       " 'consumptive_water_use_for_non_irrigation_demand',\n",
       " 'irrigation_withdrawal',\n",
       " 'lower_soil_saturation_degree',\n",
       " 'fraction_of_desalinated_water_allocation',\n",
       " 'water_body_evaporation_fraction',\n",
       " 'non_paddy_irrigation_withdrawal',\n",
       " 'total_gross_demand',\n",
       " 'groundwater_capillary_rise',\n",
       " 'non_fossil_groundwater_abstraction',\n",
       " 'land_surface_evaporation_fraction',\n",
       " 'fraction_of_non_fossil_groundwater_allocation',\n",
       " 'groundwater_head_for_layer_2',\n",
       " 'flood_innundation_volume',\n",
       " 'paddy_irrigation_withdrawal',\n",
       " 'total_evaporation',\n",
       " 'local_water_body_flux',\n",
       " 'land_surface_evaporation',\n",
       " 'channel_storage',\n",
       " 'surface_water_level',\n",
       " 'accumulated_land_surface_runoff',\n",
       " 'lower_soil_transpiration',\n",
       " 'total_volume_of_water_storage',\n",
       " 'precipitation_at_irrigation',\n",
       " 'reference_potential_evaporation',\n",
       " 'upper_soil_saturation_degree',\n",
       " 'fossil_groundwater_abstraction',\n",
       " 'land_surface_runoff',\n",
       " 'total_abstraction',\n",
       " 'test',\n",
       " 'livestockWaterWithdrawalVolume',\n",
       " 'desalination_source_abstraction',\n",
       " 'discharge',\n",
       " 'groundwater_thickness_estimate',\n",
       " 'temperature',\n",
       " 'upper_soil_transpiration',\n",
       " 'snow_water_equivalent',\n",
       " 'total_runoff',\n",
       " 'transpiration_from_irrigation',\n",
       " 'fraction_of_surface_water',\n",
       " 'bottom_elevation_of_uppermost_layer',\n",
       " 'industry_water_withdrawal',\n",
       " 'relativeGroundwaterHead',\n",
       " 'total_fraction_water_allocation',\n",
       " 'groundwater_volume_estimate',\n",
       " 'groundwater_depth_for_layer_2',\n",
       " 'irrigation_gross_demand',\n",
       " 'groundwater_depth_for_layer_1',\n",
       " 'irrigationWaterWithdrawalVolume',\n",
       " 'surface_water_abstraction_volume')"
      ]
     },
     "execution_count": 8,
     "metadata": {},
     "output_type": "execute_result"
    }
   ],
   "source": [
    "#Retrieve the ouput variable names, these variables can be retrieved for each timestep\n",
    "pcrg.get_output_var_names()"
   ]
  },
  {
   "cell_type": "code",
   "execution_count": 9,
   "metadata": {},
   "outputs": [
    {
     "name": "stdout",
     "output_type": "stream",
     "text": [
      "2002-01-01 2016-12-31\n"
     ]
    }
   ],
   "source": [
    "#Retrieve modeltimestep information\n",
    "tunit = pcrg.get_time_units()\n",
    "\n",
    "current_date = cftime.num2date(pcrg.get_current_time(),tunit).date()\n",
    "start_date = cftime.num2date(pcrg.get_start_time(),tunit).date()\n",
    "end_date = cftime.num2date(pcrg.get_end_time(),tunit).date()\n",
    "print(start_date, end_date)"
   ]
  },
  {
   "cell_type": "markdown",
   "metadata": {},
   "source": [
    "### Evolve the model and capture variable discharge\n",
    "\n",
    "In the following codecells the variables of our choice are defined and arrays are made to save these values over the model run. The startdate, enddate and time per step are also retrieved from the model. The amount of timesteps over which the mode is run is also defined and the last step required to perform the model run is to make an empty dataset in which to store the results. "
   ]
  },
  {
   "cell_type": "code",
   "execution_count": 10,
   "metadata": {},
   "outputs": [],
   "source": [
    "variable = 'discharge'\n",
    "variable2 = 'total_evaporation'          "
   ]
  },
  {
   "cell_type": "code",
   "execution_count": 11,
   "metadata": {},
   "outputs": [],
   "source": [
    "vals = pcrg.get_value(variable)\n",
    "unit = pcrg.get_var_units(variable)\n",
    "vals2 = pcrg.get_value(variable2) \n",
    "unit2 = pcrg.get_var_units(variable2) \n",
    "shape = pcrg.get_grid_shape(pcrg.get_var_grid(variable))\n",
    "grid_id = pcrg.get_var_grid(variable)\n",
    "\n",
    "lon = pcrg.get_grid_x(grid_id)\n",
    "lat = pcrg.get_grid_y(grid_id)"
   ]
  },
  {
   "cell_type": "code",
   "execution_count": 12,
   "metadata": {},
   "outputs": [
    {
     "name": "stdout",
     "output_type": "stream",
     "text": [
      "36890 42368 1\n"
     ]
    }
   ],
   "source": [
    "tstart = int(pcrg.get_start_time())\n",
    "tend = int(pcrg.get_end_time())\n",
    "tstep = int(pcrg.get_time_step())\n",
    "tstep_nmbr = (tend - tstart) / tstep\n",
    "print(tstart, tend, tstep)"
   ]
  },
  {
   "cell_type": "code",
   "execution_count": 13,
   "metadata": {},
   "outputs": [],
   "source": [
    "# The model is run over 10 years, \n",
    "tstep_nmbr = 3650"
   ]
  },
  {
   "cell_type": "code",
   "execution_count": 14,
   "metadata": {},
   "outputs": [
    {
     "data": {
      "text/plain": [
       "<xarray.Dataset>\n",
       "Dimensions:  (lat: 54, lon: 54, time: 5)\n",
       "Coordinates:\n",
       "  * lon      (lon) float64 40.54 40.63 40.71 40.79 40.88 40.96 41.04 41.13 ...\n",
       "  * lat      (lat) float64 -73.46 -73.38 -73.29 -73.21 -73.13 -73.04 -72.96 ...\n",
       "  * time     (time) datetime64[ns] 2002-01-01 2002-01-02 2002-01-03 ...\n",
       "Data variables:\n",
       "    *empty*"
      ]
     },
     "execution_count": 14,
     "metadata": {},
     "output_type": "execute_result"
    }
   ],
   "source": [
    "#Create xarray dataset with coordinates and time series\n",
    "ds = xr.Dataset(coords={'lon': lon,\n",
    "                        'lat': lat,\n",
    "                        'time': pd.date_range(start_date, periods=tstep_nmbr)})\n",
    "ds"
   ]
  },
  {
   "cell_type": "code",
   "execution_count": 15,
   "metadata": {},
   "outputs": [
    {
     "data": {
      "text/plain": [
       "(54, 54, 0)"
      ]
     },
     "execution_count": 15,
     "metadata": {},
     "output_type": "execute_result"
    }
   ],
   "source": [
    "#Create empty array for faster filling\n",
    "data_variable = np.zeros(shape=(len(lon), len(lat), 0))\n",
    "data_variable2 = np.zeros(shape=(len(lon), len(lat), 0)) \n",
    "data_variable.shape"
   ]
  },
  {
   "cell_type": "markdown",
   "metadata": {},
   "source": [
    "In the below codecell the model is run over the defined timesteps"
   ]
  },
  {
   "cell_type": "code",
   "execution_count": 16,
   "metadata": {},
   "outputs": [
    {
     "name": "stdout",
     "output_type": "stream",
     "text": [
      "0\n",
      "1\n",
      "2\n",
      "3\n",
      "4\n"
     ]
    }
   ],
   "source": [
    "#Model run with retrieval of variables for each time step\n",
    "\n",
    "for idx, i in enumerate(range(int(tstep_nmbr))):\n",
    "    \n",
    "    print(i)\n",
    "    \n",
    "    pcrg.update_until(tstart + i *tstep)\n",
    "    vals = pcrg.get_value(variable)\n",
    "    vals2 = pcrg.get_value(variable2)\n",
    "    data = np.reshape(vals, (len(lon), len(lat)))\n",
    "    data2 = np.reshape(vals2, (len(lon), len(lat)))\n",
    "    data_variable = np.dstack((data_variable, data))\n",
    "    data_variable2 = np.dstack((data_variable2, data2))"
   ]
  },
  {
   "cell_type": "markdown",
   "metadata": {},
   "source": [
    "Now the simulation is performd the gained data is stored in a usefull format. It can be than be used to plot a map of the discharge. The location of the red dot marks the location of the GRDC station allong the Merrimack river."
   ]
  },
  {
   "cell_type": "code",
   "execution_count": 17,
   "metadata": {},
   "outputs": [],
   "source": [
    "#Append variable data to xarray dataset\n",
    "ds[variable] = (('lon', 'lat', 'time'), data_variable)\n",
    "ds[variable2] = (('lon', 'lat', 'time'), data_variable2)\n",
    "\n",
    "\n",
    "# record data to file\n",
    "ds.to_netcdf('/mnt/home/user35/output_pcrglobwb_evap_discharge.nc')"
   ]
  },
  {
   "cell_type": "code",
   "execution_count": 18,
   "metadata": {},
   "outputs": [
    {
     "name": "stdout",
     "output_type": "stream",
     "text": [
      "m3.s-1\n"
     ]
    },
    {
     "data": {
      "text/plain": [
       "<xarray.Dataset>\n",
       "Dimensions:            (lat: 54, lon: 54, time: 5)\n",
       "Coordinates:\n",
       "  * lon                (lon) float64 40.54 40.63 40.71 40.79 40.88 40.96 ...\n",
       "  * lat                (lat) float64 -73.46 -73.38 -73.29 -73.21 -73.13 ...\n",
       "  * time               (time) datetime64[ns] 2002-01-01 2002-01-02 ...\n",
       "Data variables:\n",
       "    discharge          (lon, lat, time) float64 nan nan nan nan nan nan nan ...\n",
       "    total_evaporation  (lon, lat, time) float64 nan nan nan nan nan nan nan ..."
      ]
     },
     "execution_count": 18,
     "metadata": {},
     "output_type": "execute_result"
    },
    {
     "data": {
      "image/png": "[encoded data removed]",
      "text/plain": [
       "<Figure size 432x288 with 2 Axes>"
      ]
     },
     "metadata": {
      "needs_background": "light"
     },
     "output_type": "display_data"
    }
   ],
   "source": [
    "#Plot variable map of time step 4\n",
    "array = ds[variable].isel(time= 4) \n",
    "array.plot()\n",
    "plt.plot(-71.2984, 42.6459, 'ro') #Location of the GRDC station\n",
    "print(unit)\n",
    "ds"
   ]
  },
  {
   "cell_type": "markdown",
   "metadata": {},
   "source": [
    "Now the simulation is performed and with the means of a plot we have verified that the results are 'logical'. The simulation will now be compared to the observations of the GRDC station. For this comparison the discharge as calculated by the model at the location of the GRDC station is saved to a different array. The GRDC data is imported as another array and both arrays are than used to determine the NSE, KGE and plot a hydrograph with the help of the hydrostats package."
   ]
  },
  {
   "cell_type": "code",
   "execution_count": 19,
   "metadata": {},
   "outputs": [],
   "source": [
    "# Select timeseries based on lat lon of GRDC station\n",
    "timeseries = ds[variable].sel(lat=-71.2984, lon=42.6459, method= 'nearest')\n",
    "\n",
    "sim = timeseries.to_dataframe()"
   ]
  },
  {
   "cell_type": "code",
   "execution_count": 20,
   "metadata": {},
   "outputs": [],
   "source": [
    "station_id = '4147380' \n",
    "observations = get_grdc_data(station_id, str(start_date), str(end_date))\n",
    "obs_df = observations.to_dataframe()\n",
    "sim[\"observation\"] = obs_df[\"streamflow\"]\n",
    "sim = sim.drop(columns=['lat', 'lon'])\n",
    "simnso = sim.iloc[365:] # The first year of the simulation is disregarded and consider a spin up period."
   ]
  },
  {
   "cell_type": "code",
   "execution_count": 21,
   "metadata": {},
   "outputs": [
    {
     "data": {
      "image/png": "[encoded data removed]",
      "text/plain": [
       "<Figure size 720x432 with 1 Axes>"
      ]
     },
     "metadata": {},
     "output_type": "display_data"
    }
   ],
   "source": [
    "hv.plot(simnso[['discharge', 'observation']],\n",
    "title='Hydrograph of Merrimack',\n",
    "linestyles=['r-', 'k-'],\n",
    "legend=('Simulated', 'Observed'),\n",
    "labels=['Datetime', 'Streamflow (m3/s)'],\n",
    "metrics=['ME', 'KGE (2012)','NSE'],\n",
    "grid=True)\n",
    "plt.show()"
   ]
  },
  {
   "cell_type": "markdown",
   "metadata": {},
   "source": [
    "With the simulations and analysis performed the model is closed and the pcrg instance is deleted"
   ]
  },
  {
   "cell_type": "code",
   "execution_count": 22,
   "metadata": {},
   "outputs": [],
   "source": [
    "#Write output files and close model\n",
    "pcrg.finalize()"
   ]
  },
  {
   "cell_type": "code",
   "execution_count": 23,
   "metadata": {},
   "outputs": [],
   "source": [
    "#Remove pcrg\n",
    "del pcrg"
   ]
  },
  {
   "cell_type": "code",
   "execution_count": null,
   "metadata": {},
   "outputs": [],
   "source": []
  }
 ],
 "metadata": {
  "kernelspec": {
   "display_name": "Python 3",
   "language": "python",
   "name": "python3"
  },
  "language_info": {
   "codemirror_mode": {
    "name": "ipython",
    "version": 3
   },
   "file_extension": ".py",
   "mimetype": "text/x-python",
   "name": "python",
   "nbconvert_exporter": "python",
   "pygments_lexer": "ipython3",
   "version": "3.7.7"
  }
 },
 "nbformat": 4,
 "nbformat_minor": 4
}
