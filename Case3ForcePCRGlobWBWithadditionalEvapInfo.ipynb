{
 "cells": [
  {
   "cell_type": "markdown",
   "metadata": {},
   "source": [
    "![ewatercycle logo](https://raw.githubusercontent.com/eWaterCycle/ewatercycle/main/docs/examples/logo.png)"
   ]
  },
  {
   "cell_type": "markdown",
   "metadata": {},
   "source": [
    "## Case study 3: Replace internal evaporation module of PCRGlobWB2.0 with external data source\n",
    "This notebooks demonstrates how to use eWaterCycle to 'interfere' in a model. Every timestep, the evaporation of PCRGlobWB is 'corrected' to reflect the evaporation as measured by FLuxnet data. In this way, the model is forced by both precipitation and evaporation. Since we are only using one (point) measurement as 'the evaporation' of the entire basin, this (of course) leads to a rather different prediction for discharge. Which one is 'better' is, as always, in the eye of the beholder."
   ]
  },
  {
   "cell_type": "markdown",
   "metadata": {},
   "source": [
    "## Import statements\n",
    "We'll be using the following modules"
   ]
  },
  {
   "cell_type": "code",
   "execution_count": 1,
   "metadata": {},
   "outputs": [],
   "source": [
    "# This cell is only used to suppress some distracting output messages\n",
    "import warnings\n",
    "\n",
    "warnings.filterwarnings(\"ignore\", category=UserWarning)"
   ]
  },
  {
   "cell_type": "code",
   "execution_count": 2,
   "metadata": {},
   "outputs": [
    {
     "name": "stdout",
     "output_type": "stream",
     "text": [
      "Generating new fontManager, this may take some time...\n"
     ]
    }
   ],
   "source": [
    "# eWaterCycle specific\n",
    "import ewatercycle.analysis\n",
    "import ewatercycle.models\n",
    "import ewatercycle.observation.grdc\n",
    "import ewatercycle.parameter_sets"
   ]
  },
  {
   "cell_type": "code",
   "execution_count": 3,
   "metadata": {},
   "outputs": [],
   "source": [
    "# Calculations and plotting\n",
    "import matplotlib.pyplot as plt\n",
    "import numpy as np\n",
    "import pandas as pd\n",
    "import xarray as xr\n",
    "\n",
    "# Cartography (drawing maps)\n",
    "from cartopy import crs\n",
    "from cartopy import feature as cfeature"
   ]
  },
  {
   "cell_type": "markdown",
   "metadata": {},
   "source": [
    "The cell below contains adjustable settings for the experiment. These can be adjusted, but of course only in so far as the available input data allows for it."
   ]
  },
  {
   "cell_type": "code",
   "execution_count": 4,
   "metadata": {},
   "outputs": [],
   "source": [
    "# the GRDC (see below) station number\n",
    "grdc_station = \"4147380\"\n",
    "\n",
    "# the start and the end of the experiment. Note that forcing data must be available for this period\n",
    "experiment_start_date = \"2002-01-01T00:00:00Z\"\n",
    "experiment_end_date = \"2002-12-31T00:00:00Z\"\n",
    "\n",
    "# the parameter set used for the experiment. A number of ready made parameter sets for different models is \n",
    "# available in eWaterCycle, see the documentation\n",
    "experiment_parameterset_name = 'pcrglobwb_merrimack_05min'\n",
    "\n",
    "# the file containing the fluxnet observations\n",
    "fluxnet_data_filename = \"./externalData/FLX_US-Ha1_FLUXNET2015_SUBSET_DD_1991-2012_1-4.csv\""
   ]
  },
  {
   "cell_type": "markdown",
   "metadata": {},
   "source": [
    "## Import GRDC observations\n",
    "\n",
    "We will use GRDC station data to verify the model output. \n",
    "Read the GRDC data for the period of the experiment, for the station given above. If you are not on jupyter.ewatercycle.org or cartesius, follow the instructions about [download-observation-data](https://ewatercycle.readthedocs.io/en/latest/system_setup.html#download-observation-data) on our [System setup](https://ewatercycle.readthedocs.io/en/latest/system_setup.html#) documentation page. "
   ]
  },
  {
   "cell_type": "code",
   "execution_count": 5,
   "metadata": {},
   "outputs": [
    {
     "name": "stdout",
     "output_type": "stream",
     "text": [
      "GRDC station 4147380 is selected. The river name is: MERRIMACK RIVER.The coordinates are: (42.6459, -71.2984).The catchment area in km2 is: 12004.7. There are 0 missing values during 2002-01-01T00:00:00Z_2002-12-31T00:00:00Z at this station. See the metadata for more information.\n"
     ]
    },
    {
     "data": {
      "text/html": [
       "<div>\n",
       "<style scoped>\n",
       "    .dataframe tbody tr th:only-of-type {\n",
       "        vertical-align: middle;\n",
       "    }\n",
       "\n",
       "    .dataframe tbody tr th {\n",
       "        vertical-align: top;\n",
       "    }\n",
       "\n",
       "    .dataframe thead th {\n",
       "        text-align: right;\n",
       "    }\n",
       "</style>\n",
       "<table border=\"1\" class=\"dataframe\">\n",
       "  <thead>\n",
       "    <tr style=\"text-align: right;\">\n",
       "      <th></th>\n",
       "      <th>GRDC</th>\n",
       "    </tr>\n",
       "    <tr>\n",
       "      <th>time</th>\n",
       "      <th></th>\n",
       "    </tr>\n",
       "  </thead>\n",
       "  <tbody>\n",
       "    <tr>\n",
       "      <th>2002-01-01</th>\n",
       "      <td>56.067</td>\n",
       "    </tr>\n",
       "    <tr>\n",
       "      <th>2002-01-02</th>\n",
       "      <td>54.085</td>\n",
       "    </tr>\n",
       "    <tr>\n",
       "      <th>2002-01-03</th>\n",
       "      <td>48.988</td>\n",
       "    </tr>\n",
       "    <tr>\n",
       "      <th>2002-01-04</th>\n",
       "      <td>50.121</td>\n",
       "    </tr>\n",
       "    <tr>\n",
       "      <th>2002-01-05</th>\n",
       "      <td>47.572</td>\n",
       "    </tr>\n",
       "  </tbody>\n",
       "</table>\n",
       "</div>"
      ],
      "text/plain": [
       "              GRDC\n",
       "time              \n",
       "2002-01-01  56.067\n",
       "2002-01-02  54.085\n",
       "2002-01-03  48.988\n",
       "2002-01-04  50.121\n",
       "2002-01-05  47.572"
      ]
     },
     "execution_count": 5,
     "metadata": {},
     "output_type": "execute_result"
    }
   ],
   "source": [
    "observations, metadata = ewatercycle.observation.grdc.get_grdc_data(\n",
    "    grdc_station, start_time=experiment_start_date, end_time=experiment_end_date\n",
    ")\n",
    "\n",
    "grdc_latitude = metadata[\"grdc_latitude_in_arc_degree\"]\n",
    "grdc_longitude = metadata[\"grdc_longitude_in_arc_degree\"]\n",
    "discharge_data = observations.rename(columns={\"streamflow\": \"GRDC\"})\n",
    "discharge_data.head()"
   ]
  },
  {
   "cell_type": "markdown",
   "metadata": {},
   "source": [
    "Add columns for the data and fill them with NaN.\n",
    "We will add data to these columns as we run the model experiments"
   ]
  },
  {
   "cell_type": "code",
   "execution_count": 6,
   "metadata": {},
   "outputs": [
    {
     "data": {
      "text/html": [
       "<div>\n",
       "<style scoped>\n",
       "    .dataframe tbody tr th:only-of-type {\n",
       "        vertical-align: middle;\n",
       "    }\n",
       "\n",
       "    .dataframe tbody tr th {\n",
       "        vertical-align: top;\n",
       "    }\n",
       "\n",
       "    .dataframe thead th {\n",
       "        text-align: right;\n",
       "    }\n",
       "</style>\n",
       "<table border=\"1\" class=\"dataframe\">\n",
       "  <thead>\n",
       "    <tr style=\"text-align: right;\">\n",
       "      <th></th>\n",
       "      <th>GRDC</th>\n",
       "      <th>reference</th>\n",
       "      <th>experiment</th>\n",
       "    </tr>\n",
       "    <tr>\n",
       "      <th>time</th>\n",
       "      <th></th>\n",
       "      <th></th>\n",
       "      <th></th>\n",
       "    </tr>\n",
       "  </thead>\n",
       "  <tbody>\n",
       "    <tr>\n",
       "      <th>2002-01-01</th>\n",
       "      <td>56.067</td>\n",
       "      <td>NaN</td>\n",
       "      <td>NaN</td>\n",
       "    </tr>\n",
       "    <tr>\n",
       "      <th>2002-01-02</th>\n",
       "      <td>54.085</td>\n",
       "      <td>NaN</td>\n",
       "      <td>NaN</td>\n",
       "    </tr>\n",
       "    <tr>\n",
       "      <th>2002-01-03</th>\n",
       "      <td>48.988</td>\n",
       "      <td>NaN</td>\n",
       "      <td>NaN</td>\n",
       "    </tr>\n",
       "    <tr>\n",
       "      <th>2002-01-04</th>\n",
       "      <td>50.121</td>\n",
       "      <td>NaN</td>\n",
       "      <td>NaN</td>\n",
       "    </tr>\n",
       "    <tr>\n",
       "      <th>2002-01-05</th>\n",
       "      <td>47.572</td>\n",
       "      <td>NaN</td>\n",
       "      <td>NaN</td>\n",
       "    </tr>\n",
       "  </tbody>\n",
       "</table>\n",
       "</div>"
      ],
      "text/plain": [
       "              GRDC  reference  experiment\n",
       "time                                     \n",
       "2002-01-01  56.067        NaN         NaN\n",
       "2002-01-02  54.085        NaN         NaN\n",
       "2002-01-03  48.988        NaN         NaN\n",
       "2002-01-04  50.121        NaN         NaN\n",
       "2002-01-05  47.572        NaN         NaN"
      ]
     },
     "execution_count": 6,
     "metadata": {},
     "output_type": "execute_result"
    }
   ],
   "source": [
    "discharge_data[\"reference\"] = np.nan\n",
    "discharge_data[\"experiment\"] = np.nan\n",
    "discharge_data.head()"
   ]
  },
  {
   "cell_type": "markdown",
   "metadata": {},
   "source": [
    "## Loading parameter set"
   ]
  },
  {
   "cell_type": "code",
   "execution_count": 7,
   "metadata": {},
   "outputs": [
    {
     "name": "stdout",
     "output_type": "stream",
     "text": [
      "Parameter set\n",
      "-------------\n",
      "name=pcrglobwb_merrimack_05min\n",
      "directory=/mnt/data/parameter-sets/pcrglobwb_global\n",
      "config=/mnt/data/parameter-sets/pcrglobwb_global/merrimack_05min_era5.ini\n",
      "doi=https://doi.org/10.5281/zenodo.1045339\n",
      "target_model=pcrglobwb\n",
      "supported_model_versions={'setters'}\n"
     ]
    }
   ],
   "source": [
    "parameterset = ewatercycle.parameter_sets.get_parameter_set(experiment_parameterset_name)\n",
    "print(parameterset)"
   ]
  },
  {
   "cell_type": "markdown",
   "metadata": {},
   "source": [
    "## Setting up the model objects"
   ]
  },
  {
   "cell_type": "markdown",
   "metadata": {},
   "source": [
    "Start up a container for PCRGlob for the reference run and initialize using the setting file"
   ]
  },
  {
   "cell_type": "code",
   "execution_count": null,
   "metadata": {},
   "outputs": [
    {
     "name": "stdout",
     "output_type": "stream",
     "text": [
      "Running /mnt/data/singularity-images/ewatercycle-pcrg-grpc4bmi_setters.sif singularity container on port 46181\n",
      "/home/rhut/technicalPaperExampleNotebooks/ewatercycle_output/pcrglobwb_20210922_085313/pcrglobwb_ewatercycle.ini /home/rhut/technicalPaperExampleNotebooks/ewatercycle_output/pcrglobwb_20210922_085313\n"
     ]
    }
   ],
   "source": [
    "reference = ewatercycle.models.PCRGlobWB(version=\"setters\", parameter_set=parameterset)\n",
    "\n",
    "reference_config, reference_dir = reference.setup(\n",
    "    start_date = experiment_start_date, \n",
    "    end_date = experiment_end_date)\n",
    "\n",
    "print(reference_config, reference_dir)\n",
    "\n",
    "reference.initialize(reference_config)"
   ]
  },
  {
   "cell_type": "markdown",
   "metadata": {},
   "source": [
    "Start up a container for PCRGlob for the experiment run and initialize using the setting file"
   ]
  },
  {
   "cell_type": "code",
   "execution_count": null,
   "metadata": {},
   "outputs": [],
   "source": [
    "experiment = ewatercycle.models.PCRGlobWB(version=\"setters\", parameter_set=parameterset)\n",
    "\n",
    "experiment_config, experiment_dir = experiment.setup(\n",
    "    start_date = experiment_start_date, \n",
    "    end_date = experiment_end_date)\n",
    "\n",
    "print(experiment_config, experiment_dir)\n",
    "\n",
    "experiment.initialize(experiment_config)"
   ]
  },
  {
   "cell_type": "markdown",
   "metadata": {},
   "source": [
    "# Importing evaporation data from Fluxnet"
   ]
  },
  {
   "cell_type": "markdown",
   "metadata": {},
   "source": [
    "Read the csv file downloaded from [TODO]"
   ]
  },
  {
   "cell_type": "code",
   "execution_count": null,
   "metadata": {},
   "outputs": [],
   "source": [
    "fluxnet_rawdata = pd.read_csv(fluxnet_data_filename)\n",
    "fluxnet_rawdata[\"Datetime\"] = pd.to_datetime(fluxnet_rawdata[\"TIMESTAMP\"], format=\"%Y%m%d\")\n",
    "fluxnet_rawdata = fluxnet_rawdata.set_index(\"Datetime\")"
   ]
  },
  {
   "cell_type": "markdown",
   "metadata": {},
   "source": [
    "Select evaporation measured as latent heat flux from fluxnetdata\n",
    "and rewrite evaporation from latent heat flux to m/day"
   ]
  },
  {
   "cell_type": "code",
   "execution_count": null,
   "metadata": {},
   "outputs": [],
   "source": [
    "fluxnet_evaporation = (\n",
    "    fluxnet_rawdata[\"LE_F_MDS\"] / (2.43 * 1000000) * 6772 ** 2 / (3600 * 24)\n",
    ")"
   ]
  },
  {
   "cell_type": "markdown",
   "metadata": {},
   "source": [
    "We will apply a correction to the model state based on this fluxnet data. To be able to better read the main loop of the experiment, this is done by calling the function below."
   ]
  },
  {
   "cell_type": "code",
   "execution_count": null,
   "metadata": {},
   "outputs": [],
   "source": [
    "def apply_fluxnet_correction(model, fluxnet_evap):\n",
    "    \"\"\"Adjust soil moisture and channel storage based on measured evaporation.\"\"\"\n",
    "\n",
    "    # Read out model data\n",
    "    land_surface_evaporation = model.get_value_as_xarray(\"land_surface_evaporation\")\n",
    "    bare_soil_evaporation = model.get_value_as_xarray(\"bare_soil_evaporation\")\n",
    "    upper_soil_storage = model.get_value_as_xarray(\"upper_soil_storage\")\n",
    "    upper_soil_saturation_degree = model.get_value_as_xarray(\n",
    "        \"upper_soil_saturation_degree\"\n",
    "    )\n",
    "    channel_storage = model.get_value_as_xarray(\"channel_storage\")\n",
    "\n",
    "    # Determine a correction factor by comparing mean land surface evaporation to fluxnet evaporation\n",
    "    time = land_surface_evaporation.time.dt.strftime(\"%Y-%m-%d\").item()\n",
    "    correction_factor = (fluxnet_evap[time] / land_surface_evaporation.mean()).item()\n",
    "\n",
    "    # Apply the correction factor to bare soil evaporation in the model\n",
    "    corrected_bare_soil_evaporation = bare_soil_evaporation * correction_factor\n",
    "    evaporation_adjustment = corrected_bare_soil_evaporation - bare_soil_evaporation\n",
    "\n",
    "    # Apply the same absolute correction to upper soil storage\n",
    "    corrected_upper_soil_storage = (\n",
    "        upper_soil_storage - evaporation_adjustment\n",
    "    )  \n",
    "\n",
    "    # Determine whether there is an excess or deficit\n",
    "    maximum_upper_soil_storage = (1 / upper_soil_saturation_degree) * upper_soil_storage\n",
    "    excess = corrected_upper_soil_storage > maximum_upper_soil_storage\n",
    "    deficit = corrected_upper_soil_storage < 0\n",
    "\n",
    "    # Where there is an excess, water will be added to the channel\n",
    "    updated_channel_storage = channel_storage + (\n",
    "        corrected_upper_soil_storage - maximum_upper_soil_storage\n",
    "    )\n",
    "    channel_storage = updated_channel_storage.where(excess, other=channel_storage)\n",
    "    corrected_upper_soil_storage = maximum_upper_soil_storage.where(\n",
    "        excess, other=corrected_upper_soil_storage\n",
    "    )\n",
    "\n",
    "    # Where there is a deficit, water will be taken from the channel\n",
    "    updated_channel_storage = (\n",
    "        channel_storage + corrected_upper_soil_storage\n",
    "    )  # (note that the last term is always negative here)\n",
    "    channel_storage = updated_channel_storage.where(deficit, other=channel_storage)\n",
    "    corrected_upper_soil_storage = corrected_upper_soil_storage.where(~deficit, other=0)\n",
    "\n",
    "    # Convert storage to saturation\n",
    "    corrected_upper_soil_saturation_degree = (\n",
    "        corrected_upper_soil_storage / maximum_upper_soil_storage\n",
    "    )\n",
    "    corrected_upper_soil_saturation_degree = (\n",
    "        corrected_upper_soil_saturation_degree.fillna(upper_soil_saturation_degree)\n",
    "    )\n",
    "\n",
    "    # Update the running model\n",
    "    model.set_value(\"channel_storage\", channel_storage.values.flatten())\n",
    "    model.set_value(\n",
    "        \"upper_soil_saturation_degree\",\n",
    "        corrected_upper_soil_saturation_degree.values.flatten(),\n",
    "    )"
   ]
  },
  {
   "cell_type": "markdown",
   "metadata": {},
   "source": [
    "## Running the experiment\n",
    "With all pieces in place, we can now start to run the actual experiment. Since both models (reference and epxeriment) do not interact, they can be run in seperate loops and (ideally) this should be done in parallel."
   ]
  },
  {
   "cell_type": "code",
   "execution_count": null,
   "metadata": {},
   "outputs": [],
   "source": [
    "print(f\"Running Reference Model Run\", flush=True)\n",
    "while reference.time < reference.end_time:\n",
    "\n",
    "    # Update the model (takes a few seconds per timestep)\n",
    "    reference.update()\n",
    "\n",
    "    # Track discharge at station location\n",
    "    discharge_at_station = reference.get_value_at_coords(\n",
    "        \"discharge\", lon=[grdc_longitude], lat=[grdc_latitude]\n",
    "    )\n",
    "\n",
    "    # Add the discharge to the dataframe\n",
    "    time = reference.time_as_datetime.date().strftime(\n",
    "        \"%Y-%m-%d\"\n",
    "    )  # needs to match the time format of the dataframe\n",
    "    discharge_data[\"reference\"][time] = discharge_at_station\n",
    "\n",
    "    # Show progress\n",
    "    print(f\"Current time: {time}\", end=\"\\r\")\n",
    "\n",
    "print(\"\\nDone\")"
   ]
  },
  {
   "cell_type": "code",
   "execution_count": null,
   "metadata": {},
   "outputs": [],
   "source": [
    "print(f\"Running Experiment Model Run\", flush=True)\n",
    "while experiment.time < experiment.end_time:\n",
    "\n",
    "    # Update the model (takes a few seconds per timestep)\n",
    "    experiment.update()\n",
    "\n",
    "    # Apply a correction based on fluxnet data\n",
    "    apply_fluxnet_correction(experiment, fluxnet_evaporation)\n",
    "\n",
    "    # Track discharge at station location\n",
    "    discharge_at_station = experiment.get_value_at_coords(\n",
    "        \"discharge\", lon=[grdc_longitude], lat=[grdc_latitude]\n",
    "    )\n",
    "\n",
    "    # Add the discharge to the dataframe\n",
    "    time = experiment.time_as_datetime.date().strftime(\n",
    "        \"%Y-%m-%d\"\n",
    "    )  # needs to match the time format of the dataframe\n",
    "    discharge_data[\"experiment\"][time] = discharge_at_station\n",
    "\n",
    "    # Show progress\n",
    "    print(\n",
    "        f\"Current time: {time}\", end=\"\\r\"\n",
    "    )  # \"\\r\" clears the output before printing the next timestamp\n",
    "\n",
    "print(\"\\nDone\")"
   ]
  },
  {
   "cell_type": "markdown",
   "metadata": {},
   "source": [
    "## Plot the results"
   ]
  },
  {
   "cell_type": "markdown",
   "metadata": {},
   "source": [
    "Show a map of the final time step:"
   ]
  },
  {
   "cell_type": "code",
   "execution_count": null,
   "metadata": {},
   "outputs": [],
   "source": [
    "# Use matplotlib to make the figure slightly nicer\n",
    "fig = plt.figure(dpi=120)\n",
    "ax = fig.add_subplot(111, projection=crs.PlateCarree())\n",
    "\n",
    "# Plotting the model field is a one-liner\n",
    "reference.get_value_as_xarray(\"discharge\").plot(ax=ax, cmap=\"GnBu\", robust=True)\n",
    "\n",
    "# Also plot the station location\n",
    "ax.scatter(grdc_longitude, grdc_latitude, s=25, c=\"r\")\n",
    "\n",
    "# Overlay ocean and coastines\n",
    "ax.add_feature(cfeature.OCEAN, zorder=2)\n",
    "ax.add_feature(cfeature.RIVERS, zorder=2, color=\"k\")\n",
    "ax.coastlines(zorder=3)\n",
    "\n",
    "fig.savefig(\n",
    "    f\"Case3_ForcePCRGlobWithAdditionalDataMap\", bbox_inches=\"tight\", dpi=300\n",
    ")"
   ]
  },
  {
   "cell_type": "markdown",
   "metadata": {},
   "source": [
    "Plot the time series of discharge that we have traced"
   ]
  },
  {
   "cell_type": "code",
   "execution_count": null,
   "metadata": {},
   "outputs": [],
   "source": [
    "ewatercycle.analysis.hydrograph(discharge_data, reference=\"GRDC\", filename=\"Case3_ForcePCRGlobWithAdditionalDataHydrograph\")"
   ]
  },
  {
   "cell_type": "markdown",
   "metadata": {},
   "source": [
    "### Clean up after the model run\n",
    "The models have to be 'finalized', which deletes any temporary files and the containers have to be shut down."
   ]
  },
  {
   "cell_type": "code",
   "execution_count": 10,
   "metadata": {},
   "outputs": [
    {
     "ename": "AttributeError",
     "evalue": "'NoneType' object has no attribute 'finalize'",
     "output_type": "error",
     "traceback": [
      "\u001b[0;31m---------------------------------------------------------------------------\u001b[0m",
      "\u001b[0;31mAttributeError\u001b[0m                            Traceback (most recent call last)",
      "\u001b[0;32m/tmp/ipykernel_79932/3863575462.py\u001b[0m in \u001b[0;36m<module>\u001b[0;34m\u001b[0m\n\u001b[0;32m----> 1\u001b[0;31m \u001b[0mreference\u001b[0m\u001b[0;34m.\u001b[0m\u001b[0mfinalize\u001b[0m\u001b[0;34m(\u001b[0m\u001b[0;34m)\u001b[0m\u001b[0;34m\u001b[0m\u001b[0;34m\u001b[0m\u001b[0m\n\u001b[0m\u001b[1;32m      2\u001b[0m \u001b[0mexperiment\u001b[0m\u001b[0;34m.\u001b[0m\u001b[0mfinalize\u001b[0m\u001b[0;34m(\u001b[0m\u001b[0;34m)\u001b[0m\u001b[0;34m\u001b[0m\u001b[0;34m\u001b[0m\u001b[0m\n",
      "\u001b[0;32m/opt/conda/envs/ewatercycle/lib/python3.9/site-packages/ewatercycle/models/abstract.py\u001b[0m in \u001b[0;36mfinalize\u001b[0;34m(self)\u001b[0m\n\u001b[1;32m     84\u001b[0m     \u001b[0;32mdef\u001b[0m \u001b[0mfinalize\u001b[0m\u001b[0;34m(\u001b[0m\u001b[0mself\u001b[0m\u001b[0;34m)\u001b[0m \u001b[0;34m->\u001b[0m \u001b[0;32mNone\u001b[0m\u001b[0;34m:\u001b[0m\u001b[0;34m\u001b[0m\u001b[0;34m\u001b[0m\u001b[0m\n\u001b[1;32m     85\u001b[0m         \u001b[0;34m\"\"\"Perform tear-down tasks for the model.\"\"\"\u001b[0m\u001b[0;34m\u001b[0m\u001b[0;34m\u001b[0m\u001b[0m\n\u001b[0;32m---> 86\u001b[0;31m         \u001b[0mself\u001b[0m\u001b[0;34m.\u001b[0m\u001b[0mbmi\u001b[0m\u001b[0;34m.\u001b[0m\u001b[0mfinalize\u001b[0m\u001b[0;34m(\u001b[0m\u001b[0;34m)\u001b[0m\u001b[0;34m\u001b[0m\u001b[0;34m\u001b[0m\u001b[0m\n\u001b[0m\u001b[1;32m     87\u001b[0m         \u001b[0;32mdel\u001b[0m \u001b[0mself\u001b[0m\u001b[0;34m.\u001b[0m\u001b[0mbmi\u001b[0m\u001b[0;34m\u001b[0m\u001b[0;34m\u001b[0m\u001b[0m\n\u001b[1;32m     88\u001b[0m \u001b[0;34m\u001b[0m\u001b[0m\n",
      "\u001b[0;31mAttributeError\u001b[0m: 'NoneType' object has no attribute 'finalize'"
     ]
    }
   ],
   "source": [
    "reference.finalize()\n",
    "experiment.finalize()"
   ]
  },
  {
   "cell_type": "code",
   "execution_count": null,
   "metadata": {},
   "outputs": [],
   "source": []
  }
 ],
 "metadata": {
  "kernelspec": {
   "display_name": "Python 3 (ipykernel)",
   "language": "python",
   "name": "python3"
  },
  "language_info": {
   "codemirror_mode": {
    "name": "ipython",
    "version": 3
   },
   "file_extension": ".py",
   "mimetype": "text/x-python",
   "name": "python",
   "nbconvert_exporter": "python",
   "pygments_lexer": "ipython3",
   "version": "3.9.7"
  }
 },
 "nbformat": 4,
 "nbformat_minor": 4
}
