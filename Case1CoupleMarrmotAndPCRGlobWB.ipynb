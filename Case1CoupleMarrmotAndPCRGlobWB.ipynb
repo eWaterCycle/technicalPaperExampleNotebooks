{
 "cells": [
  {
   "cell_type": "markdown",
   "metadata": {},
   "source": [
    "![image](https://www.ewatercycle.org/assets/logo.png)"
   ]
  },
  {
   "cell_type": "markdown",
   "metadata": {},
   "source": [
    "# Case study 1: replace subbasin in PCRGlobWB2.0 with a MARRMoT model\n",
    "This notebooks demonstrates how to use eWaterCycle to combine the output of two very different models in a single experiment. We run PCRGlobWB2.0 for the Rhine basin, but we replace the Moselle sub-basin with a MARRMoT model.\n",
    "\n",
    "PCRGlobWB2.0 (Edwin 20XX) is a distributed model written in python and MARRMoT (Knoben 20XX) is a suite of conceptual models written in Matlab. To make the difference as large as possible, we choose the simplest model available within MARRMoT: the m01, a single leaky bucket."
   ]
  },
  {
   "cell_type": "markdown",
   "metadata": {},
   "source": [
    "## Import statements\n",
    "We'll be using the following modules"
   ]
  },
  {
   "cell_type": "code",
   "execution_count": 1,
   "metadata": {},
   "outputs": [],
   "source": [
    "import warnings\n",
    "warnings.filterwarnings(\"ignore\", category=UserWarning)\n",
    "\n",
    "import logging\n",
    "logging.getLogger('esmvalcore').setLevel(logging.WARNING)\n",
    "\n",
    "import os\n",
    "from datetime import datetime\n",
    "from pathlib import Path\n",
    "\n",
    "import matplotlib.pyplot as plt\n",
    "import pandas as pd\n",
    "import xarray as xr\n",
    "from cartopy import crs\n",
    "from cartopy import feature as cfeature\n",
    "from cartopy.io import shapereader\n",
    "from cftime import num2date\n",
    "\n",
    "import ewatercycle.forcing\n",
    "import ewatercycle.models\n",
    "import ewatercycle.parameter_sets\n",
    "import ewatercycle.analysis\n",
    "import ewatercycle.observation.grdc"
   ]
  },
  {
   "cell_type": "markdown",
   "metadata": {},
   "source": [
    "## List of files created for this experiment\n",
    "\n",
    "### for PCRGlobWB2.0\n",
    "\n",
    "- `rhine_05min_era5.ini` This file is identical to the file with the same name used in the big comparison study. The only difference is that the time period (variables startTime and endTime) have been set to 2002-01-01 and 2002-12-31 respectivly. \n",
    "- `rhine_05min_era5_without_moselle.ini` This file is identical to rhine_05in_era5.ini with the only exception that the landmask variable points to no_moselle_landmask_05min_rhine.map in the input directory\n",
    "- `no_moselle_landmask_05min_rhine.map` This file is based on rhine_05min.map. Using a shape file with the shape of the Moselle catchment (see MARRMoT below) all pixels that are part of the moselle catchment have been removed (set to zero) in this landmask.\n",
    "\n",
    "### for MARRMoT\n",
    "\n",
    "- `marrmot_ERA5_Moselle_2001_2016.mat` This file contains the forcing that MARRMoT needs to run. It was created by running the ESMVAlTool recipe (TODO Jerom to provide details)"
   ]
  },
  {
   "cell_type": "markdown",
   "metadata": {},
   "source": [
    "## Settings and parameters to run this experiment\n",
    "The settings below are seperated in settings that 'belong' to the experiment, those that belong to PCRGlobWB or those that belong with MARRMoT"
   ]
  },
  {
   "cell_type": "code",
   "execution_count": 2,
   "metadata": {},
   "outputs": [],
   "source": [
    "#Settings for this experiment\n",
    "\n",
    "# The project home directory where data lives and output should be written\n",
    "PROJECT_HOME = Path(os.path.abspath(\"/mnt/home/user36/temp/Case1\"))\n",
    "DATA_HOME = Path(os.path.abspath(\"/mnt/data/examples/technical_paper\"))\n",
    "\n",
    "# Settings for GRDC station for final comparison of streamflow\n",
    "station_id = '6335020' # GRDC station ID\n",
    "basin_name = 'Rhine'\n",
    "\n",
    "# Location of the mouth of the Moselle. The closest PCRGlobWB pixel to this location will\n",
    "# be used to 'dump' the output of MARRMoT into the 'channel_storage' of PCRGlobWB. Location\n",
    "# from Google maps.\n",
    "lat_moselle_mouth = [50.366852]\n",
    "lon_moselle_mouth = [7.609666] "
   ]
  },
  {
   "cell_type": "code",
   "execution_count": 3,
   "metadata": {},
   "outputs": [],
   "source": [
    "#Settings for PCRGlobWB2.0\n",
    "pcrglob_input_dir=str(DATA_HOME / 'pcr-globwb' / 'input')\n",
    "\n",
    "pcrglob_ref_setting_file = str(PROJECT_HOME  / 'settingFiles' / 'rhine_05min_era5.ini')\n",
    "pcrglob_exp_setting_file = str(PROJECT_HOME / 'settingFiles' / 'rhine_05min_era5_without_moselle.ini')"
   ]
  },
  {
   "cell_type": "code",
   "execution_count": 4,
   "metadata": {},
   "outputs": [],
   "source": [
    "#Settings for MARRMoT\n",
    "\n",
    "# forcing dataset and directory\n",
    "marrmot_forcing_dir = DATA_HOME / \"marrmot\" / \"marrmotForcing\" / \"validation\"\n",
    "marrmot_forcing_file = \"marrmot_ERA5_Moselle_2001_2016.mat\"\n",
    "\n",
    "# shape file that was used to delineate the catchment, is needed here to calculate area\n",
    "shapefile = DATA_HOME / \"marrmot\"/ \"marrmotForcing\" / \"Moselle.shp\"\n",
    "\n",
    "spinup_start_date = \"2001-01-01T00:00:00Z\"\n",
    "spinup_end_date = \"2001-12-31T00:00:00Z\"\n",
    "start_date = \"2002-01-01T00:00:00Z\"\n",
    "end_date = \"2002-12-31T00:00:00Z\"\n",
    "\n",
    "# variable of interest to get out of the model\n",
    "marrmot_output_variable = \"flux_out_Q\"\n",
    "\n",
    "# flux_out_Q unit conversion factor from mm/day to m3/s\n",
    "conversion_mmday2m3s = 1 / (1000 * 86400)\n",
    "\n",
    "# parameters, in this case max soil moisture storage (in mm), ranging between 100 en 2000\n",
    "# https://github.com/wknoben/MARRMoT/blob/dev-docker-BMI/MARRMoT/Models/Parameter%20range%20files\n",
    "maximum_soil_moisture_storage = 1500.0\n",
    "initial_soil_moisture_storage = 0.9 * maximum_soil_moisture_storage"
   ]
  },
  {
   "cell_type": "markdown",
   "metadata": {},
   "source": [
    "## Derived directories and constants\n"
   ]
  },
  {
   "cell_type": "code",
   "execution_count": 5,
   "metadata": {},
   "outputs": [
    {
     "name": "stdout",
     "output_type": "stream",
     "text": [
      "The catchment area is: 28101200000.0\n"
     ]
    }
   ],
   "source": [
    "# project directories for model input i.e. shape files and forcing\n",
    "shape = shapereader.Reader(shapefile)\n",
    "record = next(shape.records())\n",
    "moselle_area = record.attributes[\"SUB_AREA\"] * 1e6\n",
    "print(\"The catchment area is:\", moselle_area)"
   ]
  },
  {
   "cell_type": "markdown",
   "metadata": {},
   "source": [
    "## Setting up the model objects\n",
    "For MARRMoT we first need to generate a config file. After that is done, the three BMI model objects are created"
   ]
  },
  {
   "cell_type": "code",
   "execution_count": 6,
   "metadata": {},
   "outputs": [],
   "source": [
    "marrmot_forcing = ewatercycle.forcing.load_foreign(\n",
    "    target_model='marrmot',\n",
    "    directory=marrmot_forcing_dir,\n",
    "    start_time=spinup_start_date,\n",
    "    end_time=end_date,\n",
    "    forcing_info={\n",
    "       'forcing_file': marrmot_forcing_file\n",
    "    }\n",
    ")"
   ]
  },
  {
   "cell_type": "code",
   "execution_count": 7,
   "metadata": {},
   "outputs": [
    {
     "name": "stdout",
     "output_type": "stream",
     "text": [
      "Running /mnt/data/singularity-images/ewatercycle-marrmot-grpc4bmi_2020.11.sif singularity container on port 33071\n"
     ]
    },
    {
     "data": {
      "text/plain": [
       "('/mnt/home/user30/technicalPaperExampleNotebooks/out/marrmot_20210720_142446/marrmot-m01_config.mat',\n",
       " '/mnt/home/user30/technicalPaperExampleNotebooks/out/marrmot_20210720_142446')"
      ]
     },
     "execution_count": 7,
     "metadata": {},
     "output_type": "execute_result"
    }
   ],
   "source": [
    "marrmot_model = ewatercycle.models.MarrmotM01(version='2020.11', forcing=marrmot_forcing)\n",
    "\n",
    "# Create config file and write to work directory (cfg_dir)\n",
    "# Start up a container for MARRMoT\n",
    "marrmot_cfg_file, marrmot_cfg_dir = marrmot_model.setup(\n",
    "    # No need to specifiy start and end date, using dates from forcing_output\n",
    "    maximum_soil_moisture_storage=maximum_soil_moisture_storage,\n",
    "    initial_soil_moisture_storage=initial_soil_moisture_storage,\n",
    ")\n",
    "marrmot_cfg_file, marrmot_cfg_dir"
   ]
  },
  {
   "cell_type": "code",
   "execution_count": 8,
   "metadata": {},
   "outputs": [],
   "source": [
    "# Initialize using the created config file\n",
    "marrmot_model.initialize(marrmot_cfg_file)"
   ]
  },
  {
   "cell_type": "code",
   "execution_count": 9,
   "metadata": {},
   "outputs": [],
   "source": [
    "# MARRMot needs to spin-up, so we run it for a while, see the period for timing\n",
    "while (marrmot_model.time_as_isostr < spinup_end_date):\n",
    "    marrmot_model.update()"
   ]
  },
  {
   "cell_type": "code",
   "execution_count": 10,
   "metadata": {},
   "outputs": [],
   "source": [
    "pcrglob_ref_parameter_set = ewatercycle.parameter_sets.ParameterSet(\n",
    "    name='reference',\n",
    "    target_model='pcrglobwb',\n",
    "    directory=pcrglob_input_dir,\n",
    "    config=pcrglob_ref_setting_file,\n",
    "    supported_model_versions={'setters'},\n",
    ")"
   ]
  },
  {
   "cell_type": "code",
   "execution_count": 11,
   "metadata": {},
   "outputs": [
    {
     "name": "stdout",
     "output_type": "stream",
     "text": [
      "Running /mnt/data/singularity-images/ewatercycle-pcrg-grpc4bmi_setters.sif singularity container on port 40109\n"
     ]
    },
    {
     "data": {
      "text/plain": [
       "('/mnt/home/user30/technicalPaperExampleNotebooks/out/pcrglobwb_20210720_142522/pcrglobwb_ewatercycle.ini',\n",
       " '/mnt/home/user30/technicalPaperExampleNotebooks/out/pcrglobwb_20210720_142522')"
      ]
     },
     "execution_count": 11,
     "metadata": {},
     "output_type": "execute_result"
    }
   ],
   "source": [
    "pcrglob_ref_model = ewatercycle.models.PCRGlobWB(version='setters', parameter_set=pcrglob_ref_parameter_set)\n",
    "# Start up a container for PCRGlob for the reference run \n",
    "pcrglob_ref_cfg_file, pcrglob_Ref_cfg_dir = pcrglob_ref_model.setup()\n",
    "pcrglob_ref_cfg_file, pcrglob_Ref_cfg_dir"
   ]
  },
  {
   "cell_type": "code",
   "execution_count": 12,
   "metadata": {},
   "outputs": [],
   "source": [
    "# Initialize using the setting file\n",
    "pcrglob_ref_model.initialize(pcrglob_ref_cfg_file)"
   ]
  },
  {
   "cell_type": "code",
   "execution_count": 13,
   "metadata": {},
   "outputs": [
    {
     "data": {
      "text/plain": [
       "0      accumulated_land_surface_baseflow\n",
       "1        accumulated_land_surface_runoff\n",
       "2       accumulated_total_surface_runoff\n",
       "3                  bare_soil_evaporation\n",
       "4                               baseflow\n",
       "                     ...                \n",
       "112                   upper_soil_storage\n",
       "113             upper_soil_transpiration\n",
       "114        water_body_actual_evaporation\n",
       "115      water_body_evaporation_fraction\n",
       "116     water_body_potential_evaporation\n",
       "Length: 117, dtype: object"
      ]
     },
     "execution_count": 13,
     "metadata": {},
     "output_type": "execute_result"
    }
   ],
   "source": [
    "# Print available output variable names of PCRGlob model\n",
    "pd.Series(sorted(pcrglob_ref_model.output_var_names))"
   ]
  },
  {
   "cell_type": "code",
   "execution_count": 14,
   "metadata": {},
   "outputs": [],
   "source": [
    "pcrglob_exp_parameter_set = ewatercycle.parameter_sets.ParameterSet(\n",
    "    name='experiment',\n",
    "    target_model='pcrglobwb',\n",
    "    directory=pcrglob_input_dir,\n",
    "    config=pcrglob_exp_setting_file,\n",
    "    supported_model_versions={'setters'},\n",
    ")"
   ]
  },
  {
   "cell_type": "code",
   "execution_count": 15,
   "metadata": {},
   "outputs": [
    {
     "name": "stdout",
     "output_type": "stream",
     "text": [
      "Running /mnt/data/singularity-images/ewatercycle-pcrg-grpc4bmi_setters.sif singularity container on port 56543\n"
     ]
    },
    {
     "data": {
      "text/plain": [
       "('/mnt/home/user30/technicalPaperExampleNotebooks/out/pcrglobwb_20210720_142641/pcrglobwb_ewatercycle.ini',\n",
       " '/mnt/home/user30/technicalPaperExampleNotebooks/out/pcrglobwb_20210720_142641')"
      ]
     },
     "execution_count": 15,
     "metadata": {},
     "output_type": "execute_result"
    }
   ],
   "source": [
    "# Start up a container for PCRGlob for the experiment run \n",
    "pcrglob_exp_model = ewatercycle.models.PCRGlobWB(version='setters', \n",
    "                                                 parameter_set=pcrglob_exp_parameter_set)\n",
    "# Start up a container for PCRGlob for the reference run \n",
    "pcrglob_exp_cfg_file, pcrglob_exp_cfg_dir = pcrglob_exp_model.setup()\n",
    "pcrglob_exp_cfg_file, pcrglob_exp_cfg_dir"
   ]
  },
  {
   "cell_type": "code",
   "execution_count": 16,
   "metadata": {},
   "outputs": [],
   "source": [
    "# Initialize using the setting file\n",
    "pcrglob_exp_model.initialize(pcrglob_exp_cfg_file)"
   ]
  },
  {
   "cell_type": "markdown",
   "metadata": {},
   "source": [
    "## Running the experiment\n",
    "With all pieces in place, we can now start to run the actual experiment. Each timestep first the reference model (PCRGlobWB 2.0 with the Moselle) is run and it's output stored. Subsequently, MARRMoT is run, it's output is stored and it is added to the experiment model (PCRGlobWB 2.0 without the Moselle). Than, finally, the experiment model is run for one timestep, it's output stored and we go on to the next timestep."
   ]
  },
  {
   "cell_type": "code",
   "execution_count": 17,
   "metadata": {},
   "outputs": [],
   "source": [
    "# Create variables needed during the experiment run\n",
    "pcrglob_ref_output = []\n",
    "pcrglob_exp_output = []\n",
    "marrmot_output = []"
   ]
  },
  {
   "cell_type": "code",
   "execution_count": 18,
   "metadata": {},
   "outputs": [
    {
     "name": "stdout",
     "output_type": "stream",
     "text": [
      "Running experiment\n",
      "Current time: 2001-12-31T00:00:00Z\r"
     ]
    },
    {
     "ename": "_InactiveRpcError",
     "evalue": "<_InactiveRpcError of RPC that terminated with:\n\tstatus = StatusCode.UNKNOWN\n\tdetails = \"Exception calling application: set_value_at_indices() got an unexpected keyword argument 'indices'\"\n\tdebug_error_string = \"{\"created\":\"@1626791278.372093861\",\"description\":\"Error received from peer ipv6:[::1]:56543\",\"file\":\"src/core/lib/surface/call.cc\",\"file_line\":1066,\"grpc_message\":\"Exception calling application: set_value_at_indices() got an unexpected keyword argument 'indices'\",\"grpc_status\":2}\"\n>",
     "output_type": "error",
     "traceback": [
      "\u001b[0;31m---------------------------------------------------------------------------\u001b[0m",
      "\u001b[0;31m_InactiveRpcError\u001b[0m                         Traceback (most recent call last)",
      "\u001b[0;32m/tmp/ipykernel_27658/1992511401.py\u001b[0m in \u001b[0;36m<module>\u001b[0;34m\u001b[0m\n\u001b[1;32m     20\u001b[0m                                                                      lon=[lon_moselle_mouth])\n\u001b[1;32m     21\u001b[0m     \u001b[0mvalue_to_set_in_pcrglob\u001b[0m \u001b[0;34m=\u001b[0m \u001b[0mwater_to_add_to_pcrglob\u001b[0m \u001b[0;34m+\u001b[0m \u001b[0mcurrent_value_in_pcrglob\u001b[0m\u001b[0;34m\u001b[0m\u001b[0;34m\u001b[0m\u001b[0m\n\u001b[0;32m---> 22\u001b[0;31m     pcrglob_exp_model.set_value_at_coords('channel_storage', \n\u001b[0m\u001b[1;32m     23\u001b[0m                                               \u001b[0mlat\u001b[0m\u001b[0;34m=\u001b[0m\u001b[0;34m[\u001b[0m\u001b[0mlat_moselle_mouth\u001b[0m\u001b[0;34m]\u001b[0m\u001b[0;34m,\u001b[0m\u001b[0;34m\u001b[0m\u001b[0;34m\u001b[0m\u001b[0m\n\u001b[1;32m     24\u001b[0m                                               \u001b[0mlon\u001b[0m\u001b[0;34m=\u001b[0m\u001b[0;34m[\u001b[0m\u001b[0mlon_moselle_mouth\u001b[0m\u001b[0;34m]\u001b[0m\u001b[0;34m,\u001b[0m\u001b[0;34m\u001b[0m\u001b[0;34m\u001b[0m\u001b[0m\n",
      "\u001b[0;32m~/ewatercycle/ewatercycle/models/abstract.py\u001b[0m in \u001b[0;36mset_value_at_coords\u001b[0;34m(self, name, lat, lon, values)\u001b[0m\n\u001b[1;32m    135\u001b[0m         \u001b[0mindices\u001b[0m \u001b[0;34m=\u001b[0m \u001b[0mself\u001b[0m\u001b[0;34m.\u001b[0m\u001b[0m_coords_to_indices\u001b[0m\u001b[0;34m(\u001b[0m\u001b[0mname\u001b[0m\u001b[0;34m,\u001b[0m \u001b[0mlat\u001b[0m\u001b[0;34m,\u001b[0m \u001b[0mlon\u001b[0m\u001b[0;34m)\u001b[0m\u001b[0;34m\u001b[0m\u001b[0;34m\u001b[0m\u001b[0m\n\u001b[1;32m    136\u001b[0m         \u001b[0mindices\u001b[0m \u001b[0;34m=\u001b[0m \u001b[0mnp\u001b[0m\u001b[0;34m.\u001b[0m\u001b[0marray\u001b[0m\u001b[0;34m(\u001b[0m\u001b[0mindices\u001b[0m\u001b[0;34m)\u001b[0m\u001b[0;34m\u001b[0m\u001b[0;34m\u001b[0m\u001b[0m\n\u001b[0;32m--> 137\u001b[0;31m         \u001b[0mself\u001b[0m\u001b[0;34m.\u001b[0m\u001b[0mbmi\u001b[0m\u001b[0;34m.\u001b[0m\u001b[0mset_value_at_indices\u001b[0m\u001b[0;34m(\u001b[0m\u001b[0mname\u001b[0m\u001b[0;34m,\u001b[0m \u001b[0mindices\u001b[0m\u001b[0;34m,\u001b[0m \u001b[0mvalues\u001b[0m\u001b[0;34m)\u001b[0m\u001b[0;34m\u001b[0m\u001b[0;34m\u001b[0m\u001b[0m\n\u001b[0m\u001b[1;32m    138\u001b[0m \u001b[0;34m\u001b[0m\u001b[0m\n\u001b[1;32m    139\u001b[0m     \u001b[0;32mdef\u001b[0m \u001b[0m_coords_to_indices\u001b[0m\u001b[0;34m(\u001b[0m\u001b[0mself\u001b[0m\u001b[0;34m,\u001b[0m \u001b[0mname\u001b[0m\u001b[0;34m:\u001b[0m \u001b[0mstr\u001b[0m\u001b[0;34m,\u001b[0m \u001b[0mlat\u001b[0m\u001b[0;34m:\u001b[0m \u001b[0mIterable\u001b[0m\u001b[0;34m[\u001b[0m\u001b[0mfloat\u001b[0m\u001b[0;34m]\u001b[0m\u001b[0;34m,\u001b[0m \u001b[0mlon\u001b[0m\u001b[0;34m:\u001b[0m \u001b[0mIterable\u001b[0m\u001b[0;34m[\u001b[0m\u001b[0mfloat\u001b[0m\u001b[0;34m]\u001b[0m\u001b[0;34m)\u001b[0m \u001b[0;34m->\u001b[0m \u001b[0mIterable\u001b[0m\u001b[0;34m[\u001b[0m\u001b[0mint\u001b[0m\u001b[0;34m]\u001b[0m\u001b[0;34m:\u001b[0m\u001b[0;34m\u001b[0m\u001b[0;34m\u001b[0m\u001b[0m\n",
      "\u001b[0;32m~/.conda/envs/ewc30/lib/python3.9/site-packages/grpc4bmi/bmi_grpc_client.py\u001b[0m in \u001b[0;36mset_value_at_indices\u001b[0;34m(self, var_name, indices, src)\u001b[0m\n\u001b[1;32m    193\u001b[0m         \u001b[0;32melse\u001b[0m\u001b[0;34m:\u001b[0m\u001b[0;34m\u001b[0m\u001b[0;34m\u001b[0m\u001b[0m\n\u001b[1;32m    194\u001b[0m             \u001b[0;32mraise\u001b[0m \u001b[0mNotImplementedError\u001b[0m\u001b[0;34m(\u001b[0m\u001b[0;34m\"Arrays with type %s cannot be transmitted through this GRPC channel\"\u001b[0m \u001b[0;34m%\u001b[0m \u001b[0msrc\u001b[0m\u001b[0;34m.\u001b[0m\u001b[0mdtype\u001b[0m\u001b[0;34m)\u001b[0m\u001b[0;34m\u001b[0m\u001b[0;34m\u001b[0m\u001b[0m\n\u001b[0;32m--> 195\u001b[0;31m         \u001b[0mself\u001b[0m\u001b[0;34m.\u001b[0m\u001b[0mstub\u001b[0m\u001b[0;34m.\u001b[0m\u001b[0msetValueAtIndices\u001b[0m\u001b[0;34m(\u001b[0m\u001b[0mrequest\u001b[0m\u001b[0;34m)\u001b[0m\u001b[0;34m\u001b[0m\u001b[0;34m\u001b[0m\u001b[0m\n\u001b[0m\u001b[1;32m    196\u001b[0m \u001b[0;34m\u001b[0m\u001b[0m\n\u001b[1;32m    197\u001b[0m     \u001b[0;32mdef\u001b[0m \u001b[0mget_grid_size\u001b[0m\u001b[0;34m(\u001b[0m\u001b[0mself\u001b[0m\u001b[0;34m,\u001b[0m \u001b[0mgrid_id\u001b[0m\u001b[0;34m)\u001b[0m\u001b[0;34m:\u001b[0m\u001b[0;34m\u001b[0m\u001b[0;34m\u001b[0m\u001b[0m\n",
      "\u001b[0;32m~/.conda/envs/ewc30/lib/python3.9/site-packages/grpc/_channel.py\u001b[0m in \u001b[0;36m__call__\u001b[0;34m(self, request, timeout, metadata, credentials, wait_for_ready, compression)\u001b[0m\n\u001b[1;32m    944\u001b[0m         state, call, = self._blocking(request, timeout, metadata, credentials,\n\u001b[1;32m    945\u001b[0m                                       wait_for_ready, compression)\n\u001b[0;32m--> 946\u001b[0;31m         \u001b[0;32mreturn\u001b[0m \u001b[0m_end_unary_response_blocking\u001b[0m\u001b[0;34m(\u001b[0m\u001b[0mstate\u001b[0m\u001b[0;34m,\u001b[0m \u001b[0mcall\u001b[0m\u001b[0;34m,\u001b[0m \u001b[0;32mFalse\u001b[0m\u001b[0;34m,\u001b[0m \u001b[0;32mNone\u001b[0m\u001b[0;34m)\u001b[0m\u001b[0;34m\u001b[0m\u001b[0;34m\u001b[0m\u001b[0m\n\u001b[0m\u001b[1;32m    947\u001b[0m \u001b[0;34m\u001b[0m\u001b[0m\n\u001b[1;32m    948\u001b[0m     def with_call(self,\n",
      "\u001b[0;32m~/.conda/envs/ewc30/lib/python3.9/site-packages/grpc/_channel.py\u001b[0m in \u001b[0;36m_end_unary_response_blocking\u001b[0;34m(state, call, with_call, deadline)\u001b[0m\n\u001b[1;32m    847\u001b[0m             \u001b[0;32mreturn\u001b[0m \u001b[0mstate\u001b[0m\u001b[0;34m.\u001b[0m\u001b[0mresponse\u001b[0m\u001b[0;34m\u001b[0m\u001b[0;34m\u001b[0m\u001b[0m\n\u001b[1;32m    848\u001b[0m     \u001b[0;32melse\u001b[0m\u001b[0;34m:\u001b[0m\u001b[0;34m\u001b[0m\u001b[0;34m\u001b[0m\u001b[0m\n\u001b[0;32m--> 849\u001b[0;31m         \u001b[0;32mraise\u001b[0m \u001b[0m_InactiveRpcError\u001b[0m\u001b[0;34m(\u001b[0m\u001b[0mstate\u001b[0m\u001b[0;34m)\u001b[0m\u001b[0;34m\u001b[0m\u001b[0;34m\u001b[0m\u001b[0m\n\u001b[0m\u001b[1;32m    850\u001b[0m \u001b[0;34m\u001b[0m\u001b[0m\n\u001b[1;32m    851\u001b[0m \u001b[0;34m\u001b[0m\u001b[0m\n",
      "\u001b[0;31m_InactiveRpcError\u001b[0m: <_InactiveRpcError of RPC that terminated with:\n\tstatus = StatusCode.UNKNOWN\n\tdetails = \"Exception calling application: set_value_at_indices() got an unexpected keyword argument 'indices'\"\n\tdebug_error_string = \"{\"created\":\"@1626791278.372093861\",\"description\":\"Error received from peer ipv6:[::1]:56543\",\"file\":\"src/core/lib/surface/call.cc\",\"file_line\":1066,\"grpc_message\":\"Exception calling application: set_value_at_indices() got an unexpected keyword argument 'indices'\",\"grpc_status\":2}\"\n>"
     ]
    }
   ],
   "source": [
    "print(f'Running experiment', flush=True)\n",
    "\n",
    "#the experiment model is used as central 'time keeper'\n",
    "while pcrglob_exp_model.time < pcrglob_exp_model.end_time:\n",
    "    print(f'Current time: {pcrglob_exp_model.time_as_isostr}', end=\"\\r\")\n",
    "\n",
    "    #run the reference model for one timestep, store the output\n",
    "    pcrglob_ref_model.update()\n",
    "    pcrglob_ref_output.append(pcrglob_ref_model.get_value_as_xarray(\"discharge\"))\n",
    "    \n",
    "    #run MARRMoT and store the output, note that MARRMoT output is in mm!\n",
    "    marrmot_model.update()\n",
    "    marrmot_output.append(marrmot_model.get_value(marrmot_output_variable)[0])\n",
    "    \n",
    "    #add the output of MARRMoT to PCRGlob Experiment model. Note that channel storage\n",
    "    # is in m3, while MARRMoT output is in mm, so we need to convert\n",
    "    water_to_add_to_pcrglob = marrmot_output[-1] * moselle_area / 1000 #now in m3\n",
    "    current_value_in_pcrglob = pcrglob_exp_model.get_value_at_coords('channel_storage', \n",
    "                                                                     lat=[lat_moselle_mouth], \n",
    "                                                                     lon=[lon_moselle_mouth])\n",
    "    value_to_set_in_pcrglob = water_to_add_to_pcrglob + current_value_in_pcrglob\n",
    "    pcrglob_exp_model.set_value_at_coords('channel_storage', \n",
    "                                          lat=[lat_moselle_mouth], \n",
    "                                          lon=[lon_moselle_mouth], \n",
    "                                          values=value_to_set_in_pcrglob)\n",
    "    \n",
    "    #Run the experiment PCRGlobWB model one timestep, store the output\n",
    "    pcrglob_exp_model.update()\n",
    "    pcrglob_exp_output.append(pcrglob_exp_model.get_value_as_xarray(\"discharge\"))\n",
    "    \n",
    "print('')"
   ]
  },
  {
   "cell_type": "markdown",
   "metadata": {},
   "source": [
    "### clean up after the model run\n",
    "The models have to be 'finalized', which deletes any temporary files and the containers have to be shut down."
   ]
  },
  {
   "cell_type": "code",
   "execution_count": null,
   "metadata": {},
   "outputs": [],
   "source": [
    "pcrglob_ref_model.finalize()"
   ]
  },
  {
   "cell_type": "code",
   "execution_count": null,
   "metadata": {},
   "outputs": [],
   "source": [
    "pcrglob_exp_model.finalize()"
   ]
  },
  {
   "cell_type": "code",
   "execution_count": null,
   "metadata": {},
   "outputs": [],
   "source": [
    "marrmot_model.finalize()"
   ]
  },
  {
   "cell_type": "markdown",
   "metadata": {},
   "source": [
    "Combine values of each time step into single dataset"
   ]
  },
  {
   "cell_type": "code",
   "execution_count": null,
   "metadata": {},
   "outputs": [],
   "source": [
    "data_exp = xr.concat(pcrglob_exp_output, dim='time')\n",
    "data_ref = xr.concat(pcrglob_ref_output, dim='time')"
   ]
  },
  {
   "cell_type": "code",
   "execution_count": null,
   "metadata": {},
   "outputs": [],
   "source": [
    "# Store results on disk\n",
    "# data_exp.to_netcdf(pcrglob_exp_cfg_dir / 'data_exp.nc')\n",
    "# data_ref.to_netcdf(pcrglob_Ref_cfg_dir / 'data_ref.nc')"
   ]
  },
  {
   "cell_type": "code",
   "execution_count": null,
   "metadata": {},
   "outputs": [],
   "source": [
    "# Retrieve results from disk when models are run in seperate session\n",
    "# data_exp = xr.open_dataset(Path('/mnt/home/user36/temp/Case1/pcrglobwb_20210426_100036') / 'data_exp.nc')\n",
    "# data_ref = xr.open_dataset(Path('/mnt/home/user36/temp/Case1/pcrglobwb_20210426_095636') / 'data_ref.nc')"
   ]
  },
  {
   "cell_type": "markdown",
   "metadata": {},
   "source": [
    "### Import GRDC observations\n",
    "\n",
    "Read the GRDC data for the period of the experiment, for the station given above. \n",
    "If you are not on jupyter.ewatercycle.org or Cartesius, download the GRDC https://www.bafg.de/GRDC/EN/02_srvcs/21_tmsrs/riverdischarge_node.html and set the `grdc_location` field in `./ewatercycle.yaml` to your download location."
   ]
  },
  {
   "cell_type": "code",
   "execution_count": null,
   "metadata": {},
   "outputs": [],
   "source": [
    "observations_df, metadata = ewatercycle.observation.grdc.get_grdc_data(\n",
    "    station_id, \n",
    "    start_time=start_date,\n",
    "    end_time=end_date,\n",
    ")\n",
    "grdc_obs = observations_df.rename(columns = {'streamflow': 'Observations from GRDC'})\n",
    "grdc_lon = metadata.attrs['grdc_longitude_in_arc_degree']\n",
    "grdc_lat = metadata.attrs['grdc_latitude_in_arc_degree']"
   ]
  },
  {
   "cell_type": "markdown",
   "metadata": {},
   "source": [
    "## Plot the results"
   ]
  },
  {
   "cell_type": "markdown",
   "metadata": {},
   "source": [
    "Find pixel in model grid of GRDC station location using highest overall discharge around the station."
   ]
  },
  {
   "cell_type": "code",
   "execution_count": null,
   "metadata": {},
   "outputs": [],
   "source": [
    "pad=.2\n",
    "\n",
    "# Write data for model output at GRDC location to pandas series,\n",
    "# Use padding and max to correct for GRDC station location error\n",
    "\n",
    "#TODO get model output pixel closest to some lat-lon needs to be a util.\n",
    "\n",
    "data_exp_at_grdc_location = data_exp.sel(longitude=slice(grdc_lon-pad, grdc_lon+pad), \n",
    "                         latitude=slice(grdc_lat-pad, grdc_lat+pad)\n",
    "                        ).max(['longitude', 'latitude']\n",
    "                        ).rename({'discharge': 'PCRGlobWB Moselle replaced by MARRMoT-m01'}\n",
    "                        ).to_dataframe()\n",
    "\n",
    "data_ref_at_grdc_location = data_ref.sel(longitude=slice(grdc_lon-pad, grdc_lon+pad), \n",
    "                         latitude=slice(grdc_lat-pad, grdc_lat+pad)\n",
    "                        ).max(['longitude', 'latitude']\n",
    "                        ).rename({'discharge': 'PCRGlobWB normal'}\n",
    "                        ).to_dataframe()"
   ]
  },
  {
   "cell_type": "markdown",
   "metadata": {},
   "source": [
    "Map of exp at the final time step"
   ]
  },
  {
   "cell_type": "code",
   "execution_count": null,
   "metadata": {},
   "outputs": [],
   "source": [
    "# Use matplotlib to make the figure slightly nicer\n",
    "fig = plt.figure(dpi=120)\n",
    "ax = fig.add_subplot(111, projection=crs.PlateCarree())\n",
    "\n",
    "# Add the mosell catchment to the map\n",
    "ax.add_feature(cfeature.ShapelyFeature(\n",
    "    shape.geometries(), \n",
    "    crs.PlateCarree(), \n",
    "    edgecolor=\"green\",\n",
    "    facecolor='none',\n",
    "))\n",
    "\n",
    "# Plotting the model field is a one-liner\n",
    "data_exp.discharge.isel(time=-1).plot(ax=ax, cmap='GnBu', robust=True)\n",
    "\n",
    "# Also plot the station location\n",
    "ax.scatter(grdc_lon, grdc_lat, s=25, c='b')\n",
    "# TODO plot the grid cell of model for which hydrograph is made\n",
    "# ax.scatter(model_longitude, model_latitude, s=25, c='r')\n",
    "\n",
    "# Overlay ocean and coastines\n",
    "ax.add_feature(cfeature.OCEAN, zorder=2)\n",
    "ax.coastlines(zorder=3)\n",
    "fig.savefig(f'pcrglobwb_RolfTestRhine_discharge_map', bbox_inches='tight', dpi=300)"
   ]
  },
  {
   "cell_type": "code",
   "execution_count": null,
   "metadata": {},
   "outputs": [],
   "source": [
    "# Combine timeseries of ERA-Interim, ERA5 and GRDC observations in a pandas dataframe\n",
    "df = data_exp_at_grdc_location.join(data_ref_at_grdc_location).join(grdc_obs)\n",
    "df"
   ]
  },
  {
   "cell_type": "code",
   "execution_count": null,
   "metadata": {},
   "outputs": [],
   "source": [
    "hydrograph(\n",
    "    discharge=df,\n",
    "    reference='Observations from GRDC',\n",
    "    filename=f'pcrglobwb_{basin_name}_hydrograph'\n",
    ")"
   ]
  },
  {
   "cell_type": "code",
   "execution_count": null,
   "metadata": {},
   "outputs": [],
   "source": []
  }
 ],
 "metadata": {
  "kernelspec": {
   "display_name": "Python (ewc30)",
   "language": "python",
   "name": "ewc30"
  },
  "language_info": {
   "codemirror_mode": {
    "name": "ipython",
    "version": 3
   },
   "file_extension": ".py",
   "mimetype": "text/x-python",
   "name": "python",
   "nbconvert_exporter": "python",
   "pygments_lexer": "ipython3",
   "version": "3.9.6"
  }
 },
 "nbformat": 4,
 "nbformat_minor": 4
}
