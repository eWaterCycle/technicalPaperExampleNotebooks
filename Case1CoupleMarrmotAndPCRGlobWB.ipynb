{
 "cells": [
  {
   "cell_type": "markdown",
   "metadata": {},
   "source": [
    "![image](https://www.ewatercycle.org/assets/logo.png)"
   ]
  },
  {
   "cell_type": "markdown",
   "metadata": {},
   "source": [
    "# Case study 1: replace subbasin in PCRGlobWB2.0 with a MARRMoT model\n",
    "This notebooks demonstrates how to use eWaterCycle to combine the output of two very different models in a single experiment. We run PCRGlobWB2.0 for the Rhine basin, but we replace the Moselle sub-basin with a MARRMoT model.\n",
    "\n",
    "PCRGlobWB2.0 (Edwin 20XX) is a distributed model written in python and MARRMoT (Knoben 20XX) is a suite of conceptual models written in Matlab. To make the difference as large as possible, we choose the simplest model available within MARRMoT: the m01, a single leaky bucket.\n",
    "\n",
    "This example use case assumes that the ewatercycle platform has been installed and configured on your system. See our [system setup documentation](https://ewatercycle.readthedocs.io/en/latest/system_setup.html) for instructions if this is not the case."
   ]
  },
  {
   "cell_type": "markdown",
   "metadata": {},
   "source": [
    "## Import statements\n",
    "We'll be using the following modules"
   ]
  },
  {
   "cell_type": "code",
   "execution_count": 1,
   "metadata": {},
   "outputs": [],
   "source": [
    "import warnings\n",
    "warnings.filterwarnings(\"ignore\", category=UserWarning)\n",
    "\n",
    "import logging\n",
    "logging.getLogger('esmvalcore').setLevel(logging.WARNING)\n",
    "\n",
    "import os\n",
    "from datetime import datetime\n",
    "from pathlib import Path\n",
    "\n",
    "import matplotlib.pyplot as plt\n",
    "import pandas as pd\n",
    "from cartopy import crs\n",
    "from cartopy import feature as cfeature\n",
    "from cartopy.io import shapereader\n",
    "from cftime import num2date\n",
    "\n",
    "import ewatercycle.forcing\n",
    "import ewatercycle.models\n",
    "import ewatercycle.parameter_sets\n",
    "import ewatercycle.analysis\n",
    "import ewatercycle.observation.grdc"
   ]
  },
  {
   "cell_type": "markdown",
   "metadata": {},
   "source": [
    "## List of files created for this experiment\n",
    "\n",
    "### for PCRGlobWB2.0\n",
    "\n",
    "- `rhine_05min_era5.ini` This file is identical to the file with the same name used in the big comparison study. The only difference is that the time period (variables startTime and endTime) have been set to 2002-01-01 and 2002-12-31 respectivly. \n",
    "- `rhine_05min_era5_without_moselle.ini` This file is identical to rhine_05in_era5.ini with the only exception that the landmask variable points to no_moselle_landmask_05min_rhine.map in the input directory\n",
    "- `no_moselle_landmask_05min_rhine.map` This file is based on rhine_05min.map. Using a shape file with the shape of the Moselle catchment (see MARRMoT below) all pixels that are part of the moselle catchment have been removed (set to zero) in this landmask.\n",
    "\n",
    "### for MARRMoT\n",
    "\n",
    "- `marrmot_ERA5_Moselle_2001_2016.mat` This file contains the forcing that MARRMoT needs to run. It was created by running the ESMVAlTool recipe (TODO Jerom to provide details)"
   ]
  },
  {
   "cell_type": "markdown",
   "metadata": {},
   "source": [
    "## Settings and parameters to run this experiment\n",
    "The settings below are seperated in settings that 'belong' to the experiment, those that belong to PCRGlobWB or those that belong with MARRMoT"
   ]
  },
  {
   "cell_type": "code",
   "execution_count": 2,
   "metadata": {},
   "outputs": [],
   "source": [
    "#Settings for this experiment\n",
    "\n",
    "# The project home directory where data lives and output should be written\n",
    "PROJECT_HOME = Path(os.path.abspath(\"/mnt/home/user36/temp/Case1\"))\n",
    "DATA_HOME = Path(os.path.abspath(\"/mnt/data/examples/technical_paper\"))\n",
    "\n",
    "# Settings for GRDC station for final comparison of streamflow\n",
    "station_id = '6335020' # GRDC station ID\n",
    "basin_name = 'Rhine'\n",
    "\n",
    "# Location of the mouth of the Moselle. The closest PCRGlobWB pixel to this location will\n",
    "# be used to 'dump' the output of MARRMoT into the 'channel_storage' of PCRGlobWB. Location\n",
    "# from Google maps.\n",
    "lat_moselle_mouth = [50.366852]\n",
    "lon_moselle_mouth = [7.609666] "
   ]
  },
  {
   "cell_type": "code",
   "execution_count": 3,
   "metadata": {},
   "outputs": [],
   "source": [
    "#Settings for PCRGlobWB2.0\n",
    "pcrglob_input_dir=str(DATA_HOME / 'pcr-globwb' / 'input')\n",
    "\n",
    "pcrglob_ref_setting_file = str(PROJECT_HOME  / 'settingFiles' / 'rhine_05min_era5.ini')\n",
    "pcrglob_exp_setting_file = str(PROJECT_HOME / 'settingFiles' / 'rhine_05min_era5_without_moselle.ini')"
   ]
  },
  {
   "cell_type": "code",
   "execution_count": 4,
   "metadata": {},
   "outputs": [],
   "source": [
    "#Settings for MARRMoT\n",
    "\n",
    "# forcing dataset and directory\n",
    "marrmot_forcing_dir = DATA_HOME / \"marrmot\" / \"marrmotForcing\" / \"validation\"\n",
    "marrmot_forcing_file = \"marrmot_ERA5_Moselle_2001_2016.mat\"\n",
    "\n",
    "# shape file that was used to delineate the catchment, is needed here to calculate area\n",
    "shapefile = DATA_HOME / \"marrmot\"/ \"marrmotForcing\" / \"Moselle.shp\"\n",
    "\n",
    "spinup_start_date = \"2001-01-01T00:00:00Z\"\n",
    "spinup_end_date = \"2001-12-31T00:00:00Z\"\n",
    "start_date = \"2002-01-01T00:00:00Z\"\n",
    "end_date = \"2002-12-31T00:00:00Z\"\n",
    "\n",
    "# variable of interest to get out of the model\n",
    "marrmot_output_variable = \"flux_out_Q\"\n",
    "\n",
    "# flux_out_Q unit conversion factor from mm/day to m3/s\n",
    "conversion_mmday2m3s = 1 / (1000 * 86400)\n",
    "\n",
    "# parameters, in this case max soil moisture storage (in mm), ranging between 100 en 2000\n",
    "# https://github.com/wknoben/MARRMoT/blob/dev-docker-BMI/MARRMoT/Models/Parameter%20range%20files\n",
    "maximum_soil_moisture_storage = 1500.0\n",
    "initial_soil_moisture_storage = 0.9 * maximum_soil_moisture_storage"
   ]
  },
  {
   "cell_type": "markdown",
   "metadata": {},
   "source": [
    "## Derived directories and constants\n"
   ]
  },
  {
   "cell_type": "code",
   "execution_count": 5,
   "metadata": {},
   "outputs": [
    {
     "name": "stdout",
     "output_type": "stream",
     "text": [
      "The catchment area is: 28101200000.0\n"
     ]
    }
   ],
   "source": [
    "# project directories for model input i.e. shape files and forcing\n",
    "shape = shapereader.Reader(shapefile)\n",
    "record = next(shape.records())\n",
    "moselle_area = record.attributes[\"SUB_AREA\"] * 1e6\n",
    "print(\"The catchment area is:\", moselle_area)"
   ]
  },
  {
   "cell_type": "markdown",
   "metadata": {},
   "source": [
    "## Setting up the model objects\n",
    "For MARRMoT we first need to generate a config file. After that is done, the three BMI model objects are created"
   ]
  },
  {
   "cell_type": "code",
   "execution_count": 6,
   "metadata": {},
   "outputs": [],
   "source": [
    "marrmot_forcing = ewatercycle.forcing.load_foreign(\n",
    "    target_model='marrmot',\n",
    "    directory=marrmot_forcing_dir,\n",
    "    start_time=spinup_start_date,\n",
    "    end_time=end_date,\n",
    "    forcing_info={\n",
    "       'forcing_file': marrmot_forcing_file\n",
    "    }\n",
    ")"
   ]
  },
  {
   "cell_type": "code",
   "execution_count": 7,
   "metadata": {},
   "outputs": [
    {
     "name": "stdout",
     "output_type": "stream",
     "text": [
      "Running /mnt/data/singularity-images/ewatercycle-marrmot-grpc4bmi_2020.11.sif singularity container on port 38607\n"
     ]
    },
    {
     "data": {
      "text/plain": [
       "('/mnt/home/user30/technicalPaperExampleNotebooks/out/marrmot_20210721_112738/marrmot-m01_config.mat',\n",
       " '/mnt/home/user30/technicalPaperExampleNotebooks/out/marrmot_20210721_112738')"
      ]
     },
     "execution_count": 7,
     "metadata": {},
     "output_type": "execute_result"
    }
   ],
   "source": [
    "marrmot_model = ewatercycle.models.MarrmotM01(version='2020.11', forcing=marrmot_forcing)\n",
    "\n",
    "# Create config file and write to work directory (cfg_dir)\n",
    "# Start up a container for MARRMoT\n",
    "marrmot_cfg_file, marrmot_cfg_dir = marrmot_model.setup(\n",
    "    # No need to specifiy start and end date, using dates from forcing_output\n",
    "    maximum_soil_moisture_storage=maximum_soil_moisture_storage,\n",
    "    initial_soil_moisture_storage=initial_soil_moisture_storage,\n",
    ")\n",
    "marrmot_cfg_file, marrmot_cfg_dir"
   ]
  },
  {
   "cell_type": "code",
   "execution_count": 8,
   "metadata": {},
   "outputs": [],
   "source": [
    "# Initialize using the created config file\n",
    "marrmot_model.initialize(marrmot_cfg_file)"
   ]
  },
  {
   "cell_type": "code",
   "execution_count": 9,
   "metadata": {},
   "outputs": [],
   "source": [
    "# MARRMot needs to spin-up, so we run it for a while, see the period for timing\n",
    "while (marrmot_model.time_as_isostr < spinup_end_date):\n",
    "    marrmot_model.update()"
   ]
  },
  {
   "cell_type": "code",
   "execution_count": 10,
   "metadata": {},
   "outputs": [],
   "source": [
    "pcrglob_ref_parameter_set = ewatercycle.parameter_sets.ParameterSet(\n",
    "    name='reference',\n",
    "    target_model='pcrglobwb',\n",
    "    directory=pcrglob_input_dir,\n",
    "    config=pcrglob_ref_setting_file,\n",
    "    supported_model_versions={'setters'},\n",
    ")"
   ]
  },
  {
   "cell_type": "code",
   "execution_count": 11,
   "metadata": {},
   "outputs": [
    {
     "name": "stdout",
     "output_type": "stream",
     "text": [
      "Running /mnt/data/singularity-images/ewatercycle-pcrg-grpc4bmi_setters.sif singularity container on port 34129\n"
     ]
    },
    {
     "data": {
      "text/plain": [
       "('/mnt/home/user30/technicalPaperExampleNotebooks/out/pcrglobwb_20210721_112823/pcrglobwb_ewatercycle.ini',\n",
       " '/mnt/home/user30/technicalPaperExampleNotebooks/out/pcrglobwb_20210721_112823')"
      ]
     },
     "execution_count": 11,
     "metadata": {},
     "output_type": "execute_result"
    }
   ],
   "source": [
    "pcrglob_ref_model = ewatercycle.models.PCRGlobWB(version='setters', parameter_set=pcrglob_ref_parameter_set)\n",
    "# Start up a container for PCRGlob for the reference run \n",
    "pcrglob_ref_cfg_file, pcrglob_Ref_cfg_dir = pcrglob_ref_model.setup()\n",
    "pcrglob_ref_cfg_file, pcrglob_Ref_cfg_dir"
   ]
  },
  {
   "cell_type": "code",
   "execution_count": 12,
   "metadata": {},
   "outputs": [],
   "source": [
    "# Initialize using the setting file\n",
    "pcrglob_ref_model.initialize(pcrglob_ref_cfg_file)"
   ]
  },
  {
   "cell_type": "code",
   "execution_count": 13,
   "metadata": {},
   "outputs": [
    {
     "data": {
      "text/plain": [
       "0                   accumulated_land_surface_baseflow\n",
       "1                               bare_soil_evaporation\n",
       "2                                            baseflow\n",
       "3                                     channel_storage\n",
       "4     consumptive_water_use_for_non_irrigation_demand\n",
       "                           ...                       \n",
       "92                                 upper_soil_storage\n",
       "93                           upper_soil_transpiration\n",
       "94                      water_body_actual_evaporation\n",
       "95                    water_body_evaporation_fraction\n",
       "96                   water_body_potential_evaporation\n",
       "Length: 97, dtype: object"
      ]
     },
     "execution_count": 13,
     "metadata": {},
     "output_type": "execute_result"
    }
   ],
   "source": [
    "# Print available output variable names of PCRGlob model\n",
    "pd.Series(sorted(pcrglob_ref_model.output_var_names))"
   ]
  },
  {
   "cell_type": "code",
   "execution_count": 14,
   "metadata": {},
   "outputs": [],
   "source": [
    "pcrglob_exp_parameter_set = ewatercycle.parameter_sets.ParameterSet(\n",
    "    name='experiment',\n",
    "    target_model='pcrglobwb',\n",
    "    directory=pcrglob_input_dir,\n",
    "    config=pcrglob_exp_setting_file,\n",
    "    supported_model_versions={'setters'},\n",
    ")"
   ]
  },
  {
   "cell_type": "code",
   "execution_count": 15,
   "metadata": {},
   "outputs": [
    {
     "name": "stdout",
     "output_type": "stream",
     "text": [
      "Running /mnt/data/singularity-images/ewatercycle-pcrg-grpc4bmi_setters.sif singularity container on port 50117\n"
     ]
    },
    {
     "data": {
      "text/plain": [
       "('/mnt/home/user30/technicalPaperExampleNotebooks/out/pcrglobwb_20210721_112939/pcrglobwb_ewatercycle.ini',\n",
       " '/mnt/home/user30/technicalPaperExampleNotebooks/out/pcrglobwb_20210721_112939')"
      ]
     },
     "execution_count": 15,
     "metadata": {},
     "output_type": "execute_result"
    }
   ],
   "source": [
    "# Start up a container for PCRGlob for the experiment run \n",
    "pcrglob_exp_model = ewatercycle.models.PCRGlobWB(version='setters', \n",
    "                                                 parameter_set=pcrglob_exp_parameter_set)\n",
    "# Start up a container for PCRGlob for the reference run \n",
    "pcrglob_exp_cfg_file, pcrglob_exp_cfg_dir = pcrglob_exp_model.setup()\n",
    "pcrglob_exp_cfg_file, pcrglob_exp_cfg_dir"
   ]
  },
  {
   "cell_type": "code",
   "execution_count": 16,
   "metadata": {},
   "outputs": [],
   "source": [
    "# Initialize using the setting file\n",
    "pcrglob_exp_model.initialize(pcrglob_exp_cfg_file)"
   ]
  },
  {
   "cell_type": "markdown",
   "metadata": {},
   "source": [
    "### Import GRDC observations\n",
    "\n",
    "Read the GRDC data for the period of the experiment, for the station given above."
   ]
  },
  {
   "cell_type": "code",
   "execution_count": 17,
   "metadata": {},
   "outputs": [
    {
     "name": "stdout",
     "output_type": "stream",
     "text": [
      "GRDC station 6335020 is selected. The river name is: RHINE RIVER.The coordinates are: (51.756918, 6.395395).The catchment area in km2 is: 159300.0. There are 0 missing values during 2002-01-01T00:00:00Z_2002-12-31T00:00:00Z at this station. See the metadata for more information.\n"
     ]
    }
   ],
   "source": [
    "observations_df, metadata = ewatercycle.observation.grdc.get_grdc_data(\n",
    "    station_id, \n",
    "    start_time=start_date,\n",
    "    end_time=end_date,\n",
    ")\n",
    "grdc_obs = observations_df.rename(columns = {'streamflow': 'Observations from GRDC'})\n",
    "grdc_lon = metadata['grdc_longitude_in_arc_degree']\n",
    "grdc_lat = metadata['grdc_latitude_in_arc_degree']"
   ]
  },
  {
   "cell_type": "markdown",
   "metadata": {},
   "source": [
    "## Running the experiment\n",
    "With all pieces in place, we can now start to run the actual experiment. Each timestep first the reference model (PCRGlobWB 2.0 with the Moselle) is run and it's output stored. Subsequently, MARRMoT is run, it's output is stored and it is added to the experiment model (PCRGlobWB 2.0 without the Moselle). Than, finally, the experiment model is run for one timestep, it's output stored and we go on to the next timestep."
   ]
  },
  {
   "cell_type": "code",
   "execution_count": 18,
   "metadata": {},
   "outputs": [],
   "source": [
    "# Create variables needed during the experiment run\n",
    "time_range = []\n",
    "pcrglob_ref_output = []\n",
    "pcrglob_exp_output = []\n",
    "marrmot_output = []"
   ]
  },
  {
   "cell_type": "code",
   "execution_count": null,
   "metadata": {},
   "outputs": [
    {
     "name": "stdout",
     "output_type": "stream",
     "text": [
      "Running experiment\n",
      "Current time: 2002-02-14T00:00:00Z\r"
     ]
    }
   ],
   "source": [
    "print(f'Running experiment', flush=True)\n",
    "\n",
    "#the experiment model is used as central 'time keeper'\n",
    "while pcrglob_exp_model.time < pcrglob_exp_model.end_time:\n",
    "    print(f'Current time: {pcrglob_exp_model.time_as_isostr}', end=\"\\r\")\n",
    "    time_range.append(pcrglob_exp_model.time_as_datetime.date())\n",
    "\n",
    "    #run the reference model for one timestep, store the output at grdc station\n",
    "    pcrglob_ref_model.update()\n",
    "    pcrglob_ref_discharge = pcrglob_ref_model.get_value_at_coords(\"discharge\", lat=[grdc_lat], lon=[grdc_lon])[0]\n",
    "    pcrglob_ref_output.append(pcrglob_ref_discharge)\n",
    "    \n",
    "    #run MARRMoT and store the output, note that MARRMoT output is in mm!\n",
    "    marrmot_model.update()\n",
    "    marrmot_output.append(marrmot_model.get_value(marrmot_output_variable)[0])\n",
    "    \n",
    "    #add the output of MARRMoT to PCRGlob Experiment model. Note that channel storage\n",
    "    # is in m3, while MARRMoT output is in mm, so we need to convert\n",
    "    water_to_add_to_pcrglob = marrmot_output[-1] * moselle_area / 1000 #now in m3\n",
    "    current_value_in_pcrglob = pcrglob_exp_model.get_value_at_coords('channel_storage', \n",
    "                                                                     lat=[lat_moselle_mouth], \n",
    "                                                                     lon=[lon_moselle_mouth])\n",
    "    value_to_set_in_pcrglob = water_to_add_to_pcrglob + current_value_in_pcrglob\n",
    "    pcrglob_exp_model.set_value_at_coords('channel_storage', \n",
    "                                          lat=[lat_moselle_mouth], \n",
    "                                          lon=[lon_moselle_mouth], \n",
    "                                          values=value_to_set_in_pcrglob)\n",
    "    \n",
    "    #Run the experiment PCRGlobWB model one timestep, store the output at grdc station\n",
    "    pcrglob_exp_model.update()\n",
    "    pcrglob_exp_discharge = pcrglob_exp_model.get_value_at_coords(\"discharge\", lat=[grdc_lat], lon=[grdc_lon])[0]\n",
    "    pcrglob_exp_output.append(pcrglob_exp_discharge)\n",
    "    \n",
    "print('')"
   ]
  },
  {
   "cell_type": "markdown",
   "metadata": {},
   "source": [
    "### clean up after the model run\n",
    "The models have to be 'finalized', which deletes any temporary files and the containers have to be shut down."
   ]
  },
  {
   "cell_type": "code",
   "execution_count": null,
   "metadata": {},
   "outputs": [],
   "source": [
    "pcrglob_ref_model.finalize()"
   ]
  },
  {
   "cell_type": "code",
   "execution_count": null,
   "metadata": {},
   "outputs": [],
   "source": [
    "pcrglob_exp_model.finalize()"
   ]
  },
  {
   "cell_type": "code",
   "execution_count": null,
   "metadata": {},
   "outputs": [],
   "source": [
    "marrmot_model.finalize()"
   ]
  },
  {
   "cell_type": "markdown",
   "metadata": {},
   "source": [
    "Combine values of each time step into single dataset"
   ]
  },
  {
   "cell_type": "code",
   "execution_count": null,
   "metadata": {},
   "outputs": [],
   "source": [
    "data_exp_at_grdc_location = pd.DataFrame(\n",
    "    {'PCRGlobWB Moselle replaced by MARRMoT-m01': pcrglob_exp_output}, index=pd.to_datetime(time_range)\n",
    ")\n",
    "data_ref_at_grdc_location = pd.DataFrame(\n",
    "    {'PCRGlobWB normal': pcrglob_ref_output}, index=pd.to_datetime(time_range)\n",
    ")"
   ]
  },
  {
   "cell_type": "code",
   "execution_count": null,
   "metadata": {},
   "outputs": [],
   "source": [
    "# Store results on disk\n",
    "# data_exp_at_grdc_location.to_hdf(pcrglob_exp_cfg_dir / 'data_exp.h5')\n",
    "# data_ref_at_grdc_location.to_hdf(pcrglob_Ref_cfg_dir / 'data_ref.h5')"
   ]
  },
  {
   "cell_type": "code",
   "execution_count": null,
   "metadata": {},
   "outputs": [],
   "source": [
    "# Retrieve results from disk when models are run in seperate session\n",
    "# data_exp_at_grdc_location = pd.read_hdf(Path('/mnt/home/user36/temp/Case1/pcrglobwb_20210426_100036') / 'data_exp.h5')\n",
    "# data_ref_at_grdc_location = pd.read_hdf(Path('/mnt/home/user36/temp/Case1/pcrglobwb_20210426_095636') / 'data_ref.h5')"
   ]
  },
  {
   "cell_type": "markdown",
   "metadata": {},
   "source": [
    "## Plot the results"
   ]
  },
  {
   "cell_type": "markdown",
   "metadata": {},
   "source": [
    "Map of exp at the final time step"
   ]
  },
  {
   "cell_type": "code",
   "execution_count": null,
   "metadata": {},
   "outputs": [],
   "source": [
    "# Use matplotlib to make the figure slightly nicer\n",
    "fig = plt.figure(dpi=120)\n",
    "ax = fig.add_subplot(111, projection=crs.PlateCarree())\n",
    "\n",
    "# Add the mosell catchment to the map\n",
    "ax.add_feature(cfeature.ShapelyFeature(\n",
    "    shape.geometries(), \n",
    "    crs.PlateCarree(), \n",
    "    edgecolor=\"green\",\n",
    "    facecolor='none',\n",
    "))\n",
    "\n",
    "# Plotting the model field is a one-liner\n",
    "data_exp.discharge.isel(time=-1).plot(ax=ax, cmap='GnBu', robust=True)\n",
    "\n",
    "# Also plot the station location\n",
    "ax.scatter(grdc_lon, grdc_lat, s=25, c='b')\n",
    "# TODO plot the grid cell of model for which hydrograph is made\n",
    "# ax.scatter(model_longitude, model_latitude, s=25, c='r')\n",
    "\n",
    "# Overlay ocean and coastines\n",
    "ax.add_feature(cfeature.OCEAN, zorder=2)\n",
    "ax.coastlines(zorder=3)\n",
    "fig.savefig(f'pcrglobwb_RolfTestRhine_discharge_map', bbox_inches='tight', dpi=300)"
   ]
  },
  {
   "cell_type": "code",
   "execution_count": null,
   "metadata": {},
   "outputs": [],
   "source": [
    "# Combine timeseries of ERA-Interim, ERA5 and GRDC observations in a pandas dataframe\n",
    "df = data_exp_at_grdc_location.join(data_ref_at_grdc_location).join(grdc_obs)\n",
    "df"
   ]
  },
  {
   "cell_type": "code",
   "execution_count": null,
   "metadata": {},
   "outputs": [],
   "source": [
    "hydrograph(\n",
    "    discharge=df,\n",
    "    reference='Observations from GRDC',\n",
    "    filename=f'pcrglobwb_{basin_name}_hydrograph'\n",
    ")"
   ]
  },
  {
   "cell_type": "code",
   "execution_count": null,
   "metadata": {},
   "outputs": [],
   "source": []
  }
 ],
 "metadata": {
  "kernelspec": {
   "display_name": "Python (ewc30)",
   "language": "python",
   "name": "ewc30"
  },
  "language_info": {
   "codemirror_mode": {
    "name": "ipython",
    "version": 3
   },
   "file_extension": ".py",
   "mimetype": "text/x-python",
   "name": "python",
   "nbconvert_exporter": "python",
   "pygments_lexer": "ipython3",
   "version": "3.9.6"
  }
 },
 "nbformat": 4,
 "nbformat_minor": 4
}
