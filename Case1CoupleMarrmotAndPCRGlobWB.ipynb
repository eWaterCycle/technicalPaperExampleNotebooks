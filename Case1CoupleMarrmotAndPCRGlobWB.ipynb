{
 "cells": [
  {
   "cell_type": "markdown",
   "metadata": {},
   "source": [
    "![image](https://www.ewatercycle.org/img/logo.png)"
   ]
  },
  {
   "cell_type": "markdown",
   "metadata": {},
   "source": [
    "# Case study 1: replace subbasin in PCRGlobWB2.0 with a MARRMoT model\n",
    "This notebooks demonstrates how to use eWaterCycle to combine the output of two very different models in a single experiment. We run PCRGlobWB2.0 for the Rhine basin, but we replace the Moselle sub-basin with a MARRMoT model.\n",
    "\n",
    "PCRGlobWB2.0 (Edwin 20XX) is a distributed model written in python and MARRMoT (Knoben 20XX) is a suite of conceptual models written in Matlab. To make the difference as large as possible, we choose the simplest model available within MARRMoT: the m01, a single leaky bucket."
   ]
  },
  {
   "cell_type": "markdown",
   "metadata": {},
   "source": [
    "## Import statements\n",
    "We'll be using the following modules"
   ]
  },
  {
   "cell_type": "code",
   "execution_count": 1,
   "metadata": {},
   "outputs": [],
   "source": [
    "# TODO: clean up code to consistently use the same convention! This is now a mess of \n",
    "# double imports because this notebook is constructed from two example notebooks \n",
    "# written by different team members at different times in the project.\n",
    "\n",
    "#OS related \n",
    "from os import environ, remove\n",
    "from os.path import abspath\n",
    "import os\n",
    "from pathlib import Path\n",
    "from glob import glob\n",
    "from configparser import ConfigParser\n",
    "\n",
    "#Time and time object related\n",
    "import time\n",
    "from datetime import datetime\n",
    "from cftime import num2date\n",
    "\n",
    "#calculations and plotting\n",
    "import matplotlib.pyplot as plt\n",
    "import numpy as np\n",
    "import pandas as pd\n",
    "import scipy.io as sio\n",
    "import xarray as xr\n",
    "from scipy import optimize\n",
    "from tqdm import tqdm\n",
    "\n",
    "#cartography (drawing maps)\n",
    "from cartopy.io import shapereader\n",
    "from cartopy import crs\n",
    "\n",
    "#hydrological specific non eWaterCycle\n",
    "import hydrostats.metrics as hm\n",
    "import hydrostats.visual as hv\n",
    "\n",
    "#eWaterCycle specific\n",
    "from ewatercycle.observation.grdc import get_grdc_data\n",
    "from grpc4bmi.bmi_client_docker import BmiClientDocker"
   ]
  },
  {
   "cell_type": "code",
   "execution_count": 2,
   "metadata": {},
   "outputs": [],
   "source": [
    "import pickle"
   ]
  },
  {
   "cell_type": "markdown",
   "metadata": {},
   "source": [
    "## functions needed\n",
    "\n",
    "The following functions are needed for this experiment.\n",
    "\n",
    "TO DO: all of these need to become part of libraries, or at least be moved to a supporting .py file that is imported above"
   ]
  },
  {
   "cell_type": "code",
   "execution_count": 3,
   "metadata": {},
   "outputs": [],
   "source": [
    "# This was addepted from the notebook that demonstrates how to run MARRMoT\n",
    "# From that version, the following changes were made:\n",
    "\n",
    "# - changed to accept a filename instead of constructing it\n",
    "# - changed to get passed variables instead of using globals\n",
    "\n",
    "def write_marrmot_config(parameters, period, forcing_file_loc, \n",
    "            config_file_loc , model_name=\"m_01_collie1_1p_1s\", \n",
    "            solver={\n",
    "                \"name\": \"createOdeApprox_IE\",  # IE:Implicit Euler.\n",
    "                \"resnorm_tolerance\": float(0.1),\n",
    "                \"resnorm_maxiter\": float(6),\n",
    "            }, store_ini=float(1500) ):\n",
    "    \"\"\"Write model configuration file.\n",
    "\n",
    "    Adds the model parameters to forcing file for the given period\n",
    "    and catchment including the spinup year and writes this information\n",
    "    to a model configuration file.\n",
    "    \"\"\"\n",
    "    # get the forcing that was created with ESMValTool\n",
    "    #forcing_file = f\"marrmot-m01_{forcing}_{catchment}_{PERIOD['spinup'].year}_{PERIOD['end'].year}.mat\"\n",
    "    forcing_data = sio.loadmat(forcing_file_loc, mat_dtype=True)\n",
    "\n",
    "    # select forcing data\n",
    "    forcing_data[\"time_end\"][0][0:3] = [\n",
    "        period[\"end\"].year,\n",
    "        period[\"end\"].month,\n",
    "        period[\"end\"].day,\n",
    "    ]\n",
    "\n",
    "    # combine forcing and model parameters\n",
    "    forcing_data.update(\n",
    "        model_name=model_name,\n",
    "        parameters=parameters,\n",
    "        solver=solver,\n",
    "        store_ini=store_ini,\n",
    "    )\n",
    "    \n",
    "    sio.savemat(config_file_loc, forcing_data)"
   ]
  },
  {
   "cell_type": "code",
   "execution_count": 4,
   "metadata": {},
   "outputs": [],
   "source": [
    "# This function takes an BMI model object, extracts variable and stores it \n",
    "# as an xarray object. For this to work, the variable does need to have a propper\n",
    "# setup grid. See the BMI documentation on grids.\n",
    "\n",
    "def var_to_xarray(model, variable):\n",
    "    # Get grid properties from model (x = latitude !!)\n",
    "    # could be speedup, lots of bmi calls are done here that dont change between updates\n",
    "    shape = model.get_grid_shape(model.get_var_grid(variable))\n",
    "    lat = model.get_grid_x(model.get_var_grid(variable))\n",
    "    lon = model.get_grid_y(model.get_var_grid(variable))\n",
    "    time = num2date(model.get_current_time(), model.get_time_units())\n",
    "\n",
    "    # Get model data for variable at current timestep\n",
    "    data = model.get_value(variable)\n",
    "    data = np.reshape(data, shape)\n",
    "\n",
    "    # Create xarray object\n",
    "    da = xr.DataArray(data, \n",
    "                      coords = {'longitude': lon, 'latitude': lat, 'time': time}, \n",
    "                      dims = ['latitude', 'longitude'],\n",
    "                      name = variable,\n",
    "                      attrs = {'units': model.get_var_units(variable)}\n",
    "                     )\n",
    "\n",
    "    # Masked invalid values on return array:\n",
    "    return da.where(da != -999)"
   ]
  },
  {
   "cell_type": "code",
   "execution_count": 5,
   "metadata": {},
   "outputs": [],
   "source": [
    "# The following two functions translate lat,lon coordinates into BMI model \n",
    "# indices, which are used to get and set variable values.\n",
    "\n",
    "def lat_lon_to_closest_variable_indices(model, variable, lats, lons):\n",
    "    \n",
    "    #get shape of model grid and lat-lon coordinates of grid\n",
    "    shape = model.get_grid_shape(model.get_var_grid(variable))\n",
    "    latModel = model.get_grid_x(model.get_var_grid(variable))\n",
    "    lonModel = model.get_grid_y(model.get_var_grid(variable))\n",
    "    nx = len(latModel)\n",
    "    \n",
    "    #for each coordinate given, determine where in the grid they fall and \n",
    "    #calculate 1D indeces\n",
    "    if len(lats) == 1:\n",
    "        idx = np.abs(latModel - lats).argmin()\n",
    "        idy = np.abs(lonModel - lons).argmin()\n",
    "        output = idx+nx*idy\n",
    "    else:\n",
    "        output=[]\n",
    "        for [lat,lon] in [lats,lons]:\n",
    "            idx = np.abs(latModel - lat).argmin()\n",
    "            idy = np.abs(lonModel - lon).argmin()\n",
    "            output.append(idx+nx*idy) \n",
    "\n",
    "    return np.array(output)\n",
    "\n",
    "def lat_lon_boundingbox_to_variable_indices(model, variable, latMin, latMax, lonMin, lonMax):\n",
    "    #get shape of model grid and lat-lon coordinates of grid\n",
    "    shape = model.get_grid_shape(model.get_var_grid(variable))\n",
    "    latModel = model.get_grid_x(model.get_var_grid(variable))\n",
    "    lonModel = model.get_grid_y(model.get_var_grid(variable))\n",
    "    nx = len(latModel)\n",
    "\n",
    "    idx = [i for i,v in enumerate(latModel) if ((v > latMin) and (v < latMax))]\n",
    "    idy = [i for i,v in enumerate(lonModel) if ((v > lonMin) and (v < lonMax))]\n",
    "    \n",
    "    output = []\n",
    "    for x in idx:\n",
    "        for y in idy:\n",
    "            output.append(x + nx*y)\n",
    "    \n",
    "    return np.array(output)"
   ]
  },
  {
   "cell_type": "markdown",
   "metadata": {},
   "source": [
    "## List of files created for this experiment\n",
    "\n",
    "### for PCRGlobWB2.0\n",
    "\n",
    "- `rhine_05min_era5.ini` This file is identical to the file with the same name used in the big comparison study. The only difference is that the time period (variables startTime and endTime) have been set to 2002-01-01 and 2002-12-31 respectivly. \n",
    "- `rhine_05min_era5_without_moselle.ini` This file is identical to rhine_05in_era5.ini with the only exception that the landmask variable points to no_moselle_landmask_05min_rhine.map in the input directory\n",
    "- `no_moselle_landmask_05min_rhine.map` This file is based on rhine_05min.map. Using a shape file with the shape of the Moselle catchment (see MARRMoT below) all pixels that are part of the moselle catchment have been removed (set to zero) in this landmask.\n",
    "\n",
    "### for MARRMoT\n",
    "\n",
    "- `marrmot_ERA5_Moselle_2001_2016.mat` This file contains the forcing that MARRMoT needs to run. It was created by running the ESMVAlTool recipe (TODO Jerom to provide details)"
   ]
  },
  {
   "cell_type": "markdown",
   "metadata": {},
   "source": [
    "## Settings and parameters to run this experiment\n",
    "The settings below are seperated in settings that 'belong' to the experiment, those that belong to PCRGlobWB or those that belong with MARRMoT"
   ]
  },
  {
   "cell_type": "code",
   "execution_count": 6,
   "metadata": {},
   "outputs": [],
   "source": [
    "#Settings for this experiment\n",
    "\n",
    "# The project home directory where data lives and output should be written\n",
    "PROJECT_HOME = Path(os.path.abspath(\"/mnt/home/user42\"))\n",
    "DATA_HOME = Path(os.path.abspath(\"/mnt/data/examples/technical_paper\"))\n",
    "\n",
    "# Settings for GRDC station for final comparison of streamflow\n",
    "dstart = '2002-01-01'\n",
    "dend = '2002-12-31'\n",
    "station_id = '6335020' # GRDC station ID\n",
    "basin_name = 'Rhine'\n",
    "\n",
    "# Location of the mouth of the Moselle. The closest PCRGlobWB pixel to this location will\n",
    "# be used to 'dump' the output of MARRMoT into the 'channel_storage' of PCRGlobWB. Location\n",
    "# from Google maps.\n",
    "latMoselleMouth = [50.366852]\n",
    "lonMoselleMouth = [7.609666] "
   ]
  },
  {
   "cell_type": "code",
   "execution_count": 7,
   "metadata": {},
   "outputs": [],
   "source": [
    "#Settings for PCRGlobWB2.0\n",
    "PCRGlob_input_dir=str(DATA_HOME / 'pcr-globwb' / 'input')\n",
    "PCRGlob_Ref_output_dir=str(PROJECT_HOME / 'PCRGlobREFOutput')\n",
    "PCRGlob_Exp_output_dir=str(PROJECT_HOME / 'PCRGlobExpOutput')\n",
    "#forcing_dir = '/mnt/data/examples/technical_paper/pcr-globwb/input/'\n",
    "\n",
    "PCRGlob_Ref_setting_file = str(PROJECT_HOME / 'technicalPaperExampleNotebooks' / 'settingFiles' / 'rhine_05min_era5.ini')\n",
    "PCRGlob_Exp_setting_file = str(PROJECT_HOME / 'technicalPaperExampleNotebooks' / 'settingFiles' / 'rhine_05min_era5_without_moselle.ini')\n"
   ]
  },
  {
   "cell_type": "code",
   "execution_count": 8,
   "metadata": {},
   "outputs": [],
   "source": [
    "#Settings for MARRMoT\n",
    "\n",
    "# forcing dataset and directory\n",
    "MARRMoT_FORCING_DIR = DATA_HOME / \"marrmot\" / \"marrmotForcing\" / \"validation\"\n",
    "MARRMoT_forcing_file = \"marrmot_ERA5_Moselle_2001_2016.mat\"\n",
    "\n",
    "#these two folders will be known inside the model-container as /data/input and /data/output\n",
    "MARRMoT_container_in = PROJECT_HOME / 'inputMarrmot'\n",
    "MARRMoT_container_out = PROJECT_HOME / 'outputMarrmot'\n",
    "\n",
    "# this file will be created in 'containerIn' and contains the config setting for the model run. \n",
    "MARRMoT_config_file_name = 'config.mat'\n",
    "\n",
    "# shape file that was used to delineate the catchment, is needed here to calculate area\n",
    "shapefile = DATA_HOME / \"marrmot\"/ \"marrmotForcing\" / f\"Moselle.shp\"\n",
    "\n",
    "# test period for both validation and calibration (Year, Month, Date)\n",
    "period = {\n",
    "    \"spinup\": datetime(2001, 1, 1,0,0,0),\n",
    "    \"start\": datetime(2002, 1, 1,0,0,0),\n",
    "    \"end\": datetime(2002, 12, 31,0,0,0),\n",
    "}\n",
    "\n",
    "# variable of interest to get out of the model\n",
    "MARRMoT_output_variable = \"flux_out_Q\"\n",
    "\n",
    "# flux_out_Q unit conversion factor from mm/day to m3/s\n",
    "conversion_mmday2m3s = 1 / (1000 * 86400)\n",
    "\n",
    "# parameters, in this case max soil moisture storage (in mm), ranging between 100 en 2000\n",
    "# https://github.com/wknoben/MARRMoT/blob/dev-docker-BMI/MARRMoT/Models/Parameter%20range%20files\n",
    "parameters = [float(1500)]"
   ]
  },
  {
   "cell_type": "markdown",
   "metadata": {},
   "source": [
    "## Derived directories and constants\n"
   ]
  },
  {
   "cell_type": "code",
   "execution_count": 9,
   "metadata": {},
   "outputs": [
    {
     "name": "stdout",
     "output_type": "stream",
     "text": [
      "The catchment area is: 28101200000.0\n"
     ]
    }
   ],
   "source": [
    "# project directories for model input i.e. shape files and forcing\n",
    "shape = shapereader.Reader(shapefile)\n",
    "attr = next(shape.records())\n",
    "moselle_area = attr.attributes[\"SUB_AREA\"] * 1e6\n",
    "print(\"The catchment area is:\", moselle_area)"
   ]
  },
  {
   "cell_type": "markdown",
   "metadata": {},
   "source": [
    "## Setting up the model objects\n",
    "For MARRMoT we first need to generate a config file. After that is done, the three BMI model objects are created"
   ]
  },
  {
   "cell_type": "code",
   "execution_count": null,
   "metadata": {},
   "outputs": [],
   "source": [
    "#create config file and write to containerIn directory\n",
    "write_marrmot_config(parameters, period, MARRMoT_FORCING_DIR / MARRMoT_forcing_file,\n",
    "                     MARRMoT_container_in / MARRMoT_config_file_name)"
   ]
  },
  {
   "cell_type": "code",
   "execution_count": null,
   "metadata": {},
   "outputs": [],
   "source": [
    "#start up a container for MARRMoT and initialize using the created config file\n",
    "MARRMoT_model = BmiClientDocker(\n",
    "    image=\"ewatercycle/marrmot-grpc4bmi:latest\", image_port=55555,\n",
    "    input_dir=MARRMoT_container_in, output_dir=MARRMoT_container_out\n",
    ")\n",
    "MARRMoT_model.initialize(MARRMoT_config_file_name)"
   ]
  },
  {
   "cell_type": "code",
   "execution_count": null,
   "metadata": {},
   "outputs": [],
   "source": [
    "# MARRMot needs to spin-up, so we run it for a while, see the period for timing\n",
    "\n",
    "MARRMoT_time_units = MARRMoT_model.get_time_units()\n",
    "\n",
    "while num2date(MARRMoT_model.get_current_time(),MARRMoT_time_units) < period[\"start\"]:\n",
    "    MARRMoT_model.update()"
   ]
  },
  {
   "cell_type": "code",
   "execution_count": 10,
   "metadata": {},
   "outputs": [],
   "source": [
    "# start up a container for PCRGlob for the reference run \n",
    "# and initialize using the setting file\n",
    "PCRGlob_Ref_model = BmiClientDocker(image='ewatercycle/pcrg-grpc4bmi:setters', image_port=55555,\n",
    "\n",
    "                   input_dir=PCRGlob_input_dir,\n",
    "\n",
    "                   output_dir=PCRGlob_Ref_output_dir)\n",
    "\n",
    " \n",
    "\n",
    "PCRGlob_Ref_model.initialize(PCRGlob_Ref_setting_file)"
   ]
  },
  {
   "cell_type": "code",
   "execution_count": 12,
   "metadata": {},
   "outputs": [
    {
     "data": {
      "text/plain": [
       "('groundwater_recharge',\n",
       " 'lake_and_reservoir_storage',\n",
       " 'domesticWaterConsumptionVolume',\n",
       " 'land_surface_actual_evaporation',\n",
       " 'groundwater_storage',\n",
       " 'snow_melt',\n",
       " 'totalPotentialMaximumGrossDemand',\n",
       " 'interception_evaporation',\n",
       " 'total_groundwater_abstraction',\n",
       " 'water_body_actual_evaporation',\n",
       " 'interflow',\n",
       " 'non_irrigation_gross_demand_volume',\n",
       " 'livestock_water_withdrawal',\n",
       " 'land_surface_potential_evaporation',\n",
       " 'total_groundwater_storage',\n",
       " 'bare_soil_evaporation',\n",
       " 'top_water_layer_evaporation',\n",
       " 'transpiration_from_irrigation',\n",
       " 'total_thickness_of_active_water_storage',\n",
       " 'domestic_water_withdrawal',\n",
       " 'netLqWaterToSoil_at_irrigation_volume',\n",
       " 'interception_storage',\n",
       " 'non_irrigation_gross_demand',\n",
       " 'livestockWaterConsumptionVolume',\n",
       " 'surface_water_storage',\n",
       " 'irrigation_gross_demand_volume',\n",
       " 'upper_soil_storage',\n",
       " 'desalination_source_abstraction_volume',\n",
       " 'snow_free_water_evaporation',\n",
       " 'surface_water_abstraction',\n",
       " 'industryWaterConsumptionVolume',\n",
       " 'fossil_groundwater_storage',\n",
       " 'evaporation_from_irrigation_volume',\n",
       " 'total_evaporation_fraction',\n",
       " 'evaporation_from_irrigation',\n",
       " 'direct_runoff',\n",
       " 'accumulated_land_surface_baseflow',\n",
       " 'snow_free_water',\n",
       " 'total_thickness_of_water_storage',\n",
       " 'precipitation',\n",
       " 'industryWaterWithdrawalVolume',\n",
       " 'net_liquid_water_to_soil',\n",
       " 'baseflow',\n",
       " 'return_flow_from_groundwater_abstraction',\n",
       " 'return_flow_from_non_irrigation_demand_withdrawal',\n",
       " 'domesticWaterWithdrawalVolume',\n",
       " 'top_water_layer',\n",
       " 'transpiration_from_irrigation_volume',\n",
       " 'total_gross_demand_volume',\n",
       " 'fraction_of_surface_water_allocation',\n",
       " 'total_groundwater_abstraction_volume',\n",
       " 'total_transpiration',\n",
       " 'precipitation_at_irrigation_volume',\n",
       " 'lower_soil_storage',\n",
       " 'water_body_potential_evaporation',\n",
       " 'netLqWaterToSoil_at_irrigation',\n",
       " 'fraction_of_other_water_source_allocation',\n",
       " 'infiltration',\n",
       " 'consumptive_water_use_for_non_irrigation_demand',\n",
       " 'irrigation_withdrawal',\n",
       " 'lower_soil_saturation_degree',\n",
       " 'fraction_of_desalinated_water_allocation',\n",
       " 'water_body_evaporation_fraction',\n",
       " 'non_paddy_irrigation_withdrawal',\n",
       " 'total_gross_demand',\n",
       " 'groundwater_capillary_rise',\n",
       " 'non_fossil_groundwater_abstraction',\n",
       " 'land_surface_evaporation_fraction',\n",
       " 'fraction_of_non_fossil_groundwater_allocation',\n",
       " 'paddy_irrigation_withdrawal',\n",
       " 'total_evaporation',\n",
       " 'local_water_body_flux',\n",
       " 'land_surface_evaporation',\n",
       " 'channel_storage',\n",
       " 'surface_water_level',\n",
       " 'lower_soil_transpiration',\n",
       " 'total_volume_of_water_storage',\n",
       " 'precipitation_at_irrigation',\n",
       " 'reference_potential_evaporation',\n",
       " 'upper_soil_saturation_degree',\n",
       " 'fossil_groundwater_abstraction',\n",
       " 'land_surface_runoff',\n",
       " 'total_abstraction',\n",
       " 'livestockWaterWithdrawalVolume',\n",
       " 'desalination_source_abstraction',\n",
       " 'discharge',\n",
       " 'temperature',\n",
       " 'upper_soil_transpiration',\n",
       " 'snow_water_equivalent',\n",
       " 'total_runoff',\n",
       " 'transpiration_from_irrigation',\n",
       " 'fraction_of_surface_water',\n",
       " 'industry_water_withdrawal',\n",
       " 'total_fraction_water_allocation',\n",
       " 'irrigation_gross_demand',\n",
       " 'irrigationWaterWithdrawalVolume',\n",
       " 'surface_water_abstraction_volume')"
      ]
     },
     "execution_count": 12,
     "metadata": {},
     "output_type": "execute_result"
    }
   ],
   "source": [
    "PCRGlob_Ref_model.get_output_var_names()"
   ]
  },
  {
   "cell_type": "code",
   "execution_count": null,
   "metadata": {},
   "outputs": [],
   "source": [
    "# start up a container for PCRGlob for the reference run \n",
    "# and initialize using the setting file\n",
    "PCRGlob_Exp_model = BmiClientDocker(image='ewatercycle/pcrg-grpc4bmi:setters', image_port=55555,\n",
    "\n",
    "                   input_dir=PCRGlob_input_dir,\n",
    "\n",
    "                   output_dir=PCRGlob_Exp_output_dir)\n",
    "\n",
    " \n",
    "\n",
    "PCRGlob_Exp_model.initialize(PCRGlob_Exp_setting_file)"
   ]
  },
  {
   "cell_type": "code",
   "execution_count": null,
   "metadata": {},
   "outputs": [],
   "source": [
    "# Now that we have a BMI model for the experiment, we can query which model pixel is closest\n",
    "# to the mouth of the Moselle, expressed in 'indices', ie. model pixel number.\n",
    "Moselle_mouth_indices = lat_lon_to_closest_variable_indices(PCRGlob_Exp_model, 'channel_storage', latMoselleMouth, lonMoselleMouth)"
   ]
  },
  {
   "cell_type": "code",
   "execution_count": null,
   "metadata": {},
   "outputs": [],
   "source": [
    "#finally, create variables needed during the experiment run\n",
    "PCRGlob_Ref_output = []\n",
    "PCRGlob_Exp_output = []\n",
    "MARRMot_output = []\n",
    "\n",
    "PCRGlob_time_units = PCRGlob_Exp_model.get_time_units()"
   ]
  },
  {
   "cell_type": "markdown",
   "metadata": {},
   "source": [
    "## Running the experiment\n",
    "With all pieces in place, we can now start to run the actual experiment. Each timestep first the reference model (PCRGlobWB 2.0 with the Moselle) is run and it's output stored. Subsequently, MARRMoT is run, it's output is stored and it is added to the experiment model (PCRGlobWB 2.0 without the Moselle). Than, finally, the experiment model is run for one timestep, it's output stored and we go on to the next timestep."
   ]
  },
  {
   "cell_type": "code",
   "execution_count": null,
   "metadata": {},
   "outputs": [],
   "source": [
    "print(f'Running experiment', flush=True)\n",
    "\n",
    "#the experiment model is used as central 'time keeper'\n",
    "while PCRGlob_Exp_model.get_current_time() < PCRGlob_Exp_model.get_end_time():\n",
    "    \n",
    "    #get the current time to print\n",
    "    time = num2date(PCRGlob_Exp_model.get_current_time(), PCRGlob_time_units)\n",
    "    print(f'Current time: {time}', end=\"\\r\")\n",
    "\n",
    "    #run the reference model for one timestep, store the output\n",
    "    PCRGlob_Ref_model.update()\n",
    "    PCRGlob_Ref_output.append(var_to_xarray(PCRGlob_Ref_model, variable=\"discharge\"))\n",
    "    \n",
    "    #run MARRMoT and store the output, note that MARRMoT output is in mm!\n",
    "    MARRMoT_model.update()\n",
    "    MARRMot_output.append(MARRMoT_model.get_value(MARRMoT_output_variable)[0])\n",
    "    \n",
    "    #add the output of MARRMoT to PCRGlob Experiment model. Note that channel storage\n",
    "    # is in m3, while MARRMoT output is in mm, so we need to convert\n",
    "    water_to_add_to_PCRGlob = MARRMot_output[-1] * moselle_area / 1000 #now in m3\n",
    "    value_to_set_in_PCRGlob = water_to_add_to_PCRGlob + PCRGlob_Exp_model.get_value_at_indices('channel_storage',Moselle_mouth_indices)\n",
    "    PCRGlob_Exp_model.set_value_at_indices('channel_storage',Moselle_mouth_indices, value_to_set_in_PCRGlob)\n",
    "    \n",
    "    #Run the experiment PCRGlobWB model one timestep, store the output\n",
    "    PCRGlob_Exp_model.update()\n",
    "    PCRGlob_Exp_output.append(var_to_xarray(PCRGlob_Exp_model, variable=\"discharge\"))\n",
    "    \n",
    "\n",
    "print('')"
   ]
  },
  {
   "cell_type": "markdown",
   "metadata": {},
   "source": [
    "### clean up after the model run\n",
    "The models have to be 'finalized', which deletes any temporary files and the containers have to be shut down."
   ]
  },
  {
   "cell_type": "code",
   "execution_count": null,
   "metadata": {},
   "outputs": [],
   "source": [
    "PCRGlob_Ref_model.finalize()\n",
    "PCRGlob_Exp_model.finalize()\n",
    "MARRMoT_model.finalize()\n",
    "\n",
    "del PCRGlob_Exp_model\n",
    "del PCRGlob_Ref_model\n",
    "del MARRMoT_model"
   ]
  },
  {
   "cell_type": "code",
   "execution_count": null,
   "metadata": {},
   "outputs": [],
   "source": [
    "f = open('.\\..\\modelrunFull.pckl', 'wb')\n",
    "pickle.dump([PCRGlob_Ref_output, PCRGlob_Exp_output, MARRMot_output],f)\n",
    "f.close()\n",
    "del f"
   ]
  },
  {
   "cell_type": "markdown",
   "metadata": {},
   "source": [
    "## Import GRDC observations\n",
    "\n",
    "Read the GRDC data for the period of the experiment, for the station given above. \n",
    "If you are not on jupyter.ewatercycle.org or cartesius, download the GRDC https://www.bafg.de/GRDC/EN/02_srvcs/21_tmsrs/riverdischarge_node.html and set the directory below in GRDC_DATA_HOME env var.\n",
    "\n",
    "### TODO the four lines at the end of the cell should become part of the get_grdc_data function, which (I think) should return a dict."
   ]
  },
  {
   "cell_type": "code",
   "execution_count": null,
   "metadata": {},
   "outputs": [],
   "source": [
    "#on Cartesius:\n",
    "#environ['GRDC_DATA_HOME']= '/projects/0/wtrcycle/GRDC/GRDC_GCOSGTN-H_27_03_2019'\n",
    "\n",
    "#on jupyter.ewatercycle.org\n",
    "environ['GRDC_DATA_HOME']= '/mnt/data/grdc/dailies' \n",
    "\n",
    "observations = get_grdc_data(station_id, start_date=dstart, end_date=dend)\n",
    "grdc_obs = observations.to_dataframe().rename(columns = {'streamflow': 'GRDC'})\n",
    "grdc_lon = observations.attrs['grdc_longitude_in_arc_degree']\n",
    "grdc_lat = observations.attrs['grdc_latitude_in_arc_degree']"
   ]
  },
  {
   "cell_type": "markdown",
   "metadata": {},
   "source": [
    "## Plot the results"
   ]
  },
  {
   "cell_type": "code",
   "execution_count": null,
   "metadata": {},
   "outputs": [],
   "source": [
    "#f = open('.\\..\\modelrunFull.pckl', 'rb')\n",
    "#data = pickle.load(f)\n",
    "#f.close()\n",
    "#del f"
   ]
  },
  {
   "cell_type": "code",
   "execution_count": null,
   "metadata": {},
   "outputs": [],
   "source": [
    "dataExp  = xr.concat(PCRGlob_Exp_output, dim='time')\n",
    "dataRef  = xr.concat(PCRGlob_Ref_output, dim='time')"
   ]
  },
  {
   "cell_type": "code",
   "execution_count": null,
   "metadata": {},
   "outputs": [],
   "source": [
    "fig, axs = plt.subplots(1, 1, figsize=(10, 10), dpi=120)\n",
    "\n",
    "dataExp.isel(time=-1).plot(ax=axs, cmap='YlGnBu', robust=True)\n",
    "axs.set_title('test')\n",
    "plt.tight_layout()\n",
    "fig.savefig(f'pcrglobwb_RolfTestRhine_discharge_map', bbox_inches='tight', dpi=300)"
   ]
  },
  {
   "cell_type": "code",
   "execution_count": null,
   "metadata": {},
   "outputs": [],
   "source": [
    "pad=.2\n",
    "\n",
    "# Write data for model output at GRDC location to pandas series,\n",
    "# Use padding and max to correct for GRDC station location error\n",
    "dataExpAtGRDCLocation = dataExp.sel(longitude=slice(grdc_lon-pad, grdc_lon+pad), \n",
    "                         latitude=slice(grdc_lat-pad, grdc_lat+pad)\n",
    "                        ).max(['longitude', 'latitude']\n",
    "                        ).rename('ERA5Exp'\n",
    "                        ).to_dataframe()\n",
    "\n",
    "dataExpAtGRDCLocation.index=dataExpAtGRDCLocation.index.to_datetimeindex()\n",
    "\n",
    "dataRefAtGRDCLocation = dataRef.sel(longitude=slice(grdc_lon-pad, grdc_lon+pad), \n",
    "                         latitude=slice(grdc_lat-pad, grdc_lat+pad)\n",
    "                        ).max(['longitude', 'latitude']\n",
    "                        ).rename('ERA5Ref'\n",
    "                        ).to_dataframe()\n",
    "\n",
    "dataRefAtGRDCLocation.index=dataRefAtGRDCLocation.index.to_datetimeindex()\n",
    "\n"
   ]
  },
  {
   "cell_type": "code",
   "execution_count": null,
   "metadata": {},
   "outputs": [],
   "source": [
    "# Combine timeseries of ERA-Interim, ERA5 and GRDC observations in a pandas dataframe\n",
    "df = pd.concat([dataExpAtGRDCLocation, dataRefAtGRDCLocation, grdc_obs],axis = 1)\n",
    "\n",
    "# Note: the data come at different time stamps\n",
    "print(df.head())\n",
    "\n",
    "# For now, interpolating to get similar sets:\n",
    "df = df.fillna(method='ffill').dropna()\n",
    "print(df.head())"
   ]
  },
  {
   "cell_type": "code",
   "execution_count": null,
   "metadata": {},
   "outputs": [],
   "source": [
    "fig, ax = plt.subplots(dpi=120)\n",
    "df.plot(ax=ax)\n",
    "ax.set_ylim(1000, 10000)\n",
    "ax.set_ylabel('Streamflow (m$^3$ s$^{-1}$)')\n",
    "ax.legend(['PCRGlobWB Moselle replaced by MARRMoT-m01','PCRGlobWB normal','Observations from GRDC'])\n",
    "\n",
    "dataset='ERA5Ref'\n",
    "yloc=0.6\n",
    "ax.text(1.02, yloc, f\"{dataset}:\\n\"\n",
    "        f\"NSE: {hm.nse(df[dataset], df['GRDC']):.2f} \\n\"\n",
    "        f\"KGE (2009): {hm.kge_2009(df[dataset], df['GRDC']):.2f}\\n\"\n",
    "        f\"SA: {hm.sa(df[dataset], df['GRDC']):.2f}\\n\"\n",
    "        f\"ME: {hm.me(df[dataset], df['GRDC']):.2f}\",\n",
    "        transform=ax.transAxes, va='top')\n",
    "\n",
    "fig.savefig(f'pcrglobwb_{basin_name}_hydrograph', bbox_inches='tight', dpi=300)\n"
   ]
  }
 ],
 "metadata": {
  "kernelspec": {
   "display_name": "Python 3",
   "language": "python",
   "name": "python3"
  },
  "language_info": {
   "codemirror_mode": {
    "name": "ipython",
    "version": 3
   },
   "file_extension": ".py",
   "mimetype": "text/x-python",
   "name": "python",
   "nbconvert_exporter": "python",
   "pygments_lexer": "ipython3",
   "version": "3.7.7"
  }
 },
 "nbformat": 4,
 "nbformat_minor": 4
}
