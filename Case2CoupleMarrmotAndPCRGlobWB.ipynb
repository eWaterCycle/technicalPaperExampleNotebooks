{
 "cells": [
  {
   "cell_type": "markdown",
   "metadata": {},
   "source": [
    "![image](https://www.ewatercycle.org/assets/logo.png)"
   ]
  },
  {
   "cell_type": "markdown",
   "metadata": {},
   "source": [
    "# Case study 2: replace subbasin in PCRGlobWB2.0 with a MARRMoT model\n",
    "This notebooks demonstrates how to use eWaterCycle to combine the output of two very different models in a single experiment. We run PCRGlobWB2.0 for the Rhine basin, but we replace the Moselle sub-basin with a MARRMoT model.\n",
    "\n",
    "PCRGlobWB2.0 (Edwin 20XX) is a distributed model written in python and MARRMoT (Knoben 20XX) is a suite of conceptual models written in Matlab. To make the difference as large as possible, we choose the simplest model available within MARRMoT: the m01, a single leaky bucket.\n",
    "\n",
    "This example use case assumes that the ewatercycle platform has been installed and configured on your system. See our [system setup documentation](https://ewatercycle.readthedocs.io/en/latest/system_setup.html) for instructions if this is not the case."
   ]
  },
  {
   "cell_type": "markdown",
   "metadata": {},
   "source": [
    "## Import statements\n",
    "We'll be using the following modules"
   ]
  },
  {
   "cell_type": "code",
   "execution_count": 1,
   "metadata": {},
   "outputs": [],
   "source": [
    "import warnings\n",
    "\n",
    "warnings.filterwarnings(\"ignore\", category=UserWarning)\n",
    "\n",
    "import logging\n",
    "\n",
    "logging.getLogger(\"esmvalcore\").setLevel(logging.WARNING)\n",
    "\n",
    "import ewatercycle.analysis\n",
    "import ewatercycle.forcing\n",
    "import ewatercycle.models\n",
    "import ewatercycle.observation.grdc\n",
    "import ewatercycle.parameter_sets\n",
    "import matplotlib.pyplot as plt\n",
    "import pandas as pd\n",
    "import xarray as xr\n",
    "\n",
    "import configparser\n",
    "from shutil import copyfile\n",
    "\n",
    "from cartopy import crs\n",
    "from cartopy import feature as cfeature\n",
    "from cartopy.io import shapereader"
   ]
  },
  {
   "cell_type": "markdown",
   "metadata": {},
   "source": [
    "## List of files created for this experiment\n",
    "\n",
    "### for PCRGlobWB2.0\n",
    "\n",
    "- `rhine_05min_era5.ini` This file is identical to the file with the same name used in the big comparison study. The only difference is that the time period (variables startTime and endTime) have been set to 2002-01-01 and 2002-12-31 respectivly.    ***PK: you can probably just use the default now, possible modify start and end date in model.setup() ***\n",
    "- `rhine_05min_era5_without_moselle.ini` This file is identical to rhine_05in_era5.ini with the only exception that the landmask variable points to no_moselle_landmask_05min_rhine.map in the input directory\n",
    "- `no_moselle_landmask_05min_rhine.map` This file is based on rhine_05min.map. Using a shape file with the shape of the Moselle catchment (see MARRMoT below) all pixels that are part of the moselle catchment have been removed (set to zero) in this landmask.   ***PK: this file is now available on the jupyter machine in the default PCRGlob parameter set dir, but this is not very FAIR...***\n",
    "\n",
    "### for MARRMoT\n",
    "\n",
    "- `marrmot_ERA5_Moselle_2001_2016.mat` This file contains the forcing that MARRMoT needs to run. It was created by running the ESMVAlTool recipe (TODO Jerom to provide details)   ***PK: now available are pre-generated forcing, see updated forcing load cell"
   ]
  },
  {
   "cell_type": "markdown",
   "metadata": {},
   "source": [
    "## Settings and parameters to run this experiment\n",
    "The settings below are seperated in settings that 'belong' to the experiment, those that belong to PCRGlobWB or those that belong with MARRMoT"
   ]
  },
  {
   "cell_type": "code",
   "execution_count": 24,
   "metadata": {},
   "outputs": [],
   "source": [
    "# Settings for GRDC station for final comparison of streamflow\n",
    "station_id = \"6335020\"  # GRDC station ID\n",
    "basin_name = \"Rhine\"\n",
    "\n",
    "# Location of the mouth of the Moselle.\n",
    "lat_moselle_mouth = [50.366852]\n",
    "lon_moselle_mouth = [7.609666]\n",
    "\n",
    "experimentLandMaskLocation = \"./settingFiles\"\n",
    "experimentLandMaskName = \"no_moselle_landmask_05min_rhine.map\"\n",
    "####################### PK: I think you can also use the defaults instead; also see comments below\n",
    "# Custom setting files for PCRGlobWB2.0  \n",
    "#pcrglob_ref_setting_file = \"/settingFiles/rhine_05min_era5.ini\"\n",
    "#pcrglob_exp_setting_file = \"/settingFiles/rhine_05min_era5_without_moselle.ini\"\n",
    "\n",
    "####################### PK: for better reproducibility, I think you should add the custom landmask map here, and ship it with the repo. \n",
    "# It is now located in: /mnt/data/parameter-sets/pcrglobwb_global/global_05min/cloneMaps/no_moselle_landmask_05min_rhine.map"
   ]
  },
  {
   "cell_type": "markdown",
   "metadata": {},
   "source": [
    "The closest PCRGlobWB pixel to this location will be used to 'dump' the output of MARRMoT into the 'channel_storage' of PCRGlobWB. Location from Google maps."
   ]
  },
  {
   "cell_type": "code",
   "execution_count": 5,
   "metadata": {},
   "outputs": [],
   "source": [
    "spinup_start_date = \"2001-01-01T00:00:00Z\"\n",
    "spinup_end_date = \"2001-12-31T00:00:00Z\"\n",
    "experiment_start_date = \"2002-01-01T00:00:00Z\"\n",
    "experiment_end_date = \"2002-12-31T00:00:00Z\"\n",
    "\n",
    "# variable of interest to get out of the model\n",
    "marrmot_output_variable = \"flux_out_Q\"\n",
    "\n",
    "# flux_out_Q unit conversion factor from mm/day to m3/s\n",
    "conversion_mmday2m3s = 1 / (1000 * 86400)\n",
    "\n",
    "# parameters, in this case max soil moisture storage (in mm), ranging between 100 en 2000\n",
    "# https://github.com/wknoben/MARRMoT/blob/dev-docker-BMI/MARRMoT/Models/Parameter%20range%20files\n",
    "maximum_soil_moisture_storage = 1500.0\n",
    "initial_soil_moisture_storage = 0.9 * maximum_soil_moisture_storage"
   ]
  },
  {
   "cell_type": "markdown",
   "metadata": {},
   "source": [
    "## Setting up the model objects\n",
    "For MARRMoT we first need to generate a config file. After that is done, the three BMI model objects are created"
   ]
  },
  {
   "cell_type": "code",
   "execution_count": null,
   "metadata": {},
   "outputs": [],
   "source": [
    "# Pre-generated forcing is available for this experiment:\n",
    "marrmot_forcing = ewatercycle.forcing.load(\"/mnt/data/forcing/marrmot-m01_ERA5_2001-2016_moselle\")\n",
    "print(marrmot_forcing)"
   ]
  },
  {
   "cell_type": "code",
   "execution_count": null,
   "metadata": {},
   "outputs": [],
   "source": [
    "# A shapefile is included with the forcing. Use it to find the Moselle area\n",
    "shape = shapereader.Reader(marrmot_forcing.shape)\n",
    "record = next(shape.records())\n",
    "moselle_area = record.attributes[\"SUB_AREA\"] * 1e6\n",
    "print(\"The catchment area is:\", moselle_area)"
   ]
  },
  {
   "cell_type": "code",
   "execution_count": null,
   "metadata": {},
   "outputs": [],
   "source": [
    "marrmot_model = ewatercycle.models.MarrmotM01(\n",
    "    version=\"2020.11\", forcing=marrmot_forcing\n",
    ")\n",
    "\n",
    "# Create config file and write to work directory (cfg_dir)\n",
    "# Start up a container for MARRMoT\n",
    "marrmot_cfg_file, marrmot_cfg_dir = marrmot_model.setup(\n",
    "    # No need to specifiy start and end date, using dates from forcing_output\n",
    "    maximum_soil_moisture_storage=maximum_soil_moisture_storage,\n",
    "    initial_soil_moisture_storage=initial_soil_moisture_storage,\n",
    ")\n",
    "marrmot_cfg_file, marrmot_cfg_dir"
   ]
  },
  {
   "cell_type": "code",
   "execution_count": null,
   "metadata": {},
   "outputs": [],
   "source": [
    "# Initialize using the created config file\n",
    "marrmot_model.initialize(marrmot_cfg_file)"
   ]
  },
  {
   "cell_type": "code",
   "execution_count": null,
   "metadata": {},
   "outputs": [],
   "source": [
    "# MARRMot needs to spin-up, so we run it for a while, see the period for timing\n",
    "while marrmot_model.time_as_isostr < spinup_end_date:\n",
    "    marrmot_model.update()"
   ]
  },
  {
   "cell_type": "code",
   "execution_count": 4,
   "metadata": {},
   "outputs": [],
   "source": [
    "pcrglob_parameter_set = ewatercycle.parameter_sets.get_parameter_set('pcrglobwb_rhine_05min')"
   ]
  },
  {
   "cell_type": "code",
   "execution_count": 6,
   "metadata": {},
   "outputs": [
    {
     "name": "stdout",
     "output_type": "stream",
     "text": [
      "Running /mnt/data/singularity-images/ewatercycle-pcrg-grpc4bmi_setters.sif singularity container on port 59221\n"
     ]
    },
    {
     "data": {
      "text/plain": [
       "('/mnt/home/user42/technicalPaperExampleNotebooks/ewatercycle_output/pcrglobwb_20210827_145840/pcrglobwb_ewatercycle.ini',\n",
       " '/mnt/home/user42/technicalPaperExampleNotebooks/ewatercycle_output/pcrglobwb_20210827_145840')"
      ]
     },
     "execution_count": 6,
     "metadata": {},
     "output_type": "execute_result"
    }
   ],
   "source": [
    "# sometimes it times out: just retry\n",
    "pcrglob_ref_model = ewatercycle.models.PCRGlobWB(\n",
    "    version=\"setters\", parameter_set=pcrglob_parameter_set\n",
    ")\n",
    "# Start up a container for PCRGlob for the reference run\n",
    "pcrglob_ref_cfg_file, pcrglob_Ref_cfg_dir = pcrglob_ref_model.setup(\n",
    "    start_date = experiment_start_date, \n",
    "    end_date = experiment_end_date)\n",
    "pcrglob_ref_cfg_file, pcrglob_Ref_cfg_dir"
   ]
  },
  {
   "cell_type": "code",
   "execution_count": 7,
   "metadata": {},
   "outputs": [],
   "source": [
    "############################ PK: I think you can use the default cfg file here as well, as long as you pass start_date and end_date in model.setup() in the cell above\n",
    "\n",
    "# Override the default settings file with the one we prepared for this experiment\n",
    "pcrglob_ref_model.initialize(pcrglob_ref_cfg_file)"
   ]
  },
  {
   "cell_type": "code",
   "execution_count": 8,
   "metadata": {},
   "outputs": [
    {
     "data": {
      "text/plain": [
       "0                   accumulated_land_surface_baseflow\n",
       "1                               bare_soil_evaporation\n",
       "2                                            baseflow\n",
       "3                                     channel_storage\n",
       "4     consumptive_water_use_for_non_irrigation_demand\n",
       "                           ...                       \n",
       "92                                 upper_soil_storage\n",
       "93                           upper_soil_transpiration\n",
       "94                      water_body_actual_evaporation\n",
       "95                    water_body_evaporation_fraction\n",
       "96                   water_body_potential_evaporation\n",
       "Length: 97, dtype: object"
      ]
     },
     "execution_count": 8,
     "metadata": {},
     "output_type": "execute_result"
    }
   ],
   "source": [
    "# Print available output variable names of PCRGlob model\n",
    "pd.Series(sorted(pcrglob_ref_model.output_var_names))"
   ]
  },
  {
   "cell_type": "code",
   "execution_count": 20,
   "metadata": {},
   "outputs": [
    {
     "name": "stdout",
     "output_type": "stream",
     "text": [
      "Running /mnt/data/singularity-images/ewatercycle-pcrg-grpc4bmi_setters.sif singularity container on port 60443\n"
     ]
    },
    {
     "data": {
      "text/plain": [
       "('/mnt/home/user42/technicalPaperExampleNotebooks/ewatercycle_output/pcrglobwb_20210827_150723/pcrglobwb_ewatercycle.ini',\n",
       " '/mnt/home/user42/technicalPaperExampleNotebooks/ewatercycle_output/pcrglobwb_20210827_150723')"
      ]
     },
     "execution_count": 20,
     "metadata": {},
     "output_type": "execute_result"
    }
   ],
   "source": [
    "# Start up a container for PCRGlob for the experiment run, using the same parameter set object\n",
    "pcrglob_exp_model = ewatercycle.models.PCRGlobWB(\n",
    "    version=\"setters\", parameter_set=pcrglob_parameter_set\n",
    ")\n",
    "# Start up a container for PCRGlob for the reference run\n",
    "pcrglob_exp_cfg_file, pcrglob_exp_cfg_dir = pcrglob_exp_model.setup(\n",
    "    start_date = experiment_start_date, \n",
    "    end_date = experiment_end_date)\n",
    "\n",
    "pcrglob_exp_cfg_file, pcrglob_exp_cfg_dir"
   ]
  },
  {
   "cell_type": "markdown",
   "metadata": {},
   "source": [
    "### changing the configuration of the model for the experiment\n",
    "For this experiment we want PCRGlobWB to use a different `landmasp`, ie. a map that the model uses to identify which part of the earth within the `clonemap` needs to be modelled. In the changed landmask we have removed the Moselle sub-basin from the Rhine basin. Since PCRGlobWB expects the landmask file to be in the `inputdir` location, we have to copy the changed landmask there. Note this only works when users have write access on the inputdir location, which is not per se true on all infrastructure. "
   ]
  },
  {
   "cell_type": "code",
   "execution_count": 21,
   "metadata": {},
   "outputs": [
    {
     "name": "stdout",
     "output_type": "stream",
     "text": [
      "['globalOptions', 'meteoOptions', 'meteoDownscalingOptions', 'landSurfaceOptions', 'forestOptions', 'grasslandOptions', 'irrPaddyOptions', 'irrNonPaddyOptions', 'groundwaterOptions', 'routingOptions', 'reportingOptions']\n"
     ]
    }
   ],
   "source": [
    "config = configparser.ConfigParser()\n",
    "config.read(pcrglob_exp_cfg_file)\n",
    "print(config.sections())"
   ]
  },
  {
   "cell_type": "code",
   "execution_count": 22,
   "metadata": {},
   "outputs": [
    {
     "name": "stdout",
     "output_type": "stream",
     "text": [
      "outputdir\n",
      "inputdir\n",
      "clonemap\n",
      "landmask\n",
      "institution\n",
      "title\n",
      "description\n",
      "starttime\n",
      "endtime\n",
      "maxspinupsinyears\n",
      "minconvforsoilsto\n",
      "minconvforgwatsto\n",
      "minconvforchansto\n",
      "minconvfortotlsto\n"
     ]
    }
   ],
   "source": [
    "for key in config['globalOptions']:\n",
    "    print(key)"
   ]
  },
  {
   "cell_type": "code",
   "execution_count": 23,
   "metadata": {},
   "outputs": [
    {
     "name": "stdout",
     "output_type": "stream",
     "text": [
      "/mnt/data/parameter-sets/pcrglobwb_global\n",
      "global_05min/cloneMaps/rhine_05min.map\n"
     ]
    }
   ],
   "source": [
    "print(config['globalOptions']['inputdir'])\n",
    "print(config['globalOptions']['landmask'])"
   ]
  },
  {
   "cell_type": "code",
   "execution_count": 25,
   "metadata": {},
   "outputs": [
    {
     "ename": "PermissionError",
     "evalue": "[Errno 13] Permission denied: '/mnt/data/parameter-sets/pcrglobwb_global/no_moselle_landmask_05min_rhine.map'",
     "output_type": "error",
     "traceback": [
      "\u001b[0;31m---------------------------------------------------------------------------\u001b[0m",
      "\u001b[0;31mPermissionError\u001b[0m                           Traceback (most recent call last)",
      "\u001b[0;32m<ipython-input-25-be2afbce4971>\u001b[0m in \u001b[0;36m<module>\u001b[0;34m\u001b[0m\n\u001b[0;32m----> 1\u001b[0;31m \u001b[0mcopyfile\u001b[0m\u001b[0;34m(\u001b[0m\u001b[0mexperimentLandMaskLocation\u001b[0m \u001b[0;34m+\u001b[0m \u001b[0;34m\"/\"\u001b[0m \u001b[0;34m+\u001b[0m \u001b[0mexperimentLandMaskName\u001b[0m\u001b[0;34m,\u001b[0m \u001b[0mconfig\u001b[0m\u001b[0;34m[\u001b[0m\u001b[0;34m'globalOptions'\u001b[0m\u001b[0;34m]\u001b[0m\u001b[0;34m[\u001b[0m\u001b[0;34m'inputdir'\u001b[0m\u001b[0;34m]\u001b[0m \u001b[0;34m+\u001b[0m \u001b[0;34m\"/\"\u001b[0m \u001b[0;34m+\u001b[0m \u001b[0mexperimentLandMaskName\u001b[0m\u001b[0;34m)\u001b[0m\u001b[0;34m\u001b[0m\u001b[0;34m\u001b[0m\u001b[0m\n\u001b[0m",
      "\u001b[0;32m/mnt/apps/conda/envs/ewatercycle/lib/python3.7/shutil.py\u001b[0m in \u001b[0;36mcopyfile\u001b[0;34m(src, dst, follow_symlinks)\u001b[0m\n\u001b[1;32m    119\u001b[0m     \u001b[0;32melse\u001b[0m\u001b[0;34m:\u001b[0m\u001b[0;34m\u001b[0m\u001b[0;34m\u001b[0m\u001b[0m\n\u001b[1;32m    120\u001b[0m         \u001b[0;32mwith\u001b[0m \u001b[0mopen\u001b[0m\u001b[0;34m(\u001b[0m\u001b[0msrc\u001b[0m\u001b[0;34m,\u001b[0m \u001b[0;34m'rb'\u001b[0m\u001b[0;34m)\u001b[0m \u001b[0;32mas\u001b[0m \u001b[0mfsrc\u001b[0m\u001b[0;34m:\u001b[0m\u001b[0;34m\u001b[0m\u001b[0;34m\u001b[0m\u001b[0m\n\u001b[0;32m--> 121\u001b[0;31m             \u001b[0;32mwith\u001b[0m \u001b[0mopen\u001b[0m\u001b[0;34m(\u001b[0m\u001b[0mdst\u001b[0m\u001b[0;34m,\u001b[0m \u001b[0;34m'wb'\u001b[0m\u001b[0;34m)\u001b[0m \u001b[0;32mas\u001b[0m \u001b[0mfdst\u001b[0m\u001b[0;34m:\u001b[0m\u001b[0;34m\u001b[0m\u001b[0;34m\u001b[0m\u001b[0m\n\u001b[0m\u001b[1;32m    122\u001b[0m                 \u001b[0mcopyfileobj\u001b[0m\u001b[0;34m(\u001b[0m\u001b[0mfsrc\u001b[0m\u001b[0;34m,\u001b[0m \u001b[0mfdst\u001b[0m\u001b[0;34m)\u001b[0m\u001b[0;34m\u001b[0m\u001b[0;34m\u001b[0m\u001b[0m\n\u001b[1;32m    123\u001b[0m     \u001b[0;32mreturn\u001b[0m \u001b[0mdst\u001b[0m\u001b[0;34m\u001b[0m\u001b[0;34m\u001b[0m\u001b[0m\n",
      "\u001b[0;31mPermissionError\u001b[0m: [Errno 13] Permission denied: '/mnt/data/parameter-sets/pcrglobwb_global/no_moselle_landmask_05min_rhine.map'"
     ]
    }
   ],
   "source": [
    "copyfile(experimentLandMaskLocation + \"/\" + experimentLandMaskName, config['globalOptions']['inputdir'] + \"/\" + experimentLandMaskName)"
   ]
  },
  {
   "cell_type": "code",
   "execution_count": 26,
   "metadata": {},
   "outputs": [],
   "source": [
    "config['globalOptions']['clonemap'] = experimentLandMaskName\n",
    "with open(pcrglob_exp_cfg_file,\"w\") as f:\n",
    "    config.write(f)"
   ]
  },
  {
   "cell_type": "code",
   "execution_count": 27,
   "metadata": {},
   "outputs": [
    {
     "ename": "_InactiveRpcError",
     "evalue": "<_InactiveRpcError of RPC that terminated with:\n\tstatus = StatusCode.UNKNOWN\n\tdetails = \"Exception calling application: 'inputDir'\"\n\tdebug_error_string = \"{\"created\":\"@1630076939.767142818\",\"description\":\"Error received from peer ipv6:[::1]:60443\",\"file\":\"src/core/lib/surface/call.cc\",\"file_line\":1067,\"grpc_message\":\"Exception calling application: 'inputDir'\",\"grpc_status\":2}\"\n>",
     "output_type": "error",
     "traceback": [
      "\u001b[0;31m---------------------------------------------------------------------------\u001b[0m",
      "\u001b[0;31m_InactiveRpcError\u001b[0m                         Traceback (most recent call last)",
      "\u001b[0;32m<ipython-input-27-aa14f8a426a6>\u001b[0m in \u001b[0;36m<module>\u001b[0;34m\u001b[0m\n\u001b[1;32m      4\u001b[0m \u001b[0;34m\u001b[0m\u001b[0m\n\u001b[1;32m      5\u001b[0m \u001b[0;31m# Initialize using the custom setting file\u001b[0m\u001b[0;34m\u001b[0m\u001b[0;34m\u001b[0m\u001b[0;34m\u001b[0m\u001b[0m\n\u001b[0;32m----> 6\u001b[0;31m \u001b[0mpcrglob_exp_model\u001b[0m\u001b[0;34m.\u001b[0m\u001b[0minitialize\u001b[0m\u001b[0;34m(\u001b[0m\u001b[0mpcrglob_exp_cfg_file\u001b[0m\u001b[0;34m)\u001b[0m\u001b[0;34m\u001b[0m\u001b[0;34m\u001b[0m\u001b[0m\n\u001b[0m",
      "\u001b[0;32m/mnt/apps/conda/envs/ewatercycle/lib/python3.7/site-packages/ewatercycle/models/abstract.py\u001b[0m in \u001b[0;36minitialize\u001b[0;34m(self, config_file)\u001b[0m\n\u001b[1;32m     80\u001b[0m \u001b[0;34m\u001b[0m\u001b[0m\n\u001b[1;32m     81\u001b[0m         \"\"\"\n\u001b[0;32m---> 82\u001b[0;31m         \u001b[0mself\u001b[0m\u001b[0;34m.\u001b[0m\u001b[0mbmi\u001b[0m\u001b[0;34m.\u001b[0m\u001b[0minitialize\u001b[0m\u001b[0;34m(\u001b[0m\u001b[0mconfig_file\u001b[0m\u001b[0;34m)\u001b[0m\u001b[0;34m\u001b[0m\u001b[0;34m\u001b[0m\u001b[0m\n\u001b[0m\u001b[1;32m     83\u001b[0m \u001b[0;34m\u001b[0m\u001b[0m\n\u001b[1;32m     84\u001b[0m     \u001b[0;32mdef\u001b[0m \u001b[0mfinalize\u001b[0m\u001b[0;34m(\u001b[0m\u001b[0mself\u001b[0m\u001b[0;34m)\u001b[0m \u001b[0;34m->\u001b[0m \u001b[0;32mNone\u001b[0m\u001b[0;34m:\u001b[0m\u001b[0;34m\u001b[0m\u001b[0;34m\u001b[0m\u001b[0m\n",
      "\u001b[0;32m/mnt/apps/conda/envs/ewatercycle/lib/python3.7/site-packages/grpc4bmi/bmi_grpc_client.py\u001b[0m in \u001b[0;36minitialize\u001b[0;34m(self, filename)\u001b[0m\n\u001b[1;32m     60\u001b[0m         \u001b[0;32massert\u001b[0m \u001b[0mcheck_argument_types\u001b[0m\u001b[0;34m(\u001b[0m\u001b[0;34m)\u001b[0m\u001b[0;34m\u001b[0m\u001b[0;34m\u001b[0m\u001b[0m\n\u001b[1;32m     61\u001b[0m         \u001b[0mfname\u001b[0m \u001b[0;34m=\u001b[0m \u001b[0;34m\"\"\u001b[0m \u001b[0;32mif\u001b[0m \u001b[0mfilename\u001b[0m \u001b[0;32mis\u001b[0m \u001b[0;32mNone\u001b[0m \u001b[0;32melse\u001b[0m \u001b[0mfilename\u001b[0m\u001b[0;34m\u001b[0m\u001b[0;34m\u001b[0m\u001b[0m\n\u001b[0;32m---> 62\u001b[0;31m         \u001b[0mself\u001b[0m\u001b[0;34m.\u001b[0m\u001b[0mstub\u001b[0m\u001b[0;34m.\u001b[0m\u001b[0minitialize\u001b[0m\u001b[0;34m(\u001b[0m\u001b[0mbmi_pb2\u001b[0m\u001b[0;34m.\u001b[0m\u001b[0mInitializeRequest\u001b[0m\u001b[0;34m(\u001b[0m\u001b[0mconfig_file\u001b[0m\u001b[0;34m=\u001b[0m\u001b[0mfname\u001b[0m\u001b[0;34m)\u001b[0m\u001b[0;34m)\u001b[0m\u001b[0;34m\u001b[0m\u001b[0;34m\u001b[0m\u001b[0m\n\u001b[0m\u001b[1;32m     63\u001b[0m \u001b[0;34m\u001b[0m\u001b[0m\n\u001b[1;32m     64\u001b[0m     \u001b[0;32mdef\u001b[0m \u001b[0mupdate\u001b[0m\u001b[0;34m(\u001b[0m\u001b[0mself\u001b[0m\u001b[0;34m)\u001b[0m\u001b[0;34m:\u001b[0m\u001b[0;34m\u001b[0m\u001b[0;34m\u001b[0m\u001b[0m\n",
      "\u001b[0;32m/mnt/apps/conda/envs/ewatercycle/lib/python3.7/site-packages/grpc/_channel.py\u001b[0m in \u001b[0;36m__call__\u001b[0;34m(self, request, timeout, metadata, credentials, wait_for_ready, compression)\u001b[0m\n\u001b[1;32m    921\u001b[0m         state, call, = self._blocking(request, timeout, metadata, credentials,\n\u001b[1;32m    922\u001b[0m                                       wait_for_ready, compression)\n\u001b[0;32m--> 923\u001b[0;31m         \u001b[0;32mreturn\u001b[0m \u001b[0m_end_unary_response_blocking\u001b[0m\u001b[0;34m(\u001b[0m\u001b[0mstate\u001b[0m\u001b[0;34m,\u001b[0m \u001b[0mcall\u001b[0m\u001b[0;34m,\u001b[0m \u001b[0;32mFalse\u001b[0m\u001b[0;34m,\u001b[0m \u001b[0;32mNone\u001b[0m\u001b[0;34m)\u001b[0m\u001b[0;34m\u001b[0m\u001b[0;34m\u001b[0m\u001b[0m\n\u001b[0m\u001b[1;32m    924\u001b[0m \u001b[0;34m\u001b[0m\u001b[0m\n\u001b[1;32m    925\u001b[0m     def with_call(self,\n",
      "\u001b[0;32m/mnt/apps/conda/envs/ewatercycle/lib/python3.7/site-packages/grpc/_channel.py\u001b[0m in \u001b[0;36m_end_unary_response_blocking\u001b[0;34m(state, call, with_call, deadline)\u001b[0m\n\u001b[1;32m    824\u001b[0m             \u001b[0;32mreturn\u001b[0m \u001b[0mstate\u001b[0m\u001b[0;34m.\u001b[0m\u001b[0mresponse\u001b[0m\u001b[0;34m\u001b[0m\u001b[0;34m\u001b[0m\u001b[0m\n\u001b[1;32m    825\u001b[0m     \u001b[0;32melse\u001b[0m\u001b[0;34m:\u001b[0m\u001b[0;34m\u001b[0m\u001b[0;34m\u001b[0m\u001b[0m\n\u001b[0;32m--> 826\u001b[0;31m         \u001b[0;32mraise\u001b[0m \u001b[0m_InactiveRpcError\u001b[0m\u001b[0;34m(\u001b[0m\u001b[0mstate\u001b[0m\u001b[0;34m)\u001b[0m\u001b[0;34m\u001b[0m\u001b[0;34m\u001b[0m\u001b[0m\n\u001b[0m\u001b[1;32m    827\u001b[0m \u001b[0;34m\u001b[0m\u001b[0m\n\u001b[1;32m    828\u001b[0m \u001b[0;34m\u001b[0m\u001b[0m\n",
      "\u001b[0;31m_InactiveRpcError\u001b[0m: <_InactiveRpcError of RPC that terminated with:\n\tstatus = StatusCode.UNKNOWN\n\tdetails = \"Exception calling application: 'inputDir'\"\n\tdebug_error_string = \"{\"created\":\"@1630076939.767142818\",\"description\":\"Error received from peer ipv6:[::1]:60443\",\"file\":\"src/core/lib/surface/call.cc\",\"file_line\":1067,\"grpc_message\":\"Exception calling application: 'inputDir'\",\"grpc_status\":2}\"\n>"
     ]
    }
   ],
   "source": [
    "#################### PK: alternatively to using a custom cfg file, you can fiddle with the settings here. \n",
    "# The land mask map is already present in the parameter set on our Jupyter machine, but that's not really FAIR. \n",
    "# Alternatively, you can ship it with the repo. In that case, also make sure to move the custom landuse map to the cfg directory so the container can see it\n",
    "\n",
    "# Initialize using the custom setting file\n",
    "pcrglob_exp_model.initialize(pcrglob_exp_cfg_file)"
   ]
  },
  {
   "cell_type": "code",
   "execution_count": 29,
   "metadata": {},
   "outputs": [],
   "source": [
    "pcrglob_exp_model.finalize()"
   ]
  },
  {
   "cell_type": "code",
   "execution_count": 28,
   "metadata": {},
   "outputs": [],
   "source": [
    "pcrglob_ref_model.finalize()"
   ]
  },
  {
   "cell_type": "markdown",
   "metadata": {},
   "source": [
    "### Import GRDC observations\n",
    "\n",
    "Read the GRDC data for the period of the experiment, for the station given above."
   ]
  },
  {
   "cell_type": "code",
   "execution_count": null,
   "metadata": {},
   "outputs": [],
   "source": [
    "observations_df, metadata = ewatercycle.observation.grdc.get_grdc_data(\n",
    "    station_id,\n",
    "    start_time=start_date,\n",
    "    end_time=end_date,\n",
    ")\n",
    "grdc_obs = observations_df.rename(columns={\"streamflow\": \"Observations from GRDC\"})\n",
    "grdc_lon = metadata[\"grdc_longitude_in_arc_degree\"]\n",
    "grdc_lat = metadata[\"grdc_latitude_in_arc_degree\"]"
   ]
  },
  {
   "cell_type": "markdown",
   "metadata": {},
   "source": [
    "The GRDC station in the PCRGlobWB grid is one pixel below the river. So we correct the location."
   ]
  },
  {
   "cell_type": "code",
   "execution_count": null,
   "metadata": {},
   "outputs": [],
   "source": [
    "gridded_grdc_lat = grdc_lat - 0.05\n",
    "gridded_grdc_lon = grdc_lon"
   ]
  },
  {
   "cell_type": "markdown",
   "metadata": {},
   "source": [
    "## Running the experiment\n",
    "With all pieces in place, we can now start to run the actual experiment. Each timestep first the reference model (PCRGlobWB 2.0 with the Moselle) is run and it's output stored. Subsequently, MARRMoT is run, it's output is stored and it is added to the experiment model (PCRGlobWB 2.0 without the Moselle). Than, finally, the experiment model is run for one timestep, it's output stored and we go on to the next timestep."
   ]
  },
  {
   "cell_type": "code",
   "execution_count": null,
   "metadata": {},
   "outputs": [],
   "source": [
    "# Create variables needed during the experiment run\n",
    "time_range = []\n",
    "pcrglob_ref_output = []\n",
    "pcrglob_exp_output = []\n",
    "marrmot_output = []"
   ]
  },
  {
   "cell_type": "code",
   "execution_count": null,
   "metadata": {},
   "outputs": [],
   "source": [
    "print(f\"Running experiment\", flush=True)\n",
    "\n",
    "# the experiment model is used as central 'time keeper'\n",
    "while pcrglob_exp_model.time < pcrglob_exp_model.end_time:\n",
    "    print(f\"Current time: {pcrglob_exp_model.time_as_isostr}\", end=\"\\r\")\n",
    "    time_range.append(pcrglob_exp_model.time_as_datetime.date())\n",
    "\n",
    "    # run the reference model for one timestep, store the output at grdc station\n",
    "    pcrglob_ref_model.update()\n",
    "    pcrglob_ref_discharge = pcrglob_ref_model.get_value_at_coords(\n",
    "        \"discharge\", lat=[gridded_grdc_lat], lon=[gridded_grdc_lon]\n",
    "    )[0]\n",
    "    pcrglob_ref_output.append(pcrglob_ref_discharge)\n",
    "\n",
    "    # run MARRMoT and store the output, note that MARRMoT output is in mm!\n",
    "    marrmot_model.update()\n",
    "    marrmot_output.append(marrmot_model.get_value(marrmot_output_variable)[0])\n",
    "\n",
    "    # add the output of MARRMoT to PCRGlob Experiment model. Note that channel storage\n",
    "    # is in m3, while MARRMoT output is in mm, so we need to convert\n",
    "    water_to_add_to_pcrglob = marrmot_output[-1] * moselle_area / 1000  \n",
    "    current_value_in_pcrglob = pcrglob_exp_model.get_value_at_coords(\n",
    "        \"channel_storage\", lat=[lat_moselle_mouth], lon=[lon_moselle_mouth]\n",
    "    )\n",
    "    value_to_set_in_pcrglob = water_to_add_to_pcrglob + current_value_in_pcrglob\n",
    "    pcrglob_exp_model.set_value_at_coords(\n",
    "        \"channel_storage\",\n",
    "        lat=[lat_moselle_mouth],\n",
    "        lon=[lon_moselle_mouth],\n",
    "        values=value_to_set_in_pcrglob,\n",
    "    )\n",
    "\n",
    "    # Run the experiment PCRGlobWB model one timestep, store the output at grdc station\n",
    "    pcrglob_exp_model.update()\n",
    "    pcrglob_exp_discharge = pcrglob_exp_model.get_value_at_coords(\n",
    "        \"discharge\", lat=[gridded_grdc_lat], lon=[gridded_grdc_lon]\n",
    "    )[0]\n",
    "    pcrglob_exp_output.append(pcrglob_exp_discharge)\n",
    "\n",
    "print(\"\")"
   ]
  },
  {
   "cell_type": "code",
   "execution_count": null,
   "metadata": {},
   "outputs": [],
   "source": [
    "# Capture all discharge of last timestep of experiment\n",
    "data_exp_last = pcrglob_exp_model.get_value_as_xarray(\"discharge\")"
   ]
  },
  {
   "cell_type": "markdown",
   "metadata": {},
   "source": [
    "### clean up after the model run\n",
    "The models have to be 'finalized', which deletes any temporary files and the containers have to be shut down."
   ]
  },
  {
   "cell_type": "code",
   "execution_count": null,
   "metadata": {},
   "outputs": [],
   "source": [
    "pcrglob_ref_model.finalize()"
   ]
  },
  {
   "cell_type": "code",
   "execution_count": null,
   "metadata": {},
   "outputs": [],
   "source": [
    "pcrglob_exp_model.finalize()"
   ]
  },
  {
   "cell_type": "code",
   "execution_count": null,
   "metadata": {},
   "outputs": [],
   "source": [
    "marrmot_model.finalize()"
   ]
  },
  {
   "cell_type": "markdown",
   "metadata": {},
   "source": [
    "Combine values of each time step into single dataset"
   ]
  },
  {
   "cell_type": "code",
   "execution_count": null,
   "metadata": {},
   "outputs": [],
   "source": [
    "data_exp_at_grdc_location = pd.DataFrame(\n",
    "    {\"PCRGlobWB Moselle replaced by MARRMoT-m01\": pcrglob_exp_output},\n",
    "    index=pd.to_datetime(time_range),\n",
    ")\n",
    "data_ref_at_grdc_location = pd.DataFrame(\n",
    "    {\"PCRGlobWB normal\": pcrglob_ref_output}, index=pd.to_datetime(time_range)\n",
    ")"
   ]
  },
  {
   "cell_type": "code",
   "execution_count": null,
   "metadata": {},
   "outputs": [],
   "source": [
    "# Store results on disk\n",
    "data_exp_at_grdc_location.to_csv(pcrglob_exp_cfg_dir + '/data_exp.csv')\n",
    "data_ref_at_grdc_location.to_csv(pcrglob_Ref_cfg_dir + '/data_ref.csv')\n",
    "data_exp_last.to_netcdf(pcrglob_exp_cfg_dir + '/data_exp_last.nc')"
   ]
  },
  {
   "cell_type": "code",
   "execution_count": null,
   "metadata": {},
   "outputs": [],
   "source": [
    "# Retrieve results from disk when models are run in seperate session, adjust paths to previous run\n",
    "# data_exp_at_grdc_location = pd.read_csv('/mnt/home/user36/temp/Case1/pcrglobwb_20210426_100036/data_exp.csv', index_col=0, parse_dates=True)\n",
    "# data_ref_at_grdc_location = pd.read_csv('/mnt/home/user36/temp/Case1/pcrglobwb_20210426_095636/data_ref.csv', index_col=0, parse_dates=True)\n",
    "# data_exp_last = xr.open_dataset('/mnt/home/user36/temp/Case1/pcrglobwb_20210426_100036//data_exp_last.nc')"
   ]
  },
  {
   "cell_type": "markdown",
   "metadata": {},
   "source": [
    "## Plot the results"
   ]
  },
  {
   "cell_type": "markdown",
   "metadata": {},
   "source": [
    "First we draw a map of the discharge at the final timestep of the model run. We add a blue dot at the location of the GRDC observation gauge and we add the shape of the Moselle sub-basin as well."
   ]
  },
  {
   "cell_type": "code",
   "execution_count": null,
   "metadata": {},
   "outputs": [],
   "source": [
    "# Use matplotlib to make the figure slightly nicer\n",
    "fig = plt.figure(dpi=120)\n",
    "ax = fig.add_subplot(111, projection=crs.PlateCarree())\n",
    "\n",
    "# Add the mosell catchment to the map\n",
    "ax.add_feature(\n",
    "    cfeature.ShapelyFeature(\n",
    "        shape.geometries(),\n",
    "        crs.PlateCarree(),\n",
    "        edgecolor=\"green\",\n",
    "        facecolor=\"none\",\n",
    "    )\n",
    ")\n",
    "\n",
    "# Plotting the model field is a one-liner\n",
    "data_exp_last.plot(ax=ax, cmap=\"GnBu\", robust=True)\n",
    "\n",
    "# Also plot the station location\n",
    "ax.scatter(grdc_lon, grdc_lat, s=25, c=\"b\")\n",
    "# TODO plot the grid cell of model for which hydrograph is made\n",
    "# ax.scatter(model_longitude, model_latitude, s=25, c='r')\n",
    "\n",
    "# Overlay ocean and coastines\n",
    "ax.add_feature(cfeature.OCEAN, zorder=2)\n",
    "ax.coastlines(zorder=3)\n",
    "fig.savefig(f\"pcrglobwb_RolfTestRhine_discharge_map\", bbox_inches=\"tight\", dpi=300)"
   ]
  },
  {
   "cell_type": "code",
   "execution_count": null,
   "metadata": {},
   "outputs": [],
   "source": [
    "# Combine timeseries of ERA-Interim, ERA5 and GRDC observations in a pandas dataframe\n",
    "df = data_exp_at_grdc_location.join(data_ref_at_grdc_location).join(grdc_obs)"
   ]
  },
  {
   "cell_type": "code",
   "execution_count": null,
   "metadata": {},
   "outputs": [],
   "source": [
    "ewatercycle.analysis.hydrograph(\n",
    "    discharge=df,\n",
    "    reference=\"Observations from GRDC\",\n",
    "    filename=\"case2CouplingModels\",\n",
    ")"
   ]
  }
 ],
 "metadata": {
  "kernelspec": {
   "display_name": "Python 3",
   "language": "python",
   "name": "python3"
  },
  "language_info": {
   "codemirror_mode": {
    "name": "ipython",
    "version": 3
   },
   "file_extension": ".py",
   "mimetype": "text/x-python",
   "name": "python",
   "nbconvert_exporter": "python",
   "pygments_lexer": "ipython3",
   "version": "3.7.7"
  }
 },
 "nbformat": 4,
 "nbformat_minor": 4
}
