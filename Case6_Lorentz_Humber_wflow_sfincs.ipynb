{
 "cells": [
  {
   "cell_type": "markdown",
   "id": "f1d91883-4258-4eee-81e7-8d62fd938646",
   "metadata": {},
   "source": [
    "# PseudoCode Lorentz Workshop eWaterCycle\n",
    "This notebook shows the type of tutorial notebook we want to present to the participants of the Lorentz workshop"
   ]
  },
  {
   "cell_type": "code",
   "execution_count": null,
   "id": "9a99a912-82ff-40cd-88c4-93ad8f594f3a",
   "metadata": {},
   "outputs": [],
   "source": [
    "from ewatercycle.models import WflowJl, Sfincs\n",
    "from ewatercycle.base.forcing import DefaultForcing\n",
    "from ewatercycle.base.parameter_set import ParameterSet\n",
    "from ewatercycle.observation.grdc import get_grdc_data"
   ]
  },
  {
   "cell_type": "markdown",
   "id": "88a85529-1986-4da1-9dfe-4b4aa66f9496",
   "metadata": {},
   "source": [
    "# Case study: Humber\n",
    "We present a coupling of a hydrologic and a hydrodynamic model with data prepared for the Humber estuary as a working workflow to start our workshop with. This will be the base we use to develop other use cases / workflows."
   ]
  },
  {
   "cell_type": "code",
   "execution_count": null,
   "id": "17be0689-7750-41af-abbe-51742d245e50",
   "metadata": {},
   "outputs": [],
   "source": [
    "#some additional settings, \n",
    "experiment_start_date = \"1990-01-01T00:00:00Z\"\n",
    "experiment_end_date = \"2000-12-31T00:00:00Z\""
   ]
  },
  {
   "cell_type": "code",
   "execution_count": null,
   "id": "83ef68d0-07e1-4410-a51b-20d758930b7a",
   "metadata": {},
   "outputs": [],
   "source": [
    "shapefile = \"/some/location/humber.shp\"\n",
    "grcd_station_id = \"12345\"\n",
    "\n",
    "discharge_observation, _ = get_grdc_data(\n",
    "    grcd_station_id,\n",
    "    start_time=experiment_start_date,\n",
    "    end_time=experiment_end_date,\n",
    ")"
   ]
  },
  {
   "cell_type": "code",
   "execution_count": 3,
   "id": "e2692251-90d6-452a-baf7-ed8b689185d1",
   "metadata": {},
   "outputs": [],
   "source": [
    "#some settings on how the coupling is achieved\n",
    "discharge_coupling_locations = {\n",
    "    \"locationName1\": {\"lat\": 1.32532153, \"lon\": 52.1351345},\n",
    "    \"locationName2\": {\"lat\": 0.32532153, \"lon\": 51.1641345},\n",
    "}\n",
    "\n",
    "lats = [val[\"lat\"] for _, val in discharge_coupling_locations.items()]\n",
    "lons = [val[\"lons\"] for _, val in discharge_coupling_locations.items()]"
   ]
  },
  {
   "cell_type": "markdown",
   "id": "5075d5d7-eb63-4316-b2c5-66d345c44824",
   "metadata": {},
   "source": [
    "Create forcing (ie. temperature and rainfall data) for the hydrological model"
   ]
  },
  {
   "cell_type": "code",
   "execution_count": null,
   "id": "093d3d6f-c614-473d-980a-8d6757009caf",
   "metadata": {},
   "outputs": [],
   "source": [
    "#we already prepared a forcing file, which we can load with this command. The forcing was generated using this commented code.\n",
    "\n",
    "#experiment_forcing = ewatercycle.forcing.generate(\n",
    "#    target_model='wflowjl', \n",
    "#    dataset=\"ERA5\"\n",
    "#    start_time=experiment_start_date,\n",
    "#    end_time=experiment_end_date, \n",
    "#    shape=shapefile, \n",
    "#)\n",
    "\n",
    "wflow_humber_forcing = DefaultForcing.load(\"location of prepared forcing data\")\n",
    "sfincs_humber_forcing = DefaultForcing.load(\"location of prepared forcing data\")"
   ]
  },
  {
   "cell_type": "markdown",
   "id": "80ac3e4d-cfff-4976-ad95-7754308ef62d",
   "metadata": {},
   "source": [
    "Each model needs parameters sets. Often the combination of model and parameter set is actually what is called \"model\". At Deltares, the combination of parameters for the humber and the wflow model would be called the \"wflow humber model\". In the context of eWaterCycle, we decided to call this a model instance, to make a distinction between the model as a piece of software and the model instance as a combination of model and data."
   ]
  },
  {
   "cell_type": "code",
   "execution_count": null,
   "id": "330c9fbf-0d41-4bd6-9a88-6c5b7b77fd81",
   "metadata": {},
   "outputs": [],
   "source": [
    "#The WFlow parameter set for the humber is derived using the HydroMT software made by Deltares.\n",
    "wflow_humber_parameters = ParameterSet(\n",
    "    name=\"wflow-humber\",\n",
    "    directory=\"location of wflow humber parameters\",\n",
    "    config=\"dir/config.yaml\"\n",
    ")\n",
    "\n",
    "#The Sfincs parameter set is prepared by Tycho and given to us\n",
    "sfincs_humber_parameters = ParameterSet(\n",
    "    name=\"sfincs-humber\",\n",
    "    directory=\"location of wflow humber parameters\",\n",
    "    config=\"dir/config.yaml\"\n",
    ")"
   ]
  },
  {
   "cell_type": "markdown",
   "id": "ddfec122-7f32-448b-a818-9548b8a0a359",
   "metadata": {},
   "source": [
    "Create the model instances and initialize the models"
   ]
  },
  {
   "cell_type": "code",
   "execution_count": null,
   "id": "ab2c3481-aab0-49f5-ab7d-a7afe42f7e06",
   "metadata": {},
   "outputs": [],
   "source": [
    "hydrologicModel = WflowJl(\n",
    "    version=\"valid_version_nr\",  # ewatercycle.models.WflowJl.available_versions\n",
    "    forcing=wflow_humber_forcing,\n",
    "    parameter_set=wflow_humber_parameters\n",
    ")"
   ]
  },
  {
   "cell_type": "code",
   "execution_count": null,
   "id": "d82ec06e-bd38-49e6-a856-b399b7b179a2",
   "metadata": {},
   "outputs": [],
   "source": [
    "hydrodynamicModel = Sfincs(\n",
    "    version=\"valid_version_nr\",  # ewatercycle.models.Sfincs.available_versions\n",
    "    forcing=sfincs_humber_forcing,\n",
    "    parameter_set=sfincs_humber_parameters\n",
    ")"
   ]
  },
  {
   "cell_type": "code",
   "execution_count": null,
   "id": "3d8033b1-82c1-4098-b6ee-a6ed486ed38a",
   "metadata": {},
   "outputs": [],
   "source": [
    "hydrologic_cfg_file, hydrologic_cfg_dir = hydrologicModel.setup()"
   ]
  },
  {
   "cell_type": "code",
   "execution_count": null,
   "id": "f43adea8-d73e-4d0f-ae41-00f05a727664",
   "metadata": {},
   "outputs": [],
   "source": [
    "hydrodynamic_cfg_file, hydrodynamic_cfg_dir = hydrodynamicModel.setup()"
   ]
  },
  {
   "cell_type": "code",
   "execution_count": null,
   "id": "933140cd-6594-468d-82f9-ae4932927a08",
   "metadata": {},
   "outputs": [],
   "source": [
    "hydrologicModel.initialize(hydrologic_cfg_file)"
   ]
  },
  {
   "cell_type": "code",
   "execution_count": null,
   "id": "4cc33300-68ed-4d86-89a8-9f33b435b4bd",
   "metadata": {},
   "outputs": [],
   "source": [
    "hydrodynamicModel.initialize(hydrodynamic_cfg_file)"
   ]
  },
  {
   "cell_type": "markdown",
   "id": "67c3e1bb-608a-42df-acfb-fcb98651dc8d",
   "metadata": {},
   "source": [
    "Get some info on the models so"
   ]
  },
  {
   "cell_type": "code",
   "execution_count": null,
   "id": "1ce9c13c-32fb-4db7-be85-58cc06ff7089",
   "metadata": {},
   "outputs": [],
   "source": [
    "print(hydrologicModel.get_output_vars())\n",
    "print(hydrologicModel.get_input_vars())\n",
    "print(hydrodynamicModel.get_output_vars())\n",
    "print(hydrodynamicModel.get_input_vars())"
   ]
  },
  {
   "cell_type": "markdown",
   "id": "0d359ebd-47b8-41b2-80ea-d2f3fc0cf1b8",
   "metadata": {},
   "source": [
    "### Run models & capture output\n",
    "This is the main loop of an eWaterCycle experiment. As long as the time variable of the model has not surpassed the end time of the experiment, `model.update()` runs a single timestep of a model. the `simulated_output` and `timestamps` arrays are filled with the calculated output of interest and timestamps respectivly using `model.get_value()` and `model.time`.\n",
    "\n",
    "Coupling is achieved by taking the values of 'discharge' from the hydrologic model at certain locations and setting them using the `model.set_value_at_ind()` function into the hydrodynamic model."
   ]
  },
  {
   "cell_type": "code",
   "execution_count": null,
   "id": "0b388929-cee4-4c21-ad06-18959677d8c6",
   "metadata": {},
   "outputs": [],
   "source": [
    "simulated_output = []\n",
    "timestamps = []\n",
    "\n",
    "while (hydrologicModel.time < hydrologicModel.end_time):\n",
    "\n",
    "    # update the hydrological model. The order of updating and exchanging information is \n",
    "    # very dependent on the definition of the information exchanged. Here it is assumed that\n",
    "    # the discharge calculated by the hydrological model represents the average discharge over the timestep just\n",
    "    # finished. This is given to the hydrodynamic model as (upstream) boundary condition\n",
    "    hydrologicModel.update()\n",
    "\n",
    "    #get discharge from hydrological model at the locations of interest\n",
    "    #NOTE: the name of the variable is made up!\n",
    "    exchange_items = hydrologicModel.get_value_at_coords(\n",
    "        \"discharge\",\n",
    "        lat=lats,\n",
    "        lon=lons,\n",
    "    )\n",
    "    #set the boundary condition value in the hydrodynamic model.\n",
    "    #NOTE: the name of the variable is made up!\n",
    "    hydrodynamicModel.set_value_at_coords(\n",
    "        \"upstreamDischarge\", \n",
    "        lat=lats,\n",
    "        lon=lons,\n",
    "        values=exchange_items,\n",
    "    )\n",
    "\n",
    "    #update the hydrodynamic model. Because we don't assume that the models run the same timestep, we use \n",
    "    #model.update_until()\n",
    "\n",
    "    hydrodynamicModel.update_until(hydrologicModel.time)\n",
    "\n",
    "    #get output of interest from the hydrdynamic model\n",
    "    \n",
    "    timestamps.append(hydrodynamicModel.time)\n",
    "    simulated_output.append(hydrodynamicModel.get_value(\"varOfInterest\"))"
   ]
  },
  {
   "cell_type": "markdown",
   "id": "8196c1f2-dee5-494f-aef0-ac66c9ece9fa",
   "metadata": {},
   "source": [
    "The `timestamps` and `simulated_output` variables are now filled with datetime values and outputs for each simulated day."
   ]
  },
  {
   "cell_type": "markdown",
   "id": "429083e0-1ff7-4335-a54a-e71df0796ccf",
   "metadata": {},
   "source": [
    "### Clean up after the model run\n",
    "The models have to be 'finalized', which deletes any temporary files and the containers have to be shut down."
   ]
  },
  {
   "cell_type": "code",
   "execution_count": null,
   "id": "b3f3d76b-7827-4dd3-b494-b7d9aad18122",
   "metadata": {},
   "outputs": [],
   "source": [
    "hydrodynamicModel.finalize()\n",
    "hydrologicModel.finalize()"
   ]
  },
  {
   "cell_type": "markdown",
   "id": "8d693523-9c1c-40ae-b2e1-7bff7b0064c8",
   "metadata": {},
   "source": [
    "### Plot the results\n",
    "\n",
    "Combine simulated and observated discharge into a single dataframe"
   ]
  },
  {
   "cell_type": "code",
   "execution_count": null,
   "id": "4f5bbe1f-1c03-4f32-bf5c-f49fdeab998b",
   "metadata": {},
   "outputs": [],
   "source": [
    "import pandas as pd\n",
    "\n",
    "simulated_output_df = pd.DataFrame(\n",
    "    {'simulation': simulated_output}, index=pd.to_datetime(timestamps)\n",
    ")\n",
    "simulated_output_df.plot()\n",
    "discharge_observation.plot()"
   ]
  }
 ],
 "metadata": {
  "kernelspec": {
   "display_name": "Python 3 (ipykernel)",
   "language": "python",
   "name": "python3"
  },
  "language_info": {
   "codemirror_mode": {
    "name": "ipython",
    "version": 3
   },
   "file_extension": ".py",
   "mimetype": "text/x-python",
   "name": "python",
   "nbconvert_exporter": "python",
   "pygments_lexer": "ipython3",
   "version": "3.10.0"
  }
 },
 "nbformat": 4,
 "nbformat_minor": 5
}
