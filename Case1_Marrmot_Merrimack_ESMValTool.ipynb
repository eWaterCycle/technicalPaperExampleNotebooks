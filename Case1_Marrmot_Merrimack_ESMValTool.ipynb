{
 "cells": [
  {
   "cell_type": "markdown",
   "id": "21172754",
   "metadata": {},
   "source": [
    "![image](https://github.com/eWaterCycle/ewatercycle/raw/main/docs/examples/logo.png)"
   ]
  },
  {
   "cell_type": "markdown",
   "id": "93accdcc",
   "metadata": {},
   "source": [
    "# Case study 1: Hello world. Generate forcings and run Marrmot model\n",
    "\n",
    "This notebook demostractes how to use a model in eWatercycle by showing how to run a model for a particular catchment and a particular set of forcing data (ERA5). This notebook also contains the steps for the preprocessing of the forcing data into model specific datasets using ESMValTool.\n",
    "\n",
    "The model used in this notebook is: [MARRMoT](https://github.com/wknoben/MARRMoT) M01 (traditional bucket) (Knoben et al 2019, [10.5194/gmd-12-2463-2019](https://doi.org/10.5194/gmd-12-2463-2019)). MARRMoT is a suite of hydrological models and the chosen M01 model is the most simple model within it: it represents the entire catchment as a traditional single bucket. \n",
    "\n",
    "The catchment chosen as an example is the Merrimack. This model is too simple for the basin used as example and uncalibrated on top of that: this notebook is purely intended to demonstrate how to run a model and generate forcing data. It is not intended as an accurate simulations of discharge in this given basin, which is covered in the other, more complex, case study notebooks in this repository.\n",
    "\n",
    "Furthermore, this notebook shows that a model written in a language other than Python (in this case: Matlab) can still be run from a Jupyter notebook within eWaterCycle."
   ]
  },
  {
   "cell_type": "markdown",
   "id": "a412f061",
   "metadata": {},
   "source": [
    "### Import statements\n",
    "We'll be using the following modules"
   ]
  },
  {
   "cell_type": "code",
   "execution_count": 1,
   "id": "b0e00c93",
   "metadata": {},
   "outputs": [
    {
     "name": "stdout",
     "output_type": "stream",
     "text": [
      "Generating new fontManager, this may take some time...\n"
     ]
    }
   ],
   "source": [
    "import warnings\n",
    "warnings.filterwarnings(\"ignore\", category=UserWarning)\n",
    "\n",
    "import logging\n",
    "logger_esmvalcore = logging.getLogger('esmvalcore')\n",
    "logger_esmvalcore.setLevel(logging.WARNING)\n",
    "\n",
    "import pandas as pd\n",
    "from cartopy.io import shapereader\n",
    "\n",
    "import ewatercycle.forcing\n",
    "import ewatercycle.models\n",
    "import ewatercycle.analysis\n",
    "import ewatercycle.observation.grdc"
   ]
  },
  {
   "cell_type": "markdown",
   "id": "554b8621",
   "metadata": {},
   "source": [
    "### Experiment settings\n",
    "\n",
    "Discharge of the Merrimack river will be modelled for 1991. MARRMoT requires spinup, so 1990 is used to spin-up the model"
   ]
  },
  {
   "cell_type": "code",
   "execution_count": 2,
   "id": "7ceef35f",
   "metadata": {},
   "outputs": [],
   "source": [
    "forcing_dataset_name = \"ERA5\"\n",
    "spinup_start_date = \"1990-01-01T00:00:00Z\"\n",
    "spinup_end_date = \"1990-12-31T00:00:00Z\"\n",
    "experiment_start_date = \"1991-01-01T00:00:00Z\"\n",
    "experiment_end_date = \"1991-12-31T00:00:00Z\"\n",
    "shapefile = \"settingFiles/Merrimack.shp\"\n",
    "\n",
    "# GRDC observation station for Merrimack river\n",
    "grdc_station_id = \"4147380\""
   ]
  },
  {
   "cell_type": "markdown",
   "id": "5ee1ba70",
   "metadata": {},
   "source": [
    "### Model specific settings\n",
    "The maximum soil moisture storage is the only parameter in this simple model. Normally this parameter would be calibrated using a combination of forcing and observation data. Calibration of a model is shown in another notebook in this repository. In this notebook the focus is on showing how to run a model. \n",
    "\n",
    "Many models use different names for the same phenomena, in this case river discharge. Here we specify what the 'internal' name is for our variable of interest."
   ]
  },
  {
   "cell_type": "code",
   "execution_count": 3,
   "id": "d7747178",
   "metadata": {},
   "outputs": [],
   "source": [
    "# Values based on previous calibration\n",
    "experiment_maximum_soil_moisture_storage = 1999.0\n",
    "experiment_initial_soil_moisture_storage = 0.9 * experiment_maximum_soil_moisture_storage\n",
    "\n",
    "discharge_variable = \"flux_out_Q\"\n",
    "# flux_out_Q unit conversion factor from mm/day to m3/s\n",
    "conversion_mmday2m3s = 1 / (1000 * 86400)"
   ]
  },
  {
   "cell_type": "markdown",
   "id": "afbab3ae",
   "metadata": {},
   "source": [
    "### Pre processing model forcing using ESMValTool\n",
    "ESMValTool (Righi et. al. 2020, [https://doi.org/10.5194/gmd-13-1179-2020](https://doi.org/10.5194/gmd-13-1179-2020)) is used to pre-process climate forcing data into model specific input data. See the article (link in readme file) for more details on ESMValTool. The cell below shows how the eWaterCycle platform does most of the heavy lifting and users only specify information relevant to their experiment."
   ]
  },
  {
   "cell_type": "code",
   "execution_count": 4,
   "id": "51c1b658",
   "metadata": {
    "tags": []
   },
   "outputs": [
    {
     "name": "stdout",
     "output_type": "stream",
     "text": [
      "{'auxiliary_data_dir': PosixPath('/mnt/data/climate-data/aux'),\n",
      " 'compress_netcdf': False,\n",
      " 'config_developer_file': None,\n",
      " 'config_file': PosixPath('/home/rhut/.esmvaltool/config-user.yml'),\n",
      " 'drs': {'CMIP5': 'default', 'CORDEX': 'default', 'OBS': 'default'},\n",
      " 'exit_on_warning': False,\n",
      " 'extra_facets_dir': (),\n",
      " 'log_level': 'info',\n",
      " 'max_parallel_tasks': None,\n",
      " 'output_dir': PosixPath('/home/rhut/technicalPaperExampleNotebooks/esmvaltool_output/recipe_marrmot_20210927_134127'),\n",
      " 'output_file_type': 'png',\n",
      " 'plot_dir': PosixPath('/home/rhut/technicalPaperExampleNotebooks/esmvaltool_output/recipe_marrmot_20210927_134127/plots'),\n",
      " 'preproc_dir': PosixPath('/home/rhut/technicalPaperExampleNotebooks/esmvaltool_output/recipe_marrmot_20210927_134127/preproc'),\n",
      " 'profile_diagnostic': False,\n",
      " 'remove_preproc_dir': False,\n",
      " 'rootpath': {'OBS6': [PosixPath('/mnt/data/climate-data/obs6')],\n",
      "              'default': [PosixPath('/mnt/data/climate-data')]},\n",
      " 'run_dir': PosixPath('/home/rhut/technicalPaperExampleNotebooks/esmvaltool_output/recipe_marrmot_20210927_134127/run'),\n",
      " 'save_intermediary_cubes': False,\n",
      " 'work_dir': PosixPath('/home/rhut/technicalPaperExampleNotebooks/esmvaltool_output/recipe_marrmot_20210927_134127/work')}\n",
      "Shapefile /home/rhut/technicalPaperExampleNotebooks/settingFiles/Merrimack.shp is not in forcing directory /home/rhut/technicalPaperExampleNotebooks/esmvaltool_output/recipe_marrmot_20210927_134127/work/diagnostic_daily/script. So, it won't be saved in /home/rhut/technicalPaperExampleNotebooks/esmvaltool_output/recipe_marrmot_20210927_134127/work/diagnostic_daily/script/ewatercycle_forcing.yaml.\n"
     ]
    }
   ],
   "source": [
    "experiment_forcing = ewatercycle.forcing.generate(\n",
    "    target_model='marrmot', \n",
    "    dataset=forcing_dataset_name, #ie. \"ERA5\"\n",
    "    start_time=spinup_start_date,\n",
    "    end_time=experiment_end_date, \n",
    "    shape=shapefile, #ie. the shape of the Merrimack basin\n",
    ")"
   ]
  },
  {
   "cell_type": "markdown",
   "id": "b2561944",
   "metadata": {
    "tags": []
   },
   "source": [
    "Forcing is written in a single Matlab file"
   ]
  },
  {
   "cell_type": "code",
   "execution_count": 5,
   "id": "83d6b4fd",
   "metadata": {},
   "outputs": [
    {
     "name": "stdout",
     "output_type": "stream",
     "text": [
      "eWaterCycle forcing\n",
      "-------------------\n",
      "start_time=1990-01-01T00:00:00Z\n",
      "end_time=1991-12-31T00:00:00Z\n",
      "directory=/home/rhut/technicalPaperExampleNotebooks/esmvaltool_output/recipe_marrmot_20210927_134127/work/diagnostic_daily/script\n",
      "shape=/home/rhut/technicalPaperExampleNotebooks/settingFiles/Merrimack.shp\n",
      "forcing_file=marrmot_ERA5_Merrimack_1990_1991.mat\n"
     ]
    }
   ],
   "source": [
    "print(experiment_forcing)"
   ]
  },
  {
   "cell_type": "markdown",
   "id": "f1c46b27",
   "metadata": {},
   "source": [
    "### Derived constants\n",
    "MARRMoT works with expressing all hydrological fluxes in mm/s and stores in mm. This makes sense from the perspective of the model builders original purpose with MARRMoT: to easily compare different model structures on different regions. However, when comparing the predicted river discharge to observations measured in m3/s, the area of the basin is needed. This is derived from the shapefile in the cell below. "
   ]
  },
  {
   "cell_type": "code",
   "execution_count": 6,
   "id": "5e2b0035",
   "metadata": {},
   "outputs": [
    {
     "name": "stdout",
     "output_type": "stream",
     "text": [
      "The catchment area is: 13016500000.0\n"
     ]
    }
   ],
   "source": [
    "shape = shapereader.Reader(experiment_forcing.shape)\n",
    "record = next(shape.records())\n",
    "merrimack_area = record.attributes[\"SUB_AREA\"] * 1e6\n",
    "print(\"The catchment area is:\", merrimack_area)"
   ]
  },
  {
   "cell_type": "markdown",
   "id": "4002ba30",
   "metadata": {},
   "source": [
    "### Setting up the model object\n",
    "\n",
    "To use a hydrological model, supported by ewatercycle, an object from its class must be instantiated. Information on the versions of models can be queried as shown below:"
   ]
  },
  {
   "cell_type": "code",
   "execution_count": 7,
   "id": "564402a9",
   "metadata": {},
   "outputs": [
    {
     "data": {
      "text/plain": [
       "('2020.11',)"
      ]
     },
     "execution_count": 7,
     "metadata": {},
     "output_type": "execute_result"
    }
   ],
   "source": [
    "ewatercycle.models.MarrmotM01.available_versions"
   ]
  },
  {
   "cell_type": "markdown",
   "id": "ba428256-1a0c-4f83-8eb0-b7bd60275b38",
   "metadata": {},
   "source": [
    "subsequently a model object is created:"
   ]
  },
  {
   "cell_type": "code",
   "execution_count": 8,
   "id": "26f62da4",
   "metadata": {},
   "outputs": [
    {
     "name": "stdout",
     "output_type": "stream",
     "text": [
      "eWaterCycle MarrmotM01\n",
      "-------------------\n",
      "Version = 2020.11\n",
      "Parameter set = \n",
      "  None\n",
      "Forcing = \n",
      "  eWaterCycle forcing\n",
      "  -------------------\n",
      "  start_time=1990-01-01T00:00:00Z\n",
      "  end_time=1991-12-31T00:00:00Z\n",
      "  directory=/home/rhut/technicalPaperExampleNotebooks/esmvaltool_output/recipe_marrmot_20210927_134127/work/diagnostic_daily/script\n",
      "  shape=/home/rhut/technicalPaperExampleNotebooks/settingFiles/Merrimack.shp\n",
      "  forcing_file=marrmot_ERA5_Merrimack_1990_1991.mat\n"
     ]
    }
   ],
   "source": [
    "model = ewatercycle.models.MarrmotM01(version='2020.11', forcing=experiment_forcing)\n",
    "print(model)"
   ]
  },
  {
   "cell_type": "markdown",
   "id": "8d91ae21",
   "metadata": {},
   "source": [
    "Create config file and start up container for Marrmot"
   ]
  },
  {
   "cell_type": "code",
   "execution_count": 9,
   "id": "7b862f10",
   "metadata": {},
   "outputs": [
    {
     "name": "stdout",
     "output_type": "stream",
     "text": [
      "Running /mnt/data/singularity-images/ewatercycle-marrmot-grpc4bmi_2020.11.sif singularity container on port 58539\n",
      "/home/rhut/technicalPaperExampleNotebooks/ewatercycle_output/marrmot_20210927_134916/marrmot-m01_config.mat\n",
      "/home/rhut/technicalPaperExampleNotebooks/ewatercycle_output/marrmot_20210927_134916\n"
     ]
    }
   ],
   "source": [
    "cfg_file, cfg_dir = model.setup(\n",
    "    # No need to specifiy start and end date, using dates from forcing\n",
    "    maximum_soil_moisture_storage=experiment_maximum_soil_moisture_storage,\n",
    "    initial_soil_moisture_storage=experiment_initial_soil_moisture_storage,\n",
    ")\n",
    "print(cfg_file)\n",
    "print(cfg_dir)"
   ]
  },
  {
   "cell_type": "code",
   "execution_count": 10,
   "id": "b5da4787",
   "metadata": {},
   "outputs": [],
   "source": [
    "model.initialize(cfg_file)"
   ]
  },
  {
   "cell_type": "markdown",
   "id": "9e26f4bc",
   "metadata": {},
   "source": [
    "Spin up for a year"
   ]
  },
  {
   "cell_type": "code",
   "execution_count": 11,
   "id": "93f058cf",
   "metadata": {},
   "outputs": [],
   "source": [
    "while (model.time_as_isostr < spinup_end_date):\n",
    "    model.update()"
   ]
  },
  {
   "cell_type": "markdown",
   "id": "bf7db734",
   "metadata": {},
   "source": [
    "### Run model & capture discharge\n",
    "This is the main loop of an eWaterCycle experiment. As long as the time variable of the model has not surpassed the end time of the experiment, `model.update()` runs a single timestep of the model. the `simulated_discharge` and `timestamps` arrays are filled with the calculated discharge and timestamps respectivly using the `model.get_value()` and `model.time_as_datetime.date()` functions. "
   ]
  },
  {
   "cell_type": "code",
   "execution_count": 12,
   "id": "6822b99a",
   "metadata": {},
   "outputs": [],
   "source": [
    "simulated_discharge = []\n",
    "timestamps = []\n",
    "\n",
    "while (model.time < model.end_time):\n",
    "    model.update()\n",
    "    timestamps.append(model.time_as_datetime.date())\n",
    "    # Marrmot M01 is a lumped model, so only single value is returned\n",
    "    value_in_mmday = model.get_value(discharge_variable)[0]\n",
    "    # Convert from mm/day to m3/s\n",
    "    value = value_in_mmday * merrimack_area * conversion_mmday2m3s\n",
    "    simulated_discharge.append(value)"
   ]
  },
  {
   "cell_type": "markdown",
   "id": "08136f76",
   "metadata": {},
   "source": [
    "The `timestamps` and `simulated_discharge` variables are now filled with datetime values and discharges for each simulated day."
   ]
  },
  {
   "cell_type": "markdown",
   "id": "507c82f8",
   "metadata": {},
   "source": [
    "### Clean up after the model run\n",
    "The models have to be 'finalized', which deletes any temporary files and the containers have to be shut down."
   ]
  },
  {
   "cell_type": "code",
   "execution_count": 13,
   "id": "e8c99679",
   "metadata": {},
   "outputs": [],
   "source": [
    "model.finalize()"
   ]
  },
  {
   "cell_type": "markdown",
   "id": "b5ce6cf5",
   "metadata": {},
   "source": [
    "### Import GRDC observations\n",
    "\n",
    "Read the GRDC data for the period of the experiment, for the station given above. \n",
    "If you are not on jupyter.ewatercycle.org or Cartesius, download the GRDC https://www.bafg.de/GRDC/EN/02_srvcs/21_tmsrs/riverdischarge_node.html and set the `grdc_location` field in `~/.config/.ewatercycle/ewatercycle.yaml` to your download location."
   ]
  },
  {
   "cell_type": "code",
   "execution_count": 14,
   "id": "e2eaedac",
   "metadata": {},
   "outputs": [
    {
     "name": "stdout",
     "output_type": "stream",
     "text": [
      "GRDC station 4147380 is selected. The river name is: MERRIMACK RIVER.The coordinates are: (42.6459, -71.2984).The catchment area in km2 is: 12004.7. There are 0 missing values during 1991-01-01T00:00:00Z_1991-12-31T00:00:00Z at this station. See the metadata for more information.\n"
     ]
    },
    {
     "data": {
      "text/html": [
       "<div>\n",
       "<style scoped>\n",
       "    .dataframe tbody tr th:only-of-type {\n",
       "        vertical-align: middle;\n",
       "    }\n",
       "\n",
       "    .dataframe tbody tr th {\n",
       "        vertical-align: top;\n",
       "    }\n",
       "\n",
       "    .dataframe thead th {\n",
       "        text-align: right;\n",
       "    }\n",
       "</style>\n",
       "<table border=\"1\" class=\"dataframe\">\n",
       "  <thead>\n",
       "    <tr style=\"text-align: right;\">\n",
       "      <th></th>\n",
       "      <th>streamflow</th>\n",
       "    </tr>\n",
       "    <tr>\n",
       "      <th>time</th>\n",
       "      <th></th>\n",
       "    </tr>\n",
       "  </thead>\n",
       "  <tbody>\n",
       "    <tr>\n",
       "      <th>1991-01-01</th>\n",
       "      <td>419.089</td>\n",
       "    </tr>\n",
       "    <tr>\n",
       "      <th>1991-01-02</th>\n",
       "      <td>396.435</td>\n",
       "    </tr>\n",
       "    <tr>\n",
       "      <th>1991-01-03</th>\n",
       "      <td>351.128</td>\n",
       "    </tr>\n",
       "    <tr>\n",
       "      <th>1991-01-04</th>\n",
       "      <td>328.475</td>\n",
       "    </tr>\n",
       "    <tr>\n",
       "      <th>1991-01-05</th>\n",
       "      <td>291.663</td>\n",
       "    </tr>\n",
       "    <tr>\n",
       "      <th>...</th>\n",
       "      <td>...</td>\n",
       "    </tr>\n",
       "    <tr>\n",
       "      <th>1991-12-27</th>\n",
       "      <td>217.190</td>\n",
       "    </tr>\n",
       "    <tr>\n",
       "      <th>1991-12-28</th>\n",
       "      <td>218.889</td>\n",
       "    </tr>\n",
       "    <tr>\n",
       "      <th>1991-12-29</th>\n",
       "      <td>223.136</td>\n",
       "    </tr>\n",
       "    <tr>\n",
       "      <th>1991-12-30</th>\n",
       "      <td>274.956</td>\n",
       "    </tr>\n",
       "    <tr>\n",
       "      <th>1991-12-31</th>\n",
       "      <td>348.297</td>\n",
       "    </tr>\n",
       "  </tbody>\n",
       "</table>\n",
       "<p>365 rows × 1 columns</p>\n",
       "</div>"
      ],
      "text/plain": [
       "            streamflow\n",
       "time                  \n",
       "1991-01-01     419.089\n",
       "1991-01-02     396.435\n",
       "1991-01-03     351.128\n",
       "1991-01-04     328.475\n",
       "1991-01-05     291.663\n",
       "...                ...\n",
       "1991-12-27     217.190\n",
       "1991-12-28     218.889\n",
       "1991-12-29     223.136\n",
       "1991-12-30     274.956\n",
       "1991-12-31     348.297\n",
       "\n",
       "[365 rows x 1 columns]"
      ]
     },
     "execution_count": 14,
     "metadata": {},
     "output_type": "execute_result"
    }
   ],
   "source": [
    "observations, metadata = ewatercycle.observation.grdc.get_grdc_data(\n",
    "    station_id=grdc_station_id,\n",
    "    start_time=experiment_start_date,\n",
    "    end_time=experiment_end_date,\n",
    ")\n",
    "observations"
   ]
  },
  {
   "cell_type": "markdown",
   "id": "ea43c984",
   "metadata": {},
   "source": [
    "### Plot the results\n",
    "\n",
    "Combine simulated and observated discharge into a single dataframe"
   ]
  },
  {
   "cell_type": "code",
   "execution_count": 15,
   "id": "b5a9f011",
   "metadata": {},
   "outputs": [
    {
     "data": {
      "text/html": [
       "<div>\n",
       "<style scoped>\n",
       "    .dataframe tbody tr th:only-of-type {\n",
       "        vertical-align: middle;\n",
       "    }\n",
       "\n",
       "    .dataframe tbody tr th {\n",
       "        vertical-align: top;\n",
       "    }\n",
       "\n",
       "    .dataframe thead th {\n",
       "        text-align: right;\n",
       "    }\n",
       "</style>\n",
       "<table border=\"1\" class=\"dataframe\">\n",
       "  <thead>\n",
       "    <tr style=\"text-align: right;\">\n",
       "      <th></th>\n",
       "      <th>simulation</th>\n",
       "      <th>observation</th>\n",
       "    </tr>\n",
       "  </thead>\n",
       "  <tbody>\n",
       "    <tr>\n",
       "      <th>1991-01-01</th>\n",
       "      <td>5.084034e+02</td>\n",
       "      <td>419.089</td>\n",
       "    </tr>\n",
       "    <tr>\n",
       "      <th>1991-01-02</th>\n",
       "      <td>1.961840e-11</td>\n",
       "      <td>396.435</td>\n",
       "    </tr>\n",
       "    <tr>\n",
       "      <th>1991-01-03</th>\n",
       "      <td>7.687303e-01</td>\n",
       "      <td>351.128</td>\n",
       "    </tr>\n",
       "    <tr>\n",
       "      <th>1991-01-04</th>\n",
       "      <td>5.596839e+01</td>\n",
       "      <td>328.475</td>\n",
       "    </tr>\n",
       "    <tr>\n",
       "      <th>1991-01-05</th>\n",
       "      <td>4.818502e-01</td>\n",
       "      <td>291.663</td>\n",
       "    </tr>\n",
       "    <tr>\n",
       "      <th>...</th>\n",
       "      <td>...</td>\n",
       "      <td>...</td>\n",
       "    </tr>\n",
       "    <tr>\n",
       "      <th>1991-12-27</th>\n",
       "      <td>1.722577e-11</td>\n",
       "      <td>217.190</td>\n",
       "    </tr>\n",
       "    <tr>\n",
       "      <th>1991-12-28</th>\n",
       "      <td>5.799224e+00</td>\n",
       "      <td>218.889</td>\n",
       "    </tr>\n",
       "    <tr>\n",
       "      <th>1991-12-29</th>\n",
       "      <td>1.689318e-11</td>\n",
       "      <td>223.136</td>\n",
       "    </tr>\n",
       "    <tr>\n",
       "      <th>1991-12-30</th>\n",
       "      <td>1.184942e+03</td>\n",
       "      <td>274.956</td>\n",
       "    </tr>\n",
       "    <tr>\n",
       "      <th>1991-12-31</th>\n",
       "      <td>8.337653e+02</td>\n",
       "      <td>348.297</td>\n",
       "    </tr>\n",
       "  </tbody>\n",
       "</table>\n",
       "<p>365 rows × 2 columns</p>\n",
       "</div>"
      ],
      "text/plain": [
       "              simulation  observation\n",
       "1991-01-01  5.084034e+02      419.089\n",
       "1991-01-02  1.961840e-11      396.435\n",
       "1991-01-03  7.687303e-01      351.128\n",
       "1991-01-04  5.596839e+01      328.475\n",
       "1991-01-05  4.818502e-01      291.663\n",
       "...                  ...          ...\n",
       "1991-12-27  1.722577e-11      217.190\n",
       "1991-12-28  5.799224e+00      218.889\n",
       "1991-12-29  1.689318e-11      223.136\n",
       "1991-12-30  1.184942e+03      274.956\n",
       "1991-12-31  8.337653e+02      348.297\n",
       "\n",
       "[365 rows x 2 columns]"
      ]
     },
     "execution_count": 15,
     "metadata": {},
     "output_type": "execute_result"
    }
   ],
   "source": [
    "simulated_discharge_df = pd.DataFrame(\n",
    "    {'simulation': simulated_discharge}, index=pd.to_datetime(timestamps)\n",
    ")\n",
    "observations_df = observations.rename(\n",
    "    columns={'streamflow': 'observation'}\n",
    ")\n",
    "discharge = simulated_discharge_df.join(observations_df)\n",
    "discharge"
   ]
  },
  {
   "cell_type": "code",
   "execution_count": 16,
   "id": "6ae81fd7",
   "metadata": {},
   "outputs": [
    {
     "data": {
      "text/plain": [
       "(<Figure size 720x720 with 2 Axes>,\n",
       " (<AxesSubplot:title={'center':'Hydrograph'}, ylabel='Discharge (m$^3$ s$^{-1}$)'>,\n",
       "  <AxesSubplot:>))"
      ]
     },
     "execution_count": 16,
     "metadata": {},
     "output_type": "execute_result"
    },
    {
     "data": {
      "image/png": "[encoded data removed]",
      "text/plain": [
       "<Figure size 720x720 with 2 Axes>"
      ]
     },
     "metadata": {
      "needs_background": "light"
     },
     "output_type": "display_data"
    }
   ],
   "source": [
    "ewatercycle.analysis.hydrograph(\n",
    "    discharge=discharge,\n",
    "    reference='observation', \n",
    "    filename ='figures/case1_HelloWorldHydrograph.png'\n",
    ")"
   ]
  },
  {
   "cell_type": "markdown",
   "id": "4c99fd04",
   "metadata": {},
   "source": [
    "## Disclaimer\n",
    "Obviously the results of this model run do not reflect the observed discharge: we are using a very simple, uncalibrated model for a large basin. This notebook is merely intended to show how to pre-process input data and run hydrological models on the eWaterCycle platform."
   ]
  }
 ],
 "metadata": {
  "kernelspec": {
   "display_name": "Python 3 (ipykernel)",
   "language": "python",
   "name": "python3"
  },
  "language_info": {
   "codemirror_mode": {
    "name": "ipython",
    "version": 3
   },
   "file_extension": ".py",
   "mimetype": "text/x-python",
   "name": "python",
   "nbconvert_exporter": "python",
   "pygments_lexer": "ipython3",
   "version": "3.9.7"
  }
 },
 "nbformat": 4,
 "nbformat_minor": 5
}
